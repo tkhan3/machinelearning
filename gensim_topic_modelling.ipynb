{
  "nbformat": 4,
  "nbformat_minor": 0,
  "metadata": {
    "colab": {
      "name": "gensim topic modelling.ipynb",
      "version": "0.3.2",
      "provenance": [],
      "include_colab_link": true
    },
    "kernelspec": {
      "name": "python3",
      "display_name": "Python 3"
    }
  },
  "cells": [
    {
      "cell_type": "markdown",
      "metadata": {
        "id": "view-in-github",
        "colab_type": "text"
      },
      "source": [
        "<a href=\"https://colab.research.google.com/github/tkhan3/machinelearning/blob/master/gensim_topic_modelling.ipynb\" target=\"_parent\"><img src=\"https://colab.research.google.com/assets/colab-badge.svg\" alt=\"Open In Colab\"/></a>"
      ]
    },
    {
      "metadata": {
        "id": "lsPFbDRV1xPA",
        "colab_type": "code",
        "colab": {
          "base_uri": "https://localhost:8080/",
          "height": 836
        },
        "outputId": "f276290e-3c29-4081-a452-4d2c9242cd3e"
      },
      "cell_type": "code",
      "source": [
        "!apt-get install -y -qq software-properties-common python-software-properties module-init-tools\n",
        "!add-apt-repository -y ppa:alessandro-strada/ppa 2>&1 > /dev/null\n",
        "!apt-get update -qq 2>&1 > /dev/null\n",
        "!apt-get -y install -qq google-drive-ocamlfuse fuse\n",
        "from google.colab import auth\n",
        "auth.authenticate_user()\n",
        "from oauth2client.client import GoogleCredentials\n",
        "creds = GoogleCredentials.get_application_default()\n",
        "import getpass\n",
        "!google-drive-ocamlfuse -headless -id={creds.client_id} -secret={creds.client_secret} < /dev/null 2>&1 | grep URL\n",
        "vcode = getpass.getpass()\n",
        "!echo {vcode} | google-drive-ocamlfuse -headless -id={creds.client_id} -secret={creds.client_secret}\n",
        "#import pandas as pd\n",
        "!google-drive-ocamlfuse drive\n",
        "!apt-get -qq install -y graphviz && pip install -q pydot\n",
        "!pip3 install seaborn==0.9.0\n",
        "import pydot\n",
        "!mkdir -p drive\n",
        "!google-drive-ocamlfuse drive\n",
        "!pip install sklearn_pandas"
      ],
      "execution_count": 1,
      "outputs": [
        {
          "output_type": "stream",
          "text": [
            "E: Package 'python-software-properties' has no installation candidate\n",
            "Selecting previously unselected package google-drive-ocamlfuse.\n",
            "(Reading database ... 131352 files and directories currently installed.)\n",
            "Preparing to unpack .../google-drive-ocamlfuse_0.7.1-0ubuntu3~ubuntu18.04.1_amd64.deb ...\n",
            "Unpacking google-drive-ocamlfuse (0.7.1-0ubuntu3~ubuntu18.04.1) ...\n",
            "Setting up google-drive-ocamlfuse (0.7.1-0ubuntu3~ubuntu18.04.1) ...\n",
            "Processing triggers for man-db (2.8.3-2ubuntu0.1) ...\n",
            "Please, open the following URL in a web browser: https://accounts.google.com/o/oauth2/auth?client_id=32555940559.apps.googleusercontent.com&redirect_uri=urn%3Aietf%3Awg%3Aoauth%3A2.0%3Aoob&scope=https%3A%2F%2Fwww.googleapis.com%2Fauth%2Fdrive&response_type=code&access_type=offline&approval_prompt=force\n",
            "··········\n",
            "Please, open the following URL in a web browser: https://accounts.google.com/o/oauth2/auth?client_id=32555940559.apps.googleusercontent.com&redirect_uri=urn%3Aietf%3Awg%3Aoauth%3A2.0%3Aoob&scope=https%3A%2F%2Fwww.googleapis.com%2Fauth%2Fdrive&response_type=code&access_type=offline&approval_prompt=force\n",
            "Please enter the verification code: Access token retrieved correctly.\n",
            "Error: Mountpoint drive should be an existing directory.\n",
            "Collecting seaborn==0.9.0\n",
            "\u001b[?25l  Downloading https://files.pythonhosted.org/packages/a8/76/220ba4420459d9c4c9c9587c6ce607bf56c25b3d3d2de62056efe482dadc/seaborn-0.9.0-py3-none-any.whl (208kB)\n",
            "\u001b[K    100% |████████████████████████████████| 215kB 24.4MB/s \n",
            "\u001b[?25hRequirement already satisfied: numpy>=1.9.3 in /usr/local/lib/python3.6/dist-packages (from seaborn==0.9.0) (1.14.6)\n",
            "Requirement already satisfied: scipy>=0.14.0 in /usr/local/lib/python3.6/dist-packages (from seaborn==0.9.0) (1.1.0)\n",
            "Requirement already satisfied: pandas>=0.15.2 in /usr/local/lib/python3.6/dist-packages (from seaborn==0.9.0) (0.22.0)\n",
            "Requirement already satisfied: matplotlib>=1.4.3 in /usr/local/lib/python3.6/dist-packages (from seaborn==0.9.0) (3.0.2)\n",
            "Requirement already satisfied: python-dateutil>=2 in /usr/local/lib/python3.6/dist-packages (from pandas>=0.15.2->seaborn==0.9.0) (2.5.3)\n",
            "Requirement already satisfied: pytz>=2011k in /usr/local/lib/python3.6/dist-packages (from pandas>=0.15.2->seaborn==0.9.0) (2018.9)\n",
            "Requirement already satisfied: pyparsing!=2.0.4,!=2.1.2,!=2.1.6,>=2.0.1 in /usr/local/lib/python3.6/dist-packages (from matplotlib>=1.4.3->seaborn==0.9.0) (2.3.1)\n",
            "Requirement already satisfied: kiwisolver>=1.0.1 in /usr/local/lib/python3.6/dist-packages (from matplotlib>=1.4.3->seaborn==0.9.0) (1.0.1)\n",
            "Requirement already satisfied: cycler>=0.10 in /usr/local/lib/python3.6/dist-packages (from matplotlib>=1.4.3->seaborn==0.9.0) (0.10.0)\n",
            "Requirement already satisfied: six>=1.5 in /usr/local/lib/python3.6/dist-packages (from python-dateutil>=2->pandas>=0.15.2->seaborn==0.9.0) (1.11.0)\n",
            "Requirement already satisfied: setuptools in /usr/local/lib/python3.6/dist-packages (from kiwisolver>=1.0.1->matplotlib>=1.4.3->seaborn==0.9.0) (40.8.0)\n",
            "Installing collected packages: seaborn\n",
            "  Found existing installation: seaborn 0.7.1\n",
            "    Uninstalling seaborn-0.7.1:\n",
            "      Successfully uninstalled seaborn-0.7.1\n",
            "Successfully installed seaborn-0.9.0\n"
          ],
          "name": "stdout"
        },
        {
          "output_type": "display_data",
          "data": {
            "application/vnd.colab-display-data+json": {
              "pip_warning": {
                "packages": [
                  "seaborn"
                ]
              }
            }
          },
          "metadata": {
            "tags": []
          }
        },
        {
          "output_type": "stream",
          "text": [
            "Collecting sklearn_pandas\n",
            "  Downloading https://files.pythonhosted.org/packages/1f/48/4e1461d828baf41d609efaa720d20090ac6ec346b5daad3c88e243e2207e/sklearn_pandas-1.8.0-py2.py3-none-any.whl\n",
            "Requirement already satisfied: numpy>=1.6.1 in /usr/local/lib/python3.6/dist-packages (from sklearn_pandas) (1.14.6)\n",
            "Requirement already satisfied: scikit-learn>=0.15.0 in /usr/local/lib/python3.6/dist-packages (from sklearn_pandas) (0.20.2)\n",
            "Requirement already satisfied: scipy>=0.14 in /usr/local/lib/python3.6/dist-packages (from sklearn_pandas) (1.1.0)\n",
            "Requirement already satisfied: pandas>=0.11.0 in /usr/local/lib/python3.6/dist-packages (from sklearn_pandas) (0.22.0)\n",
            "Requirement already satisfied: python-dateutil>=2 in /usr/local/lib/python3.6/dist-packages (from pandas>=0.11.0->sklearn_pandas) (2.5.3)\n",
            "Requirement already satisfied: pytz>=2011k in /usr/local/lib/python3.6/dist-packages (from pandas>=0.11.0->sklearn_pandas) (2018.9)\n",
            "Requirement already satisfied: six>=1.5 in /usr/local/lib/python3.6/dist-packages (from python-dateutil>=2->pandas>=0.11.0->sklearn_pandas) (1.11.0)\n",
            "Installing collected packages: sklearn-pandas\n",
            "Successfully installed sklearn-pandas-1.8.0\n"
          ],
          "name": "stdout"
        }
      ]
    },
    {
      "metadata": {
        "id": "D6Wva8Wl5Wng",
        "colab_type": "code",
        "colab": {}
      },
      "cell_type": "code",
      "source": [
        "import pandas as pd\n",
        "from datetime import datetime\n",
        "import seaborn as sns\n",
        "import os\n",
        "from os import chdir,listdir,path,getcwd\n",
        "from sys import argv,exit\n",
        "import pandas as pd\n",
        "import re\n",
        "#from mkl import *\n",
        "import numpy as np\n",
        "import pickle\n",
        "import datetime\n",
        "import timeit\n",
        "from collections import Counter\n",
        "from copy import deepcopy\n",
        "from math import floor,ceil\n",
        "from scipy.stats import gaussian_kde\n",
        "import os\n",
        "from sklearn.feature_extraction.text import TfidfVectorizer\n",
        "from sklearn.metrics import silhouette_samples,silhouette_score\n",
        "from sklearn.manifold import TSNE\n",
        "from sklearn.decomposition import TruncatedSVD\n",
        "from sklearn.cluster import KMeans\n",
        "from sklearn.metrics import silhouette_samples,silhouette_score\n",
        "import string"
      ],
      "execution_count": 0,
      "outputs": []
    },
    {
      "metadata": {
        "id": "91UtnRqV5aNN",
        "colab_type": "code",
        "colab": {
          "base_uri": "https://localhost:8080/",
          "height": 34
        },
        "outputId": "8532fdb2-9957-41cb-f7f1-b7eea9850f5b"
      },
      "cell_type": "code",
      "source": [
        "from keras.models import Model\n",
        "from keras.models import Sequential\n",
        "from keras.layers.core import Dense, Activation\n",
        "from keras.wrappers.scikit_learn import KerasClassifier\n",
        "from keras.layers import Dropout, Embedding, LSTM, MaxPooling1D, Flatten\n",
        "from keras.layers import Convolution1D, AveragePooling1D, Conv1D, Input, GlobalAveragePooling1D\n",
        "from keras.preprocessing.text import Tokenizer\n",
        "from keras.optimizers import Nadam, RMSprop\n",
        "from keras.utils.np_utils import to_categorical\n",
        "from keras.models import load_model"
      ],
      "execution_count": 3,
      "outputs": [
        {
          "output_type": "stream",
          "text": [
            "Using TensorFlow backend.\n"
          ],
          "name": "stderr"
        }
      ]
    },
    {
      "metadata": {
        "id": "CaJRc3aW5b-C",
        "colab_type": "code",
        "colab": {}
      },
      "cell_type": "code",
      "source": [
        "from keras.models import Model\n",
        "from keras.models import Sequential\n",
        "from keras.layers.core import Dense, Activation\n",
        "from keras.wrappers.scikit_learn import KerasClassifier\n",
        "from keras.layers import Dropout, Embedding, LSTM, MaxPooling1D, Flatten\n",
        "from keras.layers import Convolution1D, AveragePooling1D, Conv1D, Input, GlobalAveragePooling1D\n",
        "from keras.preprocessing.text import Tokenizer\n",
        "from keras.optimizers import Nadam, RMSprop\n",
        "from keras.utils.np_utils import to_categorical\n",
        "from keras.models import load_model"
      ],
      "execution_count": 0,
      "outputs": []
    },
    {
      "metadata": {
        "id": "M6hCwuF55d-q",
        "colab_type": "code",
        "colab": {}
      },
      "cell_type": "code",
      "source": [
        "from scipy.stats import gaussian_kde\n",
        "from statsmodels.nonparametric.kde import KDEUnivariate\n",
        "from sklearn.manifold import TSNE\n",
        "import colorsys"
      ],
      "execution_count": 0,
      "outputs": []
    },
    {
      "metadata": {
        "id": "yitrU_WU5jnC",
        "colab_type": "code",
        "colab": {}
      },
      "cell_type": "code",
      "source": [
        "import matplotlib.pyplot as plt\n",
        "import matplotlib.cm as cm\n",
        "import seaborn as sns\n",
        "import matplotlib.gridspec as gridspec\n",
        "import nltk"
      ],
      "execution_count": 0,
      "outputs": []
    },
    {
      "metadata": {
        "id": "CKxrMFwcB63z",
        "colab_type": "code",
        "colab": {
          "base_uri": "https://localhost:8080/",
          "height": 527
        },
        "outputId": "585f770c-1428-4b29-a998-13045f634326"
      },
      "cell_type": "code",
      "source": [
        "!pip install pyLDAvis"
      ],
      "execution_count": 14,
      "outputs": [
        {
          "output_type": "stream",
          "text": [
            "Collecting pyLDAvis\n",
            "\u001b[?25l  Downloading https://files.pythonhosted.org/packages/a5/3a/af82e070a8a96e13217c8f362f9a73e82d61ac8fff3a2561946a97f96266/pyLDAvis-2.1.2.tar.gz (1.6MB)\n",
            "\u001b[K    100% |████████████████████████████████| 1.6MB 15.3MB/s \n",
            "\u001b[?25hRequirement already satisfied: wheel>=0.23.0 in /usr/local/lib/python3.6/dist-packages (from pyLDAvis) (0.33.0)\n",
            "Requirement already satisfied: numpy>=1.9.2 in /usr/local/lib/python3.6/dist-packages (from pyLDAvis) (1.14.6)\n",
            "Requirement already satisfied: scipy>=0.18.0 in /usr/local/lib/python3.6/dist-packages (from pyLDAvis) (1.1.0)\n",
            "Requirement already satisfied: pandas>=0.17.0 in /usr/local/lib/python3.6/dist-packages (from pyLDAvis) (0.22.0)\n",
            "Requirement already satisfied: joblib>=0.8.4 in /usr/local/lib/python3.6/dist-packages (from pyLDAvis) (0.13.2)\n",
            "Requirement already satisfied: jinja2>=2.7.2 in /usr/local/lib/python3.6/dist-packages (from pyLDAvis) (2.10)\n",
            "Requirement already satisfied: numexpr in /usr/local/lib/python3.6/dist-packages (from pyLDAvis) (2.6.9)\n",
            "Requirement already satisfied: pytest in /usr/local/lib/python3.6/dist-packages (from pyLDAvis) (3.10.1)\n",
            "Requirement already satisfied: future in /usr/local/lib/python3.6/dist-packages (from pyLDAvis) (0.16.0)\n",
            "Collecting funcy (from pyLDAvis)\n",
            "  Downloading https://files.pythonhosted.org/packages/47/a4/204fa23012e913839c2da4514b92f17da82bf5fc8c2c3d902fa3fa3c6eec/funcy-1.11-py2.py3-none-any.whl\n",
            "Requirement already satisfied: pytz>=2011k in /usr/local/lib/python3.6/dist-packages (from pandas>=0.17.0->pyLDAvis) (2018.9)\n",
            "Requirement already satisfied: python-dateutil>=2 in /usr/local/lib/python3.6/dist-packages (from pandas>=0.17.0->pyLDAvis) (2.5.3)\n",
            "Requirement already satisfied: MarkupSafe>=0.23 in /usr/local/lib/python3.6/dist-packages (from jinja2>=2.7.2->pyLDAvis) (1.1.0)\n",
            "Requirement already satisfied: more-itertools>=4.0.0 in /usr/local/lib/python3.6/dist-packages (from pytest->pyLDAvis) (6.0.0)\n",
            "Requirement already satisfied: six>=1.10.0 in /usr/local/lib/python3.6/dist-packages (from pytest->pyLDAvis) (1.11.0)\n",
            "Requirement already satisfied: atomicwrites>=1.0 in /usr/local/lib/python3.6/dist-packages (from pytest->pyLDAvis) (1.3.0)\n",
            "Requirement already satisfied: setuptools in /usr/local/lib/python3.6/dist-packages (from pytest->pyLDAvis) (40.8.0)\n",
            "Requirement already satisfied: pluggy>=0.7 in /usr/local/lib/python3.6/dist-packages (from pytest->pyLDAvis) (0.8.1)\n",
            "Requirement already satisfied: py>=1.5.0 in /usr/local/lib/python3.6/dist-packages (from pytest->pyLDAvis) (1.7.0)\n",
            "Requirement already satisfied: attrs>=17.4.0 in /usr/local/lib/python3.6/dist-packages (from pytest->pyLDAvis) (18.2.0)\n",
            "Building wheels for collected packages: pyLDAvis\n",
            "  Building wheel for pyLDAvis (setup.py) ... \u001b[?25ldone\n",
            "\u001b[?25h  Stored in directory: /root/.cache/pip/wheels/98/71/24/513a99e58bb6b8465bae4d2d5e9dba8f0bef8179e3051ac414\n",
            "Successfully built pyLDAvis\n",
            "Installing collected packages: funcy, pyLDAvis\n",
            "Successfully installed funcy-1.11 pyLDAvis-2.1.2\n"
          ],
          "name": "stdout"
        }
      ]
    },
    {
      "metadata": {
        "id": "6aMNzS645prQ",
        "colab_type": "code",
        "colab": {}
      },
      "cell_type": "code",
      "source": [
        "%matplotlib inline"
      ],
      "execution_count": 0,
      "outputs": []
    },
    {
      "metadata": {
        "id": "RUm_Yei05tAS",
        "colab_type": "code",
        "colab": {}
      },
      "cell_type": "code",
      "source": [
        "import gensim"
      ],
      "execution_count": 0,
      "outputs": []
    },
    {
      "metadata": {
        "id": "r14lNw0QBfLW",
        "colab_type": "code",
        "colab": {
          "base_uri": "https://localhost:8080/",
          "height": 207
        },
        "outputId": "270177ae-2a31-4352-baaa-ba49b32c422a"
      },
      "cell_type": "code",
      "source": [
        "# Run in python console\n",
        "import nltk; nltk.download('stopwords')\n",
        "\n",
        "# Run in terminal or command prompt\n",
        "!python3 -m spacy download en"
      ],
      "execution_count": 12,
      "outputs": [
        {
          "output_type": "stream",
          "text": [
            "[nltk_data] Downloading package stopwords to /root/nltk_data...\n",
            "[nltk_data]   Unzipping corpora/stopwords.zip.\n",
            "Requirement already satisfied: en_core_web_sm==2.0.0 from https://github.com/explosion/spacy-models/releases/download/en_core_web_sm-2.0.0/en_core_web_sm-2.0.0.tar.gz#egg=en_core_web_sm==2.0.0 in /usr/local/lib/python3.6/dist-packages (2.0.0)\n",
            "\n",
            "\u001b[93m    Linking successful\u001b[0m\n",
            "    /usr/local/lib/python3.6/dist-packages/en_core_web_sm -->\n",
            "    /usr/local/lib/python3.6/dist-packages/spacy/data/en\n",
            "\n",
            "    You can now load the model via spacy.load('en')\n",
            "\n"
          ],
          "name": "stdout"
        }
      ]
    },
    {
      "metadata": {
        "id": "Uzz1Mh-dBk6n",
        "colab_type": "code",
        "colab": {}
      },
      "cell_type": "code",
      "source": [
        "import re\n",
        "import numpy as np\n",
        "import pandas as pd\n",
        "from pprint import pprint\n",
        "\n",
        "# Gensim\n",
        "import gensim\n",
        "import gensim.corpora as corpora\n",
        "from gensim.utils import simple_preprocess\n",
        "from gensim.models import CoherenceModel\n",
        "\n",
        "# spacy for lemmatization\n",
        "import spacy\n",
        "\n",
        "# Plotting tools\n",
        "import pyLDAvis\n",
        "import pyLDAvis.gensim  # don't skip this\n",
        "import matplotlib.pyplot as plt\n",
        "%matplotlib inline\n",
        "\n",
        "# Enable logging for gensim - optional\n",
        "import logging\n",
        "logging.basicConfig(format='%(asctime)s : %(levelname)s : %(message)s', level=logging.ERROR)\n",
        "\n",
        "import warnings\n",
        "warnings.filterwarnings(\"ignore\",category=DeprecationWarning)"
      ],
      "execution_count": 0,
      "outputs": []
    },
    {
      "metadata": {
        "id": "2252zo8qCA7L",
        "colab_type": "code",
        "colab": {}
      },
      "cell_type": "code",
      "source": [
        "# NLTK Stop words\n",
        "from nltk.corpus import stopwords\n",
        "stop_words = stopwords.words('english')\n",
        "#stop_words.extend(['from', 'subject', 're', 'edu', 'use'])"
      ],
      "execution_count": 0,
      "outputs": []
    },
    {
      "metadata": {
        "id": "dj5ERYZHCIBF",
        "colab_type": "code",
        "colab": {}
      },
      "cell_type": "code",
      "source": [
        "def clean_up(rec):\n",
        "  table = str.maketrans({key: None for key in string.punctuation})\n",
        "  rec = str(rec)\n",
        "  rec = rec.replace('\\\\n','').replace('\\\\r','')\n",
        "  rec = re.sub(r'[^a-zA-Z0-9\\.,;?<>/ ]',r'',rec)\n",
        "  #rec = re.sub(r'\\w*\\d\\w*', '', rec)\n",
        "  rec = rec.strip()\n",
        "  rec = re.sub(' +', ' ',rec)\n",
        "  rec = rec.translate(table)\n",
        "  rec = rec.lower()\n",
        "  return rec"
      ],
      "execution_count": 0,
      "outputs": []
    },
    {
      "metadata": {
        "id": "-O49ObD9CUcI",
        "colab_type": "code",
        "colab": {}
      },
      "cell_type": "code",
      "source": [
        "import os\n",
        "drive_path = 'drive/DL_COLAB/'\n",
        "\n",
        "TICKET_ANALYTICS_PATH = os.path.join(drive_path,\"text_analytics\",\"ticket_analysis\")\n",
        "\n",
        "def load_ticket_data(filename, file_path=TICKET_ANALYTICS_PATH):\n",
        "    csv_path = os.path.join(file_path, filename)\n",
        "    return pd.read_csv(csv_path,sep=\",\")"
      ],
      "execution_count": 0,
      "outputs": []
    },
    {
      "metadata": {
        "id": "88Bd7dfjCVuK",
        "colab_type": "code",
        "colab": {}
      },
      "cell_type": "code",
      "source": [
        "ticket_data_full = load_ticket_data(\"Telco_Apr-2016.csv\",TICKET_ANALYTICS_PATH)"
      ],
      "execution_count": 0,
      "outputs": []
    },
    {
      "metadata": {
        "id": "7eXMaepwCZuq",
        "colab_type": "code",
        "colab": {}
      },
      "cell_type": "code",
      "source": [
        "FIELDS = [\"Defect ID\",\"Title\",\"Problem Details\",\"Resolution Details\",\"Root Cause\"]"
      ],
      "execution_count": 0,
      "outputs": []
    },
    {
      "metadata": {
        "id": "cxw-44dsCb9N",
        "colab_type": "code",
        "colab": {}
      },
      "cell_type": "code",
      "source": [
        "ticket_data = ticket_data_full[FIELDS]"
      ],
      "execution_count": 0,
      "outputs": []
    },
    {
      "metadata": {
        "id": "TOgc78xwCdEE",
        "colab_type": "code",
        "colab": {}
      },
      "cell_type": "code",
      "source": [
        "problem_desc_list = ticket_data[['Problem Details']].values.tolist()"
      ],
      "execution_count": 0,
      "outputs": []
    },
    {
      "metadata": {
        "id": "yJWIBeW6Cfjr",
        "colab_type": "code",
        "colab": {}
      },
      "cell_type": "code",
      "source": [
        "problem_desc_cleanned = [clean_up(item) for item in problem_desc_list]"
      ],
      "execution_count": 0,
      "outputs": []
    },
    {
      "metadata": {
        "id": "kolm0tElCiYn",
        "colab_type": "code",
        "colab": {
          "base_uri": "https://localhost:8080/",
          "height": 190
        },
        "outputId": "5b4d8e88-d7fc-4edf-cff3-945b5d76f344"
      },
      "cell_type": "code",
      "source": [
        "problem_desc_cleanned[1:10]"
      ],
      "execution_count": 24,
      "outputs": [
        {
          "output_type": "execute_result",
          "data": {
            "text/plain": [
              "['reason and sub reason section not updated under auc004 and auc005 in dbrd v007',\n",
              " 'no functional requirements for auc003 dealer changes number of bulk receivers ba will add frs related to auc003',\n",
              " 'no functional requirements for auc005 dealer places upgrade order ba added frs covering auc005',\n",
              " 'should be automatically defaulting to all included when it is just going to general market right now',\n",
              " 'auc covering migration of properties to bulk is missing there are two functional requirements present but no auc ba listed them under deployment option after several discussions ba was convinced to add auc for that purpose',\n",
              " 'no auc nor functional requirements separation for fulfillment and nonfulfillment dealer activations ba agreed to add auc for nonfulfillment and fulfillment dealer receiver activation dws is uded to activate nonfulfillment fstp riocc and ivr are used for fulfillment dealer activations',\n",
              " 'confirmation letter codes not updated in cor v200',\n",
              " 'when attempting to upgrade the customer receive an error stating unable to generate offers request and am not able to view or move forward on processing upgrade account 71918880',\n",
              " 'warranty out offers are showing for the accounts with receiver activation date of more than 365 days source system transaction id 71844360005a0000004jpez031720161430009686278961x03ptqyd5wec']"
            ]
          },
          "metadata": {
            "tags": []
          },
          "execution_count": 24
        }
      ]
    },
    {
      "metadata": {
        "id": "eMBL-helCyMu",
        "colab_type": "code",
        "colab": {}
      },
      "cell_type": "code",
      "source": [
        "problem_desc_cleanned_df = pd.DataFrame(problem_desc_cleanned,columns=['Problem Details'])"
      ],
      "execution_count": 0,
      "outputs": []
    },
    {
      "metadata": {
        "id": "ykG_cnz0Ds8s",
        "colab_type": "code",
        "colab": {}
      },
      "cell_type": "code",
      "source": [
        "complete_text = ''.join(problem_desc_cleanned)"
      ],
      "execution_count": 0,
      "outputs": []
    },
    {
      "metadata": {
        "id": "P4renxvUDxgb",
        "colab_type": "code",
        "colab": {
          "base_uri": "https://localhost:8080/",
          "height": 68
        },
        "outputId": "45d3ff08-85a8-44c9-e4cf-f483bc12e212"
      },
      "cell_type": "code",
      "source": [
        "nltk.download('punkt')"
      ],
      "execution_count": 29,
      "outputs": [
        {
          "output_type": "stream",
          "text": [
            "[nltk_data] Downloading package punkt to /root/nltk_data...\n",
            "[nltk_data]   Unzipping tokenizers/punkt.zip.\n"
          ],
          "name": "stdout"
        },
        {
          "output_type": "execute_result",
          "data": {
            "text/plain": [
              "True"
            ]
          },
          "metadata": {
            "tags": []
          },
          "execution_count": 29
        }
      ]
    },
    {
      "metadata": {
        "id": "vK6C90XPDXJk",
        "colab_type": "code",
        "colab": {}
      },
      "cell_type": "code",
      "source": [
        "words = nltk.tokenize.word_tokenize(complete_text)"
      ],
      "execution_count": 0,
      "outputs": []
    },
    {
      "metadata": {
        "id": "qKDSL3_6C0I_",
        "colab_type": "code",
        "colab": {}
      },
      "cell_type": "code",
      "source": [
        "from nltk.corpus import stopwords\n",
        "stop = set(stopwords.words('english'))\n",
        "clean_word = [word for word in words if word not in stop]"
      ],
      "execution_count": 0,
      "outputs": []
    },
    {
      "metadata": {
        "id": "MXDnk3vsD40J",
        "colab_type": "code",
        "colab": {}
      },
      "cell_type": "code",
      "source": [
        "bigram = gensim.models.Phrases(clean_word, min_count=4, threshold=100) "
      ],
      "execution_count": 0,
      "outputs": []
    },
    {
      "metadata": {
        "id": "QUGen9ewEGO8",
        "colab_type": "code",
        "colab": {
          "base_uri": "https://localhost:8080/",
          "height": 51
        },
        "outputId": "53cdb6f1-772d-4ed7-9bdd-d29085e26162"
      },
      "cell_type": "code",
      "source": [
        "trigram = gensim.models.Phrases(bigram[clean_word], threshold=100)"
      ],
      "execution_count": 42,
      "outputs": [
        {
          "output_type": "stream",
          "text": [
            "/usr/local/lib/python3.6/dist-packages/gensim/models/phrases.py:598: UserWarning: For a faster implementation, use the gensim.models.phrases.Phraser class\n",
            "  warnings.warn(\"For a faster implementation, use the gensim.models.phrases.Phraser class\")\n"
          ],
          "name": "stderr"
        }
      ]
    },
    {
      "metadata": {
        "id": "QgFKxwJqEc25",
        "colab_type": "code",
        "colab": {}
      },
      "cell_type": "code",
      "source": [
        "# Faster way to get a sentence clubbed as a trigram/bigram\n",
        "bigram_mod = gensim.models.phrases.Phraser(bigram)\n",
        "trigram_mod = gensim.models.phrases.Phraser(trigram)"
      ],
      "execution_count": 0,
      "outputs": []
    },
    {
      "metadata": {
        "id": "CD51SxWqF6ZQ",
        "colab_type": "code",
        "colab": {}
      },
      "cell_type": "code",
      "source": [
        "# Define functions for stopwords, bigrams, trigrams and lemmatization\n",
        "def remove_stopwords(texts):\n",
        "    return [[word for word in simple_preprocess(str(doc)) if word not in stop_words] for doc in texts]\n",
        "\n",
        "def make_bigrams(texts):\n",
        "    return [bigram_mod[doc] for doc in texts]\n",
        "\n",
        "def make_trigrams(texts):\n",
        "    return [trigram_mod[bigram_mod[doc]] for doc in texts]\n",
        "\n",
        "def lemmatization(texts, allowed_postags=['NOUN', 'ADJ', 'VERB', 'ADV']):\n",
        "    \"\"\"https://spacy.io/api/annotation\"\"\"\n",
        "    texts_out = []\n",
        "    for sent in texts:\n",
        "        doc = nlp(\" \".join(sent)) \n",
        "        texts_out.append([token.lemma_ for token in doc if token.pos_ in allowed_postags])\n",
        "    return texts_out"
      ],
      "execution_count": 0,
      "outputs": []
    },
    {
      "metadata": {
        "id": "5UJ4eDb2F7f6",
        "colab_type": "code",
        "colab": {
          "base_uri": "https://localhost:8080/",
          "height": 34
        },
        "outputId": "e3952d67-b8c4-4c56-f2a2-71b9b8adb311"
      },
      "cell_type": "code",
      "source": [
        "# Remove Stop Words\n",
        "data_words_nostops = remove_stopwords(clean_word)\n",
        "\n",
        "# Form Bigrams\n",
        "data_words_bigrams = make_bigrams(data_words_nostops)\n",
        "\n",
        "# Initialize spacy 'en' model, keeping only tagger component (for efficiency)\n",
        "# python3 -m spacy download en\n",
        "nlp = spacy.load('en', disable=['parser', 'ner'])\n",
        "\n",
        "# Do lemmatization keeping only noun, adj, vb, adv\n",
        "data_lemmatized = lemmatization(data_words_bigrams, allowed_postags=['NOUN', 'ADJ', 'VERB', 'ADV'])\n",
        "\n",
        "print(data_lemmatized[:1])"
      ],
      "execution_count": 46,
      "outputs": [
        {
          "output_type": "stream",
          "text": [
            "[['step']]\n"
          ],
          "name": "stdout"
        }
      ]
    },
    {
      "metadata": {
        "id": "Y8UEATcCGCLc",
        "colab_type": "code",
        "colab": {
          "base_uri": "https://localhost:8080/",
          "height": 34
        },
        "outputId": "4fec4030-6e2c-4946-ec72-f250ba0eae8f"
      },
      "cell_type": "code",
      "source": [
        "# Create Dictionary\n",
        "id2word = corpora.Dictionary(data_lemmatized)\n",
        "\n",
        "# Create Corpus\n",
        "texts = data_lemmatized\n",
        "\n",
        "# Term Document Frequency\n",
        "corpus = [id2word.doc2bow(text) for text in texts]\n",
        "\n",
        "# View\n",
        "print(corpus[:1])"
      ],
      "execution_count": 47,
      "outputs": [
        {
          "output_type": "stream",
          "text": [
            "[[(0, 1)]]\n"
          ],
          "name": "stdout"
        }
      ]
    },
    {
      "metadata": {
        "id": "xw5uug5mGrwk",
        "colab_type": "code",
        "colab": {
          "base_uri": "https://localhost:8080/",
          "height": 34
        },
        "outputId": "b68092d9-d0b2-4165-e080-aae1c93e4f55"
      },
      "cell_type": "code",
      "source": [
        "id2word[0]"
      ],
      "execution_count": 48,
      "outputs": [
        {
          "output_type": "execute_result",
          "data": {
            "text/plain": [
              "'step'"
            ]
          },
          "metadata": {
            "tags": []
          },
          "execution_count": 48
        }
      ]
    },
    {
      "metadata": {
        "id": "lc39Kx9lGvK7",
        "colab_type": "code",
        "colab": {}
      },
      "cell_type": "code",
      "source": [
        "# Build LDA model\n",
        "lda_model = gensim.models.ldamodel.LdaModel(corpus=corpus,\n",
        "                                           id2word=id2word,\n",
        "                                           num_topics=5, \n",
        "                                           random_state=100,\n",
        "                                           update_every=1,\n",
        "                                           chunksize=100,\n",
        "                                           passes=10,\n",
        "                                           alpha='auto',\n",
        "                                           per_word_topics=True)"
      ],
      "execution_count": 0,
      "outputs": []
    },
    {
      "metadata": {
        "id": "6oH3mOj2G1Ng",
        "colab_type": "code",
        "colab": {
          "base_uri": "https://localhost:8080/",
          "height": 357
        },
        "outputId": "e91f6521-97cb-4106-afb8-dc89db8254c5"
      },
      "cell_type": "code",
      "source": [
        "# Print the Keyword in the 10 topics\n",
        "pprint(lda_model.print_topics())\n",
        "doc_lda = lda_model[corpus]"
      ],
      "execution_count": 56,
      "outputs": [
        {
          "output_type": "stream",
          "text": [
            "[(0,\n",
            "  '0.065*\"group\" + 0.057*\"mini\" + 0.034*\"would\" + 0.032*\"datum\" + '\n",
            "  '0.031*\"attach\" + 0.030*\"receiver\" + 0.027*\"new\" + 0.027*\"response\" + '\n",
            "  '0.025*\"bulk\" + 0.021*\"status\"'),\n",
            " (1,\n",
            "  '0.106*\"account\" + 0.100*\"offer\" + 0.077*\"genie\" + 0.039*\"display\" + '\n",
            "  '0.038*\"customer\" + 0.029*\"expect\" + 0.026*\"value\" + 0.022*\"request\" + '\n",
            "  '0.021*\"code\" + 0.021*\"intent\"'),\n",
            " (2,\n",
            "  '0.052*\"call\" + 0.044*\"result\" + 0.035*\"information\" + 0.030*\"actual\" + '\n",
            "  '0.027*\"telcocompany\" + 0.027*\"add\" + 0.026*\"get\" + 0.026*\"hardware\" + '\n",
            "  '0.024*\"equipment\" + 0.019*\"additional\"'),\n",
            " (3,\n",
            "  '0.065*\"select\" + 0.048*\"tab\" + 0.044*\"service\" + 0.043*\"issue\" + '\n",
            "  '0.032*\"upgrade\" + 0.028*\"rio\" + 0.027*\"submit\" + 0.019*\"dws\" + 0.019*\"bill\" '\n",
            "  '+ 0.018*\"base\"'),\n",
            " (4,\n",
            "  '0.106*\"order\" + 0.076*\"click\" + 0.049*\"test\" + 0.035*\"exist\" + '\n",
            "  '0.026*\"search\" + 0.025*\"login\" + 0.022*\"active\" + 0.022*\"success\" + '\n",
            "  '0.020*\"reproduce\" + 0.020*\"detail\"')]\n"
          ],
          "name": "stdout"
        }
      ]
    },
    {
      "metadata": {
        "id": "L5A3F5MjG99n",
        "colab_type": "code",
        "colab": {
          "base_uri": "https://localhost:8080/",
          "height": 861
        },
        "outputId": "1ea61726-5a50-4eff-e29a-9bf6cea6e41a"
      },
      "cell_type": "code",
      "source": [
        "# Visualize the topics\n",
        "pyLDAvis.enable_notebook()\n",
        "vis = pyLDAvis.gensim.prepare(lda_model, corpus, id2word)\n",
        "vis"
      ],
      "execution_count": 57,
      "outputs": [
        {
          "output_type": "execute_result",
          "data": {
            "text/html": [
              "\n",
              "<link rel=\"stylesheet\" type=\"text/css\" href=\"https://cdn.rawgit.com/bmabey/pyLDAvis/files/ldavis.v1.0.0.css\">\n",
              "\n",
              "\n",
              "<div id=\"ldavis_el1521401040067231689964844397\"></div>\n",
              "<script type=\"text/javascript\">\n",
              "\n",
              "var ldavis_el1521401040067231689964844397_data = {\"mdsDat\": {\"Freq\": [24.409778594970703, 19.119653701782227, 18.962989807128906, 18.844648361206055, 18.662925720214844], \"cluster\": [1, 1, 1, 1, 1], \"topics\": [1, 2, 3, 4, 5], \"x\": [-0.32312211479523134, 0.15757884139309036, 0.0422853173338176, 0.04924707124962778, 0.07401088481869608], \"y\": [-0.07247111957569688, -0.28199346048054724, 0.07799010056318739, 0.11067663857832119, 0.16579784091473573]}, \"tinfo\": {\"Category\": [\"Default\", \"Default\", \"Default\", \"Default\", \"Default\", \"Default\", \"Default\", \"Default\", \"Default\", \"Default\", \"Default\", \"Default\", \"Default\", \"Default\", \"Default\", \"Default\", \"Default\", \"Default\", \"Default\", \"Default\", \"Default\", \"Default\", \"Default\", \"Default\", \"Default\", \"Default\", \"Default\", \"Default\", \"Default\", \"Default\", \"Topic1\", \"Topic1\", \"Topic1\", \"Topic1\", \"Topic1\", \"Topic1\", \"Topic1\", \"Topic1\", \"Topic1\", \"Topic1\", \"Topic1\", \"Topic1\", \"Topic1\", \"Topic1\", \"Topic1\", \"Topic1\", \"Topic1\", \"Topic1\", \"Topic1\", \"Topic1\", \"Topic1\", \"Topic1\", \"Topic1\", \"Topic1\", \"Topic1\", \"Topic1\", \"Topic1\", \"Topic1\", \"Topic1\", \"Topic1\", \"Topic1\", \"Topic1\", \"Topic1\", \"Topic1\", \"Topic2\", \"Topic2\", \"Topic2\", \"Topic2\", \"Topic2\", \"Topic2\", \"Topic2\", \"Topic2\", \"Topic2\", \"Topic2\", \"Topic2\", \"Topic2\", \"Topic2\", \"Topic2\", \"Topic2\", \"Topic2\", \"Topic2\", \"Topic2\", \"Topic2\", \"Topic2\", \"Topic2\", \"Topic2\", \"Topic2\", \"Topic2\", \"Topic2\", \"Topic2\", \"Topic2\", \"Topic2\", \"Topic2\", \"Topic2\", \"Topic3\", \"Topic3\", \"Topic3\", \"Topic3\", \"Topic3\", \"Topic3\", \"Topic3\", \"Topic3\", \"Topic3\", \"Topic3\", \"Topic3\", \"Topic3\", \"Topic3\", \"Topic3\", \"Topic3\", \"Topic3\", \"Topic3\", \"Topic3\", \"Topic3\", \"Topic3\", \"Topic3\", \"Topic3\", \"Topic3\", \"Topic3\", \"Topic3\", \"Topic3\", \"Topic3\", \"Topic3\", \"Topic3\", \"Topic3\", \"Topic3\", \"Topic3\", \"Topic4\", \"Topic4\", \"Topic4\", \"Topic4\", \"Topic4\", \"Topic4\", \"Topic4\", \"Topic4\", \"Topic4\", \"Topic4\", \"Topic4\", \"Topic4\", \"Topic4\", \"Topic4\", \"Topic4\", \"Topic4\", \"Topic4\", \"Topic4\", \"Topic4\", \"Topic4\", \"Topic4\", \"Topic4\", \"Topic4\", \"Topic4\", \"Topic4\", \"Topic4\", \"Topic4\", \"Topic4\", \"Topic4\", \"Topic4\", \"Topic4\", \"Topic4\", \"Topic5\", \"Topic5\", \"Topic5\", \"Topic5\", \"Topic5\", \"Topic5\", \"Topic5\", \"Topic5\", \"Topic5\", \"Topic5\", \"Topic5\", \"Topic5\", \"Topic5\", \"Topic5\", \"Topic5\", \"Topic5\", \"Topic5\", \"Topic5\", \"Topic5\", \"Topic5\", \"Topic5\", \"Topic5\", \"Topic5\", \"Topic5\", \"Topic5\", \"Topic5\", \"Topic5\", \"Topic5\", \"Topic5\", \"Topic5\"], \"Freq\": [1149.0, 1078.0, 879.0, 835.0, 630.0, 549.0, 533.0, 483.0, 437.0, 411.0, 395.0, 367.0, 363.0, 353.0, 421.0, 409.0, 294.0, 293.0, 290.0, 268.0, 267.0, 311.0, 264.0, 253.0, 249.0, 281.0, 228.0, 227.0, 227.0, 224.0, 1148.94580078125, 1077.533447265625, 834.5193481445312, 420.96173095703125, 409.19122314453125, 311.07550048828125, 280.96392822265625, 239.04347229003906, 221.91848754882812, 225.28343200683594, 212.1216583251953, 208.12811279296875, 201.4710235595703, 169.18893432617188, 170.03314208984375, 170.9839630126953, 162.4286346435547, 154.0949249267578, 136.70855712890625, 124.103271484375, 117.10971069335938, 101.443115234375, 87.71348571777344, 66.78931427001953, 51.46569061279297, 47.53767013549805, 49.10885238647461, 72.00426483154297, 43.99530029296875, 40.13154220581055, 53.74712371826172, 70.79837799072266, 80.92567443847656, 55.160552978515625, 548.9108276367188, 482.7799987792969, 289.3089294433594, 266.4427185058594, 263.9482116699219, 252.46043395996094, 226.8269805908203, 224.6725616455078, 212.99598693847656, 174.5224609375, 171.67666625976562, 168.94248962402344, 162.20220947265625, 159.24136352539062, 140.04934692382812, 134.1723175048828, 125.35484313964844, 122.41706085205078, 119.13423919677734, 92.70246124267578, 92.6296615600586, 95.67372131347656, 82.53126525878906, 81.74495697021484, 82.71990966796875, 76.65962982177734, 74.68695831298828, 72.9953384399414, 64.95590209960938, 63.50520706176758, 437.2197265625, 366.6767272949219, 294.2147216796875, 248.2390899658203, 226.65171813964844, 226.56060791015625, 221.9676513671875, 214.26121520996094, 198.97105407714844, 160.8116912841797, 152.6173095703125, 148.46673583984375, 149.5370635986328, 138.8768310546875, 131.36688232421875, 120.79200744628906, 104.53425598144531, 102.62286376953125, 96.95275115966797, 91.11579895019531, 86.46179962158203, 84.9149398803711, 78.17931365966797, 77.81956481933594, 79.78825378417969, 74.40673065185547, 78.80062866210938, 68.44029998779297, 68.28974151611328, 89.71620178222656, 112.39507293701172, 70.45983123779297, 878.7854614257812, 629.5538330078125, 411.2067565917969, 292.5514221191406, 213.13600158691406, 211.1900177001953, 184.20468139648438, 182.0834503173828, 166.56491088867188, 162.56871032714844, 160.9939727783203, 150.55435180664062, 124.141357421875, 114.87657928466797, 104.50358581542969, 94.77373504638672, 86.50155639648438, 85.8217544555664, 100.51313018798828, 75.02501678466797, 72.5837631225586, 72.67678833007812, 71.50967407226562, 59.170284271240234, 64.33173370361328, 63.84904479980469, 55.77120590209961, 53.94498062133789, 48.39295196533203, 46.35775375366211, 52.69957733154297, 52.50655746459961, 532.407470703125, 394.4526062011719, 363.00225830078125, 352.4287109375, 268.0484619140625, 228.1114959716797, 224.13734436035156, 159.60902404785156, 153.4255828857422, 149.8694610595703, 151.91343688964844, 145.80616760253906, 143.25767517089844, 142.75363159179688, 129.1702423095703, 121.13987731933594, 124.15182495117188, 130.11990356445312, 118.23632049560547, 107.0959701538086, 110.80564880371094, 90.60943603515625, 80.69747924804688, 76.07424926757812, 73.43235778808594, 70.4354248046875, 63.16716384887695, 59.756778717041016, 60.2303466796875, 54.77043151855469], \"Term\": [\"account\", \"offer\", \"order\", \"genie\", \"click\", \"group\", \"select\", \"mini\", \"call\", \"test\", \"tab\", \"result\", \"service\", \"issue\", \"display\", \"customer\", \"information\", \"exist\", \"would\", \"upgrade\", \"datum\", \"expect\", \"attach\", \"receiver\", \"actual\", \"value\", \"rio\", \"telcocompany\", \"add\", \"submit\", \"account\", \"offer\", \"genie\", \"display\", \"customer\", \"expect\", \"value\", \"request\", \"intent\", \"code\", \"step\", \"xml\", \"member\", \"error\", \"create\", \"modify\", \"page\", \"client\", \"system\", \"time\", \"dni\", \"heart\", \"commitment\", \"actv\", \"miss\", \"ultimate\", \"unable\", \"schedule\", \"able\", \"comm\", \"field\", \"appropriate\", \"punchin\", \"report\", \"group\", \"mini\", \"would\", \"datum\", \"attach\", \"receiver\", \"new\", \"response\", \"bulk\", \"status\", \"fee\", \"om\", \"go\", \"activation\", \"stms\", \"programming\", \"description\", \"asset\", \"change\", \"net\", \"shopping\", \"date\", \"prerequisite\", \"sale\", \"return\", \"run\", \"screen\", \"credential\", \"execution\", \"show\", \"call\", \"result\", \"information\", \"actual\", \"telcocompany\", \"add\", \"get\", \"hardware\", \"equipment\", \"additional\", \"free\", \"number\", \"use\", \"package\", \"button\", \"cart\", \"launch\", \"validate\", \"case\", \"complete\", \"integration\", \"eligible\", \"observe\", \"reg\", \"premier\", \"xmls\", \"info\", \"rcp\", \"application\", \"profile\", \"tvs\", \"option\", \"order\", \"click\", \"test\", \"exist\", \"search\", \"login\", \"active\", \"success\", \"reproduce\", \"detail\", \"follow\", \"accept\", \"message\", \"evidence\", \"confirm\", \"mover\", \"log\", \"save\", \"match\", \"impact\", \"place\", \"charge\", \"address\", \"verify\", \"scenario\", \"attachment\", \"payment\", \"clr\", \"require\", \"available\", \"rank\", \"mdu\", \"select\", \"tab\", \"service\", \"issue\", \"upgrade\", \"rio\", \"submit\", \"dws\", \"bill\", \"name\", \"base\", \"type\", \"section\", \"activate\", \"loyalty\", \"session\", \"tv\", \"however\", \"file\", \"also\", \"count\", \"action\", \"property\", \"object\", \"find\", \"decision\", \"note\", \"open\", \"agent\", \"proposition\"], \"Total\": [1149.0, 1078.0, 879.0, 835.0, 630.0, 549.0, 533.0, 483.0, 437.0, 411.0, 395.0, 367.0, 363.0, 353.0, 421.0, 409.0, 294.0, 293.0, 290.0, 268.0, 267.0, 311.0, 264.0, 253.0, 249.0, 281.0, 228.0, 227.0, 227.0, 224.0, 1149.7398681640625, 1078.335693359375, 835.3153686523438, 421.7602844238281, 409.988037109375, 311.8658447265625, 281.7549743652344, 239.83575439453125, 222.7032012939453, 226.08412170410156, 212.90927124023438, 208.92953491210938, 202.32666015625, 169.97183227539062, 170.82708740234375, 171.79022216796875, 163.2290802001953, 154.89134216308594, 137.4951629638672, 124.88440704345703, 117.92233276367188, 102.23947143554688, 88.5484619140625, 67.60907745361328, 52.28535842895508, 48.337162017822266, 49.980987548828125, 73.28572845458984, 44.78949737548828, 40.91597366333008, 55.09870147705078, 73.8294906616211, 93.49140930175781, 233.73419189453125, 549.7418212890625, 483.592529296875, 290.0992126464844, 267.2426452636719, 264.7516174316406, 253.26187133789062, 227.62667846679688, 225.4696044921875, 213.8629150390625, 175.3205108642578, 172.50425720214844, 169.7674102783203, 163.00794982910156, 160.04010009765625, 140.8624725341797, 134.98292541503906, 126.15792083740234, 123.22173309326172, 119.94031524658203, 93.48975372314453, 93.41719055175781, 96.48955535888672, 83.34105682373047, 82.55321502685547, 83.54704284667969, 77.44964599609375, 75.48020935058594, 73.8044204711914, 65.76737976074219, 64.30400848388672, 437.995361328125, 367.44976806640625, 294.997802734375, 249.0148162841797, 227.42718505859375, 227.33998107910156, 222.75343322753906, 215.046875, 199.75038146972656, 161.6004180908203, 153.40634155273438, 149.243896484375, 150.3219757080078, 139.65647888183594, 132.1365203857422, 121.5594253540039, 105.30303192138672, 103.39798736572266, 97.75879669189453, 91.90467071533203, 87.29268646240234, 85.74800872802734, 78.96790313720703, 78.62107849121094, 80.61866760253906, 75.1886215209961, 79.64156341552734, 69.20882415771484, 69.05956268310547, 90.77201843261719, 115.10507202148438, 71.35077667236328, 879.5740966796875, 630.354248046875, 411.9933776855469, 293.35736083984375, 213.92616271972656, 211.9782257080078, 184.99594116210938, 182.9278106689453, 167.35093688964844, 163.35693359375, 161.78659057617188, 151.34091186523438, 124.93013000488281, 115.68115997314453, 105.31869506835938, 95.5757827758789, 87.28422546386719, 86.60948181152344, 101.55772399902344, 75.82535552978516, 73.37289428710938, 73.48019409179688, 72.33580017089844, 59.966331481933594, 65.23170471191406, 64.74933624267578, 56.57096481323242, 54.722164154052734, 49.17401885986328, 47.135467529296875, 53.605892181396484, 53.42429733276367, 533.193359375, 395.2496643066406, 363.790771484375, 353.2467346191406, 268.8379211425781, 228.89320373535156, 224.93035888671875, 160.39796447753906, 154.21099853515625, 150.64964294433594, 152.7063446044922, 146.5952606201172, 144.03640747070312, 143.5421142578125, 129.9651336669922, 121.92019653320312, 124.97737121582031, 131.00677490234375, 119.0451889038086, 107.88583374023438, 111.66212463378906, 91.40536499023438, 81.5010757446289, 76.87237548828125, 74.23099517822266, 71.2115478515625, 63.950042724609375, 60.537967681884766, 61.018775939941406, 55.563819885253906], \"loglift\": [30.0, 29.0, 28.0, 27.0, 26.0, 25.0, 24.0, 23.0, 22.0, 21.0, 20.0, 19.0, 18.0, 17.0, 16.0, 15.0, 14.0, 13.0, 12.0, 11.0, 10.0, 9.0, 8.0, 7.0, 6.0, 5.0, 4.0, 3.0, 2.0, 1.0, 1.409500002861023, 1.4093999862670898, 1.4091999530792236, 1.4083000421524048, 1.4082000255584717, 1.4076000452041626, 1.4074000120162964, 1.4069000482559204, 1.4067000150680542, 1.406599998474121, 1.406499981880188, 1.4062999486923218, 1.405900001525879, 1.4055999517440796, 1.405500054359436, 1.405500054359436, 1.4053000211715698, 1.4049999713897705, 1.4043999910354614, 1.4039000272750854, 1.4033000469207764, 1.402400016784668, 1.4006999731063843, 1.3980000019073486, 1.3944000005722046, 1.3934999704360962, 1.3926000595092773, 1.3925000429153442, 1.392300009727478, 1.3907999992370605, 1.3854000568389893, 1.368299961090088, 1.2657999992370605, -0.033799998462200165, 1.652899980545044, 1.6527999639511108, 1.6517000198364258, 1.6514999866485596, 1.6513999700546265, 1.6512999534606934, 1.6509000062942505, 1.6509000062942505, 1.6504000425338745, 1.649899959564209, 1.6496000289916992, 1.6496000289916992, 1.6495000123977661, 1.649399995803833, 1.6486999988555908, 1.6483999490737915, 1.6481000185012817, 1.6478999853134155, 1.6476999521255493, 1.6460000276565552, 1.6460000276565552, 1.6460000276565552, 1.644700050354004, 1.6446000337600708, 1.6445000171661377, 1.6441999673843384, 1.6439000368118286, 1.643399953842163, 1.6419999599456787, 1.6419999599456787, 1.6608999967575073, 1.660599946975708, 1.659999966621399, 1.659600019454956, 1.6592999696731567, 1.6591999530792236, 1.65910005569458, 1.659000039100647, 1.6588000059127808, 1.6577999591827393, 1.6575000286102295, 1.6575000286102295, 1.6574000120162964, 1.657099962234497, 1.6568000316619873, 1.6562999486923218, 1.655400037765503, 1.6552000045776367, 1.6543999910354614, 1.654099941253662, 1.6531000137329102, 1.652899980545044, 1.6526000499725342, 1.652400016784668, 1.6523000001907349, 1.6521999835968018, 1.6520999670028687, 1.6514999866485596, 1.6514999866485596, 1.6510000228881836, 1.6389000415802002, 1.6500999927520752, 1.6679999828338623, 1.6677000522613525, 1.6670000553131104, 1.666200041770935, 1.6651999950408936, 1.6651999950408936, 1.6647000312805176, 1.6642999649047852, 1.664199948310852, 1.6641000509262085, 1.6640000343322754, 1.663699984550476, 1.662600040435791, 1.6619999408721924, 1.6612000465393066, 1.6605000495910645, 1.6598999500274658, 1.6598000526428223, 1.6585999727249146, 1.6583000421524048, 1.6581000089645386, 1.6578999757766724, 1.6575000286102295, 1.6555999517440796, 1.6549999713897705, 1.6548999547958374, 1.6547000408172607, 1.6546000242233276, 1.652899980545044, 1.6523000001907349, 1.651900053024292, 1.6516000032424927, 1.6771999597549438, 1.6765999794006348, 1.6764999628067017, 1.676300048828125, 1.6756999492645264, 1.6751999855041504, 1.6750999689102173, 1.673699975013733, 1.6734999418258667, 1.6734000444412231, 1.6734000444412231, 1.673200011253357, 1.673200011253357, 1.6730999946594238, 1.6725000143051147, 1.6721999645233154, 1.6720000505447388, 1.6718000173568726, 1.6718000173568726, 1.6713000535964966, 1.6708999872207642, 1.6698999404907227, 1.6686999797821045, 1.6682000160217285, 1.667799949645996, 1.6677000522613525, 1.6663000583648682, 1.6655999422073364, 1.6655999422073364, 1.664199948310852], \"logprob\": [30.0, 29.0, 28.0, 27.0, 26.0, 25.0, 24.0, 23.0, 22.0, 21.0, 20.0, 19.0, 18.0, 17.0, 16.0, 15.0, 14.0, 13.0, 12.0, 11.0, 10.0, 9.0, 8.0, 7.0, 6.0, 5.0, 4.0, 3.0, 2.0, 1.0, -2.2397000789642334, -2.303800106048584, -2.5594000816345215, -3.2437000274658203, -3.2720999717712402, -3.5462000370025635, -3.6480000019073486, -3.8096001148223877, -3.884000062942505, -3.8689000606536865, -3.9291000366210938, -3.9481000900268555, -3.980600118637085, -4.155300140380859, -4.150300025939941, -4.144700050354004, -4.196000099182129, -4.248700141906738, -4.3684000968933105, -4.465199947357178, -4.523200035095215, -4.666800022125244, -4.81220006942749, -5.084700107574463, -5.345399856567383, -5.424799919128418, -5.392199993133545, -5.0096001625061035, -5.502200126647949, -5.594099998474121, -5.302000045776367, -5.026400089263916, -4.8927001953125, -5.276000022888184, -2.734100103378296, -2.8624000549316406, -3.374500036239624, -3.4567999839782715, -3.4663000106811523, -3.5107998847961426, -3.617799997329712, -3.6273999214172363, -3.6807000637054443, -3.880000114440918, -3.896399974822998, -3.9124999046325684, -3.953200101852417, -3.97160005569458, -4.099999904632568, -4.142899990081787, -4.210899829864502, -4.234600067138672, -4.2617998123168945, -4.512599945068359, -4.513400077819824, -4.481100082397461, -4.628799915313721, -4.638400077819824, -4.626500129699707, -4.702600002288818, -4.728700160980225, -4.7515997886657715, -4.868299961090088, -4.890900135040283, -2.9532999992370605, -3.129300117492676, -3.3494999408721924, -3.519399881362915, -3.6103999614715576, -3.61080002784729, -3.631200075149536, -3.666599988937378, -3.740600109100342, -3.9535000324249268, -4.005799770355225, -4.033400058746338, -4.026199817657471, -4.100200176239014, -4.155799865722656, -4.239699840545654, -4.384300231933594, -4.402699947357178, -4.45959997177124, -4.521699905395508, -4.574100017547607, -4.592100143432617, -4.674799919128418, -4.6793999671936035, -4.654399871826172, -4.7241997718811035, -4.666900157928467, -4.807799816131592, -4.809999942779541, -4.537099838256836, -4.311800003051758, -4.77869987487793, -2.249000072479248, -2.5824999809265137, -3.0083999633789062, -3.348900079727173, -3.665600061416626, -3.674799919128418, -3.811500072479248, -3.8231000900268555, -3.912100076675415, -3.9363999366760254, -3.946199893951416, -4.013199806213379, -4.206099987030029, -4.283699989318848, -4.378300189971924, -4.47599983215332, -4.567399978637695, -4.575200080871582, -4.417200088500977, -4.709700107574463, -4.742800235748291, -4.741499900817871, -4.757699966430664, -4.9471001625061035, -4.863500118255615, -4.870999813079834, -5.00629997253418, -5.039599895477295, -5.148200035095215, -5.191100120544434, -5.062900066375732, -5.0665998458862305, -2.7404000759124756, -3.040299892425537, -3.1233999729156494, -3.1530001163482666, -3.4267001152038574, -3.5880000591278076, -3.605600118637085, -3.9451000690460205, -3.984600067138672, -4.0081000328063965, -3.994499921798706, -4.035600185394287, -4.053199768066406, -4.056700229644775, -4.156700134277344, -4.220900058746338, -4.196300029754639, -4.149400234222412, -4.245100021362305, -4.344099998474121, -4.310100078582764, -4.511300086975098, -4.627099990844727, -4.686100006103516, -4.721499919891357, -4.7631001472473145, -4.872000217437744, -4.927499771118164, -4.9197001457214355, -5.014699935913086]}, \"token.table\": {\"Topic\": [1, 4, 1, 5, 5, 2, 4, 3, 1, 3, 3, 4, 5, 5, 3, 1, 2, 3, 4, 5, 2, 2, 4, 4, 5, 5, 2, 3, 3, 3, 3, 2, 4, 4, 1, 4, 1, 1, 1, 3, 4, 5, 1, 2, 1, 2, 2, 5, 2, 4, 1, 1, 5, 3, 3, 1, 4, 2, 4, 1, 2, 1, 5, 5, 4, 3, 1, 3, 2, 2, 3, 1, 5, 4, 3, 3, 3, 1, 5, 3, 4, 4, 5, 4, 4, 1, 4, 2, 1, 1, 4, 5, 2, 2, 5, 3, 5, 3, 1, 2, 5, 3, 4, 3, 1, 4, 4, 3, 2, 3, 2, 5, 5, 1, 2, 3, 4, 5, 4, 3, 2, 3, 1, 2, 3, 4, 5, 4, 1, 4, 2, 3, 2, 5, 2, 2, 4, 4, 1, 2, 4, 5, 5, 5, 5, 2, 2, 2, 1, 2, 5, 4, 1, 5, 3, 4, 1, 5, 1, 2, 3, 4, 5, 5, 1, 1, 5, 3, 3, 1, 4, 2, 1, 3], \"Freq\": [0.9823731780052185, 0.9977473616600037, 0.9993565082550049, 0.9955651760101318, 0.9962233304977417, 0.9935010075569153, 0.9946163892745972, 0.9959246516227722, 0.9909911751747131, 0.9985045194625854, 0.996284544467926, 0.9953577518463135, 0.9833039045333862, 0.9917891621589661, 0.9846572875976562, 0.9616753458976746, 0.013544723391532898, 0.013544723391532898, 0.013544723391532898, 0.013544723391532898, 0.9900850653648376, 0.9971610307693481, 0.9884271025657654, 0.9759105443954468, 0.9953745007514954, 0.9921471476554871, 0.9959651231765747, 0.9913988709449768, 0.9977274537086487, 0.9953979253768921, 0.9922380447387695, 0.9921601414680481, 0.993465006351471, 0.9994379878044128, 0.9942453503608704, 0.9868030548095703, 0.9952048063278198, 0.9776132702827454, 0.9938060641288757, 0.9901564121246338, 0.996973991394043, 0.994070291519165, 0.995158314704895, 0.9891006350517273, 0.9975900650024414, 0.9949263334274292, 0.9953501224517822, 0.9829866290092468, 0.9908216595649719, 0.9978150129318237, 0.9981973767280579, 0.9921784996986389, 0.9975188970565796, 0.9912766814231873, 0.996243417263031, 0.9942823648452759, 0.9941117763519287, 0.9883319139480591, 0.9987818002700806, 0.9972236752510071, 0.9970768690109253, 0.9800593852996826, 0.991220235824585, 0.9834166765213013, 0.9951381087303162, 0.9973512291908264, 0.9996224641799927, 0.9966176152229309, 0.9938165545463562, 0.9986506104469299, 0.9951318502426147, 0.9878767728805542, 0.9923151135444641, 0.9891150593757629, 0.9919443726539612, 0.9966176152229309, 0.9851913452148438, 0.9968424439430237, 0.9964706301689148, 0.9971222877502441, 0.9967436790466309, 0.9953852295875549, 0.9925739169120789, 0.9945083260536194, 0.9920579791069031, 0.993442952632904, 0.992554783821106, 0.9987747073173523, 0.9754164814949036, 0.995400071144104, 0.9939756393432617, 0.99568772315979, 0.9947614073753357, 0.9972469210624695, 0.9851439595222473, 0.9916653633117676, 0.9886516332626343, 0.987743079662323, 0.9996886849403381, 0.9954796433448792, 0.991113543510437, 0.98106849193573, 0.9993473291397095, 0.9952993392944336, 0.9924702048301697, 0.9899070858955383, 0.9949178099632263, 0.992326021194458, 0.995907723903656, 0.9914949536323547, 0.9927181601524353, 0.993851900100708, 0.9898527264595032, 0.8663897514343262, 0.0320885106921196, 0.0427846796810627, 0.0320885106921196, 0.0320885106921196, 0.9886972904205322, 0.9825336933135986, 0.9950175285339355, 0.9921003580093384, 0.23531003296375275, 0.14546437561511993, 0.2181965708732605, 0.19680474698543549, 0.20108312368392944, 0.9979029893875122, 0.9965153336524963, 0.9761252403259277, 0.9979172348976135, 0.9987759590148926, 0.993452250957489, 0.9960977435112, 0.9941943287849426, 0.9932987093925476, 0.9929628968238831, 0.9811180233955383, 0.9824559688568115, 0.9936379194259644, 0.9956706166267395, 0.9928045272827148, 0.9977618455886841, 0.9978262782096863, 0.9924524426460266, 0.9955341219902039, 0.9952723383903503, 0.998171865940094, 0.9957293272018433, 0.9938771724700928, 0.9958637952804565, 0.9949280023574829, 0.9963986873626709, 0.9968382716178894, 0.9981216788291931, 0.9975888729095459, 0.9929181933403015, 0.9921796321868896, 0.008687714114785194, 0.008687714114785194, 0.9730240106582642, 0.008687714114785194, 0.008687714114785194, 0.9959394335746765, 0.9930247664451599, 0.9803727865219116, 0.9968831539154053, 0.9978581070899963, 0.9961509108543396, 0.9973204731941223, 0.9838854074478149, 0.9962109327316284, 0.9955509901046753, 0.9841914772987366], \"Term\": [\"able\", \"accept\", \"account\", \"action\", \"activate\", \"activation\", \"active\", \"actual\", \"actv\", \"add\", \"additional\", \"address\", \"agent\", \"also\", \"application\", \"appropriate\", \"appropriate\", \"appropriate\", \"appropriate\", \"appropriate\", \"asset\", \"attach\", \"attachment\", \"available\", \"base\", \"bill\", \"bulk\", \"button\", \"call\", \"cart\", \"case\", \"change\", \"charge\", \"click\", \"client\", \"clr\", \"code\", \"comm\", \"commitment\", \"complete\", \"confirm\", \"count\", \"create\", \"credential\", \"customer\", \"date\", \"datum\", \"decision\", \"description\", \"detail\", \"display\", \"dni\", \"dws\", \"eligible\", \"equipment\", \"error\", \"evidence\", \"execution\", \"exist\", \"expect\", \"fee\", \"field\", \"file\", \"find\", \"follow\", \"free\", \"genie\", \"get\", \"go\", \"group\", \"hardware\", \"heart\", \"however\", \"impact\", \"info\", \"information\", \"integration\", \"intent\", \"issue\", \"launch\", \"log\", \"login\", \"loyalty\", \"match\", \"mdu\", \"member\", \"message\", \"mini\", \"miss\", \"modify\", \"mover\", \"name\", \"net\", \"new\", \"note\", \"number\", \"object\", \"observe\", \"offer\", \"om\", \"open\", \"option\", \"order\", \"package\", \"page\", \"payment\", \"place\", \"premier\", \"prerequisite\", \"profile\", \"programming\", \"property\", \"proposition\", \"punchin\", \"punchin\", \"punchin\", \"punchin\", \"punchin\", \"rank\", \"rcp\", \"receiver\", \"reg\", \"report\", \"report\", \"report\", \"report\", \"report\", \"reproduce\", \"request\", \"require\", \"response\", \"result\", \"return\", \"rio\", \"run\", \"sale\", \"save\", \"scenario\", \"schedule\", \"screen\", \"search\", \"section\", \"select\", \"service\", \"session\", \"shopping\", \"show\", \"status\", \"step\", \"stms\", \"submit\", \"success\", \"system\", \"tab\", \"telcocompany\", \"test\", \"time\", \"tv\", \"tvs\", \"tvs\", \"tvs\", \"tvs\", \"tvs\", \"type\", \"ultimate\", \"unable\", \"upgrade\", \"use\", \"validate\", \"value\", \"verify\", \"would\", \"xml\", \"xmls\"]}, \"R\": 30, \"lambda.step\": 0.01, \"plot.opts\": {\"xlab\": \"PC1\", \"ylab\": \"PC2\"}, \"topic.order\": [2, 1, 3, 5, 4]};\n",
              "\n",
              "function LDAvis_load_lib(url, callback){\n",
              "  var s = document.createElement('script');\n",
              "  s.src = url;\n",
              "  s.async = true;\n",
              "  s.onreadystatechange = s.onload = callback;\n",
              "  s.onerror = function(){console.warn(\"failed to load library \" + url);};\n",
              "  document.getElementsByTagName(\"head\")[0].appendChild(s);\n",
              "}\n",
              "\n",
              "if(typeof(LDAvis) !== \"undefined\"){\n",
              "   // already loaded: just create the visualization\n",
              "   !function(LDAvis){\n",
              "       new LDAvis(\"#\" + \"ldavis_el1521401040067231689964844397\", ldavis_el1521401040067231689964844397_data);\n",
              "   }(LDAvis);\n",
              "}else if(typeof define === \"function\" && define.amd){\n",
              "   // require.js is available: use it to load d3/LDAvis\n",
              "   require.config({paths: {d3: \"https://cdnjs.cloudflare.com/ajax/libs/d3/3.5.5/d3.min\"}});\n",
              "   require([\"d3\"], function(d3){\n",
              "      window.d3 = d3;\n",
              "      LDAvis_load_lib(\"https://cdn.rawgit.com/bmabey/pyLDAvis/files/ldavis.v1.0.0.js\", function(){\n",
              "        new LDAvis(\"#\" + \"ldavis_el1521401040067231689964844397\", ldavis_el1521401040067231689964844397_data);\n",
              "      });\n",
              "    });\n",
              "}else{\n",
              "    // require.js not available: dynamically load d3 & LDAvis\n",
              "    LDAvis_load_lib(\"https://cdnjs.cloudflare.com/ajax/libs/d3/3.5.5/d3.min.js\", function(){\n",
              "         LDAvis_load_lib(\"https://cdn.rawgit.com/bmabey/pyLDAvis/files/ldavis.v1.0.0.js\", function(){\n",
              "                 new LDAvis(\"#\" + \"ldavis_el1521401040067231689964844397\", ldavis_el1521401040067231689964844397_data);\n",
              "            })\n",
              "         });\n",
              "}\n",
              "</script>"
            ],
            "text/plain": [
              "PreparedData(topic_coordinates=            Freq  cluster  topics         x         y\n",
              "topic                                                \n",
              "1      24.409779        1       1 -0.323122 -0.072471\n",
              "0      19.119654        1       2  0.157579 -0.281993\n",
              "2      18.962990        1       3  0.042285  0.077990\n",
              "4      18.844648        1       4  0.049247  0.110677\n",
              "3      18.662926        1       5  0.074011  0.165798, topic_info=     Category         Freq          Term        Total  loglift  logprob\n",
              "term                                                                   \n",
              "68    Default  1149.000000       account  1149.000000  30.0000  30.0000\n",
              "61    Default  1078.000000         offer  1078.000000  29.0000  29.0000\n",
              "22    Default   879.000000         order   879.000000  28.0000  28.0000\n",
              "383   Default   835.000000         genie   835.000000  27.0000  27.0000\n",
              "173   Default   630.000000         click   630.000000  26.0000  26.0000\n",
              "88    Default   549.000000         group   549.000000  25.0000  25.0000\n",
              "154   Default   533.000000        select   533.000000  24.0000  24.0000\n",
              "563   Default   483.000000          mini   483.000000  23.0000  23.0000\n",
              "330   Default   437.000000          call   437.000000  22.0000  22.0000\n",
              "123   Default   411.000000          test   411.000000  21.0000  21.0000\n",
              "157   Default   395.000000           tab   395.000000  20.0000  20.0000\n",
              "174   Default   367.000000        result   367.000000  19.0000  19.0000\n",
              "269   Default   363.000000       service   363.000000  18.0000  18.0000\n",
              "158   Default   353.000000         issue   353.000000  17.0000  17.0000\n",
              "518   Default   421.000000       display   421.000000  16.0000  16.0000\n",
              "55    Default   409.000000      customer   409.000000  15.0000  15.0000\n",
              "390   Default   294.000000   information   294.000000  14.0000  14.0000\n",
              "352   Default   293.000000         exist   293.000000  13.0000  13.0000\n",
              "76    Default   290.000000         would   290.000000  12.0000  12.0000\n",
              "21    Default   268.000000       upgrade   268.000000  11.0000  11.0000\n",
              "219   Default   267.000000         datum   267.000000  10.0000  10.0000\n",
              "92    Default   311.000000        expect   311.000000   9.0000   9.0000\n",
              "103   Default   264.000000        attach   264.000000   8.0000   8.0000\n",
              "15    Default   253.000000      receiver   253.000000   7.0000   7.0000\n",
              "177   Default   249.000000        actual   249.000000   6.0000   6.0000\n",
              "91    Default   281.000000         value   281.000000   5.0000   5.0000\n",
              "161   Default   228.000000           rio   228.000000   4.0000   4.0000\n",
              "364   Default   227.000000  telcocompany   227.000000   3.0000   3.0000\n",
              "17    Default   227.000000           add   227.000000   2.0000   2.0000\n",
              "505   Default   224.000000        submit   224.000000   1.0000   1.0000\n",
              "...       ...          ...           ...          ...      ...      ...\n",
              "154    Topic5   532.407471        select   533.193359   1.6772  -2.7404\n",
              "157    Topic5   394.452606           tab   395.249664   1.6766  -3.0403\n",
              "269    Topic5   363.002258       service   363.790771   1.6765  -3.1234\n",
              "158    Topic5   352.428711         issue   353.246735   1.6763  -3.1530\n",
              "21     Topic5   268.048462       upgrade   268.837921   1.6757  -3.4267\n",
              "161    Topic5   228.111496           rio   228.893204   1.6752  -3.5880\n",
              "505    Topic5   224.137344        submit   224.930359   1.6751  -3.6056\n",
              "46     Topic5   159.609024           dws   160.397964   1.6737  -3.9451\n",
              "164    Topic5   153.425583          bill   154.210999   1.6735  -3.9846\n",
              "406    Topic5   149.869461          name   150.649643   1.6734  -4.0081\n",
              "448    Topic5   151.913437          base   152.706345   1.6734  -3.9945\n",
              "136    Topic5   145.806168          type   146.595261   1.6732  -4.0356\n",
              "6      Topic5   143.257675       section   144.036407   1.6732  -4.0532\n",
              "48     Topic5   142.753632      activate   143.542114   1.6731  -4.0567\n",
              "1508   Topic5   129.170242       loyalty   129.965134   1.6725  -4.1567\n",
              "852    Topic5   121.139877       session   121.920197   1.6722  -4.2209\n",
              "201    Topic5   124.151825            tv   124.977371   1.6720  -4.1963\n",
              "321    Topic5   130.119904       however   131.006775   1.6718  -4.1494\n",
              "397    Topic5   118.236320          file   119.045189   1.6718  -4.2451\n",
              "681    Topic5   107.095970          also   107.885834   1.6713  -4.3441\n",
              "1117   Topic5   110.805649         count   111.662125   1.6709  -4.3101\n",
              "165    Topic5    90.609436        action    91.405365   1.6699  -4.5113\n",
              "32     Topic5    80.697479      property    81.501076   1.6687  -4.6271\n",
              "320    Topic5    76.074249        object    76.872375   1.6682  -4.6861\n",
              "101    Topic5    73.432358          find    74.230995   1.6678  -4.7215\n",
              "569    Topic5    70.435425      decision    71.211548   1.6677  -4.7631\n",
              "131    Topic5    63.167164          note    63.950043   1.6663  -4.8720\n",
              "366    Topic5    59.756779          open    60.537968   1.6656  -4.9275\n",
              "367    Topic5    60.230347         agent    61.018776   1.6656  -4.9197\n",
              "604    Topic5    54.770432   proposition    55.563820   1.6642  -5.0147\n",
              "\n",
              "[188 rows x 6 columns], token_table=      Topic      Freq          Term\n",
              "term                               \n",
              "63        1  0.982373          able\n",
              "155       4  0.997747        accept\n",
              "68        1  0.999357       account\n",
              "165       5  0.995565        action\n",
              "48        5  0.996223      activate\n",
              "45        2  0.993501    activation\n",
              "551       4  0.994616        active\n",
              "177       3  0.995925        actual\n",
              "333       1  0.990991          actv\n",
              "17        3  0.998505           add\n",
              "639       3  0.996285    additional\n",
              "358       4  0.995358       address\n",
              "367       5  0.983304         agent\n",
              "681       5  0.991789          also\n",
              "634       3  0.984657   application\n",
              "1078      1  0.961675   appropriate\n",
              "1078      2  0.013545   appropriate\n",
              "1078      3  0.013545   appropriate\n",
              "1078      4  0.013545   appropriate\n",
              "1078      5  0.013545   appropriate\n",
              "699       2  0.990085         asset\n",
              "103       2  0.997161        attach\n",
              "1280      4  0.988427    attachment\n",
              "340       4  0.975911     available\n",
              "448       5  0.995375          base\n",
              "164       5  0.992147          bill\n",
              "14        2  0.995965          bulk\n",
              "175       3  0.991399        button\n",
              "330       3  0.997727          call\n",
              "385       3  0.995398          cart\n",
              "...     ...       ...           ...\n",
              "852       5  0.992452       session\n",
              "631       2  0.995534      shopping\n",
              "70        2  0.995272          show\n",
              "243       2  0.998172        status\n",
              "0         1  0.995729          step\n",
              "1023      2  0.993877          stms\n",
              "505       5  0.995864        submit\n",
              "230       4  0.994928       success\n",
              "74        1  0.996399        system\n",
              "157       5  0.996838           tab\n",
              "364       3  0.998122  telcocompany\n",
              "123       4  0.997589          test\n",
              "96        1  0.992918          time\n",
              "201       5  0.992180            tv\n",
              "822       1  0.008688           tvs\n",
              "822       2  0.008688           tvs\n",
              "822       3  0.973024           tvs\n",
              "822       4  0.008688           tvs\n",
              "822       5  0.008688           tvs\n",
              "136       5  0.995939          type\n",
              "1493      1  0.993025      ultimate\n",
              "59        1  0.980373        unable\n",
              "21        5  0.996883       upgrade\n",
              "50        3  0.997858           use\n",
              "210       3  0.996151      validate\n",
              "91        1  0.997320         value\n",
              "350       4  0.983885        verify\n",
              "76        2  0.996211         would\n",
              "105       1  0.995551           xml\n",
              "198       3  0.984191          xmls\n",
              "\n",
              "[174 rows x 3 columns], R=30, lambda_step=0.01, plot_opts={'xlab': 'PC1', 'ylab': 'PC2'}, topic_order=[2, 1, 3, 5, 4])"
            ]
          },
          "metadata": {
            "tags": []
          },
          "execution_count": 57
        }
      ]
    }
  ]
}