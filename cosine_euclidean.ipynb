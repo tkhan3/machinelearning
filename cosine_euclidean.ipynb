{
  "nbformat": 4,
  "nbformat_minor": 0,
  "metadata": {
    "colab": {
      "name": "cosine_euclidean.ipynb",
      "provenance": [],
      "authorship_tag": "ABX9TyPz7wq/X4FjtHcqlu8lw+xl",
      "include_colab_link": true
    },
    "kernelspec": {
      "name": "python3",
      "display_name": "Python 3"
    },
    "accelerator": "GPU"
  },
  "cells": [
    {
      "cell_type": "markdown",
      "metadata": {
        "id": "view-in-github",
        "colab_type": "text"
      },
      "source": [
        "<a href=\"https://colab.research.google.com/github/tkhan3/machinelearning/blob/master/cosine_euclidean.ipynb\" target=\"_parent\"><img src=\"https://colab.research.google.com/assets/colab-badge.svg\" alt=\"Open In Colab\"/></a>"
      ]
    },
    {
      "cell_type": "markdown",
      "metadata": {
        "id": "aDus9Z3msETY",
        "colab_type": "text"
      },
      "source": [
        "*Let's assume we have two vectors u and v. *\n",
        "\n",
        "*Eucildean distance between these two vectors is given by l2 norm*         ==> $ ||u-v||_2 $\n",
        "\n",
        "*We can compute Squared l2 norm as below∶ *\n",
        "\n",
        "$ \\left|\\left|u-v\\right|\\right|_2^2\\ \\ \\ \\ \\ =\\ \\left(u-v\\right)^T\\left(u-v\\right) $\n",
        "\n",
        "$ ||u-v||_2^2      =  u^T u - 2u^T v + v^T v $   ==> Equation #1\n",
        "\n",
        "*Cosine Similarity Between These vectors is give by:*\n",
        "\n",
        "c𝑜𝑠𝑖𝑛𝑒(𝑢,𝑣) = $(𝑢^𝑇𝑣)/(||𝑢||||𝑣||)$    \n",
        "  => Equation #2\n",
        "\n",
        "*If we convert vectors u and v to their l2 norm so that:*\n",
        "\n",
        "$ ||u||= 1\\ \\ \\ and\\ \\ \\ \\   ||v|| =\\ 1 $\n",
        "\n",
        "*Also in case of normalized vectors∶*\n",
        "\n",
        "$ u^T u\\ = 1\\ \\ and\\ \\  v^T v =1  $\n",
        "\n",
        "*Updating Equation #1 as:*\n",
        "\n",
        "$||u-v||_2^2      =  1 - 2u^T v + 1 $ \n",
        "\n",
        "$ ||u-v||_2^2     =  2 - 2u^T v $       =>  *Equation #3*\n",
        "\n",
        "*Updating Equation #2 as:              \n",
        "\n",
        "$ Cosine(u,v)=u^T v $                  => *Equation #4 *\n",
        "\n",
        "*Using Equation 3 and Equation 4*\n",
        "\n",
        "$ ||u-v||_2^2=2-2*Cosine(u,v) $\n",
        "\n",
        "*When u and v are normalized vector, Squared Euclidean Distance b\\/w u and v can be given by* :=> $ 2(1-Cosine(u,v)) $\n",
        "\n",
        "\n",
        "\n",
        "\n",
        "\n",
        "\n",
        "\n",
        "\n",
        "\n",
        "\n",
        "\n",
        "\n",
        "\n",
        "\n",
        "\n",
        "\n",
        "\n"
      ]
    }
  ]
}