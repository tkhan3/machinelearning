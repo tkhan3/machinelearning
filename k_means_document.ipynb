{
  "nbformat": 4,
  "nbformat_minor": 0,
  "metadata": {
    "colab": {
      "name": "k_means_document.ipynb",
      "version": "0.3.2",
      "provenance": [],
      "include_colab_link": true
    },
    "kernelspec": {
      "name": "python3",
      "display_name": "Python 3"
    },
    "accelerator": "GPU"
  },
  "cells": [
    {
      "cell_type": "markdown",
      "metadata": {
        "id": "view-in-github",
        "colab_type": "text"
      },
      "source": [
        "<a href=\"https://colab.research.google.com/github/tkhan3/machinelearning/blob/master/k_means_document.ipynb\" target=\"_parent\"><img src=\"https://colab.research.google.com/assets/colab-badge.svg\" alt=\"Open In Colab\"/></a>"
      ]
    },
    {
      "metadata": {
        "id": "OdIHxPjY7nmf",
        "colab_type": "code",
        "colab": {
          "base_uri": "https://localhost:8080/",
          "height": 836
        },
        "outputId": "dc5b076d-40bb-4e1f-cea5-84a97cb904ed"
      },
      "cell_type": "code",
      "source": [
        "!apt-get install -y -qq software-properties-common python-software-properties module-init-tools\n",
        "!add-apt-repository -y ppa:alessandro-strada/ppa 2>&1 > /dev/null\n",
        "!apt-get update -qq 2>&1 > /dev/null\n",
        "!apt-get -y install -qq google-drive-ocamlfuse fuse\n",
        "from google.colab import auth\n",
        "auth.authenticate_user()\n",
        "from oauth2client.client import GoogleCredentials\n",
        "creds = GoogleCredentials.get_application_default()\n",
        "import getpass\n",
        "!google-drive-ocamlfuse -headless -id={creds.client_id} -secret={creds.client_secret} < /dev/null 2>&1 | grep URL\n",
        "vcode = getpass.getpass()\n",
        "!echo {vcode} | google-drive-ocamlfuse -headless -id={creds.client_id} -secret={creds.client_secret}\n",
        "#import pandas as pd\n",
        "!google-drive-ocamlfuse drive\n",
        "!apt-get -qq install -y graphviz && pip install -q pydot\n",
        "!pip3 install seaborn==0.9.0\n",
        "import pydot\n",
        "!mkdir -p drive\n",
        "!google-drive-ocamlfuse drive\n",
        "!pip install sklearn_pandas"
      ],
      "execution_count": 20,
      "outputs": [
        {
          "output_type": "stream",
          "text": [
            "E: Package 'python-software-properties' has no installation candidate\n",
            "Selecting previously unselected package google-drive-ocamlfuse.\n",
            "(Reading database ... 131352 files and directories currently installed.)\n",
            "Preparing to unpack .../google-drive-ocamlfuse_0.7.1-0ubuntu3~ubuntu18.04.1_amd64.deb ...\n",
            "Unpacking google-drive-ocamlfuse (0.7.1-0ubuntu3~ubuntu18.04.1) ...\n",
            "Setting up google-drive-ocamlfuse (0.7.1-0ubuntu3~ubuntu18.04.1) ...\n",
            "Processing triggers for man-db (2.8.3-2ubuntu0.1) ...\n",
            "Please, open the following URL in a web browser: https://accounts.google.com/o/oauth2/auth?client_id=32555940559.apps.googleusercontent.com&redirect_uri=urn%3Aietf%3Awg%3Aoauth%3A2.0%3Aoob&scope=https%3A%2F%2Fwww.googleapis.com%2Fauth%2Fdrive&response_type=code&access_type=offline&approval_prompt=force\n",
            "··········\n",
            "Please, open the following URL in a web browser: https://accounts.google.com/o/oauth2/auth?client_id=32555940559.apps.googleusercontent.com&redirect_uri=urn%3Aietf%3Awg%3Aoauth%3A2.0%3Aoob&scope=https%3A%2F%2Fwww.googleapis.com%2Fauth%2Fdrive&response_type=code&access_type=offline&approval_prompt=force\n",
            "Please enter the verification code: Access token retrieved correctly.\n",
            "Error: Mountpoint drive should be an existing directory.\n",
            "Collecting seaborn==0.9.0\n",
            "\u001b[?25l  Downloading https://files.pythonhosted.org/packages/a8/76/220ba4420459d9c4c9c9587c6ce607bf56c25b3d3d2de62056efe482dadc/seaborn-0.9.0-py3-none-any.whl (208kB)\n",
            "\u001b[K    100% |████████████████████████████████| 215kB 28.1MB/s \n",
            "\u001b[?25hRequirement already satisfied: matplotlib>=1.4.3 in /usr/local/lib/python3.6/dist-packages (from seaborn==0.9.0) (3.0.2)\n",
            "Requirement already satisfied: pandas>=0.15.2 in /usr/local/lib/python3.6/dist-packages (from seaborn==0.9.0) (0.22.0)\n",
            "Requirement already satisfied: numpy>=1.9.3 in /usr/local/lib/python3.6/dist-packages (from seaborn==0.9.0) (1.14.6)\n",
            "Requirement already satisfied: scipy>=0.14.0 in /usr/local/lib/python3.6/dist-packages (from seaborn==0.9.0) (1.1.0)\n",
            "Requirement already satisfied: kiwisolver>=1.0.1 in /usr/local/lib/python3.6/dist-packages (from matplotlib>=1.4.3->seaborn==0.9.0) (1.0.1)\n",
            "Requirement already satisfied: pyparsing!=2.0.4,!=2.1.2,!=2.1.6,>=2.0.1 in /usr/local/lib/python3.6/dist-packages (from matplotlib>=1.4.3->seaborn==0.9.0) (2.3.1)\n",
            "Requirement already satisfied: python-dateutil>=2.1 in /usr/local/lib/python3.6/dist-packages (from matplotlib>=1.4.3->seaborn==0.9.0) (2.5.3)\n",
            "Requirement already satisfied: cycler>=0.10 in /usr/local/lib/python3.6/dist-packages (from matplotlib>=1.4.3->seaborn==0.9.0) (0.10.0)\n",
            "Requirement already satisfied: pytz>=2011k in /usr/local/lib/python3.6/dist-packages (from pandas>=0.15.2->seaborn==0.9.0) (2018.9)\n",
            "Requirement already satisfied: setuptools in /usr/local/lib/python3.6/dist-packages (from kiwisolver>=1.0.1->matplotlib>=1.4.3->seaborn==0.9.0) (40.8.0)\n",
            "Requirement already satisfied: six>=1.5 in /usr/local/lib/python3.6/dist-packages (from python-dateutil>=2.1->matplotlib>=1.4.3->seaborn==0.9.0) (1.11.0)\n",
            "Installing collected packages: seaborn\n",
            "  Found existing installation: seaborn 0.7.1\n",
            "    Uninstalling seaborn-0.7.1:\n",
            "      Successfully uninstalled seaborn-0.7.1\n",
            "Successfully installed seaborn-0.9.0\n"
          ],
          "name": "stdout"
        },
        {
          "output_type": "display_data",
          "data": {
            "application/vnd.colab-display-data+json": {
              "pip_warning": {
                "packages": [
                  "seaborn"
                ]
              }
            }
          },
          "metadata": {
            "tags": []
          }
        },
        {
          "output_type": "stream",
          "text": [
            "Collecting sklearn_pandas\n",
            "  Downloading https://files.pythonhosted.org/packages/1f/48/4e1461d828baf41d609efaa720d20090ac6ec346b5daad3c88e243e2207e/sklearn_pandas-1.8.0-py2.py3-none-any.whl\n",
            "Requirement already satisfied: pandas>=0.11.0 in /usr/local/lib/python3.6/dist-packages (from sklearn_pandas) (0.22.0)\n",
            "Requirement already satisfied: scipy>=0.14 in /usr/local/lib/python3.6/dist-packages (from sklearn_pandas) (1.1.0)\n",
            "Requirement already satisfied: numpy>=1.6.1 in /usr/local/lib/python3.6/dist-packages (from sklearn_pandas) (1.14.6)\n",
            "Requirement already satisfied: scikit-learn>=0.15.0 in /usr/local/lib/python3.6/dist-packages (from sklearn_pandas) (0.20.2)\n",
            "Requirement already satisfied: pytz>=2011k in /usr/local/lib/python3.6/dist-packages (from pandas>=0.11.0->sklearn_pandas) (2018.9)\n",
            "Requirement already satisfied: python-dateutil>=2 in /usr/local/lib/python3.6/dist-packages (from pandas>=0.11.0->sklearn_pandas) (2.5.3)\n",
            "Requirement already satisfied: six>=1.5 in /usr/local/lib/python3.6/dist-packages (from python-dateutil>=2->pandas>=0.11.0->sklearn_pandas) (1.11.0)\n",
            "Installing collected packages: sklearn-pandas\n",
            "Successfully installed sklearn-pandas-1.8.0\n"
          ],
          "name": "stdout"
        }
      ]
    },
    {
      "metadata": {
        "id": "UTxipQUn8Wr3",
        "colab_type": "code",
        "colab": {}
      },
      "cell_type": "code",
      "source": [
        "import pandas as pd\n",
        "from datetime import datetime\n",
        "import seaborn as sns\n",
        "import os\n",
        "from os import chdir,listdir,path,getcwd\n",
        "from sys import argv,exit\n",
        "import pandas as pd\n",
        "import re\n",
        "#from mkl import *\n",
        "import numpy as np\n",
        "import pickle\n",
        "import datetime\n",
        "import timeit\n",
        "from collections import Counter\n",
        "from copy import deepcopy\n",
        "from math import floor,ceil\n",
        "from scipy.stats import gaussian_kde\n",
        "import os\n",
        "from sklearn.feature_extraction.text import TfidfVectorizer\n",
        "from sklearn.metrics import silhouette_samples,silhouette_score\n",
        "from sklearn.manifold import TSNE\n",
        "from sklearn.decomposition import TruncatedSVD\n",
        "from sklearn.cluster import KMeans\n",
        "from sklearn.metrics import silhouette_samples,silhouette_score\n",
        "import string"
      ],
      "execution_count": 0,
      "outputs": []
    },
    {
      "metadata": {
        "id": "VWK7hWB_90FS",
        "colab_type": "code",
        "colab": {
          "base_uri": "https://localhost:8080/",
          "height": 34
        },
        "outputId": "4717af9e-37f2-49d1-83eb-e7daf06de9b4"
      },
      "cell_type": "code",
      "source": [
        "from keras.models import Model\n",
        "from keras.models import Sequential\n",
        "from keras.layers.core import Dense, Activation\n",
        "from keras.wrappers.scikit_learn import KerasClassifier\n",
        "from keras.layers import Dropout, Embedding, LSTM, MaxPooling1D, Flatten\n",
        "from keras.layers import Convolution1D, AveragePooling1D, Conv1D, Input, GlobalAveragePooling1D\n",
        "from keras.preprocessing.text import Tokenizer\n",
        "from keras.optimizers import Nadam, RMSprop\n",
        "from keras.utils.np_utils import to_categorical\n",
        "from keras.models import load_model"
      ],
      "execution_count": 2,
      "outputs": [
        {
          "output_type": "stream",
          "text": [
            "Using TensorFlow backend.\n"
          ],
          "name": "stderr"
        }
      ]
    },
    {
      "metadata": {
        "id": "VSY8asISMJxB",
        "colab_type": "code",
        "colab": {}
      },
      "cell_type": "code",
      "source": [
        "from scipy.stats import gaussian_kde\n",
        "from statsmodels.nonparametric.kde import KDEUnivariate\n",
        "from sklearn.manifold import TSNE\n",
        "import colorsys"
      ],
      "execution_count": 0,
      "outputs": []
    },
    {
      "metadata": {
        "id": "qm01cXtv9Url",
        "colab_type": "code",
        "colab": {}
      },
      "cell_type": "code",
      "source": [
        "import matplotlib.pyplot as plt\n",
        "import matplotlib.cm as cm\n",
        "import seaborn as sns\n",
        "import matplotlib.gridspec as gridspec"
      ],
      "execution_count": 0,
      "outputs": []
    },
    {
      "metadata": {
        "id": "nhTQySWW-AL_",
        "colab_type": "code",
        "colab": {}
      },
      "cell_type": "code",
      "source": [
        "def get_tfidf(data):\n",
        "  tf=TfidfVectorizer(input='content',analyzer='word',min_df=5,stop_words='english',max_features =20000)\n",
        "  X=tf.fit_transform(data)\n",
        "  X=X.todense()\n",
        "  return X\n"
      ],
      "execution_count": 0,
      "outputs": []
    },
    {
      "metadata": {
        "id": "Vjm0voeI-APK",
        "colab_type": "code",
        "colab": {}
      },
      "cell_type": "code",
      "source": [
        "def get_tfidf_truncSVD_features(df, fs_text = 'text', ngram_range = (1, 1),min_df = 5, n_components = 600,verbose = 1):\n",
        "  if verbose > 0:\n",
        "    print('TFIDF transformation started')\n",
        "  tfidf_model = TfidfVectorizer(stop_words = 'english', ngram_range = ngram_range,min_df = min_df)\n",
        "  tfidf = tfidf_model.fit_transform(df[fs_text].values)\n",
        "  if verbose > 0: print('TFIDF transformation complete')\n",
        "  tsvd_model = TruncatedSVD(n_components = n_components).fit(tfidf)\n",
        "  if verbose > 0: print('tSVD model fit complete')\n",
        "  print('Explained variance:', np.sum(tsvd_model.explained_variance_ratio_))   \n",
        "  tsvd = tsvd_model.transform(tfidf)\n",
        "  if verbose > 0: print('tSVD transformation complete')\n",
        "  tsvd = pd.DataFrame(tsvd)\n",
        "  fe_columns = ['tfidf_tSVD_' + str(i) for i in range(n_components)]\n",
        "  tsvd.columns = fe_columns\n",
        "  df = df.join(tsvd)\n",
        "  fs_ind = fe_columns\n",
        "  plt.figure()\n",
        "  plt.plot(np.cumsum(tsvd_model.explained_variance_ratio_))\n",
        "  plt.xlabel('Number of Components')\n",
        "  plt.ylabel('Variance (%)') #for each component\n",
        "  return df,tsvd_model,tfidf_model"
      ],
      "execution_count": 0,
      "outputs": []
    },
    {
      "metadata": {
        "id": "FUJNlw6p-ASA",
        "colab_type": "code",
        "colab": {}
      },
      "cell_type": "code",
      "source": [
        "def trSVD(n_comp,X):\n",
        "  lsa = TruncatedSVD(n_components=n_comp)\n",
        "  X_lsa = lsa.fit_transform(X)\n",
        "  compo=lsa.components_ \n",
        "  return lsa, X_lsa,compo"
      ],
      "execution_count": 0,
      "outputs": []
    },
    {
      "metadata": {
        "id": "rkEHmV8m-AU6",
        "colab_type": "code",
        "colab": {}
      },
      "cell_type": "code",
      "source": [
        "def Km_clust(data,n_clu):\n",
        "\tkm=KMeans(n_clusters=n_clu,random_state=123)\n",
        "\tkm_tr=km.fit_transform(data)\n",
        "\tkm_labels=km.fit_predict(data)    \n",
        "\tkm_lab=km.labels_\n",
        "\tcentroids=km.cluster_centers_\n",
        "\treturn km,km_labels#,km_tr,centroids,km_lab"
      ],
      "execution_count": 0,
      "outputs": []
    },
    {
      "metadata": {
        "id": "OM_Qcxdz-AYA",
        "colab_type": "code",
        "colab": {}
      },
      "cell_type": "code",
      "source": [
        "def silh_scre(Xlsa,km_lab):    \n",
        "    silh_avg=silhouette_score(Xlsa,km_lab)\n",
        "    silh_values=silhouette_samples(Xlsa,km_lab)\n",
        "    return silh_avg,silh_values"
      ],
      "execution_count": 0,
      "outputs": []
    },
    {
      "metadata": {
        "id": "1pFCTBxJ-AbE",
        "colab_type": "code",
        "colab": {}
      },
      "cell_type": "code",
      "source": [
        "def diff_Kmeans(feature_matrix,range_of_n,verbose=1):\n",
        "    KM_dict={}\n",
        "    for n_clusters in range_of_n:\n",
        "\t    if verbose>0: print (datetime.datetime.now())\n",
        "\t    if verbose>0: print ('Running for '+str(n_clusters)+' clusters...')\n",
        "\t    KM_n=Km_clust(feature_matrix,n_clusters)\n",
        "\t    silhouette_average=silhouette_score(feature_matrix,KM_n[1])\n",
        "\t    if verbose>0: print (datetime.datetime.now())\n",
        "\t    sample_silhoutte_values=silhouette_samples(feature_matrix,KM_n[1])\n",
        "\t    KM_dict[n_clusters]=[KM_n[0],KM_n[1],sample_silhoutte_values,silhouette_average]\n",
        "    return KM_dict"
      ],
      "execution_count": 0,
      "outputs": []
    },
    {
      "metadata": {
        "id": "XePhrBJrEOVA",
        "colab_type": "code",
        "colab": {}
      },
      "cell_type": "code",
      "source": [
        "def clean_up(rec):\n",
        "  table = str.maketrans({key: None for key in string.punctuation})\n",
        "  rec = str(rec)\n",
        "  rec = rec.replace('\\\\n','').replace('\\\\r','')\n",
        "  rec = re.sub(r'[^a-zA-Z0-9\\.,;?<>/ ]',r'',rec)\n",
        "  #rec = re.sub(r'\\w*\\d\\w*', '', rec)\n",
        "  rec = rec.strip()\n",
        "  rec = re.sub(' +', ' ',rec)\n",
        "  rec = rec.translate(table)\n",
        "  rec = rec.lower()\n",
        "  return rec"
      ],
      "execution_count": 0,
      "outputs": []
    },
    {
      "metadata": {
        "id": "rX0cqLkeMCAv",
        "colab_type": "code",
        "colab": {}
      },
      "cell_type": "code",
      "source": [
        "def kde_statsmodels_u(x, x_grid, bandwidth=0.2, **kwargs):\n",
        "    \"\"\"Univariate Kernel Density Estimation with Statsmodels\"\"\"\n",
        "    kde = KDEUnivariate(x)\n",
        "    kde.fit(bw=bandwidth, **kwargs)\n",
        "    return kde.evaluate(x_grid)"
      ],
      "execution_count": 0,
      "outputs": []
    },
    {
      "metadata": {
        "id": "N8FRi6RzNItP",
        "colab_type": "code",
        "colab": {}
      },
      "cell_type": "code",
      "source": [
        "def tsne(n_comp,data):\n",
        "    tsne_result=TSNE(n_components=n_comp).fit_transform(data)\n",
        "    return tsne_result"
      ],
      "execution_count": 0,
      "outputs": []
    },
    {
      "metadata": {
        "id": "KKUYA5auNWUp",
        "colab_type": "code",
        "colab": {}
      },
      "cell_type": "code",
      "source": [
        "def get_colors(num_colors=5):\n",
        "    colors=[]\n",
        "    for i in np.arange(0., 360., 360. / num_colors):\n",
        "        hue = i/360.\n",
        "        lightness = (50 + np.random.rand() * 10)/100.\n",
        "        saturation = (90 + np.random.rand() * 10)/100.\n",
        "        colors.append(colorsys.hls_to_rgb(hue, lightness, saturation))\n",
        "    return colors"
      ],
      "execution_count": 0,
      "outputs": []
    },
    {
      "metadata": {
        "id": "N9xmzDJkNgnX",
        "colab_type": "code",
        "colab": {}
      },
      "cell_type": "code",
      "source": [
        "def cluster_colors(lab, n_clust): #For generating colors: lab is the labels resulting from any clusteing algorithm\n",
        "    j= lab\n",
        "    col=get_colors(n_clust)\n",
        "    col1=[]\n",
        "    for x in j:\n",
        "        j1 = x\n",
        "        j1 = int(j1)\n",
        "        col1.append(col[j1])\n",
        "    return col1"
      ],
      "execution_count": 0,
      "outputs": []
    },
    {
      "metadata": {
        "id": "Xdx3UZIkNviY",
        "colab_type": "code",
        "colab": {}
      },
      "cell_type": "code",
      "source": [
        "def tsne_plt(tsne_r,color):\n",
        "    plt.figure(figsize=(5,5))\n",
        "    ax = plt.axes(frameon=False)\n",
        "    plt.setp(ax, xticks=(), yticks=())\n",
        "    plt.subplots_adjust(left=0.0, bottom=0.0, right=1.0, top=0.9,\n",
        "                    wspace=0.0, hspace=0.0)\n",
        "    plt.scatter(tsne_r[:,0],tsne_r[:,1],marker='*',s=10,color=color)\n",
        "    return plt.show()\n"
      ],
      "execution_count": 0,
      "outputs": []
    },
    {
      "metadata": {
        "id": "jVBdPQTtNwkg",
        "colab_type": "code",
        "colab": {}
      },
      "cell_type": "code",
      "source": [
        "def tsne_plt_cent(tsne_r,n_clust,lab,color):\n",
        "    cent_x=[]\n",
        "    cent_y=[]\n",
        "    plotlabel=[]\n",
        "    marker_color=get_colors(n_clust)\n",
        "    mytsne=(tsne_r[:,0],tsne_r[:,1],lab)    \n",
        "    for i in range(0,n_clust):\n",
        "        labindex = np.where(lab==i)[0]\n",
        "        myx=[]\n",
        "        myy=[]\n",
        "        for k in labindex:\n",
        "            try:\n",
        "                myx.append(mytsne[0][k])\n",
        "                myy.append(mytsne[1][k])\n",
        "            except Exception as e:\n",
        "                print (str(e))\n",
        "                print (k)\n",
        "                exit(1)\n",
        "        #myx = list(chain(*myx))\n",
        "        #myy = list(chain(*myy))\n",
        "        cent_x.append(np.mean(myx))\n",
        "        cent_y.append(np.mean(myy))\n",
        "        plotlabel.append(i)\n",
        "    plt.figure(figsize=(30,40))\n",
        "    ax = plt.axes(frameon=False)\n",
        "    plt.setp(ax, xticks=(), yticks=())\n",
        "    plt.subplots_adjust(left=0.0, bottom=0.0, right=1.0, top=0.9,\n",
        "                    wspace=0.0, hspace=0.0)\n",
        "    plt.scatter(tsne_r[:,0], tsne_r[:,1],marker='o',s=2,color=color)\n",
        "    plt.scatter(cent_x, cent_y,marker='s', edgecolor='black', linewidth='3', facecolor=marker_color, hatch='|',s=20)\n",
        "    #plt.xlim(-15,15)\n",
        "    #plt.ylim(-15,15)\n",
        "    for i, txt in enumerate(plotlabel):\n",
        "        ax.annotate(txt, (cent_x[i], cent_y[i]))\n",
        "    return plt.show()"
      ],
      "execution_count": 0,
      "outputs": []
    },
    {
      "metadata": {
        "id": "WyR5f_LV_4H5",
        "colab_type": "code",
        "colab": {}
      },
      "cell_type": "code",
      "source": [
        "import os\n",
        "drive_path = 'drive/DL_COLAB/'\n",
        "\n",
        "TICKET_ANALYTICS_PATH = os.path.join(drive_path,\"text_analytics\",\"ticket_analysis\")\n",
        "\n",
        "def load_ticket_data(filename, file_path=TICKET_ANALYTICS_PATH):\n",
        "    csv_path = os.path.join(file_path, filename)\n",
        "    return pd.read_csv(csv_path,sep=\",\")"
      ],
      "execution_count": 0,
      "outputs": []
    },
    {
      "metadata": {
        "id": "2wjpNE8F_4LU",
        "colab_type": "code",
        "colab": {}
      },
      "cell_type": "code",
      "source": [
        "ticket_data_full = load_ticket_data(\"Telco_Apr-2016.csv\",TICKET_ANALYTICS_PATH)"
      ],
      "execution_count": 0,
      "outputs": []
    },
    {
      "metadata": {
        "id": "p9Hvbgwt_4Nv",
        "colab_type": "code",
        "colab": {}
      },
      "cell_type": "code",
      "source": [
        "FIELDS = [\"Defect ID\",\"Title\",\"Problem Details\",\"Resolution Details\",\"Root Cause\"]"
      ],
      "execution_count": 0,
      "outputs": []
    },
    {
      "metadata": {
        "id": "g_z6Yudf_4Q2",
        "colab_type": "code",
        "colab": {}
      },
      "cell_type": "code",
      "source": [
        "ticket_data = ticket_data_full[FIELDS]"
      ],
      "execution_count": 0,
      "outputs": []
    },
    {
      "metadata": {
        "id": "hfJWjUDo-Ae2",
        "colab_type": "code",
        "colab": {}
      },
      "cell_type": "code",
      "source": [
        "problem_desc_list = ticket_data[['Problem Details']].values.tolist()"
      ],
      "execution_count": 0,
      "outputs": []
    },
    {
      "metadata": {
        "id": "Z2sdr4NvtRps",
        "colab_type": "code",
        "colab": {}
      },
      "cell_type": "code",
      "source": [
        "problem_desc_cleanned = [clean_up(item) for item in problem_desc_list]"
      ],
      "execution_count": 0,
      "outputs": []
    },
    {
      "metadata": {
        "id": "yyYDAGchvQxM",
        "colab_type": "code",
        "colab": {
          "base_uri": "https://localhost:8080/",
          "height": 190
        },
        "outputId": "35a9f642-ae2c-4a42-fd95-cd69c49be146"
      },
      "cell_type": "code",
      "source": [
        "problem_desc_cleanned[1:10]"
      ],
      "execution_count": 141,
      "outputs": [
        {
          "output_type": "execute_result",
          "data": {
            "text/plain": [
              "['reason and sub reason section not updated under auc004 and auc005 in dbrd v007',\n",
              " 'no functional requirements for auc003 dealer changes number of bulk receivers ba will add frs related to auc003',\n",
              " 'no functional requirements for auc005 dealer places upgrade order ba added frs covering auc005',\n",
              " 'should be automatically defaulting to all included when it is just going to general market right now',\n",
              " 'auc covering migration of properties to bulk is missing there are two functional requirements present but no auc ba listed them under deployment option after several discussions ba was convinced to add auc for that purpose',\n",
              " 'no auc nor functional requirements separation for fulfillment and nonfulfillment dealer activations ba agreed to add auc for nonfulfillment and fulfillment dealer receiver activation dws is uded to activate nonfulfillment fstp riocc and ivr are used for fulfillment dealer activations',\n",
              " 'confirmation letter codes not updated in cor v200',\n",
              " 'when attempting to upgrade the customer receive an error stating unable to generate offers request and am not able to view or move forward on processing upgrade account 71918880',\n",
              " 'warranty out offers are showing for the accounts with receiver activation date of more than 365 days source system transaction id 71844360005a0000004jpez031720161430009686278961x03ptqyd5wec']"
            ]
          },
          "metadata": {
            "tags": []
          },
          "execution_count": 141
        }
      ]
    },
    {
      "metadata": {
        "id": "I1uRMk1OwRO8",
        "colab_type": "code",
        "colab": {}
      },
      "cell_type": "code",
      "source": [
        "problem_desc_cleanned_df = pd.DataFrame(problem_desc_cleanned,columns=['Problem Details'])"
      ],
      "execution_count": 0,
      "outputs": []
    },
    {
      "metadata": {
        "id": "v3k7Wm-kwr0x",
        "colab_type": "code",
        "colab": {
          "base_uri": "https://localhost:8080/",
          "height": 359
        },
        "outputId": "d902c4f6-efa3-41af-e68a-d3148e09c73c"
      },
      "cell_type": "code",
      "source": [
        "problem_desc_cleanned_df.loc[1:10,:]"
      ],
      "execution_count": 152,
      "outputs": [
        {
          "output_type": "execute_result",
          "data": {
            "text/html": [
              "<div>\n",
              "<style scoped>\n",
              "    .dataframe tbody tr th:only-of-type {\n",
              "        vertical-align: middle;\n",
              "    }\n",
              "\n",
              "    .dataframe tbody tr th {\n",
              "        vertical-align: top;\n",
              "    }\n",
              "\n",
              "    .dataframe thead th {\n",
              "        text-align: right;\n",
              "    }\n",
              "</style>\n",
              "<table border=\"1\" class=\"dataframe\">\n",
              "  <thead>\n",
              "    <tr style=\"text-align: right;\">\n",
              "      <th></th>\n",
              "      <th>Problem Details</th>\n",
              "    </tr>\n",
              "  </thead>\n",
              "  <tbody>\n",
              "    <tr>\n",
              "      <th>1</th>\n",
              "      <td>reason and sub reason section not updated unde...</td>\n",
              "    </tr>\n",
              "    <tr>\n",
              "      <th>2</th>\n",
              "      <td>no functional requirements for auc003 dealer c...</td>\n",
              "    </tr>\n",
              "    <tr>\n",
              "      <th>3</th>\n",
              "      <td>no functional requirements for auc005 dealer p...</td>\n",
              "    </tr>\n",
              "    <tr>\n",
              "      <th>4</th>\n",
              "      <td>should be automatically defaulting to all incl...</td>\n",
              "    </tr>\n",
              "    <tr>\n",
              "      <th>5</th>\n",
              "      <td>auc covering migration of properties to bulk i...</td>\n",
              "    </tr>\n",
              "    <tr>\n",
              "      <th>6</th>\n",
              "      <td>no auc nor functional requirements separation ...</td>\n",
              "    </tr>\n",
              "    <tr>\n",
              "      <th>7</th>\n",
              "      <td>confirmation letter codes not updated in cor v200</td>\n",
              "    </tr>\n",
              "    <tr>\n",
              "      <th>8</th>\n",
              "      <td>when attempting to upgrade the customer receiv...</td>\n",
              "    </tr>\n",
              "    <tr>\n",
              "      <th>9</th>\n",
              "      <td>warranty out offers are showing for the accoun...</td>\n",
              "    </tr>\n",
              "    <tr>\n",
              "      <th>10</th>\n",
              "      <td>oms did not default to all included and 1012 w...</td>\n",
              "    </tr>\n",
              "  </tbody>\n",
              "</table>\n",
              "</div>"
            ],
            "text/plain": [
              "                                      Problem Details\n",
              "1   reason and sub reason section not updated unde...\n",
              "2   no functional requirements for auc003 dealer c...\n",
              "3   no functional requirements for auc005 dealer p...\n",
              "4   should be automatically defaulting to all incl...\n",
              "5   auc covering migration of properties to bulk i...\n",
              "6   no auc nor functional requirements separation ...\n",
              "7   confirmation letter codes not updated in cor v200\n",
              "8   when attempting to upgrade the customer receiv...\n",
              "9   warranty out offers are showing for the accoun...\n",
              "10  oms did not default to all included and 1012 w..."
            ]
          },
          "metadata": {
            "tags": []
          },
          "execution_count": 152
        }
      ]
    },
    {
      "metadata": {
        "id": "0ZNayk9i9E8Y",
        "colab_type": "code",
        "colab": {
          "base_uri": "https://localhost:8080/",
          "height": 368
        },
        "outputId": "65c53f9a-c569-4505-e55a-1775ea5921e2"
      },
      "cell_type": "code",
      "source": [
        "truncTFIDF,tsvd_model,tfidf_model = get_tfidf_truncSVD_features(df=problem_desc_cleanned_df,fs_text='Problem Details',ngram_range = (1, 2),min_df = 5, n_components = 600)"
      ],
      "execution_count": 260,
      "outputs": [
        {
          "output_type": "stream",
          "text": [
            "TFIDF transformation started\n",
            "TFIDF transformation complete\n",
            "tSVD model fit complete\n",
            "Explained variance: 0.9995731518614177\n",
            "tSVD transformation complete\n"
          ],
          "name": "stdout"
        },
        {
          "output_type": "display_data",
          "data": {
            "image/png": "[encoded data removed]",
            "text/plain": [
              "<Figure size 432x288 with 1 Axes>"
            ]
          },
          "metadata": {
            "tags": []
          }
        }
      ]
    },
    {
      "metadata": {
        "id": "2iccmvI4_wwG",
        "colab_type": "code",
        "colab": {
          "base_uri": "https://localhost:8080/",
          "height": 368
        },
        "outputId": "835f7f1a-a80c-47ea-b310-2333c347e5c7"
      },
      "cell_type": "code",
      "source": [
        "truncTFIDF,tsvd_model,tfidf_model = get_tfidf_truncSVD_features(df=problem_desc_cleanned_df,fs_text='Problem Details',ngram_range = (1, 2),min_df = 5, n_components = 500)"
      ],
      "execution_count": 261,
      "outputs": [
        {
          "output_type": "stream",
          "text": [
            "TFIDF transformation started\n",
            "TFIDF transformation complete\n",
            "tSVD model fit complete\n",
            "Explained variance: 0.9870510059364406\n",
            "tSVD transformation complete\n"
          ],
          "name": "stdout"
        },
        {
          "output_type": "display_data",
          "data": {
            "image/png": "[encoded data removed]",
            "text/plain": [
              "<Figure size 432x288 with 1 Axes>"
            ]
          },
          "metadata": {
            "tags": []
          }
        }
      ]
    },
    {
      "metadata": {
        "id": "slFBtJqo_9ke",
        "colab_type": "code",
        "colab": {}
      },
      "cell_type": "code",
      "source": [
        "feature_matrix=np.matrix(truncTFIDF[[x for x in truncTFIDF.columns if re.match('tfidf',x)]])"
      ],
      "execution_count": 0,
      "outputs": []
    },
    {
      "metadata": {
        "id": "L6wdptqQCRmf",
        "colab_type": "code",
        "colab": {
          "base_uri": "https://localhost:8080/",
          "height": 34
        },
        "outputId": "0e2f6f2c-1e4a-455c-f24c-ce6ec8d1d72b"
      },
      "cell_type": "code",
      "source": [
        "feature_matrix.shape"
      ],
      "execution_count": 242,
      "outputs": [
        {
          "output_type": "execute_result",
          "data": {
            "text/plain": [
              "(622, 500)"
            ]
          },
          "metadata": {
            "tags": []
          },
          "execution_count": 242
        }
      ]
    },
    {
      "metadata": {
        "id": "BXTLEHRmCopD",
        "colab_type": "code",
        "colab": {}
      },
      "cell_type": "code",
      "source": [
        "range_n_clusters=range(5,11)"
      ],
      "execution_count": 0,
      "outputs": []
    },
    {
      "metadata": {
        "id": "cjDw_wt-CscM",
        "colab_type": "code",
        "colab": {
          "base_uri": "https://localhost:8080/",
          "height": 323
        },
        "outputId": "0e5ff5aa-1539-46ab-b228-d3703c81b703"
      },
      "cell_type": "code",
      "source": [
        "KM_info=diff_Kmeans(feature_matrix,range_n_clusters)"
      ],
      "execution_count": 244,
      "outputs": [
        {
          "output_type": "stream",
          "text": [
            "2019-02-22 18:28:20.901459\n",
            "Running for 5 clusters...\n",
            "2019-02-22 18:28:21.595959\n",
            "2019-02-22 18:28:21.610874\n",
            "Running for 6 clusters...\n",
            "2019-02-22 18:28:22.270578\n",
            "2019-02-22 18:28:22.284344\n",
            "Running for 7 clusters...\n",
            "2019-02-22 18:28:22.970280\n",
            "2019-02-22 18:28:22.984134\n",
            "Running for 8 clusters...\n",
            "2019-02-22 18:28:23.772222\n",
            "2019-02-22 18:28:23.792016\n",
            "Running for 9 clusters...\n",
            "2019-02-22 18:28:24.772891\n",
            "2019-02-22 18:28:24.792615\n",
            "Running for 10 clusters...\n",
            "2019-02-22 18:28:25.854694\n"
          ],
          "name": "stdout"
        }
      ]
    },
    {
      "metadata": {
        "id": "452oWS-tFmkD",
        "colab_type": "code",
        "colab": {
          "base_uri": "https://localhost:8080/",
          "height": 34
        },
        "outputId": "18a44c7f-5b9a-43bc-dcc9-fc8ceac8281d"
      },
      "cell_type": "code",
      "source": [
        "KM_info.keys()"
      ],
      "execution_count": 245,
      "outputs": [
        {
          "output_type": "execute_result",
          "data": {
            "text/plain": [
              "dict_keys([5, 6, 7, 8, 9, 10])"
            ]
          },
          "metadata": {
            "tags": []
          },
          "execution_count": 245
        }
      ]
    },
    {
      "metadata": {
        "id": "P3ipwKwZHhiU",
        "colab_type": "code",
        "colab": {
          "base_uri": "https://localhost:8080/",
          "height": 510
        },
        "outputId": "319b2eaa-6880-4380-b5ca-9b0af6650153"
      },
      "cell_type": "code",
      "source": [
        "temp_range=[5]\n",
        "#temp_range = range_n_clusters\n",
        "\n",
        "# In[159]:\n",
        "\n",
        "y_lower = 10\n",
        "\n",
        "for n_clusters in temp_range:\n",
        "    print (n_clusters)\n",
        "    fig, ax1 = plt.subplots()\n",
        "    fig.set_size_inches(18, 7)\n",
        "    ax1.set_xlim([-0.1, 1])\n",
        "    ax1.set_ylim([0, len(feature_matrix) + (n_clusters + 1) * 10])    \n",
        "    #print (\"For number of clusters \"+str(n_clusters)+\" the average silhoutte score is :\"+str(KM_info[n_clusters][3]))\n",
        "    for i in range(n_clusters):\n",
        "        ith_cluster_silhouette_values = KM_info[n_clusters][2][KM_info[n_clusters][1] == i]\n",
        "        ith_cluster_silhouette_values.sort()\n",
        "        size_cluster_i = ith_cluster_silhouette_values.shape[0]\n",
        "        y_upper = y_lower + size_cluster_i\n",
        "        cmap = cm.get_cmap(\"Spectral\")\n",
        "        color = cmap(float(i) / n_clusters)\n",
        "        ax1.fill_betweenx(np.arange(y_lower, y_upper), 0, ith_cluster_silhouette_values,facecolor=color, edgecolor=color, alpha=0.7)\n",
        "        ax1.text(-0.05, y_lower + 0.5 * size_cluster_i, str(i))\n",
        "        y_lower = y_upper + 10  # 10 for the 0 samples\n",
        "    ax1.set_title(\"The silhouette plot for the various clusters.\")\n",
        "    ax1.set_xlabel(\"The silhouette coefficient values\")\n",
        "    ax1.set_ylabel(\"Cluster label\")\n",
        "    ax1.axvline(x=KM_info[n_clusters][3], color=\"red\", linestyle=\"--\")\n",
        "    ax1.set_yticks([])\n",
        "    ax1.set_xticks([-0.1, 0, 0.2, 0.4, 0.6, 0.8, 1])\n",
        "    plt.suptitle((\"Silhouette analysis for KMeans clustering on sample data \"\n",
        "                  \"with n_clusters = %d\" % n_clusters),\n",
        "                 fontsize=14, fontweight='bold')\n",
        "    plt.show()"
      ],
      "execution_count": 247,
      "outputs": [
        {
          "output_type": "stream",
          "text": [
            "5\n"
          ],
          "name": "stdout"
        },
        {
          "output_type": "display_data",
          "data": {
            "image/png": "[encoded data removed]",
            "text/plain": [
              "<Figure size 1296x504 with 1 Axes>"
            ]
          },
          "metadata": {
            "tags": []
          }
        }
      ]
    },
    {
      "metadata": {
        "id": "nMR12Va6L8Fb",
        "colab_type": "code",
        "colab": {
          "base_uri": "https://localhost:8080/",
          "height": 242
        },
        "outputId": "b232de02-8eb7-4243-8c2b-8ff1fb00ff58"
      },
      "cell_type": "code",
      "source": [
        "print (temp_range)\n",
        "x_grid = np.linspace(-1, 1, 1000)\n",
        "for n_clusters in temp_range:\n",
        "    n_cols=5\n",
        "    n_rows=n_clusters/5\n",
        "    gs=gridspec.GridSpec(int(n_rows),int(n_cols))\n",
        "    #fig = plt.figure()\n",
        "    fig_height = 3*n_rows\n",
        "    plot_aspect_ratio=1.62\n",
        "    fig = plt.figure(figsize=(fig_height  * plot_aspect_ratio*3, fig_height ))\n",
        "    j=0\n",
        "    for i in range(n_clusters):\n",
        "        ith_cluster_silhouette_values = KM_info[n_clusters][2][KM_info[n_clusters][1] == i]\n",
        "        ith_cluster_silhouette_values.sort()\n",
        "        ax = fig.add_subplot(gs[j])        \n",
        "        density = kde_statsmodels_u(ith_cluster_silhouette_values,x_grid)\n",
        "        ax.plot(x_grid,density,lw=3)\n",
        "        ax.set_xticks([-1,-0.5,0\n",
        "                       ,0.5,1])\n",
        "        j=j+1\n",
        "fig.tight_layout()\n",
        "fig.show()"
      ],
      "execution_count": 248,
      "outputs": [
        {
          "output_type": "stream",
          "text": [
            "[5]\n"
          ],
          "name": "stdout"
        },
        {
          "output_type": "display_data",
          "data": {
            "image/png": "[encoded data removed]",
            "text/plain": [
              "<Figure size 1049.76x216 with 5 Axes>"
            ]
          },
          "metadata": {
            "tags": []
          }
        }
      ]
    },
    {
      "metadata": {
        "id": "8-_gZZDiM7K9",
        "colab_type": "code",
        "colab": {}
      },
      "cell_type": "code",
      "source": [
        "tsne_r=tsne(2,feature_matrix)"
      ],
      "execution_count": 0,
      "outputs": []
    },
    {
      "metadata": {
        "id": "vZ1usdbGN76n",
        "colab_type": "code",
        "colab": {}
      },
      "cell_type": "code",
      "source": [
        "clust_cols=cluster_colors(KM_info[5][1],5)"
      ],
      "execution_count": 0,
      "outputs": []
    },
    {
      "metadata": {
        "id": "jbbBXNVOOIQ8",
        "colab_type": "code",
        "colab": {
          "base_uri": "https://localhost:8080/",
          "height": 362
        },
        "outputId": "dffe4a30-9306-4638-adb2-1ec38e6f63f0"
      },
      "cell_type": "code",
      "source": [
        "tsne_plt(tsne_r,clust_cols)"
      ],
      "execution_count": 251,
      "outputs": [
        {
          "output_type": "display_data",
          "data": {
            "image/png": "[encoded data removed]",
            "text/plain": [
              "<Figure size 360x360 with 1 Axes>"
            ]
          },
          "metadata": {
            "tags": []
          }
        }
      ]
    },
    {
      "metadata": {
        "id": "CZu6SFeicR5I",
        "colab_type": "code",
        "colab": {}
      },
      "cell_type": "code",
      "source": [
        "original_space_centroids = tsvd_model.inverse_transform(KM_info[5][0].cluster_centers_)"
      ],
      "execution_count": 0,
      "outputs": []
    },
    {
      "metadata": {
        "id": "n1P4v1M9dPMk",
        "colab_type": "code",
        "colab": {}
      },
      "cell_type": "code",
      "source": [
        "order_centroids = original_space_centroids.argsort()[:, ::-1]"
      ],
      "execution_count": 0,
      "outputs": []
    },
    {
      "metadata": {
        "id": "KjylmK0seKEJ",
        "colab_type": "code",
        "colab": {}
      },
      "cell_type": "code",
      "source": [
        "terms = tfidf_model.get_feature_names()"
      ],
      "execution_count": 0,
      "outputs": []
    },
    {
      "metadata": {
        "id": "MbgtW0QxdVEd",
        "colab_type": "code",
        "colab": {
          "base_uri": "https://localhost:8080/",
          "height": 867
        },
        "outputId": "1a98bc7f-0dc7-4c0f-f323-623a8e300049"
      },
      "cell_type": "code",
      "source": [
        "for i in range(5):\n",
        "  print(\"Cluster %d:\" % i, end='')\n",
        "  for ind in order_centroids[i, :10]:\n",
        "    print(' %s' % terms[ind], end='')\n",
        "    print()"
      ],
      "execution_count": 263,
      "outputs": [
        {
          "output_type": "stream",
          "text": [
            "Cluster 0: group\n",
            " offer\n",
            " offer group\n",
            " groups\n",
            " offer groups\n",
            " result\n",
            " propositions\n",
            " members\n",
            " response\n",
            " request\n",
            "Cluster 1: error\n",
            " request\n",
            " response\n",
            " account\n",
            " offers\n",
            " test\n",
            " click\n",
            " result\n",
            " select\n",
            " warranty\n",
            "Cluster 2: order\n",
            " genie\n",
            " 4k\n",
            " account\n",
            " mini\n",
            " customer\n",
            " test\n",
            " oms\n",
            " 4k genie\n",
            " results\n",
            "Cluster 3: acc\n",
            " search\n",
            " click\n",
            " rio\n",
            " agent\n",
            " button\n",
            " results window\n",
            " window\n",
            " look\n",
            " search results\n",
            "Cluster 4: id\n",
            " clr\n",
            " net clr\n",
            " net\n",
            " data\n",
            " scart\n",
            " scart id\n",
            " session\n",
            " application\n",
            " useragent\n"
          ],
          "name": "stdout"
        }
      ]
    }
  ]
}