{
  "nbformat": 4,
  "nbformat_minor": 0,
  "metadata": {
    "colab": {
      "name": "Attrition_Prediction.ipynb",
      "version": "0.3.2",
      "provenance": [],
      "include_colab_link": true
    },
    "kernelspec": {
      "name": "python3",
      "display_name": "Python 3"
    }
  },
  "cells": [
    {
      "cell_type": "markdown",
      "metadata": {
        "id": "view-in-github",
        "colab_type": "text"
      },
      "source": [
        "<a href=\"https://colab.research.google.com/github/tkhan3/machinelearning/blob/master/Attrition_Prediction.ipynb\" target=\"_parent\"><img src=\"https://colab.research.google.com/assets/colab-badge.svg\" alt=\"Open In Colab\"/></a>"
      ]
    },
    {
      "metadata": {
        "id": "i5aM5bJP-eQs",
        "colab_type": "text"
      },
      "cell_type": "markdown",
      "source": [
        "**Objective of this study is to build a proactive system that will help in predicting potential employees that are on the risk of attritition. This system will help HR and Organization is identifying the potential candidates that are likely to leave organization by raising a flag. HR and Organziation can examine these cases and can determine if they need to intervene and take some steps to prevent this. This will also help HR in building contigency which includes finidng replacement or looking for new hire or plan for transition. **\n",
        "\n",
        "**This has two parts. First part includes exploratory study which will help in understanding the underlying data points/variable/factors. This exploratory study help in discovering various distributions and finiding the issues with the data. This will also assist in determining what all algorithms can be applicable and if some variable transformations are needed.**\n",
        "\n",
        "**Second part of the study is training various machine learning models for classification. These machine learning model will predict if an employee is on the risk of attrition or not. In this study we are generating probabilities of the attrition but this can be done easily by extending this work. Multiple machine learning models are trained and their performance is compared with the help of Confusion Matrix.**\n",
        "\n",
        "**There is a class imbalance in the dataset. So in this study precision and recall are more important parameter to measure the efficacy of the qualifier. We can't just look at the Accuracy as there is a class imbalance in the dataset.**"
      ]
    },
    {
      "metadata": {
        "id": "fpLcVwKI4nn_",
        "colab_type": "code",
        "colab": {
          "base_uri": "https://localhost:8080/",
          "height": 836
        },
        "outputId": "ff9e2523-a843-48b8-e972-c1e348f33a27"
      },
      "cell_type": "code",
      "source": [
        "!apt-get install -y -qq software-properties-common python-software-properties module-init-tools\n",
        "!add-apt-repository -y ppa:alessandro-strada/ppa 2>&1 > /dev/null\n",
        "!apt-get update -qq 2>&1 > /dev/null\n",
        "!apt-get -y install -qq google-drive-ocamlfuse fuse\n",
        "from google.colab import auth\n",
        "auth.authenticate_user()\n",
        "from oauth2client.client import GoogleCredentials\n",
        "creds = GoogleCredentials.get_application_default()\n",
        "import getpass\n",
        "!google-drive-ocamlfuse -headless -id={creds.client_id} -secret={creds.client_secret} < /dev/null 2>&1 | grep URL\n",
        "vcode = getpass.getpass()\n",
        "!echo {vcode} | google-drive-ocamlfuse -headless -id={creds.client_id} -secret={creds.client_secret}\n",
        "#import pandas as pd\n",
        "!google-drive-ocamlfuse drive\n",
        "!apt-get -qq install -y graphviz && pip install -q pydot\n",
        "!pip3 install seaborn==0.9.0\n",
        "import pydot\n",
        "!mkdir -p drive\n",
        "!google-drive-ocamlfuse drive\n",
        "!pip install sklearn_pandas"
      ],
      "execution_count": 1,
      "outputs": [
        {
          "output_type": "stream",
          "text": [
            "E: Package 'python-software-properties' has no installation candidate\n",
            "Selecting previously unselected package google-drive-ocamlfuse.\n",
            "(Reading database ... 110856 files and directories currently installed.)\n",
            "Preparing to unpack .../google-drive-ocamlfuse_0.7.1-0ubuntu3~ubuntu18.04.1_amd64.deb ...\n",
            "Unpacking google-drive-ocamlfuse (0.7.1-0ubuntu3~ubuntu18.04.1) ...\n",
            "Setting up google-drive-ocamlfuse (0.7.1-0ubuntu3~ubuntu18.04.1) ...\n",
            "Processing triggers for man-db (2.8.3-2ubuntu0.1) ...\n",
            "Please, open the following URL in a web browser: https://accounts.google.com/o/oauth2/auth?client_id=32555940559.apps.googleusercontent.com&redirect_uri=urn%3Aietf%3Awg%3Aoauth%3A2.0%3Aoob&scope=https%3A%2F%2Fwww.googleapis.com%2Fauth%2Fdrive&response_type=code&access_type=offline&approval_prompt=force\n",
            "··········\n",
            "Please, open the following URL in a web browser: https://accounts.google.com/o/oauth2/auth?client_id=32555940559.apps.googleusercontent.com&redirect_uri=urn%3Aietf%3Awg%3Aoauth%3A2.0%3Aoob&scope=https%3A%2F%2Fwww.googleapis.com%2Fauth%2Fdrive&response_type=code&access_type=offline&approval_prompt=force\n",
            "Please enter the verification code: Access token retrieved correctly.\n",
            "Error: Mountpoint drive should be an existing directory.\n",
            "Collecting seaborn==0.9.0\n",
            "\u001b[?25l  Downloading https://files.pythonhosted.org/packages/a8/76/220ba4420459d9c4c9c9587c6ce607bf56c25b3d3d2de62056efe482dadc/seaborn-0.9.0-py3-none-any.whl (208kB)\n",
            "\u001b[K    100% |████████████████████████████████| 215kB 4.2MB/s \n",
            "\u001b[?25hRequirement already satisfied: pandas>=0.15.2 in /usr/local/lib/python3.6/dist-packages (from seaborn==0.9.0) (0.22.0)\n",
            "Requirement already satisfied: matplotlib>=1.4.3 in /usr/local/lib/python3.6/dist-packages (from seaborn==0.9.0) (3.0.2)\n",
            "Requirement already satisfied: scipy>=0.14.0 in /usr/local/lib/python3.6/dist-packages (from seaborn==0.9.0) (1.1.0)\n",
            "Requirement already satisfied: numpy>=1.9.3 in /usr/local/lib/python3.6/dist-packages (from seaborn==0.9.0) (1.14.6)\n",
            "Requirement already satisfied: python-dateutil>=2 in /usr/local/lib/python3.6/dist-packages (from pandas>=0.15.2->seaborn==0.9.0) (2.5.3)\n",
            "Requirement already satisfied: pytz>=2011k in /usr/local/lib/python3.6/dist-packages (from pandas>=0.15.2->seaborn==0.9.0) (2018.9)\n",
            "Requirement already satisfied: pyparsing!=2.0.4,!=2.1.2,!=2.1.6,>=2.0.1 in /usr/local/lib/python3.6/dist-packages (from matplotlib>=1.4.3->seaborn==0.9.0) (2.3.1)\n",
            "Requirement already satisfied: kiwisolver>=1.0.1 in /usr/local/lib/python3.6/dist-packages (from matplotlib>=1.4.3->seaborn==0.9.0) (1.0.1)\n",
            "Requirement already satisfied: cycler>=0.10 in /usr/local/lib/python3.6/dist-packages (from matplotlib>=1.4.3->seaborn==0.9.0) (0.10.0)\n",
            "Requirement already satisfied: six>=1.5 in /usr/local/lib/python3.6/dist-packages (from python-dateutil>=2->pandas>=0.15.2->seaborn==0.9.0) (1.11.0)\n",
            "Requirement already satisfied: setuptools in /usr/local/lib/python3.6/dist-packages (from kiwisolver>=1.0.1->matplotlib>=1.4.3->seaborn==0.9.0) (40.7.1)\n",
            "Installing collected packages: seaborn\n",
            "  Found existing installation: seaborn 0.7.1\n",
            "    Uninstalling seaborn-0.7.1:\n",
            "      Successfully uninstalled seaborn-0.7.1\n",
            "Successfully installed seaborn-0.9.0\n"
          ],
          "name": "stdout"
        },
        {
          "output_type": "display_data",
          "data": {
            "application/vnd.colab-display-data+json": {
              "pip_warning": {
                "packages": [
                  "seaborn"
                ]
              }
            }
          },
          "metadata": {
            "tags": []
          }
        },
        {
          "output_type": "stream",
          "text": [
            "Collecting sklearn_pandas\n",
            "  Downloading https://files.pythonhosted.org/packages/1f/48/4e1461d828baf41d609efaa720d20090ac6ec346b5daad3c88e243e2207e/sklearn_pandas-1.8.0-py2.py3-none-any.whl\n",
            "Requirement already satisfied: scipy>=0.14 in /usr/local/lib/python3.6/dist-packages (from sklearn_pandas) (1.1.0)\n",
            "Requirement already satisfied: pandas>=0.11.0 in /usr/local/lib/python3.6/dist-packages (from sklearn_pandas) (0.22.0)\n",
            "Requirement already satisfied: scikit-learn>=0.15.0 in /usr/local/lib/python3.6/dist-packages (from sklearn_pandas) (0.20.2)\n",
            "Requirement already satisfied: numpy>=1.6.1 in /usr/local/lib/python3.6/dist-packages (from sklearn_pandas) (1.14.6)\n",
            "Requirement already satisfied: pytz>=2011k in /usr/local/lib/python3.6/dist-packages (from pandas>=0.11.0->sklearn_pandas) (2018.9)\n",
            "Requirement already satisfied: python-dateutil>=2 in /usr/local/lib/python3.6/dist-packages (from pandas>=0.11.0->sklearn_pandas) (2.5.3)\n",
            "Requirement already satisfied: six>=1.5 in /usr/local/lib/python3.6/dist-packages (from python-dateutil>=2->pandas>=0.11.0->sklearn_pandas) (1.11.0)\n",
            "Installing collected packages: sklearn-pandas\n",
            "Successfully installed sklearn-pandas-1.8.0\n"
          ],
          "name": "stdout"
        }
      ]
    },
    {
      "metadata": {
        "id": "JXOeErlk_HbG",
        "colab_type": "text"
      },
      "cell_type": "markdown",
      "source": [
        "**Below code import required machine learning and visualization libraries.**"
      ]
    },
    {
      "metadata": {
        "id": "q4vtH2wx5Q4U",
        "colab_type": "code",
        "colab": {}
      },
      "cell_type": "code",
      "source": [
        "import pandas as pd\n",
        "from datetime import datetime\n",
        "import seaborn as sns\n",
        "import os\n",
        "from sklearn.metrics import confusion_matrix\n",
        "from sklearn.pipeline import Pipeline\n",
        "from sklearn.preprocessing import StandardScaler\n",
        "from sklearn.base import BaseEstimator, TransformerMixin\n",
        "from sklearn.preprocessing import OneHotEncoder\n",
        "from sklearn.pipeline import FeatureUnion\n",
        "from sklearn.model_selection import cross_val_score,cross_val_predict\n",
        "from sklearn.svm import SVC\n",
        "from sklearn.metrics import confusion_matrix\n",
        "from sklearn.ensemble import RandomForestClassifier\n",
        "from sklearn import preprocessing\n",
        "from sklearn.impute import SimpleImputer # Scikit-Learn 0.20+\n",
        "from sklearn.metrics import (accuracy_score, log_loss, classification_report)\n",
        "from sklearn.model_selection import GridSearchCV\n",
        "from sklearn.neighbors import KNeighborsClassifier\n",
        "from xgboost import XGBClassifier\n",
        "import numpy as np\n",
        "from sklearn.model_selection import StratifiedShuffleSplit\n",
        "import matplotlib.pyplot as plt\n",
        "from sklearn.linear_model import LogisticRegression\n",
        "import matplotlib.pyplot as plt\n",
        "import matplotlib.image as mpimg\n",
        "import numpy as np\n",
        "import itertools\n",
        "from xgboost import XGBClassifier\n",
        "from keras.models import Sequential\n",
        "from keras.layers import Dense\n"
      ],
      "execution_count": 0,
      "outputs": []
    },
    {
      "metadata": {
        "id": "n7E2Wt1r_TZU",
        "colab_type": "text"
      },
      "cell_type": "markdown",
      "source": [
        "**Setting up path for google drive where the data is loaded. Then we read the data from there into a csv file.**"
      ]
    },
    {
      "metadata": {
        "id": "bKSECtL55fly",
        "colab_type": "code",
        "colab": {}
      },
      "cell_type": "code",
      "source": [
        "import os\n",
        "drive_path = 'drive/DL_COLAB/'\n",
        "\n",
        "HR_ANALYTICS_PATH = os.path.join(drive_path,\"hr_analytics\")\n",
        "\n",
        "def load_hr_data(filename, file_path=HR_ANALYTICS_PATH):\n",
        "    csv_path = os.path.join(file_path, filename)\n",
        "    return pd.read_csv(csv_path,sep=\"|\")"
      ],
      "execution_count": 0,
      "outputs": []
    },
    {
      "metadata": {
        "id": "NVEQzKkO5Q8N",
        "colab_type": "code",
        "colab": {}
      },
      "cell_type": "code",
      "source": [
        "hr_data_full = load_hr_data(\"Updated_HR_15000.csv\")"
      ],
      "execution_count": 0,
      "outputs": []
    },
    {
      "metadata": {
        "id": "ChUcvrVQ_Wge",
        "colab_type": "text"
      },
      "cell_type": "markdown",
      "source": [
        "**Overall dataset has 15000 records and 10 columns**"
      ]
    },
    {
      "metadata": {
        "id": "j8bU2GQz6I3I",
        "colab_type": "code",
        "colab": {
          "base_uri": "https://localhost:8080/",
          "height": 34
        },
        "outputId": "c926832a-cc05-4191-a567-1766308babf7"
      },
      "cell_type": "code",
      "source": [
        "hr_data_full.shape"
      ],
      "execution_count": 38,
      "outputs": [
        {
          "output_type": "execute_result",
          "data": {
            "text/plain": [
              "(14999, 10)"
            ]
          },
          "metadata": {
            "tags": []
          },
          "execution_count": 38
        }
      ]
    },
    {
      "metadata": {
        "id": "oQEUCDqL_cOW",
        "colab_type": "text"
      },
      "cell_type": "markdown",
      "source": [
        "**Below are the list of columns in the dataset**"
      ]
    },
    {
      "metadata": {
        "id": "oLHHYv1f6e9A",
        "colab_type": "code",
        "colab": {
          "base_uri": "https://localhost:8080/",
          "height": 102
        },
        "outputId": "ef9465b1-cb5b-44ea-c8bc-5358bae8f402"
      },
      "cell_type": "code",
      "source": [
        "hr_data_full.columns"
      ],
      "execution_count": 41,
      "outputs": [
        {
          "output_type": "execute_result",
          "data": {
            "text/plain": [
              "Index(['attrition', 'salary_level', 'department', 'number_years_in_company',\n",
              "       'last_appraisal_score', 'number_of_project',\n",
              "       'average_billable_monthly_hours', 'behavioural_issue',\n",
              "       'recent_promotion', 'employee_engagement_level'],\n",
              "      dtype='object')"
            ]
          },
          "metadata": {
            "tags": []
          },
          "execution_count": 41
        }
      ]
    },
    {
      "metadata": {
        "id": "VmNBYI6i_h4e",
        "colab_type": "text"
      },
      "cell_type": "markdown",
      "source": [
        "**Below are the histograms for the different numeric vairables. This will helps in understanding distribution of the different variables.**\n",
        "\n",
        "**For behavioural issues it seems 10% of the examples have behavioural problems. We can see most of the employees has spent 150-300 as average monthly hours. Similarly most of the observations were evaluated either average or high in their last performance review. We can also see most of the people have worked between 3-5 projects. There are very small number of employees were present in the dataset which were promoted in last 1 year. Similarly most of the employees have spent 3-5 years with small number of employees have spent over 10 years.**"
      ]
    },
    {
      "metadata": {
        "id": "u2g5H2vs_nyh",
        "colab_type": "code",
        "colab": {
          "base_uri": "https://localhost:8080/",
          "height": 1052
        },
        "outputId": "a15585f8-65a8-4bc5-dbcc-e8c902426a67"
      },
      "cell_type": "code",
      "source": [
        "hr_data_full.hist(bins=70, figsize=(20,15))"
      ],
      "execution_count": 42,
      "outputs": [
        {
          "output_type": "execute_result",
          "data": {
            "text/plain": [
              "array([[<matplotlib.axes._subplots.AxesSubplot object at 0x7f124fcfcac8>,\n",
              "        <matplotlib.axes._subplots.AxesSubplot object at 0x7f124fd15748>,\n",
              "        <matplotlib.axes._subplots.AxesSubplot object at 0x7f124fcbcda0>],\n",
              "       [<matplotlib.axes._subplots.AxesSubplot object at 0x7f124fc6c438>,\n",
              "        <matplotlib.axes._subplots.AxesSubplot object at 0x7f124fc90a90>,\n",
              "        <matplotlib.axes._subplots.AxesSubplot object at 0x7f124fc42128>],\n",
              "       [<matplotlib.axes._subplots.AxesSubplot object at 0x7f124fc659b0>,\n",
              "        <matplotlib.axes._subplots.AxesSubplot object at 0x7f124fc16390>,\n",
              "        <matplotlib.axes._subplots.AxesSubplot object at 0x7f124fc163c8>]],\n",
              "      dtype=object)"
            ]
          },
          "metadata": {
            "tags": []
          },
          "execution_count": 42
        },
        {
          "output_type": "display_data",
          "data": {
            "image/png": "[encoded data removed]",
            "text/plain": [
              "<Figure size 1440x1080 with 9 Axes>"
            ]
          },
          "metadata": {
            "tags": []
          }
        }
      ]
    },
    {
      "metadata": {
        "id": "A0hkz5Zv_qII",
        "colab_type": "text"
      },
      "cell_type": "markdown",
      "source": [
        "**Instead of providing actual salary details it was measured as low medium and high. This scale is done internally with-in a Department of the company and with in Job Designation. So low salary means low in among the peers working on same band and in same department.**"
      ]
    },
    {
      "metadata": {
        "id": "Y2v9K2JB_yLR",
        "colab_type": "code",
        "colab": {
          "base_uri": "https://localhost:8080/",
          "height": 51
        },
        "outputId": "fa0531c8-c602-4153-8150-8daa33f9a9ca"
      },
      "cell_type": "code",
      "source": [
        "print (hr_data_full.salary_level.unique())\n",
        "print (hr_data_full.department.unique())"
      ],
      "execution_count": 44,
      "outputs": [
        {
          "output_type": "stream",
          "text": [
            "['low' 'medium' 'high']\n",
            "['Technology' 'HR' 'management' 'Support' 'Sales_Marketing']\n"
          ],
          "name": "stdout"
        }
      ]
    },
    {
      "metadata": {
        "id": "CfnJmqzI_9jV",
        "colab_type": "text"
      },
      "cell_type": "markdown",
      "source": [
        "**Below is the distribution of the output class in full dataset. Green bar shows ratio of the examples for which historical attrition was yes and Blue bar shows examples for which attrition was 'NO. We have around 20% observations of positive class i.e. (attrition=Yes)'.**"
      ]
    },
    {
      "metadata": {
        "id": "CdIjA3z1_8CT",
        "colab_type": "code",
        "colab": {
          "base_uri": "https://localhost:8080/",
          "height": 362
        },
        "outputId": "0394179c-6e1b-4ae8-d4ff-244d8cbaad73"
      },
      "cell_type": "code",
      "source": [
        "sns.set(rc={'figure.figsize':(5,5)})\n",
        "sns.countplot(x=\"attrition\",data=hr_data_full)"
      ],
      "execution_count": 46,
      "outputs": [
        {
          "output_type": "execute_result",
          "data": {
            "text/plain": [
              "<matplotlib.axes._subplots.AxesSubplot at 0x7f124f84dfd0>"
            ]
          },
          "metadata": {
            "tags": []
          },
          "execution_count": 46
        },
        {
          "output_type": "display_data",
          "data": {
            "image/png": "[encoded data removed]",
            "text/plain": [
              "<Figure size 360x360 with 1 Axes>"
            ]
          },
          "metadata": {
            "tags": []
          }
        }
      ]
    },
    {
      "metadata": {
        "id": "FxMMNbuDAR8N",
        "colab_type": "code",
        "colab": {
          "base_uri": "https://localhost:8080/",
          "height": 34
        },
        "outputId": "a4203351-0528-46eb-ea38-38e9902d3785"
      },
      "cell_type": "code",
      "source": [
        "hr_data_full[hr_data_full.attrition == 1]['attrition'].count()/hr_data_full['attrition'].count()"
      ],
      "execution_count": 49,
      "outputs": [
        {
          "output_type": "execute_result",
          "data": {
            "text/plain": [
              "0.2380825388359224"
            ]
          },
          "metadata": {
            "tags": []
          },
          "execution_count": 49
        }
      ]
    },
    {
      "metadata": {
        "id": "J36g1vhNAPL0",
        "colab_type": "text"
      },
      "cell_type": "markdown",
      "source": [
        "**Below is the graph that shows level of attrition for different satisfaction level. We can see most of the attrition is in employee with low and medium satisfaction level. However there is a very small attrition among the employees having higher satisfaction level. Satisfaction scores are provided based upon an internal survey executed by the organization**"
      ]
    },
    {
      "metadata": {
        "id": "3PAAD8MlAe79",
        "colab_type": "code",
        "colab": {
          "base_uri": "https://localhost:8080/",
          "height": 560
        },
        "outputId": "ba753dfb-8fb4-4886-af94-feaeaf99a31f"
      },
      "cell_type": "code",
      "source": [
        "sns.set(rc={'figure.figsize':(40.7,8.27)})\n",
        "sns.countplot(x=\"employee_engagement_level\",data=hr_data_full,hue='attrition')"
      ],
      "execution_count": 50,
      "outputs": [
        {
          "output_type": "execute_result",
          "data": {
            "text/plain": [
              "<matplotlib.axes._subplots.AxesSubplot at 0x7f124dc2e320>"
            ]
          },
          "metadata": {
            "tags": []
          },
          "execution_count": 50
        },
        {
          "output_type": "display_data",
          "data": {
            "image/png": "[encoded data removed]",
            "text/plain": [
              "<Figure size 2930.4x595.44 with 1 Axes>"
            ]
          },
          "metadata": {
            "tags": []
          }
        }
      ]
    },
    {
      "metadata": {
        "id": "EM9OtAxxA6Mn",
        "colab_type": "text"
      },
      "cell_type": "markdown",
      "source": [
        "**Below is the graph that shows level of attrition for different salary level. We can see most of the attrition is in employee with low and medium salary level. However there is a very small attrition among the employees having higher higher salaries.**"
      ]
    },
    {
      "metadata": {
        "id": "HQv9L5ZNA2WK",
        "colab_type": "code",
        "colab": {
          "base_uri": "https://localhost:8080/",
          "height": 634
        },
        "outputId": "fc81e9c4-839d-4a5a-9172-15f091bb029f"
      },
      "cell_type": "code",
      "source": [
        "sns.set(rc={'figure.figsize':(10,10)})\n",
        "sns.countplot(x=\"salary_level\",data=hr_data_full,hue='attrition')"
      ],
      "execution_count": 51,
      "outputs": [
        {
          "output_type": "execute_result",
          "data": {
            "text/plain": [
              "<matplotlib.axes._subplots.AxesSubplot at 0x7f124da67908>"
            ]
          },
          "metadata": {
            "tags": []
          },
          "execution_count": 51
        },
        {
          "output_type": "display_data",
          "data": {
            "image/png": "[encoded data removed]",
            "text/plain": [
              "<Figure size 720x720 with 1 Axes>"
            ]
          },
          "metadata": {
            "tags": []
          }
        }
      ]
    },
    {
      "metadata": {
        "id": "wyKHu3TYBJUP",
        "colab_type": "text"
      },
      "cell_type": "markdown",
      "source": [
        "**Below graph shows the distribution of attrition on average number of project/task worked by an employee in a year. We can see attrition is high among the people who worked on below average number of projects and employees who have worked on very high number of projects/tasks. This shows there may be an issue with the worklife balance among the employees who have worked on too many projects which might lead to attrition. Similarly employee who had worked on small number of projects have shown higher attrition rate so they may not be satisfied with the work they are doing or they got disengaged because enough work is not available.**"
      ]
    },
    {
      "metadata": {
        "id": "0Ljh28y6BN1l",
        "colab_type": "code",
        "colab": {
          "base_uri": "https://localhost:8080/",
          "height": 634
        },
        "outputId": "c211660a-8506-49fd-fcbc-d1d6d60e055f"
      },
      "cell_type": "code",
      "source": [
        "sns.countplot(x=\"number_of_project\",data=hr_data_full,hue='attrition')"
      ],
      "execution_count": 52,
      "outputs": [
        {
          "output_type": "execute_result",
          "data": {
            "text/plain": [
              "<matplotlib.axes._subplots.AxesSubplot at 0x7f124d9ad2e8>"
            ]
          },
          "metadata": {
            "tags": []
          },
          "execution_count": 52
        },
        {
          "output_type": "display_data",
          "data": {
            "image/png": "[encoded data removed]",
            "text/plain": [
              "<Figure size 720x720 with 1 Axes>"
            ]
          },
          "metadata": {
            "tags": []
          }
        }
      ]
    },
    {
      "metadata": {
        "id": "XdC9nI6hBXcy",
        "colab_type": "text"
      },
      "cell_type": "markdown",
      "source": [
        "**Below is the graph for distribution of attrition on last evaluation. We can see high attrition among the people who ever evaluated high. Organization should determine reason for it.**"
      ]
    },
    {
      "metadata": {
        "id": "cwLKrk2YBsjg",
        "colab_type": "code",
        "colab": {
          "base_uri": "https://localhost:8080/",
          "height": 540
        },
        "outputId": "a0e076c2-de0a-4da0-e7c9-becdf3e5ba32"
      },
      "cell_type": "code",
      "source": [
        "sns.set(rc={'figure.figsize':(22.7,8.27)})\n",
        "sns.countplot(x=\"last_appraisal_score\",data=hr_data_full,hue='attrition')"
      ],
      "execution_count": 53,
      "outputs": [
        {
          "output_type": "execute_result",
          "data": {
            "text/plain": [
              "<matplotlib.axes._subplots.AxesSubplot at 0x7f124d8b1240>"
            ]
          },
          "metadata": {
            "tags": []
          },
          "execution_count": 53
        },
        {
          "output_type": "display_data",
          "data": {
            "image/png": "[encoded data removed]",
            "text/plain": [
              "<Figure size 1634.4x595.44 with 1 Axes>"
            ]
          },
          "metadata": {
            "tags": []
          }
        }
      ]
    },
    {
      "metadata": {
        "id": "dSlCxesNB2BO",
        "colab_type": "text"
      },
      "cell_type": "markdown",
      "source": [
        "**Below is the distribution of attrition based upon time spend in company. We can see higher attrition among the people who had 3-5 years of experience. Attrition trend is lower among the people who has < 2 years of expereince and people who had 7+ years of experience.**"
      ]
    },
    {
      "metadata": {
        "id": "99iPGwO8B-es",
        "colab_type": "code",
        "colab": {
          "base_uri": "https://localhost:8080/",
          "height": 634
        },
        "outputId": "b42adca7-1c0f-4808-de63-2dd779c2e61f"
      },
      "cell_type": "code",
      "source": [
        "sns.set(rc={'figure.figsize':(10,10)})\n",
        "sns.countplot(x=\"number_years_in_company\",data=hr_data_full,hue='attrition')"
      ],
      "execution_count": 54,
      "outputs": [
        {
          "output_type": "execute_result",
          "data": {
            "text/plain": [
              "<matplotlib.axes._subplots.AxesSubplot at 0x7f124d70bcc0>"
            ]
          },
          "metadata": {
            "tags": []
          },
          "execution_count": 54
        },
        {
          "output_type": "display_data",
          "data": {
            "image/png": "[encoded data removed]",
            "text/plain": [
              "<Figure size 720x720 with 1 Axes>"
            ]
          },
          "metadata": {
            "tags": []
          }
        }
      ]
    },
    {
      "metadata": {
        "id": "E_aRmaKYCKCH",
        "colab_type": "text"
      },
      "cell_type": "markdown",
      "source": [
        "***Below is the distribution of attrition based upon the fact that if person had a recent promotion. There is a higher attrition rate among the people who were not promoted.***"
      ]
    },
    {
      "metadata": {
        "id": "RqIv1NQUCPnR",
        "colab_type": "code",
        "colab": {
          "base_uri": "https://localhost:8080/",
          "height": 362
        },
        "outputId": "c29488d3-b6b8-4b30-f918-ecdce3e3d059"
      },
      "cell_type": "code",
      "source": [
        "sns.set(rc={'figure.figsize':(5,5)})\n",
        "sns.countplot(x=\"recent_promotion\",data=hr_data_full,hue='attrition')"
      ],
      "execution_count": 56,
      "outputs": [
        {
          "output_type": "execute_result",
          "data": {
            "text/plain": [
              "<matplotlib.axes._subplots.AxesSubplot at 0x7f124d687da0>"
            ]
          },
          "metadata": {
            "tags": []
          },
          "execution_count": 56
        },
        {
          "output_type": "display_data",
          "data": {
            "image/png": "[encoded data removed]",
            "text/plain": [
              "<Figure size 360x360 with 1 Axes>"
            ]
          },
          "metadata": {
            "tags": []
          }
        }
      ]
    },
    {
      "metadata": {
        "id": "AVG1z4TnCgJh",
        "colab_type": "text"
      },
      "cell_type": "markdown",
      "source": [
        "**Below is the distribution of attrition based for each Department. We can see higer attrition in IT.**"
      ]
    },
    {
      "metadata": {
        "id": "zSsLleIn64dB",
        "colab_type": "code",
        "colab": {
          "base_uri": "https://localhost:8080/",
          "height": 363
        },
        "outputId": "520a69dc-b995-419c-d00b-bdfd1cb15d11"
      },
      "cell_type": "code",
      "source": [
        "sns.set(rc={'figure.figsize':(12,5)})\n",
        "sns.countplot(x=\"department\",data=hr_data_full,hue='attrition')"
      ],
      "execution_count": 35,
      "outputs": [
        {
          "output_type": "execute_result",
          "data": {
            "text/plain": [
              "<matplotlib.axes._subplots.AxesSubplot at 0x7f1251f0ec18>"
            ]
          },
          "metadata": {
            "tags": []
          },
          "execution_count": 35
        },
        {
          "output_type": "display_data",
          "data": {
            "image/png": "[encoded data removed]",
            "text/plain": [
              "<Figure size 864x360 with 1 Axes>"
            ]
          },
          "metadata": {
            "tags": []
          }
        }
      ]
    },
    {
      "metadata": {
        "id": "smPe7nT5CuuC",
        "colab_type": "text"
      },
      "cell_type": "markdown",
      "source": [
        "***Below we are creating Training and Test Split. Entire data is divided into 90% Training Set and 10% Test Set. The entire dataset is first shuffled and then split. To address the class imbalance problem and to have good test set we are using Stratified sampling on number of attrition cases in each Training and Test Set. Stratified sampling will keep proportion of example with attrition 'Yes' and \"No\" same in training and test set.***"
      ]
    },
    {
      "metadata": {
        "id": "bIp_sFykCvmX",
        "colab_type": "code",
        "colab": {}
      },
      "cell_type": "code",
      "source": [
        "split = StratifiedShuffleSplit(n_splits=1, test_size=0.1, random_state=42)\n",
        "for train_index, test_index in split.split(hr_data_full, hr_data_full[\"attrition\"]):\n",
        "    hr_data_train = hr_data_full.loc[train_index]\n",
        "    hr_data_test = hr_data_full.loc[test_index]"
      ],
      "execution_count": 0,
      "outputs": []
    },
    {
      "metadata": {
        "id": "z2Sg5JF7C195",
        "colab_type": "text"
      },
      "cell_type": "markdown",
      "source": [
        "**Below cell shows Number of Records in Training Set and Number of Record in Test Set.**"
      ]
    },
    {
      "metadata": {
        "id": "iv7bEh89Cp9h",
        "colab_type": "code",
        "colab": {
          "base_uri": "https://localhost:8080/",
          "height": 51
        },
        "outputId": "2c2349b1-d8de-424c-97e2-2edb224558b4"
      },
      "cell_type": "code",
      "source": [
        "print (hr_data_train.shape)\n",
        "print (hr_data_test.shape)"
      ],
      "execution_count": 58,
      "outputs": [
        {
          "output_type": "stream",
          "text": [
            "(13499, 10)\n",
            "(1500, 10)\n"
          ],
          "name": "stdout"
        }
      ]
    },
    {
      "metadata": {
        "id": "1mqAc--BC9-3",
        "colab_type": "code",
        "colab": {
          "base_uri": "https://localhost:8080/",
          "height": 51
        },
        "outputId": "7f40cc06-0b65-4ffb-f218-25e3c4fa0978"
      },
      "cell_type": "code",
      "source": [
        "print (type(hr_data_train))\n",
        "print (type(hr_data_test))"
      ],
      "execution_count": 59,
      "outputs": [
        {
          "output_type": "stream",
          "text": [
            "<class 'pandas.core.frame.DataFrame'>\n",
            "<class 'pandas.core.frame.DataFrame'>\n"
          ],
          "name": "stdout"
        }
      ]
    },
    {
      "metadata": {
        "id": "wXeQmsytC56b",
        "colab_type": "text"
      },
      "cell_type": "markdown",
      "source": [
        "**Creating Labels (Attrition = Yes or No) which is our target class. These labels will be used to train machine learning algorithms and during the test time these tables will be used to measure performance of the trained machine learning algorithm.**"
      ]
    },
    {
      "metadata": {
        "id": "waSxo1qiC5Le",
        "colab_type": "code",
        "colab": {}
      },
      "cell_type": "code",
      "source": [
        "hr_data_train_label = hr_data_train[\"attrition\"].copy()\n",
        "hr_data_test_label =  hr_data_test[\"attrition\"].copy()"
      ],
      "execution_count": 0,
      "outputs": []
    },
    {
      "metadata": {
        "id": "hkPVjo_uDPJ-",
        "colab_type": "code",
        "colab": {
          "base_uri": "https://localhost:8080/",
          "height": 51
        },
        "outputId": "a86e0015-94a6-48c5-dca4-0e160e3dede9"
      },
      "cell_type": "code",
      "source": [
        "print (hr_data_train_label.shape)\n",
        "print (hr_data_test_label.shape)"
      ],
      "execution_count": 62,
      "outputs": [
        {
          "output_type": "stream",
          "text": [
            "(13499,)\n",
            "(1500,)\n"
          ],
          "name": "stdout"
        }
      ]
    },
    {
      "metadata": {
        "id": "U8CWiwmJDSdo",
        "colab_type": "text"
      },
      "cell_type": "markdown",
      "source": [
        "**As machine learning algorithm should not get the labels of training and test set we need to remove it.**"
      ]
    },
    {
      "metadata": {
        "id": "h4UaKdejDTWp",
        "colab_type": "code",
        "colab": {}
      },
      "cell_type": "code",
      "source": [
        "hr_data_train = hr_data_train.drop(\"attrition\",axis=1)\n",
        "hr_data_test = hr_data_test.drop(\"attrition\",axis=1)"
      ],
      "execution_count": 0,
      "outputs": []
    },
    {
      "metadata": {
        "id": "zKzgTn1kDbYX",
        "colab_type": "text"
      },
      "cell_type": "markdown",
      "source": [
        "**Summary of Training Set about the various fields**"
      ]
    },
    {
      "metadata": {
        "id": "5Au--yA-DdI_",
        "colab_type": "code",
        "colab": {
          "base_uri": "https://localhost:8080/",
          "height": 297
        },
        "outputId": "c51dfd06-3c18-423c-83ce-3496618471ce"
      },
      "cell_type": "code",
      "source": [
        "hr_data_train.describe()"
      ],
      "execution_count": 65,
      "outputs": [
        {
          "output_type": "execute_result",
          "data": {
            "text/html": [
              "<div>\n",
              "<style scoped>\n",
              "    .dataframe tbody tr th:only-of-type {\n",
              "        vertical-align: middle;\n",
              "    }\n",
              "\n",
              "    .dataframe tbody tr th {\n",
              "        vertical-align: top;\n",
              "    }\n",
              "\n",
              "    .dataframe thead th {\n",
              "        text-align: right;\n",
              "    }\n",
              "</style>\n",
              "<table border=\"1\" class=\"dataframe\">\n",
              "  <thead>\n",
              "    <tr style=\"text-align: right;\">\n",
              "      <th></th>\n",
              "      <th>number_years_in_company</th>\n",
              "      <th>last_appraisal_score</th>\n",
              "      <th>number_of_project</th>\n",
              "      <th>average_billable_monthly_hours</th>\n",
              "      <th>behavioural_issue</th>\n",
              "      <th>recent_promotion</th>\n",
              "      <th>employee_engagement_level</th>\n",
              "    </tr>\n",
              "  </thead>\n",
              "  <tbody>\n",
              "    <tr>\n",
              "      <th>count</th>\n",
              "      <td>13499.000000</td>\n",
              "      <td>13499.000000</td>\n",
              "      <td>13499.000000</td>\n",
              "      <td>13499.000000</td>\n",
              "      <td>13499.000000</td>\n",
              "      <td>13499.000000</td>\n",
              "      <td>13499.00000</td>\n",
              "    </tr>\n",
              "    <tr>\n",
              "      <th>mean</th>\n",
              "      <td>3.503445</td>\n",
              "      <td>0.716707</td>\n",
              "      <td>3.806430</td>\n",
              "      <td>201.149567</td>\n",
              "      <td>0.144529</td>\n",
              "      <td>0.020890</td>\n",
              "      <td>0.61276</td>\n",
              "    </tr>\n",
              "    <tr>\n",
              "      <th>std</th>\n",
              "      <td>1.461173</td>\n",
              "      <td>0.171250</td>\n",
              "      <td>1.234811</td>\n",
              "      <td>49.969348</td>\n",
              "      <td>0.351639</td>\n",
              "      <td>0.143023</td>\n",
              "      <td>0.24897</td>\n",
              "    </tr>\n",
              "    <tr>\n",
              "      <th>min</th>\n",
              "      <td>2.000000</td>\n",
              "      <td>0.360000</td>\n",
              "      <td>2.000000</td>\n",
              "      <td>96.000000</td>\n",
              "      <td>0.000000</td>\n",
              "      <td>0.000000</td>\n",
              "      <td>0.09000</td>\n",
              "    </tr>\n",
              "    <tr>\n",
              "      <th>25%</th>\n",
              "      <td>3.000000</td>\n",
              "      <td>0.560000</td>\n",
              "      <td>3.000000</td>\n",
              "      <td>156.000000</td>\n",
              "      <td>0.000000</td>\n",
              "      <td>0.000000</td>\n",
              "      <td>0.44000</td>\n",
              "    </tr>\n",
              "    <tr>\n",
              "      <th>50%</th>\n",
              "      <td>3.000000</td>\n",
              "      <td>0.720000</td>\n",
              "      <td>4.000000</td>\n",
              "      <td>200.000000</td>\n",
              "      <td>0.000000</td>\n",
              "      <td>0.000000</td>\n",
              "      <td>0.64000</td>\n",
              "    </tr>\n",
              "    <tr>\n",
              "      <th>75%</th>\n",
              "      <td>4.000000</td>\n",
              "      <td>0.870000</td>\n",
              "      <td>5.000000</td>\n",
              "      <td>245.000000</td>\n",
              "      <td>0.000000</td>\n",
              "      <td>0.000000</td>\n",
              "      <td>0.82000</td>\n",
              "    </tr>\n",
              "    <tr>\n",
              "      <th>max</th>\n",
              "      <td>10.000000</td>\n",
              "      <td>1.000000</td>\n",
              "      <td>7.000000</td>\n",
              "      <td>310.000000</td>\n",
              "      <td>1.000000</td>\n",
              "      <td>1.000000</td>\n",
              "      <td>1.00000</td>\n",
              "    </tr>\n",
              "  </tbody>\n",
              "</table>\n",
              "</div>"
            ],
            "text/plain": [
              "       number_years_in_company  last_appraisal_score  number_of_project  \\\n",
              "count             13499.000000          13499.000000       13499.000000   \n",
              "mean                  3.503445              0.716707           3.806430   \n",
              "std                   1.461173              0.171250           1.234811   \n",
              "min                   2.000000              0.360000           2.000000   \n",
              "25%                   3.000000              0.560000           3.000000   \n",
              "50%                   3.000000              0.720000           4.000000   \n",
              "75%                   4.000000              0.870000           5.000000   \n",
              "max                  10.000000              1.000000           7.000000   \n",
              "\n",
              "       average_billable_monthly_hours  behavioural_issue  recent_promotion  \\\n",
              "count                    13499.000000       13499.000000      13499.000000   \n",
              "mean                       201.149567           0.144529          0.020890   \n",
              "std                         49.969348           0.351639          0.143023   \n",
              "min                         96.000000           0.000000          0.000000   \n",
              "25%                        156.000000           0.000000          0.000000   \n",
              "50%                        200.000000           0.000000          0.000000   \n",
              "75%                        245.000000           0.000000          0.000000   \n",
              "max                        310.000000           1.000000          1.000000   \n",
              "\n",
              "       employee_engagement_level  \n",
              "count                13499.00000  \n",
              "mean                     0.61276  \n",
              "std                      0.24897  \n",
              "min                      0.09000  \n",
              "25%                      0.44000  \n",
              "50%                      0.64000  \n",
              "75%                      0.82000  \n",
              "max                      1.00000  "
            ]
          },
          "metadata": {
            "tags": []
          },
          "execution_count": 65
        }
      ]
    },
    {
      "metadata": {
        "id": "yAqBA_4IDg27",
        "colab_type": "code",
        "colab": {
          "base_uri": "https://localhost:8080/",
          "height": 272
        },
        "outputId": "02d8967b-ca40-407e-8649-21b4315d9cf8"
      },
      "cell_type": "code",
      "source": [
        "hr_data_full.info()"
      ],
      "execution_count": 66,
      "outputs": [
        {
          "output_type": "stream",
          "text": [
            "<class 'pandas.core.frame.DataFrame'>\n",
            "RangeIndex: 14999 entries, 0 to 14998\n",
            "Data columns (total 10 columns):\n",
            "attrition                         14999 non-null int64\n",
            "salary_level                      14999 non-null object\n",
            "department                        14999 non-null object\n",
            "number_years_in_company           14999 non-null int64\n",
            "last_appraisal_score              14999 non-null float64\n",
            "number_of_project                 14999 non-null int64\n",
            "average_billable_monthly_hours    14999 non-null int64\n",
            "behavioural_issue                 14999 non-null int64\n",
            "recent_promotion                  14999 non-null int64\n",
            "employee_engagement_level         14999 non-null float64\n",
            "dtypes: float64(2), int64(6), object(2)\n",
            "memory usage: 1.1+ MB\n"
          ],
          "name": "stdout"
        }
      ]
    },
    {
      "metadata": {
        "id": "sbXQ4ptzDlJY",
        "colab_type": "text"
      },
      "cell_type": "markdown",
      "source": [
        "**There are two categorical variables in our dataset Department and Salary. However there are 7 numeric variables in our dataset. These variables has to be treated differently to prepare the data that can be fed into machine learning algorith**"
      ]
    },
    {
      "metadata": {
        "id": "fqKXowpMDjB3",
        "colab_type": "code",
        "colab": {}
      },
      "cell_type": "code",
      "source": [
        "cat_attribute = ['department','salary_level']\n",
        "numeric_attribute = [\"number_years_in_company\",\"last_appraisal_score\",\"number_of_project\",\"average_billable_monthly_hours\",\"behavioural_issue\",\"recent_promotion\",\"employee_engagement_level\"]"
      ],
      "execution_count": 0,
      "outputs": []
    },
    {
      "metadata": {
        "id": "6QwO0L9zEIdw",
        "colab_type": "code",
        "colab": {
          "base_uri": "https://localhost:8080/",
          "height": 51
        },
        "outputId": "534999a2-173e-47ec-b0da-1f0f7956e105"
      },
      "cell_type": "code",
      "source": [
        "print (len(cat_attribute))\n",
        "print (len(numeric_attribute))"
      ],
      "execution_count": 91,
      "outputs": [
        {
          "output_type": "stream",
          "text": [
            "2\n",
            "7\n"
          ],
          "name": "stdout"
        }
      ]
    },
    {
      "metadata": {
        "id": "H3kHAB59ENZv",
        "colab_type": "code",
        "colab": {}
      },
      "cell_type": "code",
      "source": [
        "# Create a class to select numerical or categorical columns \n",
        "# since Scikit-Learn doesn't handle DataFrames yet\n",
        "class DataFrameSelector(BaseEstimator, TransformerMixin):\n",
        "    def __init__(self, attribute_names):\n",
        "        self.attribute_names = attribute_names\n",
        "    def fit(self, X, y=None):\n",
        "        return self\n",
        "    def transform(self, X):\n",
        "        return X[self.attribute_names].values"
      ],
      "execution_count": 0,
      "outputs": []
    },
    {
      "metadata": {
        "id": "rPsDBRb5ERoN",
        "colab_type": "code",
        "colab": {}
      },
      "cell_type": "code",
      "source": [
        "# Inspired from stackoverflow.com/questions/25239958\n",
        "class MostFrequentImputer(BaseEstimator, TransformerMixin):\n",
        "    def fit(self, X, y=None):\n",
        "        self.most_frequent_ = pd.Series([X[c].value_counts().index[0] for c in X],index=X.columns)\n",
        "        return self\n",
        "    def transform(self, X, y=None):\n",
        "        #return X.fillna(self.most_frequent_)\n",
        "        return X\n"
      ],
      "execution_count": 0,
      "outputs": []
    },
    {
      "metadata": {
        "id": "VO8HIkseET8U",
        "colab_type": "code",
        "colab": {}
      },
      "cell_type": "code",
      "source": [
        "def plot_confusion_matrix(cm, classes,\n",
        "                          normalize=False,\n",
        "                          title='Confusion matrix',\n",
        "                          cmap=plt.cm.Blues):\n",
        "    \"\"\"\n",
        "    This function prints and plots the confusion matrix.\n",
        "    Normalization can be applied by setting `normalize=True`.\n",
        "    \"\"\"\n",
        "    if normalize:\n",
        "        cm = cm.astype('float') / cm.sum(axis=1)[:, np.newaxis]\n",
        "        print(\"Normalized confusion matrix\")\n",
        "    else:\n",
        "        print('Confusion matrix, without normalization')\n",
        "\n",
        "    print(cm)\n",
        "\n",
        "    plt.imshow(cm, interpolation='nearest', cmap=cmap)\n",
        "    plt.title(title)\n",
        "    plt.colorbar()\n",
        "    tick_marks = np.arange(len(classes))\n",
        "    plt.xticks(tick_marks, classes, rotation=45)\n",
        "    plt.yticks(tick_marks, classes)\n",
        "\n",
        "    fmt = '.2f' if normalize else 'd'\n",
        "    thresh = cm.max() / 2.\n",
        "    for i, j in itertools.product(range(cm.shape[0]), range(cm.shape[1])):\n",
        "        plt.text(j, i, format(cm[i, j], fmt),\n",
        "                 horizontalalignment=\"center\",\n",
        "                 color=\"white\" if cm[i, j] > thresh else \"black\")\n",
        "\n",
        "    plt.tight_layout()\n",
        "    plt.ylabel('Predicted label')\n",
        "    plt.xlabel('True label')"
      ],
      "execution_count": 0,
      "outputs": []
    },
    {
      "metadata": {
        "id": "uCFpXeDtEaHo",
        "colab_type": "text"
      },
      "cell_type": "markdown",
      "source": [
        "**Below is the pipeline for numeric variable. It undergoes three stages. We first select the numeric variables and then impute the missing values and standardize the values. Standardization of values are required as different variables are measured on different scale. For eg. satisfaction and evaluation was measured between 0-1 to and hours worked are measured from 0-350 hours.**"
      ]
    },
    {
      "metadata": {
        "id": "8mbJvPUzEYBO",
        "colab_type": "code",
        "colab": {}
      },
      "cell_type": "code",
      "source": [
        "num_pipeline = Pipeline([\n",
        "        (\"select_numeric\", DataFrameSelector(numeric_attribute)),\n",
        "        (\"imputer\", SimpleImputer(strategy=\"median\")),\n",
        "        ('std_scaler', StandardScaler()),\n",
        "    ])"
      ],
      "execution_count": 0,
      "outputs": []
    },
    {
      "metadata": {
        "id": "XICJb4yNEeS6",
        "colab_type": "code",
        "colab": {}
      },
      "cell_type": "code",
      "source": [
        "import sklearn_pandas as skpanda"
      ],
      "execution_count": 0,
      "outputs": []
    },
    {
      "metadata": {
        "id": "QOi_qEtVEizH",
        "colab_type": "text"
      },
      "cell_type": "markdown",
      "source": [
        "**Below is the pipeline for categorical variable. It undergoes three stages. We first select the categorical variables and then impute the missing values. Then we convert the different levels of categorical variables into one Hot encoding..**"
      ]
    },
    {
      "metadata": {
        "id": "pa-b2EOrEhDl",
        "colab_type": "code",
        "colab": {}
      },
      "cell_type": "code",
      "source": [
        "cat_pipeline = Pipeline([\n",
        "        (\"select_cat\", DataFrameSelector(cat_attribute)),\n",
        "        (\"imputer\", skpanda.CategoricalImputer()),\n",
        "        (\"cat_encoder\",OneHotEncoder(sparse=False,handle_unknown='ignore' )),\n",
        "        ])"
      ],
      "execution_count": 0,
      "outputs": []
    },
    {
      "metadata": {
        "id": "C8HezssUEnt_",
        "colab_type": "text"
      },
      "cell_type": "markdown",
      "source": [
        "**Below we do the union of the transformed numeric and categorical variables we create one record for each observation**"
      ]
    },
    {
      "metadata": {
        "id": "NGIWzgceEl9M",
        "colab_type": "code",
        "colab": {}
      },
      "cell_type": "code",
      "source": [
        "preprocess_pipeline = FeatureUnion(transformer_list=[\n",
        "        (\"num_pipeline\", num_pipeline),\n",
        "        (\"cat_pipeline\", cat_pipeline),\n",
        "    ])"
      ],
      "execution_count": 0,
      "outputs": []
    },
    {
      "metadata": {
        "id": "NMlqUPWlEsvv",
        "colab_type": "text"
      },
      "cell_type": "markdown",
      "source": [
        "**Pipeline is executed on both type of variables. We have to apply pipeline on both training set and test set as they need to undergo similar transformation.**"
      ]
    },
    {
      "metadata": {
        "id": "Ru3k2j_TErHy",
        "colab_type": "code",
        "colab": {}
      },
      "cell_type": "code",
      "source": [
        "x_train  = preprocess_pipeline.fit_transform(hr_data_train)\n",
        "x_test =  preprocess_pipeline.transform(hr_data_test)"
      ],
      "execution_count": 0,
      "outputs": []
    },
    {
      "metadata": {
        "id": "dCOcc7e7FPKW",
        "colab_type": "text"
      },
      "cell_type": "markdown",
      "source": [
        "**creating labels for train and test set.**"
      ]
    },
    {
      "metadata": {
        "id": "4QLJyiYZFL6W",
        "colab_type": "code",
        "colab": {}
      },
      "cell_type": "code",
      "source": [
        "le = preprocessing.LabelEncoder()\n",
        "y_train = le.fit_transform(hr_data_train_label)\n",
        "y_test = le.fit_transform(hr_data_test_label)"
      ],
      "execution_count": 0,
      "outputs": []
    },
    {
      "metadata": {
        "id": "JYw-GfRrFTX_",
        "colab_type": "text"
      },
      "cell_type": "markdown",
      "source": [
        "**Size of final training and test set. Due to One hot encoding number of columns are increased from 10 to 20. One column for each level of categorical variables.**"
      ]
    },
    {
      "metadata": {
        "id": "7E1u8H4cFUYX",
        "colab_type": "code",
        "colab": {
          "base_uri": "https://localhost:8080/",
          "height": 102
        },
        "outputId": "1a5a7a78-1e17-4757-8e5a-5fa789940d3f"
      },
      "cell_type": "code",
      "source": [
        "print (x_train.shape)\n",
        "print (x_test.shape)\n",
        "print (y_train.shape)\n",
        "print (y_test.shape)\n",
        "print (hr_data_train.shape)"
      ],
      "execution_count": 101,
      "outputs": [
        {
          "output_type": "stream",
          "text": [
            "(13499, 15)\n",
            "(1500, 15)\n",
            "(13499,)\n",
            "(1500,)\n",
            "(13499, 9)\n"
          ],
          "name": "stdout"
        }
      ]
    },
    {
      "metadata": {
        "id": "uBAUwPcfFXsy",
        "colab_type": "text"
      },
      "cell_type": "markdown",
      "source": [
        "**Below is the computation of correlation between different numeric variables. We can see positive correlation between last evaluation and average monthly hours pair. However there is negative correlation between number of project and satisfaction level which may indicate lesser worklife balance.**"
      ]
    },
    {
      "metadata": {
        "id": "p9WXfySKFWIN",
        "colab_type": "code",
        "colab": {}
      },
      "cell_type": "code",
      "source": [
        "correlation_matrix = hr_data_train.corr()"
      ],
      "execution_count": 0,
      "outputs": []
    },
    {
      "metadata": {
        "id": "t-zaGHE2Fa3L",
        "colab_type": "code",
        "colab": {
          "base_uri": "https://localhost:8080/",
          "height": 765
        },
        "outputId": "a08faafb-6d6b-433b-b75e-f8cc54e141c4"
      },
      "cell_type": "code",
      "source": [
        "print (correlation_matrix)"
      ],
      "execution_count": 103,
      "outputs": [
        {
          "output_type": "stream",
          "text": [
            "                                number_years_in_company  last_appraisal_score  \\\n",
            "number_years_in_company                        1.000000              0.134387   \n",
            "last_appraisal_score                           0.134387              1.000000   \n",
            "number_of_project                              0.196456              0.346520   \n",
            "average_billable_monthly_hours                 0.127994              0.338556   \n",
            "behavioural_issue                              0.005303             -0.008767   \n",
            "recent_promotion                               0.064176             -0.005600   \n",
            "employee_engagement_level                     -0.099282              0.105310   \n",
            "\n",
            "                                number_of_project  \\\n",
            "number_years_in_company                  0.196456   \n",
            "last_appraisal_score                     0.346520   \n",
            "number_of_project                        1.000000   \n",
            "average_billable_monthly_hours           0.417131   \n",
            "behavioural_issue                       -0.003130   \n",
            "recent_promotion                        -0.005627   \n",
            "employee_engagement_level               -0.146906   \n",
            "\n",
            "                                average_billable_monthly_hours  \\\n",
            "number_years_in_company                               0.127994   \n",
            "last_appraisal_score                                  0.338556   \n",
            "number_of_project                                     0.417131   \n",
            "average_billable_monthly_hours                        1.000000   \n",
            "behavioural_issue                                    -0.010177   \n",
            "recent_promotion                                     -0.000448   \n",
            "employee_engagement_level                            -0.021872   \n",
            "\n",
            "                                behavioural_issue  recent_promotion  \\\n",
            "number_years_in_company                  0.005303          0.064176   \n",
            "last_appraisal_score                    -0.008767         -0.005600   \n",
            "number_of_project                       -0.003130         -0.005627   \n",
            "average_billable_monthly_hours          -0.010177         -0.000448   \n",
            "behavioural_issue                        1.000000          0.038658   \n",
            "recent_promotion                         0.038658          1.000000   \n",
            "employee_engagement_level                0.060839          0.029235   \n",
            "\n",
            "                                employee_engagement_level  \n",
            "number_years_in_company                         -0.099282  \n",
            "last_appraisal_score                             0.105310  \n",
            "number_of_project                               -0.146906  \n",
            "average_billable_monthly_hours                  -0.021872  \n",
            "behavioural_issue                                0.060839  \n",
            "recent_promotion                                 0.029235  \n",
            "employee_engagement_level                        1.000000  \n"
          ],
          "name": "stdout"
        }
      ]
    },
    {
      "metadata": {
        "id": "3PqJ_zzEFdaY",
        "colab_type": "code",
        "colab": {}
      },
      "cell_type": "code",
      "source": [
        "mask = np.zeros_like(correlation_matrix, dtype=np.bool)\n",
        "mask[np.triu_indices_from(mask)] = True"
      ],
      "execution_count": 0,
      "outputs": []
    },
    {
      "metadata": {
        "id": "7j3c2eVAFgjC",
        "colab_type": "code",
        "colab": {
          "base_uri": "https://localhost:8080/",
          "height": 731
        },
        "outputId": "a841c931-fd43-49fa-ccca-0658337687ec"
      },
      "cell_type": "code",
      "source": [
        "f, ax = plt.subplots(figsize=(11, 9))\n",
        "\n",
        "# Generate a custom diverging colormap\n",
        "cmap = sns.diverging_palette(220, 10, as_cmap=True)\n",
        "\n",
        "# Draw the heatmap with the mask and correct aspect ratio\n",
        "sns.heatmap(correlation_matrix, mask=mask, cmap=cmap, vmax=.3, center=0,\n",
        "            square=True, linewidths=.5, cbar_kws={\"shrink\": .5})"
      ],
      "execution_count": 105,
      "outputs": [
        {
          "output_type": "execute_result",
          "data": {
            "text/plain": [
              "<matplotlib.axes._subplots.AxesSubplot at 0x7f124d436c88>"
            ]
          },
          "metadata": {
            "tags": []
          },
          "execution_count": 105
        },
        {
          "output_type": "display_data",
          "data": {
            "image/png": "[encoded data removed]",
            "text/plain": [
              "<Figure size 792x648 with 2 Axes>"
            ]
          },
          "metadata": {
            "tags": []
          }
        }
      ]
    },
    {
      "metadata": {
        "id": "_psiFHCUFkaL",
        "colab_type": "text"
      },
      "cell_type": "markdown",
      "source": [
        "**Training a logisitic regression based classifier.**"
      ]
    },
    {
      "metadata": {
        "id": "sPzAb_hDFhMW",
        "colab_type": "code",
        "colab": {}
      },
      "cell_type": "code",
      "source": [
        "logistic_clf = LogisticRegression(random_state=42,class_weight ='balanced',solver='lbfgs',max_iter=1000)"
      ],
      "execution_count": 0,
      "outputs": []
    },
    {
      "metadata": {
        "id": "6BQcvARPFnI5",
        "colab_type": "code",
        "colab": {
          "base_uri": "https://localhost:8080/",
          "height": 85
        },
        "outputId": "009b5fac-fdc7-4e56-aba8-3042bda4fb99"
      },
      "cell_type": "code",
      "source": [
        "logistic_clf.fit(x_train,y_train)"
      ],
      "execution_count": 107,
      "outputs": [
        {
          "output_type": "execute_result",
          "data": {
            "text/plain": [
              "LogisticRegression(C=1.0, class_weight='balanced', dual=False,\n",
              "          fit_intercept=True, intercept_scaling=1, max_iter=1000,\n",
              "          multi_class='warn', n_jobs=None, penalty='l2', random_state=42,\n",
              "          solver='lbfgs', tol=0.0001, verbose=0, warm_start=False)"
            ]
          },
          "metadata": {
            "tags": []
          },
          "execution_count": 107
        }
      ]
    },
    {
      "metadata": {
        "id": "e9l8q4foFosX",
        "colab_type": "code",
        "colab": {
          "base_uri": "https://localhost:8080/",
          "height": 34
        },
        "outputId": "20a10847-4c34-4172-b408-db6256026c9d"
      },
      "cell_type": "code",
      "source": [
        "logistic_regression_scores = cross_val_score(logistic_clf, x_train, y_train, cv=10)\n",
        "y_train_pred_logistic = cross_val_predict(logistic_clf, x_train, y_train, cv=10)\n",
        "print (logistic_regression_scores.mean())"
      ],
      "execution_count": 108,
      "outputs": [
        {
          "output_type": "stream",
          "text": [
            "0.7576112935529121\n"
          ],
          "name": "stdout"
        }
      ]
    },
    {
      "metadata": {
        "id": "5iaFEaCpFrQ8",
        "colab_type": "code",
        "colab": {}
      },
      "cell_type": "code",
      "source": [
        "cm  = confusion_matrix(y_train, y_train_pred_logistic)"
      ],
      "execution_count": 0,
      "outputs": []
    },
    {
      "metadata": {
        "id": "ixOa5lcbFtU-",
        "colab_type": "code",
        "colab": {
          "base_uri": "https://localhost:8080/",
          "height": 416
        },
        "outputId": "e2ef5bdc-178e-4160-ccd9-fab58b991169"
      },
      "cell_type": "code",
      "source": [
        "plot_confusion_matrix(cm,[0,1])"
      ],
      "execution_count": 110,
      "outputs": [
        {
          "output_type": "stream",
          "text": [
            "Confusion matrix, without normalization\n",
            "[[7649 2636]\n",
            " [ 636 2578]]\n"
          ],
          "name": "stdout"
        },
        {
          "output_type": "display_data",
          "data": {
            "image/png": "[encoded data removed]",
            "text/plain": [
              "<Figure size 360x360 with 2 Axes>"
            ]
          },
          "metadata": {
            "tags": []
          }
        }
      ]
    },
    {
      "metadata": {
        "id": "SieSZriGFvl4",
        "colab_type": "code",
        "colab": {}
      },
      "cell_type": "code",
      "source": [
        "y_test_pred_logistic = logistic_clf.predict(x_test)"
      ],
      "execution_count": 0,
      "outputs": []
    },
    {
      "metadata": {
        "id": "wQ94qQc4F4vM",
        "colab_type": "code",
        "colab": {
          "base_uri": "https://localhost:8080/",
          "height": 85
        },
        "outputId": "aca8baef-23f2-47a5-81e3-fe535a9cd66f"
      },
      "cell_type": "code",
      "source": [
        "cm = confusion_matrix(y_test,y_test_pred_logistic)\n",
        "tn, fp, fn, tp = cm.ravel()\n",
        "print (tn)\n",
        "print (fp)\n",
        "print (fn)\n",
        "print (tp)"
      ],
      "execution_count": 112,
      "outputs": [
        {
          "output_type": "stream",
          "text": [
            "883\n",
            "260\n",
            "68\n",
            "289\n"
          ],
          "name": "stdout"
        }
      ]
    },
    {
      "metadata": {
        "id": "2aUhwMMlF6AL",
        "colab_type": "code",
        "colab": {
          "base_uri": "https://localhost:8080/",
          "height": 416
        },
        "outputId": "63c3f161-7193-40e4-f36e-5cc706dce458"
      },
      "cell_type": "code",
      "source": [
        "plot_confusion_matrix(cm,[0,1])"
      ],
      "execution_count": 113,
      "outputs": [
        {
          "output_type": "stream",
          "text": [
            "Confusion matrix, without normalization\n",
            "[[883 260]\n",
            " [ 68 289]]\n"
          ],
          "name": "stdout"
        },
        {
          "output_type": "display_data",
          "data": {
            "image/png": "[encoded data removed]",
            "text/plain": [
              "<Figure size 360x360 with 2 Axes>"
            ]
          },
          "metadata": {
            "tags": []
          }
        }
      ]
    },
    {
      "metadata": {
        "id": "S9-JA2OBF8WH",
        "colab_type": "code",
        "colab": {
          "base_uri": "https://localhost:8080/",
          "height": 54
        },
        "outputId": "df3fec9f-553e-4f84-bcfb-70beab3669a1"
      },
      "cell_type": "code",
      "source": [
        "classification_report(y_test,y_test_pred_logistic)"
      ],
      "execution_count": 114,
      "outputs": [
        {
          "output_type": "execute_result",
          "data": {
            "text/plain": [
              "'              precision    recall  f1-score   support\\n\\n           0       0.93      0.77      0.84      1143\\n           1       0.53      0.81      0.64       357\\n\\n   micro avg       0.78      0.78      0.78      1500\\n   macro avg       0.73      0.79      0.74      1500\\nweighted avg       0.83      0.78      0.79      1500\\n'"
            ]
          },
          "metadata": {
            "tags": []
          },
          "execution_count": 114
        }
      ]
    },
    {
      "metadata": {
        "id": "1tMEXLZ4GC49",
        "colab_type": "text"
      },
      "cell_type": "markdown",
      "source": [
        "**Training K Nearest Neighbor**"
      ]
    },
    {
      "metadata": {
        "id": "_Ru_27VgGBS8",
        "colab_type": "code",
        "colab": {
          "base_uri": "https://localhost:8080/",
          "height": 102
        },
        "outputId": "188c334c-5e1f-4edc-82f6-97c8ddb0c13a"
      },
      "cell_type": "code",
      "source": [
        "param_grid = [{\"weights\":[\"uniform\",\"distance\"],\"n_neighbors\":[2,3,4,5]}]\n",
        "knn_clf = KNeighborsClassifier()\n",
        "grid_search = GridSearchCV(knn_clf, param_grid, cv=10, verbose=3, n_jobs=-1)\n",
        "grid_search.fit(x_train, y_train)\n",
        "print (grid_search.best_params_)"
      ],
      "execution_count": 115,
      "outputs": [
        {
          "output_type": "stream",
          "text": [
            "Fitting 10 folds for each of 8 candidates, totalling 80 fits\n"
          ],
          "name": "stdout"
        },
        {
          "output_type": "stream",
          "text": [
            "[Parallel(n_jobs=-1)]: Using backend LokyBackend with 2 concurrent workers.\n",
            "[Parallel(n_jobs=-1)]: Done  28 tasks      | elapsed:   34.7s\n"
          ],
          "name": "stderr"
        },
        {
          "output_type": "stream",
          "text": [
            "{'n_neighbors': 4, 'weights': 'distance'}\n"
          ],
          "name": "stdout"
        },
        {
          "output_type": "stream",
          "text": [
            "[Parallel(n_jobs=-1)]: Done  80 out of  80 | elapsed:  1.8min finished\n"
          ],
          "name": "stderr"
        }
      ]
    },
    {
      "metadata": {
        "id": "CpzpjjorGSKW",
        "colab_type": "code",
        "colab": {
          "base_uri": "https://localhost:8080/",
          "height": 68
        },
        "outputId": "9a56d5c9-5cfd-43e8-cb84-eef90c73f392"
      },
      "cell_type": "code",
      "source": [
        "knn_clf = KNeighborsClassifier(weights='distance',n_neighbors=2)\n",
        "knn_clf.fit(x_train,y_train)"
      ],
      "execution_count": 116,
      "outputs": [
        {
          "output_type": "execute_result",
          "data": {
            "text/plain": [
              "KNeighborsClassifier(algorithm='auto', leaf_size=30, metric='minkowski',\n",
              "           metric_params=None, n_jobs=None, n_neighbors=2, p=2,\n",
              "           weights='distance')"
            ]
          },
          "metadata": {
            "tags": []
          },
          "execution_count": 116
        }
      ]
    },
    {
      "metadata": {
        "id": "yZ0xxBczGWbI",
        "colab_type": "code",
        "colab": {
          "base_uri": "https://localhost:8080/",
          "height": 34
        },
        "outputId": "118b5c09-66fd-47cb-9897-7fe66655b61c"
      },
      "cell_type": "code",
      "source": [
        "knn_scores = cross_val_score(knn_clf, x_train, y_train, cv=10)\n",
        "y_train_pred_knn = cross_val_predict(knn_clf, x_train, y_train, cv=10)\n",
        "print (knn_scores.mean())"
      ],
      "execution_count": 117,
      "outputs": [
        {
          "output_type": "stream",
          "text": [
            "0.9717025374987251\n"
          ],
          "name": "stdout"
        }
      ]
    },
    {
      "metadata": {
        "id": "fwBG-aALGXIF",
        "colab_type": "code",
        "colab": {
          "base_uri": "https://localhost:8080/",
          "height": 85
        },
        "outputId": "8ee2f868-51cb-49cd-8e27-997399a912af"
      },
      "cell_type": "code",
      "source": [
        "cm  = confusion_matrix(y_train,y_train_pred_knn)\n",
        "tn, fp, fn, tp = cm.ravel()\n",
        "print (tn)\n",
        "print (fp)\n",
        "print (fn)\n",
        "print (tp)"
      ],
      "execution_count": 118,
      "outputs": [
        {
          "output_type": "stream",
          "text": [
            "10019\n",
            "266\n",
            "116\n",
            "3098\n"
          ],
          "name": "stdout"
        }
      ]
    },
    {
      "metadata": {
        "id": "tgRjMazZGYuQ",
        "colab_type": "code",
        "colab": {
          "base_uri": "https://localhost:8080/",
          "height": 416
        },
        "outputId": "9120f63f-5285-4ad1-e639-b2a7dd5b32d7"
      },
      "cell_type": "code",
      "source": [
        "plot_confusion_matrix(cm,[0,1])"
      ],
      "execution_count": 119,
      "outputs": [
        {
          "output_type": "stream",
          "text": [
            "Confusion matrix, without normalization\n",
            "[[10019   266]\n",
            " [  116  3098]]\n"
          ],
          "name": "stdout"
        },
        {
          "output_type": "display_data",
          "data": {
            "image/png": "[encoded data removed]",
            "text/plain": [
              "<Figure size 360x360 with 2 Axes>"
            ]
          },
          "metadata": {
            "tags": []
          }
        }
      ]
    },
    {
      "metadata": {
        "id": "hjKX4nK1GaXa",
        "colab_type": "code",
        "colab": {}
      },
      "cell_type": "code",
      "source": [
        "y_test_pred_knn = knn_clf.predict(x_test)"
      ],
      "execution_count": 0,
      "outputs": []
    },
    {
      "metadata": {
        "id": "EgV9RDt5Ghcv",
        "colab_type": "code",
        "colab": {
          "base_uri": "https://localhost:8080/",
          "height": 85
        },
        "outputId": "ce733977-b9d6-4f2c-b403-541454980374"
      },
      "cell_type": "code",
      "source": [
        "cm = confusion_matrix(y_test,y_test_pred_knn)\n",
        "tn, fp, fn, tp = cm.ravel()\n",
        "print (tn)\n",
        "print (fp)\n",
        "print (fn)\n",
        "print (tp)"
      ],
      "execution_count": 121,
      "outputs": [
        {
          "output_type": "stream",
          "text": [
            "1117\n",
            "26\n",
            "12\n",
            "345\n"
          ],
          "name": "stdout"
        }
      ]
    },
    {
      "metadata": {
        "id": "JzbfauHeGi_f",
        "colab_type": "code",
        "colab": {
          "base_uri": "https://localhost:8080/",
          "height": 416
        },
        "outputId": "14f46a72-fb79-4f09-f6bb-f382ca0d606d"
      },
      "cell_type": "code",
      "source": [
        "plot_confusion_matrix(cm,[0,1])"
      ],
      "execution_count": 122,
      "outputs": [
        {
          "output_type": "stream",
          "text": [
            "Confusion matrix, without normalization\n",
            "[[1117   26]\n",
            " [  12  345]]\n"
          ],
          "name": "stdout"
        },
        {
          "output_type": "display_data",
          "data": {
            "image/png": "[encoded data removed]",
            "text/plain": [
              "<Figure size 360x360 with 2 Axes>"
            ]
          },
          "metadata": {
            "tags": []
          }
        }
      ]
    },
    {
      "metadata": {
        "id": "Du4SWd5oGklB",
        "colab_type": "code",
        "colab": {
          "base_uri": "https://localhost:8080/",
          "height": 54
        },
        "outputId": "dfce4e70-ca53-4471-b171-10aa9757eb1c"
      },
      "cell_type": "code",
      "source": [
        "classification_report(y_test,y_test_pred_knn)"
      ],
      "execution_count": 123,
      "outputs": [
        {
          "output_type": "execute_result",
          "data": {
            "text/plain": [
              "'              precision    recall  f1-score   support\\n\\n           0       0.99      0.98      0.98      1143\\n           1       0.93      0.97      0.95       357\\n\\n   micro avg       0.97      0.97      0.97      1500\\n   macro avg       0.96      0.97      0.97      1500\\nweighted avg       0.98      0.97      0.97      1500\\n'"
            ]
          },
          "metadata": {
            "tags": []
          },
          "execution_count": 123
        }
      ]
    },
    {
      "metadata": {
        "id": "Y37v_w45G_IN",
        "colab_type": "text"
      },
      "cell_type": "markdown",
      "source": [
        "**Train a SVM Model**"
      ]
    },
    {
      "metadata": {
        "id": "TsoocdGOG87-",
        "colab_type": "code",
        "colab": {
          "base_uri": "https://localhost:8080/",
          "height": 85
        },
        "outputId": "06efef33-9f58-4a37-cc0f-61d87b35dc86"
      },
      "cell_type": "code",
      "source": [
        "svm_clf = SVC(gamma=\"auto\",random_state=42)\n",
        "svm_clf.fit(x_train, y_train)"
      ],
      "execution_count": 124,
      "outputs": [
        {
          "output_type": "execute_result",
          "data": {
            "text/plain": [
              "SVC(C=1.0, cache_size=200, class_weight=None, coef0=0.0,\n",
              "  decision_function_shape='ovr', degree=3, gamma='auto', kernel='rbf',\n",
              "  max_iter=-1, probability=False, random_state=42, shrinking=True,\n",
              "  tol=0.001, verbose=False)"
            ]
          },
          "metadata": {
            "tags": []
          },
          "execution_count": 124
        }
      ]
    },
    {
      "metadata": {
        "id": "P8h8KsjSHDaX",
        "colab_type": "code",
        "colab": {
          "base_uri": "https://localhost:8080/",
          "height": 34
        },
        "outputId": "35a7899e-9ec2-440d-b9ec-b8498248dad3"
      },
      "cell_type": "code",
      "source": [
        "svm_scores = cross_val_score(knn_clf, x_train, y_train, cv=10)\n",
        "y_train_pred_svm = cross_val_predict(svm_clf, x_train, y_train, cv=10)\n",
        "print (svm_scores.mean())"
      ],
      "execution_count": 125,
      "outputs": [
        {
          "output_type": "stream",
          "text": [
            "0.9717025374987251\n"
          ],
          "name": "stdout"
        }
      ]
    },
    {
      "metadata": {
        "id": "hwYKWLaaHRum",
        "colab_type": "code",
        "colab": {}
      },
      "cell_type": "code",
      "source": [
        "y_test_pred_svm = svm_clf.predict(x_test)"
      ],
      "execution_count": 0,
      "outputs": []
    },
    {
      "metadata": {
        "id": "8Wp8GcwjHrxn",
        "colab_type": "code",
        "colab": {}
      },
      "cell_type": "code",
      "source": [
        "cm  = confusion_matrix(y_train,y_train_pred_svm)"
      ],
      "execution_count": 0,
      "outputs": []
    },
    {
      "metadata": {
        "id": "v4XH24DiHxQE",
        "colab_type": "code",
        "colab": {
          "base_uri": "https://localhost:8080/",
          "height": 416
        },
        "outputId": "b59715f9-3283-42f6-b2f2-99918035f306"
      },
      "cell_type": "code",
      "source": [
        "plot_confusion_matrix(cm,[0,1])"
      ],
      "execution_count": 129,
      "outputs": [
        {
          "output_type": "stream",
          "text": [
            "Confusion matrix, without normalization\n",
            "[[10001   284]\n",
            " [  303  2911]]\n"
          ],
          "name": "stdout"
        },
        {
          "output_type": "display_data",
          "data": {
            "image/png": "[encoded data removed]",
            "text/plain": [
              "<Figure size 360x360 with 2 Axes>"
            ]
          },
          "metadata": {
            "tags": []
          }
        }
      ]
    },
    {
      "metadata": {
        "id": "AB9huInvH2GR",
        "colab_type": "code",
        "colab": {
          "base_uri": "https://localhost:8080/",
          "height": 85
        },
        "outputId": "e48b009c-38c2-4007-b3e3-af5350ea8989"
      },
      "cell_type": "code",
      "source": [
        "cm  = confusion_matrix(y_test,y_test_pred_svm)\n",
        "tn, fp, fn, tp = cm.ravel()\n",
        "print (tn)\n",
        "print (fp)\n",
        "print (fn)\n",
        "print (tp)"
      ],
      "execution_count": 130,
      "outputs": [
        {
          "output_type": "stream",
          "text": [
            "1121\n",
            "22\n",
            "34\n",
            "323\n"
          ],
          "name": "stdout"
        }
      ]
    },
    {
      "metadata": {
        "id": "MRGFFZcpH4cL",
        "colab_type": "code",
        "colab": {
          "base_uri": "https://localhost:8080/",
          "height": 416
        },
        "outputId": "8f10460c-4717-4c33-b9c8-36661a7cb6c8"
      },
      "cell_type": "code",
      "source": [
        "plot_confusion_matrix(cm,[0,1])"
      ],
      "execution_count": 131,
      "outputs": [
        {
          "output_type": "stream",
          "text": [
            "Confusion matrix, without normalization\n",
            "[[1121   22]\n",
            " [  34  323]]\n"
          ],
          "name": "stdout"
        },
        {
          "output_type": "display_data",
          "data": {
            "image/png": "[encoded data removed]",
            "text/plain": [
              "<Figure size 360x360 with 2 Axes>"
            ]
          },
          "metadata": {
            "tags": []
          }
        }
      ]
    },
    {
      "metadata": {
        "id": "EoA8Eus2H60v",
        "colab_type": "code",
        "colab": {
          "base_uri": "https://localhost:8080/",
          "height": 54
        },
        "outputId": "9881d26d-8661-4f85-d940-03a0360fd186"
      },
      "cell_type": "code",
      "source": [
        "classification_report(y_test,y_test_pred_svm)"
      ],
      "execution_count": 132,
      "outputs": [
        {
          "output_type": "execute_result",
          "data": {
            "text/plain": [
              "'              precision    recall  f1-score   support\\n\\n           0       0.97      0.98      0.98      1143\\n           1       0.94      0.90      0.92       357\\n\\n   micro avg       0.96      0.96      0.96      1500\\n   macro avg       0.95      0.94      0.95      1500\\nweighted avg       0.96      0.96      0.96      1500\\n'"
            ]
          },
          "metadata": {
            "tags": []
          },
          "execution_count": 132
        }
      ]
    },
    {
      "metadata": {
        "id": "TGagr5H3H-u_",
        "colab_type": "text"
      },
      "cell_type": "markdown",
      "source": [
        "**Training Gradient Boosting Algorithm**"
      ]
    },
    {
      "metadata": {
        "id": "oi8nVVKCH8tp",
        "colab_type": "code",
        "colab": {
          "base_uri": "https://localhost:8080/",
          "height": 119
        },
        "outputId": "8b1ad56d-ef2e-4d10-8dd0-afd7c4d9af81"
      },
      "cell_type": "code",
      "source": [
        "xgboost_clf = XGBClassifier(random_state=42)\n",
        "xgboost_clf.fit(x_train,y_train)"
      ],
      "execution_count": 133,
      "outputs": [
        {
          "output_type": "execute_result",
          "data": {
            "text/plain": [
              "XGBClassifier(base_score=0.5, booster='gbtree', colsample_bylevel=1,\n",
              "       colsample_bytree=1, gamma=0, learning_rate=0.1, max_delta_step=0,\n",
              "       max_depth=3, min_child_weight=1, missing=None, n_estimators=100,\n",
              "       n_jobs=1, nthread=None, objective='binary:logistic',\n",
              "       random_state=42, reg_alpha=0, reg_lambda=1, scale_pos_weight=1,\n",
              "       seed=None, silent=True, subsample=1)"
            ]
          },
          "metadata": {
            "tags": []
          },
          "execution_count": 133
        }
      ]
    },
    {
      "metadata": {
        "id": "BVOyakoRIDU3",
        "colab_type": "code",
        "colab": {
          "base_uri": "https://localhost:8080/",
          "height": 34
        },
        "outputId": "61e47aff-3108-4bd8-919a-7a88816a835f"
      },
      "cell_type": "code",
      "source": [
        "xgboost_scores = cross_val_score(xgboost_clf, x_train, y_train, cv=10)\n",
        "y_train_pred_xgboost = cross_val_predict(xgboost_clf, x_train, y_train, cv=10)\n",
        "xgboost_scores.mean()"
      ],
      "execution_count": 134,
      "outputs": [
        {
          "output_type": "execute_result",
          "data": {
            "text/plain": [
              "0.974815022019115"
            ]
          },
          "metadata": {
            "tags": []
          },
          "execution_count": 134
        }
      ]
    },
    {
      "metadata": {
        "id": "xYF9exuIIFj-",
        "colab_type": "code",
        "colab": {}
      },
      "cell_type": "code",
      "source": [
        "cm  = confusion_matrix(y_train,y_train_pred_xgboost)"
      ],
      "execution_count": 0,
      "outputs": []
    },
    {
      "metadata": {
        "id": "aOaVBChPIIJ4",
        "colab_type": "code",
        "colab": {
          "base_uri": "https://localhost:8080/",
          "height": 416
        },
        "outputId": "eea1fb77-ab01-45a0-97c6-ee30c31b1dd0"
      },
      "cell_type": "code",
      "source": [
        "plot_confusion_matrix(cm,[0,1])"
      ],
      "execution_count": 136,
      "outputs": [
        {
          "output_type": "stream",
          "text": [
            "Confusion matrix, without normalization\n",
            "[[10181   104]\n",
            " [  236  2978]]\n"
          ],
          "name": "stdout"
        },
        {
          "output_type": "display_data",
          "data": {
            "image/png": "[encoded data removed]",
            "text/plain": [
              "<Figure size 360x360 with 2 Axes>"
            ]
          },
          "metadata": {
            "tags": []
          }
        }
      ]
    },
    {
      "metadata": {
        "id": "oCLOTWSxIM4C",
        "colab_type": "code",
        "colab": {}
      },
      "cell_type": "code",
      "source": [
        "y_test_pred_xgboost = xgboost_clf.predict(x_test)"
      ],
      "execution_count": 0,
      "outputs": []
    },
    {
      "metadata": {
        "id": "FcEPGT13IOpJ",
        "colab_type": "code",
        "colab": {
          "base_uri": "https://localhost:8080/",
          "height": 85
        },
        "outputId": "24fd8284-4ba9-4867-fca7-18b96831612b"
      },
      "cell_type": "code",
      "source": [
        "cm  = confusion_matrix(y_test,y_test_pred_xgboost)\n",
        "tn, fp, fn, tp = cm.ravel()\n",
        "print (tn)\n",
        "print (fp)\n",
        "print (fn)\n",
        "print (tp)"
      ],
      "execution_count": 138,
      "outputs": [
        {
          "output_type": "stream",
          "text": [
            "1135\n",
            "8\n",
            "25\n",
            "332\n"
          ],
          "name": "stdout"
        }
      ]
    },
    {
      "metadata": {
        "id": "9YSmibgzIPWD",
        "colab_type": "code",
        "colab": {
          "base_uri": "https://localhost:8080/",
          "height": 416
        },
        "outputId": "2b093374-fe1b-4b73-f6d4-1f844e206490"
      },
      "cell_type": "code",
      "source": [
        "plot_confusion_matrix(cm,[0,1])"
      ],
      "execution_count": 139,
      "outputs": [
        {
          "output_type": "stream",
          "text": [
            "Confusion matrix, without normalization\n",
            "[[1135    8]\n",
            " [  25  332]]\n"
          ],
          "name": "stdout"
        },
        {
          "output_type": "display_data",
          "data": {
            "image/png": "[encoded data removed]",
            "text/plain": [
              "<Figure size 360x360 with 2 Axes>"
            ]
          },
          "metadata": {
            "tags": []
          }
        }
      ]
    },
    {
      "metadata": {
        "id": "FiR4sGNaIbri",
        "colab_type": "code",
        "colab": {
          "base_uri": "https://localhost:8080/",
          "height": 54
        },
        "outputId": "4387ca39-9def-44ac-9113-4fff1585bb9d"
      },
      "cell_type": "code",
      "source": [
        "classification_report(y_test,y_test_pred_xgboost)"
      ],
      "execution_count": 141,
      "outputs": [
        {
          "output_type": "execute_result",
          "data": {
            "text/plain": [
              "'              precision    recall  f1-score   support\\n\\n           0       0.98      0.99      0.99      1143\\n           1       0.98      0.93      0.95       357\\n\\n   micro avg       0.98      0.98      0.98      1500\\n   macro avg       0.98      0.96      0.97      1500\\nweighted avg       0.98      0.98      0.98      1500\\n'"
            ]
          },
          "metadata": {
            "tags": []
          },
          "execution_count": 141
        }
      ]
    },
    {
      "metadata": {
        "id": "Vnv0mxPTIgAV",
        "colab_type": "text"
      },
      "cell_type": "markdown",
      "source": [
        "**Training Neural Network**"
      ]
    },
    {
      "metadata": {
        "id": "HvKLcAlPIQ0p",
        "colab_type": "code",
        "colab": {}
      },
      "cell_type": "code",
      "source": [
        "# create model\n",
        "neural_net = Sequential()\n",
        "neural_net.add(Dense(8, input_dim=15, activation='relu'))\n",
        "neural_net.add(Dense(12, activation='relu'))\n",
        "neural_net.add(Dense(12, activation='relu'))\n",
        "neural_net.add(Dense(12, activation='relu'))\n",
        "neural_net.add(Dense(12, activation='relu'))\n",
        "neural_net.add(Dense(1, activation='sigmoid'))\n",
        "# Compile model\n",
        "neural_net.compile(loss='binary_crossentropy', optimizer='adam', metrics=['accuracy'])"
      ],
      "execution_count": 0,
      "outputs": []
    },
    {
      "metadata": {
        "id": "o9x6_QOZImtM",
        "colab_type": "code",
        "colab": {
          "base_uri": "https://localhost:8080/",
          "height": 51051
        },
        "outputId": "29f1cd1e-2c34-40ea-a656-3a6e93440e94"
      },
      "cell_type": "code",
      "source": [
        "neural_net.fit(x_train, y_train, validation_split=0.1,epochs=1500, batch_size=10)"
      ],
      "execution_count": 155,
      "outputs": [
        {
          "output_type": "stream",
          "text": [
            "Train on 12149 samples, validate on 1350 samples\n",
            "Epoch 1/1500\n",
            "12149/12149 [==============================] - 2s 181us/step - loss: 0.2646 - acc: 0.8898 - val_loss: 0.1590 - val_acc: 0.9533\n",
            "Epoch 2/1500\n",
            "12149/12149 [==============================] - 2s 130us/step - loss: 0.1447 - acc: 0.9587 - val_loss: 0.1449 - val_acc: 0.9622\n",
            "Epoch 3/1500\n",
            "12149/12149 [==============================] - 2s 128us/step - loss: 0.1350 - acc: 0.9613 - val_loss: 0.1366 - val_acc: 0.9615\n",
            "Epoch 4/1500\n",
            "12149/12149 [==============================] - 2s 128us/step - loss: 0.1300 - acc: 0.9640 - val_loss: 0.1338 - val_acc: 0.9615\n",
            "Epoch 5/1500\n",
            "12149/12149 [==============================] - 2s 131us/step - loss: 0.1265 - acc: 0.9640 - val_loss: 0.1289 - val_acc: 0.9630\n",
            "Epoch 6/1500\n",
            "12149/12149 [==============================] - 2s 130us/step - loss: 0.1228 - acc: 0.9658 - val_loss: 0.1275 - val_acc: 0.9659\n",
            "Epoch 7/1500\n",
            "12149/12149 [==============================] - 2s 131us/step - loss: 0.1192 - acc: 0.9669 - val_loss: 0.1309 - val_acc: 0.9637\n",
            "Epoch 8/1500\n",
            "12149/12149 [==============================] - 2s 131us/step - loss: 0.1169 - acc: 0.9672 - val_loss: 0.1288 - val_acc: 0.9622\n",
            "Epoch 9/1500\n",
            "12149/12149 [==============================] - 2s 129us/step - loss: 0.1147 - acc: 0.9681 - val_loss: 0.1300 - val_acc: 0.9630\n",
            "Epoch 10/1500\n",
            "12149/12149 [==============================] - 2s 130us/step - loss: 0.1129 - acc: 0.9686 - val_loss: 0.1394 - val_acc: 0.9600\n",
            "Epoch 11/1500\n",
            "12149/12149 [==============================] - 2s 132us/step - loss: 0.1116 - acc: 0.9686 - val_loss: 0.1316 - val_acc: 0.9615\n",
            "Epoch 12/1500\n",
            "12149/12149 [==============================] - 2s 132us/step - loss: 0.1113 - acc: 0.9683 - val_loss: 0.1230 - val_acc: 0.9652\n",
            "Epoch 13/1500\n",
            "12149/12149 [==============================] - 2s 129us/step - loss: 0.1105 - acc: 0.9684 - val_loss: 0.1261 - val_acc: 0.9644\n",
            "Epoch 14/1500\n",
            "12149/12149 [==============================] - 2s 133us/step - loss: 0.1078 - acc: 0.9686 - val_loss: 0.1225 - val_acc: 0.9652\n",
            "Epoch 15/1500\n",
            "12149/12149 [==============================] - 2s 131us/step - loss: 0.1091 - acc: 0.9687 - val_loss: 0.1204 - val_acc: 0.9674\n",
            "Epoch 16/1500\n",
            "12149/12149 [==============================] - 2s 131us/step - loss: 0.1073 - acc: 0.9693 - val_loss: 0.1215 - val_acc: 0.9652\n",
            "Epoch 17/1500\n",
            "12149/12149 [==============================] - 2s 133us/step - loss: 0.1070 - acc: 0.9686 - val_loss: 0.1272 - val_acc: 0.9622\n",
            "Epoch 18/1500\n",
            "12149/12149 [==============================] - 2s 133us/step - loss: 0.1055 - acc: 0.9697 - val_loss: 0.1287 - val_acc: 0.9659\n",
            "Epoch 19/1500\n",
            "12149/12149 [==============================] - 2s 130us/step - loss: 0.1066 - acc: 0.9691 - val_loss: 0.1210 - val_acc: 0.9659\n",
            "Epoch 20/1500\n",
            "12149/12149 [==============================] - 2s 129us/step - loss: 0.1052 - acc: 0.9699 - val_loss: 0.1250 - val_acc: 0.9667\n",
            "Epoch 21/1500\n",
            "12149/12149 [==============================] - 2s 129us/step - loss: 0.1041 - acc: 0.9695 - val_loss: 0.1208 - val_acc: 0.9652\n",
            "Epoch 22/1500\n",
            "12149/12149 [==============================] - 2s 132us/step - loss: 0.1021 - acc: 0.9705 - val_loss: 0.1315 - val_acc: 0.9637\n",
            "Epoch 23/1500\n",
            "12149/12149 [==============================] - 2s 133us/step - loss: 0.1036 - acc: 0.9703 - val_loss: 0.1248 - val_acc: 0.9652\n",
            "Epoch 24/1500\n",
            "12149/12149 [==============================] - 2s 132us/step - loss: 0.1028 - acc: 0.9705 - val_loss: 0.1215 - val_acc: 0.9659\n",
            "Epoch 25/1500\n",
            "12149/12149 [==============================] - 2s 132us/step - loss: 0.1019 - acc: 0.9709 - val_loss: 0.1255 - val_acc: 0.9652\n",
            "Epoch 26/1500\n",
            "12149/12149 [==============================] - 2s 131us/step - loss: 0.0999 - acc: 0.9705 - val_loss: 0.1243 - val_acc: 0.9659\n",
            "Epoch 27/1500\n",
            "12149/12149 [==============================] - 2s 130us/step - loss: 0.0990 - acc: 0.9712 - val_loss: 0.1256 - val_acc: 0.9644\n",
            "Epoch 28/1500\n",
            "12149/12149 [==============================] - 2s 130us/step - loss: 0.0992 - acc: 0.9706 - val_loss: 0.1221 - val_acc: 0.9659\n",
            "Epoch 29/1500\n",
            "12149/12149 [==============================] - 2s 131us/step - loss: 0.1001 - acc: 0.9709 - val_loss: 0.1294 - val_acc: 0.9637\n",
            "Epoch 30/1500\n",
            "12149/12149 [==============================] - 2s 130us/step - loss: 0.1007 - acc: 0.9705 - val_loss: 0.1194 - val_acc: 0.9637\n",
            "Epoch 31/1500\n",
            "12149/12149 [==============================] - 2s 131us/step - loss: 0.0991 - acc: 0.9706 - val_loss: 0.1232 - val_acc: 0.9652\n",
            "Epoch 32/1500\n",
            "12149/12149 [==============================] - 2s 130us/step - loss: 0.0961 - acc: 0.9722 - val_loss: 0.1185 - val_acc: 0.9667\n",
            "Epoch 33/1500\n",
            "12149/12149 [==============================] - 2s 131us/step - loss: 0.0969 - acc: 0.9714 - val_loss: 0.1231 - val_acc: 0.9659\n",
            "Epoch 34/1500\n",
            "12149/12149 [==============================] - 2s 131us/step - loss: 0.0959 - acc: 0.9712 - val_loss: 0.1152 - val_acc: 0.9674\n",
            "Epoch 35/1500\n",
            "12149/12149 [==============================] - 2s 131us/step - loss: 0.0977 - acc: 0.9709 - val_loss: 0.1210 - val_acc: 0.9637\n",
            "Epoch 36/1500\n",
            "12149/12149 [==============================] - 2s 132us/step - loss: 0.0956 - acc: 0.9710 - val_loss: 0.1197 - val_acc: 0.9644\n",
            "Epoch 37/1500\n",
            "12149/12149 [==============================] - 2s 132us/step - loss: 0.0944 - acc: 0.9716 - val_loss: 0.1193 - val_acc: 0.9652\n",
            "Epoch 38/1500\n",
            "12149/12149 [==============================] - 2s 131us/step - loss: 0.0945 - acc: 0.9714 - val_loss: 0.1222 - val_acc: 0.9644\n",
            "Epoch 39/1500\n",
            "12149/12149 [==============================] - 2s 130us/step - loss: 0.0959 - acc: 0.9707 - val_loss: 0.1140 - val_acc: 0.9652\n",
            "Epoch 40/1500\n",
            "12149/12149 [==============================] - 2s 133us/step - loss: 0.0928 - acc: 0.9717 - val_loss: 0.1218 - val_acc: 0.9652\n",
            "Epoch 41/1500\n",
            "12149/12149 [==============================] - 2s 130us/step - loss: 0.0932 - acc: 0.9720 - val_loss: 0.1189 - val_acc: 0.9667\n",
            "Epoch 42/1500\n",
            "12149/12149 [==============================] - 2s 133us/step - loss: 0.0926 - acc: 0.9721 - val_loss: 0.1193 - val_acc: 0.9659\n",
            "Epoch 43/1500\n",
            "12149/12149 [==============================] - 2s 133us/step - loss: 0.0928 - acc: 0.9718 - val_loss: 0.1153 - val_acc: 0.9674\n",
            "Epoch 44/1500\n",
            "12149/12149 [==============================] - 2s 133us/step - loss: 0.0920 - acc: 0.9722 - val_loss: 0.1162 - val_acc: 0.9681\n",
            "Epoch 45/1500\n",
            "12149/12149 [==============================] - 2s 132us/step - loss: 0.0923 - acc: 0.9723 - val_loss: 0.1189 - val_acc: 0.9674\n",
            "Epoch 46/1500\n",
            "12149/12149 [==============================] - 2s 131us/step - loss: 0.0920 - acc: 0.9719 - val_loss: 0.1148 - val_acc: 0.9681\n",
            "Epoch 47/1500\n",
            "12149/12149 [==============================] - 2s 132us/step - loss: 0.0897 - acc: 0.9733 - val_loss: 0.1137 - val_acc: 0.9674\n",
            "Epoch 48/1500\n",
            "12149/12149 [==============================] - 2s 130us/step - loss: 0.0898 - acc: 0.9739 - val_loss: 0.1234 - val_acc: 0.9659\n",
            "Epoch 49/1500\n",
            "12149/12149 [==============================] - 2s 130us/step - loss: 0.0904 - acc: 0.9732 - val_loss: 0.1067 - val_acc: 0.9689\n",
            "Epoch 50/1500\n",
            "12149/12149 [==============================] - 2s 130us/step - loss: 0.0901 - acc: 0.9728 - val_loss: 0.1134 - val_acc: 0.9681\n",
            "Epoch 51/1500\n",
            "12149/12149 [==============================] - 2s 130us/step - loss: 0.0908 - acc: 0.9728 - val_loss: 0.1180 - val_acc: 0.9644\n",
            "Epoch 52/1500\n",
            "12149/12149 [==============================] - 2s 133us/step - loss: 0.0894 - acc: 0.9736 - val_loss: 0.1166 - val_acc: 0.9659\n",
            "Epoch 53/1500\n",
            "12149/12149 [==============================] - 2s 133us/step - loss: 0.0895 - acc: 0.9728 - val_loss: 0.1098 - val_acc: 0.9681\n",
            "Epoch 54/1500\n",
            "12149/12149 [==============================] - 2s 133us/step - loss: 0.0892 - acc: 0.9737 - val_loss: 0.1197 - val_acc: 0.9652\n",
            "Epoch 55/1500\n",
            "12149/12149 [==============================] - 2s 132us/step - loss: 0.0877 - acc: 0.9741 - val_loss: 0.1080 - val_acc: 0.9711\n",
            "Epoch 56/1500\n",
            "12149/12149 [==============================] - 2s 133us/step - loss: 0.0887 - acc: 0.9729 - val_loss: 0.1093 - val_acc: 0.9689\n",
            "Epoch 57/1500\n",
            "12149/12149 [==============================] - 2s 132us/step - loss: 0.0883 - acc: 0.9732 - val_loss: 0.1096 - val_acc: 0.9674\n",
            "Epoch 58/1500\n",
            "12149/12149 [==============================] - 2s 130us/step - loss: 0.0867 - acc: 0.9737 - val_loss: 0.1057 - val_acc: 0.9689\n",
            "Epoch 59/1500\n",
            "12149/12149 [==============================] - 2s 131us/step - loss: 0.0863 - acc: 0.9742 - val_loss: 0.1067 - val_acc: 0.9704\n",
            "Epoch 60/1500\n",
            "12149/12149 [==============================] - 2s 132us/step - loss: 0.0876 - acc: 0.9732 - val_loss: 0.1130 - val_acc: 0.9674\n",
            "Epoch 61/1500\n",
            "12149/12149 [==============================] - 2s 131us/step - loss: 0.0859 - acc: 0.9741 - val_loss: 0.1064 - val_acc: 0.9681\n",
            "Epoch 62/1500\n",
            "12149/12149 [==============================] - 2s 131us/step - loss: 0.0860 - acc: 0.9737 - val_loss: 0.1118 - val_acc: 0.9689\n",
            "Epoch 63/1500\n",
            "12149/12149 [==============================] - 2s 131us/step - loss: 0.0873 - acc: 0.9733 - val_loss: 0.1134 - val_acc: 0.9667\n",
            "Epoch 64/1500\n",
            "12149/12149 [==============================] - 2s 150us/step - loss: 0.0863 - acc: 0.9733 - val_loss: 0.1037 - val_acc: 0.9711\n",
            "Epoch 65/1500\n",
            "12149/12149 [==============================] - 2s 179us/step - loss: 0.0855 - acc: 0.9736 - val_loss: 0.1039 - val_acc: 0.9704\n",
            "Epoch 66/1500\n",
            "12149/12149 [==============================] - 2s 192us/step - loss: 0.0856 - acc: 0.9738 - val_loss: 0.1000 - val_acc: 0.9704\n",
            "Epoch 67/1500\n",
            "12149/12149 [==============================] - 2s 149us/step - loss: 0.0840 - acc: 0.9751 - val_loss: 0.1032 - val_acc: 0.9689\n",
            "Epoch 68/1500\n",
            "12149/12149 [==============================] - 2s 153us/step - loss: 0.0845 - acc: 0.9743 - val_loss: 0.1135 - val_acc: 0.9667\n",
            "Epoch 69/1500\n",
            "12149/12149 [==============================] - 2s 151us/step - loss: 0.0838 - acc: 0.9746 - val_loss: 0.1080 - val_acc: 0.9696\n",
            "Epoch 70/1500\n",
            "12149/12149 [==============================] - 2s 149us/step - loss: 0.0845 - acc: 0.9746 - val_loss: 0.1039 - val_acc: 0.9681\n",
            "Epoch 71/1500\n",
            "12149/12149 [==============================] - 2s 129us/step - loss: 0.0834 - acc: 0.9755 - val_loss: 0.1070 - val_acc: 0.9681\n",
            "Epoch 72/1500\n",
            "12149/12149 [==============================] - 2s 129us/step - loss: 0.0847 - acc: 0.9747 - val_loss: 0.1022 - val_acc: 0.9704\n",
            "Epoch 73/1500\n",
            "12149/12149 [==============================] - 2s 130us/step - loss: 0.0827 - acc: 0.9755 - val_loss: 0.1008 - val_acc: 0.9719\n",
            "Epoch 74/1500\n",
            "12149/12149 [==============================] - 2s 129us/step - loss: 0.0832 - acc: 0.9754 - val_loss: 0.1036 - val_acc: 0.9711\n",
            "Epoch 75/1500\n",
            "12149/12149 [==============================] - 2s 130us/step - loss: 0.0814 - acc: 0.9754 - val_loss: 0.1020 - val_acc: 0.9726\n",
            "Epoch 76/1500\n",
            "12149/12149 [==============================] - 2s 130us/step - loss: 0.0802 - acc: 0.9768 - val_loss: 0.1032 - val_acc: 0.9711\n",
            "Epoch 77/1500\n",
            "12149/12149 [==============================] - 2s 132us/step - loss: 0.0825 - acc: 0.9747 - val_loss: 0.1133 - val_acc: 0.9659\n",
            "Epoch 78/1500\n",
            "12149/12149 [==============================] - 2s 129us/step - loss: 0.0836 - acc: 0.9756 - val_loss: 0.1035 - val_acc: 0.9689\n",
            "Epoch 79/1500\n",
            "12149/12149 [==============================] - 2s 132us/step - loss: 0.0800 - acc: 0.9757 - val_loss: 0.1024 - val_acc: 0.9681\n",
            "Epoch 80/1500\n",
            "12149/12149 [==============================] - 2s 130us/step - loss: 0.0827 - acc: 0.9762 - val_loss: 0.1062 - val_acc: 0.9652\n",
            "Epoch 81/1500\n",
            "12149/12149 [==============================] - 2s 128us/step - loss: 0.0810 - acc: 0.9757 - val_loss: 0.1020 - val_acc: 0.9719\n",
            "Epoch 82/1500\n",
            "12149/12149 [==============================] - 2s 129us/step - loss: 0.0810 - acc: 0.9763 - val_loss: 0.1060 - val_acc: 0.9696\n",
            "Epoch 83/1500\n",
            "12149/12149 [==============================] - 2s 129us/step - loss: 0.0799 - acc: 0.9760 - val_loss: 0.1114 - val_acc: 0.9711\n",
            "Epoch 84/1500\n",
            "12149/12149 [==============================] - 2s 132us/step - loss: 0.0829 - acc: 0.9756 - val_loss: 0.0979 - val_acc: 0.9726\n",
            "Epoch 85/1500\n",
            "12149/12149 [==============================] - 2s 130us/step - loss: 0.0798 - acc: 0.9764 - val_loss: 0.1074 - val_acc: 0.9689\n",
            "Epoch 86/1500\n",
            "12149/12149 [==============================] - 2s 130us/step - loss: 0.0839 - acc: 0.9751 - val_loss: 0.1137 - val_acc: 0.9681\n",
            "Epoch 87/1500\n",
            "12149/12149 [==============================] - 2s 130us/step - loss: 0.0803 - acc: 0.9764 - val_loss: 0.1032 - val_acc: 0.9704\n",
            "Epoch 88/1500\n",
            "12149/12149 [==============================] - 2s 134us/step - loss: 0.0798 - acc: 0.9765 - val_loss: 0.1025 - val_acc: 0.9689\n",
            "Epoch 89/1500\n",
            "12149/12149 [==============================] - 2s 131us/step - loss: 0.0819 - acc: 0.9751 - val_loss: 0.1026 - val_acc: 0.9704\n",
            "Epoch 90/1500\n",
            "12149/12149 [==============================] - 2s 132us/step - loss: 0.0797 - acc: 0.9774 - val_loss: 0.1029 - val_acc: 0.9719\n",
            "Epoch 91/1500\n",
            "12149/12149 [==============================] - 2s 130us/step - loss: 0.0825 - acc: 0.9747 - val_loss: 0.1012 - val_acc: 0.9711\n",
            "Epoch 92/1500\n",
            "12149/12149 [==============================] - 2s 130us/step - loss: 0.0792 - acc: 0.9768 - val_loss: 0.1057 - val_acc: 0.9704\n",
            "Epoch 93/1500\n",
            "12149/12149 [==============================] - 2s 132us/step - loss: 0.0786 - acc: 0.9770 - val_loss: 0.1007 - val_acc: 0.9741\n",
            "Epoch 94/1500\n",
            "12149/12149 [==============================] - 2s 131us/step - loss: 0.0800 - acc: 0.9771 - val_loss: 0.1056 - val_acc: 0.9704\n",
            "Epoch 95/1500\n",
            "12149/12149 [==============================] - 2s 131us/step - loss: 0.0780 - acc: 0.9773 - val_loss: 0.1014 - val_acc: 0.9741\n",
            "Epoch 96/1500\n",
            "12149/12149 [==============================] - 2s 131us/step - loss: 0.0796 - acc: 0.9759 - val_loss: 0.1167 - val_acc: 0.9667\n",
            "Epoch 97/1500\n",
            "12149/12149 [==============================] - 2s 130us/step - loss: 0.0783 - acc: 0.9770 - val_loss: 0.1004 - val_acc: 0.9711\n",
            "Epoch 98/1500\n",
            "12149/12149 [==============================] - 2s 130us/step - loss: 0.0770 - acc: 0.9770 - val_loss: 0.1107 - val_acc: 0.9719\n",
            "Epoch 99/1500\n",
            "12149/12149 [==============================] - 2s 133us/step - loss: 0.0781 - acc: 0.9774 - val_loss: 0.1045 - val_acc: 0.9696\n",
            "Epoch 100/1500\n",
            "12149/12149 [==============================] - 2s 130us/step - loss: 0.0783 - acc: 0.9772 - val_loss: 0.1143 - val_acc: 0.9689\n",
            "Epoch 101/1500\n",
            "12149/12149 [==============================] - 2s 131us/step - loss: 0.0769 - acc: 0.9771 - val_loss: 0.1027 - val_acc: 0.9681\n",
            "Epoch 102/1500\n",
            "12149/12149 [==============================] - 2s 132us/step - loss: 0.0767 - acc: 0.9767 - val_loss: 0.1001 - val_acc: 0.9719\n",
            "Epoch 103/1500\n",
            "12149/12149 [==============================] - 2s 131us/step - loss: 0.0783 - acc: 0.9764 - val_loss: 0.1051 - val_acc: 0.9696\n",
            "Epoch 104/1500\n",
            "12149/12149 [==============================] - 2s 130us/step - loss: 0.0767 - acc: 0.9773 - val_loss: 0.0987 - val_acc: 0.9719\n",
            "Epoch 105/1500\n",
            "12149/12149 [==============================] - 2s 130us/step - loss: 0.0778 - acc: 0.9776 - val_loss: 0.0999 - val_acc: 0.9733\n",
            "Epoch 106/1500\n",
            "12149/12149 [==============================] - 2s 133us/step - loss: 0.0769 - acc: 0.9773 - val_loss: 0.1034 - val_acc: 0.9689\n",
            "Epoch 107/1500\n",
            "12149/12149 [==============================] - 2s 132us/step - loss: 0.0760 - acc: 0.9777 - val_loss: 0.1067 - val_acc: 0.9704\n",
            "Epoch 108/1500\n",
            "12149/12149 [==============================] - 2s 129us/step - loss: 0.0772 - acc: 0.9773 - val_loss: 0.1022 - val_acc: 0.9711\n",
            "Epoch 109/1500\n",
            "12149/12149 [==============================] - 2s 131us/step - loss: 0.0756 - acc: 0.9775 - val_loss: 0.0980 - val_acc: 0.9704\n",
            "Epoch 110/1500\n",
            "12149/12149 [==============================] - 2s 131us/step - loss: 0.0762 - acc: 0.9771 - val_loss: 0.1051 - val_acc: 0.9726\n",
            "Epoch 111/1500\n",
            "12149/12149 [==============================] - 2s 133us/step - loss: 0.0769 - acc: 0.9775 - val_loss: 0.1003 - val_acc: 0.9726\n",
            "Epoch 112/1500\n",
            "12149/12149 [==============================] - 2s 132us/step - loss: 0.0760 - acc: 0.9790 - val_loss: 0.1054 - val_acc: 0.9711\n",
            "Epoch 113/1500\n",
            "12149/12149 [==============================] - 2s 131us/step - loss: 0.0765 - acc: 0.9770 - val_loss: 0.1041 - val_acc: 0.9711\n",
            "Epoch 114/1500\n",
            "12149/12149 [==============================] - 2s 132us/step - loss: 0.0777 - acc: 0.9769 - val_loss: 0.1059 - val_acc: 0.9689\n",
            "Epoch 115/1500\n",
            "12149/12149 [==============================] - 2s 133us/step - loss: 0.0767 - acc: 0.9774 - val_loss: 0.1132 - val_acc: 0.9674\n",
            "Epoch 116/1500\n",
            "12149/12149 [==============================] - 2s 133us/step - loss: 0.0752 - acc: 0.9785 - val_loss: 0.1154 - val_acc: 0.9667\n",
            "Epoch 117/1500\n",
            "12149/12149 [==============================] - 2s 135us/step - loss: 0.0758 - acc: 0.9777 - val_loss: 0.1053 - val_acc: 0.9681\n",
            "Epoch 118/1500\n",
            "12149/12149 [==============================] - 2s 132us/step - loss: 0.0760 - acc: 0.9776 - val_loss: 0.1057 - val_acc: 0.9689\n",
            "Epoch 119/1500\n",
            "12149/12149 [==============================] - 2s 134us/step - loss: 0.0772 - acc: 0.9777 - val_loss: 0.1005 - val_acc: 0.9733\n",
            "Epoch 120/1500\n",
            "12149/12149 [==============================] - 2s 132us/step - loss: 0.0744 - acc: 0.9784 - val_loss: 0.0961 - val_acc: 0.9719\n",
            "Epoch 121/1500\n",
            "12149/12149 [==============================] - 2s 129us/step - loss: 0.0760 - acc: 0.9784 - val_loss: 0.1106 - val_acc: 0.9726\n",
            "Epoch 122/1500\n",
            "12149/12149 [==============================] - 2s 129us/step - loss: 0.0747 - acc: 0.9778 - val_loss: 0.1050 - val_acc: 0.9696\n",
            "Epoch 123/1500\n",
            "12149/12149 [==============================] - 2s 131us/step - loss: 0.0746 - acc: 0.9778 - val_loss: 0.1136 - val_acc: 0.9689\n",
            "Epoch 124/1500\n",
            "12149/12149 [==============================] - 2s 130us/step - loss: 0.0748 - acc: 0.9789 - val_loss: 0.1004 - val_acc: 0.9681\n",
            "Epoch 125/1500\n",
            "12149/12149 [==============================] - 2s 131us/step - loss: 0.0753 - acc: 0.9783 - val_loss: 0.1038 - val_acc: 0.9726\n",
            "Epoch 126/1500\n",
            "12149/12149 [==============================] - 2s 131us/step - loss: 0.0758 - acc: 0.9788 - val_loss: 0.1017 - val_acc: 0.9726\n",
            "Epoch 127/1500\n",
            "12149/12149 [==============================] - 2s 129us/step - loss: 0.0746 - acc: 0.9782 - val_loss: 0.1034 - val_acc: 0.9719\n",
            "Epoch 128/1500\n",
            "12149/12149 [==============================] - 2s 128us/step - loss: 0.0737 - acc: 0.9789 - val_loss: 0.1069 - val_acc: 0.9689\n",
            "Epoch 129/1500\n",
            "12149/12149 [==============================] - 2s 129us/step - loss: 0.0756 - acc: 0.9774 - val_loss: 0.0957 - val_acc: 0.9689\n",
            "Epoch 130/1500\n",
            "12149/12149 [==============================] - 2s 131us/step - loss: 0.0742 - acc: 0.9783 - val_loss: 0.1035 - val_acc: 0.9681\n",
            "Epoch 131/1500\n",
            "12149/12149 [==============================] - 2s 133us/step - loss: 0.0735 - acc: 0.9784 - val_loss: 0.1012 - val_acc: 0.9719\n",
            "Epoch 132/1500\n",
            "12149/12149 [==============================] - 2s 131us/step - loss: 0.0751 - acc: 0.9789 - val_loss: 0.1181 - val_acc: 0.9667\n",
            "Epoch 133/1500\n",
            "12149/12149 [==============================] - 2s 132us/step - loss: 0.0749 - acc: 0.9770 - val_loss: 0.0976 - val_acc: 0.9719\n",
            "Epoch 134/1500\n",
            "12149/12149 [==============================] - 2s 131us/step - loss: 0.0723 - acc: 0.9797 - val_loss: 0.1074 - val_acc: 0.9696\n",
            "Epoch 135/1500\n",
            "12149/12149 [==============================] - 2s 132us/step - loss: 0.0729 - acc: 0.9780 - val_loss: 0.1180 - val_acc: 0.9644\n",
            "Epoch 136/1500\n",
            "12149/12149 [==============================] - 2s 133us/step - loss: 0.0745 - acc: 0.9782 - val_loss: 0.1110 - val_acc: 0.9652\n",
            "Epoch 137/1500\n",
            "12149/12149 [==============================] - 2s 130us/step - loss: 0.0727 - acc: 0.9788 - val_loss: 0.0994 - val_acc: 0.9711\n",
            "Epoch 138/1500\n",
            "12149/12149 [==============================] - 2s 130us/step - loss: 0.0710 - acc: 0.9788 - val_loss: 0.1027 - val_acc: 0.9696\n",
            "Epoch 139/1500\n",
            "12149/12149 [==============================] - 2s 132us/step - loss: 0.0733 - acc: 0.9785 - val_loss: 0.1166 - val_acc: 0.9696\n",
            "Epoch 140/1500\n",
            "12149/12149 [==============================] - 2s 130us/step - loss: 0.0726 - acc: 0.9791 - val_loss: 0.1044 - val_acc: 0.9689\n",
            "Epoch 141/1500\n",
            "12149/12149 [==============================] - 2s 132us/step - loss: 0.0736 - acc: 0.9788 - val_loss: 0.1025 - val_acc: 0.9711\n",
            "Epoch 142/1500\n",
            "12149/12149 [==============================] - 2s 131us/step - loss: 0.0749 - acc: 0.9781 - val_loss: 0.1077 - val_acc: 0.9711\n",
            "Epoch 143/1500\n",
            "12149/12149 [==============================] - 2s 133us/step - loss: 0.0738 - acc: 0.9786 - val_loss: 0.0993 - val_acc: 0.9696\n",
            "Epoch 144/1500\n",
            "12149/12149 [==============================] - 2s 132us/step - loss: 0.0719 - acc: 0.9792 - val_loss: 0.0971 - val_acc: 0.9748\n",
            "Epoch 145/1500\n",
            "12149/12149 [==============================] - 2s 131us/step - loss: 0.0722 - acc: 0.9791 - val_loss: 0.0995 - val_acc: 0.9704\n",
            "Epoch 146/1500\n",
            "12149/12149 [==============================] - 2s 132us/step - loss: 0.0728 - acc: 0.9793 - val_loss: 0.1029 - val_acc: 0.9696\n",
            "Epoch 147/1500\n",
            "12149/12149 [==============================] - 2s 130us/step - loss: 0.0725 - acc: 0.9785 - val_loss: 0.1057 - val_acc: 0.9667\n",
            "Epoch 148/1500\n",
            "12149/12149 [==============================] - 2s 129us/step - loss: 0.0713 - acc: 0.9791 - val_loss: 0.0970 - val_acc: 0.9719\n",
            "Epoch 149/1500\n",
            "12149/12149 [==============================] - 2s 134us/step - loss: 0.0715 - acc: 0.9793 - val_loss: 0.1028 - val_acc: 0.9711\n",
            "Epoch 150/1500\n",
            "12149/12149 [==============================] - 2s 132us/step - loss: 0.0725 - acc: 0.9797 - val_loss: 0.1021 - val_acc: 0.9719\n",
            "Epoch 151/1500\n",
            "12149/12149 [==============================] - 2s 133us/step - loss: 0.0729 - acc: 0.9779 - val_loss: 0.1008 - val_acc: 0.9689\n",
            "Epoch 152/1500\n",
            "12149/12149 [==============================] - 2s 132us/step - loss: 0.0716 - acc: 0.9788 - val_loss: 0.1019 - val_acc: 0.9711\n",
            "Epoch 153/1500\n",
            "12149/12149 [==============================] - 2s 129us/step - loss: 0.0696 - acc: 0.9790 - val_loss: 0.1007 - val_acc: 0.9726\n",
            "Epoch 154/1500\n",
            "12149/12149 [==============================] - 2s 133us/step - loss: 0.0717 - acc: 0.9789 - val_loss: 0.1067 - val_acc: 0.9696\n",
            "Epoch 155/1500\n",
            "12149/12149 [==============================] - 2s 132us/step - loss: 0.0726 - acc: 0.9791 - val_loss: 0.0972 - val_acc: 0.9726\n",
            "Epoch 156/1500\n",
            "12149/12149 [==============================] - 2s 130us/step - loss: 0.0707 - acc: 0.9796 - val_loss: 0.1025 - val_acc: 0.9704\n",
            "Epoch 157/1500\n",
            "12149/12149 [==============================] - 2s 130us/step - loss: 0.0708 - acc: 0.9797 - val_loss: 0.1023 - val_acc: 0.9689\n",
            "Epoch 158/1500\n",
            "12149/12149 [==============================] - 2s 133us/step - loss: 0.0712 - acc: 0.9792 - val_loss: 0.1070 - val_acc: 0.9719\n",
            "Epoch 159/1500\n",
            "12149/12149 [==============================] - 2s 131us/step - loss: 0.0712 - acc: 0.9787 - val_loss: 0.1019 - val_acc: 0.9689\n",
            "Epoch 160/1500\n",
            "12149/12149 [==============================] - 2s 130us/step - loss: 0.0691 - acc: 0.9792 - val_loss: 0.0939 - val_acc: 0.9719\n",
            "Epoch 161/1500\n",
            "12149/12149 [==============================] - 2s 132us/step - loss: 0.0689 - acc: 0.9801 - val_loss: 0.1162 - val_acc: 0.9659\n",
            "Epoch 162/1500\n",
            "12149/12149 [==============================] - 2s 132us/step - loss: 0.0704 - acc: 0.9793 - val_loss: 0.1027 - val_acc: 0.9711\n",
            "Epoch 163/1500\n",
            "12149/12149 [==============================] - 2s 136us/step - loss: 0.0701 - acc: 0.9796 - val_loss: 0.1112 - val_acc: 0.9667\n",
            "Epoch 164/1500\n",
            "12149/12149 [==============================] - 2s 129us/step - loss: 0.0700 - acc: 0.9796 - val_loss: 0.1088 - val_acc: 0.9704\n",
            "Epoch 165/1500\n",
            "12149/12149 [==============================] - 2s 131us/step - loss: 0.0715 - acc: 0.9785 - val_loss: 0.1005 - val_acc: 0.9704\n",
            "Epoch 166/1500\n",
            "12149/12149 [==============================] - 2s 132us/step - loss: 0.0710 - acc: 0.9789 - val_loss: 0.1061 - val_acc: 0.9696\n",
            "Epoch 167/1500\n",
            "12149/12149 [==============================] - 2s 130us/step - loss: 0.0715 - acc: 0.9781 - val_loss: 0.1058 - val_acc: 0.9711\n",
            "Epoch 168/1500\n",
            "12149/12149 [==============================] - 2s 133us/step - loss: 0.0692 - acc: 0.9797 - val_loss: 0.1009 - val_acc: 0.9704\n",
            "Epoch 169/1500\n",
            "12149/12149 [==============================] - 2s 134us/step - loss: 0.0691 - acc: 0.9793 - val_loss: 0.0961 - val_acc: 0.9733\n",
            "Epoch 170/1500\n",
            "12149/12149 [==============================] - 2s 134us/step - loss: 0.0718 - acc: 0.9792 - val_loss: 0.0980 - val_acc: 0.9726\n",
            "Epoch 171/1500\n",
            "12149/12149 [==============================] - 2s 135us/step - loss: 0.0695 - acc: 0.9791 - val_loss: 0.1008 - val_acc: 0.9711\n",
            "Epoch 172/1500\n",
            "12149/12149 [==============================] - 2s 131us/step - loss: 0.0690 - acc: 0.9791 - val_loss: 0.0989 - val_acc: 0.9733\n",
            "Epoch 173/1500\n",
            "12149/12149 [==============================] - 2s 132us/step - loss: 0.0690 - acc: 0.9796 - val_loss: 0.1044 - val_acc: 0.9711\n",
            "Epoch 174/1500\n",
            "12149/12149 [==============================] - 2s 133us/step - loss: 0.0674 - acc: 0.9808 - val_loss: 0.1050 - val_acc: 0.9711\n",
            "Epoch 175/1500\n",
            "12149/12149 [==============================] - 2s 132us/step - loss: 0.0695 - acc: 0.9792 - val_loss: 0.0980 - val_acc: 0.9711\n",
            "Epoch 176/1500\n",
            "12149/12149 [==============================] - 2s 131us/step - loss: 0.0693 - acc: 0.9800 - val_loss: 0.0934 - val_acc: 0.9741\n",
            "Epoch 177/1500\n",
            "12149/12149 [==============================] - 2s 131us/step - loss: 0.0716 - acc: 0.9783 - val_loss: 0.1038 - val_acc: 0.9681\n",
            "Epoch 178/1500\n",
            "12149/12149 [==============================] - 2s 132us/step - loss: 0.0672 - acc: 0.9803 - val_loss: 0.0996 - val_acc: 0.9711\n",
            "Epoch 179/1500\n",
            "12149/12149 [==============================] - 2s 129us/step - loss: 0.0699 - acc: 0.9789 - val_loss: 0.1095 - val_acc: 0.9719\n",
            "Epoch 180/1500\n",
            "12149/12149 [==============================] - 2s 132us/step - loss: 0.0684 - acc: 0.9802 - val_loss: 0.1108 - val_acc: 0.9696\n",
            "Epoch 181/1500\n",
            "12149/12149 [==============================] - 2s 131us/step - loss: 0.0688 - acc: 0.9804 - val_loss: 0.1004 - val_acc: 0.9689\n",
            "Epoch 182/1500\n",
            "12149/12149 [==============================] - 2s 135us/step - loss: 0.0697 - acc: 0.9780 - val_loss: 0.1032 - val_acc: 0.9711\n",
            "Epoch 183/1500\n",
            "12149/12149 [==============================] - 2s 130us/step - loss: 0.0699 - acc: 0.9790 - val_loss: 0.1019 - val_acc: 0.9689\n",
            "Epoch 184/1500\n",
            "12149/12149 [==============================] - 2s 130us/step - loss: 0.0677 - acc: 0.9798 - val_loss: 0.1009 - val_acc: 0.9733\n",
            "Epoch 185/1500\n",
            "12149/12149 [==============================] - 2s 128us/step - loss: 0.0691 - acc: 0.9800 - val_loss: 0.1003 - val_acc: 0.9711\n",
            "Epoch 186/1500\n",
            "12149/12149 [==============================] - 2s 131us/step - loss: 0.0698 - acc: 0.9792 - val_loss: 0.1169 - val_acc: 0.9644\n",
            "Epoch 187/1500\n",
            "12149/12149 [==============================] - 2s 132us/step - loss: 0.0694 - acc: 0.9785 - val_loss: 0.1086 - val_acc: 0.9689\n",
            "Epoch 188/1500\n",
            "12149/12149 [==============================] - 2s 133us/step - loss: 0.0676 - acc: 0.9799 - val_loss: 0.1137 - val_acc: 0.9674\n",
            "Epoch 189/1500\n",
            "12149/12149 [==============================] - 2s 133us/step - loss: 0.0678 - acc: 0.9792 - val_loss: 0.1128 - val_acc: 0.9681\n",
            "Epoch 190/1500\n",
            "12149/12149 [==============================] - 2s 130us/step - loss: 0.0687 - acc: 0.9791 - val_loss: 0.1003 - val_acc: 0.9733\n",
            "Epoch 191/1500\n",
            "12149/12149 [==============================] - 2s 130us/step - loss: 0.0683 - acc: 0.9793 - val_loss: 0.1005 - val_acc: 0.9719\n",
            "Epoch 192/1500\n",
            "12149/12149 [==============================] - 2s 132us/step - loss: 0.0676 - acc: 0.9801 - val_loss: 0.1025 - val_acc: 0.9726\n",
            "Epoch 193/1500\n",
            "12149/12149 [==============================] - 2s 131us/step - loss: 0.0680 - acc: 0.9802 - val_loss: 0.1052 - val_acc: 0.9644\n",
            "Epoch 194/1500\n",
            "12149/12149 [==============================] - 2s 132us/step - loss: 0.0688 - acc: 0.9790 - val_loss: 0.1014 - val_acc: 0.9719\n",
            "Epoch 195/1500\n",
            "12149/12149 [==============================] - 2s 132us/step - loss: 0.0661 - acc: 0.9800 - val_loss: 0.1035 - val_acc: 0.9733\n",
            "Epoch 196/1500\n",
            "12149/12149 [==============================] - 2s 131us/step - loss: 0.0695 - acc: 0.9787 - val_loss: 0.1015 - val_acc: 0.9696\n",
            "Epoch 197/1500\n",
            "12149/12149 [==============================] - 2s 131us/step - loss: 0.0681 - acc: 0.9797 - val_loss: 0.1030 - val_acc: 0.9719\n",
            "Epoch 198/1500\n",
            "12149/12149 [==============================] - 2s 131us/step - loss: 0.0656 - acc: 0.9812 - val_loss: 0.1060 - val_acc: 0.9689\n",
            "Epoch 199/1500\n",
            "12149/12149 [==============================] - 2s 129us/step - loss: 0.0672 - acc: 0.9796 - val_loss: 0.1045 - val_acc: 0.9719\n",
            "Epoch 200/1500\n",
            "12149/12149 [==============================] - 2s 132us/step - loss: 0.0662 - acc: 0.9796 - val_loss: 0.1126 - val_acc: 0.9652\n",
            "Epoch 201/1500\n",
            "12149/12149 [==============================] - 2s 132us/step - loss: 0.0670 - acc: 0.9802 - val_loss: 0.1027 - val_acc: 0.9726\n",
            "Epoch 202/1500\n",
            "12149/12149 [==============================] - 2s 132us/step - loss: 0.0659 - acc: 0.9798 - val_loss: 0.1045 - val_acc: 0.9704\n",
            "Epoch 203/1500\n",
            "12149/12149 [==============================] - 2s 129us/step - loss: 0.0686 - acc: 0.9788 - val_loss: 0.1076 - val_acc: 0.9704\n",
            "Epoch 204/1500\n",
            "12149/12149 [==============================] - 2s 132us/step - loss: 0.0682 - acc: 0.9795 - val_loss: 0.0965 - val_acc: 0.9726\n",
            "Epoch 205/1500\n",
            "12149/12149 [==============================] - 2s 132us/step - loss: 0.0659 - acc: 0.9794 - val_loss: 0.1032 - val_acc: 0.9733\n",
            "Epoch 206/1500\n",
            "12149/12149 [==============================] - 2s 133us/step - loss: 0.0651 - acc: 0.9800 - val_loss: 0.1032 - val_acc: 0.9711\n",
            "Epoch 207/1500\n",
            "12149/12149 [==============================] - 2s 132us/step - loss: 0.0644 - acc: 0.9807 - val_loss: 0.1045 - val_acc: 0.9696\n",
            "Epoch 208/1500\n",
            "12149/12149 [==============================] - 2s 129us/step - loss: 0.0668 - acc: 0.9794 - val_loss: 0.1042 - val_acc: 0.9689\n",
            "Epoch 209/1500\n",
            "12149/12149 [==============================] - 2s 133us/step - loss: 0.0644 - acc: 0.9807 - val_loss: 0.1044 - val_acc: 0.9719\n",
            "Epoch 210/1500\n",
            "12149/12149 [==============================] - 2s 131us/step - loss: 0.0660 - acc: 0.9801 - val_loss: 0.1096 - val_acc: 0.9681\n",
            "Epoch 211/1500\n",
            "12149/12149 [==============================] - 2s 133us/step - loss: 0.0649 - acc: 0.9795 - val_loss: 0.1078 - val_acc: 0.9667\n",
            "Epoch 212/1500\n",
            "12149/12149 [==============================] - 2s 131us/step - loss: 0.0686 - acc: 0.9793 - val_loss: 0.1021 - val_acc: 0.9704\n",
            "Epoch 213/1500\n",
            "12149/12149 [==============================] - 2s 131us/step - loss: 0.0635 - acc: 0.9813 - val_loss: 0.1159 - val_acc: 0.9689\n",
            "Epoch 214/1500\n",
            "12149/12149 [==============================] - 2s 132us/step - loss: 0.0646 - acc: 0.9807 - val_loss: 0.1057 - val_acc: 0.9689\n",
            "Epoch 215/1500\n",
            "12149/12149 [==============================] - 2s 132us/step - loss: 0.0635 - acc: 0.9804 - val_loss: 0.1057 - val_acc: 0.9711\n",
            "Epoch 216/1500\n",
            "12149/12149 [==============================] - 2s 131us/step - loss: 0.0662 - acc: 0.9801 - val_loss: 0.1032 - val_acc: 0.9674\n",
            "Epoch 217/1500\n",
            "12149/12149 [==============================] - 2s 132us/step - loss: 0.0684 - acc: 0.9789 - val_loss: 0.1200 - val_acc: 0.9630\n",
            "Epoch 218/1500\n",
            "12149/12149 [==============================] - 2s 131us/step - loss: 0.0676 - acc: 0.9793 - val_loss: 0.1090 - val_acc: 0.9696\n",
            "Epoch 219/1500\n",
            "12149/12149 [==============================] - 2s 132us/step - loss: 0.0657 - acc: 0.9794 - val_loss: 0.1053 - val_acc: 0.9704\n",
            "Epoch 220/1500\n",
            "12149/12149 [==============================] - 2s 133us/step - loss: 0.0649 - acc: 0.9795 - val_loss: 0.1059 - val_acc: 0.9704\n",
            "Epoch 221/1500\n",
            "12149/12149 [==============================] - 2s 131us/step - loss: 0.0644 - acc: 0.9807 - val_loss: 0.1062 - val_acc: 0.9711\n",
            "Epoch 222/1500\n",
            "12149/12149 [==============================] - 2s 130us/step - loss: 0.0647 - acc: 0.9797 - val_loss: 0.1053 - val_acc: 0.9696\n",
            "Epoch 223/1500\n",
            "12149/12149 [==============================] - 2s 130us/step - loss: 0.0650 - acc: 0.9802 - val_loss: 0.1060 - val_acc: 0.9704\n",
            "Epoch 224/1500\n",
            "12149/12149 [==============================] - 2s 132us/step - loss: 0.0632 - acc: 0.9815 - val_loss: 0.0971 - val_acc: 0.9696\n",
            "Epoch 225/1500\n",
            "12149/12149 [==============================] - 2s 130us/step - loss: 0.0652 - acc: 0.9802 - val_loss: 0.0983 - val_acc: 0.9733\n",
            "Epoch 226/1500\n",
            "12149/12149 [==============================] - 2s 131us/step - loss: 0.0651 - acc: 0.9793 - val_loss: 0.0992 - val_acc: 0.9719\n",
            "Epoch 227/1500\n",
            "12149/12149 [==============================] - 2s 130us/step - loss: 0.0643 - acc: 0.9798 - val_loss: 0.1078 - val_acc: 0.9704\n",
            "Epoch 228/1500\n",
            "12149/12149 [==============================] - 2s 131us/step - loss: 0.0650 - acc: 0.9799 - val_loss: 0.1019 - val_acc: 0.9696\n",
            "Epoch 229/1500\n",
            "12149/12149 [==============================] - 2s 131us/step - loss: 0.0642 - acc: 0.9801 - val_loss: 0.1055 - val_acc: 0.9711\n",
            "Epoch 230/1500\n",
            "12149/12149 [==============================] - 2s 131us/step - loss: 0.0629 - acc: 0.9806 - val_loss: 0.1092 - val_acc: 0.9704\n",
            "Epoch 231/1500\n",
            "12149/12149 [==============================] - 2s 135us/step - loss: 0.0676 - acc: 0.9797 - val_loss: 0.1009 - val_acc: 0.9689\n",
            "Epoch 232/1500\n",
            "12149/12149 [==============================] - 2s 132us/step - loss: 0.0659 - acc: 0.9797 - val_loss: 0.1061 - val_acc: 0.9711\n",
            "Epoch 233/1500\n",
            "12149/12149 [==============================] - 2s 133us/step - loss: 0.0650 - acc: 0.9806 - val_loss: 0.1043 - val_acc: 0.9681\n",
            "Epoch 234/1500\n",
            "12149/12149 [==============================] - 2s 131us/step - loss: 0.0633 - acc: 0.9807 - val_loss: 0.1046 - val_acc: 0.9704\n",
            "Epoch 235/1500\n",
            "12149/12149 [==============================] - 2s 132us/step - loss: 0.0625 - acc: 0.9812 - val_loss: 0.1034 - val_acc: 0.9711\n",
            "Epoch 236/1500\n",
            "12149/12149 [==============================] - 2s 130us/step - loss: 0.0656 - acc: 0.9794 - val_loss: 0.1057 - val_acc: 0.9704\n",
            "Epoch 237/1500\n",
            "12149/12149 [==============================] - 2s 132us/step - loss: 0.0638 - acc: 0.9802 - val_loss: 0.1067 - val_acc: 0.9689\n",
            "Epoch 238/1500\n",
            "12149/12149 [==============================] - 2s 137us/step - loss: 0.0650 - acc: 0.9802 - val_loss: 0.1039 - val_acc: 0.9726\n",
            "Epoch 239/1500\n",
            "12149/12149 [==============================] - 2s 133us/step - loss: 0.0639 - acc: 0.9806 - val_loss: 0.1089 - val_acc: 0.9719\n",
            "Epoch 240/1500\n",
            "12149/12149 [==============================] - 2s 131us/step - loss: 0.0642 - acc: 0.9803 - val_loss: 0.1016 - val_acc: 0.9711\n",
            "Epoch 241/1500\n",
            "12149/12149 [==============================] - 2s 131us/step - loss: 0.0651 - acc: 0.9802 - val_loss: 0.1038 - val_acc: 0.9674\n",
            "Epoch 242/1500\n",
            "12149/12149 [==============================] - 2s 132us/step - loss: 0.0616 - acc: 0.9814 - val_loss: 0.1077 - val_acc: 0.9674\n",
            "Epoch 243/1500\n",
            "12149/12149 [==============================] - 2s 132us/step - loss: 0.0619 - acc: 0.9814 - val_loss: 0.1004 - val_acc: 0.9726\n",
            "Epoch 244/1500\n",
            "12149/12149 [==============================] - 2s 131us/step - loss: 0.0686 - acc: 0.9788 - val_loss: 0.0988 - val_acc: 0.9719\n",
            "Epoch 245/1500\n",
            "12149/12149 [==============================] - 2s 129us/step - loss: 0.0619 - acc: 0.9803 - val_loss: 0.1054 - val_acc: 0.9711\n",
            "Epoch 246/1500\n",
            "12149/12149 [==============================] - 2s 129us/step - loss: 0.0633 - acc: 0.9798 - val_loss: 0.1052 - val_acc: 0.9704\n",
            "Epoch 247/1500\n",
            "12149/12149 [==============================] - 2s 132us/step - loss: 0.0641 - acc: 0.9805 - val_loss: 0.1081 - val_acc: 0.9696\n",
            "Epoch 248/1500\n",
            "12149/12149 [==============================] - 2s 131us/step - loss: 0.0633 - acc: 0.9806 - val_loss: 0.1070 - val_acc: 0.9733\n",
            "Epoch 249/1500\n",
            "12149/12149 [==============================] - 2s 132us/step - loss: 0.0665 - acc: 0.9784 - val_loss: 0.1050 - val_acc: 0.9711\n",
            "Epoch 250/1500\n",
            "12149/12149 [==============================] - 2s 132us/step - loss: 0.0640 - acc: 0.9796 - val_loss: 0.0978 - val_acc: 0.9719\n",
            "Epoch 251/1500\n",
            "12149/12149 [==============================] - 2s 132us/step - loss: 0.0626 - acc: 0.9810 - val_loss: 0.0981 - val_acc: 0.9748\n",
            "Epoch 252/1500\n",
            "12149/12149 [==============================] - 2s 132us/step - loss: 0.0611 - acc: 0.9803 - val_loss: 0.1055 - val_acc: 0.9719\n",
            "Epoch 253/1500\n",
            "12149/12149 [==============================] - 2s 130us/step - loss: 0.0638 - acc: 0.9808 - val_loss: 0.1241 - val_acc: 0.9667\n",
            "Epoch 254/1500\n",
            "12149/12149 [==============================] - 2s 148us/step - loss: 0.0612 - acc: 0.9806 - val_loss: 0.1037 - val_acc: 0.9748\n",
            "Epoch 255/1500\n",
            "12149/12149 [==============================] - 2s 155us/step - loss: 0.0638 - acc: 0.9794 - val_loss: 0.1024 - val_acc: 0.9719\n",
            "Epoch 256/1500\n",
            "12149/12149 [==============================] - 2s 156us/step - loss: 0.0614 - acc: 0.9810 - val_loss: 0.1010 - val_acc: 0.9733\n",
            "Epoch 257/1500\n",
            "12149/12149 [==============================] - 2s 139us/step - loss: 0.0596 - acc: 0.9814 - val_loss: 0.1061 - val_acc: 0.9733\n",
            "Epoch 258/1500\n",
            "12149/12149 [==============================] - 2s 137us/step - loss: 0.0620 - acc: 0.9806 - val_loss: 0.1061 - val_acc: 0.9733\n",
            "Epoch 259/1500\n",
            "12149/12149 [==============================] - 2s 156us/step - loss: 0.0631 - acc: 0.9808 - val_loss: 0.1079 - val_acc: 0.9719\n",
            "Epoch 260/1500\n",
            "12149/12149 [==============================] - 2s 152us/step - loss: 0.0647 - acc: 0.9790 - val_loss: 0.1157 - val_acc: 0.9696\n",
            "Epoch 261/1500\n",
            "12149/12149 [==============================] - 2s 151us/step - loss: 0.0618 - acc: 0.9811 - val_loss: 0.1099 - val_acc: 0.9704\n",
            "Epoch 262/1500\n",
            "12149/12149 [==============================] - 2s 152us/step - loss: 0.0625 - acc: 0.9802 - val_loss: 0.1055 - val_acc: 0.9741\n",
            "Epoch 263/1500\n",
            "12149/12149 [==============================] - 2s 156us/step - loss: 0.0624 - acc: 0.9816 - val_loss: 0.1043 - val_acc: 0.9733\n",
            "Epoch 264/1500\n",
            "12149/12149 [==============================] - 2s 137us/step - loss: 0.0638 - acc: 0.9791 - val_loss: 0.1008 - val_acc: 0.9763\n",
            "Epoch 265/1500\n",
            "12149/12149 [==============================] - 2s 132us/step - loss: 0.0620 - acc: 0.9809 - val_loss: 0.1011 - val_acc: 0.9711\n",
            "Epoch 266/1500\n",
            "12149/12149 [==============================] - 2s 131us/step - loss: 0.0603 - acc: 0.9815 - val_loss: 0.1004 - val_acc: 0.9719\n",
            "Epoch 267/1500\n",
            "12149/12149 [==============================] - 2s 134us/step - loss: 0.0614 - acc: 0.9810 - val_loss: 0.1034 - val_acc: 0.9719\n",
            "Epoch 268/1500\n",
            "12149/12149 [==============================] - 2s 133us/step - loss: 0.0627 - acc: 0.9798 - val_loss: 0.1138 - val_acc: 0.9667\n",
            "Epoch 269/1500\n",
            "12149/12149 [==============================] - 2s 132us/step - loss: 0.0601 - acc: 0.9811 - val_loss: 0.1160 - val_acc: 0.9726\n",
            "Epoch 270/1500\n",
            "12149/12149 [==============================] - 2s 132us/step - loss: 0.0625 - acc: 0.9807 - val_loss: 0.1071 - val_acc: 0.9719\n",
            "Epoch 271/1500\n",
            "12149/12149 [==============================] - 2s 132us/step - loss: 0.0610 - acc: 0.9813 - val_loss: 0.1141 - val_acc: 0.9644\n",
            "Epoch 272/1500\n",
            "12149/12149 [==============================] - 2s 132us/step - loss: 0.0619 - acc: 0.9805 - val_loss: 0.1009 - val_acc: 0.9756\n",
            "Epoch 273/1500\n",
            "12149/12149 [==============================] - 2s 131us/step - loss: 0.0602 - acc: 0.9811 - val_loss: 0.1076 - val_acc: 0.9674\n",
            "Epoch 274/1500\n",
            "12149/12149 [==============================] - 2s 133us/step - loss: 0.0625 - acc: 0.9809 - val_loss: 0.1135 - val_acc: 0.9719\n",
            "Epoch 275/1500\n",
            "12149/12149 [==============================] - 2s 134us/step - loss: 0.0623 - acc: 0.9805 - val_loss: 0.1087 - val_acc: 0.9741\n",
            "Epoch 276/1500\n",
            "12149/12149 [==============================] - 2s 132us/step - loss: 0.0604 - acc: 0.9813 - val_loss: 0.1027 - val_acc: 0.9726\n",
            "Epoch 277/1500\n",
            "12149/12149 [==============================] - 2s 131us/step - loss: 0.0599 - acc: 0.9816 - val_loss: 0.1113 - val_acc: 0.9681\n",
            "Epoch 278/1500\n",
            "12149/12149 [==============================] - 2s 131us/step - loss: 0.0611 - acc: 0.9798 - val_loss: 0.1096 - val_acc: 0.9681\n",
            "Epoch 279/1500\n",
            "12149/12149 [==============================] - 2s 132us/step - loss: 0.0614 - acc: 0.9812 - val_loss: 0.1086 - val_acc: 0.9681\n",
            "Epoch 280/1500\n",
            "12149/12149 [==============================] - 2s 133us/step - loss: 0.0608 - acc: 0.9806 - val_loss: 0.1234 - val_acc: 0.9637\n",
            "Epoch 281/1500\n",
            "12149/12149 [==============================] - 2s 131us/step - loss: 0.0624 - acc: 0.9803 - val_loss: 0.1019 - val_acc: 0.9733\n",
            "Epoch 282/1500\n",
            "12149/12149 [==============================] - 2s 132us/step - loss: 0.0606 - acc: 0.9814 - val_loss: 0.1102 - val_acc: 0.9719\n",
            "Epoch 283/1500\n",
            "12149/12149 [==============================] - 2s 130us/step - loss: 0.0601 - acc: 0.9806 - val_loss: 0.1130 - val_acc: 0.9726\n",
            "Epoch 284/1500\n",
            "12149/12149 [==============================] - 2s 129us/step - loss: 0.0611 - acc: 0.9816 - val_loss: 0.1062 - val_acc: 0.9674\n",
            "Epoch 285/1500\n",
            "12149/12149 [==============================] - 2s 131us/step - loss: 0.0566 - acc: 0.9825 - val_loss: 0.1085 - val_acc: 0.9719\n",
            "Epoch 286/1500\n",
            "12149/12149 [==============================] - 2s 129us/step - loss: 0.0605 - acc: 0.9806 - val_loss: 0.1116 - val_acc: 0.9689\n",
            "Epoch 287/1500\n",
            "12149/12149 [==============================] - 2s 131us/step - loss: 0.0610 - acc: 0.9816 - val_loss: 0.1109 - val_acc: 0.9726\n",
            "Epoch 288/1500\n",
            "12149/12149 [==============================] - 2s 130us/step - loss: 0.0598 - acc: 0.9808 - val_loss: 0.1030 - val_acc: 0.9733\n",
            "Epoch 289/1500\n",
            "12149/12149 [==============================] - 2s 133us/step - loss: 0.0594 - acc: 0.9816 - val_loss: 0.1067 - val_acc: 0.9726\n",
            "Epoch 290/1500\n",
            "12149/12149 [==============================] - 2s 132us/step - loss: 0.0618 - acc: 0.9810 - val_loss: 0.1062 - val_acc: 0.9726\n",
            "Epoch 291/1500\n",
            "12149/12149 [==============================] - 2s 130us/step - loss: 0.0609 - acc: 0.9805 - val_loss: 0.1009 - val_acc: 0.9711\n",
            "Epoch 292/1500\n",
            "12149/12149 [==============================] - 2s 132us/step - loss: 0.0604 - acc: 0.9813 - val_loss: 0.1151 - val_acc: 0.9733\n",
            "Epoch 293/1500\n",
            "12149/12149 [==============================] - 2s 133us/step - loss: 0.0600 - acc: 0.9806 - val_loss: 0.1040 - val_acc: 0.9711\n",
            "Epoch 294/1500\n",
            "12149/12149 [==============================] - 2s 133us/step - loss: 0.0610 - acc: 0.9809 - val_loss: 0.1027 - val_acc: 0.9726\n",
            "Epoch 295/1500\n",
            "12149/12149 [==============================] - 2s 133us/step - loss: 0.0578 - acc: 0.9812 - val_loss: 0.1140 - val_acc: 0.9696\n",
            "Epoch 296/1500\n",
            "12149/12149 [==============================] - 2s 132us/step - loss: 0.0607 - acc: 0.9815 - val_loss: 0.1179 - val_acc: 0.9719\n",
            "Epoch 297/1500\n",
            "12149/12149 [==============================] - 2s 132us/step - loss: 0.0587 - acc: 0.9814 - val_loss: 0.1030 - val_acc: 0.9719\n",
            "Epoch 298/1500\n",
            "12149/12149 [==============================] - 2s 132us/step - loss: 0.0617 - acc: 0.9807 - val_loss: 0.1105 - val_acc: 0.9711\n",
            "Epoch 299/1500\n",
            "12149/12149 [==============================] - 2s 132us/step - loss: 0.0582 - acc: 0.9819 - val_loss: 0.1031 - val_acc: 0.9711\n",
            "Epoch 300/1500\n",
            "12149/12149 [==============================] - 2s 131us/step - loss: 0.0595 - acc: 0.9813 - val_loss: 0.1072 - val_acc: 0.9667\n",
            "Epoch 301/1500\n",
            "12149/12149 [==============================] - 2s 129us/step - loss: 0.0600 - acc: 0.9804 - val_loss: 0.1097 - val_acc: 0.9704\n",
            "Epoch 302/1500\n",
            "12149/12149 [==============================] - 2s 131us/step - loss: 0.0576 - acc: 0.9813 - val_loss: 0.1035 - val_acc: 0.9741\n",
            "Epoch 303/1500\n",
            "12149/12149 [==============================] - 2s 131us/step - loss: 0.0608 - acc: 0.9804 - val_loss: 0.1097 - val_acc: 0.9667\n",
            "Epoch 304/1500\n",
            "12149/12149 [==============================] - 2s 130us/step - loss: 0.0581 - acc: 0.9818 - val_loss: 0.1072 - val_acc: 0.9733\n",
            "Epoch 305/1500\n",
            "12149/12149 [==============================] - 2s 131us/step - loss: 0.0589 - acc: 0.9812 - val_loss: 0.1075 - val_acc: 0.9674\n",
            "Epoch 306/1500\n",
            "12149/12149 [==============================] - 2s 132us/step - loss: 0.0608 - acc: 0.9820 - val_loss: 0.1074 - val_acc: 0.9667\n",
            "Epoch 307/1500\n",
            "12149/12149 [==============================] - 2s 132us/step - loss: 0.0591 - acc: 0.9817 - val_loss: 0.1132 - val_acc: 0.9674\n",
            "Epoch 308/1500\n",
            "12149/12149 [==============================] - 2s 130us/step - loss: 0.0589 - acc: 0.9806 - val_loss: 0.1045 - val_acc: 0.9719\n",
            "Epoch 309/1500\n",
            "12149/12149 [==============================] - 2s 131us/step - loss: 0.0572 - acc: 0.9816 - val_loss: 0.1093 - val_acc: 0.9711\n",
            "Epoch 310/1500\n",
            "12149/12149 [==============================] - 2s 130us/step - loss: 0.0596 - acc: 0.9812 - val_loss: 0.1106 - val_acc: 0.9674\n",
            "Epoch 311/1500\n",
            "12149/12149 [==============================] - 2s 131us/step - loss: 0.0584 - acc: 0.9816 - val_loss: 0.1041 - val_acc: 0.9704\n",
            "Epoch 312/1500\n",
            "12149/12149 [==============================] - 2s 135us/step - loss: 0.0589 - acc: 0.9817 - val_loss: 0.1200 - val_acc: 0.9711\n",
            "Epoch 313/1500\n",
            "12149/12149 [==============================] - 2s 130us/step - loss: 0.0617 - acc: 0.9813 - val_loss: 0.1105 - val_acc: 0.9696\n",
            "Epoch 314/1500\n",
            "12149/12149 [==============================] - 2s 130us/step - loss: 0.0573 - acc: 0.9819 - val_loss: 0.1017 - val_acc: 0.9726\n",
            "Epoch 315/1500\n",
            "12149/12149 [==============================] - 2s 130us/step - loss: 0.0586 - acc: 0.9821 - val_loss: 0.1108 - val_acc: 0.9652\n",
            "Epoch 316/1500\n",
            "12149/12149 [==============================] - 2s 131us/step - loss: 0.0574 - acc: 0.9822 - val_loss: 0.1244 - val_acc: 0.9696\n",
            "Epoch 317/1500\n",
            "12149/12149 [==============================] - 2s 129us/step - loss: 0.0594 - acc: 0.9818 - val_loss: 0.1145 - val_acc: 0.9689\n",
            "Epoch 318/1500\n",
            "12149/12149 [==============================] - 2s 130us/step - loss: 0.0605 - acc: 0.9812 - val_loss: 0.1095 - val_acc: 0.9689\n",
            "Epoch 319/1500\n",
            "12149/12149 [==============================] - 2s 129us/step - loss: 0.0568 - acc: 0.9821 - val_loss: 0.1075 - val_acc: 0.9696\n",
            "Epoch 320/1500\n",
            "12149/12149 [==============================] - 2s 130us/step - loss: 0.0585 - acc: 0.9836 - val_loss: 0.1071 - val_acc: 0.9704\n",
            "Epoch 321/1500\n",
            "12149/12149 [==============================] - 2s 129us/step - loss: 0.0602 - acc: 0.9804 - val_loss: 0.1003 - val_acc: 0.9741\n",
            "Epoch 322/1500\n",
            "12149/12149 [==============================] - 2s 132us/step - loss: 0.0601 - acc: 0.9812 - val_loss: 0.1111 - val_acc: 0.9726\n",
            "Epoch 323/1500\n",
            "12149/12149 [==============================] - 2s 130us/step - loss: 0.0599 - acc: 0.9812 - val_loss: 0.0992 - val_acc: 0.9733\n",
            "Epoch 324/1500\n",
            "12149/12149 [==============================] - 2s 132us/step - loss: 0.0591 - acc: 0.9816 - val_loss: 0.1095 - val_acc: 0.9681\n",
            "Epoch 325/1500\n",
            "12149/12149 [==============================] - 2s 129us/step - loss: 0.0579 - acc: 0.9803 - val_loss: 0.1118 - val_acc: 0.9689\n",
            "Epoch 326/1500\n",
            "12149/12149 [==============================] - 2s 131us/step - loss: 0.0598 - acc: 0.9802 - val_loss: 0.1060 - val_acc: 0.9711\n",
            "Epoch 327/1500\n",
            "12149/12149 [==============================] - 2s 131us/step - loss: 0.0563 - acc: 0.9817 - val_loss: 0.1097 - val_acc: 0.9659\n",
            "Epoch 328/1500\n",
            "12149/12149 [==============================] - 2s 131us/step - loss: 0.0587 - acc: 0.9818 - val_loss: 0.1023 - val_acc: 0.9704\n",
            "Epoch 329/1500\n",
            "12149/12149 [==============================] - 2s 131us/step - loss: 0.0599 - acc: 0.9811 - val_loss: 0.1022 - val_acc: 0.9681\n",
            "Epoch 330/1500\n",
            "12149/12149 [==============================] - 2s 131us/step - loss: 0.0576 - acc: 0.9818 - val_loss: 0.1135 - val_acc: 0.9711\n",
            "Epoch 331/1500\n",
            "12149/12149 [==============================] - 2s 131us/step - loss: 0.0590 - acc: 0.9821 - val_loss: 0.1142 - val_acc: 0.9719\n",
            "Epoch 332/1500\n",
            "12149/12149 [==============================] - 2s 131us/step - loss: 0.0576 - acc: 0.9816 - val_loss: 0.1114 - val_acc: 0.9711\n",
            "Epoch 333/1500\n",
            "12149/12149 [==============================] - 2s 133us/step - loss: 0.0569 - acc: 0.9821 - val_loss: 0.1196 - val_acc: 0.9696\n",
            "Epoch 334/1500\n",
            "12149/12149 [==============================] - 2s 133us/step - loss: 0.0608 - acc: 0.9805 - val_loss: 0.1102 - val_acc: 0.9696\n",
            "Epoch 335/1500\n",
            "12149/12149 [==============================] - 2s 131us/step - loss: 0.0598 - acc: 0.9814 - val_loss: 0.1024 - val_acc: 0.9711\n",
            "Epoch 336/1500\n",
            "12149/12149 [==============================] - 2s 131us/step - loss: 0.0586 - acc: 0.9812 - val_loss: 0.1064 - val_acc: 0.9711\n",
            "Epoch 337/1500\n",
            "12149/12149 [==============================] - 2s 132us/step - loss: 0.0566 - acc: 0.9821 - val_loss: 0.1209 - val_acc: 0.9637\n",
            "Epoch 338/1500\n",
            "12149/12149 [==============================] - 2s 133us/step - loss: 0.0567 - acc: 0.9822 - val_loss: 0.1136 - val_acc: 0.9681\n",
            "Epoch 339/1500\n",
            "12149/12149 [==============================] - 2s 133us/step - loss: 0.0586 - acc: 0.9807 - val_loss: 0.1146 - val_acc: 0.9667\n",
            "Epoch 340/1500\n",
            "12149/12149 [==============================] - 2s 132us/step - loss: 0.0580 - acc: 0.9811 - val_loss: 0.1106 - val_acc: 0.9696\n",
            "Epoch 341/1500\n",
            "12149/12149 [==============================] - 2s 134us/step - loss: 0.0578 - acc: 0.9816 - val_loss: 0.1065 - val_acc: 0.9689\n",
            "Epoch 342/1500\n",
            "12149/12149 [==============================] - 2s 134us/step - loss: 0.0571 - acc: 0.9816 - val_loss: 0.1121 - val_acc: 0.9689\n",
            "Epoch 343/1500\n",
            "12149/12149 [==============================] - 2s 132us/step - loss: 0.0561 - acc: 0.9821 - val_loss: 0.1113 - val_acc: 0.9681\n",
            "Epoch 344/1500\n",
            "12149/12149 [==============================] - 2s 133us/step - loss: 0.0571 - acc: 0.9816 - val_loss: 0.1072 - val_acc: 0.9689\n",
            "Epoch 345/1500\n",
            "12149/12149 [==============================] - 2s 132us/step - loss: 0.0600 - acc: 0.9807 - val_loss: 0.1072 - val_acc: 0.9704\n",
            "Epoch 346/1500\n",
            "12149/12149 [==============================] - 2s 133us/step - loss: 0.0569 - acc: 0.9828 - val_loss: 0.1223 - val_acc: 0.9622\n",
            "Epoch 347/1500\n",
            "12149/12149 [==============================] - 2s 131us/step - loss: 0.0588 - acc: 0.9801 - val_loss: 0.1115 - val_acc: 0.9696\n",
            "Epoch 348/1500\n",
            "12149/12149 [==============================] - 2s 132us/step - loss: 0.0546 - acc: 0.9833 - val_loss: 0.1205 - val_acc: 0.9674\n",
            "Epoch 349/1500\n",
            "12149/12149 [==============================] - 2s 136us/step - loss: 0.0554 - acc: 0.9823 - val_loss: 0.1164 - val_acc: 0.9689\n",
            "Epoch 350/1500\n",
            "12149/12149 [==============================] - 2s 131us/step - loss: 0.0568 - acc: 0.9817 - val_loss: 0.1210 - val_acc: 0.9652\n",
            "Epoch 351/1500\n",
            "12149/12149 [==============================] - 2s 131us/step - loss: 0.0565 - acc: 0.9818 - val_loss: 0.1151 - val_acc: 0.9689\n",
            "Epoch 352/1500\n",
            "12149/12149 [==============================] - 2s 133us/step - loss: 0.0575 - acc: 0.9817 - val_loss: 0.1070 - val_acc: 0.9741\n",
            "Epoch 353/1500\n",
            "12149/12149 [==============================] - 2s 133us/step - loss: 0.0586 - acc: 0.9816 - val_loss: 0.1184 - val_acc: 0.9667\n",
            "Epoch 354/1500\n",
            "12149/12149 [==============================] - 2s 131us/step - loss: 0.0543 - acc: 0.9826 - val_loss: 0.1081 - val_acc: 0.9726\n",
            "Epoch 355/1500\n",
            "12149/12149 [==============================] - 2s 132us/step - loss: 0.0568 - acc: 0.9823 - val_loss: 0.1636 - val_acc: 0.9548\n",
            "Epoch 356/1500\n",
            "12149/12149 [==============================] - 2s 133us/step - loss: 0.0600 - acc: 0.9817 - val_loss: 0.1070 - val_acc: 0.9711\n",
            "Epoch 357/1500\n",
            "12149/12149 [==============================] - 2s 132us/step - loss: 0.0582 - acc: 0.9815 - val_loss: 0.1034 - val_acc: 0.9719\n",
            "Epoch 358/1500\n",
            "12149/12149 [==============================] - 2s 132us/step - loss: 0.0563 - acc: 0.9825 - val_loss: 0.0978 - val_acc: 0.9741\n",
            "Epoch 359/1500\n",
            "12149/12149 [==============================] - 2s 132us/step - loss: 0.0578 - acc: 0.9821 - val_loss: 0.1084 - val_acc: 0.9704\n",
            "Epoch 360/1500\n",
            "12149/12149 [==============================] - 2s 133us/step - loss: 0.0554 - acc: 0.9827 - val_loss: 0.1073 - val_acc: 0.9726\n",
            "Epoch 361/1500\n",
            "12149/12149 [==============================] - 2s 133us/step - loss: 0.0572 - acc: 0.9813 - val_loss: 0.1159 - val_acc: 0.9704\n",
            "Epoch 362/1500\n",
            "12149/12149 [==============================] - 2s 135us/step - loss: 0.0564 - acc: 0.9821 - val_loss: 0.1204 - val_acc: 0.9696\n",
            "Epoch 363/1500\n",
            "12149/12149 [==============================] - 2s 132us/step - loss: 0.0560 - acc: 0.9830 - val_loss: 0.1202 - val_acc: 0.9667\n",
            "Epoch 364/1500\n",
            "12149/12149 [==============================] - 2s 132us/step - loss: 0.0569 - acc: 0.9822 - val_loss: 0.1154 - val_acc: 0.9704\n",
            "Epoch 365/1500\n",
            "12149/12149 [==============================] - 2s 131us/step - loss: 0.0570 - acc: 0.9828 - val_loss: 0.1179 - val_acc: 0.9689\n",
            "Epoch 366/1500\n",
            "12149/12149 [==============================] - 2s 131us/step - loss: 0.0563 - acc: 0.9826 - val_loss: 0.1081 - val_acc: 0.9719\n",
            "Epoch 367/1500\n",
            "12149/12149 [==============================] - 2s 132us/step - loss: 0.0594 - acc: 0.9812 - val_loss: 0.1092 - val_acc: 0.9711\n",
            "Epoch 368/1500\n",
            "12149/12149 [==============================] - 2s 131us/step - loss: 0.0565 - acc: 0.9817 - val_loss: 0.1154 - val_acc: 0.9681\n",
            "Epoch 369/1500\n",
            "12149/12149 [==============================] - 2s 129us/step - loss: 0.0562 - acc: 0.9826 - val_loss: 0.1105 - val_acc: 0.9711\n",
            "Epoch 370/1500\n",
            "12149/12149 [==============================] - 2s 131us/step - loss: 0.0580 - acc: 0.9816 - val_loss: 0.1135 - val_acc: 0.9689\n",
            "Epoch 371/1500\n",
            "12149/12149 [==============================] - 2s 130us/step - loss: 0.0563 - acc: 0.9816 - val_loss: 0.1182 - val_acc: 0.9711\n",
            "Epoch 372/1500\n",
            "12149/12149 [==============================] - 2s 130us/step - loss: 0.0544 - acc: 0.9825 - val_loss: 0.1243 - val_acc: 0.9652\n",
            "Epoch 373/1500\n",
            "12149/12149 [==============================] - 2s 133us/step - loss: 0.0567 - acc: 0.9816 - val_loss: 0.1156 - val_acc: 0.9704\n",
            "Epoch 374/1500\n",
            "12149/12149 [==============================] - 2s 131us/step - loss: 0.0536 - acc: 0.9827 - val_loss: 0.1058 - val_acc: 0.9704\n",
            "Epoch 375/1500\n",
            "12149/12149 [==============================] - 2s 133us/step - loss: 0.0559 - acc: 0.9825 - val_loss: 0.1208 - val_acc: 0.9733\n",
            "Epoch 376/1500\n",
            "12149/12149 [==============================] - 2s 132us/step - loss: 0.0546 - acc: 0.9820 - val_loss: 0.1129 - val_acc: 0.9674\n",
            "Epoch 377/1500\n",
            "12149/12149 [==============================] - 2s 135us/step - loss: 0.0544 - acc: 0.9830 - val_loss: 0.1239 - val_acc: 0.9696\n",
            "Epoch 378/1500\n",
            "12149/12149 [==============================] - 2s 133us/step - loss: 0.0575 - acc: 0.9802 - val_loss: 0.1148 - val_acc: 0.9711\n",
            "Epoch 379/1500\n",
            "12149/12149 [==============================] - 2s 135us/step - loss: 0.0561 - acc: 0.9823 - val_loss: 0.1106 - val_acc: 0.9704\n",
            "Epoch 380/1500\n",
            "12149/12149 [==============================] - 2s 132us/step - loss: 0.0539 - acc: 0.9826 - val_loss: 0.1108 - val_acc: 0.9719\n",
            "Epoch 381/1500\n",
            "12149/12149 [==============================] - 2s 132us/step - loss: 0.0574 - acc: 0.9821 - val_loss: 0.1219 - val_acc: 0.9674\n",
            "Epoch 382/1500\n",
            "12149/12149 [==============================] - 2s 134us/step - loss: 0.0544 - acc: 0.9812 - val_loss: 0.1246 - val_acc: 0.9644\n",
            "Epoch 383/1500\n",
            "12149/12149 [==============================] - 2s 135us/step - loss: 0.0556 - acc: 0.9827 - val_loss: 0.1136 - val_acc: 0.9726\n",
            "Epoch 384/1500\n",
            "12149/12149 [==============================] - 2s 132us/step - loss: 0.0572 - acc: 0.9819 - val_loss: 0.1140 - val_acc: 0.9644\n",
            "Epoch 385/1500\n",
            "12149/12149 [==============================] - 2s 133us/step - loss: 0.0528 - acc: 0.9830 - val_loss: 0.1158 - val_acc: 0.9704\n",
            "Epoch 386/1500\n",
            "12149/12149 [==============================] - 2s 132us/step - loss: 0.0558 - acc: 0.9823 - val_loss: 0.1407 - val_acc: 0.9681\n",
            "Epoch 387/1500\n",
            "12149/12149 [==============================] - 2s 135us/step - loss: 0.0552 - acc: 0.9825 - val_loss: 0.1285 - val_acc: 0.9674\n",
            "Epoch 388/1500\n",
            "12149/12149 [==============================] - 2s 132us/step - loss: 0.0565 - acc: 0.9826 - val_loss: 0.1080 - val_acc: 0.9726\n",
            "Epoch 389/1500\n",
            "12149/12149 [==============================] - 2s 133us/step - loss: 0.0567 - acc: 0.9821 - val_loss: 0.1147 - val_acc: 0.9696\n",
            "Epoch 390/1500\n",
            "12149/12149 [==============================] - 2s 131us/step - loss: 0.0549 - acc: 0.9818 - val_loss: 0.1107 - val_acc: 0.9748\n",
            "Epoch 391/1500\n",
            "12149/12149 [==============================] - 2s 131us/step - loss: 0.0524 - acc: 0.9826 - val_loss: 0.1205 - val_acc: 0.9689\n",
            "Epoch 392/1500\n",
            "12149/12149 [==============================] - 2s 135us/step - loss: 0.0553 - acc: 0.9822 - val_loss: 0.1163 - val_acc: 0.9681\n",
            "Epoch 393/1500\n",
            "12149/12149 [==============================] - 2s 132us/step - loss: 0.0580 - acc: 0.9816 - val_loss: 0.1374 - val_acc: 0.9652\n",
            "Epoch 394/1500\n",
            "12149/12149 [==============================] - 2s 131us/step - loss: 0.0552 - acc: 0.9830 - val_loss: 0.1184 - val_acc: 0.9696\n",
            "Epoch 395/1500\n",
            "12149/12149 [==============================] - 2s 135us/step - loss: 0.0552 - acc: 0.9825 - val_loss: 0.1183 - val_acc: 0.9696\n",
            "Epoch 396/1500\n",
            "12149/12149 [==============================] - 2s 133us/step - loss: 0.0561 - acc: 0.9805 - val_loss: 0.1204 - val_acc: 0.9674\n",
            "Epoch 397/1500\n",
            "12149/12149 [==============================] - 2s 132us/step - loss: 0.0539 - acc: 0.9835 - val_loss: 0.1169 - val_acc: 0.9704\n",
            "Epoch 398/1500\n",
            "12149/12149 [==============================] - 2s 132us/step - loss: 0.0546 - acc: 0.9830 - val_loss: 0.1155 - val_acc: 0.9696\n",
            "Epoch 399/1500\n",
            "12149/12149 [==============================] - 2s 130us/step - loss: 0.0568 - acc: 0.9825 - val_loss: 0.1106 - val_acc: 0.9711\n",
            "Epoch 400/1500\n",
            "12149/12149 [==============================] - 2s 133us/step - loss: 0.0530 - acc: 0.9822 - val_loss: 0.1249 - val_acc: 0.9659\n",
            "Epoch 401/1500\n",
            "12149/12149 [==============================] - 2s 132us/step - loss: 0.0561 - acc: 0.9825 - val_loss: 0.1078 - val_acc: 0.9719\n",
            "Epoch 402/1500\n",
            "12149/12149 [==============================] - 2s 132us/step - loss: 0.0555 - acc: 0.9821 - val_loss: 0.1120 - val_acc: 0.9741\n",
            "Epoch 403/1500\n",
            "12149/12149 [==============================] - 2s 131us/step - loss: 0.0536 - acc: 0.9826 - val_loss: 0.1140 - val_acc: 0.9711\n",
            "Epoch 404/1500\n",
            "12149/12149 [==============================] - 2s 129us/step - loss: 0.0515 - acc: 0.9839 - val_loss: 0.1113 - val_acc: 0.9726\n",
            "Epoch 405/1500\n",
            "12149/12149 [==============================] - 2s 131us/step - loss: 0.0548 - acc: 0.9813 - val_loss: 0.1114 - val_acc: 0.9704\n",
            "Epoch 406/1500\n",
            "12149/12149 [==============================] - 2s 131us/step - loss: 0.0568 - acc: 0.9817 - val_loss: 0.1218 - val_acc: 0.9659\n",
            "Epoch 407/1500\n",
            "12149/12149 [==============================] - 2s 132us/step - loss: 0.0532 - acc: 0.9830 - val_loss: 0.1161 - val_acc: 0.9726\n",
            "Epoch 408/1500\n",
            "12149/12149 [==============================] - 2s 132us/step - loss: 0.0535 - acc: 0.9832 - val_loss: 0.1139 - val_acc: 0.9681\n",
            "Epoch 409/1500\n",
            "12149/12149 [==============================] - 2s 132us/step - loss: 0.0532 - acc: 0.9832 - val_loss: 0.1115 - val_acc: 0.9681\n",
            "Epoch 410/1500\n",
            "12149/12149 [==============================] - 2s 130us/step - loss: 0.0556 - acc: 0.9817 - val_loss: 0.1140 - val_acc: 0.9704\n",
            "Epoch 411/1500\n",
            "12149/12149 [==============================] - 2s 130us/step - loss: 0.0546 - acc: 0.9824 - val_loss: 0.1096 - val_acc: 0.9704\n",
            "Epoch 412/1500\n",
            "12149/12149 [==============================] - 2s 129us/step - loss: 0.0561 - acc: 0.9830 - val_loss: 0.0996 - val_acc: 0.9778\n",
            "Epoch 413/1500\n",
            "12149/12149 [==============================] - 2s 132us/step - loss: 0.0547 - acc: 0.9826 - val_loss: 0.1216 - val_acc: 0.9659\n",
            "Epoch 414/1500\n",
            "12149/12149 [==============================] - 2s 133us/step - loss: 0.0551 - acc: 0.9826 - val_loss: 0.1029 - val_acc: 0.9704\n",
            "Epoch 415/1500\n",
            "12149/12149 [==============================] - 2s 133us/step - loss: 0.0529 - acc: 0.9838 - val_loss: 0.1080 - val_acc: 0.9726\n",
            "Epoch 416/1500\n",
            "12149/12149 [==============================] - 2s 133us/step - loss: 0.0525 - acc: 0.9821 - val_loss: 0.1182 - val_acc: 0.9726\n",
            "Epoch 417/1500\n",
            "12149/12149 [==============================] - 2s 131us/step - loss: 0.0529 - acc: 0.9835 - val_loss: 0.1213 - val_acc: 0.9696\n",
            "Epoch 418/1500\n",
            "12149/12149 [==============================] - 2s 132us/step - loss: 0.0531 - acc: 0.9830 - val_loss: 0.1251 - val_acc: 0.9681\n",
            "Epoch 419/1500\n",
            "12149/12149 [==============================] - 2s 130us/step - loss: 0.0543 - acc: 0.9825 - val_loss: 0.1071 - val_acc: 0.9696\n",
            "Epoch 420/1500\n",
            "12149/12149 [==============================] - 2s 130us/step - loss: 0.0544 - acc: 0.9824 - val_loss: 0.1156 - val_acc: 0.9644\n",
            "Epoch 421/1500\n",
            "12149/12149 [==============================] - 2s 132us/step - loss: 0.0541 - acc: 0.9832 - val_loss: 0.1057 - val_acc: 0.9719\n",
            "Epoch 422/1500\n",
            "12149/12149 [==============================] - 2s 131us/step - loss: 0.0527 - acc: 0.9831 - val_loss: 0.1161 - val_acc: 0.9696\n",
            "Epoch 423/1500\n",
            "12149/12149 [==============================] - 2s 131us/step - loss: 0.0538 - acc: 0.9826 - val_loss: 0.1150 - val_acc: 0.9711\n",
            "Epoch 424/1500\n",
            "12149/12149 [==============================] - 2s 132us/step - loss: 0.0522 - acc: 0.9829 - val_loss: 0.1157 - val_acc: 0.9704\n",
            "Epoch 425/1500\n",
            "12149/12149 [==============================] - 2s 132us/step - loss: 0.0540 - acc: 0.9831 - val_loss: 0.1062 - val_acc: 0.9719\n",
            "Epoch 426/1500\n",
            "12149/12149 [==============================] - 2s 131us/step - loss: 0.0534 - acc: 0.9833 - val_loss: 0.1139 - val_acc: 0.9711\n",
            "Epoch 427/1500\n",
            "12149/12149 [==============================] - 2s 133us/step - loss: 0.0523 - acc: 0.9828 - val_loss: 0.1096 - val_acc: 0.9741\n",
            "Epoch 428/1500\n",
            "12149/12149 [==============================] - 2s 133us/step - loss: 0.0552 - acc: 0.9825 - val_loss: 0.1071 - val_acc: 0.9719\n",
            "Epoch 429/1500\n",
            "12149/12149 [==============================] - 2s 136us/step - loss: 0.0518 - acc: 0.9836 - val_loss: 0.1235 - val_acc: 0.9681\n",
            "Epoch 430/1500\n",
            "12149/12149 [==============================] - 2s 132us/step - loss: 0.0531 - acc: 0.9829 - val_loss: 0.1212 - val_acc: 0.9704\n",
            "Epoch 431/1500\n",
            "12149/12149 [==============================] - 2s 133us/step - loss: 0.0580 - acc: 0.9815 - val_loss: 0.1131 - val_acc: 0.9719\n",
            "Epoch 432/1500\n",
            "12149/12149 [==============================] - 2s 133us/step - loss: 0.0523 - acc: 0.9830 - val_loss: 0.1114 - val_acc: 0.9696\n",
            "Epoch 433/1500\n",
            "12149/12149 [==============================] - 2s 133us/step - loss: 0.0533 - acc: 0.9821 - val_loss: 0.1108 - val_acc: 0.9659\n",
            "Epoch 434/1500\n",
            "12149/12149 [==============================] - 2s 132us/step - loss: 0.0557 - acc: 0.9821 - val_loss: 0.1146 - val_acc: 0.9689\n",
            "Epoch 435/1500\n",
            "12149/12149 [==============================] - 2s 130us/step - loss: 0.0534 - acc: 0.9826 - val_loss: 0.1040 - val_acc: 0.9704\n",
            "Epoch 436/1500\n",
            "12149/12149 [==============================] - 2s 132us/step - loss: 0.0487 - acc: 0.9851 - val_loss: 0.1167 - val_acc: 0.9622\n",
            "Epoch 437/1500\n",
            "12149/12149 [==============================] - 2s 132us/step - loss: 0.0518 - acc: 0.9829 - val_loss: 0.1092 - val_acc: 0.9704\n",
            "Epoch 438/1500\n",
            "12149/12149 [==============================] - 2s 133us/step - loss: 0.0549 - acc: 0.9824 - val_loss: 0.1073 - val_acc: 0.9726\n",
            "Epoch 439/1500\n",
            "12149/12149 [==============================] - 2s 133us/step - loss: 0.0518 - acc: 0.9832 - val_loss: 0.1058 - val_acc: 0.9748\n",
            "Epoch 440/1500\n",
            "12149/12149 [==============================] - 2s 133us/step - loss: 0.0541 - acc: 0.9825 - val_loss: 0.1097 - val_acc: 0.9696\n",
            "Epoch 441/1500\n",
            "12149/12149 [==============================] - 2s 134us/step - loss: 0.0524 - acc: 0.9821 - val_loss: 0.1258 - val_acc: 0.9674\n",
            "Epoch 442/1500\n",
            "12149/12149 [==============================] - 2s 133us/step - loss: 0.0509 - acc: 0.9839 - val_loss: 0.1014 - val_acc: 0.9696\n",
            "Epoch 443/1500\n",
            "12149/12149 [==============================] - 2s 137us/step - loss: 0.0529 - acc: 0.9824 - val_loss: 0.1068 - val_acc: 0.9704\n",
            "Epoch 444/1500\n",
            "12149/12149 [==============================] - 2s 158us/step - loss: 0.0503 - acc: 0.9836 - val_loss: 0.1055 - val_acc: 0.9689\n",
            "Epoch 445/1500\n",
            "12149/12149 [==============================] - 2s 153us/step - loss: 0.0575 - acc: 0.9822 - val_loss: 0.1087 - val_acc: 0.9726\n",
            "Epoch 446/1500\n",
            "12149/12149 [==============================] - 2s 157us/step - loss: 0.0499 - acc: 0.9835 - val_loss: 0.1063 - val_acc: 0.9763\n",
            "Epoch 447/1500\n",
            "12149/12149 [==============================] - 2s 130us/step - loss: 0.0525 - acc: 0.9837 - val_loss: 0.1047 - val_acc: 0.9726\n",
            "Epoch 448/1500\n",
            "12149/12149 [==============================] - 2s 130us/step - loss: 0.0500 - acc: 0.9842 - val_loss: 0.1155 - val_acc: 0.9719\n",
            "Epoch 449/1500\n",
            "12149/12149 [==============================] - 2s 128us/step - loss: 0.0534 - acc: 0.9821 - val_loss: 0.1250 - val_acc: 0.9622\n",
            "Epoch 450/1500\n",
            "12149/12149 [==============================] - 2s 130us/step - loss: 0.0511 - acc: 0.9839 - val_loss: 0.1017 - val_acc: 0.9733\n",
            "Epoch 451/1500\n",
            "12149/12149 [==============================] - 2s 150us/step - loss: 0.0514 - acc: 0.9836 - val_loss: 0.1056 - val_acc: 0.9711\n",
            "Epoch 452/1500\n",
            "12149/12149 [==============================] - 2s 160us/step - loss: 0.0531 - acc: 0.9834 - val_loss: 0.1140 - val_acc: 0.9667\n",
            "Epoch 453/1500\n",
            "12149/12149 [==============================] - 2s 160us/step - loss: 0.0528 - acc: 0.9830 - val_loss: 0.1224 - val_acc: 0.9704\n",
            "Epoch 454/1500\n",
            "12149/12149 [==============================] - 2s 156us/step - loss: 0.0560 - acc: 0.9822 - val_loss: 0.1047 - val_acc: 0.9689\n",
            "Epoch 455/1500\n",
            "12149/12149 [==============================] - 2s 158us/step - loss: 0.0505 - acc: 0.9832 - val_loss: 0.1056 - val_acc: 0.9719\n",
            "Epoch 456/1500\n",
            "12149/12149 [==============================] - 2s 146us/step - loss: 0.0498 - acc: 0.9839 - val_loss: 0.0990 - val_acc: 0.9719\n",
            "Epoch 457/1500\n",
            "12149/12149 [==============================] - 2s 134us/step - loss: 0.0501 - acc: 0.9836 - val_loss: 0.1119 - val_acc: 0.9659\n",
            "Epoch 458/1500\n",
            "12149/12149 [==============================] - 2s 132us/step - loss: 0.0535 - acc: 0.9831 - val_loss: 0.1109 - val_acc: 0.9696\n",
            "Epoch 459/1500\n",
            "12149/12149 [==============================] - 2s 133us/step - loss: 0.0513 - acc: 0.9835 - val_loss: 0.0996 - val_acc: 0.9674\n",
            "Epoch 460/1500\n",
            "12149/12149 [==============================] - 2s 134us/step - loss: 0.0521 - acc: 0.9831 - val_loss: 0.1117 - val_acc: 0.9667\n",
            "Epoch 461/1500\n",
            "12149/12149 [==============================] - 2s 132us/step - loss: 0.0535 - acc: 0.9829 - val_loss: 0.1074 - val_acc: 0.9696\n",
            "Epoch 462/1500\n",
            "12149/12149 [==============================] - 2s 131us/step - loss: 0.0506 - acc: 0.9833 - val_loss: 0.1077 - val_acc: 0.9704\n",
            "Epoch 463/1500\n",
            "12149/12149 [==============================] - 2s 129us/step - loss: 0.0542 - acc: 0.9831 - val_loss: 0.1153 - val_acc: 0.9696\n",
            "Epoch 464/1500\n",
            "12149/12149 [==============================] - 2s 131us/step - loss: 0.0540 - acc: 0.9821 - val_loss: 0.1086 - val_acc: 0.9674\n",
            "Epoch 465/1500\n",
            "12149/12149 [==============================] - 2s 132us/step - loss: 0.0510 - acc: 0.9838 - val_loss: 0.1098 - val_acc: 0.9681\n",
            "Epoch 466/1500\n",
            "12149/12149 [==============================] - 2s 129us/step - loss: 0.0523 - acc: 0.9830 - val_loss: 0.1117 - val_acc: 0.9696\n",
            "Epoch 467/1500\n",
            "12149/12149 [==============================] - 2s 130us/step - loss: 0.0509 - acc: 0.9837 - val_loss: 0.1070 - val_acc: 0.9726\n",
            "Epoch 468/1500\n",
            "12149/12149 [==============================] - 2s 129us/step - loss: 0.0514 - acc: 0.9836 - val_loss: 0.1085 - val_acc: 0.9756\n",
            "Epoch 469/1500\n",
            "12149/12149 [==============================] - 2s 132us/step - loss: 0.0528 - acc: 0.9828 - val_loss: 0.1010 - val_acc: 0.9763\n",
            "Epoch 470/1500\n",
            "12149/12149 [==============================] - 2s 130us/step - loss: 0.0495 - acc: 0.9844 - val_loss: 0.1164 - val_acc: 0.9689\n",
            "Epoch 471/1500\n",
            "12149/12149 [==============================] - 2s 132us/step - loss: 0.0527 - acc: 0.9830 - val_loss: 0.1148 - val_acc: 0.9637\n",
            "Epoch 472/1500\n",
            "12149/12149 [==============================] - 2s 132us/step - loss: 0.0525 - acc: 0.9832 - val_loss: 0.1022 - val_acc: 0.9741\n",
            "Epoch 473/1500\n",
            "12149/12149 [==============================] - 2s 131us/step - loss: 0.0500 - acc: 0.9839 - val_loss: 0.1152 - val_acc: 0.9711\n",
            "Epoch 474/1500\n",
            "12149/12149 [==============================] - 2s 132us/step - loss: 0.0519 - acc: 0.9836 - val_loss: 0.1008 - val_acc: 0.9704\n",
            "Epoch 475/1500\n",
            "12149/12149 [==============================] - 2s 131us/step - loss: 0.0516 - acc: 0.9830 - val_loss: 0.1238 - val_acc: 0.9659\n",
            "Epoch 476/1500\n",
            "12149/12149 [==============================] - 2s 132us/step - loss: 0.0535 - acc: 0.9825 - val_loss: 0.1223 - val_acc: 0.9696\n",
            "Epoch 477/1500\n",
            "12149/12149 [==============================] - 2s 131us/step - loss: 0.0509 - acc: 0.9838 - val_loss: 0.1073 - val_acc: 0.9726\n",
            "Epoch 478/1500\n",
            "12149/12149 [==============================] - 2s 132us/step - loss: 0.0498 - acc: 0.9834 - val_loss: 0.1382 - val_acc: 0.9652\n",
            "Epoch 479/1500\n",
            "12149/12149 [==============================] - 2s 132us/step - loss: 0.0536 - acc: 0.9826 - val_loss: 0.1091 - val_acc: 0.9756\n",
            "Epoch 480/1500\n",
            "12149/12149 [==============================] - 2s 131us/step - loss: 0.0470 - acc: 0.9844 - val_loss: 0.1062 - val_acc: 0.9726\n",
            "Epoch 481/1500\n",
            "12149/12149 [==============================] - 2s 131us/step - loss: 0.0515 - acc: 0.9830 - val_loss: 0.1229 - val_acc: 0.9622\n",
            "Epoch 482/1500\n",
            "12149/12149 [==============================] - 2s 131us/step - loss: 0.0514 - acc: 0.9845 - val_loss: 0.1059 - val_acc: 0.9674\n",
            "Epoch 483/1500\n",
            "12149/12149 [==============================] - 2s 131us/step - loss: 0.0496 - acc: 0.9837 - val_loss: 0.1242 - val_acc: 0.9689\n",
            "Epoch 484/1500\n",
            "12149/12149 [==============================] - 2s 132us/step - loss: 0.0521 - acc: 0.9829 - val_loss: 0.1132 - val_acc: 0.9681\n",
            "Epoch 485/1500\n",
            "12149/12149 [==============================] - 2s 132us/step - loss: 0.0506 - acc: 0.9839 - val_loss: 0.1084 - val_acc: 0.9704\n",
            "Epoch 486/1500\n",
            "12149/12149 [==============================] - 2s 133us/step - loss: 0.0496 - acc: 0.9839 - val_loss: 0.1163 - val_acc: 0.9733\n",
            "Epoch 487/1500\n",
            "12149/12149 [==============================] - 2s 131us/step - loss: 0.0499 - acc: 0.9832 - val_loss: 0.1075 - val_acc: 0.9667\n",
            "Epoch 488/1500\n",
            "12149/12149 [==============================] - 2s 132us/step - loss: 0.0486 - acc: 0.9844 - val_loss: 0.1227 - val_acc: 0.9652\n",
            "Epoch 489/1500\n",
            "12149/12149 [==============================] - 2s 132us/step - loss: 0.0510 - acc: 0.9828 - val_loss: 0.1122 - val_acc: 0.9719\n",
            "Epoch 490/1500\n",
            "12149/12149 [==============================] - 2s 134us/step - loss: 0.0485 - acc: 0.9833 - val_loss: 0.1377 - val_acc: 0.9659\n",
            "Epoch 491/1500\n",
            "12149/12149 [==============================] - 2s 131us/step - loss: 0.0520 - acc: 0.9825 - val_loss: 0.1265 - val_acc: 0.9674\n",
            "Epoch 492/1500\n",
            "12149/12149 [==============================] - 2s 132us/step - loss: 0.0500 - acc: 0.9840 - val_loss: 0.1147 - val_acc: 0.9726\n",
            "Epoch 493/1500\n",
            "12149/12149 [==============================] - 2s 133us/step - loss: 0.0500 - acc: 0.9836 - val_loss: 0.1217 - val_acc: 0.9689\n",
            "Epoch 494/1500\n",
            "12149/12149 [==============================] - 2s 135us/step - loss: 0.0530 - acc: 0.9827 - val_loss: 0.1225 - val_acc: 0.9696\n",
            "Epoch 495/1500\n",
            "12149/12149 [==============================] - 2s 135us/step - loss: 0.0484 - acc: 0.9841 - val_loss: 0.1201 - val_acc: 0.9667\n",
            "Epoch 496/1500\n",
            "12149/12149 [==============================] - 2s 133us/step - loss: 0.0498 - acc: 0.9839 - val_loss: 0.1239 - val_acc: 0.9711\n",
            "Epoch 497/1500\n",
            "12149/12149 [==============================] - 2s 133us/step - loss: 0.0513 - acc: 0.9826 - val_loss: 0.1206 - val_acc: 0.9704\n",
            "Epoch 498/1500\n",
            "12149/12149 [==============================] - 2s 134us/step - loss: 0.0528 - acc: 0.9834 - val_loss: 0.1060 - val_acc: 0.9704\n",
            "Epoch 499/1500\n",
            "12149/12149 [==============================] - 2s 132us/step - loss: 0.0515 - acc: 0.9835 - val_loss: 0.1046 - val_acc: 0.9704\n",
            "Epoch 500/1500\n",
            "12149/12149 [==============================] - 2s 134us/step - loss: 0.0497 - acc: 0.9837 - val_loss: 0.1182 - val_acc: 0.9711\n",
            "Epoch 501/1500\n",
            "12149/12149 [==============================] - 2s 134us/step - loss: 0.0497 - acc: 0.9848 - val_loss: 0.1105 - val_acc: 0.9726\n",
            "Epoch 502/1500\n",
            "12149/12149 [==============================] - 2s 132us/step - loss: 0.0538 - acc: 0.9828 - val_loss: 0.1247 - val_acc: 0.9659\n",
            "Epoch 503/1500\n",
            "12149/12149 [==============================] - 2s 131us/step - loss: 0.0507 - acc: 0.9836 - val_loss: 0.1098 - val_acc: 0.9674\n",
            "Epoch 504/1500\n",
            "12149/12149 [==============================] - 2s 131us/step - loss: 0.0483 - acc: 0.9844 - val_loss: 0.1080 - val_acc: 0.9711\n",
            "Epoch 505/1500\n",
            "12149/12149 [==============================] - 2s 132us/step - loss: 0.0513 - acc: 0.9822 - val_loss: 0.1195 - val_acc: 0.9719\n",
            "Epoch 506/1500\n",
            "12149/12149 [==============================] - 2s 133us/step - loss: 0.0494 - acc: 0.9845 - val_loss: 0.1132 - val_acc: 0.9681\n",
            "Epoch 507/1500\n",
            "12149/12149 [==============================] - 2s 132us/step - loss: 0.0502 - acc: 0.9828 - val_loss: 0.1148 - val_acc: 0.9689\n",
            "Epoch 508/1500\n",
            "12149/12149 [==============================] - 2s 133us/step - loss: 0.0501 - acc: 0.9840 - val_loss: 0.1105 - val_acc: 0.9667\n",
            "Epoch 509/1500\n",
            "12149/12149 [==============================] - 2s 132us/step - loss: 0.0485 - acc: 0.9841 - val_loss: 0.1267 - val_acc: 0.9674\n",
            "Epoch 510/1500\n",
            "12149/12149 [==============================] - 2s 134us/step - loss: 0.0498 - acc: 0.9844 - val_loss: 0.1195 - val_acc: 0.9689\n",
            "Epoch 511/1500\n",
            "12149/12149 [==============================] - 2s 131us/step - loss: 0.0477 - acc: 0.9844 - val_loss: 0.1050 - val_acc: 0.9726\n",
            "Epoch 512/1500\n",
            "12149/12149 [==============================] - 2s 132us/step - loss: 0.0491 - acc: 0.9838 - val_loss: 0.1155 - val_acc: 0.9681\n",
            "Epoch 513/1500\n",
            "12149/12149 [==============================] - 2s 132us/step - loss: 0.0535 - acc: 0.9838 - val_loss: 0.1165 - val_acc: 0.9674\n",
            "Epoch 514/1500\n",
            "12149/12149 [==============================] - 2s 134us/step - loss: 0.0497 - acc: 0.9839 - val_loss: 0.1114 - val_acc: 0.9667\n",
            "Epoch 515/1500\n",
            "12149/12149 [==============================] - 2s 132us/step - loss: 0.0500 - acc: 0.9843 - val_loss: 0.1051 - val_acc: 0.9711\n",
            "Epoch 516/1500\n",
            "12149/12149 [==============================] - 2s 134us/step - loss: 0.0514 - acc: 0.9837 - val_loss: 0.1038 - val_acc: 0.9711\n",
            "Epoch 517/1500\n",
            "12149/12149 [==============================] - 2s 133us/step - loss: 0.0483 - acc: 0.9844 - val_loss: 0.1131 - val_acc: 0.9696\n",
            "Epoch 518/1500\n",
            "12149/12149 [==============================] - 2s 131us/step - loss: 0.0501 - acc: 0.9845 - val_loss: 0.1080 - val_acc: 0.9674\n",
            "Epoch 519/1500\n",
            "12149/12149 [==============================] - 2s 131us/step - loss: 0.0479 - acc: 0.9846 - val_loss: 0.1131 - val_acc: 0.9704\n",
            "Epoch 520/1500\n",
            "12149/12149 [==============================] - 2s 131us/step - loss: 0.0511 - acc: 0.9832 - val_loss: 0.1206 - val_acc: 0.9637\n",
            "Epoch 521/1500\n",
            "12149/12149 [==============================] - 2s 129us/step - loss: 0.0495 - acc: 0.9827 - val_loss: 0.1298 - val_acc: 0.9696\n",
            "Epoch 522/1500\n",
            "12149/12149 [==============================] - 2s 130us/step - loss: 0.0549 - acc: 0.9812 - val_loss: 0.1085 - val_acc: 0.9652\n",
            "Epoch 523/1500\n",
            "12149/12149 [==============================] - 2s 129us/step - loss: 0.0510 - acc: 0.9833 - val_loss: 0.1072 - val_acc: 0.9704\n",
            "Epoch 524/1500\n",
            "12149/12149 [==============================] - 2s 131us/step - loss: 0.0485 - acc: 0.9847 - val_loss: 0.1098 - val_acc: 0.9726\n",
            "Epoch 525/1500\n",
            "12149/12149 [==============================] - 2s 131us/step - loss: 0.0518 - acc: 0.9824 - val_loss: 0.1116 - val_acc: 0.9704\n",
            "Epoch 526/1500\n",
            "12149/12149 [==============================] - 2s 129us/step - loss: 0.0500 - acc: 0.9828 - val_loss: 0.1035 - val_acc: 0.9741\n",
            "Epoch 527/1500\n",
            "12149/12149 [==============================] - 2s 132us/step - loss: 0.0499 - acc: 0.9835 - val_loss: 0.1054 - val_acc: 0.9733\n",
            "Epoch 528/1500\n",
            "12149/12149 [==============================] - 2s 133us/step - loss: 0.0495 - acc: 0.9844 - val_loss: 0.1109 - val_acc: 0.9711\n",
            "Epoch 529/1500\n",
            "12149/12149 [==============================] - 2s 129us/step - loss: 0.0499 - acc: 0.9839 - val_loss: 0.1081 - val_acc: 0.9748\n",
            "Epoch 530/1500\n",
            "12149/12149 [==============================] - 2s 130us/step - loss: 0.0482 - acc: 0.9839 - val_loss: 0.1109 - val_acc: 0.9711\n",
            "Epoch 531/1500\n",
            "12149/12149 [==============================] - 2s 130us/step - loss: 0.0490 - acc: 0.9847 - val_loss: 0.1184 - val_acc: 0.9689\n",
            "Epoch 532/1500\n",
            "12149/12149 [==============================] - 2s 132us/step - loss: 0.0487 - acc: 0.9833 - val_loss: 0.1115 - val_acc: 0.9689\n",
            "Epoch 533/1500\n",
            "12149/12149 [==============================] - 2s 129us/step - loss: 0.0489 - acc: 0.9842 - val_loss: 0.1227 - val_acc: 0.9689\n",
            "Epoch 534/1500\n",
            "12149/12149 [==============================] - 2s 132us/step - loss: 0.0521 - acc: 0.9836 - val_loss: 0.1128 - val_acc: 0.9704\n",
            "Epoch 535/1500\n",
            "12149/12149 [==============================] - 2s 130us/step - loss: 0.0479 - acc: 0.9851 - val_loss: 0.1211 - val_acc: 0.9674\n",
            "Epoch 536/1500\n",
            "12149/12149 [==============================] - 2s 133us/step - loss: 0.0481 - acc: 0.9843 - val_loss: 0.1253 - val_acc: 0.9659\n",
            "Epoch 537/1500\n",
            "12149/12149 [==============================] - 2s 135us/step - loss: 0.0522 - acc: 0.9844 - val_loss: 0.1079 - val_acc: 0.9719\n",
            "Epoch 538/1500\n",
            "12149/12149 [==============================] - 2s 131us/step - loss: 0.0500 - acc: 0.9843 - val_loss: 0.1244 - val_acc: 0.9696\n",
            "Epoch 539/1500\n",
            "12149/12149 [==============================] - 2s 133us/step - loss: 0.0502 - acc: 0.9841 - val_loss: 0.1120 - val_acc: 0.9696\n",
            "Epoch 540/1500\n",
            "12149/12149 [==============================] - 2s 133us/step - loss: 0.0513 - acc: 0.9830 - val_loss: 0.1148 - val_acc: 0.9689\n",
            "Epoch 541/1500\n",
            "12149/12149 [==============================] - 2s 133us/step - loss: 0.0502 - acc: 0.9835 - val_loss: 0.1203 - val_acc: 0.9659\n",
            "Epoch 542/1500\n",
            "12149/12149 [==============================] - 2s 130us/step - loss: 0.0521 - acc: 0.9834 - val_loss: 0.1158 - val_acc: 0.9659\n",
            "Epoch 543/1500\n",
            "12149/12149 [==============================] - 2s 131us/step - loss: 0.0487 - acc: 0.9844 - val_loss: 0.1194 - val_acc: 0.9704\n",
            "Epoch 544/1500\n",
            "12149/12149 [==============================] - 2s 130us/step - loss: 0.0522 - acc: 0.9822 - val_loss: 0.1208 - val_acc: 0.9667\n",
            "Epoch 545/1500\n",
            "12149/12149 [==============================] - 2s 131us/step - loss: 0.0483 - acc: 0.9842 - val_loss: 0.1125 - val_acc: 0.9674\n",
            "Epoch 546/1500\n",
            "12149/12149 [==============================] - 2s 130us/step - loss: 0.0476 - acc: 0.9849 - val_loss: 0.1214 - val_acc: 0.9652\n",
            "Epoch 547/1500\n",
            "12149/12149 [==============================] - 2s 131us/step - loss: 0.0484 - acc: 0.9830 - val_loss: 0.1064 - val_acc: 0.9763\n",
            "Epoch 548/1500\n",
            "12149/12149 [==============================] - 2s 131us/step - loss: 0.0486 - acc: 0.9835 - val_loss: 0.1191 - val_acc: 0.9689\n",
            "Epoch 549/1500\n",
            "12149/12149 [==============================] - 2s 131us/step - loss: 0.0508 - acc: 0.9836 - val_loss: 0.1263 - val_acc: 0.9674\n",
            "Epoch 550/1500\n",
            "12149/12149 [==============================] - 2s 130us/step - loss: 0.0481 - acc: 0.9841 - val_loss: 0.1202 - val_acc: 0.9733\n",
            "Epoch 551/1500\n",
            "12149/12149 [==============================] - 2s 132us/step - loss: 0.0503 - acc: 0.9829 - val_loss: 0.1227 - val_acc: 0.9726\n",
            "Epoch 552/1500\n",
            "12149/12149 [==============================] - 2s 131us/step - loss: 0.0509 - acc: 0.9826 - val_loss: 0.1149 - val_acc: 0.9696\n",
            "Epoch 553/1500\n",
            "12149/12149 [==============================] - 2s 132us/step - loss: 0.0543 - acc: 0.9827 - val_loss: 0.1280 - val_acc: 0.9681\n",
            "Epoch 554/1500\n",
            "12149/12149 [==============================] - 2s 128us/step - loss: 0.0495 - acc: 0.9839 - val_loss: 0.1174 - val_acc: 0.9719\n",
            "Epoch 555/1500\n",
            "12149/12149 [==============================] - 2s 128us/step - loss: 0.0500 - acc: 0.9839 - val_loss: 0.1141 - val_acc: 0.9630\n",
            "Epoch 556/1500\n",
            "12149/12149 [==============================] - 2s 130us/step - loss: 0.0482 - acc: 0.9856 - val_loss: 0.1097 - val_acc: 0.9733\n",
            "Epoch 557/1500\n",
            "12149/12149 [==============================] - 2s 132us/step - loss: 0.0489 - acc: 0.9838 - val_loss: 0.1169 - val_acc: 0.9674\n",
            "Epoch 558/1500\n",
            "12149/12149 [==============================] - 2s 131us/step - loss: 0.0495 - acc: 0.9844 - val_loss: 0.1264 - val_acc: 0.9689\n",
            "Epoch 559/1500\n",
            "12149/12149 [==============================] - 2s 131us/step - loss: 0.0486 - acc: 0.9842 - val_loss: 0.1293 - val_acc: 0.9659\n",
            "Epoch 560/1500\n",
            "12149/12149 [==============================] - 2s 130us/step - loss: 0.0493 - acc: 0.9842 - val_loss: 0.1032 - val_acc: 0.9726\n",
            "Epoch 561/1500\n",
            "12149/12149 [==============================] - 2s 131us/step - loss: 0.0485 - acc: 0.9849 - val_loss: 0.1129 - val_acc: 0.9704\n",
            "Epoch 562/1500\n",
            "12149/12149 [==============================] - 2s 131us/step - loss: 0.0484 - acc: 0.9838 - val_loss: 0.1074 - val_acc: 0.9704\n",
            "Epoch 563/1500\n",
            "12149/12149 [==============================] - 2s 132us/step - loss: 0.0527 - acc: 0.9832 - val_loss: 0.1023 - val_acc: 0.9741\n",
            "Epoch 564/1500\n",
            "12149/12149 [==============================] - 2s 129us/step - loss: 0.0469 - acc: 0.9849 - val_loss: 0.1012 - val_acc: 0.9733\n",
            "Epoch 565/1500\n",
            "12149/12149 [==============================] - 2s 130us/step - loss: 0.0484 - acc: 0.9842 - val_loss: 0.1299 - val_acc: 0.9674\n",
            "Epoch 566/1500\n",
            "12149/12149 [==============================] - 2s 129us/step - loss: 0.0481 - acc: 0.9849 - val_loss: 0.1118 - val_acc: 0.9681\n",
            "Epoch 567/1500\n",
            "12149/12149 [==============================] - 2s 130us/step - loss: 0.0507 - acc: 0.9841 - val_loss: 0.1164 - val_acc: 0.9704\n",
            "Epoch 568/1500\n",
            "12149/12149 [==============================] - 2s 131us/step - loss: 0.0467 - acc: 0.9839 - val_loss: 0.1109 - val_acc: 0.9711\n",
            "Epoch 569/1500\n",
            "12149/12149 [==============================] - 2s 129us/step - loss: 0.0513 - acc: 0.9826 - val_loss: 0.1335 - val_acc: 0.9681\n",
            "Epoch 570/1500\n",
            "12149/12149 [==============================] - 2s 135us/step - loss: 0.0476 - acc: 0.9847 - val_loss: 0.1154 - val_acc: 0.9696\n",
            "Epoch 571/1500\n",
            "12149/12149 [==============================] - 2s 132us/step - loss: 0.0502 - acc: 0.9834 - val_loss: 0.1299 - val_acc: 0.9704\n",
            "Epoch 572/1500\n",
            "12149/12149 [==============================] - 2s 132us/step - loss: 0.0478 - acc: 0.9846 - val_loss: 0.1217 - val_acc: 0.9733\n",
            "Epoch 573/1500\n",
            "12149/12149 [==============================] - 2s 133us/step - loss: 0.0533 - acc: 0.9816 - val_loss: 0.1093 - val_acc: 0.9696\n",
            "Epoch 574/1500\n",
            "12149/12149 [==============================] - 2s 134us/step - loss: 0.0467 - acc: 0.9849 - val_loss: 0.1132 - val_acc: 0.9674\n",
            "Epoch 575/1500\n",
            "12149/12149 [==============================] - 2s 134us/step - loss: 0.0502 - acc: 0.9826 - val_loss: 0.1122 - val_acc: 0.9689\n",
            "Epoch 576/1500\n",
            "12149/12149 [==============================] - 2s 132us/step - loss: 0.0478 - acc: 0.9848 - val_loss: 0.1287 - val_acc: 0.9644\n",
            "Epoch 577/1500\n",
            "12149/12149 [==============================] - 2s 134us/step - loss: 0.0492 - acc: 0.9828 - val_loss: 0.1100 - val_acc: 0.9704\n",
            "Epoch 578/1500\n",
            "12149/12149 [==============================] - 2s 133us/step - loss: 0.0499 - acc: 0.9836 - val_loss: 0.1401 - val_acc: 0.9689\n",
            "Epoch 579/1500\n",
            "12149/12149 [==============================] - 2s 132us/step - loss: 0.0491 - acc: 0.9844 - val_loss: 0.1242 - val_acc: 0.9681\n",
            "Epoch 580/1500\n",
            "12149/12149 [==============================] - 2s 135us/step - loss: 0.0458 - acc: 0.9848 - val_loss: 0.1151 - val_acc: 0.9719\n",
            "Epoch 581/1500\n",
            "12149/12149 [==============================] - 2s 132us/step - loss: 0.0503 - acc: 0.9838 - val_loss: 0.1136 - val_acc: 0.9711\n",
            "Epoch 582/1500\n",
            "12149/12149 [==============================] - 2s 132us/step - loss: 0.0484 - acc: 0.9843 - val_loss: 0.1105 - val_acc: 0.9711\n",
            "Epoch 583/1500\n",
            "12149/12149 [==============================] - 2s 131us/step - loss: 0.0477 - acc: 0.9836 - val_loss: 0.1277 - val_acc: 0.9644\n",
            "Epoch 584/1500\n",
            "12149/12149 [==============================] - 2s 132us/step - loss: 0.0463 - acc: 0.9839 - val_loss: 0.1208 - val_acc: 0.9696\n",
            "Epoch 585/1500\n",
            "12149/12149 [==============================] - 2s 132us/step - loss: 0.0491 - acc: 0.9841 - val_loss: 0.1126 - val_acc: 0.9704\n",
            "Epoch 586/1500\n",
            "12149/12149 [==============================] - 2s 130us/step - loss: 0.0517 - acc: 0.9834 - val_loss: 0.1139 - val_acc: 0.9726\n",
            "Epoch 587/1500\n",
            "12149/12149 [==============================] - 2s 131us/step - loss: 0.0472 - acc: 0.9845 - val_loss: 0.1265 - val_acc: 0.9674\n",
            "Epoch 588/1500\n",
            "12149/12149 [==============================] - 2s 131us/step - loss: 0.0480 - acc: 0.9843 - val_loss: 0.1107 - val_acc: 0.9696\n",
            "Epoch 589/1500\n",
            "12149/12149 [==============================] - 2s 129us/step - loss: 0.0470 - acc: 0.9837 - val_loss: 0.1225 - val_acc: 0.9689\n",
            "Epoch 590/1500\n",
            "12149/12149 [==============================] - 2s 130us/step - loss: 0.0487 - acc: 0.9829 - val_loss: 0.1074 - val_acc: 0.9726\n",
            "Epoch 591/1500\n",
            "12149/12149 [==============================] - 2s 131us/step - loss: 0.0470 - acc: 0.9856 - val_loss: 0.1091 - val_acc: 0.9689\n",
            "Epoch 592/1500\n",
            "12149/12149 [==============================] - 2s 132us/step - loss: 0.0497 - acc: 0.9826 - val_loss: 0.1083 - val_acc: 0.9733\n",
            "Epoch 593/1500\n",
            "12149/12149 [==============================] - 2s 131us/step - loss: 0.0487 - acc: 0.9841 - val_loss: 0.1096 - val_acc: 0.9741\n",
            "Epoch 594/1500\n",
            "12149/12149 [==============================] - 2s 130us/step - loss: 0.0475 - acc: 0.9849 - val_loss: 0.1312 - val_acc: 0.9674\n",
            "Epoch 595/1500\n",
            "12149/12149 [==============================] - 2s 132us/step - loss: 0.0473 - acc: 0.9843 - val_loss: 0.1197 - val_acc: 0.9696\n",
            "Epoch 596/1500\n",
            "12149/12149 [==============================] - 2s 130us/step - loss: 0.0539 - acc: 0.9829 - val_loss: 0.1038 - val_acc: 0.9696\n",
            "Epoch 597/1500\n",
            "12149/12149 [==============================] - 2s 131us/step - loss: 0.0503 - acc: 0.9830 - val_loss: 0.1079 - val_acc: 0.9711\n",
            "Epoch 598/1500\n",
            "12149/12149 [==============================] - 2s 131us/step - loss: 0.0457 - acc: 0.9846 - val_loss: 0.1116 - val_acc: 0.9704\n",
            "Epoch 599/1500\n",
            "12149/12149 [==============================] - 2s 129us/step - loss: 0.0480 - acc: 0.9846 - val_loss: 0.1131 - val_acc: 0.9681\n",
            "Epoch 600/1500\n",
            "12149/12149 [==============================] - 2s 133us/step - loss: 0.0470 - acc: 0.9844 - val_loss: 0.1160 - val_acc: 0.9696\n",
            "Epoch 601/1500\n",
            "12149/12149 [==============================] - 2s 132us/step - loss: 0.0472 - acc: 0.9844 - val_loss: 0.1371 - val_acc: 0.9681\n",
            "Epoch 602/1500\n",
            "12149/12149 [==============================] - 2s 132us/step - loss: 0.0506 - acc: 0.9831 - val_loss: 0.1219 - val_acc: 0.9674\n",
            "Epoch 603/1500\n",
            "12149/12149 [==============================] - 2s 132us/step - loss: 0.0498 - acc: 0.9838 - val_loss: 0.1171 - val_acc: 0.9696\n",
            "Epoch 604/1500\n",
            "12149/12149 [==============================] - 2s 134us/step - loss: 0.0508 - acc: 0.9826 - val_loss: 0.1285 - val_acc: 0.9593\n",
            "Epoch 605/1500\n",
            "12149/12149 [==============================] - 2s 131us/step - loss: 0.0470 - acc: 0.9839 - val_loss: 0.1126 - val_acc: 0.9704\n",
            "Epoch 606/1500\n",
            "12149/12149 [==============================] - 2s 132us/step - loss: 0.0471 - acc: 0.9848 - val_loss: 0.1272 - val_acc: 0.9644\n",
            "Epoch 607/1500\n",
            "12149/12149 [==============================] - 2s 131us/step - loss: 0.0515 - acc: 0.9836 - val_loss: 0.1157 - val_acc: 0.9667\n",
            "Epoch 608/1500\n",
            "12149/12149 [==============================] - 2s 131us/step - loss: 0.0467 - acc: 0.9844 - val_loss: 0.1125 - val_acc: 0.9719\n",
            "Epoch 609/1500\n",
            "12149/12149 [==============================] - 2s 133us/step - loss: 0.0522 - acc: 0.9831 - val_loss: 0.1176 - val_acc: 0.9726\n",
            "Epoch 610/1500\n",
            "12149/12149 [==============================] - 2s 131us/step - loss: 0.0449 - acc: 0.9841 - val_loss: 0.1189 - val_acc: 0.9719\n",
            "Epoch 611/1500\n",
            "12149/12149 [==============================] - 2s 132us/step - loss: 0.0504 - acc: 0.9836 - val_loss: 0.1348 - val_acc: 0.9667\n",
            "Epoch 612/1500\n",
            "12149/12149 [==============================] - 2s 131us/step - loss: 0.0495 - acc: 0.9834 - val_loss: 0.1174 - val_acc: 0.9681\n",
            "Epoch 613/1500\n",
            "12149/12149 [==============================] - 2s 134us/step - loss: 0.0480 - acc: 0.9839 - val_loss: 0.1194 - val_acc: 0.9719\n",
            "Epoch 614/1500\n",
            "12149/12149 [==============================] - 2s 133us/step - loss: 0.0484 - acc: 0.9838 - val_loss: 0.1129 - val_acc: 0.9711\n",
            "Epoch 615/1500\n",
            "12149/12149 [==============================] - 2s 133us/step - loss: 0.0520 - acc: 0.9826 - val_loss: 0.1270 - val_acc: 0.9674\n",
            "Epoch 616/1500\n",
            "12149/12149 [==============================] - 2s 133us/step - loss: 0.0493 - acc: 0.9846 - val_loss: 0.1142 - val_acc: 0.9689\n",
            "Epoch 617/1500\n",
            "12149/12149 [==============================] - 2s 132us/step - loss: 0.0481 - acc: 0.9839 - val_loss: 0.1095 - val_acc: 0.9711\n",
            "Epoch 618/1500\n",
            "12149/12149 [==============================] - 2s 133us/step - loss: 0.0488 - acc: 0.9838 - val_loss: 0.1089 - val_acc: 0.9704\n",
            "Epoch 619/1500\n",
            "12149/12149 [==============================] - 2s 133us/step - loss: 0.0478 - acc: 0.9844 - val_loss: 0.1036 - val_acc: 0.9741\n",
            "Epoch 620/1500\n",
            "12149/12149 [==============================] - 2s 130us/step - loss: 0.0476 - acc: 0.9840 - val_loss: 0.1117 - val_acc: 0.9704\n",
            "Epoch 621/1500\n",
            "12149/12149 [==============================] - 2s 132us/step - loss: 0.0467 - acc: 0.9848 - val_loss: 0.1199 - val_acc: 0.9689\n",
            "Epoch 622/1500\n",
            "12149/12149 [==============================] - 2s 130us/step - loss: 0.0465 - acc: 0.9846 - val_loss: 0.1110 - val_acc: 0.9689\n",
            "Epoch 623/1500\n",
            "12149/12149 [==============================] - 2s 132us/step - loss: 0.0520 - acc: 0.9824 - val_loss: 0.1086 - val_acc: 0.9711\n",
            "Epoch 624/1500\n",
            "12149/12149 [==============================] - 2s 129us/step - loss: 0.0459 - acc: 0.9848 - val_loss: 0.1184 - val_acc: 0.9726\n",
            "Epoch 625/1500\n",
            "12149/12149 [==============================] - 2s 131us/step - loss: 0.0466 - acc: 0.9846 - val_loss: 0.1111 - val_acc: 0.9696\n",
            "Epoch 626/1500\n",
            "12149/12149 [==============================] - 2s 128us/step - loss: 0.0528 - acc: 0.9835 - val_loss: 0.1095 - val_acc: 0.9733\n",
            "Epoch 627/1500\n",
            "12149/12149 [==============================] - 2s 130us/step - loss: 0.0452 - acc: 0.9844 - val_loss: 0.1130 - val_acc: 0.9726\n",
            "Epoch 628/1500\n",
            "12149/12149 [==============================] - 2s 129us/step - loss: 0.0481 - acc: 0.9836 - val_loss: 0.1124 - val_acc: 0.9741\n",
            "Epoch 629/1500\n",
            "12149/12149 [==============================] - 2s 129us/step - loss: 0.0482 - acc: 0.9844 - val_loss: 0.1124 - val_acc: 0.9681\n",
            "Epoch 630/1500\n",
            "12149/12149 [==============================] - 2s 131us/step - loss: 0.0472 - acc: 0.9849 - val_loss: 0.1154 - val_acc: 0.9674\n",
            "Epoch 631/1500\n",
            "12149/12149 [==============================] - 2s 130us/step - loss: 0.0496 - acc: 0.9832 - val_loss: 0.1121 - val_acc: 0.9733\n",
            "Epoch 632/1500\n",
            "12149/12149 [==============================] - 2s 131us/step - loss: 0.0463 - acc: 0.9839 - val_loss: 0.1196 - val_acc: 0.9696\n",
            "Epoch 633/1500\n",
            "12149/12149 [==============================] - 2s 138us/step - loss: 0.0466 - acc: 0.9847 - val_loss: 0.1215 - val_acc: 0.9733\n",
            "Epoch 634/1500\n",
            "12149/12149 [==============================] - 2s 152us/step - loss: 0.0455 - acc: 0.9845 - val_loss: 0.1110 - val_acc: 0.9726\n",
            "Epoch 635/1500\n",
            "12149/12149 [==============================] - 2s 155us/step - loss: 0.0480 - acc: 0.9840 - val_loss: 0.1203 - val_acc: 0.9741\n",
            "Epoch 636/1500\n",
            "12149/12149 [==============================] - 2s 155us/step - loss: 0.0482 - acc: 0.9843 - val_loss: 0.1173 - val_acc: 0.9719\n",
            "Epoch 637/1500\n",
            "12149/12149 [==============================] - 2s 132us/step - loss: 0.0454 - acc: 0.9845 - val_loss: 0.1098 - val_acc: 0.9726\n",
            "Epoch 638/1500\n",
            "12149/12149 [==============================] - 2s 129us/step - loss: 0.0454 - acc: 0.9847 - val_loss: 0.1315 - val_acc: 0.9689\n",
            "Epoch 639/1500\n",
            "12149/12149 [==============================] - 2s 133us/step - loss: 0.0484 - acc: 0.9841 - val_loss: 0.1224 - val_acc: 0.9689\n",
            "Epoch 640/1500\n",
            "12149/12149 [==============================] - 2s 131us/step - loss: 0.0452 - acc: 0.9852 - val_loss: 0.1193 - val_acc: 0.9704\n",
            "Epoch 641/1500\n",
            "12149/12149 [==============================] - 2s 130us/step - loss: 0.0485 - acc: 0.9836 - val_loss: 0.1195 - val_acc: 0.9704\n",
            "Epoch 642/1500\n",
            "12149/12149 [==============================] - 2s 132us/step - loss: 0.0478 - acc: 0.9847 - val_loss: 0.1165 - val_acc: 0.9681\n",
            "Epoch 643/1500\n",
            "12149/12149 [==============================] - 2s 135us/step - loss: 0.0480 - acc: 0.9838 - val_loss: 0.1074 - val_acc: 0.9696\n",
            "Epoch 644/1500\n",
            "12149/12149 [==============================] - 2s 156us/step - loss: 0.0459 - acc: 0.9841 - val_loss: 0.1201 - val_acc: 0.9748\n",
            "Epoch 645/1500\n",
            "12149/12149 [==============================] - 2s 159us/step - loss: 0.0465 - acc: 0.9838 - val_loss: 0.1213 - val_acc: 0.9704\n",
            "Epoch 646/1500\n",
            "12149/12149 [==============================] - 2s 157us/step - loss: 0.0472 - acc: 0.9850 - val_loss: 0.1227 - val_acc: 0.9652\n",
            "Epoch 647/1500\n",
            "12149/12149 [==============================] - 2s 154us/step - loss: 0.0456 - acc: 0.9850 - val_loss: 0.1136 - val_acc: 0.9719\n",
            "Epoch 648/1500\n",
            "12149/12149 [==============================] - 2s 158us/step - loss: 0.0482 - acc: 0.9847 - val_loss: 0.1134 - val_acc: 0.9711\n",
            "Epoch 649/1500\n",
            "12149/12149 [==============================] - 2s 147us/step - loss: 0.0463 - acc: 0.9853 - val_loss: 0.1196 - val_acc: 0.9719\n",
            "Epoch 650/1500\n",
            "12149/12149 [==============================] - 2s 134us/step - loss: 0.0459 - acc: 0.9853 - val_loss: 0.1077 - val_acc: 0.9741\n",
            "Epoch 651/1500\n",
            "12149/12149 [==============================] - 2s 135us/step - loss: 0.0461 - acc: 0.9845 - val_loss: 0.1218 - val_acc: 0.9696\n",
            "Epoch 652/1500\n",
            "12149/12149 [==============================] - 2s 132us/step - loss: 0.0551 - acc: 0.9832 - val_loss: 0.1171 - val_acc: 0.9704\n",
            "Epoch 653/1500\n",
            "12149/12149 [==============================] - 2s 131us/step - loss: 0.0459 - acc: 0.9844 - val_loss: 0.1282 - val_acc: 0.9667\n",
            "Epoch 654/1500\n",
            "12149/12149 [==============================] - 2s 130us/step - loss: 0.0485 - acc: 0.9839 - val_loss: 0.1134 - val_acc: 0.9704\n",
            "Epoch 655/1500\n",
            "12149/12149 [==============================] - 2s 132us/step - loss: 0.0462 - acc: 0.9860 - val_loss: 0.1263 - val_acc: 0.9726\n",
            "Epoch 656/1500\n",
            "12149/12149 [==============================] - 2s 131us/step - loss: 0.0466 - acc: 0.9845 - val_loss: 0.1121 - val_acc: 0.9719\n",
            "Epoch 657/1500\n",
            "12149/12149 [==============================] - 2s 130us/step - loss: 0.0487 - acc: 0.9839 - val_loss: 0.1103 - val_acc: 0.9696\n",
            "Epoch 658/1500\n",
            "12149/12149 [==============================] - 2s 128us/step - loss: 0.0464 - acc: 0.9847 - val_loss: 0.1214 - val_acc: 0.9674\n",
            "Epoch 659/1500\n",
            "12149/12149 [==============================] - 2s 129us/step - loss: 0.0471 - acc: 0.9853 - val_loss: 0.1333 - val_acc: 0.9652\n",
            "Epoch 660/1500\n",
            "12149/12149 [==============================] - 2s 131us/step - loss: 0.0468 - acc: 0.9852 - val_loss: 0.1190 - val_acc: 0.9711\n",
            "Epoch 661/1500\n",
            "12149/12149 [==============================] - 2s 130us/step - loss: 0.0471 - acc: 0.9839 - val_loss: 0.1367 - val_acc: 0.9674\n",
            "Epoch 662/1500\n",
            "12149/12149 [==============================] - 2s 130us/step - loss: 0.0487 - acc: 0.9833 - val_loss: 0.1124 - val_acc: 0.9704\n",
            "Epoch 663/1500\n",
            "12149/12149 [==============================] - 2s 131us/step - loss: 0.0465 - acc: 0.9858 - val_loss: 0.1130 - val_acc: 0.9689\n",
            "Epoch 664/1500\n",
            "12149/12149 [==============================] - 2s 130us/step - loss: 0.0479 - acc: 0.9839 - val_loss: 0.1433 - val_acc: 0.9652\n",
            "Epoch 665/1500\n",
            "12149/12149 [==============================] - 2s 129us/step - loss: 0.0469 - acc: 0.9852 - val_loss: 0.1165 - val_acc: 0.9711\n",
            "Epoch 666/1500\n",
            "12149/12149 [==============================] - 2s 131us/step - loss: 0.0469 - acc: 0.9839 - val_loss: 0.1221 - val_acc: 0.9719\n",
            "Epoch 667/1500\n",
            "12149/12149 [==============================] - 2s 131us/step - loss: 0.0491 - acc: 0.9841 - val_loss: 0.1094 - val_acc: 0.9719\n",
            "Epoch 668/1500\n",
            "12149/12149 [==============================] - 2s 131us/step - loss: 0.0498 - acc: 0.9831 - val_loss: 0.1220 - val_acc: 0.9689\n",
            "Epoch 669/1500\n",
            "12149/12149 [==============================] - 2s 133us/step - loss: 0.0486 - acc: 0.9845 - val_loss: 0.1186 - val_acc: 0.9696\n",
            "Epoch 670/1500\n",
            "12149/12149 [==============================] - 2s 131us/step - loss: 0.0460 - acc: 0.9858 - val_loss: 0.1057 - val_acc: 0.9719\n",
            "Epoch 671/1500\n",
            "12149/12149 [==============================] - 2s 130us/step - loss: 0.0500 - acc: 0.9843 - val_loss: 0.1322 - val_acc: 0.9689\n",
            "Epoch 672/1500\n",
            "12149/12149 [==============================] - 2s 130us/step - loss: 0.0472 - acc: 0.9844 - val_loss: 0.1179 - val_acc: 0.9733\n",
            "Epoch 673/1500\n",
            "12149/12149 [==============================] - 2s 130us/step - loss: 0.0451 - acc: 0.9858 - val_loss: 0.1156 - val_acc: 0.9704\n",
            "Epoch 674/1500\n",
            "12149/12149 [==============================] - 2s 131us/step - loss: 0.0449 - acc: 0.9853 - val_loss: 0.1128 - val_acc: 0.9719\n",
            "Epoch 675/1500\n",
            "12149/12149 [==============================] - 2s 133us/step - loss: 0.0457 - acc: 0.9856 - val_loss: 0.1103 - val_acc: 0.9704\n",
            "Epoch 676/1500\n",
            "12149/12149 [==============================] - 2s 134us/step - loss: 0.0447 - acc: 0.9856 - val_loss: 0.1116 - val_acc: 0.9726\n",
            "Epoch 677/1500\n",
            "12149/12149 [==============================] - 2s 130us/step - loss: 0.0483 - acc: 0.9845 - val_loss: 0.1190 - val_acc: 0.9733\n",
            "Epoch 678/1500\n",
            "12149/12149 [==============================] - 2s 131us/step - loss: 0.0490 - acc: 0.9845 - val_loss: 0.1251 - val_acc: 0.9726\n",
            "Epoch 679/1500\n",
            "12149/12149 [==============================] - 2s 130us/step - loss: 0.0457 - acc: 0.9857 - val_loss: 0.1067 - val_acc: 0.9741\n",
            "Epoch 680/1500\n",
            "12149/12149 [==============================] - 2s 130us/step - loss: 0.0493 - acc: 0.9839 - val_loss: 0.1183 - val_acc: 0.9733\n",
            "Epoch 681/1500\n",
            "12149/12149 [==============================] - 2s 132us/step - loss: 0.0521 - acc: 0.9838 - val_loss: 0.1088 - val_acc: 0.9711\n",
            "Epoch 682/1500\n",
            "12149/12149 [==============================] - 2s 134us/step - loss: 0.0434 - acc: 0.9865 - val_loss: 0.1155 - val_acc: 0.9696\n",
            "Epoch 683/1500\n",
            "12149/12149 [==============================] - 2s 131us/step - loss: 0.0489 - acc: 0.9843 - val_loss: 0.1089 - val_acc: 0.9726\n",
            "Epoch 684/1500\n",
            "12149/12149 [==============================] - 2s 131us/step - loss: 0.0455 - acc: 0.9842 - val_loss: 0.1195 - val_acc: 0.9704\n",
            "Epoch 685/1500\n",
            "12149/12149 [==============================] - 2s 134us/step - loss: 0.0484 - acc: 0.9846 - val_loss: 0.1358 - val_acc: 0.9719\n",
            "Epoch 686/1500\n",
            "12149/12149 [==============================] - 2s 130us/step - loss: 0.0449 - acc: 0.9858 - val_loss: 0.1174 - val_acc: 0.9741\n",
            "Epoch 687/1500\n",
            "12149/12149 [==============================] - 2s 134us/step - loss: 0.0454 - acc: 0.9852 - val_loss: 0.1184 - val_acc: 0.9674\n",
            "Epoch 688/1500\n",
            "12149/12149 [==============================] - 2s 130us/step - loss: 0.0457 - acc: 0.9851 - val_loss: 0.1101 - val_acc: 0.9696\n",
            "Epoch 689/1500\n",
            "12149/12149 [==============================] - 2s 133us/step - loss: 0.0454 - acc: 0.9858 - val_loss: 0.1202 - val_acc: 0.9667\n",
            "Epoch 690/1500\n",
            "12149/12149 [==============================] - 2s 131us/step - loss: 0.0470 - acc: 0.9839 - val_loss: 0.1375 - val_acc: 0.9652\n",
            "Epoch 691/1500\n",
            "12149/12149 [==============================] - 2s 130us/step - loss: 0.0467 - acc: 0.9844 - val_loss: 0.1210 - val_acc: 0.9696\n",
            "Epoch 692/1500\n",
            "12149/12149 [==============================] - 2s 130us/step - loss: 0.0476 - acc: 0.9846 - val_loss: 0.1139 - val_acc: 0.9741\n",
            "Epoch 693/1500\n",
            "12149/12149 [==============================] - 2s 132us/step - loss: 0.0466 - acc: 0.9844 - val_loss: 0.1145 - val_acc: 0.9741\n",
            "Epoch 694/1500\n",
            "12149/12149 [==============================] - 2s 129us/step - loss: 0.0473 - acc: 0.9839 - val_loss: 0.1112 - val_acc: 0.9733\n",
            "Epoch 695/1500\n",
            "12149/12149 [==============================] - 2s 129us/step - loss: 0.0434 - acc: 0.9848 - val_loss: 0.1207 - val_acc: 0.9704\n",
            "Epoch 696/1500\n",
            "12149/12149 [==============================] - 2s 132us/step - loss: 0.0491 - acc: 0.9841 - val_loss: 0.1075 - val_acc: 0.9756\n",
            "Epoch 697/1500\n",
            "12149/12149 [==============================] - 2s 129us/step - loss: 0.0454 - acc: 0.9850 - val_loss: 0.1182 - val_acc: 0.9704\n",
            "Epoch 698/1500\n",
            "12149/12149 [==============================] - 2s 132us/step - loss: 0.0495 - acc: 0.9832 - val_loss: 0.1255 - val_acc: 0.9659\n",
            "Epoch 699/1500\n",
            "12149/12149 [==============================] - 2s 131us/step - loss: 0.0484 - acc: 0.9830 - val_loss: 0.1139 - val_acc: 0.9696\n",
            "Epoch 700/1500\n",
            "12149/12149 [==============================] - 2s 131us/step - loss: 0.0477 - acc: 0.9844 - val_loss: 0.1267 - val_acc: 0.9644\n",
            "Epoch 701/1500\n",
            "12149/12149 [==============================] - 2s 130us/step - loss: 0.0473 - acc: 0.9844 - val_loss: 0.1216 - val_acc: 0.9719\n",
            "Epoch 702/1500\n",
            "12149/12149 [==============================] - 2s 132us/step - loss: 0.0457 - acc: 0.9851 - val_loss: 0.1052 - val_acc: 0.9733\n",
            "Epoch 703/1500\n",
            "12149/12149 [==============================] - 2s 132us/step - loss: 0.0441 - acc: 0.9850 - val_loss: 0.1261 - val_acc: 0.9659\n",
            "Epoch 704/1500\n",
            "12149/12149 [==============================] - 2s 129us/step - loss: 0.0451 - acc: 0.9850 - val_loss: 0.1131 - val_acc: 0.9696\n",
            "Epoch 705/1500\n",
            "12149/12149 [==============================] - 2s 130us/step - loss: 0.0494 - acc: 0.9839 - val_loss: 0.1166 - val_acc: 0.9704\n",
            "Epoch 706/1500\n",
            "12149/12149 [==============================] - 2s 132us/step - loss: 0.0498 - acc: 0.9834 - val_loss: 0.1241 - val_acc: 0.9674\n",
            "Epoch 707/1500\n",
            "12149/12149 [==============================] - 2s 128us/step - loss: 0.0473 - acc: 0.9834 - val_loss: 0.1135 - val_acc: 0.9711\n",
            "Epoch 708/1500\n",
            "12149/12149 [==============================] - 2s 131us/step - loss: 0.0457 - acc: 0.9849 - val_loss: 0.1121 - val_acc: 0.9726\n",
            "Epoch 709/1500\n",
            "12149/12149 [==============================] - 2s 130us/step - loss: 0.0487 - acc: 0.9842 - val_loss: 0.1281 - val_acc: 0.9681\n",
            "Epoch 710/1500\n",
            "12149/12149 [==============================] - 2s 131us/step - loss: 0.0463 - acc: 0.9841 - val_loss: 0.1258 - val_acc: 0.9711\n",
            "Epoch 711/1500\n",
            "12149/12149 [==============================] - 2s 129us/step - loss: 0.0464 - acc: 0.9849 - val_loss: 0.1147 - val_acc: 0.9719\n",
            "Epoch 712/1500\n",
            "12149/12149 [==============================] - 2s 130us/step - loss: 0.0441 - acc: 0.9858 - val_loss: 0.1232 - val_acc: 0.9711\n",
            "Epoch 713/1500\n",
            "12149/12149 [==============================] - 2s 132us/step - loss: 0.0453 - acc: 0.9849 - val_loss: 0.1218 - val_acc: 0.9719\n",
            "Epoch 714/1500\n",
            "12149/12149 [==============================] - 2s 130us/step - loss: 0.0441 - acc: 0.9853 - val_loss: 0.1113 - val_acc: 0.9689\n",
            "Epoch 715/1500\n",
            "12149/12149 [==============================] - 2s 131us/step - loss: 0.0494 - acc: 0.9851 - val_loss: 0.1167 - val_acc: 0.9704\n",
            "Epoch 716/1500\n",
            "12149/12149 [==============================] - 2s 132us/step - loss: 0.0465 - acc: 0.9847 - val_loss: 0.1264 - val_acc: 0.9711\n",
            "Epoch 717/1500\n",
            "12149/12149 [==============================] - 2s 135us/step - loss: 0.0437 - acc: 0.9857 - val_loss: 0.1285 - val_acc: 0.9704\n",
            "Epoch 718/1500\n",
            "12149/12149 [==============================] - 2s 131us/step - loss: 0.0490 - acc: 0.9830 - val_loss: 0.1110 - val_acc: 0.9644\n",
            "Epoch 719/1500\n",
            "12149/12149 [==============================] - 2s 130us/step - loss: 0.0454 - acc: 0.9847 - val_loss: 0.1267 - val_acc: 0.9696\n",
            "Epoch 720/1500\n",
            "12149/12149 [==============================] - 2s 131us/step - loss: 0.0458 - acc: 0.9850 - val_loss: 0.1270 - val_acc: 0.9704\n",
            "Epoch 721/1500\n",
            "12149/12149 [==============================] - 2s 132us/step - loss: 0.0432 - acc: 0.9857 - val_loss: 0.1279 - val_acc: 0.9711\n",
            "Epoch 722/1500\n",
            "12149/12149 [==============================] - 2s 132us/step - loss: 0.0514 - acc: 0.9834 - val_loss: 0.1364 - val_acc: 0.9667\n",
            "Epoch 723/1500\n",
            "12149/12149 [==============================] - 2s 131us/step - loss: 0.0450 - acc: 0.9849 - val_loss: 0.1150 - val_acc: 0.9719\n",
            "Epoch 724/1500\n",
            "12149/12149 [==============================] - 2s 130us/step - loss: 0.0478 - acc: 0.9845 - val_loss: 0.1308 - val_acc: 0.9696\n",
            "Epoch 725/1500\n",
            "12149/12149 [==============================] - 2s 134us/step - loss: 0.0442 - acc: 0.9856 - val_loss: 0.1188 - val_acc: 0.9696\n",
            "Epoch 726/1500\n",
            "12149/12149 [==============================] - 2s 131us/step - loss: 0.0467 - acc: 0.9847 - val_loss: 0.1152 - val_acc: 0.9726\n",
            "Epoch 727/1500\n",
            "12149/12149 [==============================] - 2s 132us/step - loss: 0.0479 - acc: 0.9837 - val_loss: 0.1061 - val_acc: 0.9704\n",
            "Epoch 728/1500\n",
            "12149/12149 [==============================] - 2s 130us/step - loss: 0.0450 - acc: 0.9852 - val_loss: 0.1293 - val_acc: 0.9696\n",
            "Epoch 729/1500\n",
            "12149/12149 [==============================] - 2s 134us/step - loss: 0.0472 - acc: 0.9849 - val_loss: 0.1101 - val_acc: 0.9689\n",
            "Epoch 730/1500\n",
            "12149/12149 [==============================] - 2s 131us/step - loss: 0.0459 - acc: 0.9847 - val_loss: 0.1049 - val_acc: 0.9674\n",
            "Epoch 731/1500\n",
            "12149/12149 [==============================] - 2s 129us/step - loss: 0.0443 - acc: 0.9853 - val_loss: 0.1200 - val_acc: 0.9674\n",
            "Epoch 732/1500\n",
            "12149/12149 [==============================] - 2s 130us/step - loss: 0.0453 - acc: 0.9852 - val_loss: 0.1208 - val_acc: 0.9696\n",
            "Epoch 733/1500\n",
            "12149/12149 [==============================] - 2s 129us/step - loss: 0.0489 - acc: 0.9834 - val_loss: 0.1165 - val_acc: 0.9681\n",
            "Epoch 734/1500\n",
            "12149/12149 [==============================] - 2s 130us/step - loss: 0.0499 - acc: 0.9835 - val_loss: 0.1140 - val_acc: 0.9719\n",
            "Epoch 735/1500\n",
            "12149/12149 [==============================] - 2s 132us/step - loss: 0.0471 - acc: 0.9849 - val_loss: 0.1088 - val_acc: 0.9696\n",
            "Epoch 736/1500\n",
            "12149/12149 [==============================] - 2s 128us/step - loss: 0.0444 - acc: 0.9864 - val_loss: 0.1084 - val_acc: 0.9696\n",
            "Epoch 737/1500\n",
            "12149/12149 [==============================] - 2s 129us/step - loss: 0.0433 - acc: 0.9866 - val_loss: 0.1201 - val_acc: 0.9704\n",
            "Epoch 738/1500\n",
            "12149/12149 [==============================] - 2s 132us/step - loss: 0.0470 - acc: 0.9849 - val_loss: 0.1138 - val_acc: 0.9689\n",
            "Epoch 739/1500\n",
            "12149/12149 [==============================] - 2s 130us/step - loss: 0.0450 - acc: 0.9853 - val_loss: 0.1127 - val_acc: 0.9711\n",
            "Epoch 740/1500\n",
            "12149/12149 [==============================] - 2s 131us/step - loss: 0.0459 - acc: 0.9841 - val_loss: 0.1053 - val_acc: 0.9711\n",
            "Epoch 741/1500\n",
            "12149/12149 [==============================] - 2s 132us/step - loss: 0.0457 - acc: 0.9860 - val_loss: 0.1104 - val_acc: 0.9681\n",
            "Epoch 742/1500\n",
            "12149/12149 [==============================] - 2s 131us/step - loss: 0.0449 - acc: 0.9850 - val_loss: 0.1139 - val_acc: 0.9659\n",
            "Epoch 743/1500\n",
            "12149/12149 [==============================] - 2s 131us/step - loss: 0.0467 - acc: 0.9845 - val_loss: 0.1268 - val_acc: 0.9681\n",
            "Epoch 744/1500\n",
            "12149/12149 [==============================] - 2s 130us/step - loss: 0.0462 - acc: 0.9854 - val_loss: 0.1130 - val_acc: 0.9719\n",
            "Epoch 745/1500\n",
            "12149/12149 [==============================] - 2s 129us/step - loss: 0.0484 - acc: 0.9835 - val_loss: 0.1135 - val_acc: 0.9770\n",
            "Epoch 746/1500\n",
            "12149/12149 [==============================] - 2s 129us/step - loss: 0.0450 - acc: 0.9856 - val_loss: 0.1204 - val_acc: 0.9696\n",
            "Epoch 747/1500\n",
            "12149/12149 [==============================] - 2s 129us/step - loss: 0.0440 - acc: 0.9863 - val_loss: 0.1198 - val_acc: 0.9726\n",
            "Epoch 748/1500\n",
            "12149/12149 [==============================] - 2s 129us/step - loss: 0.0465 - acc: 0.9850 - val_loss: 0.1198 - val_acc: 0.9689\n",
            "Epoch 749/1500\n",
            "12149/12149 [==============================] - 2s 130us/step - loss: 0.0497 - acc: 0.9848 - val_loss: 0.1231 - val_acc: 0.9696\n",
            "Epoch 750/1500\n",
            "12149/12149 [==============================] - 2s 130us/step - loss: 0.0435 - acc: 0.9861 - val_loss: 0.1112 - val_acc: 0.9741\n",
            "Epoch 751/1500\n",
            "12149/12149 [==============================] - 2s 131us/step - loss: 0.0448 - acc: 0.9842 - val_loss: 0.1377 - val_acc: 0.9652\n",
            "Epoch 752/1500\n",
            "12149/12149 [==============================] - 2s 130us/step - loss: 0.0459 - acc: 0.9846 - val_loss: 0.1246 - val_acc: 0.9689\n",
            "Epoch 753/1500\n",
            "12149/12149 [==============================] - 2s 131us/step - loss: 0.0468 - acc: 0.9842 - val_loss: 0.1402 - val_acc: 0.9615\n",
            "Epoch 754/1500\n",
            "12149/12149 [==============================] - 2s 131us/step - loss: 0.0456 - acc: 0.9848 - val_loss: 0.1186 - val_acc: 0.9674\n",
            "Epoch 755/1500\n",
            "12149/12149 [==============================] - 2s 131us/step - loss: 0.0475 - acc: 0.9845 - val_loss: 0.1145 - val_acc: 0.9719\n",
            "Epoch 756/1500\n",
            "12149/12149 [==============================] - 2s 132us/step - loss: 0.0439 - acc: 0.9853 - val_loss: 0.1304 - val_acc: 0.9681\n",
            "Epoch 757/1500\n",
            "12149/12149 [==============================] - 2s 131us/step - loss: 0.0453 - acc: 0.9850 - val_loss: 0.1074 - val_acc: 0.9696\n",
            "Epoch 758/1500\n",
            "12149/12149 [==============================] - 2s 131us/step - loss: 0.0465 - acc: 0.9840 - val_loss: 0.1299 - val_acc: 0.9644\n",
            "Epoch 759/1500\n",
            "12149/12149 [==============================] - 2s 131us/step - loss: 0.0456 - acc: 0.9843 - val_loss: 0.1180 - val_acc: 0.9719\n",
            "Epoch 760/1500\n",
            "12149/12149 [==============================] - 2s 132us/step - loss: 0.0429 - acc: 0.9858 - val_loss: 0.1267 - val_acc: 0.9696\n",
            "Epoch 761/1500\n",
            "12149/12149 [==============================] - 2s 130us/step - loss: 0.0465 - acc: 0.9853 - val_loss: 0.1185 - val_acc: 0.9689\n",
            "Epoch 762/1500\n",
            "12149/12149 [==============================] - 2s 129us/step - loss: 0.0436 - acc: 0.9851 - val_loss: 0.1283 - val_acc: 0.9659\n",
            "Epoch 763/1500\n",
            "12149/12149 [==============================] - 2s 132us/step - loss: 0.0483 - acc: 0.9833 - val_loss: 0.1114 - val_acc: 0.9711\n",
            "Epoch 764/1500\n",
            "12149/12149 [==============================] - 2s 131us/step - loss: 0.0445 - acc: 0.9857 - val_loss: 0.1097 - val_acc: 0.9719\n",
            "Epoch 765/1500\n",
            "12149/12149 [==============================] - 2s 129us/step - loss: 0.0459 - acc: 0.9850 - val_loss: 0.1232 - val_acc: 0.9644\n",
            "Epoch 766/1500\n",
            "12149/12149 [==============================] - 2s 133us/step - loss: 0.0479 - acc: 0.9844 - val_loss: 0.1325 - val_acc: 0.9681\n",
            "Epoch 767/1500\n",
            "12149/12149 [==============================] - 2s 133us/step - loss: 0.0481 - acc: 0.9844 - val_loss: 0.1215 - val_acc: 0.9689\n",
            "Epoch 768/1500\n",
            "12149/12149 [==============================] - 2s 131us/step - loss: 0.0427 - acc: 0.9860 - val_loss: 0.1078 - val_acc: 0.9763\n",
            "Epoch 769/1500\n",
            "12149/12149 [==============================] - 2s 129us/step - loss: 0.0433 - acc: 0.9860 - val_loss: 0.1044 - val_acc: 0.9733\n",
            "Epoch 770/1500\n",
            "12149/12149 [==============================] - 2s 133us/step - loss: 0.0446 - acc: 0.9856 - val_loss: 0.1283 - val_acc: 0.9659\n",
            "Epoch 771/1500\n",
            "12149/12149 [==============================] - 2s 132us/step - loss: 0.0461 - acc: 0.9849 - val_loss: 0.1166 - val_acc: 0.9689\n",
            "Epoch 772/1500\n",
            "12149/12149 [==============================] - 2s 129us/step - loss: 0.0437 - acc: 0.9851 - val_loss: 0.1216 - val_acc: 0.9711\n",
            "Epoch 773/1500\n",
            "12149/12149 [==============================] - 2s 130us/step - loss: 0.0456 - acc: 0.9837 - val_loss: 0.1294 - val_acc: 0.9704\n",
            "Epoch 774/1500\n",
            "12149/12149 [==============================] - 2s 129us/step - loss: 0.0436 - acc: 0.9855 - val_loss: 0.1181 - val_acc: 0.9748\n",
            "Epoch 775/1500\n",
            "12149/12149 [==============================] - 2s 130us/step - loss: 0.0435 - acc: 0.9849 - val_loss: 0.1347 - val_acc: 0.9689\n",
            "Epoch 776/1500\n",
            "12149/12149 [==============================] - 2s 129us/step - loss: 0.0471 - acc: 0.9850 - val_loss: 0.1172 - val_acc: 0.9733\n",
            "Epoch 777/1500\n",
            "12149/12149 [==============================] - 2s 129us/step - loss: 0.0452 - acc: 0.9852 - val_loss: 0.1298 - val_acc: 0.9704\n",
            "Epoch 778/1500\n",
            "12149/12149 [==============================] - 2s 130us/step - loss: 0.0460 - acc: 0.9849 - val_loss: 0.1295 - val_acc: 0.9674\n",
            "Epoch 779/1500\n",
            "12149/12149 [==============================] - 2s 131us/step - loss: 0.0434 - acc: 0.9856 - val_loss: 0.1181 - val_acc: 0.9733\n",
            "Epoch 780/1500\n",
            "12149/12149 [==============================] - 2s 129us/step - loss: 0.0488 - acc: 0.9839 - val_loss: 0.1317 - val_acc: 0.9674\n",
            "Epoch 781/1500\n",
            "12149/12149 [==============================] - 2s 131us/step - loss: 0.0437 - acc: 0.9858 - val_loss: 0.1140 - val_acc: 0.9719\n",
            "Epoch 782/1500\n",
            "12149/12149 [==============================] - 2s 130us/step - loss: 0.0465 - acc: 0.9841 - val_loss: 0.1385 - val_acc: 0.9667\n",
            "Epoch 783/1500\n",
            "12149/12149 [==============================] - 2s 131us/step - loss: 0.0431 - acc: 0.9857 - val_loss: 0.1176 - val_acc: 0.9719\n",
            "Epoch 784/1500\n",
            "12149/12149 [==============================] - 2s 130us/step - loss: 0.0434 - acc: 0.9853 - val_loss: 0.1172 - val_acc: 0.9704\n",
            "Epoch 785/1500\n",
            "12149/12149 [==============================] - 2s 130us/step - loss: 0.0457 - acc: 0.9862 - val_loss: 0.1174 - val_acc: 0.9681\n",
            "Epoch 786/1500\n",
            "12149/12149 [==============================] - 2s 130us/step - loss: 0.0431 - acc: 0.9853 - val_loss: 0.1154 - val_acc: 0.9711\n",
            "Epoch 787/1500\n",
            "12149/12149 [==============================] - 2s 130us/step - loss: 0.0469 - acc: 0.9853 - val_loss: 0.1144 - val_acc: 0.9733\n",
            "Epoch 788/1500\n",
            "12149/12149 [==============================] - 2s 131us/step - loss: 0.0422 - acc: 0.9858 - val_loss: 0.1274 - val_acc: 0.9681\n",
            "Epoch 789/1500\n",
            "12149/12149 [==============================] - 2s 130us/step - loss: 0.0430 - acc: 0.9858 - val_loss: 0.1139 - val_acc: 0.9726\n",
            "Epoch 790/1500\n",
            "12149/12149 [==============================] - 2s 129us/step - loss: 0.0441 - acc: 0.9857 - val_loss: 0.1305 - val_acc: 0.9637\n",
            "Epoch 791/1500\n",
            "12149/12149 [==============================] - 2s 129us/step - loss: 0.0438 - acc: 0.9860 - val_loss: 0.1209 - val_acc: 0.9652\n",
            "Epoch 792/1500\n",
            "12149/12149 [==============================] - 2s 130us/step - loss: 0.0452 - acc: 0.9854 - val_loss: 0.1294 - val_acc: 0.9652\n",
            "Epoch 793/1500\n",
            "12149/12149 [==============================] - 2s 128us/step - loss: 0.0483 - acc: 0.9850 - val_loss: 0.1345 - val_acc: 0.9674\n",
            "Epoch 794/1500\n",
            "12149/12149 [==============================] - 2s 130us/step - loss: 0.0452 - acc: 0.9853 - val_loss: 0.1210 - val_acc: 0.9726\n",
            "Epoch 795/1500\n",
            "12149/12149 [==============================] - 2s 129us/step - loss: 0.0451 - acc: 0.9853 - val_loss: 0.1192 - val_acc: 0.9689\n",
            "Epoch 796/1500\n",
            "12149/12149 [==============================] - 2s 131us/step - loss: 0.0418 - acc: 0.9866 - val_loss: 0.1221 - val_acc: 0.9667\n",
            "Epoch 797/1500\n",
            "12149/12149 [==============================] - 2s 133us/step - loss: 0.0424 - acc: 0.9854 - val_loss: 0.1188 - val_acc: 0.9696\n",
            "Epoch 798/1500\n",
            "12149/12149 [==============================] - 2s 131us/step - loss: 0.0485 - acc: 0.9836 - val_loss: 0.1093 - val_acc: 0.9704\n",
            "Epoch 799/1500\n",
            "12149/12149 [==============================] - 2s 131us/step - loss: 0.0434 - acc: 0.9851 - val_loss: 0.1257 - val_acc: 0.9711\n",
            "Epoch 800/1500\n",
            "12149/12149 [==============================] - 2s 131us/step - loss: 0.0430 - acc: 0.9859 - val_loss: 0.1244 - val_acc: 0.9689\n",
            "Epoch 801/1500\n",
            "12149/12149 [==============================] - 2s 134us/step - loss: 0.0488 - acc: 0.9844 - val_loss: 0.1372 - val_acc: 0.9674\n",
            "Epoch 802/1500\n",
            "12149/12149 [==============================] - 2s 132us/step - loss: 0.0488 - acc: 0.9841 - val_loss: 0.1334 - val_acc: 0.9689\n",
            "Epoch 803/1500\n",
            "12149/12149 [==============================] - 2s 132us/step - loss: 0.0450 - acc: 0.9853 - val_loss: 0.1262 - val_acc: 0.9659\n",
            "Epoch 804/1500\n",
            "12149/12149 [==============================] - 2s 133us/step - loss: 0.0410 - acc: 0.9863 - val_loss: 0.1175 - val_acc: 0.9696\n",
            "Epoch 805/1500\n",
            "12149/12149 [==============================] - 2s 136us/step - loss: 0.0470 - acc: 0.9849 - val_loss: 0.1184 - val_acc: 0.9696\n",
            "Epoch 806/1500\n",
            "12149/12149 [==============================] - 2s 134us/step - loss: 0.0441 - acc: 0.9855 - val_loss: 0.1396 - val_acc: 0.9659\n",
            "Epoch 807/1500\n",
            "12149/12149 [==============================] - 2s 132us/step - loss: 0.0451 - acc: 0.9851 - val_loss: 0.1261 - val_acc: 0.9719\n",
            "Epoch 808/1500\n",
            "12149/12149 [==============================] - 2s 129us/step - loss: 0.0452 - acc: 0.9843 - val_loss: 0.1220 - val_acc: 0.9711\n",
            "Epoch 809/1500\n",
            "12149/12149 [==============================] - 2s 130us/step - loss: 0.0455 - acc: 0.9846 - val_loss: 0.1131 - val_acc: 0.9696\n",
            "Epoch 810/1500\n",
            "12149/12149 [==============================] - 2s 131us/step - loss: 0.0456 - acc: 0.9844 - val_loss: 0.1136 - val_acc: 0.9756\n",
            "Epoch 811/1500\n",
            "12149/12149 [==============================] - 2s 130us/step - loss: 0.0440 - acc: 0.9844 - val_loss: 0.1189 - val_acc: 0.9726\n",
            "Epoch 812/1500\n",
            "12149/12149 [==============================] - 2s 129us/step - loss: 0.0425 - acc: 0.9858 - val_loss: 0.1317 - val_acc: 0.9689\n",
            "Epoch 813/1500\n",
            "12149/12149 [==============================] - 2s 129us/step - loss: 0.0441 - acc: 0.9858 - val_loss: 0.1065 - val_acc: 0.9719\n",
            "Epoch 814/1500\n",
            "12149/12149 [==============================] - 2s 130us/step - loss: 0.0461 - acc: 0.9853 - val_loss: 0.1235 - val_acc: 0.9689\n",
            "Epoch 815/1500\n",
            "12149/12149 [==============================] - 2s 132us/step - loss: 0.0478 - acc: 0.9853 - val_loss: 0.1282 - val_acc: 0.9674\n",
            "Epoch 816/1500\n",
            "12149/12149 [==============================] - 2s 132us/step - loss: 0.0430 - acc: 0.9854 - val_loss: 0.1118 - val_acc: 0.9726\n",
            "Epoch 817/1500\n",
            "12149/12149 [==============================] - 2s 133us/step - loss: 0.0446 - acc: 0.9858 - val_loss: 0.1227 - val_acc: 0.9681\n",
            "Epoch 818/1500\n",
            "12149/12149 [==============================] - 2s 132us/step - loss: 0.0465 - acc: 0.9849 - val_loss: 0.1130 - val_acc: 0.9719\n",
            "Epoch 819/1500\n",
            "12149/12149 [==============================] - 2s 132us/step - loss: 0.0509 - acc: 0.9843 - val_loss: 0.1187 - val_acc: 0.9689\n",
            "Epoch 820/1500\n",
            "12149/12149 [==============================] - 2s 129us/step - loss: 0.0477 - acc: 0.9834 - val_loss: 0.1199 - val_acc: 0.9644\n",
            "Epoch 821/1500\n",
            "12149/12149 [==============================] - 2s 130us/step - loss: 0.0419 - acc: 0.9860 - val_loss: 0.1182 - val_acc: 0.9756\n",
            "Epoch 822/1500\n",
            "12149/12149 [==============================] - 2s 130us/step - loss: 0.0415 - acc: 0.9861 - val_loss: 0.1144 - val_acc: 0.9719\n",
            "Epoch 823/1500\n",
            "12149/12149 [==============================] - 2s 132us/step - loss: 0.0414 - acc: 0.9862 - val_loss: 0.1160 - val_acc: 0.9719\n",
            "Epoch 824/1500\n",
            "12149/12149 [==============================] - 2s 142us/step - loss: 0.0472 - acc: 0.9845 - val_loss: 0.1065 - val_acc: 0.9726\n",
            "Epoch 825/1500\n",
            "12149/12149 [==============================] - 2s 152us/step - loss: 0.0471 - acc: 0.9841 - val_loss: 0.1206 - val_acc: 0.9741\n",
            "Epoch 826/1500\n",
            "12149/12149 [==============================] - 2s 151us/step - loss: 0.0414 - acc: 0.9867 - val_loss: 0.1227 - val_acc: 0.9711\n",
            "Epoch 827/1500\n",
            "12149/12149 [==============================] - 2s 141us/step - loss: 0.0458 - acc: 0.9839 - val_loss: 0.1063 - val_acc: 0.9704\n",
            "Epoch 828/1500\n",
            "12149/12149 [==============================] - 2s 131us/step - loss: 0.0451 - acc: 0.9845 - val_loss: 0.1151 - val_acc: 0.9674\n",
            "Epoch 829/1500\n",
            "12149/12149 [==============================] - 2s 132us/step - loss: 0.0452 - acc: 0.9853 - val_loss: 0.1145 - val_acc: 0.9696\n",
            "Epoch 830/1500\n",
            "12149/12149 [==============================] - 2s 131us/step - loss: 0.0441 - acc: 0.9856 - val_loss: 0.1240 - val_acc: 0.9696\n",
            "Epoch 831/1500\n",
            "12149/12149 [==============================] - 2s 132us/step - loss: 0.0449 - acc: 0.9848 - val_loss: 0.1154 - val_acc: 0.9704\n",
            "Epoch 832/1500\n",
            "12149/12149 [==============================] - 2s 130us/step - loss: 0.0463 - acc: 0.9845 - val_loss: 0.1184 - val_acc: 0.9704\n",
            "Epoch 833/1500\n",
            "12149/12149 [==============================] - 2s 132us/step - loss: 0.0455 - acc: 0.9840 - val_loss: 0.1332 - val_acc: 0.9689\n",
            "Epoch 834/1500\n",
            "12149/12149 [==============================] - 2s 130us/step - loss: 0.0468 - acc: 0.9844 - val_loss: 0.1117 - val_acc: 0.9748\n",
            "Epoch 835/1500\n",
            "12149/12149 [==============================] - 2s 131us/step - loss: 0.0467 - acc: 0.9841 - val_loss: 0.1265 - val_acc: 0.9667\n",
            "Epoch 836/1500\n",
            "12149/12149 [==============================] - 2s 129us/step - loss: 0.0424 - acc: 0.9867 - val_loss: 0.1304 - val_acc: 0.9681\n",
            "Epoch 837/1500\n",
            "12149/12149 [==============================] - 2s 133us/step - loss: 0.0461 - acc: 0.9850 - val_loss: 0.1251 - val_acc: 0.9644\n",
            "Epoch 838/1500\n",
            "12149/12149 [==============================] - 2s 156us/step - loss: 0.0465 - acc: 0.9839 - val_loss: 0.1435 - val_acc: 0.9652\n",
            "Epoch 839/1500\n",
            "12149/12149 [==============================] - 2s 154us/step - loss: 0.0465 - acc: 0.9853 - val_loss: 0.1248 - val_acc: 0.9696\n",
            "Epoch 840/1500\n",
            "12149/12149 [==============================] - 2s 151us/step - loss: 0.0442 - acc: 0.9854 - val_loss: 0.1400 - val_acc: 0.9659\n",
            "Epoch 841/1500\n",
            "12149/12149 [==============================] - 2s 149us/step - loss: 0.0436 - acc: 0.9850 - val_loss: 0.1254 - val_acc: 0.9696\n",
            "Epoch 842/1500\n",
            "12149/12149 [==============================] - 2s 148us/step - loss: 0.0422 - acc: 0.9863 - val_loss: 0.1234 - val_acc: 0.9689\n",
            "Epoch 843/1500\n",
            "12149/12149 [==============================] - 2s 141us/step - loss: 0.0513 - acc: 0.9831 - val_loss: 0.1384 - val_acc: 0.9704\n",
            "Epoch 844/1500\n",
            "12149/12149 [==============================] - 2s 130us/step - loss: 0.0441 - acc: 0.9855 - val_loss: 0.1254 - val_acc: 0.9674\n",
            "Epoch 845/1500\n",
            "12149/12149 [==============================] - 2s 132us/step - loss: 0.0465 - acc: 0.9837 - val_loss: 0.1306 - val_acc: 0.9711\n",
            "Epoch 846/1500\n",
            "12149/12149 [==============================] - 2s 130us/step - loss: 0.0468 - acc: 0.9853 - val_loss: 0.1119 - val_acc: 0.9689\n",
            "Epoch 847/1500\n",
            "12149/12149 [==============================] - 2s 129us/step - loss: 0.0452 - acc: 0.9845 - val_loss: 0.1111 - val_acc: 0.9704\n",
            "Epoch 848/1500\n",
            "12149/12149 [==============================] - 2s 131us/step - loss: 0.0433 - acc: 0.9862 - val_loss: 0.1145 - val_acc: 0.9696\n",
            "Epoch 849/1500\n",
            "12149/12149 [==============================] - 2s 130us/step - loss: 0.0433 - acc: 0.9853 - val_loss: 0.1189 - val_acc: 0.9733\n",
            "Epoch 850/1500\n",
            "12149/12149 [==============================] - 2s 127us/step - loss: 0.0445 - acc: 0.9849 - val_loss: 0.1163 - val_acc: 0.9733\n",
            "Epoch 851/1500\n",
            "12149/12149 [==============================] - 2s 131us/step - loss: 0.0442 - acc: 0.9853 - val_loss: 0.1193 - val_acc: 0.9711\n",
            "Epoch 852/1500\n",
            "12149/12149 [==============================] - 2s 128us/step - loss: 0.0439 - acc: 0.9846 - val_loss: 0.1200 - val_acc: 0.9681\n",
            "Epoch 853/1500\n",
            "12149/12149 [==============================] - 2s 129us/step - loss: 0.0436 - acc: 0.9852 - val_loss: 0.1209 - val_acc: 0.9659\n",
            "Epoch 854/1500\n",
            "12149/12149 [==============================] - 2s 130us/step - loss: 0.0462 - acc: 0.9840 - val_loss: 0.1217 - val_acc: 0.9659\n",
            "Epoch 855/1500\n",
            "12149/12149 [==============================] - 2s 132us/step - loss: 0.0522 - acc: 0.9838 - val_loss: 0.1188 - val_acc: 0.9652\n",
            "Epoch 856/1500\n",
            "12149/12149 [==============================] - 2s 131us/step - loss: 0.0421 - acc: 0.9859 - val_loss: 0.1300 - val_acc: 0.9704\n",
            "Epoch 857/1500\n",
            "12149/12149 [==============================] - 2s 130us/step - loss: 0.0438 - acc: 0.9852 - val_loss: 0.1228 - val_acc: 0.9711\n",
            "Epoch 858/1500\n",
            "12149/12149 [==============================] - 2s 130us/step - loss: 0.0444 - acc: 0.9857 - val_loss: 0.1343 - val_acc: 0.9681\n",
            "Epoch 859/1500\n",
            "12149/12149 [==============================] - 2s 132us/step - loss: 0.0464 - acc: 0.9840 - val_loss: 0.1124 - val_acc: 0.9719\n",
            "Epoch 860/1500\n",
            "12149/12149 [==============================] - 2s 130us/step - loss: 0.0469 - acc: 0.9844 - val_loss: 0.1351 - val_acc: 0.9689\n",
            "Epoch 861/1500\n",
            "12149/12149 [==============================] - 2s 132us/step - loss: 0.0439 - acc: 0.9854 - val_loss: 0.1310 - val_acc: 0.9622\n",
            "Epoch 862/1500\n",
            "12149/12149 [==============================] - 2s 133us/step - loss: 0.0439 - acc: 0.9850 - val_loss: 0.1094 - val_acc: 0.9741\n",
            "Epoch 863/1500\n",
            "12149/12149 [==============================] - 2s 132us/step - loss: 0.0429 - acc: 0.9850 - val_loss: 0.1127 - val_acc: 0.9733\n",
            "Epoch 864/1500\n",
            "12149/12149 [==============================] - 2s 132us/step - loss: 0.0429 - acc: 0.9858 - val_loss: 0.1313 - val_acc: 0.9681\n",
            "Epoch 865/1500\n",
            "12149/12149 [==============================] - 2s 131us/step - loss: 0.0442 - acc: 0.9853 - val_loss: 0.1290 - val_acc: 0.9644\n",
            "Epoch 866/1500\n",
            "12149/12149 [==============================] - 2s 130us/step - loss: 0.0428 - acc: 0.9858 - val_loss: 0.1191 - val_acc: 0.9711\n",
            "Epoch 867/1500\n",
            "12149/12149 [==============================] - 2s 136us/step - loss: 0.0440 - acc: 0.9856 - val_loss: 0.1189 - val_acc: 0.9719\n",
            "Epoch 868/1500\n",
            "12149/12149 [==============================] - 2s 130us/step - loss: 0.0462 - acc: 0.9854 - val_loss: 0.1144 - val_acc: 0.9704\n",
            "Epoch 869/1500\n",
            "12149/12149 [==============================] - 2s 132us/step - loss: 0.0457 - acc: 0.9850 - val_loss: 0.1188 - val_acc: 0.9733\n",
            "Epoch 870/1500\n",
            "12149/12149 [==============================] - 2s 133us/step - loss: 0.0401 - acc: 0.9872 - val_loss: 0.1125 - val_acc: 0.9711\n",
            "Epoch 871/1500\n",
            "12149/12149 [==============================] - 2s 133us/step - loss: 0.0423 - acc: 0.9857 - val_loss: 0.1169 - val_acc: 0.9726\n",
            "Epoch 872/1500\n",
            "12149/12149 [==============================] - 2s 132us/step - loss: 0.0447 - acc: 0.9858 - val_loss: 0.1191 - val_acc: 0.9689\n",
            "Epoch 873/1500\n",
            "12149/12149 [==============================] - 2s 128us/step - loss: 0.0461 - acc: 0.9844 - val_loss: 0.1152 - val_acc: 0.9696\n",
            "Epoch 874/1500\n",
            "12149/12149 [==============================] - 2s 131us/step - loss: 0.0424 - acc: 0.9853 - val_loss: 0.1181 - val_acc: 0.9733\n",
            "Epoch 875/1500\n",
            "12149/12149 [==============================] - 2s 131us/step - loss: 0.0433 - acc: 0.9857 - val_loss: 0.1219 - val_acc: 0.9689\n",
            "Epoch 876/1500\n",
            "12149/12149 [==============================] - 2s 135us/step - loss: 0.0437 - acc: 0.9852 - val_loss: 0.1283 - val_acc: 0.9637\n",
            "Epoch 877/1500\n",
            "12149/12149 [==============================] - 2s 129us/step - loss: 0.0436 - acc: 0.9852 - val_loss: 0.1240 - val_acc: 0.9622\n",
            "Epoch 878/1500\n",
            "12149/12149 [==============================] - 2s 130us/step - loss: 0.0447 - acc: 0.9853 - val_loss: 0.1074 - val_acc: 0.9696\n",
            "Epoch 879/1500\n",
            "12149/12149 [==============================] - 2s 129us/step - loss: 0.0453 - acc: 0.9843 - val_loss: 0.1290 - val_acc: 0.9659\n",
            "Epoch 880/1500\n",
            "12149/12149 [==============================] - 2s 129us/step - loss: 0.0420 - acc: 0.9867 - val_loss: 0.1334 - val_acc: 0.9681\n",
            "Epoch 881/1500\n",
            "12149/12149 [==============================] - 2s 129us/step - loss: 0.0445 - acc: 0.9846 - val_loss: 0.1168 - val_acc: 0.9719\n",
            "Epoch 882/1500\n",
            "12149/12149 [==============================] - 2s 130us/step - loss: 0.0472 - acc: 0.9847 - val_loss: 0.1197 - val_acc: 0.9704\n",
            "Epoch 883/1500\n",
            "12149/12149 [==============================] - 2s 128us/step - loss: 0.0419 - acc: 0.9866 - val_loss: 0.1136 - val_acc: 0.9689\n",
            "Epoch 884/1500\n",
            "12149/12149 [==============================] - 2s 132us/step - loss: 0.0411 - acc: 0.9854 - val_loss: 0.1219 - val_acc: 0.9674\n",
            "Epoch 885/1500\n",
            "12149/12149 [==============================] - 2s 130us/step - loss: 0.0461 - acc: 0.9852 - val_loss: 0.1181 - val_acc: 0.9748\n",
            "Epoch 886/1500\n",
            "12149/12149 [==============================] - 2s 129us/step - loss: 0.0417 - acc: 0.9865 - val_loss: 0.1164 - val_acc: 0.9748\n",
            "Epoch 887/1500\n",
            "12149/12149 [==============================] - 2s 128us/step - loss: 0.0449 - acc: 0.9858 - val_loss: 0.1257 - val_acc: 0.9719\n",
            "Epoch 888/1500\n",
            "12149/12149 [==============================] - 2s 129us/step - loss: 0.0447 - acc: 0.9854 - val_loss: 0.1367 - val_acc: 0.9659\n",
            "Epoch 889/1500\n",
            "12149/12149 [==============================] - 2s 128us/step - loss: 0.0442 - acc: 0.9857 - val_loss: 0.1209 - val_acc: 0.9659\n",
            "Epoch 890/1500\n",
            "12149/12149 [==============================] - 2s 130us/step - loss: 0.0418 - acc: 0.9859 - val_loss: 0.1205 - val_acc: 0.9674\n",
            "Epoch 891/1500\n",
            "12149/12149 [==============================] - 2s 129us/step - loss: 0.0465 - acc: 0.9854 - val_loss: 0.1236 - val_acc: 0.9696\n",
            "Epoch 892/1500\n",
            "12149/12149 [==============================] - 2s 130us/step - loss: 0.0415 - acc: 0.9864 - val_loss: 0.1206 - val_acc: 0.9719\n",
            "Epoch 893/1500\n",
            "12149/12149 [==============================] - 2s 129us/step - loss: 0.0458 - acc: 0.9849 - val_loss: 0.1271 - val_acc: 0.9681\n",
            "Epoch 894/1500\n",
            "12149/12149 [==============================] - 2s 130us/step - loss: 0.0431 - acc: 0.9856 - val_loss: 0.1217 - val_acc: 0.9681\n",
            "Epoch 895/1500\n",
            "12149/12149 [==============================] - 2s 129us/step - loss: 0.0394 - acc: 0.9874 - val_loss: 0.1303 - val_acc: 0.9674\n",
            "Epoch 896/1500\n",
            "12149/12149 [==============================] - 2s 132us/step - loss: 0.0474 - acc: 0.9836 - val_loss: 0.1228 - val_acc: 0.9741\n",
            "Epoch 897/1500\n",
            "12149/12149 [==============================] - 2s 131us/step - loss: 0.0431 - acc: 0.9852 - val_loss: 0.1536 - val_acc: 0.9659\n",
            "Epoch 898/1500\n",
            "12149/12149 [==============================] - 2s 132us/step - loss: 0.0442 - acc: 0.9856 - val_loss: 0.1217 - val_acc: 0.9741\n",
            "Epoch 899/1500\n",
            "12149/12149 [==============================] - 2s 130us/step - loss: 0.0419 - acc: 0.9853 - val_loss: 0.1156 - val_acc: 0.9748\n",
            "Epoch 900/1500\n",
            "12149/12149 [==============================] - 2s 131us/step - loss: 0.0453 - acc: 0.9839 - val_loss: 0.1388 - val_acc: 0.9674\n",
            "Epoch 901/1500\n",
            "12149/12149 [==============================] - 2s 132us/step - loss: 0.0435 - acc: 0.9858 - val_loss: 0.1190 - val_acc: 0.9741\n",
            "Epoch 902/1500\n",
            "12149/12149 [==============================] - 2s 132us/step - loss: 0.0422 - acc: 0.9850 - val_loss: 0.1362 - val_acc: 0.9711\n",
            "Epoch 903/1500\n",
            "12149/12149 [==============================] - 2s 130us/step - loss: 0.0446 - acc: 0.9856 - val_loss: 0.1558 - val_acc: 0.9607\n",
            "Epoch 904/1500\n",
            "12149/12149 [==============================] - 2s 132us/step - loss: 0.0431 - acc: 0.9845 - val_loss: 0.1414 - val_acc: 0.9674\n",
            "Epoch 905/1500\n",
            "12149/12149 [==============================] - 2s 130us/step - loss: 0.0440 - acc: 0.9849 - val_loss: 0.1249 - val_acc: 0.9741\n",
            "Epoch 906/1500\n",
            "12149/12149 [==============================] - 2s 128us/step - loss: 0.0425 - acc: 0.9854 - val_loss: 0.1247 - val_acc: 0.9733\n",
            "Epoch 907/1500\n",
            "12149/12149 [==============================] - 2s 130us/step - loss: 0.0417 - acc: 0.9857 - val_loss: 0.1296 - val_acc: 0.9704\n",
            "Epoch 908/1500\n",
            "12149/12149 [==============================] - 2s 131us/step - loss: 0.0423 - acc: 0.9850 - val_loss: 0.1310 - val_acc: 0.9696\n",
            "Epoch 909/1500\n",
            "12149/12149 [==============================] - 2s 129us/step - loss: 0.0471 - acc: 0.9849 - val_loss: 0.1273 - val_acc: 0.9674\n",
            "Epoch 910/1500\n",
            "12149/12149 [==============================] - 2s 131us/step - loss: 0.0455 - acc: 0.9850 - val_loss: 0.1133 - val_acc: 0.9748\n",
            "Epoch 911/1500\n",
            "12149/12149 [==============================] - 2s 128us/step - loss: 0.0421 - acc: 0.9852 - val_loss: 0.1249 - val_acc: 0.9711\n",
            "Epoch 912/1500\n",
            "12149/12149 [==============================] - 2s 130us/step - loss: 0.0456 - acc: 0.9850 - val_loss: 0.1348 - val_acc: 0.9652\n",
            "Epoch 913/1500\n",
            "12149/12149 [==============================] - 2s 132us/step - loss: 0.0438 - acc: 0.9854 - val_loss: 0.1333 - val_acc: 0.9681\n",
            "Epoch 914/1500\n",
            "12149/12149 [==============================] - 2s 132us/step - loss: 0.0462 - acc: 0.9843 - val_loss: 0.1150 - val_acc: 0.9689\n",
            "Epoch 915/1500\n",
            "12149/12149 [==============================] - 2s 132us/step - loss: 0.0401 - acc: 0.9860 - val_loss: 0.1278 - val_acc: 0.9733\n",
            "Epoch 916/1500\n",
            "12149/12149 [==============================] - 2s 134us/step - loss: 0.0430 - acc: 0.9866 - val_loss: 0.1380 - val_acc: 0.9696\n",
            "Epoch 917/1500\n",
            "12149/12149 [==============================] - 2s 132us/step - loss: 0.0424 - acc: 0.9863 - val_loss: 0.1058 - val_acc: 0.9733\n",
            "Epoch 918/1500\n",
            "12149/12149 [==============================] - 2s 129us/step - loss: 0.0455 - acc: 0.9847 - val_loss: 0.1216 - val_acc: 0.9681\n",
            "Epoch 919/1500\n",
            "12149/12149 [==============================] - 2s 130us/step - loss: 0.0431 - acc: 0.9853 - val_loss: 0.1266 - val_acc: 0.9711\n",
            "Epoch 920/1500\n",
            "12149/12149 [==============================] - 2s 129us/step - loss: 0.0403 - acc: 0.9864 - val_loss: 0.1297 - val_acc: 0.9741\n",
            "Epoch 921/1500\n",
            "12149/12149 [==============================] - 2s 132us/step - loss: 0.0444 - acc: 0.9856 - val_loss: 0.1250 - val_acc: 0.9696\n",
            "Epoch 922/1500\n",
            "12149/12149 [==============================] - 2s 129us/step - loss: 0.0436 - acc: 0.9849 - val_loss: 0.1352 - val_acc: 0.9674\n",
            "Epoch 923/1500\n",
            "12149/12149 [==============================] - 2s 131us/step - loss: 0.0436 - acc: 0.9847 - val_loss: 0.1301 - val_acc: 0.9659\n",
            "Epoch 924/1500\n",
            "12149/12149 [==============================] - 2s 129us/step - loss: 0.0426 - acc: 0.9860 - val_loss: 0.1632 - val_acc: 0.9689\n",
            "Epoch 925/1500\n",
            "12149/12149 [==============================] - 2s 129us/step - loss: 0.0443 - acc: 0.9851 - val_loss: 0.1338 - val_acc: 0.9711\n",
            "Epoch 926/1500\n",
            "12149/12149 [==============================] - 2s 131us/step - loss: 0.0427 - acc: 0.9867 - val_loss: 0.1218 - val_acc: 0.9733\n",
            "Epoch 927/1500\n",
            "12149/12149 [==============================] - 2s 131us/step - loss: 0.0438 - acc: 0.9853 - val_loss: 0.1439 - val_acc: 0.9696\n",
            "Epoch 928/1500\n",
            "12149/12149 [==============================] - 2s 131us/step - loss: 0.0501 - acc: 0.9845 - val_loss: 0.1069 - val_acc: 0.9741\n",
            "Epoch 929/1500\n",
            "12149/12149 [==============================] - 2s 132us/step - loss: 0.0442 - acc: 0.9845 - val_loss: 0.1548 - val_acc: 0.9622\n",
            "Epoch 930/1500\n",
            "12149/12149 [==============================] - 2s 129us/step - loss: 0.0441 - acc: 0.9849 - val_loss: 0.1233 - val_acc: 0.9696\n",
            "Epoch 931/1500\n",
            "12149/12149 [==============================] - 2s 128us/step - loss: 0.0415 - acc: 0.9861 - val_loss: 0.1370 - val_acc: 0.9704\n",
            "Epoch 932/1500\n",
            "12149/12149 [==============================] - 2s 129us/step - loss: 0.0431 - acc: 0.9857 - val_loss: 0.1092 - val_acc: 0.9719\n",
            "Epoch 933/1500\n",
            "12149/12149 [==============================] - 2s 130us/step - loss: 0.0410 - acc: 0.9863 - val_loss: 0.1213 - val_acc: 0.9689\n",
            "Epoch 934/1500\n",
            "12149/12149 [==============================] - 2s 129us/step - loss: 0.0428 - acc: 0.9853 - val_loss: 0.1338 - val_acc: 0.9622\n",
            "Epoch 935/1500\n",
            "12149/12149 [==============================] - 2s 130us/step - loss: 0.0428 - acc: 0.9856 - val_loss: 0.1310 - val_acc: 0.9733\n",
            "Epoch 936/1500\n",
            "12149/12149 [==============================] - 2s 128us/step - loss: 0.0448 - acc: 0.9855 - val_loss: 0.1397 - val_acc: 0.9652\n",
            "Epoch 937/1500\n",
            "12149/12149 [==============================] - 2s 130us/step - loss: 0.0432 - acc: 0.9857 - val_loss: 0.1234 - val_acc: 0.9696\n",
            "Epoch 938/1500\n",
            "12149/12149 [==============================] - 2s 129us/step - loss: 0.0454 - acc: 0.9854 - val_loss: 0.1300 - val_acc: 0.9681\n",
            "Epoch 939/1500\n",
            "12149/12149 [==============================] - 2s 131us/step - loss: 0.0412 - acc: 0.9859 - val_loss: 0.1147 - val_acc: 0.9741\n",
            "Epoch 940/1500\n",
            "12149/12149 [==============================] - 2s 131us/step - loss: 0.0426 - acc: 0.9863 - val_loss: 0.1348 - val_acc: 0.9689\n",
            "Epoch 941/1500\n",
            "12149/12149 [==============================] - 2s 131us/step - loss: 0.0511 - acc: 0.9841 - val_loss: 0.1254 - val_acc: 0.9674\n",
            "Epoch 942/1500\n",
            "12149/12149 [==============================] - 2s 134us/step - loss: 0.0405 - acc: 0.9859 - val_loss: 0.1467 - val_acc: 0.9637\n",
            "Epoch 943/1500\n",
            "12149/12149 [==============================] - 2s 131us/step - loss: 0.0429 - acc: 0.9863 - val_loss: 0.1302 - val_acc: 0.9704\n",
            "Epoch 944/1500\n",
            "12149/12149 [==============================] - 2s 131us/step - loss: 0.0439 - acc: 0.9858 - val_loss: 0.1304 - val_acc: 0.9704\n",
            "Epoch 945/1500\n",
            "12149/12149 [==============================] - 2s 132us/step - loss: 0.0438 - acc: 0.9859 - val_loss: 0.1186 - val_acc: 0.9689\n",
            "Epoch 946/1500\n",
            "12149/12149 [==============================] - 2s 134us/step - loss: 0.0415 - acc: 0.9853 - val_loss: 0.1240 - val_acc: 0.9696\n",
            "Epoch 947/1500\n",
            "12149/12149 [==============================] - 2s 130us/step - loss: 0.0423 - acc: 0.9864 - val_loss: 0.1392 - val_acc: 0.9622\n",
            "Epoch 948/1500\n",
            "12149/12149 [==============================] - 2s 132us/step - loss: 0.0450 - acc: 0.9843 - val_loss: 0.1132 - val_acc: 0.9748\n",
            "Epoch 949/1500\n",
            "12149/12149 [==============================] - 2s 129us/step - loss: 0.0455 - acc: 0.9849 - val_loss: 0.1247 - val_acc: 0.9711\n",
            "Epoch 950/1500\n",
            "12149/12149 [==============================] - 2s 131us/step - loss: 0.0408 - acc: 0.9864 - val_loss: 0.1261 - val_acc: 0.9704\n",
            "Epoch 951/1500\n",
            "12149/12149 [==============================] - 2s 131us/step - loss: 0.0457 - acc: 0.9853 - val_loss: 0.1379 - val_acc: 0.9615\n",
            "Epoch 952/1500\n",
            "12149/12149 [==============================] - 2s 129us/step - loss: 0.0444 - acc: 0.9848 - val_loss: 0.1059 - val_acc: 0.9748\n",
            "Epoch 953/1500\n",
            "12149/12149 [==============================] - 2s 128us/step - loss: 0.0411 - acc: 0.9865 - val_loss: 0.1651 - val_acc: 0.9667\n",
            "Epoch 954/1500\n",
            "12149/12149 [==============================] - 2s 130us/step - loss: 0.0463 - acc: 0.9846 - val_loss: 0.1315 - val_acc: 0.9689\n",
            "Epoch 955/1500\n",
            "12149/12149 [==============================] - 2s 132us/step - loss: 0.0434 - acc: 0.9849 - val_loss: 0.1298 - val_acc: 0.9726\n",
            "Epoch 956/1500\n",
            "12149/12149 [==============================] - 2s 131us/step - loss: 0.0461 - acc: 0.9839 - val_loss: 0.1232 - val_acc: 0.9726\n",
            "Epoch 957/1500\n",
            "12149/12149 [==============================] - 2s 131us/step - loss: 0.0447 - acc: 0.9846 - val_loss: 0.1064 - val_acc: 0.9689\n",
            "Epoch 958/1500\n",
            "12149/12149 [==============================] - 2s 131us/step - loss: 0.0456 - acc: 0.9852 - val_loss: 0.1170 - val_acc: 0.9719\n",
            "Epoch 959/1500\n",
            "12149/12149 [==============================] - 2s 129us/step - loss: 0.0407 - acc: 0.9864 - val_loss: 0.1212 - val_acc: 0.9689\n",
            "Epoch 960/1500\n",
            "12149/12149 [==============================] - 2s 130us/step - loss: 0.0432 - acc: 0.9855 - val_loss: 0.1296 - val_acc: 0.9726\n",
            "Epoch 961/1500\n",
            "12149/12149 [==============================] - 2s 129us/step - loss: 0.0416 - acc: 0.9857 - val_loss: 0.1270 - val_acc: 0.9667\n",
            "Epoch 962/1500\n",
            "12149/12149 [==============================] - 2s 130us/step - loss: 0.0464 - acc: 0.9846 - val_loss: 0.1427 - val_acc: 0.9689\n",
            "Epoch 963/1500\n",
            "12149/12149 [==============================] - 2s 130us/step - loss: 0.0421 - acc: 0.9858 - val_loss: 0.1271 - val_acc: 0.9704\n",
            "Epoch 964/1500\n",
            "12149/12149 [==============================] - 2s 130us/step - loss: 0.0409 - acc: 0.9854 - val_loss: 0.1273 - val_acc: 0.9719\n",
            "Epoch 965/1500\n",
            "12149/12149 [==============================] - 2s 131us/step - loss: 0.0457 - acc: 0.9853 - val_loss: 0.1143 - val_acc: 0.9748\n",
            "Epoch 966/1500\n",
            "12149/12149 [==============================] - 2s 128us/step - loss: 0.0401 - acc: 0.9868 - val_loss: 0.1182 - val_acc: 0.9763\n",
            "Epoch 967/1500\n",
            "12149/12149 [==============================] - 2s 132us/step - loss: 0.0428 - acc: 0.9856 - val_loss: 0.1268 - val_acc: 0.9719\n",
            "Epoch 968/1500\n",
            "12149/12149 [==============================] - 2s 129us/step - loss: 0.0447 - acc: 0.9848 - val_loss: 0.1361 - val_acc: 0.9689\n",
            "Epoch 969/1500\n",
            "12149/12149 [==============================] - 2s 132us/step - loss: 0.0402 - acc: 0.9857 - val_loss: 0.1301 - val_acc: 0.9681\n",
            "Epoch 970/1500\n",
            "12149/12149 [==============================] - 2s 130us/step - loss: 0.0437 - acc: 0.9851 - val_loss: 0.1216 - val_acc: 0.9644\n",
            "Epoch 971/1500\n",
            "12149/12149 [==============================] - 2s 130us/step - loss: 0.0430 - acc: 0.9863 - val_loss: 0.1299 - val_acc: 0.9696\n",
            "Epoch 972/1500\n",
            "12149/12149 [==============================] - 2s 129us/step - loss: 0.0407 - acc: 0.9855 - val_loss: 0.1260 - val_acc: 0.9741\n",
            "Epoch 973/1500\n",
            "12149/12149 [==============================] - 2s 130us/step - loss: 0.0401 - acc: 0.9860 - val_loss: 0.1138 - val_acc: 0.9741\n",
            "Epoch 974/1500\n",
            "12149/12149 [==============================] - 2s 129us/step - loss: 0.0407 - acc: 0.9863 - val_loss: 0.1319 - val_acc: 0.9667\n",
            "Epoch 975/1500\n",
            "12149/12149 [==============================] - 2s 130us/step - loss: 0.0425 - acc: 0.9857 - val_loss: 0.1317 - val_acc: 0.9711\n",
            "Epoch 976/1500\n",
            "12149/12149 [==============================] - 2s 130us/step - loss: 0.0432 - acc: 0.9860 - val_loss: 0.1457 - val_acc: 0.9689\n",
            "Epoch 977/1500\n",
            "12149/12149 [==============================] - 2s 129us/step - loss: 0.0453 - acc: 0.9836 - val_loss: 0.1385 - val_acc: 0.9681\n",
            "Epoch 978/1500\n",
            "12149/12149 [==============================] - 2s 128us/step - loss: 0.0456 - acc: 0.9848 - val_loss: 0.1385 - val_acc: 0.9696\n",
            "Epoch 979/1500\n",
            "12149/12149 [==============================] - 2s 129us/step - loss: 0.0412 - acc: 0.9865 - val_loss: 0.1239 - val_acc: 0.9726\n",
            "Epoch 980/1500\n",
            "12149/12149 [==============================] - 2s 130us/step - loss: 0.0420 - acc: 0.9864 - val_loss: 0.1402 - val_acc: 0.9681\n",
            "Epoch 981/1500\n",
            "12149/12149 [==============================] - 2s 132us/step - loss: 0.0418 - acc: 0.9861 - val_loss: 0.1310 - val_acc: 0.9681\n",
            "Epoch 982/1500\n",
            "12149/12149 [==============================] - 2s 131us/step - loss: 0.0456 - acc: 0.9842 - val_loss: 0.1380 - val_acc: 0.9711\n",
            "Epoch 983/1500\n",
            "12149/12149 [==============================] - 2s 132us/step - loss: 0.0443 - acc: 0.9855 - val_loss: 0.1134 - val_acc: 0.9711\n",
            "Epoch 984/1500\n",
            "12149/12149 [==============================] - 2s 131us/step - loss: 0.0443 - acc: 0.9861 - val_loss: 0.1207 - val_acc: 0.9719\n",
            "Epoch 985/1500\n",
            "12149/12149 [==============================] - 2s 131us/step - loss: 0.0434 - acc: 0.9858 - val_loss: 0.1344 - val_acc: 0.9659\n",
            "Epoch 986/1500\n",
            "12149/12149 [==============================] - 2s 129us/step - loss: 0.0431 - acc: 0.9852 - val_loss: 0.1200 - val_acc: 0.9763\n",
            "Epoch 987/1500\n",
            "12149/12149 [==============================] - 2s 132us/step - loss: 0.0430 - acc: 0.9862 - val_loss: 0.1276 - val_acc: 0.9741\n",
            "Epoch 988/1500\n",
            "12149/12149 [==============================] - 2s 129us/step - loss: 0.0412 - acc: 0.9865 - val_loss: 0.1215 - val_acc: 0.9719\n",
            "Epoch 989/1500\n",
            "12149/12149 [==============================] - 2s 130us/step - loss: 0.0429 - acc: 0.9853 - val_loss: 0.1332 - val_acc: 0.9674\n",
            "Epoch 990/1500\n",
            "12149/12149 [==============================] - 2s 131us/step - loss: 0.0470 - acc: 0.9839 - val_loss: 0.1237 - val_acc: 0.9704\n",
            "Epoch 991/1500\n",
            "12149/12149 [==============================] - 2s 129us/step - loss: 0.0458 - acc: 0.9845 - val_loss: 0.1192 - val_acc: 0.9741\n",
            "Epoch 992/1500\n",
            "12149/12149 [==============================] - 2s 130us/step - loss: 0.0447 - acc: 0.9849 - val_loss: 0.1440 - val_acc: 0.9667\n",
            "Epoch 993/1500\n",
            "12149/12149 [==============================] - 2s 131us/step - loss: 0.0421 - acc: 0.9853 - val_loss: 0.1304 - val_acc: 0.9726\n",
            "Epoch 994/1500\n",
            "12149/12149 [==============================] - 2s 129us/step - loss: 0.0421 - acc: 0.9860 - val_loss: 0.1421 - val_acc: 0.9667\n",
            "Epoch 995/1500\n",
            "12149/12149 [==============================] - 2s 129us/step - loss: 0.0451 - acc: 0.9845 - val_loss: 0.1312 - val_acc: 0.9741\n",
            "Epoch 996/1500\n",
            "12149/12149 [==============================] - 2s 129us/step - loss: 0.0391 - acc: 0.9866 - val_loss: 0.1271 - val_acc: 0.9733\n",
            "Epoch 997/1500\n",
            "12149/12149 [==============================] - 2s 129us/step - loss: 0.0446 - acc: 0.9853 - val_loss: 0.1219 - val_acc: 0.9689\n",
            "Epoch 998/1500\n",
            "12149/12149 [==============================] - 2s 128us/step - loss: 0.0413 - acc: 0.9859 - val_loss: 0.1229 - val_acc: 0.9748\n",
            "Epoch 999/1500\n",
            "12149/12149 [==============================] - 2s 128us/step - loss: 0.0424 - acc: 0.9863 - val_loss: 0.1636 - val_acc: 0.9704\n",
            "Epoch 1000/1500\n",
            "12149/12149 [==============================] - 2s 130us/step - loss: 0.0433 - acc: 0.9858 - val_loss: 0.1477 - val_acc: 0.9689\n",
            "Epoch 1001/1500\n",
            "12149/12149 [==============================] - 2s 131us/step - loss: 0.0445 - acc: 0.9849 - val_loss: 0.1256 - val_acc: 0.9696\n",
            "Epoch 1002/1500\n",
            "12149/12149 [==============================] - 2s 128us/step - loss: 0.0437 - acc: 0.9844 - val_loss: 0.1284 - val_acc: 0.9704\n",
            "Epoch 1003/1500\n",
            "12149/12149 [==============================] - 2s 128us/step - loss: 0.0403 - acc: 0.9867 - val_loss: 0.1319 - val_acc: 0.9674\n",
            "Epoch 1004/1500\n",
            "12149/12149 [==============================] - 2s 129us/step - loss: 0.0416 - acc: 0.9862 - val_loss: 0.1337 - val_acc: 0.9659\n",
            "Epoch 1005/1500\n",
            "12149/12149 [==============================] - 2s 131us/step - loss: 0.0431 - acc: 0.9849 - val_loss: 0.1340 - val_acc: 0.9674\n",
            "Epoch 1006/1500\n",
            "12149/12149 [==============================] - 2s 129us/step - loss: 0.0418 - acc: 0.9861 - val_loss: 0.1278 - val_acc: 0.9726\n",
            "Epoch 1007/1500\n",
            "12149/12149 [==============================] - 2s 128us/step - loss: 0.0445 - acc: 0.9853 - val_loss: 0.1303 - val_acc: 0.9756\n",
            "Epoch 1008/1500\n",
            "12149/12149 [==============================] - 2s 130us/step - loss: 0.0432 - acc: 0.9861 - val_loss: 0.1221 - val_acc: 0.9733\n",
            "Epoch 1009/1500\n",
            "12149/12149 [==============================] - 2s 129us/step - loss: 0.0426 - acc: 0.9856 - val_loss: 0.1292 - val_acc: 0.9704\n",
            "Epoch 1010/1500\n",
            "12149/12149 [==============================] - 2s 130us/step - loss: 0.0443 - acc: 0.9857 - val_loss: 0.1278 - val_acc: 0.9711\n",
            "Epoch 1011/1500\n",
            "12149/12149 [==============================] - 2s 130us/step - loss: 0.0392 - acc: 0.9863 - val_loss: 0.1320 - val_acc: 0.9711\n",
            "Epoch 1012/1500\n",
            "12149/12149 [==============================] - 2s 129us/step - loss: 0.0400 - acc: 0.9872 - val_loss: 0.1187 - val_acc: 0.9733\n",
            "Epoch 1013/1500\n",
            "12149/12149 [==============================] - 2s 129us/step - loss: 0.0422 - acc: 0.9873 - val_loss: 0.1344 - val_acc: 0.9726\n",
            "Epoch 1014/1500\n",
            "12149/12149 [==============================] - 2s 128us/step - loss: 0.0448 - acc: 0.9844 - val_loss: 0.1491 - val_acc: 0.9637\n",
            "Epoch 1015/1500\n",
            "12149/12149 [==============================] - 2s 128us/step - loss: 0.0442 - acc: 0.9853 - val_loss: 0.1222 - val_acc: 0.9719\n",
            "Epoch 1016/1500\n",
            "12149/12149 [==============================] - 2s 149us/step - loss: 0.0430 - acc: 0.9861 - val_loss: 0.1335 - val_acc: 0.9681\n",
            "Epoch 1017/1500\n",
            "12149/12149 [==============================] - 2s 153us/step - loss: 0.0417 - acc: 0.9848 - val_loss: 0.1449 - val_acc: 0.9681\n",
            "Epoch 1018/1500\n",
            "12149/12149 [==============================] - 2s 156us/step - loss: 0.0491 - acc: 0.9843 - val_loss: 0.1335 - val_acc: 0.9726\n",
            "Epoch 1019/1500\n",
            "12149/12149 [==============================] - 2s 131us/step - loss: 0.0441 - acc: 0.9848 - val_loss: 0.1174 - val_acc: 0.9704\n",
            "Epoch 1020/1500\n",
            "12149/12149 [==============================] - 2s 130us/step - loss: 0.0415 - acc: 0.9858 - val_loss: 0.1280 - val_acc: 0.9704\n",
            "Epoch 1021/1500\n",
            "12149/12149 [==============================] - 2s 130us/step - loss: 0.0454 - acc: 0.9846 - val_loss: 0.1248 - val_acc: 0.9704\n",
            "Epoch 1022/1500\n",
            "12149/12149 [==============================] - 2s 130us/step - loss: 0.0406 - acc: 0.9858 - val_loss: 0.1206 - val_acc: 0.9726\n",
            "Epoch 1023/1500\n",
            "12149/12149 [==============================] - 2s 128us/step - loss: 0.0409 - acc: 0.9868 - val_loss: 0.1253 - val_acc: 0.9741\n",
            "Epoch 1024/1500\n",
            "12149/12149 [==============================] - 2s 130us/step - loss: 0.0460 - acc: 0.9840 - val_loss: 0.1429 - val_acc: 0.9704\n",
            "Epoch 1025/1500\n",
            "12149/12149 [==============================] - 2s 129us/step - loss: 0.0475 - acc: 0.9849 - val_loss: 0.1220 - val_acc: 0.9756\n",
            "Epoch 1026/1500\n",
            "12149/12149 [==============================] - 2s 131us/step - loss: 0.0396 - acc: 0.9862 - val_loss: 0.1207 - val_acc: 0.9711\n",
            "Epoch 1027/1500\n",
            "12149/12149 [==============================] - 2s 129us/step - loss: 0.0434 - acc: 0.9861 - val_loss: 0.1297 - val_acc: 0.9681\n",
            "Epoch 1028/1500\n",
            "12149/12149 [==============================] - 2s 130us/step - loss: 0.0397 - acc: 0.9870 - val_loss: 0.1334 - val_acc: 0.9689\n",
            "Epoch 1029/1500\n",
            "12149/12149 [==============================] - 2s 129us/step - loss: 0.0418 - acc: 0.9852 - val_loss: 0.1271 - val_acc: 0.9704\n",
            "Epoch 1030/1500\n",
            "12149/12149 [==============================] - 2s 131us/step - loss: 0.0424 - acc: 0.9854 - val_loss: 0.1299 - val_acc: 0.9711\n",
            "Epoch 1031/1500\n",
            "12149/12149 [==============================] - 2s 132us/step - loss: 0.0451 - acc: 0.9846 - val_loss: 0.1314 - val_acc: 0.9696\n",
            "Epoch 1032/1500\n",
            "12149/12149 [==============================] - 2s 134us/step - loss: 0.0410 - acc: 0.9853 - val_loss: 0.1205 - val_acc: 0.9696\n",
            "Epoch 1033/1500\n",
            "12149/12149 [==============================] - 2s 153us/step - loss: 0.0441 - acc: 0.9846 - val_loss: 0.1559 - val_acc: 0.9696\n",
            "Epoch 1034/1500\n",
            "12149/12149 [==============================] - 2s 151us/step - loss: 0.0465 - acc: 0.9831 - val_loss: 0.1417 - val_acc: 0.9644\n",
            "Epoch 1035/1500\n",
            "12149/12149 [==============================] - 2s 151us/step - loss: 0.0409 - acc: 0.9856 - val_loss: 0.1337 - val_acc: 0.9711\n",
            "Epoch 1036/1500\n",
            "12149/12149 [==============================] - 2s 151us/step - loss: 0.0436 - acc: 0.9854 - val_loss: 0.1435 - val_acc: 0.9696\n",
            "Epoch 1037/1500\n",
            "12149/12149 [==============================] - 2s 157us/step - loss: 0.0420 - acc: 0.9859 - val_loss: 0.1269 - val_acc: 0.9741\n",
            "Epoch 1038/1500\n",
            "12149/12149 [==============================] - 2s 137us/step - loss: 0.0415 - acc: 0.9861 - val_loss: 0.1337 - val_acc: 0.9719\n",
            "Epoch 1039/1500\n",
            "12149/12149 [==============================] - 2s 128us/step - loss: 0.0476 - acc: 0.9857 - val_loss: 0.1538 - val_acc: 0.9644\n",
            "Epoch 1040/1500\n",
            "12149/12149 [==============================] - 2s 130us/step - loss: 0.0479 - acc: 0.9851 - val_loss: 0.1526 - val_acc: 0.9689\n",
            "Epoch 1041/1500\n",
            "12149/12149 [==============================] - 2s 128us/step - loss: 0.0437 - acc: 0.9861 - val_loss: 0.1486 - val_acc: 0.9711\n",
            "Epoch 1042/1500\n",
            "12149/12149 [==============================] - 2s 131us/step - loss: 0.0456 - acc: 0.9858 - val_loss: 0.1515 - val_acc: 0.9689\n",
            "Epoch 1043/1500\n",
            "12149/12149 [==============================] - 2s 128us/step - loss: 0.0469 - acc: 0.9853 - val_loss: 0.1346 - val_acc: 0.9741\n",
            "Epoch 1044/1500\n",
            "12149/12149 [==============================] - 2s 129us/step - loss: 0.0432 - acc: 0.9860 - val_loss: 0.1190 - val_acc: 0.9748\n",
            "Epoch 1045/1500\n",
            "12149/12149 [==============================] - 2s 129us/step - loss: 0.0496 - acc: 0.9855 - val_loss: 0.1415 - val_acc: 0.9659\n",
            "Epoch 1046/1500\n",
            "12149/12149 [==============================] - 2s 127us/step - loss: 0.0428 - acc: 0.9854 - val_loss: 0.1220 - val_acc: 0.9726\n",
            "Epoch 1047/1500\n",
            "12149/12149 [==============================] - 2s 129us/step - loss: 0.0386 - acc: 0.9869 - val_loss: 0.1468 - val_acc: 0.9689\n",
            "Epoch 1048/1500\n",
            "12149/12149 [==============================] - 2s 129us/step - loss: 0.0473 - acc: 0.9849 - val_loss: 0.1257 - val_acc: 0.9748\n",
            "Epoch 1049/1500\n",
            "12149/12149 [==============================] - 2s 128us/step - loss: 0.0394 - acc: 0.9860 - val_loss: 0.1268 - val_acc: 0.9726\n",
            "Epoch 1050/1500\n",
            "12149/12149 [==============================] - 2s 130us/step - loss: 0.0428 - acc: 0.9855 - val_loss: 0.1446 - val_acc: 0.9667\n",
            "Epoch 1051/1500\n",
            "12149/12149 [==============================] - 2s 131us/step - loss: 0.0404 - acc: 0.9865 - val_loss: 0.1276 - val_acc: 0.9719\n",
            "Epoch 1052/1500\n",
            "12149/12149 [==============================] - 2s 129us/step - loss: 0.0426 - acc: 0.9863 - val_loss: 0.1413 - val_acc: 0.9689\n",
            "Epoch 1053/1500\n",
            "12149/12149 [==============================] - 2s 129us/step - loss: 0.0453 - acc: 0.9858 - val_loss: 0.1196 - val_acc: 0.9733\n",
            "Epoch 1054/1500\n",
            "12149/12149 [==============================] - 2s 130us/step - loss: 0.0403 - acc: 0.9860 - val_loss: 0.1275 - val_acc: 0.9704\n",
            "Epoch 1055/1500\n",
            "12149/12149 [==============================] - 2s 129us/step - loss: 0.0435 - acc: 0.9848 - val_loss: 0.1273 - val_acc: 0.9652\n",
            "Epoch 1056/1500\n",
            "12149/12149 [==============================] - 2s 131us/step - loss: 0.0397 - acc: 0.9873 - val_loss: 0.1222 - val_acc: 0.9711\n",
            "Epoch 1057/1500\n",
            "12149/12149 [==============================] - 2s 130us/step - loss: 0.0437 - acc: 0.9857 - val_loss: 0.1375 - val_acc: 0.9667\n",
            "Epoch 1058/1500\n",
            "12149/12149 [==============================] - 2s 128us/step - loss: 0.0444 - acc: 0.9852 - val_loss: 0.1378 - val_acc: 0.9681\n",
            "Epoch 1059/1500\n",
            "12149/12149 [==============================] - 2s 131us/step - loss: 0.0431 - acc: 0.9862 - val_loss: 0.1502 - val_acc: 0.9659\n",
            "Epoch 1060/1500\n",
            "12149/12149 [==============================] - 2s 130us/step - loss: 0.0410 - acc: 0.9862 - val_loss: 0.1286 - val_acc: 0.9733\n",
            "Epoch 1061/1500\n",
            "12149/12149 [==============================] - 2s 131us/step - loss: 0.0422 - acc: 0.9856 - val_loss: 0.1308 - val_acc: 0.9704\n",
            "Epoch 1062/1500\n",
            "12149/12149 [==============================] - 2s 129us/step - loss: 0.0400 - acc: 0.9853 - val_loss: 0.1182 - val_acc: 0.9689\n",
            "Epoch 1063/1500\n",
            "12149/12149 [==============================] - 2s 128us/step - loss: 0.0428 - acc: 0.9866 - val_loss: 0.1214 - val_acc: 0.9763\n",
            "Epoch 1064/1500\n",
            "12149/12149 [==============================] - 2s 129us/step - loss: 0.0405 - acc: 0.9858 - val_loss: 0.1549 - val_acc: 0.9593\n",
            "Epoch 1065/1500\n",
            "12149/12149 [==============================] - 2s 125us/step - loss: 0.0425 - acc: 0.9846 - val_loss: 0.1251 - val_acc: 0.9726\n",
            "Epoch 1066/1500\n",
            "12149/12149 [==============================] - 2s 127us/step - loss: 0.0408 - acc: 0.9862 - val_loss: 0.1326 - val_acc: 0.9696\n",
            "Epoch 1067/1500\n",
            "12149/12149 [==============================] - 2s 129us/step - loss: 0.0400 - acc: 0.9870 - val_loss: 0.1495 - val_acc: 0.9637\n",
            "Epoch 1068/1500\n",
            "12149/12149 [==============================] - 2s 130us/step - loss: 0.0427 - acc: 0.9852 - val_loss: 0.1411 - val_acc: 0.9652\n",
            "Epoch 1069/1500\n",
            "12149/12149 [==============================] - 2s 128us/step - loss: 0.0445 - acc: 0.9851 - val_loss: 0.1206 - val_acc: 0.9733\n",
            "Epoch 1070/1500\n",
            "12149/12149 [==============================] - 2s 130us/step - loss: 0.0400 - acc: 0.9872 - val_loss: 0.1288 - val_acc: 0.9733\n",
            "Epoch 1071/1500\n",
            "12149/12149 [==============================] - 2s 128us/step - loss: 0.0423 - acc: 0.9853 - val_loss: 0.1319 - val_acc: 0.9711\n",
            "Epoch 1072/1500\n",
            "12149/12149 [==============================] - 2s 131us/step - loss: 0.0403 - acc: 0.9867 - val_loss: 0.1496 - val_acc: 0.9622\n",
            "Epoch 1073/1500\n",
            "12149/12149 [==============================] - 2s 127us/step - loss: 0.0428 - acc: 0.9851 - val_loss: 0.1215 - val_acc: 0.9733\n",
            "Epoch 1074/1500\n",
            "12149/12149 [==============================] - 2s 128us/step - loss: 0.0449 - acc: 0.9854 - val_loss: 0.1302 - val_acc: 0.9689\n",
            "Epoch 1075/1500\n",
            "12149/12149 [==============================] - 2s 130us/step - loss: 0.0441 - acc: 0.9848 - val_loss: 0.1321 - val_acc: 0.9696\n",
            "Epoch 1076/1500\n",
            "12149/12149 [==============================] - 2s 130us/step - loss: 0.0399 - acc: 0.9868 - val_loss: 0.1273 - val_acc: 0.9741\n",
            "Epoch 1077/1500\n",
            "12149/12149 [==============================] - 2s 129us/step - loss: 0.0435 - acc: 0.9849 - val_loss: 0.1294 - val_acc: 0.9681\n",
            "Epoch 1078/1500\n",
            "12149/12149 [==============================] - 2s 129us/step - loss: 0.0406 - acc: 0.9860 - val_loss: 0.1259 - val_acc: 0.9704\n",
            "Epoch 1079/1500\n",
            "12149/12149 [==============================] - 2s 128us/step - loss: 0.0448 - acc: 0.9844 - val_loss: 0.1348 - val_acc: 0.9726\n",
            "Epoch 1080/1500\n",
            "12149/12149 [==============================] - 2s 131us/step - loss: 0.0479 - acc: 0.9852 - val_loss: 0.1202 - val_acc: 0.9719\n",
            "Epoch 1081/1500\n",
            "12149/12149 [==============================] - 2s 128us/step - loss: 0.0415 - acc: 0.9868 - val_loss: 0.1231 - val_acc: 0.9711\n",
            "Epoch 1082/1500\n",
            "12149/12149 [==============================] - 2s 128us/step - loss: 0.0402 - acc: 0.9866 - val_loss: 0.1306 - val_acc: 0.9726\n",
            "Epoch 1083/1500\n",
            "12149/12149 [==============================] - 2s 129us/step - loss: 0.0404 - acc: 0.9873 - val_loss: 0.1532 - val_acc: 0.9674\n",
            "Epoch 1084/1500\n",
            "12149/12149 [==============================] - 2s 131us/step - loss: 0.0422 - acc: 0.9863 - val_loss: 0.1269 - val_acc: 0.9756\n",
            "Epoch 1085/1500\n",
            "12149/12149 [==============================] - 2s 129us/step - loss: 0.0399 - acc: 0.9872 - val_loss: 0.1459 - val_acc: 0.9652\n",
            "Epoch 1086/1500\n",
            "12149/12149 [==============================] - 2s 130us/step - loss: 0.0413 - acc: 0.9863 - val_loss: 0.1388 - val_acc: 0.9711\n",
            "Epoch 1087/1500\n",
            "12149/12149 [==============================] - 2s 130us/step - loss: 0.0415 - acc: 0.9853 - val_loss: 0.1188 - val_acc: 0.9763\n",
            "Epoch 1088/1500\n",
            "12149/12149 [==============================] - 2s 130us/step - loss: 0.0390 - acc: 0.9862 - val_loss: 0.1239 - val_acc: 0.9741\n",
            "Epoch 1089/1500\n",
            "12149/12149 [==============================] - 2s 132us/step - loss: 0.0431 - acc: 0.9857 - val_loss: 0.1414 - val_acc: 0.9704\n",
            "Epoch 1090/1500\n",
            "12149/12149 [==============================] - 2s 131us/step - loss: 0.0409 - acc: 0.9848 - val_loss: 0.1514 - val_acc: 0.9681\n",
            "Epoch 1091/1500\n",
            "12149/12149 [==============================] - 2s 129us/step - loss: 0.0432 - acc: 0.9849 - val_loss: 0.1235 - val_acc: 0.9711\n",
            "Epoch 1092/1500\n",
            "12149/12149 [==============================] - 2s 131us/step - loss: 0.0390 - acc: 0.9872 - val_loss: 0.1343 - val_acc: 0.9719\n",
            "Epoch 1093/1500\n",
            "12149/12149 [==============================] - 2s 132us/step - loss: 0.0410 - acc: 0.9865 - val_loss: 0.1304 - val_acc: 0.9696\n",
            "Epoch 1094/1500\n",
            "12149/12149 [==============================] - 2s 129us/step - loss: 0.0421 - acc: 0.9855 - val_loss: 0.1469 - val_acc: 0.9652\n",
            "Epoch 1095/1500\n",
            "12149/12149 [==============================] - 2s 131us/step - loss: 0.0438 - acc: 0.9855 - val_loss: 0.1430 - val_acc: 0.9681\n",
            "Epoch 1096/1500\n",
            "12149/12149 [==============================] - 2s 132us/step - loss: 0.0436 - acc: 0.9855 - val_loss: 0.1412 - val_acc: 0.9696\n",
            "Epoch 1097/1500\n",
            "12149/12149 [==============================] - 2s 131us/step - loss: 0.0404 - acc: 0.9868 - val_loss: 0.1208 - val_acc: 0.9741\n",
            "Epoch 1098/1500\n",
            "12149/12149 [==============================] - 2s 129us/step - loss: 0.0438 - acc: 0.9855 - val_loss: 0.1573 - val_acc: 0.9674\n",
            "Epoch 1099/1500\n",
            "12149/12149 [==============================] - 2s 129us/step - loss: 0.0421 - acc: 0.9863 - val_loss: 0.1268 - val_acc: 0.9696\n",
            "Epoch 1100/1500\n",
            "12149/12149 [==============================] - 2s 128us/step - loss: 0.0450 - acc: 0.9844 - val_loss: 0.1252 - val_acc: 0.9689\n",
            "Epoch 1101/1500\n",
            "12149/12149 [==============================] - 2s 128us/step - loss: 0.0379 - acc: 0.9876 - val_loss: 0.1202 - val_acc: 0.9748\n",
            "Epoch 1102/1500\n",
            "12149/12149 [==============================] - 2s 127us/step - loss: 0.0437 - acc: 0.9863 - val_loss: 0.1403 - val_acc: 0.9726\n",
            "Epoch 1103/1500\n",
            "12149/12149 [==============================] - 2s 127us/step - loss: 0.0449 - acc: 0.9853 - val_loss: 0.1238 - val_acc: 0.9756\n",
            "Epoch 1104/1500\n",
            "12149/12149 [==============================] - 2s 128us/step - loss: 0.0464 - acc: 0.9842 - val_loss: 0.1298 - val_acc: 0.9711\n",
            "Epoch 1105/1500\n",
            "12149/12149 [==============================] - 2s 128us/step - loss: 0.0373 - acc: 0.9878 - val_loss: 0.1312 - val_acc: 0.9667\n",
            "Epoch 1106/1500\n",
            "12149/12149 [==============================] - 2s 128us/step - loss: 0.0436 - acc: 0.9850 - val_loss: 0.1744 - val_acc: 0.9615\n",
            "Epoch 1107/1500\n",
            "12149/12149 [==============================] - 2s 129us/step - loss: 0.0442 - acc: 0.9851 - val_loss: 0.1512 - val_acc: 0.9667\n",
            "Epoch 1108/1500\n",
            "12149/12149 [==============================] - 2s 130us/step - loss: 0.0383 - acc: 0.9863 - val_loss: 0.1451 - val_acc: 0.9674\n",
            "Epoch 1109/1500\n",
            "12149/12149 [==============================] - 2s 130us/step - loss: 0.0391 - acc: 0.9856 - val_loss: 0.1360 - val_acc: 0.9733\n",
            "Epoch 1110/1500\n",
            "12149/12149 [==============================] - 2s 128us/step - loss: 0.0388 - acc: 0.9868 - val_loss: 0.1401 - val_acc: 0.9719\n",
            "Epoch 1111/1500\n",
            "12149/12149 [==============================] - 2s 130us/step - loss: 0.0384 - acc: 0.9874 - val_loss: 0.1286 - val_acc: 0.9733\n",
            "Epoch 1112/1500\n",
            "12149/12149 [==============================] - 2s 128us/step - loss: 0.0486 - acc: 0.9844 - val_loss: 0.1427 - val_acc: 0.9615\n",
            "Epoch 1113/1500\n",
            "12149/12149 [==============================] - 2s 128us/step - loss: 0.0434 - acc: 0.9853 - val_loss: 0.1398 - val_acc: 0.9667\n",
            "Epoch 1114/1500\n",
            "12149/12149 [==============================] - 2s 128us/step - loss: 0.0398 - acc: 0.9867 - val_loss: 0.1441 - val_acc: 0.9674\n",
            "Epoch 1115/1500\n",
            "12149/12149 [==============================] - 2s 128us/step - loss: 0.0450 - acc: 0.9849 - val_loss: 0.1307 - val_acc: 0.9674\n",
            "Epoch 1116/1500\n",
            "12149/12149 [==============================] - 2s 128us/step - loss: 0.0439 - acc: 0.9854 - val_loss: 0.1335 - val_acc: 0.9696\n",
            "Epoch 1117/1500\n",
            "12149/12149 [==============================] - 2s 128us/step - loss: 0.0437 - acc: 0.9853 - val_loss: 0.1474 - val_acc: 0.9652\n",
            "Epoch 1118/1500\n",
            "12149/12149 [==============================] - 2s 130us/step - loss: 0.0392 - acc: 0.9866 - val_loss: 0.1464 - val_acc: 0.9674\n",
            "Epoch 1119/1500\n",
            "12149/12149 [==============================] - 2s 128us/step - loss: 0.0426 - acc: 0.9860 - val_loss: 0.1267 - val_acc: 0.9719\n",
            "Epoch 1120/1500\n",
            "12149/12149 [==============================] - 2s 129us/step - loss: 0.0403 - acc: 0.9867 - val_loss: 0.1401 - val_acc: 0.9674\n",
            "Epoch 1121/1500\n",
            "12149/12149 [==============================] - 2s 131us/step - loss: 0.0391 - acc: 0.9865 - val_loss: 0.1251 - val_acc: 0.9733\n",
            "Epoch 1122/1500\n",
            "12149/12149 [==============================] - 2s 131us/step - loss: 0.0446 - acc: 0.9851 - val_loss: 0.1446 - val_acc: 0.9681\n",
            "Epoch 1123/1500\n",
            "12149/12149 [==============================] - 2s 128us/step - loss: 0.0397 - acc: 0.9871 - val_loss: 0.1387 - val_acc: 0.9689\n",
            "Epoch 1124/1500\n",
            "12149/12149 [==============================] - 2s 129us/step - loss: 0.0414 - acc: 0.9856 - val_loss: 0.1361 - val_acc: 0.9696\n",
            "Epoch 1125/1500\n",
            "12149/12149 [==============================] - 2s 128us/step - loss: 0.0419 - acc: 0.9851 - val_loss: 0.1434 - val_acc: 0.9719\n",
            "Epoch 1126/1500\n",
            "12149/12149 [==============================] - 2s 129us/step - loss: 0.0401 - acc: 0.9863 - val_loss: 0.1560 - val_acc: 0.9719\n",
            "Epoch 1127/1500\n",
            "12149/12149 [==============================] - 2s 128us/step - loss: 0.0393 - acc: 0.9863 - val_loss: 0.1424 - val_acc: 0.9652\n",
            "Epoch 1128/1500\n",
            "12149/12149 [==============================] - 2s 129us/step - loss: 0.0419 - acc: 0.9854 - val_loss: 0.1487 - val_acc: 0.9681\n",
            "Epoch 1129/1500\n",
            "12149/12149 [==============================] - 2s 129us/step - loss: 0.0456 - acc: 0.9840 - val_loss: 0.1492 - val_acc: 0.9667\n",
            "Epoch 1130/1500\n",
            "12149/12149 [==============================] - 2s 129us/step - loss: 0.0386 - acc: 0.9870 - val_loss: 0.1569 - val_acc: 0.9681\n",
            "Epoch 1131/1500\n",
            "12149/12149 [==============================] - 2s 130us/step - loss: 0.0424 - acc: 0.9860 - val_loss: 0.1381 - val_acc: 0.9696\n",
            "Epoch 1132/1500\n",
            "12149/12149 [==============================] - 2s 128us/step - loss: 0.0408 - acc: 0.9858 - val_loss: 0.1519 - val_acc: 0.9637\n",
            "Epoch 1133/1500\n",
            "12149/12149 [==============================] - 2s 129us/step - loss: 0.0442 - acc: 0.9858 - val_loss: 0.1387 - val_acc: 0.9667\n",
            "Epoch 1134/1500\n",
            "12149/12149 [==============================] - 2s 127us/step - loss: 0.0436 - acc: 0.9860 - val_loss: 0.1418 - val_acc: 0.9704\n",
            "Epoch 1135/1500\n",
            "12149/12149 [==============================] - 2s 132us/step - loss: 0.0387 - acc: 0.9867 - val_loss: 0.1365 - val_acc: 0.9733\n",
            "Epoch 1136/1500\n",
            "12149/12149 [==============================] - 2s 128us/step - loss: 0.0407 - acc: 0.9868 - val_loss: 0.1642 - val_acc: 0.9652\n",
            "Epoch 1137/1500\n",
            "12149/12149 [==============================] - 2s 128us/step - loss: 0.0410 - acc: 0.9861 - val_loss: 0.1485 - val_acc: 0.9689\n",
            "Epoch 1138/1500\n",
            "12149/12149 [==============================] - 2s 130us/step - loss: 0.0390 - acc: 0.9867 - val_loss: 0.1233 - val_acc: 0.9733\n",
            "Epoch 1139/1500\n",
            "12149/12149 [==============================] - 2s 131us/step - loss: 0.0402 - acc: 0.9864 - val_loss: 0.1598 - val_acc: 0.9681\n",
            "Epoch 1140/1500\n",
            "12149/12149 [==============================] - 2s 132us/step - loss: 0.0423 - acc: 0.9859 - val_loss: 0.1491 - val_acc: 0.9689\n",
            "Epoch 1141/1500\n",
            "12149/12149 [==============================] - 2s 128us/step - loss: 0.0410 - acc: 0.9862 - val_loss: 0.1366 - val_acc: 0.9689\n",
            "Epoch 1142/1500\n",
            "12149/12149 [==============================] - 2s 128us/step - loss: 0.0410 - acc: 0.9863 - val_loss: 0.1391 - val_acc: 0.9696\n",
            "Epoch 1143/1500\n",
            "12149/12149 [==============================] - 2s 127us/step - loss: 0.0409 - acc: 0.9858 - val_loss: 0.1344 - val_acc: 0.9741\n",
            "Epoch 1144/1500\n",
            "12149/12149 [==============================] - 2s 128us/step - loss: 0.0402 - acc: 0.9867 - val_loss: 0.1351 - val_acc: 0.9659\n",
            "Epoch 1145/1500\n",
            "12149/12149 [==============================] - 2s 128us/step - loss: 0.0434 - acc: 0.9858 - val_loss: 0.1596 - val_acc: 0.9637\n",
            "Epoch 1146/1500\n",
            "12149/12149 [==============================] - 2s 131us/step - loss: 0.0407 - acc: 0.9869 - val_loss: 0.1504 - val_acc: 0.9652\n",
            "Epoch 1147/1500\n",
            "12149/12149 [==============================] - 2s 129us/step - loss: 0.0426 - acc: 0.9853 - val_loss: 0.1372 - val_acc: 0.9711\n",
            "Epoch 1148/1500\n",
            "12149/12149 [==============================] - 2s 129us/step - loss: 0.0392 - acc: 0.9872 - val_loss: 0.1471 - val_acc: 0.9659\n",
            "Epoch 1149/1500\n",
            "12149/12149 [==============================] - 2s 129us/step - loss: 0.0427 - acc: 0.9859 - val_loss: 0.1456 - val_acc: 0.9711\n",
            "Epoch 1150/1500\n",
            "12149/12149 [==============================] - 2s 128us/step - loss: 0.0497 - acc: 0.9846 - val_loss: 0.1488 - val_acc: 0.9659\n",
            "Epoch 1151/1500\n",
            "12149/12149 [==============================] - 2s 130us/step - loss: 0.0412 - acc: 0.9865 - val_loss: 0.1342 - val_acc: 0.9711\n",
            "Epoch 1152/1500\n",
            "12149/12149 [==============================] - 2s 130us/step - loss: 0.0384 - acc: 0.9862 - val_loss: 0.1419 - val_acc: 0.9681\n",
            "Epoch 1153/1500\n",
            "12149/12149 [==============================] - 2s 129us/step - loss: 0.0374 - acc: 0.9877 - val_loss: 0.1650 - val_acc: 0.9630\n",
            "Epoch 1154/1500\n",
            "12149/12149 [==============================] - 2s 129us/step - loss: 0.0448 - acc: 0.9849 - val_loss: 0.1276 - val_acc: 0.9659\n",
            "Epoch 1155/1500\n",
            "12149/12149 [==============================] - 2s 129us/step - loss: 0.0417 - acc: 0.9853 - val_loss: 0.1318 - val_acc: 0.9726\n",
            "Epoch 1156/1500\n",
            "12149/12149 [==============================] - 2s 131us/step - loss: 0.0440 - acc: 0.9856 - val_loss: 0.1467 - val_acc: 0.9689\n",
            "Epoch 1157/1500\n",
            "12149/12149 [==============================] - 2s 130us/step - loss: 0.0410 - acc: 0.9860 - val_loss: 0.1473 - val_acc: 0.9741\n",
            "Epoch 1158/1500\n",
            "12149/12149 [==============================] - 2s 127us/step - loss: 0.0400 - acc: 0.9867 - val_loss: 0.1471 - val_acc: 0.9719\n",
            "Epoch 1159/1500\n",
            "12149/12149 [==============================] - 2s 129us/step - loss: 0.0387 - acc: 0.9877 - val_loss: 0.1497 - val_acc: 0.9704\n",
            "Epoch 1160/1500\n",
            "12149/12149 [==============================] - 2s 128us/step - loss: 0.0357 - acc: 0.9876 - val_loss: 0.1536 - val_acc: 0.9681\n",
            "Epoch 1161/1500\n",
            "12149/12149 [==============================] - 2s 129us/step - loss: 0.0390 - acc: 0.9868 - val_loss: 0.1615 - val_acc: 0.9681\n",
            "Epoch 1162/1500\n",
            "12149/12149 [==============================] - 2s 130us/step - loss: 0.0432 - acc: 0.9850 - val_loss: 0.1480 - val_acc: 0.9622\n",
            "Epoch 1163/1500\n",
            "12149/12149 [==============================] - 2s 129us/step - loss: 0.0402 - acc: 0.9863 - val_loss: 0.1363 - val_acc: 0.9711\n",
            "Epoch 1164/1500\n",
            "12149/12149 [==============================] - 2s 128us/step - loss: 0.0393 - acc: 0.9875 - val_loss: 0.1357 - val_acc: 0.9711\n",
            "Epoch 1165/1500\n",
            "12149/12149 [==============================] - 2s 127us/step - loss: 0.0409 - acc: 0.9867 - val_loss: 0.1571 - val_acc: 0.9681\n",
            "Epoch 1166/1500\n",
            "12149/12149 [==============================] - 2s 128us/step - loss: 0.0421 - acc: 0.9854 - val_loss: 0.1427 - val_acc: 0.9674\n",
            "Epoch 1167/1500\n",
            "12149/12149 [==============================] - 2s 128us/step - loss: 0.0373 - acc: 0.9873 - val_loss: 0.1486 - val_acc: 0.9681\n",
            "Epoch 1168/1500\n",
            "12149/12149 [==============================] - 2s 130us/step - loss: 0.0406 - acc: 0.9863 - val_loss: 0.1454 - val_acc: 0.9726\n",
            "Epoch 1169/1500\n",
            "12149/12149 [==============================] - 2s 128us/step - loss: 0.0410 - acc: 0.9858 - val_loss: 0.1559 - val_acc: 0.9704\n",
            "Epoch 1170/1500\n",
            "12149/12149 [==============================] - 2s 132us/step - loss: 0.0423 - acc: 0.9856 - val_loss: 0.1495 - val_acc: 0.9696\n",
            "Epoch 1171/1500\n",
            "12149/12149 [==============================] - 2s 129us/step - loss: 0.0389 - acc: 0.9870 - val_loss: 0.1605 - val_acc: 0.9719\n",
            "Epoch 1172/1500\n",
            "12149/12149 [==============================] - 2s 132us/step - loss: 0.0377 - acc: 0.9872 - val_loss: 0.1462 - val_acc: 0.9719\n",
            "Epoch 1173/1500\n",
            "12149/12149 [==============================] - 2s 129us/step - loss: 0.0407 - acc: 0.9869 - val_loss: 0.1416 - val_acc: 0.9711\n",
            "Epoch 1174/1500\n",
            "12149/12149 [==============================] - 2s 130us/step - loss: 0.0421 - acc: 0.9869 - val_loss: 0.1483 - val_acc: 0.9704\n",
            "Epoch 1175/1500\n",
            "12149/12149 [==============================] - 2s 128us/step - loss: 0.0412 - acc: 0.9863 - val_loss: 0.1463 - val_acc: 0.9696\n",
            "Epoch 1176/1500\n",
            "12149/12149 [==============================] - 2s 129us/step - loss: 0.0417 - acc: 0.9853 - val_loss: 0.1498 - val_acc: 0.9674\n",
            "Epoch 1177/1500\n",
            "12149/12149 [==============================] - 2s 129us/step - loss: 0.0378 - acc: 0.9879 - val_loss: 0.1643 - val_acc: 0.9681\n",
            "Epoch 1178/1500\n",
            "12149/12149 [==============================] - 2s 128us/step - loss: 0.0363 - acc: 0.9878 - val_loss: 0.1515 - val_acc: 0.9681\n",
            "Epoch 1179/1500\n",
            "12149/12149 [==============================] - 2s 128us/step - loss: 0.0413 - acc: 0.9861 - val_loss: 0.1443 - val_acc: 0.9704\n",
            "Epoch 1180/1500\n",
            "12149/12149 [==============================] - 2s 128us/step - loss: 0.0373 - acc: 0.9869 - val_loss: 0.1449 - val_acc: 0.9681\n",
            "Epoch 1181/1500\n",
            "12149/12149 [==============================] - 2s 127us/step - loss: 0.0448 - acc: 0.9855 - val_loss: 0.1527 - val_acc: 0.9681\n",
            "Epoch 1182/1500\n",
            "12149/12149 [==============================] - 2s 130us/step - loss: 0.0390 - acc: 0.9867 - val_loss: 0.1381 - val_acc: 0.9689\n",
            "Epoch 1183/1500\n",
            "12149/12149 [==============================] - 2s 131us/step - loss: 0.0428 - acc: 0.9851 - val_loss: 0.1345 - val_acc: 0.9696\n",
            "Epoch 1184/1500\n",
            "12149/12149 [==============================] - 2s 131us/step - loss: 0.0396 - acc: 0.9872 - val_loss: 0.1450 - val_acc: 0.9659\n",
            "Epoch 1185/1500\n",
            "12149/12149 [==============================] - 2s 131us/step - loss: 0.0391 - acc: 0.9869 - val_loss: 0.1416 - val_acc: 0.9704\n",
            "Epoch 1186/1500\n",
            "12149/12149 [==============================] - 2s 128us/step - loss: 0.0402 - acc: 0.9866 - val_loss: 0.1464 - val_acc: 0.9726\n",
            "Epoch 1187/1500\n",
            "12149/12149 [==============================] - 2s 128us/step - loss: 0.0433 - acc: 0.9863 - val_loss: 0.1264 - val_acc: 0.9726\n",
            "Epoch 1188/1500\n",
            "12149/12149 [==============================] - 2s 130us/step - loss: 0.0391 - acc: 0.9866 - val_loss: 0.1446 - val_acc: 0.9711\n",
            "Epoch 1189/1500\n",
            "12149/12149 [==============================] - 2s 131us/step - loss: 0.0391 - acc: 0.9873 - val_loss: 0.1597 - val_acc: 0.9600\n",
            "Epoch 1190/1500\n",
            "12149/12149 [==============================] - 2s 132us/step - loss: 0.0409 - acc: 0.9872 - val_loss: 0.1788 - val_acc: 0.9696\n",
            "Epoch 1191/1500\n",
            "12149/12149 [==============================] - 2s 129us/step - loss: 0.0433 - acc: 0.9845 - val_loss: 0.1584 - val_acc: 0.9674\n",
            "Epoch 1192/1500\n",
            "12149/12149 [==============================] - 2s 129us/step - loss: 0.0415 - acc: 0.9864 - val_loss: 0.1447 - val_acc: 0.9741\n",
            "Epoch 1193/1500\n",
            "12149/12149 [==============================] - 2s 130us/step - loss: 0.0368 - acc: 0.9880 - val_loss: 0.1405 - val_acc: 0.9733\n",
            "Epoch 1194/1500\n",
            "12149/12149 [==============================] - 2s 129us/step - loss: 0.0414 - acc: 0.9867 - val_loss: 0.1459 - val_acc: 0.9689\n",
            "Epoch 1195/1500\n",
            "12149/12149 [==============================] - 2s 132us/step - loss: 0.0367 - acc: 0.9881 - val_loss: 0.1392 - val_acc: 0.9726\n",
            "Epoch 1196/1500\n",
            "12149/12149 [==============================] - 2s 129us/step - loss: 0.0406 - acc: 0.9861 - val_loss: 0.1504 - val_acc: 0.9741\n",
            "Epoch 1197/1500\n",
            "12149/12149 [==============================] - 2s 129us/step - loss: 0.0408 - acc: 0.9859 - val_loss: 0.1456 - val_acc: 0.9711\n",
            "Epoch 1198/1500\n",
            "12149/12149 [==============================] - 2s 127us/step - loss: 0.0393 - acc: 0.9863 - val_loss: 0.1390 - val_acc: 0.9696\n",
            "Epoch 1199/1500\n",
            "12149/12149 [==============================] - 2s 129us/step - loss: 0.0434 - acc: 0.9864 - val_loss: 0.1590 - val_acc: 0.9681\n",
            "Epoch 1200/1500\n",
            "12149/12149 [==============================] - 2s 128us/step - loss: 0.0437 - acc: 0.9853 - val_loss: 0.1310 - val_acc: 0.9748\n",
            "Epoch 1201/1500\n",
            "12149/12149 [==============================] - 2s 128us/step - loss: 0.0392 - acc: 0.9872 - val_loss: 0.1321 - val_acc: 0.9733\n",
            "Epoch 1202/1500\n",
            "12149/12149 [==============================] - 2s 129us/step - loss: 0.0405 - acc: 0.9867 - val_loss: 0.1461 - val_acc: 0.9644\n",
            "Epoch 1203/1500\n",
            "12149/12149 [==============================] - 2s 130us/step - loss: 0.0439 - acc: 0.9867 - val_loss: 0.1470 - val_acc: 0.9696\n",
            "Epoch 1204/1500\n",
            "12149/12149 [==============================] - 2s 129us/step - loss: 0.0422 - acc: 0.9845 - val_loss: 0.1429 - val_acc: 0.9711\n",
            "Epoch 1205/1500\n",
            "12149/12149 [==============================] - 2s 128us/step - loss: 0.0367 - acc: 0.9881 - val_loss: 0.1617 - val_acc: 0.9726\n",
            "Epoch 1206/1500\n",
            "12149/12149 [==============================] - 2s 129us/step - loss: 0.0394 - acc: 0.9866 - val_loss: 0.1645 - val_acc: 0.9681\n",
            "Epoch 1207/1500\n",
            "12149/12149 [==============================] - 2s 129us/step - loss: 0.0470 - acc: 0.9852 - val_loss: 0.1369 - val_acc: 0.9696\n",
            "Epoch 1208/1500\n",
            "12149/12149 [==============================] - 2s 128us/step - loss: 0.0435 - acc: 0.9854 - val_loss: 0.1420 - val_acc: 0.9711\n",
            "Epoch 1209/1500\n",
            "12149/12149 [==============================] - 2s 141us/step - loss: 0.0398 - acc: 0.9870 - val_loss: 0.1378 - val_acc: 0.9711\n",
            "Epoch 1210/1500\n",
            "12149/12149 [==============================] - 2s 148us/step - loss: 0.0387 - acc: 0.9867 - val_loss: 0.1333 - val_acc: 0.9719\n",
            "Epoch 1211/1500\n",
            "12149/12149 [==============================] - 2s 151us/step - loss: 0.0381 - acc: 0.9868 - val_loss: 0.1388 - val_acc: 0.9719\n",
            "Epoch 1212/1500\n",
            "12149/12149 [==============================] - 2s 138us/step - loss: 0.0376 - acc: 0.9873 - val_loss: 0.1456 - val_acc: 0.9711\n",
            "Epoch 1213/1500\n",
            "12149/12149 [==============================] - 2s 128us/step - loss: 0.0446 - acc: 0.9864 - val_loss: 0.1404 - val_acc: 0.9689\n",
            "Epoch 1214/1500\n",
            "12149/12149 [==============================] - 2s 128us/step - loss: 0.0437 - acc: 0.9845 - val_loss: 0.1535 - val_acc: 0.9659\n",
            "Epoch 1215/1500\n",
            "12149/12149 [==============================] - 2s 129us/step - loss: 0.0441 - acc: 0.9849 - val_loss: 0.1461 - val_acc: 0.9689\n",
            "Epoch 1216/1500\n",
            "12149/12149 [==============================] - 2s 129us/step - loss: 0.0443 - acc: 0.9849 - val_loss: 0.1586 - val_acc: 0.9704\n",
            "Epoch 1217/1500\n",
            "12149/12149 [==============================] - 2s 129us/step - loss: 0.0418 - acc: 0.9856 - val_loss: 0.1324 - val_acc: 0.9726\n",
            "Epoch 1218/1500\n",
            "12149/12149 [==============================] - 2s 127us/step - loss: 0.0371 - acc: 0.9886 - val_loss: 0.1580 - val_acc: 0.9674\n",
            "Epoch 1219/1500\n",
            "12149/12149 [==============================] - 2s 130us/step - loss: 0.0431 - acc: 0.9854 - val_loss: 0.1413 - val_acc: 0.9741\n",
            "Epoch 1220/1500\n",
            "12149/12149 [==============================] - 2s 128us/step - loss: 0.0389 - acc: 0.9860 - val_loss: 0.1718 - val_acc: 0.9659\n",
            "Epoch 1221/1500\n",
            "12149/12149 [==============================] - 2s 129us/step - loss: 0.0406 - acc: 0.9868 - val_loss: 0.1586 - val_acc: 0.9696\n",
            "Epoch 1222/1500\n",
            "12149/12149 [==============================] - 2s 131us/step - loss: 0.0388 - acc: 0.9867 - val_loss: 0.1516 - val_acc: 0.9689\n",
            "Epoch 1223/1500\n",
            "12149/12149 [==============================] - 2s 128us/step - loss: 0.0423 - acc: 0.9858 - val_loss: 0.1628 - val_acc: 0.9689\n",
            "Epoch 1224/1500\n",
            "12149/12149 [==============================] - 2s 128us/step - loss: 0.0457 - acc: 0.9860 - val_loss: 0.1375 - val_acc: 0.9719\n",
            "Epoch 1225/1500\n",
            "12149/12149 [==============================] - 2s 128us/step - loss: 0.0371 - acc: 0.9879 - val_loss: 0.1473 - val_acc: 0.9659\n",
            "Epoch 1226/1500\n",
            "12149/12149 [==============================] - 2s 128us/step - loss: 0.0426 - acc: 0.9863 - val_loss: 0.1599 - val_acc: 0.9704\n",
            "Epoch 1227/1500\n",
            "12149/12149 [==============================] - 2s 128us/step - loss: 0.0404 - acc: 0.9867 - val_loss: 0.1509 - val_acc: 0.9719\n",
            "Epoch 1228/1500\n",
            "12149/12149 [==============================] - 2s 128us/step - loss: 0.0422 - acc: 0.9875 - val_loss: 0.1489 - val_acc: 0.9696\n",
            "Epoch 1229/1500\n",
            "12149/12149 [==============================] - 2s 142us/step - loss: 0.0449 - acc: 0.9852 - val_loss: 0.1771 - val_acc: 0.9674\n",
            "Epoch 1230/1500\n",
            "12149/12149 [==============================] - 2s 151us/step - loss: 0.0520 - acc: 0.9838 - val_loss: 0.1307 - val_acc: 0.9696\n",
            "Epoch 1231/1500\n",
            "12149/12149 [==============================] - 2s 149us/step - loss: 0.0376 - acc: 0.9867 - val_loss: 0.1430 - val_acc: 0.9696\n",
            "Epoch 1232/1500\n",
            "12149/12149 [==============================] - 2s 153us/step - loss: 0.0364 - acc: 0.9881 - val_loss: 0.1361 - val_acc: 0.9726\n",
            "Epoch 1233/1500\n",
            "12149/12149 [==============================] - 2s 150us/step - loss: 0.0384 - acc: 0.9868 - val_loss: 0.1613 - val_acc: 0.9719\n",
            "Epoch 1234/1500\n",
            "12149/12149 [==============================] - 2s 150us/step - loss: 0.0429 - acc: 0.9853 - val_loss: 0.1510 - val_acc: 0.9674\n",
            "Epoch 1235/1500\n",
            "12149/12149 [==============================] - 2s 131us/step - loss: 0.0490 - acc: 0.9840 - val_loss: 0.1263 - val_acc: 0.9689\n",
            "Epoch 1236/1500\n",
            "12149/12149 [==============================] - 2s 129us/step - loss: 0.0368 - acc: 0.9874 - val_loss: 0.1395 - val_acc: 0.9704\n",
            "Epoch 1237/1500\n",
            "12149/12149 [==============================] - 2s 129us/step - loss: 0.0410 - acc: 0.9859 - val_loss: 0.1506 - val_acc: 0.9719\n",
            "Epoch 1238/1500\n",
            "12149/12149 [==============================] - 2s 132us/step - loss: 0.0416 - acc: 0.9869 - val_loss: 0.1508 - val_acc: 0.9667\n",
            "Epoch 1239/1500\n",
            "12149/12149 [==============================] - 2s 128us/step - loss: 0.0402 - acc: 0.9872 - val_loss: 0.1368 - val_acc: 0.9719\n",
            "Epoch 1240/1500\n",
            "12149/12149 [==============================] - 2s 129us/step - loss: 0.0383 - acc: 0.9868 - val_loss: 0.1472 - val_acc: 0.9644\n",
            "Epoch 1241/1500\n",
            "12149/12149 [==============================] - 2s 129us/step - loss: 0.0443 - acc: 0.9854 - val_loss: 0.1738 - val_acc: 0.9644\n",
            "Epoch 1242/1500\n",
            "12149/12149 [==============================] - 2s 128us/step - loss: 0.0397 - acc: 0.9862 - val_loss: 0.1544 - val_acc: 0.9681\n",
            "Epoch 1243/1500\n",
            "12149/12149 [==============================] - 2s 130us/step - loss: 0.0403 - acc: 0.9865 - val_loss: 0.1492 - val_acc: 0.9741\n",
            "Epoch 1244/1500\n",
            "12149/12149 [==============================] - 2s 130us/step - loss: 0.0401 - acc: 0.9877 - val_loss: 0.1632 - val_acc: 0.9659\n",
            "Epoch 1245/1500\n",
            "12149/12149 [==============================] - 2s 133us/step - loss: 0.0374 - acc: 0.9877 - val_loss: 0.1765 - val_acc: 0.9696\n",
            "Epoch 1246/1500\n",
            "12149/12149 [==============================] - 2s 131us/step - loss: 0.0411 - acc: 0.9867 - val_loss: 0.1559 - val_acc: 0.9696\n",
            "Epoch 1247/1500\n",
            "12149/12149 [==============================] - 2s 129us/step - loss: 0.0394 - acc: 0.9864 - val_loss: 0.1421 - val_acc: 0.9681\n",
            "Epoch 1248/1500\n",
            "12149/12149 [==============================] - 2s 133us/step - loss: 0.0440 - acc: 0.9862 - val_loss: 0.1629 - val_acc: 0.9696\n",
            "Epoch 1249/1500\n",
            "12149/12149 [==============================] - 2s 129us/step - loss: 0.0384 - acc: 0.9871 - val_loss: 0.1657 - val_acc: 0.9681\n",
            "Epoch 1250/1500\n",
            "12149/12149 [==============================] - 2s 131us/step - loss: 0.0404 - acc: 0.9858 - val_loss: 0.1744 - val_acc: 0.9681\n",
            "Epoch 1251/1500\n",
            "12149/12149 [==============================] - 2s 129us/step - loss: 0.0384 - acc: 0.9859 - val_loss: 0.1549 - val_acc: 0.9696\n",
            "Epoch 1252/1500\n",
            "12149/12149 [==============================] - 2s 131us/step - loss: 0.0376 - acc: 0.9870 - val_loss: 0.1517 - val_acc: 0.9704\n",
            "Epoch 1253/1500\n",
            "12149/12149 [==============================] - 2s 129us/step - loss: 0.0381 - acc: 0.9864 - val_loss: 0.1590 - val_acc: 0.9704\n",
            "Epoch 1254/1500\n",
            "12149/12149 [==============================] - 2s 131us/step - loss: 0.0396 - acc: 0.9855 - val_loss: 0.1463 - val_acc: 0.9733\n",
            "Epoch 1255/1500\n",
            "12149/12149 [==============================] - 2s 129us/step - loss: 0.0422 - acc: 0.9860 - val_loss: 0.1712 - val_acc: 0.9689\n",
            "Epoch 1256/1500\n",
            "12149/12149 [==============================] - 2s 128us/step - loss: 0.0423 - acc: 0.9860 - val_loss: 0.1592 - val_acc: 0.9674\n",
            "Epoch 1257/1500\n",
            "12149/12149 [==============================] - 2s 129us/step - loss: 0.0380 - acc: 0.9871 - val_loss: 0.1354 - val_acc: 0.9696\n",
            "Epoch 1258/1500\n",
            "12149/12149 [==============================] - 2s 129us/step - loss: 0.0360 - acc: 0.9881 - val_loss: 0.1518 - val_acc: 0.9704\n",
            "Epoch 1259/1500\n",
            "12149/12149 [==============================] - 2s 130us/step - loss: 0.0395 - acc: 0.9861 - val_loss: 0.1547 - val_acc: 0.9689\n",
            "Epoch 1260/1500\n",
            "12149/12149 [==============================] - 2s 131us/step - loss: 0.0462 - acc: 0.9844 - val_loss: 0.1607 - val_acc: 0.9652\n",
            "Epoch 1261/1500\n",
            "12149/12149 [==============================] - 2s 132us/step - loss: 0.0394 - acc: 0.9863 - val_loss: 0.1462 - val_acc: 0.9696\n",
            "Epoch 1262/1500\n",
            "12149/12149 [==============================] - 2s 131us/step - loss: 0.0373 - acc: 0.9870 - val_loss: 0.1543 - val_acc: 0.9711\n",
            "Epoch 1263/1500\n",
            "12149/12149 [==============================] - 2s 129us/step - loss: 0.0368 - acc: 0.9875 - val_loss: 0.1621 - val_acc: 0.9719\n",
            "Epoch 1264/1500\n",
            "12149/12149 [==============================] - 2s 128us/step - loss: 0.0417 - acc: 0.9855 - val_loss: 0.1616 - val_acc: 0.9711\n",
            "Epoch 1265/1500\n",
            "12149/12149 [==============================] - 2s 132us/step - loss: 0.0421 - acc: 0.9867 - val_loss: 0.1515 - val_acc: 0.9704\n",
            "Epoch 1266/1500\n",
            "12149/12149 [==============================] - 2s 128us/step - loss: 0.0446 - acc: 0.9853 - val_loss: 0.1849 - val_acc: 0.9630\n",
            "Epoch 1267/1500\n",
            "12149/12149 [==============================] - 2s 129us/step - loss: 0.0413 - acc: 0.9865 - val_loss: 0.1520 - val_acc: 0.9711\n",
            "Epoch 1268/1500\n",
            "12149/12149 [==============================] - 2s 128us/step - loss: 0.0389 - acc: 0.9875 - val_loss: 0.1553 - val_acc: 0.9704\n",
            "Epoch 1269/1500\n",
            "12149/12149 [==============================] - 2s 129us/step - loss: 0.0413 - acc: 0.9866 - val_loss: 0.1726 - val_acc: 0.9667\n",
            "Epoch 1270/1500\n",
            "12149/12149 [==============================] - 2s 131us/step - loss: 0.0394 - acc: 0.9875 - val_loss: 0.1417 - val_acc: 0.9696\n",
            "Epoch 1271/1500\n",
            "12149/12149 [==============================] - 2s 129us/step - loss: 0.0388 - acc: 0.9872 - val_loss: 0.1365 - val_acc: 0.9711\n",
            "Epoch 1272/1500\n",
            "12149/12149 [==============================] - 2s 129us/step - loss: 0.0383 - acc: 0.9866 - val_loss: 0.1440 - val_acc: 0.9711\n",
            "Epoch 1273/1500\n",
            "12149/12149 [==============================] - 2s 129us/step - loss: 0.0413 - acc: 0.9857 - val_loss: 0.1655 - val_acc: 0.9644\n",
            "Epoch 1274/1500\n",
            "12149/12149 [==============================] - 2s 129us/step - loss: 0.0383 - acc: 0.9868 - val_loss: 0.1477 - val_acc: 0.9733\n",
            "Epoch 1275/1500\n",
            "12149/12149 [==============================] - 2s 128us/step - loss: 0.0400 - acc: 0.9874 - val_loss: 0.1338 - val_acc: 0.9726\n",
            "Epoch 1276/1500\n",
            "12149/12149 [==============================] - 2s 129us/step - loss: 0.0399 - acc: 0.9875 - val_loss: 0.1345 - val_acc: 0.9711\n",
            "Epoch 1277/1500\n",
            "12149/12149 [==============================] - 2s 129us/step - loss: 0.0373 - acc: 0.9876 - val_loss: 0.1757 - val_acc: 0.9674\n",
            "Epoch 1278/1500\n",
            "12149/12149 [==============================] - 2s 128us/step - loss: 0.0414 - acc: 0.9863 - val_loss: 0.1646 - val_acc: 0.9667\n",
            "Epoch 1279/1500\n",
            "12149/12149 [==============================] - 2s 130us/step - loss: 0.0498 - acc: 0.9838 - val_loss: 0.1734 - val_acc: 0.9659\n",
            "Epoch 1280/1500\n",
            "12149/12149 [==============================] - 2s 131us/step - loss: 0.0376 - acc: 0.9867 - val_loss: 0.1581 - val_acc: 0.9696\n",
            "Epoch 1281/1500\n",
            "12149/12149 [==============================] - 2s 131us/step - loss: 0.0371 - acc: 0.9875 - val_loss: 0.1712 - val_acc: 0.9696\n",
            "Epoch 1282/1500\n",
            "12149/12149 [==============================] - 2s 129us/step - loss: 0.0360 - acc: 0.9875 - val_loss: 0.1640 - val_acc: 0.9667\n",
            "Epoch 1283/1500\n",
            "12149/12149 [==============================] - 2s 129us/step - loss: 0.0409 - acc: 0.9859 - val_loss: 0.1643 - val_acc: 0.9726\n",
            "Epoch 1284/1500\n",
            "12149/12149 [==============================] - 2s 130us/step - loss: 0.0400 - acc: 0.9860 - val_loss: 0.1478 - val_acc: 0.9704\n",
            "Epoch 1285/1500\n",
            "12149/12149 [==============================] - 2s 132us/step - loss: 0.0359 - acc: 0.9879 - val_loss: 0.1719 - val_acc: 0.9689\n",
            "Epoch 1286/1500\n",
            "12149/12149 [==============================] - 2s 131us/step - loss: 0.0452 - acc: 0.9849 - val_loss: 0.1535 - val_acc: 0.9689\n",
            "Epoch 1287/1500\n",
            "12149/12149 [==============================] - 2s 129us/step - loss: 0.0408 - acc: 0.9871 - val_loss: 0.1644 - val_acc: 0.9741\n",
            "Epoch 1288/1500\n",
            "12149/12149 [==============================] - 2s 128us/step - loss: 0.0405 - acc: 0.9854 - val_loss: 0.1562 - val_acc: 0.9719\n",
            "Epoch 1289/1500\n",
            "12149/12149 [==============================] - 2s 131us/step - loss: 0.0378 - acc: 0.9869 - val_loss: 0.1692 - val_acc: 0.9681\n",
            "Epoch 1290/1500\n",
            "12149/12149 [==============================] - 2s 131us/step - loss: 0.0402 - acc: 0.9870 - val_loss: 0.1526 - val_acc: 0.9696\n",
            "Epoch 1291/1500\n",
            "12149/12149 [==============================] - 2s 129us/step - loss: 0.0384 - acc: 0.9877 - val_loss: 0.1823 - val_acc: 0.9652\n",
            "Epoch 1292/1500\n",
            "12149/12149 [==============================] - 2s 130us/step - loss: 0.0373 - acc: 0.9871 - val_loss: 0.1670 - val_acc: 0.9704\n",
            "Epoch 1293/1500\n",
            "12149/12149 [==============================] - 2s 131us/step - loss: 0.0477 - acc: 0.9857 - val_loss: 0.1561 - val_acc: 0.9681\n",
            "Epoch 1294/1500\n",
            "12149/12149 [==============================] - 2s 130us/step - loss: 0.0404 - acc: 0.9854 - val_loss: 0.1695 - val_acc: 0.9667\n",
            "Epoch 1295/1500\n",
            "12149/12149 [==============================] - 2s 131us/step - loss: 0.0365 - acc: 0.9882 - val_loss: 0.1937 - val_acc: 0.9637\n",
            "Epoch 1296/1500\n",
            "12149/12149 [==============================] - 2s 131us/step - loss: 0.0439 - acc: 0.9858 - val_loss: 0.1456 - val_acc: 0.9674\n",
            "Epoch 1297/1500\n",
            "12149/12149 [==============================] - 2s 132us/step - loss: 0.0398 - acc: 0.9871 - val_loss: 0.1712 - val_acc: 0.9674\n",
            "Epoch 1298/1500\n",
            "12149/12149 [==============================] - 2s 132us/step - loss: 0.0438 - acc: 0.9858 - val_loss: 0.1426 - val_acc: 0.9696\n",
            "Epoch 1299/1500\n",
            "12149/12149 [==============================] - 2s 129us/step - loss: 0.0360 - acc: 0.9876 - val_loss: 0.1496 - val_acc: 0.9704\n",
            "Epoch 1300/1500\n",
            "12149/12149 [==============================] - 2s 127us/step - loss: 0.0382 - acc: 0.9872 - val_loss: 0.1812 - val_acc: 0.9615\n",
            "Epoch 1301/1500\n",
            "12149/12149 [==============================] - 2s 127us/step - loss: 0.0385 - acc: 0.9870 - val_loss: 0.1804 - val_acc: 0.9652\n",
            "Epoch 1302/1500\n",
            "12149/12149 [==============================] - 2s 128us/step - loss: 0.0387 - acc: 0.9876 - val_loss: 0.1525 - val_acc: 0.9689\n",
            "Epoch 1303/1500\n",
            "12149/12149 [==============================] - 2s 129us/step - loss: 0.0381 - acc: 0.9882 - val_loss: 0.1793 - val_acc: 0.9689\n",
            "Epoch 1304/1500\n",
            "12149/12149 [==============================] - 2s 129us/step - loss: 0.0432 - acc: 0.9863 - val_loss: 0.1567 - val_acc: 0.9726\n",
            "Epoch 1305/1500\n",
            "12149/12149 [==============================] - 2s 130us/step - loss: 0.0408 - acc: 0.9857 - val_loss: 0.1685 - val_acc: 0.9696\n",
            "Epoch 1306/1500\n",
            "12149/12149 [==============================] - 2s 129us/step - loss: 0.0403 - acc: 0.9876 - val_loss: 0.1663 - val_acc: 0.9667\n",
            "Epoch 1307/1500\n",
            "12149/12149 [==============================] - 2s 131us/step - loss: 0.0424 - acc: 0.9858 - val_loss: 0.1613 - val_acc: 0.9689\n",
            "Epoch 1308/1500\n",
            "12149/12149 [==============================] - 2s 129us/step - loss: 0.0375 - acc: 0.9886 - val_loss: 0.1372 - val_acc: 0.9704\n",
            "Epoch 1309/1500\n",
            "12149/12149 [==============================] - 2s 129us/step - loss: 0.0351 - acc: 0.9886 - val_loss: 0.1681 - val_acc: 0.9681\n",
            "Epoch 1310/1500\n",
            "12149/12149 [==============================] - 2s 130us/step - loss: 0.0482 - acc: 0.9846 - val_loss: 0.2451 - val_acc: 0.9400\n",
            "Epoch 1311/1500\n",
            "12149/12149 [==============================] - 2s 128us/step - loss: 0.0394 - acc: 0.9863 - val_loss: 0.1678 - val_acc: 0.9674\n",
            "Epoch 1312/1500\n",
            "12149/12149 [==============================] - 2s 129us/step - loss: 0.0402 - acc: 0.9862 - val_loss: 0.1615 - val_acc: 0.9667\n",
            "Epoch 1313/1500\n",
            "12149/12149 [==============================] - 2s 132us/step - loss: 0.0418 - acc: 0.9867 - val_loss: 0.1573 - val_acc: 0.9689\n",
            "Epoch 1314/1500\n",
            "12149/12149 [==============================] - 2s 132us/step - loss: 0.0476 - acc: 0.9846 - val_loss: 0.1660 - val_acc: 0.9644\n",
            "Epoch 1315/1500\n",
            "12149/12149 [==============================] - 2s 131us/step - loss: 0.0460 - acc: 0.9853 - val_loss: 0.1589 - val_acc: 0.9704\n",
            "Epoch 1316/1500\n",
            "12149/12149 [==============================] - 2s 128us/step - loss: 0.0377 - acc: 0.9877 - val_loss: 0.1432 - val_acc: 0.9681\n",
            "Epoch 1317/1500\n",
            "12149/12149 [==============================] - 2s 128us/step - loss: 0.0381 - acc: 0.9868 - val_loss: 0.1352 - val_acc: 0.9726\n",
            "Epoch 1318/1500\n",
            "12149/12149 [==============================] - 2s 131us/step - loss: 0.0360 - acc: 0.9886 - val_loss: 0.1701 - val_acc: 0.9667\n",
            "Epoch 1319/1500\n",
            "12149/12149 [==============================] - 2s 128us/step - loss: 0.0426 - acc: 0.9853 - val_loss: 0.1548 - val_acc: 0.9681\n",
            "Epoch 1320/1500\n",
            "12149/12149 [==============================] - 2s 128us/step - loss: 0.0367 - acc: 0.9881 - val_loss: 0.1430 - val_acc: 0.9748\n",
            "Epoch 1321/1500\n",
            "12149/12149 [==============================] - 2s 133us/step - loss: 0.0369 - acc: 0.9880 - val_loss: 0.1446 - val_acc: 0.9726\n",
            "Epoch 1322/1500\n",
            "12149/12149 [==============================] - 2s 128us/step - loss: 0.0417 - acc: 0.9867 - val_loss: 0.1495 - val_acc: 0.9689\n",
            "Epoch 1323/1500\n",
            "12149/12149 [==============================] - 2s 129us/step - loss: 0.0446 - acc: 0.9855 - val_loss: 0.1587 - val_acc: 0.9667\n",
            "Epoch 1324/1500\n",
            "12149/12149 [==============================] - 2s 131us/step - loss: 0.0380 - acc: 0.9867 - val_loss: 0.1581 - val_acc: 0.9719\n",
            "Epoch 1325/1500\n",
            "12149/12149 [==============================] - 2s 129us/step - loss: 0.0415 - acc: 0.9868 - val_loss: 0.1628 - val_acc: 0.9667\n",
            "Epoch 1326/1500\n",
            "12149/12149 [==============================] - 2s 128us/step - loss: 0.0361 - acc: 0.9871 - val_loss: 0.1423 - val_acc: 0.9681\n",
            "Epoch 1327/1500\n",
            "12149/12149 [==============================] - 2s 130us/step - loss: 0.0430 - acc: 0.9861 - val_loss: 0.1441 - val_acc: 0.9733\n",
            "Epoch 1328/1500\n",
            "12149/12149 [==============================] - 2s 131us/step - loss: 0.0391 - acc: 0.9881 - val_loss: 0.1654 - val_acc: 0.9689\n",
            "Epoch 1329/1500\n",
            "12149/12149 [==============================] - 2s 129us/step - loss: 0.0382 - acc: 0.9870 - val_loss: 0.1674 - val_acc: 0.9637\n",
            "Epoch 1330/1500\n",
            "12149/12149 [==============================] - 2s 130us/step - loss: 0.0423 - acc: 0.9858 - val_loss: 0.1684 - val_acc: 0.9681\n",
            "Epoch 1331/1500\n",
            "12149/12149 [==============================] - 2s 129us/step - loss: 0.0416 - acc: 0.9858 - val_loss: 0.1597 - val_acc: 0.9644\n",
            "Epoch 1332/1500\n",
            "12149/12149 [==============================] - 2s 128us/step - loss: 0.0367 - acc: 0.9877 - val_loss: 0.1578 - val_acc: 0.9711\n",
            "Epoch 1333/1500\n",
            "12149/12149 [==============================] - 2s 128us/step - loss: 0.0365 - acc: 0.9877 - val_loss: 0.1715 - val_acc: 0.9689\n",
            "Epoch 1334/1500\n",
            "12149/12149 [==============================] - 2s 127us/step - loss: 0.0439 - acc: 0.9859 - val_loss: 0.1640 - val_acc: 0.9674\n",
            "Epoch 1335/1500\n",
            "12149/12149 [==============================] - 2s 128us/step - loss: 0.0383 - acc: 0.9875 - val_loss: 0.2037 - val_acc: 0.9667\n",
            "Epoch 1336/1500\n",
            "12149/12149 [==============================] - 2s 130us/step - loss: 0.0427 - acc: 0.9854 - val_loss: 0.1563 - val_acc: 0.9704\n",
            "Epoch 1337/1500\n",
            "12149/12149 [==============================] - 2s 128us/step - loss: 0.0386 - acc: 0.9875 - val_loss: 0.1713 - val_acc: 0.9689\n",
            "Epoch 1338/1500\n",
            "12149/12149 [==============================] - 2s 126us/step - loss: 0.0388 - acc: 0.9869 - val_loss: 0.1593 - val_acc: 0.9659\n",
            "Epoch 1339/1500\n",
            "12149/12149 [==============================] - 2s 128us/step - loss: 0.0388 - acc: 0.9861 - val_loss: 0.1901 - val_acc: 0.9689\n",
            "Epoch 1340/1500\n",
            "12149/12149 [==============================] - 2s 127us/step - loss: 0.0398 - acc: 0.9872 - val_loss: 0.1848 - val_acc: 0.9630\n",
            "Epoch 1341/1500\n",
            "12149/12149 [==============================] - 2s 127us/step - loss: 0.0470 - acc: 0.9846 - val_loss: 0.1552 - val_acc: 0.9659\n",
            "Epoch 1342/1500\n",
            "12149/12149 [==============================] - 2s 129us/step - loss: 0.0407 - acc: 0.9865 - val_loss: 0.1576 - val_acc: 0.9674\n",
            "Epoch 1343/1500\n",
            "12149/12149 [==============================] - 2s 128us/step - loss: 0.0379 - acc: 0.9872 - val_loss: 0.1501 - val_acc: 0.9726\n",
            "Epoch 1344/1500\n",
            "12149/12149 [==============================] - 2s 128us/step - loss: 0.0438 - acc: 0.9859 - val_loss: 0.1499 - val_acc: 0.9741\n",
            "Epoch 1345/1500\n",
            "12149/12149 [==============================] - 2s 128us/step - loss: 0.0383 - acc: 0.9875 - val_loss: 0.1659 - val_acc: 0.9696\n",
            "Epoch 1346/1500\n",
            "12149/12149 [==============================] - 2s 129us/step - loss: 0.0466 - acc: 0.9848 - val_loss: 0.1419 - val_acc: 0.9711\n",
            "Epoch 1347/1500\n",
            "12149/12149 [==============================] - 2s 129us/step - loss: 0.0389 - acc: 0.9874 - val_loss: 0.1713 - val_acc: 0.9674\n",
            "Epoch 1348/1500\n",
            "12149/12149 [==============================] - 2s 129us/step - loss: 0.0356 - acc: 0.9881 - val_loss: 0.1498 - val_acc: 0.9711\n",
            "Epoch 1349/1500\n",
            "12149/12149 [==============================] - 2s 129us/step - loss: 0.0424 - acc: 0.9865 - val_loss: 0.1430 - val_acc: 0.9711\n",
            "Epoch 1350/1500\n",
            "12149/12149 [==============================] - 2s 129us/step - loss: 0.0483 - acc: 0.9848 - val_loss: 0.1593 - val_acc: 0.9644\n",
            "Epoch 1351/1500\n",
            "12149/12149 [==============================] - 2s 128us/step - loss: 0.0364 - acc: 0.9879 - val_loss: 0.1666 - val_acc: 0.9704\n",
            "Epoch 1352/1500\n",
            "12149/12149 [==============================] - 2s 128us/step - loss: 0.0418 - acc: 0.9858 - val_loss: 0.1666 - val_acc: 0.9667\n",
            "Epoch 1353/1500\n",
            "12149/12149 [==============================] - 2s 127us/step - loss: 0.0379 - acc: 0.9877 - val_loss: 0.1458 - val_acc: 0.9667\n",
            "Epoch 1354/1500\n",
            "12149/12149 [==============================] - 2s 129us/step - loss: 0.0434 - acc: 0.9857 - val_loss: 0.1445 - val_acc: 0.9659\n",
            "Epoch 1355/1500\n",
            "12149/12149 [==============================] - 2s 129us/step - loss: 0.0423 - acc: 0.9862 - val_loss: 0.1504 - val_acc: 0.9726\n",
            "Epoch 1356/1500\n",
            "12149/12149 [==============================] - 2s 130us/step - loss: 0.0388 - acc: 0.9878 - val_loss: 0.1611 - val_acc: 0.9719\n",
            "Epoch 1357/1500\n",
            "12149/12149 [==============================] - 2s 129us/step - loss: 0.0482 - acc: 0.9866 - val_loss: 0.1595 - val_acc: 0.9711\n",
            "Epoch 1358/1500\n",
            "12149/12149 [==============================] - 2s 130us/step - loss: 0.0457 - acc: 0.9853 - val_loss: 0.1500 - val_acc: 0.9733\n",
            "Epoch 1359/1500\n",
            "12149/12149 [==============================] - 2s 127us/step - loss: 0.0414 - acc: 0.9867 - val_loss: 0.1666 - val_acc: 0.9674\n",
            "Epoch 1360/1500\n",
            "12149/12149 [==============================] - 2s 130us/step - loss: 0.0436 - acc: 0.9861 - val_loss: 0.1652 - val_acc: 0.9689\n",
            "Epoch 1361/1500\n",
            "12149/12149 [==============================] - 2s 128us/step - loss: 0.0449 - acc: 0.9867 - val_loss: 0.1554 - val_acc: 0.9726\n",
            "Epoch 1362/1500\n",
            "12149/12149 [==============================] - 2s 127us/step - loss: 0.0414 - acc: 0.9868 - val_loss: 0.1830 - val_acc: 0.9689\n",
            "Epoch 1363/1500\n",
            "12149/12149 [==============================] - 2s 129us/step - loss: 0.0425 - acc: 0.9855 - val_loss: 0.1664 - val_acc: 0.9674\n",
            "Epoch 1364/1500\n",
            "12149/12149 [==============================] - 2s 128us/step - loss: 0.0428 - acc: 0.9865 - val_loss: 0.1683 - val_acc: 0.9637\n",
            "Epoch 1365/1500\n",
            "12149/12149 [==============================] - 2s 128us/step - loss: 0.0417 - acc: 0.9858 - val_loss: 0.1563 - val_acc: 0.9704\n",
            "Epoch 1366/1500\n",
            "12149/12149 [==============================] - 2s 130us/step - loss: 0.0435 - acc: 0.9872 - val_loss: 0.1652 - val_acc: 0.9696\n",
            "Epoch 1367/1500\n",
            "12149/12149 [==============================] - 2s 128us/step - loss: 0.0393 - acc: 0.9859 - val_loss: 0.1960 - val_acc: 0.9681\n",
            "Epoch 1368/1500\n",
            "12149/12149 [==============================] - 2s 128us/step - loss: 0.0455 - acc: 0.9853 - val_loss: 0.1389 - val_acc: 0.9711\n",
            "Epoch 1369/1500\n",
            "12149/12149 [==============================] - 2s 127us/step - loss: 0.0402 - acc: 0.9871 - val_loss: 0.1902 - val_acc: 0.9659\n",
            "Epoch 1370/1500\n",
            "12149/12149 [==============================] - 2s 127us/step - loss: 0.0407 - acc: 0.9865 - val_loss: 0.1458 - val_acc: 0.9711\n",
            "Epoch 1371/1500\n",
            "12149/12149 [==============================] - 2s 131us/step - loss: 0.0456 - acc: 0.9855 - val_loss: 0.1493 - val_acc: 0.9689\n",
            "Epoch 1372/1500\n",
            "12149/12149 [==============================] - 2s 129us/step - loss: 0.0429 - acc: 0.9863 - val_loss: 0.1621 - val_acc: 0.9711\n",
            "Epoch 1373/1500\n",
            "12149/12149 [==============================] - 2s 129us/step - loss: 0.0400 - acc: 0.9863 - val_loss: 0.1758 - val_acc: 0.9644\n",
            "Epoch 1374/1500\n",
            "12149/12149 [==============================] - 2s 128us/step - loss: 0.0368 - acc: 0.9872 - val_loss: 0.1873 - val_acc: 0.9674\n",
            "Epoch 1375/1500\n",
            "12149/12149 [==============================] - 2s 131us/step - loss: 0.0397 - acc: 0.9869 - val_loss: 0.1508 - val_acc: 0.9644\n",
            "Epoch 1376/1500\n",
            "12149/12149 [==============================] - 2s 128us/step - loss: 0.0428 - acc: 0.9849 - val_loss: 0.1464 - val_acc: 0.9719\n",
            "Epoch 1377/1500\n",
            "12149/12149 [==============================] - 2s 127us/step - loss: 0.0413 - acc: 0.9862 - val_loss: 0.1605 - val_acc: 0.9696\n",
            "Epoch 1378/1500\n",
            "12149/12149 [==============================] - 2s 129us/step - loss: 0.0430 - acc: 0.9846 - val_loss: 0.1553 - val_acc: 0.9696\n",
            "Epoch 1379/1500\n",
            "12149/12149 [==============================] - 2s 130us/step - loss: 0.0412 - acc: 0.9864 - val_loss: 0.1516 - val_acc: 0.9689\n",
            "Epoch 1380/1500\n",
            "12149/12149 [==============================] - 2s 128us/step - loss: 0.0400 - acc: 0.9861 - val_loss: 0.1499 - val_acc: 0.9704\n",
            "Epoch 1381/1500\n",
            "12149/12149 [==============================] - 2s 129us/step - loss: 0.0366 - acc: 0.9877 - val_loss: 0.1434 - val_acc: 0.9696\n",
            "Epoch 1382/1500\n",
            "12149/12149 [==============================] - 2s 129us/step - loss: 0.0403 - acc: 0.9863 - val_loss: 0.1441 - val_acc: 0.9726\n",
            "Epoch 1383/1500\n",
            "12149/12149 [==============================] - 2s 129us/step - loss: 0.0359 - acc: 0.9877 - val_loss: 0.1790 - val_acc: 0.9652\n",
            "Epoch 1384/1500\n",
            "12149/12149 [==============================] - 2s 132us/step - loss: 0.0410 - acc: 0.9865 - val_loss: 0.1722 - val_acc: 0.9696\n",
            "Epoch 1385/1500\n",
            "12149/12149 [==============================] - 2s 128us/step - loss: 0.0443 - acc: 0.9857 - val_loss: 0.1510 - val_acc: 0.9704\n",
            "Epoch 1386/1500\n",
            "12149/12149 [==============================] - 2s 128us/step - loss: 0.0388 - acc: 0.9877 - val_loss: 0.1647 - val_acc: 0.9711\n",
            "Epoch 1387/1500\n",
            "12149/12149 [==============================] - 2s 132us/step - loss: 0.0419 - acc: 0.9848 - val_loss: 0.1671 - val_acc: 0.9681\n",
            "Epoch 1388/1500\n",
            "12149/12149 [==============================] - 2s 129us/step - loss: 0.0396 - acc: 0.9861 - val_loss: 0.1675 - val_acc: 0.9733\n",
            "Epoch 1389/1500\n",
            "12149/12149 [==============================] - 2s 128us/step - loss: 0.0398 - acc: 0.9859 - val_loss: 0.1779 - val_acc: 0.9681\n",
            "Epoch 1390/1500\n",
            "12149/12149 [==============================] - 2s 133us/step - loss: 0.0418 - acc: 0.9860 - val_loss: 0.1567 - val_acc: 0.9733\n",
            "Epoch 1391/1500\n",
            "12149/12149 [==============================] - 2s 131us/step - loss: 0.0400 - acc: 0.9875 - val_loss: 0.1568 - val_acc: 0.9719\n",
            "Epoch 1392/1500\n",
            "12149/12149 [==============================] - 2s 129us/step - loss: 0.0402 - acc: 0.9860 - val_loss: 0.1556 - val_acc: 0.9711\n",
            "Epoch 1393/1500\n",
            "12149/12149 [==============================] - 2s 129us/step - loss: 0.0410 - acc: 0.9858 - val_loss: 0.1478 - val_acc: 0.9667\n",
            "Epoch 1394/1500\n",
            "12149/12149 [==============================] - 2s 129us/step - loss: 0.0472 - acc: 0.9850 - val_loss: 0.1488 - val_acc: 0.9711\n",
            "Epoch 1395/1500\n",
            "12149/12149 [==============================] - 2s 131us/step - loss: 0.0367 - acc: 0.9870 - val_loss: 0.1563 - val_acc: 0.9726\n",
            "Epoch 1396/1500\n",
            "12149/12149 [==============================] - 2s 129us/step - loss: 0.0370 - acc: 0.9877 - val_loss: 0.1785 - val_acc: 0.9659\n",
            "Epoch 1397/1500\n",
            "12149/12149 [==============================] - 2s 131us/step - loss: 0.0389 - acc: 0.9877 - val_loss: 0.1538 - val_acc: 0.9704\n",
            "Epoch 1398/1500\n",
            "12149/12149 [==============================] - 2s 132us/step - loss: 0.0385 - acc: 0.9869 - val_loss: 0.1672 - val_acc: 0.9704\n",
            "Epoch 1399/1500\n",
            "12149/12149 [==============================] - 2s 131us/step - loss: 0.0481 - acc: 0.9853 - val_loss: 0.1486 - val_acc: 0.9719\n",
            "Epoch 1400/1500\n",
            "12149/12149 [==============================] - 2s 132us/step - loss: 0.0350 - acc: 0.9875 - val_loss: 0.1790 - val_acc: 0.9681\n",
            "Epoch 1401/1500\n",
            "12149/12149 [==============================] - 2s 133us/step - loss: 0.0401 - acc: 0.9867 - val_loss: 0.1336 - val_acc: 0.9681\n",
            "Epoch 1402/1500\n",
            "12149/12149 [==============================] - 2s 143us/step - loss: 0.0417 - acc: 0.9859 - val_loss: 0.1706 - val_acc: 0.9637\n",
            "Epoch 1403/1500\n",
            "12149/12149 [==============================] - 2s 155us/step - loss: 0.0401 - acc: 0.9861 - val_loss: 0.1574 - val_acc: 0.9704\n",
            "Epoch 1404/1500\n",
            "12149/12149 [==============================] - 2s 154us/step - loss: 0.0391 - acc: 0.9866 - val_loss: 0.1641 - val_acc: 0.9689\n",
            "Epoch 1405/1500\n",
            "12149/12149 [==============================] - 2s 152us/step - loss: 0.0381 - acc: 0.9872 - val_loss: 0.1566 - val_acc: 0.9652\n",
            "Epoch 1406/1500\n",
            "12149/12149 [==============================] - 2s 130us/step - loss: 0.0375 - acc: 0.9874 - val_loss: 0.1558 - val_acc: 0.9704\n",
            "Epoch 1407/1500\n",
            "12149/12149 [==============================] - 2s 129us/step - loss: 0.0377 - acc: 0.9864 - val_loss: 0.1484 - val_acc: 0.9681\n",
            "Epoch 1408/1500\n",
            "12149/12149 [==============================] - 2s 128us/step - loss: 0.0390 - acc: 0.9872 - val_loss: 0.1619 - val_acc: 0.9659\n",
            "Epoch 1409/1500\n",
            "12149/12149 [==============================] - 2s 127us/step - loss: 0.0411 - acc: 0.9862 - val_loss: 0.1890 - val_acc: 0.9681\n",
            "Epoch 1410/1500\n",
            "12149/12149 [==============================] - 2s 131us/step - loss: 0.0424 - acc: 0.9863 - val_loss: 0.1560 - val_acc: 0.9681\n",
            "Epoch 1411/1500\n",
            "12149/12149 [==============================] - 2s 128us/step - loss: 0.0377 - acc: 0.9867 - val_loss: 0.1581 - val_acc: 0.9711\n",
            "Epoch 1412/1500\n",
            "12149/12149 [==============================] - 2s 129us/step - loss: 0.0391 - acc: 0.9870 - val_loss: 0.1637 - val_acc: 0.9689\n",
            "Epoch 1413/1500\n",
            "12149/12149 [==============================] - 2s 132us/step - loss: 0.0377 - acc: 0.9876 - val_loss: 0.1634 - val_acc: 0.9644\n",
            "Epoch 1414/1500\n",
            "12149/12149 [==============================] - 2s 130us/step - loss: 0.0375 - acc: 0.9874 - val_loss: 0.1494 - val_acc: 0.9733\n",
            "Epoch 1415/1500\n",
            "12149/12149 [==============================] - 2s 129us/step - loss: 0.0423 - acc: 0.9862 - val_loss: 0.1552 - val_acc: 0.9696\n",
            "Epoch 1416/1500\n",
            "12149/12149 [==============================] - 2s 129us/step - loss: 0.0380 - acc: 0.9872 - val_loss: 0.1570 - val_acc: 0.9704\n",
            "Epoch 1417/1500\n",
            "12149/12149 [==============================] - 2s 128us/step - loss: 0.0374 - acc: 0.9868 - val_loss: 0.1790 - val_acc: 0.9622\n",
            "Epoch 1418/1500\n",
            "12149/12149 [==============================] - 2s 131us/step - loss: 0.0419 - acc: 0.9849 - val_loss: 0.1424 - val_acc: 0.9704\n",
            "Epoch 1419/1500\n",
            "12149/12149 [==============================] - 2s 129us/step - loss: 0.0390 - acc: 0.9867 - val_loss: 0.1470 - val_acc: 0.9696\n",
            "Epoch 1420/1500\n",
            "12149/12149 [==============================] - 2s 128us/step - loss: 0.0416 - acc: 0.9854 - val_loss: 0.1688 - val_acc: 0.9696\n",
            "Epoch 1421/1500\n",
            "12149/12149 [==============================] - 2s 129us/step - loss: 0.0387 - acc: 0.9875 - val_loss: 0.1724 - val_acc: 0.9637\n",
            "Epoch 1422/1500\n",
            "12149/12149 [==============================] - 2s 129us/step - loss: 0.0403 - acc: 0.9865 - val_loss: 0.1488 - val_acc: 0.9711\n",
            "Epoch 1423/1500\n",
            "12149/12149 [==============================] - 2s 131us/step - loss: 0.0382 - acc: 0.9875 - val_loss: 0.1621 - val_acc: 0.9704\n",
            "Epoch 1424/1500\n",
            "12149/12149 [==============================] - 2s 132us/step - loss: 0.0412 - acc: 0.9863 - val_loss: 0.1409 - val_acc: 0.9711\n",
            "Epoch 1425/1500\n",
            "12149/12149 [==============================] - 2s 142us/step - loss: 0.0410 - acc: 0.9858 - val_loss: 0.1568 - val_acc: 0.9689\n",
            "Epoch 1426/1500\n",
            "12149/12149 [==============================] - 2s 146us/step - loss: 0.0378 - acc: 0.9869 - val_loss: 0.1495 - val_acc: 0.9689\n",
            "Epoch 1427/1500\n",
            "12149/12149 [==============================] - 2s 149us/step - loss: 0.0370 - acc: 0.9876 - val_loss: 0.1501 - val_acc: 0.9741\n",
            "Epoch 1428/1500\n",
            "12149/12149 [==============================] - 2s 149us/step - loss: 0.0379 - acc: 0.9872 - val_loss: 0.1612 - val_acc: 0.9704\n",
            "Epoch 1429/1500\n",
            "12149/12149 [==============================] - 2s 149us/step - loss: 0.0421 - acc: 0.9859 - val_loss: 0.1832 - val_acc: 0.9659\n",
            "Epoch 1430/1500\n",
            "12149/12149 [==============================] - 2s 151us/step - loss: 0.0416 - acc: 0.9858 - val_loss: 0.1473 - val_acc: 0.9652\n",
            "Epoch 1431/1500\n",
            "12149/12149 [==============================] - 2s 133us/step - loss: 0.0385 - acc: 0.9878 - val_loss: 0.1731 - val_acc: 0.9652\n",
            "Epoch 1432/1500\n",
            "12149/12149 [==============================] - 2s 132us/step - loss: 0.0434 - acc: 0.9853 - val_loss: 0.1727 - val_acc: 0.9696\n",
            "Epoch 1433/1500\n",
            "12149/12149 [==============================] - 2s 131us/step - loss: 0.0370 - acc: 0.9870 - val_loss: 0.1947 - val_acc: 0.9644\n",
            "Epoch 1434/1500\n",
            "12149/12149 [==============================] - 2s 130us/step - loss: 0.0357 - acc: 0.9872 - val_loss: 0.1591 - val_acc: 0.9667\n",
            "Epoch 1435/1500\n",
            "12149/12149 [==============================] - 2s 131us/step - loss: 0.0488 - acc: 0.9850 - val_loss: 0.1677 - val_acc: 0.9696\n",
            "Epoch 1436/1500\n",
            "12149/12149 [==============================] - 2s 129us/step - loss: 0.0462 - acc: 0.9852 - val_loss: 0.1493 - val_acc: 0.9726\n",
            "Epoch 1437/1500\n",
            "12149/12149 [==============================] - 2s 132us/step - loss: 0.0371 - acc: 0.9868 - val_loss: 0.1511 - val_acc: 0.9696\n",
            "Epoch 1438/1500\n",
            "12149/12149 [==============================] - 2s 129us/step - loss: 0.0376 - acc: 0.9873 - val_loss: 0.1566 - val_acc: 0.9689\n",
            "Epoch 1439/1500\n",
            "12149/12149 [==============================] - 2s 129us/step - loss: 0.0414 - acc: 0.9862 - val_loss: 0.1563 - val_acc: 0.9696\n",
            "Epoch 1440/1500\n",
            "12149/12149 [==============================] - 2s 132us/step - loss: 0.0425 - acc: 0.9858 - val_loss: 0.1430 - val_acc: 0.9681\n",
            "Epoch 1441/1500\n",
            "12149/12149 [==============================] - 2s 132us/step - loss: 0.0406 - acc: 0.9865 - val_loss: 0.1485 - val_acc: 0.9681\n",
            "Epoch 1442/1500\n",
            "12149/12149 [==============================] - 2s 134us/step - loss: 0.0417 - acc: 0.9868 - val_loss: 0.1625 - val_acc: 0.9652\n",
            "Epoch 1443/1500\n",
            "12149/12149 [==============================] - 2s 131us/step - loss: 0.0398 - acc: 0.9872 - val_loss: 0.1817 - val_acc: 0.9622\n",
            "Epoch 1444/1500\n",
            "12149/12149 [==============================] - 2s 132us/step - loss: 0.0406 - acc: 0.9860 - val_loss: 0.1725 - val_acc: 0.9667\n",
            "Epoch 1445/1500\n",
            "12149/12149 [==============================] - 2s 128us/step - loss: 0.0418 - acc: 0.9864 - val_loss: 0.1520 - val_acc: 0.9689\n",
            "Epoch 1446/1500\n",
            "12149/12149 [==============================] - 2s 129us/step - loss: 0.0389 - acc: 0.9865 - val_loss: 0.1608 - val_acc: 0.9704\n",
            "Epoch 1447/1500\n",
            "12149/12149 [==============================] - 2s 129us/step - loss: 0.0382 - acc: 0.9869 - val_loss: 0.1549 - val_acc: 0.9726\n",
            "Epoch 1448/1500\n",
            "12149/12149 [==============================] - 2s 129us/step - loss: 0.0442 - acc: 0.9859 - val_loss: 0.1431 - val_acc: 0.9704\n",
            "Epoch 1449/1500\n",
            "12149/12149 [==============================] - 2s 130us/step - loss: 0.0392 - acc: 0.9864 - val_loss: 0.1521 - val_acc: 0.9704\n",
            "Epoch 1450/1500\n",
            "12149/12149 [==============================] - 2s 132us/step - loss: 0.0354 - acc: 0.9880 - val_loss: 0.1504 - val_acc: 0.9704\n",
            "Epoch 1451/1500\n",
            "12149/12149 [==============================] - 2s 129us/step - loss: 0.0444 - acc: 0.9847 - val_loss: 0.1444 - val_acc: 0.9719\n",
            "Epoch 1452/1500\n",
            "12149/12149 [==============================] - 2s 132us/step - loss: 0.0373 - acc: 0.9868 - val_loss: 0.1528 - val_acc: 0.9696\n",
            "Epoch 1453/1500\n",
            "12149/12149 [==============================] - 2s 133us/step - loss: 0.0349 - acc: 0.9879 - val_loss: 0.1931 - val_acc: 0.9667\n",
            "Epoch 1454/1500\n",
            "12149/12149 [==============================] - 2s 132us/step - loss: 0.0419 - acc: 0.9859 - val_loss: 0.1637 - val_acc: 0.9681\n",
            "Epoch 1455/1500\n",
            "12149/12149 [==============================] - 2s 131us/step - loss: 0.0365 - acc: 0.9871 - val_loss: 0.1695 - val_acc: 0.9696\n",
            "Epoch 1456/1500\n",
            "12149/12149 [==============================] - 2s 130us/step - loss: 0.0436 - acc: 0.9852 - val_loss: 0.1607 - val_acc: 0.9652\n",
            "Epoch 1457/1500\n",
            "12149/12149 [==============================] - 2s 129us/step - loss: 0.0389 - acc: 0.9863 - val_loss: 0.1625 - val_acc: 0.9681\n",
            "Epoch 1458/1500\n",
            "12149/12149 [==============================] - 2s 132us/step - loss: 0.0465 - acc: 0.9840 - val_loss: 0.1533 - val_acc: 0.9681\n",
            "Epoch 1459/1500\n",
            "12149/12149 [==============================] - 2s 133us/step - loss: 0.0403 - acc: 0.9858 - val_loss: 0.1583 - val_acc: 0.9674\n",
            "Epoch 1460/1500\n",
            "12149/12149 [==============================] - 2s 131us/step - loss: 0.0391 - acc: 0.9873 - val_loss: 0.1664 - val_acc: 0.9667\n",
            "Epoch 1461/1500\n",
            "12149/12149 [==============================] - 2s 130us/step - loss: 0.0374 - acc: 0.9879 - val_loss: 0.1624 - val_acc: 0.9607\n",
            "Epoch 1462/1500\n",
            "12149/12149 [==============================] - 2s 133us/step - loss: 0.0353 - acc: 0.9882 - val_loss: 0.1621 - val_acc: 0.9681\n",
            "Epoch 1463/1500\n",
            "12149/12149 [==============================] - 2s 133us/step - loss: 0.0421 - acc: 0.9857 - val_loss: 0.1764 - val_acc: 0.9667\n",
            "Epoch 1464/1500\n",
            "12149/12149 [==============================] - 2s 133us/step - loss: 0.0423 - acc: 0.9867 - val_loss: 0.1861 - val_acc: 0.9659\n",
            "Epoch 1465/1500\n",
            "12149/12149 [==============================] - 2s 130us/step - loss: 0.0396 - acc: 0.9873 - val_loss: 0.1412 - val_acc: 0.9719\n",
            "Epoch 1466/1500\n",
            "12149/12149 [==============================] - 2s 131us/step - loss: 0.0359 - acc: 0.9876 - val_loss: 0.1535 - val_acc: 0.9719\n",
            "Epoch 1467/1500\n",
            "12149/12149 [==============================] - 2s 132us/step - loss: 0.0361 - acc: 0.9887 - val_loss: 0.1539 - val_acc: 0.9667\n",
            "Epoch 1468/1500\n",
            "12149/12149 [==============================] - 2s 131us/step - loss: 0.0444 - acc: 0.9860 - val_loss: 0.1390 - val_acc: 0.9719\n",
            "Epoch 1469/1500\n",
            "12149/12149 [==============================] - 2s 134us/step - loss: 0.0436 - acc: 0.9852 - val_loss: 0.1604 - val_acc: 0.9689\n",
            "Epoch 1470/1500\n",
            "12149/12149 [==============================] - 2s 132us/step - loss: 0.0353 - acc: 0.9882 - val_loss: 0.1672 - val_acc: 0.9667\n",
            "Epoch 1471/1500\n",
            "12149/12149 [==============================] - 2s 133us/step - loss: 0.0384 - acc: 0.9870 - val_loss: 0.1784 - val_acc: 0.9681\n",
            "Epoch 1472/1500\n",
            "12149/12149 [==============================] - 2s 137us/step - loss: 0.0404 - acc: 0.9862 - val_loss: 0.1627 - val_acc: 0.9681\n",
            "Epoch 1473/1500\n",
            "12149/12149 [==============================] - 2s 135us/step - loss: 0.0406 - acc: 0.9865 - val_loss: 0.1403 - val_acc: 0.9733\n",
            "Epoch 1474/1500\n",
            "12149/12149 [==============================] - 2s 132us/step - loss: 0.0378 - acc: 0.9876 - val_loss: 0.1781 - val_acc: 0.9667\n",
            "Epoch 1475/1500\n",
            "12149/12149 [==============================] - 2s 135us/step - loss: 0.0377 - acc: 0.9872 - val_loss: 0.1640 - val_acc: 0.9704\n",
            "Epoch 1476/1500\n",
            "12149/12149 [==============================] - 2s 133us/step - loss: 0.0395 - acc: 0.9869 - val_loss: 0.1699 - val_acc: 0.9681\n",
            "Epoch 1477/1500\n",
            "12149/12149 [==============================] - 2s 132us/step - loss: 0.0343 - acc: 0.9889 - val_loss: 0.1709 - val_acc: 0.9681\n",
            "Epoch 1478/1500\n",
            "12149/12149 [==============================] - 2s 134us/step - loss: 0.0390 - acc: 0.9865 - val_loss: 0.1537 - val_acc: 0.9674\n",
            "Epoch 1479/1500\n",
            "12149/12149 [==============================] - 2s 132us/step - loss: 0.0371 - acc: 0.9880 - val_loss: 0.1715 - val_acc: 0.9667\n",
            "Epoch 1480/1500\n",
            "12149/12149 [==============================] - 2s 133us/step - loss: 0.0391 - acc: 0.9862 - val_loss: 0.1650 - val_acc: 0.9681\n",
            "Epoch 1481/1500\n",
            "12149/12149 [==============================] - 2s 133us/step - loss: 0.0414 - acc: 0.9861 - val_loss: 0.1669 - val_acc: 0.9667\n",
            "Epoch 1482/1500\n",
            "12149/12149 [==============================] - 2s 129us/step - loss: 0.0468 - acc: 0.9850 - val_loss: 0.1784 - val_acc: 0.9637\n",
            "Epoch 1483/1500\n",
            "12149/12149 [==============================] - 2s 131us/step - loss: 0.0420 - acc: 0.9853 - val_loss: 0.1483 - val_acc: 0.9667\n",
            "Epoch 1484/1500\n",
            "12149/12149 [==============================] - 2s 133us/step - loss: 0.0358 - acc: 0.9871 - val_loss: 0.1649 - val_acc: 0.9696\n",
            "Epoch 1485/1500\n",
            "12149/12149 [==============================] - 2s 130us/step - loss: 0.0422 - acc: 0.9858 - val_loss: 0.1606 - val_acc: 0.9704\n",
            "Epoch 1486/1500\n",
            "12149/12149 [==============================] - 2s 131us/step - loss: 0.0415 - acc: 0.9862 - val_loss: 0.1473 - val_acc: 0.9704\n",
            "Epoch 1487/1500\n",
            "12149/12149 [==============================] - 2s 132us/step - loss: 0.0403 - acc: 0.9866 - val_loss: 0.1494 - val_acc: 0.9696\n",
            "Epoch 1488/1500\n",
            "12149/12149 [==============================] - 2s 132us/step - loss: 0.0356 - acc: 0.9881 - val_loss: 0.1527 - val_acc: 0.9719\n",
            "Epoch 1489/1500\n",
            "12149/12149 [==============================] - 2s 134us/step - loss: 0.0415 - acc: 0.9860 - val_loss: 0.1573 - val_acc: 0.9652\n",
            "Epoch 1490/1500\n",
            "12149/12149 [==============================] - 2s 131us/step - loss: 0.0394 - acc: 0.9878 - val_loss: 0.1526 - val_acc: 0.9652\n",
            "Epoch 1491/1500\n",
            "12149/12149 [==============================] - 2s 131us/step - loss: 0.0368 - acc: 0.9869 - val_loss: 0.1644 - val_acc: 0.9689\n",
            "Epoch 1492/1500\n",
            "12149/12149 [==============================] - 2s 132us/step - loss: 0.0416 - acc: 0.9863 - val_loss: 0.1761 - val_acc: 0.9667\n",
            "Epoch 1493/1500\n",
            "12149/12149 [==============================] - 2s 132us/step - loss: 0.0397 - acc: 0.9861 - val_loss: 0.1655 - val_acc: 0.9696\n",
            "Epoch 1494/1500\n",
            "12149/12149 [==============================] - 2s 131us/step - loss: 0.0362 - acc: 0.9881 - val_loss: 0.1802 - val_acc: 0.9704\n",
            "Epoch 1495/1500\n",
            "12149/12149 [==============================] - 2s 129us/step - loss: 0.0395 - acc: 0.9863 - val_loss: 0.1529 - val_acc: 0.9696\n",
            "Epoch 1496/1500\n",
            "12149/12149 [==============================] - 2s 131us/step - loss: 0.0408 - acc: 0.9863 - val_loss: 0.1622 - val_acc: 0.9704\n",
            "Epoch 1497/1500\n",
            "12149/12149 [==============================] - 2s 132us/step - loss: 0.0349 - acc: 0.9880 - val_loss: 0.1578 - val_acc: 0.9689\n",
            "Epoch 1498/1500\n",
            "12149/12149 [==============================] - 2s 131us/step - loss: 0.0434 - acc: 0.9855 - val_loss: 0.1507 - val_acc: 0.9726\n",
            "Epoch 1499/1500\n",
            "12149/12149 [==============================] - 2s 132us/step - loss: 0.0378 - acc: 0.9882 - val_loss: 0.1665 - val_acc: 0.9681\n",
            "Epoch 1500/1500\n",
            "12149/12149 [==============================] - 2s 129us/step - loss: 0.0364 - acc: 0.9876 - val_loss: 0.1400 - val_acc: 0.9704\n"
          ],
          "name": "stdout"
        },
        {
          "output_type": "execute_result",
          "data": {
            "text/plain": [
              "<keras.callbacks.History at 0x7f124ac87828>"
            ]
          },
          "metadata": {
            "tags": []
          },
          "execution_count": 155
        }
      ]
    },
    {
      "metadata": {
        "id": "19w0aIixJOpT",
        "colab_type": "code",
        "colab": {}
      },
      "cell_type": "code",
      "source": [
        "y_train_pred_neural_net = neural_net.predict_classes(x_train)"
      ],
      "execution_count": 0,
      "outputs": []
    },
    {
      "metadata": {
        "id": "9RAwdtz_JRlj",
        "colab_type": "code",
        "colab": {}
      },
      "cell_type": "code",
      "source": [
        "cm = confusion_matrix(y_train,y_train_pred_neural_net)"
      ],
      "execution_count": 0,
      "outputs": []
    },
    {
      "metadata": {
        "id": "0txu2YRlJS-y",
        "colab_type": "code",
        "colab": {
          "base_uri": "https://localhost:8080/",
          "height": 416
        },
        "outputId": "2920b76b-1955-48cc-e2ed-1d75c17bbf3c"
      },
      "cell_type": "code",
      "source": [
        "plot_confusion_matrix(cm,[0,1])"
      ],
      "execution_count": 158,
      "outputs": [
        {
          "output_type": "stream",
          "text": [
            "Confusion matrix, without normalization\n",
            "[[10195    90]\n",
            " [   95  3119]]\n"
          ],
          "name": "stdout"
        },
        {
          "output_type": "display_data",
          "data": {
            "image/png": "[encoded data removed]",
            "text/plain": [
              "<Figure size 360x360 with 2 Axes>"
            ]
          },
          "metadata": {
            "tags": []
          }
        }
      ]
    },
    {
      "metadata": {
        "id": "NGRLeiLYJUUB",
        "colab_type": "code",
        "colab": {
          "base_uri": "https://localhost:8080/",
          "height": 54
        },
        "outputId": "819a2b3e-2837-4c33-c5de-99fe15bef328"
      },
      "cell_type": "code",
      "source": [
        "classification_report(y_train,y_train_pred_neural_net)"
      ],
      "execution_count": 159,
      "outputs": [
        {
          "output_type": "execute_result",
          "data": {
            "text/plain": [
              "'              precision    recall  f1-score   support\\n\\n           0       0.99      0.99      0.99     10285\\n           1       0.97      0.97      0.97      3214\\n\\n   micro avg       0.99      0.99      0.99     13499\\n   macro avg       0.98      0.98      0.98     13499\\nweighted avg       0.99      0.99      0.99     13499\\n'"
            ]
          },
          "metadata": {
            "tags": []
          },
          "execution_count": 159
        }
      ]
    },
    {
      "metadata": {
        "id": "N16TFIOYJWNp",
        "colab_type": "code",
        "colab": {}
      },
      "cell_type": "code",
      "source": [
        "y_test_pred_neural_net = neural_net.predict_classes(x_test)"
      ],
      "execution_count": 0,
      "outputs": []
    },
    {
      "metadata": {
        "id": "aYiIe_X4JZZk",
        "colab_type": "code",
        "colab": {}
      },
      "cell_type": "code",
      "source": [
        "cm = confusion_matrix(y_test,y_test_pred_neural_net)"
      ],
      "execution_count": 0,
      "outputs": []
    },
    {
      "metadata": {
        "id": "CrHCPBp2Je1p",
        "colab_type": "code",
        "colab": {
          "base_uri": "https://localhost:8080/",
          "height": 416
        },
        "outputId": "243964d4-4367-4bd0-c35a-99c0f24dd99c"
      },
      "cell_type": "code",
      "source": [
        "plot_confusion_matrix(cm,[0,1])"
      ],
      "execution_count": 163,
      "outputs": [
        {
          "output_type": "stream",
          "text": [
            "Confusion matrix, without normalization\n",
            "[[1119   24]\n",
            " [  18  339]]\n"
          ],
          "name": "stdout"
        },
        {
          "output_type": "display_data",
          "data": {
            "image/png": "[encoded data removed]",
            "text/plain": [
              "<Figure size 360x360 with 2 Axes>"
            ]
          },
          "metadata": {
            "tags": []
          }
        }
      ]
    },
    {
      "metadata": {
        "id": "5vjV2zs2JXrz",
        "colab_type": "code",
        "colab": {
          "base_uri": "https://localhost:8080/",
          "height": 54
        },
        "outputId": "98e82ed2-8545-4af0-8fc1-76cf2ba9181a"
      },
      "cell_type": "code",
      "source": [
        "classification_report(y_test,y_test_pred_neural_net)"
      ],
      "execution_count": 164,
      "outputs": [
        {
          "output_type": "execute_result",
          "data": {
            "text/plain": [
              "'              precision    recall  f1-score   support\\n\\n           0       0.98      0.98      0.98      1143\\n           1       0.93      0.95      0.94       357\\n\\n   micro avg       0.97      0.97      0.97      1500\\n   macro avg       0.96      0.96      0.96      1500\\nweighted avg       0.97      0.97      0.97      1500\\n'"
            ]
          },
          "metadata": {
            "tags": []
          },
          "execution_count": 164
        }
      ]
    }
  ]
}