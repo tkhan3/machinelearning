{
  "nbformat": 4,
  "nbformat_minor": 0,
  "metadata": {
    "colab": {
      "name": "Untitled15.ipynb",
      "provenance": [],
      "authorship_tag": "ABX9TyMlfOOPI6TJk5bYC3fZmXbF",
      "include_colab_link": true
    },
    "kernelspec": {
      "name": "python3",
      "display_name": "Python 3"
    },
    "accelerator": "GPU"
  },
  "cells": [
    {
      "cell_type": "markdown",
      "metadata": {
        "id": "view-in-github",
        "colab_type": "text"
      },
      "source": [
        "<a href=\"https://colab.research.google.com/github/tkhan3/machinelearning/blob/master/jd%20outlier.ipynb\" target=\"_parent\"><img src=\"https://colab.research.google.com/assets/colab-badge.svg\" alt=\"Open In Colab\"/></a>"
      ]
    },
    {
      "cell_type": "code",
      "metadata": {
        "id": "0LrFQ1TL2bkg",
        "colab_type": "code",
        "colab": {}
      },
      "source": [
        "import numpy as np"
      ],
      "execution_count": 0,
      "outputs": []
    },
    {
      "cell_type": "code",
      "metadata": {
        "id": "L7CWS90ky0kp",
        "colab_type": "code",
        "colab": {}
      },
      "source": [
        "l = [29.50697924\n",
        "  ,29.53242349\n",
        "  ,31.27604418\n",
        "  ,11.35976472\n",
        "# l = [11.35976472\n",
        ",8.910379528\n",
        ",8.910379528\n",
        ",8.910379528\n",
        ",8.910379528\n",
        ",8.572347352\n",
        ",4.503589654\n",
        ",4.325497065\n",
        ",4.548028394\n",
        ",4.548028394\n",
        ",4.503589654\n",
        ",4.615870303\n",
        ",4.548028394\n",
        ",4.503589654\n",
        ",4.325497065\n",
        ",4.325497065\n",
        ",4.548028394\n",
        ",4.325497065\n",
        ",4.548028394\n",
        ",4.325497065\n",
        ",4.325497065\n",
        ",4.534876023\n",
        ",4.648557446\n",
        "#,11.02794263\n",
        ",6.582853993\n",
        ",4.526497178\n",
        ",4.500789231\n",
        ",4.534876023\n",
        ",4.561766477\n",
        ",4.445184511\n",
        ",4.445184511\n",
        ",4.445184511\n",
        ",4.445184511\n",
        ",4.445184511\n",
        ",4.445184511\n",
        ",4.445184511\n",
        ",4.445184511\n",
        ",4.445184511]"
      ],
      "execution_count": 0,
      "outputs": []
    },
    {
      "cell_type": "code",
      "metadata": {
        "id": "2zNuVWln2imb",
        "colab_type": "code",
        "colab": {}
      },
      "source": [
        "a = np.array(l)"
      ],
      "execution_count": 0,
      "outputs": []
    },
    {
      "cell_type": "code",
      "metadata": {
        "id": "1_ELlZJt0_XX",
        "colab_type": "code",
        "colab": {}
      },
      "source": [
        "import seaborn as sns"
      ],
      "execution_count": 0,
      "outputs": []
    },
    {
      "cell_type": "code",
      "metadata": {
        "id": "4zSvfFWG4AZ9",
        "colab_type": "code",
        "colab": {
          "base_uri": "https://localhost:8080/",
          "height": 284
        },
        "outputId": "434845c5-aa1e-4eb4-b3ca-7bee6b26d50b"
      },
      "source": [
        "sns.kdeplot(a,shade=True)"
      ],
      "execution_count": 6,
      "outputs": [
        {
          "output_type": "execute_result",
          "data": {
            "text/plain": [
              "<matplotlib.axes._subplots.AxesSubplot at 0x7f5695ec1748>"
            ]
          },
          "metadata": {
            "tags": []
          },
          "execution_count": 6
        },
        {
          "output_type": "display_data",
          "data": {
            "image/png": "[encoded data removed]",
            "text/plain": [
              "<Figure size 432x288 with 1 Axes>"
            ]
          },
          "metadata": {
            "tags": []
          }
        }
      ]
    },
    {
      "cell_type": "code",
      "metadata": {
        "id": "NJ20OUQ61VRv",
        "colab_type": "code",
        "colab": {
          "base_uri": "https://localhost:8080/",
          "height": 284
        },
        "outputId": "116f228b-1aff-4489-f4bb-a1ada9954e7e"
      },
      "source": [
        "sns.boxplot(x=a)"
      ],
      "execution_count": 7,
      "outputs": [
        {
          "output_type": "execute_result",
          "data": {
            "text/plain": [
              "<matplotlib.axes._subplots.AxesSubplot at 0x7f5695eaad68>"
            ]
          },
          "metadata": {
            "tags": []
          },
          "execution_count": 7
        },
        {
          "output_type": "display_data",
          "data": {
            "image/png": "[encoded data removed]",
            "text/plain": [
              "<Figure size 432x288 with 1 Axes>"
            ]
          },
          "metadata": {
            "tags": []
          }
        }
      ]
    },
    {
      "cell_type": "code",
      "metadata": {
        "id": "o5sEmqDZTx9E",
        "colab_type": "code",
        "colab": {
          "base_uri": "https://localhost:8080/",
          "height": 284
        },
        "outputId": "883157ca-0a96-40ea-cbb8-a48d9e306c7d"
      },
      "source": [
        "sns.distplot(a, hist=False, rug=True)"
      ],
      "execution_count": 12,
      "outputs": [
        {
          "output_type": "execute_result",
          "data": {
            "text/plain": [
              "<matplotlib.axes._subplots.AxesSubplot at 0x7f5693f842e8>"
            ]
          },
          "metadata": {
            "tags": []
          },
          "execution_count": 12
        },
        {
          "output_type": "display_data",
          "data": {
            "image/png": "[encoded data removed]",
            "text/plain": [
              "<Figure size 432x288 with 1 Axes>"
            ]
          },
          "metadata": {
            "tags": []
          }
        }
      ]
    },
    {
      "cell_type": "code",
      "metadata": {
        "id": "GdXqZaV-asX4",
        "colab_type": "code",
        "colab": {
          "base_uri": "https://localhost:8080/",
          "height": 284
        },
        "outputId": "8e925195-b55f-401a-f232-9c53d45ed50c"
      },
      "source": [
        "sns.distplot(a)"
      ],
      "execution_count": 13,
      "outputs": [
        {
          "output_type": "execute_result",
          "data": {
            "text/plain": [
              "<matplotlib.axes._subplots.AxesSubplot at 0x7f5695933ac8>"
            ]
          },
          "metadata": {
            "tags": []
          },
          "execution_count": 13
        },
        {
          "output_type": "display_data",
          "data": {
            "image/png": "[encoded data removed]",
            "text/plain": [
              "<Figure size 432x288 with 1 Axes>"
            ]
          },
          "metadata": {
            "tags": []
          }
        }
      ]
    },
    {
      "cell_type": "code",
      "metadata": {
        "id": "fRfgJWVR2sl8",
        "colab_type": "code",
        "colab": {
          "base_uri": "https://localhost:8080/",
          "height": 36
        },
        "outputId": "bb1b3dc5-d38e-4bd6-8ce9-c6be6c54b43c"
      },
      "source": [
        "a.mean()"
      ],
      "execution_count": 23,
      "outputs": [
        {
          "output_type": "execute_result",
          "data": {
            "text/plain": [
              "7.259357568756098"
            ]
          },
          "metadata": {
            "tags": []
          },
          "execution_count": 23
        }
      ]
    },
    {
      "cell_type": "code",
      "metadata": {
        "id": "-eG_6aa62uSP",
        "colab_type": "code",
        "colab": {}
      },
      "source": [
        "standard = np.std(a)"
      ],
      "execution_count": 0,
      "outputs": []
    },
    {
      "cell_type": "code",
      "metadata": {
        "id": "9kAru62X3ftH",
        "colab_type": "code",
        "colab": {}
      },
      "source": [
        "from scipy import stats"
      ],
      "execution_count": 0,
      "outputs": []
    },
    {
      "cell_type": "code",
      "metadata": {
        "id": "YZC3zoWp3h-G",
        "colab_type": "code",
        "colab": {}
      },
      "source": [
        " z_matrix = stats.zscore(a)"
      ],
      "execution_count": 0,
      "outputs": []
    },
    {
      "cell_type": "code",
      "metadata": {
        "id": "sZRV1esm2BgG",
        "colab_type": "code",
        "colab": {
          "base_uri": "https://localhost:8080/",
          "height": 36
        },
        "outputId": "74a0aa38-661a-4e61-c2a5-c814f8131584"
      },
      "source": [
        "np.mean(z_matrix)"
      ],
      "execution_count": 26,
      "outputs": [
        {
          "output_type": "execute_result",
          "data": {
            "text/plain": [
              "-7.888426753915586e-16"
            ]
          },
          "metadata": {
            "tags": []
          },
          "execution_count": 26
        }
      ]
    },
    {
      "cell_type": "code",
      "metadata": {
        "id": "No8D7e-G2KmU",
        "colab_type": "code",
        "colab": {
          "base_uri": "https://localhost:8080/",
          "height": 36
        },
        "outputId": "81ee8698-518b-4afa-85f7-13ed2a0fe548"
      },
      "source": [
        "np.std(z_matrix)"
      ],
      "execution_count": 27,
      "outputs": [
        {
          "output_type": "execute_result",
          "data": {
            "text/plain": [
              "1.0000000000000002"
            ]
          },
          "metadata": {
            "tags": []
          },
          "execution_count": 27
        }
      ]
    },
    {
      "cell_type": "code",
      "metadata": {
        "id": "444BN9G413H1",
        "colab_type": "code",
        "colab": {
          "base_uri": "https://localhost:8080/",
          "height": 284
        },
        "outputId": "35901aac-56e8-4eed-a830-9e30546c8c17"
      },
      "source": [
        "sns.boxplot(x=z_matrix)"
      ],
      "execution_count": 25,
      "outputs": [
        {
          "output_type": "execute_result",
          "data": {
            "text/plain": [
              "<matplotlib.axes._subplots.AxesSubplot at 0x7f3c705594a8>"
            ]
          },
          "metadata": {
            "tags": []
          },
          "execution_count": 25
        },
        {
          "output_type": "display_data",
          "data": {
            "image/png": "[encoded data removed]",
            "text/plain": [
              "<Figure size 432x288 with 1 Axes>"
            ]
          },
          "metadata": {
            "tags": []
          }
        }
      ]
    },
    {
      "cell_type": "code",
      "metadata": {
        "id": "q-BaSbYQzTZF",
        "colab_type": "code",
        "colab": {
          "base_uri": "https://localhost:8080/",
          "height": 36
        },
        "outputId": "189b241c-296b-4d05-c6a8-f9a49b142329"
      },
      "source": [
        "np.where(z_matrix > 3)"
      ],
      "execution_count": 16,
      "outputs": [
        {
          "output_type": "execute_result",
          "data": {
            "text/plain": [
              "(array([ 0, 23]),)"
            ]
          },
          "metadata": {
            "tags": []
          },
          "execution_count": 16
        }
      ]
    },
    {
      "cell_type": "code",
      "metadata": {
        "id": "GIamhzxu22BQ",
        "colab_type": "code",
        "colab": {}
      },
      "source": [
        "a = [4.503589654\n",
        ",4.325497065\n",
        ",4.548028394\n",
        ",4.548028394\n",
        ",4.503589654\n",
        ",4.615870303\n",
        ",4.548028394\n",
        ",4.503589654\n",
        ",4.325497065\n",
        ",4.325497065\n",
        ",4.548028394\n",
        ",4.325497065\n",
        ",4.548028394\n",
        ",4.325497065\n",
        ",4.325497065\n",
        ",4.534876023\n",
        ",4.648557446\n",
        ",6.582853993\n",
        ",4.526497178\n",
        ",4.500789231\n",
        ",4.534876023\n",
        ",4.561766477\n",
        ",4.445184511\n",
        ",4.445184511\n",
        ",4.445184511\n",
        ",4.445184511\n",
        ",4.445184511\n",
        ",4.445184511\n",
        ",4.445184511\n",
        ",4.445184511\n",
        ",4.445184511]"
      ],
      "execution_count": 0,
      "outputs": []
    },
    {
      "cell_type": "code",
      "metadata": {
        "id": "Nq6hmnMT3qQ7",
        "colab_type": "code",
        "colab": {}
      },
      "source": [
        "a = [10,30]"
      ],
      "execution_count": 0,
      "outputs": []
    },
    {
      "cell_type": "code",
      "metadata": {
        "id": "OzNOOiiF28C9",
        "colab_type": "code",
        "colab": {
          "base_uri": "https://localhost:8080/",
          "height": 36
        },
        "outputId": "87f8815f-e25e-49a4-8862-21426081b36a"
      },
      "source": [
        "np.mean(a)"
      ],
      "execution_count": 35,
      "outputs": [
        {
          "output_type": "execute_result",
          "data": {
            "text/plain": [
              "20.0"
            ]
          },
          "metadata": {
            "tags": []
          },
          "execution_count": 35
        }
      ]
    },
    {
      "cell_type": "code",
      "metadata": {
        "id": "qDrkog3l2-zD",
        "colab_type": "code",
        "colab": {
          "base_uri": "https://localhost:8080/",
          "height": 36
        },
        "outputId": "6272796e-7bb1-4cfb-f5d2-31e341371343"
      },
      "source": [
        "np.std(a)"
      ],
      "execution_count": 36,
      "outputs": [
        {
          "output_type": "execute_result",
          "data": {
            "text/plain": [
              "10.0"
            ]
          },
          "metadata": {
            "tags": []
          },
          "execution_count": 36
        }
      ]
    },
    {
      "cell_type": "code",
      "metadata": {
        "id": "iWmVH_Bb3EvS",
        "colab_type": "code",
        "colab": {}
      },
      "source": [
        " z_matrix = stats.zscore(a)"
      ],
      "execution_count": 0,
      "outputs": []
    },
    {
      "cell_type": "code",
      "metadata": {
        "id": "-ze0heH_3HQR",
        "colab_type": "code",
        "colab": {
          "base_uri": "https://localhost:8080/",
          "height": 36
        },
        "outputId": "f51bc619-9e0c-4be7-8055-f043edfb5410"
      },
      "source": [
        "np.where(z_matrix > 2)"
      ],
      "execution_count": 33,
      "outputs": [
        {
          "output_type": "execute_result",
          "data": {
            "text/plain": [
              "(array([17]),)"
            ]
          },
          "metadata": {
            "tags": []
          },
          "execution_count": 33
        }
      ]
    },
    {
      "cell_type": "code",
      "metadata": {
        "id": "9ACoB6EV3OfD",
        "colab_type": "code",
        "colab": {}
      },
      "source": [
        "from sklearn.ensemble import IsolationForest"
      ],
      "execution_count": 0,
      "outputs": []
    },
    {
      "cell_type": "code",
      "metadata": {
        "id": "h3LuI7EX4XBp",
        "colab_type": "code",
        "colab": {
          "base_uri": "https://localhost:8080/",
          "height": 167
        },
        "outputId": "60eb50af-d81a-4b2a-c4d8-6052542d4b10"
      },
      "source": [
        "a"
      ],
      "execution_count": 44,
      "outputs": [
        {
          "output_type": "execute_result",
          "data": {
            "text/plain": [
              "array([29.50697924, 29.53242349, 31.27604418, 11.35976472,  8.91037953,\n",
              "        8.91037953,  8.91037953,  8.91037953,  8.57234735,  4.50358965,\n",
              "        4.32549707,  4.54802839,  4.54802839,  4.50358965,  4.6158703 ,\n",
              "        4.54802839,  4.50358965,  4.32549707,  4.32549707,  4.54802839,\n",
              "        4.32549707,  4.54802839,  4.32549707,  4.32549707,  4.53487602,\n",
              "        4.64855745,  6.58285399,  4.52649718,  4.50078923,  4.53487602,\n",
              "        4.56176648,  4.44518451,  4.44518451,  4.44518451,  4.44518451,\n",
              "        4.44518451,  4.44518451,  4.44518451,  4.44518451,  4.44518451])"
            ]
          },
          "metadata": {
            "tags": []
          },
          "execution_count": 44
        }
      ]
    },
    {
      "cell_type": "code",
      "metadata": {
        "id": "8Hp_ykAu4e7X",
        "colab_type": "code",
        "colab": {}
      },
      "source": [
        "#np.seed(42)"
      ],
      "execution_count": 0,
      "outputs": []
    },
    {
      "cell_type": "code",
      "metadata": {
        "id": "fn9WMg9Y4c3T",
        "colab_type": "code",
        "colab": {}
      },
      "source": [
        "Isolcation_clf = IsolationForest(max_samples=100, random_state=42)"
      ],
      "execution_count": 0,
      "outputs": []
    },
    {
      "cell_type": "code",
      "metadata": {
        "id": "XzJqrT8F4v6A",
        "colab_type": "code",
        "colab": {}
      },
      "source": [
        "a = a.reshape(-1,1)"
      ],
      "execution_count": 0,
      "outputs": []
    },
    {
      "cell_type": "code",
      "metadata": {
        "id": "DB0quYQp42o6",
        "colab_type": "code",
        "colab": {
          "base_uri": "https://localhost:8080/",
          "height": 36
        },
        "outputId": "6121de77-8952-42a7-8c73-35425b125696"
      },
      "source": [
        "a.shape"
      ],
      "execution_count": 57,
      "outputs": [
        {
          "output_type": "execute_result",
          "data": {
            "text/plain": [
              "(40, 1)"
            ]
          },
          "metadata": {
            "tags": []
          },
          "execution_count": 57
        }
      ]
    },
    {
      "cell_type": "code",
      "metadata": {
        "id": "t63sJR394n0V",
        "colab_type": "code",
        "colab": {
          "base_uri": "https://localhost:8080/",
          "height": 131
        },
        "outputId": "0c506efb-140f-4df3-b84e-bfaccd21f0b5"
      },
      "source": [
        "Isolcation_clf.fit(a)"
      ],
      "execution_count": 58,
      "outputs": [
        {
          "output_type": "stream",
          "text": [
            "/usr/local/lib/python3.6/dist-packages/sklearn/ensemble/_iforest.py:281: UserWarning: max_samples (100) is greater than the total number of samples (40). max_samples will be set to n_samples for estimation.\n",
            "  % (self.max_samples, n_samples))\n"
          ],
          "name": "stderr"
        },
        {
          "output_type": "execute_result",
          "data": {
            "text/plain": [
              "IsolationForest(behaviour='deprecated', bootstrap=False, contamination='auto',\n",
              "                max_features=1.0, max_samples=100, n_estimators=100,\n",
              "                n_jobs=None, random_state=42, verbose=0, warm_start=False)"
            ]
          },
          "metadata": {
            "tags": []
          },
          "execution_count": 58
        }
      ]
    },
    {
      "cell_type": "code",
      "metadata": {
        "id": "4PqEld-F5CJt",
        "colab_type": "code",
        "colab": {}
      },
      "source": [
        "y_pred = Isolcation_clf.predict(a)"
      ],
      "execution_count": 0,
      "outputs": []
    },
    {
      "cell_type": "code",
      "metadata": {
        "id": "h8pVu_595N3D",
        "colab_type": "code",
        "colab": {
          "base_uri": "https://localhost:8080/",
          "height": 54
        },
        "outputId": "de9995e3-9cc9-46a4-8c43-fbc2f0068341"
      },
      "source": [
        "np.where(y_pred == 1)"
      ],
      "execution_count": 62,
      "outputs": [
        {
          "output_type": "execute_result",
          "data": {
            "text/plain": [
              "(array([ 9, 10, 11, 12, 13, 15, 16, 17, 18, 19, 20, 21, 22, 23, 24, 27, 28,\n",
              "        29, 30, 31, 32, 33, 34, 35, 36, 37, 38, 39]),)"
            ]
          },
          "metadata": {
            "tags": []
          },
          "execution_count": 62
        }
      ]
    },
    {
      "cell_type": "code",
      "metadata": {
        "id": "vldC3Kqy5ZZx",
        "colab_type": "code",
        "colab": {
          "base_uri": "https://localhost:8080/",
          "height": 174
        },
        "outputId": "9a1c28ad-8738-4240-e875-e0fabe6cd36d"
      },
      "source": [
        "y_pred"
      ],
      "execution_count": 1,
      "outputs": [
        {
          "output_type": "error",
          "ename": "NameError",
          "evalue": "ignored",
          "traceback": [
            "\u001b[0;31m---------------------------------------------------------------------------\u001b[0m",
            "\u001b[0;31mNameError\u001b[0m                                 Traceback (most recent call last)",
            "\u001b[0;32m<ipython-input-1-3aaf935e6aec>\u001b[0m in \u001b[0;36m<module>\u001b[0;34m()\u001b[0m\n\u001b[0;32m----> 1\u001b[0;31m \u001b[0my_pred\u001b[0m\u001b[0;34m\u001b[0m\u001b[0;34m\u001b[0m\u001b[0m\n\u001b[0m",
            "\u001b[0;31mNameError\u001b[0m: name 'y_pred' is not defined"
          ]
        }
      ]
    }
  ]
}