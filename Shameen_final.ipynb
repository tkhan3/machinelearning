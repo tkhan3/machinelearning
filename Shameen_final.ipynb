{
  "nbformat": 4,
  "nbformat_minor": 0,
  "metadata": {
    "colab": {
      "name": "Shameen_final.ipynb",
      "version": "0.3.2",
      "provenance": [],
      "include_colab_link": true
    },
    "kernelspec": {
      "name": "python3",
      "display_name": "Python 3"
    }
  },
  "cells": [
    {
      "cell_type": "markdown",
      "metadata": {
        "id": "view-in-github",
        "colab_type": "text"
      },
      "source": [
        "<a href=\"https://colab.research.google.com/github/tkhan3/machinelearning/blob/master/Shameen_final.ipynb\" target=\"_parent\"><img src=\"https://colab.research.google.com/assets/colab-badge.svg\" alt=\"Open In Colab\"/></a>"
      ]
    },
    {
      "metadata": {
        "id": "s_z28PSgRcYx",
        "colab_type": "code",
        "outputId": "ef11ca23-017d-4c8c-f640-c73439be680c",
        "colab": {
          "base_uri": "https://localhost:8080/",
          "height": 584
        }
      },
      "cell_type": "code",
      "source": [
        "!apt-get install -y -qq software-properties-common python-software-properties module-init-tools\n",
        "!add-apt-repository -y ppa:alessandro-strada/ppa 2>&1 > /dev/null\n",
        "!apt-get update -qq 2>&1 > /dev/null\n",
        "!apt-get -y install -qq google-drive-ocamlfuse fuse\n",
        "from google.colab import auth\n",
        "auth.authenticate_user()\n",
        "from oauth2client.client import GoogleCredentials\n",
        "creds = GoogleCredentials.get_application_default()\n",
        "import getpass\n",
        "!google-drive-ocamlfuse -headless -id={creds.client_id} -secret={creds.client_secret} < /dev/null 2>&1 | grep URL\n",
        "vcode = getpass.getpass()\n",
        "!echo {vcode} | google-drive-ocamlfuse -headless -id={creds.client_id} -secret={creds.client_secret}\n",
        "#import pandas as pd\n",
        "!google-drive-ocamlfuse drive\n",
        "!apt-get -qq install -y graphviz && pip install -q pydot\n",
        "!pip3 install seaborn==0.9.0\n",
        "import pydot\n",
        "!mkdir -p drive\n",
        "!google-drive-ocamlfuse drive"
      ],
      "execution_count": 0,
      "outputs": [
        {
          "output_type": "stream",
          "text": [
            "E: Package 'python-software-properties' has no installation candidate\n",
            "Selecting previously unselected package google-drive-ocamlfuse.\n",
            "(Reading database ... 110851 files and directories currently installed.)\n",
            "Preparing to unpack .../google-drive-ocamlfuse_0.7.1-0ubuntu3~ubuntu18.04.1_amd64.deb ...\n",
            "Unpacking google-drive-ocamlfuse (0.7.1-0ubuntu3~ubuntu18.04.1) ...\n",
            "Setting up google-drive-ocamlfuse (0.7.1-0ubuntu3~ubuntu18.04.1) ...\n",
            "Processing triggers for man-db (2.8.3-2ubuntu0.1) ...\n",
            "Please, open the following URL in a web browser: https://accounts.google.com/o/oauth2/auth?client_id=32555940559.apps.googleusercontent.com&redirect_uri=urn%3Aietf%3Awg%3Aoauth%3A2.0%3Aoob&scope=https%3A%2F%2Fwww.googleapis.com%2Fauth%2Fdrive&response_type=code&access_type=offline&approval_prompt=force\n",
            "··········\n",
            "Please, open the following URL in a web browser: https://accounts.google.com/o/oauth2/auth?client_id=32555940559.apps.googleusercontent.com&redirect_uri=urn%3Aietf%3Awg%3Aoauth%3A2.0%3Aoob&scope=https%3A%2F%2Fwww.googleapis.com%2Fauth%2Fdrive&response_type=code&access_type=offline&approval_prompt=force\n",
            "Please enter the verification code: Access token retrieved correctly.\n",
            "Error: Mountpoint drive should be an existing directory.\n",
            "Collecting seaborn==0.9.0\n",
            "\u001b[?25l  Downloading https://files.pythonhosted.org/packages/a8/76/220ba4420459d9c4c9c9587c6ce607bf56c25b3d3d2de62056efe482dadc/seaborn-0.9.0-py3-none-any.whl (208kB)\n",
            "\u001b[K    100% |████████████████████████████████| 215kB 27.3MB/s \n",
            "\u001b[?25hRequirement already satisfied: scipy>=0.14.0 in /usr/local/lib/python3.6/dist-packages (from seaborn==0.9.0) (1.1.0)\n",
            "Requirement already satisfied: matplotlib>=1.4.3 in /usr/local/lib/python3.6/dist-packages (from seaborn==0.9.0) (2.1.2)\n",
            "Requirement already satisfied: pandas>=0.15.2 in /usr/local/lib/python3.6/dist-packages (from seaborn==0.9.0) (0.22.0)\n",
            "Requirement already satisfied: numpy>=1.9.3 in /usr/local/lib/python3.6/dist-packages (from seaborn==0.9.0) (1.14.6)\n",
            "Requirement already satisfied: cycler>=0.10 in /usr/local/lib/python3.6/dist-packages (from matplotlib>=1.4.3->seaborn==0.9.0) (0.10.0)\n",
            "Requirement already satisfied: pyparsing!=2.0.4,!=2.1.2,!=2.1.6,>=2.0.1 in /usr/local/lib/python3.6/dist-packages (from matplotlib>=1.4.3->seaborn==0.9.0) (2.3.0)\n",
            "Requirement already satisfied: pytz in /usr/local/lib/python3.6/dist-packages (from matplotlib>=1.4.3->seaborn==0.9.0) (2018.9)\n",
            "Requirement already satisfied: python-dateutil>=2.1 in /usr/local/lib/python3.6/dist-packages (from matplotlib>=1.4.3->seaborn==0.9.0) (2.5.3)\n",
            "Requirement already satisfied: six>=1.10 in /usr/local/lib/python3.6/dist-packages (from matplotlib>=1.4.3->seaborn==0.9.0) (1.11.0)\n",
            "Installing collected packages: seaborn\n",
            "  Found existing installation: seaborn 0.7.1\n",
            "    Uninstalling seaborn-0.7.1:\n",
            "      Successfully uninstalled seaborn-0.7.1\n",
            "Successfully installed seaborn-0.9.0\n"
          ],
          "name": "stdout"
        }
      ]
    },
    {
      "metadata": {
        "id": "8xZroJNsSZWy",
        "colab_type": "code",
        "colab": {}
      },
      "cell_type": "code",
      "source": [
        "import pandas as pd\n",
        "from datetime import datetime\n",
        "import os\n",
        "from sklearn.metrics import confusion_matrix\n",
        "from sklearn.pipeline import Pipeline\n",
        "from sklearn.preprocessing import StandardScaler\n",
        "from sklearn.base import BaseEstimator, TransformerMixin\n",
        "from sklearn.preprocessing import OneHotEncoder\n",
        "from sklearn.pipeline import FeatureUnion\n",
        "from sklearn.model_selection import cross_val_score,cross_val_predict\n",
        "from sklearn.svm import SVC\n",
        "from sklearn.metrics import confusion_matrix\n",
        "from sklearn.ensemble import RandomForestClassifier\n",
        "from sklearn import preprocessing\n",
        "from sklearn.impute import SimpleImputer # Scikit-Learn 0.20+\n",
        "from sklearn.metrics import (accuracy_score, log_loss, classification_report)\n",
        "from sklearn.model_selection import GridSearchCV\n",
        "from sklearn.neighbors import KNeighborsClassifier\n",
        "from xgboost import XGBClassifier\n"
      ],
      "execution_count": 0,
      "outputs": []
    },
    {
      "metadata": {
        "id": "9lUkYWt3Sdcf",
        "colab_type": "code",
        "colab": {}
      },
      "cell_type": "code",
      "source": [
        "drive_path = 'drive/DL_COLAB/'\n",
        "\n",
        "HR_ANALYTICS_PATH = os.path.join(drive_path,\"hr_analytics\")\n",
        "\n",
        "def load_hr_data(filename, file_path=HR_ANALYTICS_PATH):\n",
        "    csv_path = os.path.join(file_path, filename)\n",
        "    return pd.read_csv(csv_path,sep=\"|\")"
      ],
      "execution_count": 0,
      "outputs": []
    },
    {
      "metadata": {
        "id": "rVIfFwSuSjYr",
        "colab_type": "code",
        "colab": {}
      },
      "cell_type": "code",
      "source": [
        "hr_data_full = load_hr_data(\"new_Attrition_Data.csv\")"
      ],
      "execution_count": 0,
      "outputs": []
    },
    {
      "metadata": {
        "id": "mRNtml8tSqNj",
        "colab_type": "code",
        "colab": {}
      },
      "cell_type": "code",
      "source": [
        "hr_data_full_trim = hr_data_full[[\"Age\",\"Attrition\",\"BusinessTravel\",\"Department\",\"DistanceFromHome\",\"Education\",\"Gender\",\"HourlyRate\",\"JobInvolvement\",\"JobLevel\",\"JobRole\",\"JobSatisfaction\",\"MaritalStatus\",\"MonthlyIncome\",\"NumCompaniesWorked\",\"PercentSalaryHike\",\"PerformanceRating\",\"StockOptionLevel\",\"TotalWorkingYears\",\"TrainingTimesLastYear\",\"WorkLifeBalance\",\"YearsAtCompany\",\"YearsInCurrentRole\",\"YearsSinceLastPromotion\",\"YearsWithCurrManager\",\"OverTime\"]]"
      ],
      "execution_count": 0,
      "outputs": []
    },
    {
      "metadata": {
        "id": "-dMUVvKJSme3",
        "colab_type": "code",
        "colab": {}
      },
      "cell_type": "code",
      "source": [
        "from sklearn.model_selection import StratifiedShuffleSplit\n",
        "\n",
        "split = StratifiedShuffleSplit(n_splits=1, test_size=0.1, random_state=42)\n",
        "for train_index, test_index in split.split(hr_data_full, hr_data_full[\"Attrition\"]):\n",
        "    hr_data_train = hr_data_full_trim.loc[train_index]\n",
        "    hr_data_test = hr_data_full_trim.loc[test_index]"
      ],
      "execution_count": 0,
      "outputs": []
    },
    {
      "metadata": {
        "id": "2-O8auqNSvVR",
        "colab_type": "code",
        "outputId": "e8a045e6-f796-48ae-9a74-1c1e149b864f",
        "colab": {
          "base_uri": "https://localhost:8080/",
          "height": 307
        }
      },
      "cell_type": "code",
      "source": [
        "hr_data_train.describe()"
      ],
      "execution_count": 148,
      "outputs": [
        {
          "output_type": "execute_result",
          "data": {
            "text/html": [
              "<div>\n",
              "<style scoped>\n",
              "    .dataframe tbody tr th:only-of-type {\n",
              "        vertical-align: middle;\n",
              "    }\n",
              "\n",
              "    .dataframe tbody tr th {\n",
              "        vertical-align: top;\n",
              "    }\n",
              "\n",
              "    .dataframe thead th {\n",
              "        text-align: right;\n",
              "    }\n",
              "</style>\n",
              "<table border=\"1\" class=\"dataframe\">\n",
              "  <thead>\n",
              "    <tr style=\"text-align: right;\">\n",
              "      <th></th>\n",
              "      <th>Age</th>\n",
              "      <th>DistanceFromHome</th>\n",
              "      <th>Education</th>\n",
              "      <th>HourlyRate</th>\n",
              "      <th>JobInvolvement</th>\n",
              "      <th>JobLevel</th>\n",
              "      <th>JobSatisfaction</th>\n",
              "      <th>MonthlyIncome</th>\n",
              "      <th>NumCompaniesWorked</th>\n",
              "      <th>PercentSalaryHike</th>\n",
              "      <th>PerformanceRating</th>\n",
              "      <th>StockOptionLevel</th>\n",
              "      <th>TotalWorkingYears</th>\n",
              "      <th>TrainingTimesLastYear</th>\n",
              "      <th>WorkLifeBalance</th>\n",
              "      <th>YearsAtCompany</th>\n",
              "      <th>YearsInCurrentRole</th>\n",
              "      <th>YearsSinceLastPromotion</th>\n",
              "      <th>YearsWithCurrManager</th>\n",
              "    </tr>\n",
              "  </thead>\n",
              "  <tbody>\n",
              "    <tr>\n",
              "      <th>count</th>\n",
              "      <td>1323.000000</td>\n",
              "      <td>1323.000000</td>\n",
              "      <td>1323.000000</td>\n",
              "      <td>1323.000000</td>\n",
              "      <td>1323.000000</td>\n",
              "      <td>1323.000000</td>\n",
              "      <td>1323.000000</td>\n",
              "      <td>1323.000000</td>\n",
              "      <td>1323.000000</td>\n",
              "      <td>1323.000000</td>\n",
              "      <td>1323.000000</td>\n",
              "      <td>1323.000000</td>\n",
              "      <td>1323.000000</td>\n",
              "      <td>1323.000000</td>\n",
              "      <td>1323.000000</td>\n",
              "      <td>1323.000000</td>\n",
              "      <td>1323.000000</td>\n",
              "      <td>1323.000000</td>\n",
              "      <td>1323.000000</td>\n",
              "    </tr>\n",
              "    <tr>\n",
              "      <th>mean</th>\n",
              "      <td>36.922902</td>\n",
              "      <td>9.311413</td>\n",
              "      <td>2.914588</td>\n",
              "      <td>65.651550</td>\n",
              "      <td>2.730915</td>\n",
              "      <td>2.060469</td>\n",
              "      <td>2.722600</td>\n",
              "      <td>6472.625850</td>\n",
              "      <td>2.684051</td>\n",
              "      <td>15.215420</td>\n",
              "      <td>3.156463</td>\n",
              "      <td>0.791383</td>\n",
              "      <td>11.292517</td>\n",
              "      <td>2.773243</td>\n",
              "      <td>2.761905</td>\n",
              "      <td>6.990930</td>\n",
              "      <td>4.223734</td>\n",
              "      <td>2.184429</td>\n",
              "      <td>4.139078</td>\n",
              "    </tr>\n",
              "    <tr>\n",
              "      <th>std</th>\n",
              "      <td>9.122388</td>\n",
              "      <td>8.105754</td>\n",
              "      <td>1.026630</td>\n",
              "      <td>20.356772</td>\n",
              "      <td>0.706682</td>\n",
              "      <td>1.096398</td>\n",
              "      <td>1.108076</td>\n",
              "      <td>4662.442825</td>\n",
              "      <td>2.470083</td>\n",
              "      <td>3.674503</td>\n",
              "      <td>0.363431</td>\n",
              "      <td>0.854118</td>\n",
              "      <td>7.797057</td>\n",
              "      <td>1.276452</td>\n",
              "      <td>0.709776</td>\n",
              "      <td>6.094931</td>\n",
              "      <td>3.610559</td>\n",
              "      <td>3.236867</td>\n",
              "      <td>3.595089</td>\n",
              "    </tr>\n",
              "    <tr>\n",
              "      <th>min</th>\n",
              "      <td>18.000000</td>\n",
              "      <td>1.000000</td>\n",
              "      <td>1.000000</td>\n",
              "      <td>30.000000</td>\n",
              "      <td>1.000000</td>\n",
              "      <td>1.000000</td>\n",
              "      <td>1.000000</td>\n",
              "      <td>1009.000000</td>\n",
              "      <td>0.000000</td>\n",
              "      <td>11.000000</td>\n",
              "      <td>3.000000</td>\n",
              "      <td>0.000000</td>\n",
              "      <td>0.000000</td>\n",
              "      <td>0.000000</td>\n",
              "      <td>1.000000</td>\n",
              "      <td>0.000000</td>\n",
              "      <td>0.000000</td>\n",
              "      <td>0.000000</td>\n",
              "      <td>0.000000</td>\n",
              "    </tr>\n",
              "    <tr>\n",
              "      <th>25%</th>\n",
              "      <td>30.000000</td>\n",
              "      <td>2.000000</td>\n",
              "      <td>2.000000</td>\n",
              "      <td>48.000000</td>\n",
              "      <td>2.000000</td>\n",
              "      <td>1.000000</td>\n",
              "      <td>2.000000</td>\n",
              "      <td>2901.500000</td>\n",
              "      <td>1.000000</td>\n",
              "      <td>12.000000</td>\n",
              "      <td>3.000000</td>\n",
              "      <td>0.000000</td>\n",
              "      <td>6.000000</td>\n",
              "      <td>2.000000</td>\n",
              "      <td>2.000000</td>\n",
              "      <td>3.000000</td>\n",
              "      <td>2.000000</td>\n",
              "      <td>0.000000</td>\n",
              "      <td>2.000000</td>\n",
              "    </tr>\n",
              "    <tr>\n",
              "      <th>50%</th>\n",
              "      <td>36.000000</td>\n",
              "      <td>7.000000</td>\n",
              "      <td>3.000000</td>\n",
              "      <td>66.000000</td>\n",
              "      <td>3.000000</td>\n",
              "      <td>2.000000</td>\n",
              "      <td>3.000000</td>\n",
              "      <td>4936.000000</td>\n",
              "      <td>2.000000</td>\n",
              "      <td>14.000000</td>\n",
              "      <td>3.000000</td>\n",
              "      <td>1.000000</td>\n",
              "      <td>10.000000</td>\n",
              "      <td>3.000000</td>\n",
              "      <td>3.000000</td>\n",
              "      <td>5.000000</td>\n",
              "      <td>3.000000</td>\n",
              "      <td>1.000000</td>\n",
              "      <td>3.000000</td>\n",
              "    </tr>\n",
              "    <tr>\n",
              "      <th>75%</th>\n",
              "      <td>43.000000</td>\n",
              "      <td>14.000000</td>\n",
              "      <td>4.000000</td>\n",
              "      <td>83.000000</td>\n",
              "      <td>3.000000</td>\n",
              "      <td>3.000000</td>\n",
              "      <td>4.000000</td>\n",
              "      <td>8252.500000</td>\n",
              "      <td>4.000000</td>\n",
              "      <td>18.000000</td>\n",
              "      <td>3.000000</td>\n",
              "      <td>1.000000</td>\n",
              "      <td>15.000000</td>\n",
              "      <td>3.000000</td>\n",
              "      <td>3.000000</td>\n",
              "      <td>9.000000</td>\n",
              "      <td>7.000000</td>\n",
              "      <td>3.000000</td>\n",
              "      <td>7.000000</td>\n",
              "    </tr>\n",
              "    <tr>\n",
              "      <th>max</th>\n",
              "      <td>60.000000</td>\n",
              "      <td>29.000000</td>\n",
              "      <td>5.000000</td>\n",
              "      <td>100.000000</td>\n",
              "      <td>4.000000</td>\n",
              "      <td>5.000000</td>\n",
              "      <td>4.000000</td>\n",
              "      <td>19973.000000</td>\n",
              "      <td>9.000000</td>\n",
              "      <td>25.000000</td>\n",
              "      <td>4.000000</td>\n",
              "      <td>3.000000</td>\n",
              "      <td>40.000000</td>\n",
              "      <td>6.000000</td>\n",
              "      <td>4.000000</td>\n",
              "      <td>40.000000</td>\n",
              "      <td>18.000000</td>\n",
              "      <td>15.000000</td>\n",
              "      <td>17.000000</td>\n",
              "    </tr>\n",
              "  </tbody>\n",
              "</table>\n",
              "</div>"
            ],
            "text/plain": [
              "               Age  DistanceFromHome    Education   HourlyRate  \\\n",
              "count  1323.000000       1323.000000  1323.000000  1323.000000   \n",
              "mean     36.922902          9.311413     2.914588    65.651550   \n",
              "std       9.122388          8.105754     1.026630    20.356772   \n",
              "min      18.000000          1.000000     1.000000    30.000000   \n",
              "25%      30.000000          2.000000     2.000000    48.000000   \n",
              "50%      36.000000          7.000000     3.000000    66.000000   \n",
              "75%      43.000000         14.000000     4.000000    83.000000   \n",
              "max      60.000000         29.000000     5.000000   100.000000   \n",
              "\n",
              "       JobInvolvement     JobLevel  JobSatisfaction  MonthlyIncome  \\\n",
              "count     1323.000000  1323.000000      1323.000000    1323.000000   \n",
              "mean         2.730915     2.060469         2.722600    6472.625850   \n",
              "std          0.706682     1.096398         1.108076    4662.442825   \n",
              "min          1.000000     1.000000         1.000000    1009.000000   \n",
              "25%          2.000000     1.000000         2.000000    2901.500000   \n",
              "50%          3.000000     2.000000         3.000000    4936.000000   \n",
              "75%          3.000000     3.000000         4.000000    8252.500000   \n",
              "max          4.000000     5.000000         4.000000   19973.000000   \n",
              "\n",
              "       NumCompaniesWorked  PercentSalaryHike  PerformanceRating  \\\n",
              "count         1323.000000        1323.000000        1323.000000   \n",
              "mean             2.684051          15.215420           3.156463   \n",
              "std              2.470083           3.674503           0.363431   \n",
              "min              0.000000          11.000000           3.000000   \n",
              "25%              1.000000          12.000000           3.000000   \n",
              "50%              2.000000          14.000000           3.000000   \n",
              "75%              4.000000          18.000000           3.000000   \n",
              "max              9.000000          25.000000           4.000000   \n",
              "\n",
              "       StockOptionLevel  TotalWorkingYears  TrainingTimesLastYear  \\\n",
              "count       1323.000000        1323.000000            1323.000000   \n",
              "mean           0.791383          11.292517               2.773243   \n",
              "std            0.854118           7.797057               1.276452   \n",
              "min            0.000000           0.000000               0.000000   \n",
              "25%            0.000000           6.000000               2.000000   \n",
              "50%            1.000000          10.000000               3.000000   \n",
              "75%            1.000000          15.000000               3.000000   \n",
              "max            3.000000          40.000000               6.000000   \n",
              "\n",
              "       WorkLifeBalance  YearsAtCompany  YearsInCurrentRole  \\\n",
              "count      1323.000000     1323.000000         1323.000000   \n",
              "mean          2.761905        6.990930            4.223734   \n",
              "std           0.709776        6.094931            3.610559   \n",
              "min           1.000000        0.000000            0.000000   \n",
              "25%           2.000000        3.000000            2.000000   \n",
              "50%           3.000000        5.000000            3.000000   \n",
              "75%           3.000000        9.000000            7.000000   \n",
              "max           4.000000       40.000000           18.000000   \n",
              "\n",
              "       YearsSinceLastPromotion  YearsWithCurrManager  \n",
              "count              1323.000000           1323.000000  \n",
              "mean                  2.184429              4.139078  \n",
              "std                   3.236867              3.595089  \n",
              "min                   0.000000              0.000000  \n",
              "25%                   0.000000              2.000000  \n",
              "50%                   1.000000              3.000000  \n",
              "75%                   3.000000              7.000000  \n",
              "max                  15.000000             17.000000  "
            ]
          },
          "metadata": {
            "tags": []
          },
          "execution_count": 148
        }
      ]
    },
    {
      "metadata": {
        "id": "zY8e9fcMTIkx",
        "colab_type": "code",
        "outputId": "8e77c09c-763f-41eb-ad1e-5969819e8367",
        "colab": {
          "base_uri": "https://localhost:8080/",
          "height": 1251
        }
      },
      "cell_type": "code",
      "source": [
        "hr_data_train.hist(bins=70, figsize=(20,15))"
      ],
      "execution_count": 149,
      "outputs": [
        {
          "output_type": "execute_result",
          "data": {
            "text/plain": [
              "array([[<matplotlib.axes._subplots.AxesSubplot object at 0x7fd37e528ef0>,\n",
              "        <matplotlib.axes._subplots.AxesSubplot object at 0x7fd37ee3f4a8>,\n",
              "        <matplotlib.axes._subplots.AxesSubplot object at 0x7fd38ef58780>,\n",
              "        <matplotlib.axes._subplots.AxesSubplot object at 0x7fd37b0bec88>],\n",
              "       [<matplotlib.axes._subplots.AxesSubplot object at 0x7fd37b0f82e8>,\n",
              "        <matplotlib.axes._subplots.AxesSubplot object at 0x7fd37b0f8320>,\n",
              "        <matplotlib.axes._subplots.AxesSubplot object at 0x7fd37b05d4a8>,\n",
              "        <matplotlib.axes._subplots.AxesSubplot object at 0x7fd37b010ac8>],\n",
              "       [<matplotlib.axes._subplots.AxesSubplot object at 0x7fd37b02e828>,\n",
              "        <matplotlib.axes._subplots.AxesSubplot object at 0x7fd37af886d8>,\n",
              "        <matplotlib.axes._subplots.AxesSubplot object at 0x7fd37b01c6a0>,\n",
              "        <matplotlib.axes._subplots.AxesSubplot object at 0x7fd37af6be48>],\n",
              "       [<matplotlib.axes._subplots.AxesSubplot object at 0x7fd37af2b978>,\n",
              "        <matplotlib.axes._subplots.AxesSubplot object at 0x7fd37aeea518>,\n",
              "        <matplotlib.axes._subplots.AxesSubplot object at 0x7fd37ae8d828>,\n",
              "        <matplotlib.axes._subplots.AxesSubplot object at 0x7fd37ae51208>],\n",
              "       [<matplotlib.axes._subplots.AxesSubplot object at 0x7fd37ae03cf8>,\n",
              "        <matplotlib.axes._subplots.AxesSubplot object at 0x7fd37adc6358>,\n",
              "        <matplotlib.axes._subplots.AxesSubplot object at 0x7fd37adfcdd8>,\n",
              "        <matplotlib.axes._subplots.AxesSubplot object at 0x7fd37adaf588>]],\n",
              "      dtype=object)"
            ]
          },
          "metadata": {
            "tags": []
          },
          "execution_count": 149
        },
        {
          "output_type": "display_data",
          "data": {
            "image/png": "[encoded data removed]",
            "text/plain": [
              "<matplotlib.figure.Figure at 0x7fd37b95ff98>"
            ]
          },
          "metadata": {
            "tags": []
          }
        }
      ]
    },
    {
      "metadata": {
        "id": "GSmXkOEAS59y",
        "colab_type": "code",
        "colab": {}
      },
      "cell_type": "code",
      "source": [
        "hr_data_train_label = hr_data_train[\"Attrition\"].copy()\n",
        "hr_data_test_label =  hr_data_test[\"Attrition\"].copy()\n",
        "\n",
        "hr_data_train = hr_data_train.drop(\"Attrition\",axis=1)\n",
        "hr_data_test = hr_data_test.drop(\"Attrition\",axis=1)"
      ],
      "execution_count": 0,
      "outputs": []
    },
    {
      "metadata": {
        "id": "czH5XMOhS_Ai",
        "colab_type": "code",
        "outputId": "506f46eb-2a00-4092-b0d8-968a889d92a2",
        "colab": {
          "base_uri": "https://localhost:8080/",
          "height": 87
        }
      },
      "cell_type": "code",
      "source": [
        "print (hr_data_train.shape)\n",
        "print (hr_data_test.shape)\n",
        "print (hr_data_train_label.shape)\n",
        "print (hr_data_test_label.shape)"
      ],
      "execution_count": 151,
      "outputs": [
        {
          "output_type": "stream",
          "text": [
            "(1323, 25)\n",
            "(147, 25)\n",
            "(1323,)\n",
            "(147,)\n"
          ],
          "name": "stdout"
        }
      ]
    },
    {
      "metadata": {
        "id": "O6u_VWOkTTLj",
        "colab_type": "code",
        "colab": {}
      },
      "cell_type": "code",
      "source": [
        "cat_attribute = [\"BusinessTravel\",\"Department\",\"Gender\",\"JobRole\",\"MaritalStatus\",\"OverTime\"]"
      ],
      "execution_count": 0,
      "outputs": []
    },
    {
      "metadata": {
        "id": "B9dQUtFGTWMc",
        "colab_type": "code",
        "colab": {}
      },
      "cell_type": "code",
      "source": [
        "numeric_atribute = list(set(hr_data_train.columns) ^ set (cat_attribute))"
      ],
      "execution_count": 0,
      "outputs": []
    },
    {
      "metadata": {
        "id": "Wb8AlpJ2TdSA",
        "colab_type": "code",
        "colab": {}
      },
      "cell_type": "code",
      "source": [
        "imputer = SimpleImputer(strategy=\"median\")"
      ],
      "execution_count": 0,
      "outputs": []
    },
    {
      "metadata": {
        "id": "Icl4L3tTThBC",
        "colab_type": "code",
        "colab": {}
      },
      "cell_type": "code",
      "source": [
        "# Inspired from stackoverflow.com/questions/25239958\n",
        "class MostFrequentImputer(BaseEstimator, TransformerMixin):\n",
        "    def fit(self, X, y=None):\n",
        "        self.most_frequent_ = pd.Series([X[c].value_counts().index[0] for c in X],index=X.columns)\n",
        "        return self\n",
        "    def transform(self, X, y=None):\n",
        "    #    return X.fillna(self.most_frequent_)\n",
        "        return X"
      ],
      "execution_count": 0,
      "outputs": []
    },
    {
      "metadata": {
        "id": "kPYI7bfOTk-O",
        "colab_type": "code",
        "colab": {}
      },
      "cell_type": "code",
      "source": [
        "# Create a class to select numerical or categorical columns \n",
        "# since Scikit-Learn doesn't handle DataFrames yet\n",
        "class DataFrameSelector(BaseEstimator, TransformerMixin):\n",
        "    def __init__(self, attribute_names):\n",
        "        self.attribute_names = attribute_names\n",
        "    def fit(self, X, y=None):\n",
        "        return self\n",
        "    def transform(self, X):\n",
        "        return X[self.attribute_names].values"
      ],
      "execution_count": 0,
      "outputs": []
    },
    {
      "metadata": {
        "id": "3FKno9ikToTY",
        "colab_type": "code",
        "colab": {}
      },
      "cell_type": "code",
      "source": [
        "num_pipeline = Pipeline([\n",
        "        (\"select_numeric\", DataFrameSelector(numeric_atribute)),\n",
        "        (\"imputer\", SimpleImputer(strategy=\"median\")),\n",
        "        ('std_scaler', StandardScaler()),\n",
        "    ])"
      ],
      "execution_count": 0,
      "outputs": []
    },
    {
      "metadata": {
        "id": "-KTfBSFUTrHl",
        "colab_type": "code",
        "colab": {}
      },
      "cell_type": "code",
      "source": [
        "cat_pipeline = Pipeline([\n",
        "        (\"select_cat\", DataFrameSelector(cat_attribute)),\n",
        "#        (\"imputer\", MostFrequentImputer()),\n",
        "        (\"cat_encoder\",OneHotEncoder(sparse=False,handle_unknown='ignore' )),\n",
        "        ])"
      ],
      "execution_count": 0,
      "outputs": []
    },
    {
      "metadata": {
        "id": "YXRLvWrLTtLv",
        "colab_type": "code",
        "colab": {}
      },
      "cell_type": "code",
      "source": [
        "preprocess_pipeline = FeatureUnion(transformer_list=[\n",
        "        (\"num_pipeline\", num_pipeline),\n",
        "        (\"cat_pipeline\", cat_pipeline),\n",
        "    ])"
      ],
      "execution_count": 0,
      "outputs": []
    },
    {
      "metadata": {
        "id": "TkopFUIsTwBt",
        "colab_type": "code",
        "colab": {}
      },
      "cell_type": "code",
      "source": [
        "x_train  = preprocess_pipeline.fit_transform(hr_data_train)\n",
        "x_test =  preprocess_pipeline.transform(hr_data_test)"
      ],
      "execution_count": 0,
      "outputs": []
    },
    {
      "metadata": {
        "id": "BkFGfANET0Z7",
        "colab_type": "code",
        "outputId": "119653dd-2097-4df3-8c9b-2de4e3425649",
        "colab": {
          "base_uri": "https://localhost:8080/",
          "height": 52
        }
      },
      "cell_type": "code",
      "source": [
        "print (x_train.shape)\n",
        "print (x_test.shape)"
      ],
      "execution_count": 161,
      "outputs": [
        {
          "output_type": "stream",
          "text": [
            "(1323, 72)\n",
            "(147, 72)\n"
          ],
          "name": "stdout"
        }
      ]
    },
    {
      "metadata": {
        "id": "bQlHskP8T4NI",
        "colab_type": "code",
        "colab": {}
      },
      "cell_type": "code",
      "source": [
        "le = preprocessing.LabelEncoder()\n",
        "y_train = le.fit_transform(hr_data_train_label)\n",
        "y_test = le.fit_transform(hr_data_test_label)"
      ],
      "execution_count": 0,
      "outputs": []
    },
    {
      "metadata": {
        "id": "nd3mSO55UDMi",
        "colab_type": "code",
        "outputId": "33d83b43-797d-4bfd-c6ef-8c0e78ff5f4f",
        "colab": {
          "base_uri": "https://localhost:8080/",
          "height": 52
        }
      },
      "cell_type": "code",
      "source": [
        "print (y_train.shape)\n",
        "print (y_test.shape)"
      ],
      "execution_count": 164,
      "outputs": [
        {
          "output_type": "stream",
          "text": [
            "(1323,)\n",
            "(147,)\n"
          ],
          "name": "stdout"
        }
      ]
    },
    {
      "metadata": {
        "id": "MwJ91iXDUIt8",
        "colab_type": "code",
        "outputId": "3e91f449-aa15-48b9-c74e-72e3a19fedba",
        "colab": {
          "base_uri": "https://localhost:8080/",
          "height": 87
        }
      },
      "cell_type": "code",
      "source": [
        "#train SVM Based Model\n",
        "svm_clf = SVC(gamma=\"auto\",random_state=42)\n",
        "svm_clf.fit(x_train, y_train)"
      ],
      "execution_count": 165,
      "outputs": [
        {
          "output_type": "execute_result",
          "data": {
            "text/plain": [
              "SVC(C=1.0, cache_size=200, class_weight=None, coef0=0.0,\n",
              "  decision_function_shape='ovr', degree=3, gamma='auto', kernel='rbf',\n",
              "  max_iter=-1, probability=False, random_state=42, shrinking=True,\n",
              "  tol=0.001, verbose=False)"
            ]
          },
          "metadata": {
            "tags": []
          },
          "execution_count": 165
        }
      ]
    },
    {
      "metadata": {
        "id": "2VDBbunCUToK",
        "colab_type": "code",
        "outputId": "bcc3dd4b-601c-445e-e8a0-69d093f018ec",
        "colab": {
          "base_uri": "https://localhost:8080/",
          "height": 34
        }
      },
      "cell_type": "code",
      "source": [
        "svm_scores = cross_val_score(svm_clf, x_train, y_train, cv=10)\n",
        "y_train_pred_svm = cross_val_predict(svm_clf, x_train, y_train, cv=10)\n",
        "print (svm_scores.mean())"
      ],
      "execution_count": 166,
      "outputs": [
        {
          "output_type": "stream",
          "text": [
            "0.8450501253132833\n"
          ],
          "name": "stdout"
        }
      ]
    },
    {
      "metadata": {
        "id": "u5c72YJm34GR",
        "colab_type": "code",
        "colab": {
          "base_uri": "https://localhost:8080/",
          "height": 52
        },
        "outputId": "3c941459-9e6c-4f80-f9fa-f3bbd6cac98c"
      },
      "cell_type": "code",
      "source": [
        "confusion_matrix(y_train, y_train_pred_svm)"
      ],
      "execution_count": 167,
      "outputs": [
        {
          "output_type": "execute_result",
          "data": {
            "text/plain": [
              "array([[1108,    2],\n",
              "       [ 203,   10]])"
            ]
          },
          "metadata": {
            "tags": []
          },
          "execution_count": 167
        }
      ]
    },
    {
      "metadata": {
        "id": "1vM6n5lv45ot",
        "colab_type": "code",
        "colab": {
          "base_uri": "https://localhost:8080/",
          "height": 87
        },
        "outputId": "66dd8e2a-320a-44cf-a90a-caed3e1c7ccc"
      },
      "cell_type": "code",
      "source": [
        "tn, fp, fn, tp = confusion_matrix(y_train,y_train_pred_svm).ravel()\n",
        "print (tn)\n",
        "print (fp)\n",
        "print (fn)\n",
        "print (tp)"
      ],
      "execution_count": 168,
      "outputs": [
        {
          "output_type": "stream",
          "text": [
            "1108\n",
            "2\n",
            "203\n",
            "10\n"
          ],
          "name": "stdout"
        }
      ]
    },
    {
      "metadata": {
        "id": "lMj-Fghf38CI",
        "colab_type": "code",
        "colab": {
          "base_uri": "https://localhost:8080/",
          "height": 54
        },
        "outputId": "10366b7e-a722-492a-bcd0-f3b3e466cdab"
      },
      "cell_type": "code",
      "source": [
        "classification_report(y_train, y_train_pred_svm)"
      ],
      "execution_count": 169,
      "outputs": [
        {
          "output_type": "execute_result",
          "data": {
            "text/plain": [
              "'              precision    recall  f1-score   support\\n\\n           0       0.85      1.00      0.92      1110\\n           1       0.83      0.05      0.09       213\\n\\n   micro avg       0.85      0.85      0.85      1323\\n   macro avg       0.84      0.52      0.50      1323\\nweighted avg       0.84      0.85      0.78      1323\\n'"
            ]
          },
          "metadata": {
            "tags": []
          },
          "execution_count": 169
        }
      ]
    },
    {
      "metadata": {
        "id": "RQIxZXYX4bd4",
        "colab_type": "code",
        "colab": {}
      },
      "cell_type": "code",
      "source": [
        "y_test_pred_svm = svm_clf.predict(x_test)"
      ],
      "execution_count": 0,
      "outputs": []
    },
    {
      "metadata": {
        "id": "eJZ75B2k4pgT",
        "colab_type": "code",
        "colab": {
          "base_uri": "https://localhost:8080/",
          "height": 52
        },
        "outputId": "9794a080-77a4-4743-c99f-17b4fc252282"
      },
      "cell_type": "code",
      "source": [
        "confusion_matrix(y_test,y_test_pred_svm)"
      ],
      "execution_count": 171,
      "outputs": [
        {
          "output_type": "execute_result",
          "data": {
            "text/plain": [
              "array([[123,   0],\n",
              "       [ 23,   1]])"
            ]
          },
          "metadata": {
            "tags": []
          },
          "execution_count": 171
        }
      ]
    },
    {
      "metadata": {
        "id": "pmiy-qgj4z_j",
        "colab_type": "code",
        "colab": {
          "base_uri": "https://localhost:8080/",
          "height": 105
        },
        "outputId": "4bf0a5fa-cd91-4bce-c564-405a0787685c"
      },
      "cell_type": "code",
      "source": [
        "param_grid = [{\"weights\":[\"uniform\",\"distance\"],\"n_neighbors\":[2,3,4,5]}]\n",
        "knn_clf = KNeighborsClassifier()\n",
        "grid_search = GridSearchCV(knn_clf, param_grid, cv=10, verbose=3, n_jobs=-1)\n",
        "grid_search.fit(x_train, y_train)\n",
        "print (grid_search.best_params_)"
      ],
      "execution_count": 172,
      "outputs": [
        {
          "output_type": "stream",
          "text": [
            "Fitting 10 folds for each of 8 candidates, totalling 80 fits\n"
          ],
          "name": "stdout"
        },
        {
          "output_type": "stream",
          "text": [
            "[Parallel(n_jobs=-1)]: Using backend LokyBackend with 2 concurrent workers.\n",
            "[Parallel(n_jobs=-1)]: Done  28 tasks      | elapsed:    5.8s\n"
          ],
          "name": "stderr"
        },
        {
          "output_type": "stream",
          "text": [
            "{'n_neighbors': 4, 'weights': 'uniform'}\n"
          ],
          "name": "stdout"
        },
        {
          "output_type": "stream",
          "text": [
            "[Parallel(n_jobs=-1)]: Done  80 out of  80 | elapsed:   15.2s finished\n"
          ],
          "name": "stderr"
        }
      ]
    },
    {
      "metadata": {
        "id": "gr-6KWg387oL",
        "colab_type": "code",
        "colab": {}
      },
      "cell_type": "code",
      "source": [
        "knn_clf = KNeighborsClassifier(n_neighbors=5,weights='uniform')"
      ],
      "execution_count": 0,
      "outputs": []
    },
    {
      "metadata": {
        "id": "uiUuQfzu9GN4",
        "colab_type": "code",
        "colab": {
          "base_uri": "https://localhost:8080/",
          "height": 34
        },
        "outputId": "46488220-fb91-44e3-a4f4-06fec2408f25"
      },
      "cell_type": "code",
      "source": [
        "knn_clf.fit(x_train,y_train)\n",
        "knn_scores = cross_val_score(knn_clf, x_train, y_train, cv=10)\n",
        "y_train_pred_knn = cross_val_predict(knn_clf, x_train, y_train, cv=10)\n",
        "print (knn_scores.mean())"
      ],
      "execution_count": 174,
      "outputs": [
        {
          "output_type": "stream",
          "text": [
            "0.838271815903395\n"
          ],
          "name": "stdout"
        }
      ]
    },
    {
      "metadata": {
        "id": "0Mp2DyUM9Wmi",
        "colab_type": "code",
        "colab": {
          "base_uri": "https://localhost:8080/",
          "height": 87
        },
        "outputId": "702e8274-c1cb-428f-bb95-0730cc8aedec"
      },
      "cell_type": "code",
      "source": [
        "tn, fp, fn, tp = confusion_matrix(y_train,y_train_pred_knn).ravel()\n",
        "print (tn)\n",
        "print (fp)\n",
        "print (fn)\n",
        "print (tp)"
      ],
      "execution_count": 175,
      "outputs": [
        {
          "output_type": "stream",
          "text": [
            "1089\n",
            "21\n",
            "193\n",
            "20\n"
          ],
          "name": "stdout"
        }
      ]
    },
    {
      "metadata": {
        "id": "uLAU9Ht99gMH",
        "colab_type": "code",
        "colab": {
          "base_uri": "https://localhost:8080/",
          "height": 54
        },
        "outputId": "22717a42-6d25-4178-c1c5-eb166aa5343f"
      },
      "cell_type": "code",
      "source": [
        "classification_report(y_train, y_train_pred_knn)"
      ],
      "execution_count": 176,
      "outputs": [
        {
          "output_type": "execute_result",
          "data": {
            "text/plain": [
              "'              precision    recall  f1-score   support\\n\\n           0       0.85      0.98      0.91      1110\\n           1       0.49      0.09      0.16       213\\n\\n   micro avg       0.84      0.84      0.84      1323\\n   macro avg       0.67      0.54      0.53      1323\\nweighted avg       0.79      0.84      0.79      1323\\n'"
            ]
          },
          "metadata": {
            "tags": []
          },
          "execution_count": 176
        }
      ]
    },
    {
      "metadata": {
        "id": "8jzD8Rkg9zf_",
        "colab_type": "code",
        "colab": {}
      },
      "cell_type": "code",
      "source": [
        "y_test_pred_knn = knn_clf.predict(x_test)"
      ],
      "execution_count": 0,
      "outputs": []
    },
    {
      "metadata": {
        "id": "P98DV2lz98MV",
        "colab_type": "code",
        "colab": {
          "base_uri": "https://localhost:8080/",
          "height": 34
        },
        "outputId": "9be2684a-87bd-4329-d069-51884788c9a1"
      },
      "cell_type": "code",
      "source": [
        "confusion_matrix(y_test,y_test_pred_knn).ravel()"
      ],
      "execution_count": 178,
      "outputs": [
        {
          "output_type": "execute_result",
          "data": {
            "text/plain": [
              "array([122,   1,  23,   1])"
            ]
          },
          "metadata": {
            "tags": []
          },
          "execution_count": 178
        }
      ]
    },
    {
      "metadata": {
        "id": "C0DoaI3q-CbY",
        "colab_type": "code",
        "colab": {
          "base_uri": "https://localhost:8080/",
          "height": 54
        },
        "outputId": "e3a38e59-e4c0-4649-980f-d218c57f90d1"
      },
      "cell_type": "code",
      "source": [
        "classification_report(y_test, y_test_pred_knn)"
      ],
      "execution_count": 179,
      "outputs": [
        {
          "output_type": "execute_result",
          "data": {
            "text/plain": [
              "'              precision    recall  f1-score   support\\n\\n           0       0.84      0.99      0.91       123\\n           1       0.50      0.04      0.08        24\\n\\n   micro avg       0.84      0.84      0.84       147\\n   macro avg       0.67      0.52      0.49       147\\nweighted avg       0.79      0.84      0.77       147\\n'"
            ]
          },
          "metadata": {
            "tags": []
          },
          "execution_count": 179
        }
      ]
    },
    {
      "metadata": {
        "id": "GmlJMfXS-GLB",
        "colab_type": "code",
        "colab": {
          "base_uri": "https://localhost:8080/",
          "height": 123
        },
        "outputId": "cd644306-2c48-4f21-fc5b-9d95b5c38825"
      },
      "cell_type": "code",
      "source": [
        "xgboost_clf = XGBClassifier(random_state=42)\n",
        "xgboost_clf.fit(x_train,y_train)"
      ],
      "execution_count": 180,
      "outputs": [
        {
          "output_type": "execute_result",
          "data": {
            "text/plain": [
              "XGBClassifier(base_score=0.5, booster='gbtree', colsample_bylevel=1,\n",
              "       colsample_bytree=1, gamma=0, learning_rate=0.1, max_delta_step=0,\n",
              "       max_depth=3, min_child_weight=1, missing=None, n_estimators=100,\n",
              "       n_jobs=1, nthread=None, objective='binary:logistic',\n",
              "       random_state=42, reg_alpha=0, reg_lambda=1, scale_pos_weight=1,\n",
              "       seed=None, silent=True, subsample=1)"
            ]
          },
          "metadata": {
            "tags": []
          },
          "execution_count": 180
        }
      ]
    },
    {
      "metadata": {
        "id": "MeYG6xIn-dbp",
        "colab_type": "code",
        "colab": {
          "base_uri": "https://localhost:8080/",
          "height": 34
        },
        "outputId": "3376d775-fdb7-4978-ffc6-3c0fd0775dfd"
      },
      "cell_type": "code",
      "source": [
        "xgboost_scores = cross_val_score(xgboost_clf, x_train, y_train, cv=10)\n",
        "y_train_pred_xgboost = cross_val_predict(xgboost_clf, x_train, y_train, cv=10)\n",
        "xgboost_scores.mean()"
      ],
      "execution_count": 181,
      "outputs": [
        {
          "output_type": "execute_result",
          "data": {
            "text/plain": [
              "0.8601902483481432"
            ]
          },
          "metadata": {
            "tags": []
          },
          "execution_count": 181
        }
      ]
    },
    {
      "metadata": {
        "id": "EzyEvmpi-3Fe",
        "colab_type": "code",
        "colab": {
          "base_uri": "https://localhost:8080/",
          "height": 87
        },
        "outputId": "187b7bb1-5a4b-4902-9efe-fa81641fead6"
      },
      "cell_type": "code",
      "source": [
        "tn, fp, fn, tp = confusion_matrix(y_train,y_train_pred_xgboost).ravel()\n",
        "print (tn)\n",
        "print (fp)\n",
        "print (fn)\n",
        "print (tp)"
      ],
      "execution_count": 182,
      "outputs": [
        {
          "output_type": "stream",
          "text": [
            "1075\n",
            "35\n",
            "150\n",
            "63\n"
          ],
          "name": "stdout"
        }
      ]
    },
    {
      "metadata": {
        "id": "mG-tObAR_MIy",
        "colab_type": "code",
        "colab": {
          "base_uri": "https://localhost:8080/",
          "height": 54
        },
        "outputId": "bac9684b-1028-4d4f-f842-15f5a6aa4756"
      },
      "cell_type": "code",
      "source": [
        "classification_report(y_train, y_train_pred_xgboost)"
      ],
      "execution_count": 183,
      "outputs": [
        {
          "output_type": "execute_result",
          "data": {
            "text/plain": [
              "'              precision    recall  f1-score   support\\n\\n           0       0.88      0.97      0.92      1110\\n           1       0.64      0.30      0.41       213\\n\\n   micro avg       0.86      0.86      0.86      1323\\n   macro avg       0.76      0.63      0.66      1323\\nweighted avg       0.84      0.86      0.84      1323\\n'"
            ]
          },
          "metadata": {
            "tags": []
          },
          "execution_count": 183
        }
      ]
    },
    {
      "metadata": {
        "id": "fYiyidka_GGK",
        "colab_type": "code",
        "colab": {}
      },
      "cell_type": "code",
      "source": [
        "y_test_pred_xgboost = xgboost_clf.predict(x_test)"
      ],
      "execution_count": 0,
      "outputs": []
    },
    {
      "metadata": {
        "id": "3kO9wcen_Z1n",
        "colab_type": "code",
        "colab": {
          "base_uri": "https://localhost:8080/",
          "height": 87
        },
        "outputId": "6c3181a6-c18e-465d-8ef6-6a73e973804c"
      },
      "cell_type": "code",
      "source": [
        "tn, fp, fn, tp = confusion_matrix(y_test,y_test_pred_xgboost).ravel()\n",
        "print (tn)\n",
        "print (fp)\n",
        "print (fn)\n",
        "print (tp)"
      ],
      "execution_count": 185,
      "outputs": [
        {
          "output_type": "stream",
          "text": [
            "119\n",
            "4\n",
            "20\n",
            "4\n"
          ],
          "name": "stdout"
        }
      ]
    },
    {
      "metadata": {
        "id": "nsVhA8xK_jPZ",
        "colab_type": "code",
        "colab": {
          "base_uri": "https://localhost:8080/",
          "height": 54
        },
        "outputId": "a2f121d3-37a1-4575-8a84-9c2c0a633782"
      },
      "cell_type": "code",
      "source": [
        "classification_report(y_test, y_test_pred_xgboost)"
      ],
      "execution_count": 186,
      "outputs": [
        {
          "output_type": "execute_result",
          "data": {
            "text/plain": [
              "'              precision    recall  f1-score   support\\n\\n           0       0.86      0.97      0.91       123\\n           1       0.50      0.17      0.25        24\\n\\n   micro avg       0.84      0.84      0.84       147\\n   macro avg       0.68      0.57      0.58       147\\nweighted avg       0.80      0.84      0.80       147\\n'"
            ]
          },
          "metadata": {
            "tags": []
          },
          "execution_count": 186
        }
      ]
    },
    {
      "metadata": {
        "id": "yktha_dO_1EB",
        "colab_type": "code",
        "colab": {
          "base_uri": "https://localhost:8080/",
          "height": 301
        },
        "outputId": "b5c9916f-a474-4fa4-ba0b-7918214e13ef"
      },
      "cell_type": "code",
      "source": [
        "param_grid = [{\"learning_rate\":[.001,.01,.1],\"max_depth\":[1,2,3],\"n_estimators\":[100,110,120]}]\n",
        "grid_search = GridSearchCV(xgboost_clf, param_grid, cv=10, verbose=3, n_jobs=-1)\n",
        "grid_search.fit(x_train, y_train)"
      ],
      "execution_count": 193,
      "outputs": [
        {
          "output_type": "stream",
          "text": [
            "Fitting 10 folds for each of 27 candidates, totalling 270 fits\n"
          ],
          "name": "stdout"
        },
        {
          "output_type": "stream",
          "text": [
            "[Parallel(n_jobs=-1)]: Using backend LokyBackend with 2 concurrent workers.\n",
            "[Parallel(n_jobs=-1)]: Done  52 tasks      | elapsed:    5.6s\n",
            "[Parallel(n_jobs=-1)]: Done 244 tasks      | elapsed:   32.6s\n",
            "[Parallel(n_jobs=-1)]: Done 270 out of 270 | elapsed:   37.3s finished\n"
          ],
          "name": "stderr"
        },
        {
          "output_type": "execute_result",
          "data": {
            "text/plain": [
              "GridSearchCV(cv=10, error_score='raise-deprecating',\n",
              "       estimator=XGBClassifier(base_score=0.5, booster='gbtree', colsample_bylevel=1,\n",
              "       colsample_bytree=1, gamma=0, learning_rate=0.1, max_delta_step=0,\n",
              "       max_depth=3, min_child_weight=1, missing=None, n_estimators=100,\n",
              "       n_jobs=1, nthread=None, objective='binary:logistic',\n",
              "       random_state=42, reg_alpha=0, reg_lambda=1, scale_pos_weight=1,\n",
              "       seed=None, silent=True, subsample=1),\n",
              "       fit_params=None, iid='warn', n_jobs=-1,\n",
              "       param_grid=[{'learning_rate': [0.001, 0.01, 0.1], 'max_depth': [1, 2, 3], 'n_estimators': [100, 110, 120]}],\n",
              "       pre_dispatch='2*n_jobs', refit=True, return_train_score='warn',\n",
              "       scoring=None, verbose=3)"
            ]
          },
          "metadata": {
            "tags": []
          },
          "execution_count": 193
        }
      ]
    },
    {
      "metadata": {
        "id": "BsnOOwI3BL-w",
        "colab_type": "code",
        "colab": {
          "base_uri": "https://localhost:8080/",
          "height": 34
        },
        "outputId": "9b4c9203-d343-48a6-a295-fd5fa377abd3"
      },
      "cell_type": "code",
      "source": [
        "print (grid_search.best_params_)"
      ],
      "execution_count": 194,
      "outputs": [
        {
          "output_type": "stream",
          "text": [
            "{'learning_rate': 0.1, 'max_depth': 2, 'n_estimators': 110}\n"
          ],
          "name": "stdout"
        }
      ]
    },
    {
      "metadata": {
        "id": "7voV8Y-lBXpX",
        "colab_type": "code",
        "colab": {
          "base_uri": "https://localhost:8080/",
          "height": 123
        },
        "outputId": "d1f8553c-542f-47dd-b7af-62fa77c5b576"
      },
      "cell_type": "code",
      "source": [
        "xgboost_clf = XGBClassifier(random_state=42,max_depth=2,n_estimators=110,learning_rate=0.1)\n",
        "xgboost_clf.fit(x_train,y_train)"
      ],
      "execution_count": 195,
      "outputs": [
        {
          "output_type": "execute_result",
          "data": {
            "text/plain": [
              "XGBClassifier(base_score=0.5, booster='gbtree', colsample_bylevel=1,\n",
              "       colsample_bytree=1, gamma=0, learning_rate=0.1, max_delta_step=0,\n",
              "       max_depth=2, min_child_weight=1, missing=None, n_estimators=110,\n",
              "       n_jobs=1, nthread=None, objective='binary:logistic',\n",
              "       random_state=42, reg_alpha=0, reg_lambda=1, scale_pos_weight=1,\n",
              "       seed=None, silent=True, subsample=1)"
            ]
          },
          "metadata": {
            "tags": []
          },
          "execution_count": 195
        }
      ]
    },
    {
      "metadata": {
        "id": "QVtevT0XBkZT",
        "colab_type": "code",
        "colab": {
          "base_uri": "https://localhost:8080/",
          "height": 34
        },
        "outputId": "49425236-d1e6-444e-8337-51c5a3e6d1ad"
      },
      "cell_type": "code",
      "source": [
        "xgboost_scores = cross_val_score(xgboost_clf, x_train, y_train, cv=10)\n",
        "y_train_pred_xgboost = cross_val_predict(xgboost_clf, x_train, y_train, cv=10)\n",
        "xgboost_scores.mean()"
      ],
      "execution_count": 196,
      "outputs": [
        {
          "output_type": "execute_result",
          "data": {
            "text/plain": [
              "0.8654591023012076"
            ]
          },
          "metadata": {
            "tags": []
          },
          "execution_count": 196
        }
      ]
    },
    {
      "metadata": {
        "id": "_5mLQLZ7CEu_",
        "colab_type": "code",
        "colab": {
          "base_uri": "https://localhost:8080/",
          "height": 87
        },
        "outputId": "6ed9cb6f-c773-447f-c0d1-86b4b93f9f31"
      },
      "cell_type": "code",
      "source": [
        "tn, fp, fn, tp = confusion_matrix(y_train,y_train_pred_xgboost).ravel()\n",
        "print (tn)\n",
        "print (fp)\n",
        "print (fn)\n",
        "print (tp)"
      ],
      "execution_count": 197,
      "outputs": [
        {
          "output_type": "stream",
          "text": [
            "1089\n",
            "21\n",
            "157\n",
            "56\n"
          ],
          "name": "stdout"
        }
      ]
    },
    {
      "metadata": {
        "id": "JKVcu2tlCb_a",
        "colab_type": "code",
        "colab": {
          "base_uri": "https://localhost:8080/",
          "height": 54
        },
        "outputId": "1becb3e8-8434-4421-a011-82f50e781ca7"
      },
      "cell_type": "code",
      "source": [
        "classification_report(y_train, y_train_pred_xgboost)"
      ],
      "execution_count": 198,
      "outputs": [
        {
          "output_type": "execute_result",
          "data": {
            "text/plain": [
              "'              precision    recall  f1-score   support\\n\\n           0       0.87      0.98      0.92      1110\\n           1       0.73      0.26      0.39       213\\n\\n   micro avg       0.87      0.87      0.87      1323\\n   macro avg       0.80      0.62      0.66      1323\\nweighted avg       0.85      0.87      0.84      1323\\n'"
            ]
          },
          "metadata": {
            "tags": []
          },
          "execution_count": 198
        }
      ]
    },
    {
      "metadata": {
        "id": "L3FvrxerCdg3",
        "colab_type": "code",
        "colab": {}
      },
      "cell_type": "code",
      "source": [
        "y_test_xgboost = xgboost_clf.predict(x_test)"
      ],
      "execution_count": 0,
      "outputs": []
    },
    {
      "metadata": {
        "id": "TQLJyWW2CkhB",
        "colab_type": "code",
        "colab": {
          "base_uri": "https://localhost:8080/",
          "height": 54
        },
        "outputId": "d5287873-f7cf-4135-e43a-e2338b5b1aa3"
      },
      "cell_type": "code",
      "source": [
        "classification_report(y_test, y_test_xgboost)"
      ],
      "execution_count": 126,
      "outputs": [
        {
          "output_type": "execute_result",
          "data": {
            "text/plain": [
              "'              precision    recall  f1-score   support\\n\\n           0       0.85      0.97      0.91       247\\n           1       0.46      0.13      0.20        47\\n\\n   micro avg       0.84      0.84      0.84       294\\n   macro avg       0.66      0.55      0.55       294\\nweighted avg       0.79      0.84      0.80       294\\n'"
            ]
          },
          "metadata": {
            "tags": []
          },
          "execution_count": 126
        }
      ]
    },
    {
      "metadata": {
        "id": "ED7Is2WVCsAQ",
        "colab_type": "code",
        "colab": {
          "base_uri": "https://localhost:8080/",
          "height": 87
        },
        "outputId": "64ca721b-ce37-402e-bfde-697b578807a2"
      },
      "cell_type": "code",
      "source": [
        "tn, fp, fn, tp = confusion_matrix(y_test,y_test_pred_xgboost).ravel()\n",
        "print (tn)\n",
        "print (fp)\n",
        "print (fn)\n",
        "print (tp)"
      ],
      "execution_count": 200,
      "outputs": [
        {
          "output_type": "stream",
          "text": [
            "119\n",
            "4\n",
            "20\n",
            "4\n"
          ],
          "name": "stdout"
        }
      ]
    },
    {
      "metadata": {
        "id": "UUTRJwI1DbyJ",
        "colab_type": "code",
        "colab": {}
      },
      "cell_type": "code",
      "source": [
        "from keras.models import Sequential\n",
        "from keras.layers import Dense"
      ],
      "execution_count": 0,
      "outputs": []
    },
    {
      "metadata": {
        "id": "N5uesK8SDdBF",
        "colab_type": "code",
        "colab": {
          "base_uri": "https://localhost:8080/",
          "height": 34
        },
        "outputId": "64d2a005-17cd-48f6-f232-3c08801b3347"
      },
      "cell_type": "code",
      "source": [
        "x_train.shape"
      ],
      "execution_count": 202,
      "outputs": [
        {
          "output_type": "execute_result",
          "data": {
            "text/plain": [
              "(1323, 72)"
            ]
          },
          "metadata": {
            "tags": []
          },
          "execution_count": 202
        }
      ]
    },
    {
      "metadata": {
        "id": "5oWHPRZdDjDF",
        "colab_type": "code",
        "colab": {}
      },
      "cell_type": "code",
      "source": [
        "# create model\n",
        "neural_net = Sequential()\n",
        "neural_net.add(Dense(12, input_dim=72, activation='relu'))\n",
        "neural_net.add(Dense(8, activation='relu'))\n",
        "neural_net.add(Dense(1, activation='sigmoid'))\n",
        "# Compile model\n",
        "neural_net.compile(loss='binary_crossentropy', optimizer='adam', metrics=['accuracy'])"
      ],
      "execution_count": 0,
      "outputs": []
    },
    {
      "metadata": {
        "id": "5GN8oriNDyTC",
        "colab_type": "code",
        "colab": {
          "base_uri": "https://localhost:8080/",
          "height": 5367
        },
        "outputId": "2b5ae7c8-abcb-4d55-f6ce-c04d804fe5d5"
      },
      "cell_type": "code",
      "source": [
        "neural_net.fit(x_train, y_train, epochs=150, batch_size=10)"
      ],
      "execution_count": 205,
      "outputs": [
        {
          "output_type": "stream",
          "text": [
            "Epoch 1/150\n",
            "1323/1323 [==============================] - 0s 300us/step - loss: 0.4929 - acc: 0.8382\n",
            "Epoch 2/150\n",
            "1323/1323 [==============================] - 0s 127us/step - loss: 0.3976 - acc: 0.8390\n",
            "Epoch 3/150\n",
            "1323/1323 [==============================] - 0s 123us/step - loss: 0.3665 - acc: 0.8390\n",
            "Epoch 4/150\n",
            "1323/1323 [==============================] - 0s 123us/step - loss: 0.3483 - acc: 0.8390\n",
            "Epoch 5/150\n",
            "1323/1323 [==============================] - 0s 124us/step - loss: 0.3370 - acc: 0.8481\n",
            "Epoch 6/150\n",
            "1323/1323 [==============================] - 0s 121us/step - loss: 0.3289 - acc: 0.8579\n",
            "Epoch 7/150\n",
            "1323/1323 [==============================] - 0s 124us/step - loss: 0.3211 - acc: 0.8707\n",
            "Epoch 8/150\n",
            "1323/1323 [==============================] - 0s 125us/step - loss: 0.3105 - acc: 0.8791\n",
            "Epoch 9/150\n",
            "1323/1323 [==============================] - 0s 126us/step - loss: 0.3041 - acc: 0.8889\n",
            "Epoch 10/150\n",
            "1323/1323 [==============================] - 0s 125us/step - loss: 0.2949 - acc: 0.8881\n",
            "Epoch 11/150\n",
            "1323/1323 [==============================] - 0s 124us/step - loss: 0.2890 - acc: 0.8942\n",
            "Epoch 12/150\n",
            "1323/1323 [==============================] - 0s 125us/step - loss: 0.2843 - acc: 0.8964\n",
            "Epoch 13/150\n",
            "1323/1323 [==============================] - 0s 110us/step - loss: 0.2812 - acc: 0.8874\n",
            "Epoch 14/150\n",
            "1323/1323 [==============================] - 0s 112us/step - loss: 0.2753 - acc: 0.8972\n",
            "Epoch 15/150\n",
            "1323/1323 [==============================] - 0s 111us/step - loss: 0.2722 - acc: 0.9002\n",
            "Epoch 16/150\n",
            "1323/1323 [==============================] - 0s 110us/step - loss: 0.2673 - acc: 0.8972\n",
            "Epoch 17/150\n",
            "1323/1323 [==============================] - 0s 106us/step - loss: 0.2627 - acc: 0.8995\n",
            "Epoch 18/150\n",
            "1323/1323 [==============================] - 0s 104us/step - loss: 0.2612 - acc: 0.9070\n",
            "Epoch 19/150\n",
            "1323/1323 [==============================] - 0s 108us/step - loss: 0.2589 - acc: 0.9010\n",
            "Epoch 20/150\n",
            "1323/1323 [==============================] - 0s 109us/step - loss: 0.2538 - acc: 0.9033\n",
            "Epoch 21/150\n",
            "1323/1323 [==============================] - 0s 105us/step - loss: 0.2507 - acc: 0.9048\n",
            "Epoch 22/150\n",
            "1323/1323 [==============================] - 0s 107us/step - loss: 0.2478 - acc: 0.9017\n",
            "Epoch 23/150\n",
            "1323/1323 [==============================] - 0s 111us/step - loss: 0.2454 - acc: 0.9108\n",
            "Epoch 24/150\n",
            "1323/1323 [==============================] - 0s 106us/step - loss: 0.2405 - acc: 0.9055\n",
            "Epoch 25/150\n",
            "1323/1323 [==============================] - 0s 110us/step - loss: 0.2391 - acc: 0.9116\n",
            "Epoch 26/150\n",
            "1323/1323 [==============================] - 0s 106us/step - loss: 0.2360 - acc: 0.9093\n",
            "Epoch 27/150\n",
            "1323/1323 [==============================] - 0s 107us/step - loss: 0.2334 - acc: 0.9123\n",
            "Epoch 28/150\n",
            "1323/1323 [==============================] - 0s 106us/step - loss: 0.2295 - acc: 0.9131\n",
            "Epoch 29/150\n",
            "1323/1323 [==============================] - 0s 106us/step - loss: 0.2276 - acc: 0.9101\n",
            "Epoch 30/150\n",
            "1323/1323 [==============================] - 0s 107us/step - loss: 0.2253 - acc: 0.9146\n",
            "Epoch 31/150\n",
            "1323/1323 [==============================] - 0s 103us/step - loss: 0.2232 - acc: 0.9093\n",
            "Epoch 32/150\n",
            "1323/1323 [==============================] - 0s 109us/step - loss: 0.2199 - acc: 0.9161\n",
            "Epoch 33/150\n",
            "1323/1323 [==============================] - 0s 106us/step - loss: 0.2191 - acc: 0.9138\n",
            "Epoch 34/150\n",
            "1323/1323 [==============================] - 0s 106us/step - loss: 0.2154 - acc: 0.9153\n",
            "Epoch 35/150\n",
            "1323/1323 [==============================] - 0s 110us/step - loss: 0.2144 - acc: 0.9169\n",
            "Epoch 36/150\n",
            "1323/1323 [==============================] - 0s 108us/step - loss: 0.2126 - acc: 0.9146\n",
            "Epoch 37/150\n",
            "1323/1323 [==============================] - 0s 106us/step - loss: 0.2089 - acc: 0.9214\n",
            "Epoch 38/150\n",
            "1323/1323 [==============================] - 0s 110us/step - loss: 0.2082 - acc: 0.9184\n",
            "Epoch 39/150\n",
            "1323/1323 [==============================] - 0s 108us/step - loss: 0.2046 - acc: 0.9199\n",
            "Epoch 40/150\n",
            "1323/1323 [==============================] - 0s 110us/step - loss: 0.2025 - acc: 0.9184\n",
            "Epoch 41/150\n",
            "1323/1323 [==============================] - 0s 112us/step - loss: 0.2025 - acc: 0.9191\n",
            "Epoch 42/150\n",
            "1323/1323 [==============================] - 0s 110us/step - loss: 0.1999 - acc: 0.9206\n",
            "Epoch 43/150\n",
            "1323/1323 [==============================] - 0s 106us/step - loss: 0.1969 - acc: 0.9184\n",
            "Epoch 44/150\n",
            "1323/1323 [==============================] - 0s 106us/step - loss: 0.1967 - acc: 0.9244\n",
            "Epoch 45/150\n",
            "1323/1323 [==============================] - 0s 107us/step - loss: 0.1924 - acc: 0.9221\n",
            "Epoch 46/150\n",
            "1323/1323 [==============================] - 0s 107us/step - loss: 0.1916 - acc: 0.9267\n",
            "Epoch 47/150\n",
            "1323/1323 [==============================] - 0s 105us/step - loss: 0.1897 - acc: 0.9244\n",
            "Epoch 48/150\n",
            "1323/1323 [==============================] - 0s 110us/step - loss: 0.1876 - acc: 0.9282\n",
            "Epoch 49/150\n",
            "1323/1323 [==============================] - 0s 110us/step - loss: 0.1871 - acc: 0.9259\n",
            "Epoch 50/150\n",
            "1323/1323 [==============================] - 0s 107us/step - loss: 0.1831 - acc: 0.9327\n",
            "Epoch 51/150\n",
            "1323/1323 [==============================] - 0s 105us/step - loss: 0.1822 - acc: 0.9282\n",
            "Epoch 52/150\n",
            "1323/1323 [==============================] - 0s 110us/step - loss: 0.1811 - acc: 0.9327\n",
            "Epoch 53/150\n",
            "1323/1323 [==============================] - 0s 108us/step - loss: 0.1774 - acc: 0.9327\n",
            "Epoch 54/150\n",
            "1323/1323 [==============================] - 0s 108us/step - loss: 0.1755 - acc: 0.9259\n",
            "Epoch 55/150\n",
            "1323/1323 [==============================] - 0s 110us/step - loss: 0.1748 - acc: 0.9320\n",
            "Epoch 56/150\n",
            "1323/1323 [==============================] - 0s 109us/step - loss: 0.1746 - acc: 0.9350\n",
            "Epoch 57/150\n",
            "1323/1323 [==============================] - 0s 108us/step - loss: 0.1713 - acc: 0.9358\n",
            "Epoch 58/150\n",
            "1323/1323 [==============================] - 0s 107us/step - loss: 0.1685 - acc: 0.9342\n",
            "Epoch 59/150\n",
            "1323/1323 [==============================] - 0s 105us/step - loss: 0.1664 - acc: 0.9373\n",
            "Epoch 60/150\n",
            "1323/1323 [==============================] - 0s 111us/step - loss: 0.1654 - acc: 0.9342\n",
            "Epoch 61/150\n",
            "1323/1323 [==============================] - 0s 107us/step - loss: 0.1634 - acc: 0.9358\n",
            "Epoch 62/150\n",
            "1323/1323 [==============================] - 0s 108us/step - loss: 0.1637 - acc: 0.9410\n",
            "Epoch 63/150\n",
            "1323/1323 [==============================] - 0s 109us/step - loss: 0.1598 - acc: 0.9380\n",
            "Epoch 64/150\n",
            "1323/1323 [==============================] - 0s 107us/step - loss: 0.1587 - acc: 0.9403\n",
            "Epoch 65/150\n",
            "1323/1323 [==============================] - 0s 108us/step - loss: 0.1568 - acc: 0.9388\n",
            "Epoch 66/150\n",
            "1323/1323 [==============================] - 0s 106us/step - loss: 0.1553 - acc: 0.9358\n",
            "Epoch 67/150\n",
            "1323/1323 [==============================] - 0s 107us/step - loss: 0.1560 - acc: 0.9418\n",
            "Epoch 68/150\n",
            "1323/1323 [==============================] - 0s 108us/step - loss: 0.1545 - acc: 0.9395\n",
            "Epoch 69/150\n",
            "1323/1323 [==============================] - 0s 108us/step - loss: 0.1517 - acc: 0.9426\n",
            "Epoch 70/150\n",
            "1323/1323 [==============================] - 0s 113us/step - loss: 0.1498 - acc: 0.9471\n",
            "Epoch 71/150\n",
            "1323/1323 [==============================] - 0s 107us/step - loss: 0.1502 - acc: 0.9433\n",
            "Epoch 72/150\n",
            "1323/1323 [==============================] - 0s 105us/step - loss: 0.1470 - acc: 0.9395\n",
            "Epoch 73/150\n",
            "1323/1323 [==============================] - 0s 106us/step - loss: 0.1441 - acc: 0.9478\n",
            "Epoch 74/150\n",
            "1323/1323 [==============================] - 0s 105us/step - loss: 0.1421 - acc: 0.9471\n",
            "Epoch 75/150\n",
            "1323/1323 [==============================] - 0s 106us/step - loss: 0.1458 - acc: 0.9478\n",
            "Epoch 76/150\n",
            "1323/1323 [==============================] - 0s 106us/step - loss: 0.1427 - acc: 0.9448\n",
            "Epoch 77/150\n",
            "1323/1323 [==============================] - 0s 107us/step - loss: 0.1420 - acc: 0.9448\n",
            "Epoch 78/150\n",
            "1323/1323 [==============================] - 0s 108us/step - loss: 0.1393 - acc: 0.9486\n",
            "Epoch 79/150\n",
            "1323/1323 [==============================] - 0s 109us/step - loss: 0.1393 - acc: 0.9494\n",
            "Epoch 80/150\n",
            "1323/1323 [==============================] - 0s 110us/step - loss: 0.1351 - acc: 0.9539\n",
            "Epoch 81/150\n",
            "1323/1323 [==============================] - 0s 115us/step - loss: 0.1353 - acc: 0.9509\n",
            "Epoch 82/150\n",
            "1323/1323 [==============================] - 0s 106us/step - loss: 0.1333 - acc: 0.9509\n",
            "Epoch 83/150\n",
            "1323/1323 [==============================] - 0s 109us/step - loss: 0.1317 - acc: 0.9509\n",
            "Epoch 84/150\n",
            "1323/1323 [==============================] - 0s 109us/step - loss: 0.1295 - acc: 0.9569\n",
            "Epoch 85/150\n",
            "1323/1323 [==============================] - 0s 108us/step - loss: 0.1296 - acc: 0.9531\n",
            "Epoch 86/150\n",
            "1323/1323 [==============================] - 0s 105us/step - loss: 0.1251 - acc: 0.9584\n",
            "Epoch 87/150\n",
            "1323/1323 [==============================] - 0s 106us/step - loss: 0.1264 - acc: 0.9562\n",
            "Epoch 88/150\n",
            "1323/1323 [==============================] - 0s 107us/step - loss: 0.1253 - acc: 0.9531\n",
            "Epoch 89/150\n",
            "1323/1323 [==============================] - 0s 108us/step - loss: 0.1218 - acc: 0.9592\n",
            "Epoch 90/150\n",
            "1323/1323 [==============================] - 0s 107us/step - loss: 0.1216 - acc: 0.9569\n",
            "Epoch 91/150\n",
            "1323/1323 [==============================] - 0s 108us/step - loss: 0.1198 - acc: 0.9599\n",
            "Epoch 92/150\n",
            "1323/1323 [==============================] - 0s 105us/step - loss: 0.1220 - acc: 0.9622\n",
            "Epoch 93/150\n",
            "1323/1323 [==============================] - 0s 105us/step - loss: 0.1193 - acc: 0.9607\n",
            "Epoch 94/150\n",
            "1323/1323 [==============================] - 0s 108us/step - loss: 0.1160 - acc: 0.9592\n",
            "Epoch 95/150\n",
            "1323/1323 [==============================] - 0s 107us/step - loss: 0.1162 - acc: 0.9615\n",
            "Epoch 96/150\n",
            "1323/1323 [==============================] - 0s 105us/step - loss: 0.1138 - acc: 0.9630\n",
            "Epoch 97/150\n",
            "1323/1323 [==============================] - 0s 107us/step - loss: 0.1172 - acc: 0.9622\n",
            "Epoch 98/150\n",
            "1323/1323 [==============================] - 0s 109us/step - loss: 0.1109 - acc: 0.9637\n",
            "Epoch 99/150\n",
            "1323/1323 [==============================] - 0s 109us/step - loss: 0.1127 - acc: 0.9622\n",
            "Epoch 100/150\n",
            "1323/1323 [==============================] - 0s 107us/step - loss: 0.1104 - acc: 0.9615\n",
            "Epoch 101/150\n",
            "1323/1323 [==============================] - 0s 107us/step - loss: 0.1088 - acc: 0.9667\n",
            "Epoch 102/150\n",
            "1323/1323 [==============================] - 0s 108us/step - loss: 0.1086 - acc: 0.9675\n",
            "Epoch 103/150\n",
            "1323/1323 [==============================] - 0s 108us/step - loss: 0.1055 - acc: 0.9645\n",
            "Epoch 104/150\n",
            "1323/1323 [==============================] - 0s 112us/step - loss: 0.1067 - acc: 0.9652\n",
            "Epoch 105/150\n",
            "1323/1323 [==============================] - 0s 107us/step - loss: 0.1065 - acc: 0.9667\n",
            "Epoch 106/150\n",
            "1323/1323 [==============================] - 0s 106us/step - loss: 0.1067 - acc: 0.9660\n",
            "Epoch 107/150\n",
            "1323/1323 [==============================] - 0s 104us/step - loss: 0.1012 - acc: 0.9690\n",
            "Epoch 108/150\n",
            "1323/1323 [==============================] - 0s 106us/step - loss: 0.1041 - acc: 0.9660\n",
            "Epoch 109/150\n",
            "1323/1323 [==============================] - 0s 107us/step - loss: 0.1014 - acc: 0.9652\n",
            "Epoch 110/150\n",
            "1323/1323 [==============================] - 0s 106us/step - loss: 0.1005 - acc: 0.9713\n",
            "Epoch 111/150\n",
            "1323/1323 [==============================] - 0s 108us/step - loss: 0.0993 - acc: 0.9698\n",
            "Epoch 112/150\n",
            "1323/1323 [==============================] - 0s 107us/step - loss: 0.0977 - acc: 0.9698\n",
            "Epoch 113/150\n",
            "1323/1323 [==============================] - 0s 106us/step - loss: 0.0976 - acc: 0.9690\n",
            "Epoch 114/150\n",
            "1323/1323 [==============================] - 0s 104us/step - loss: 0.0951 - acc: 0.9728\n",
            "Epoch 115/150\n",
            "1323/1323 [==============================] - 0s 108us/step - loss: 0.0947 - acc: 0.9667\n",
            "Epoch 116/150\n",
            "1323/1323 [==============================] - 0s 105us/step - loss: 0.0942 - acc: 0.9690\n",
            "Epoch 117/150\n",
            "1323/1323 [==============================] - 0s 109us/step - loss: 0.0928 - acc: 0.9758\n",
            "Epoch 118/150\n",
            "1323/1323 [==============================] - 0s 108us/step - loss: 0.0910 - acc: 0.9743\n",
            "Epoch 119/150\n",
            "1323/1323 [==============================] - 0s 107us/step - loss: 0.0901 - acc: 0.9720\n",
            "Epoch 120/150\n",
            "1323/1323 [==============================] - 0s 105us/step - loss: 0.0885 - acc: 0.9735\n",
            "Epoch 121/150\n",
            "1323/1323 [==============================] - 0s 106us/step - loss: 0.0874 - acc: 0.9743\n",
            "Epoch 122/150\n",
            "1323/1323 [==============================] - 0s 108us/step - loss: 0.0878 - acc: 0.9751\n",
            "Epoch 123/150\n",
            "1323/1323 [==============================] - 0s 108us/step - loss: 0.0874 - acc: 0.9713\n",
            "Epoch 124/150\n",
            "1323/1323 [==============================] - 0s 104us/step - loss: 0.0876 - acc: 0.9758\n",
            "Epoch 125/150\n",
            "1323/1323 [==============================] - 0s 108us/step - loss: 0.0858 - acc: 0.9766\n",
            "Epoch 126/150\n",
            "1323/1323 [==============================] - 0s 109us/step - loss: 0.0864 - acc: 0.9788\n",
            "Epoch 127/150\n",
            "1323/1323 [==============================] - 0s 109us/step - loss: 0.0833 - acc: 0.9766\n",
            "Epoch 128/150\n",
            "1323/1323 [==============================] - 0s 109us/step - loss: 0.0844 - acc: 0.9720\n",
            "Epoch 129/150\n",
            "1323/1323 [==============================] - 0s 106us/step - loss: 0.0807 - acc: 0.9758\n",
            "Epoch 130/150\n",
            "1323/1323 [==============================] - 0s 106us/step - loss: 0.0807 - acc: 0.9773\n",
            "Epoch 131/150\n",
            "1323/1323 [==============================] - 0s 107us/step - loss: 0.0814 - acc: 0.9773\n",
            "Epoch 132/150\n",
            "1323/1323 [==============================] - 0s 108us/step - loss: 0.0786 - acc: 0.9781\n",
            "Epoch 133/150\n",
            "1323/1323 [==============================] - 0s 109us/step - loss: 0.0807 - acc: 0.9728\n",
            "Epoch 134/150\n",
            "1323/1323 [==============================] - 0s 107us/step - loss: 0.0765 - acc: 0.9803\n",
            "Epoch 135/150\n",
            "1323/1323 [==============================] - 0s 106us/step - loss: 0.0782 - acc: 0.9788\n",
            "Epoch 136/150\n",
            "1323/1323 [==============================] - 0s 110us/step - loss: 0.0748 - acc: 0.9788\n",
            "Epoch 137/150\n",
            "1323/1323 [==============================] - 0s 107us/step - loss: 0.0762 - acc: 0.9788\n",
            "Epoch 138/150\n",
            "1323/1323 [==============================] - 0s 107us/step - loss: 0.0728 - acc: 0.9796\n",
            "Epoch 139/150\n",
            "1323/1323 [==============================] - 0s 109us/step - loss: 0.0735 - acc: 0.9781\n",
            "Epoch 140/150\n",
            "1323/1323 [==============================] - 0s 110us/step - loss: 0.0736 - acc: 0.9773\n",
            "Epoch 141/150\n",
            "1323/1323 [==============================] - 0s 107us/step - loss: 0.0708 - acc: 0.9826\n",
            "Epoch 142/150\n",
            "1323/1323 [==============================] - 0s 108us/step - loss: 0.0694 - acc: 0.9819\n",
            "Epoch 143/150\n",
            "1323/1323 [==============================] - 0s 108us/step - loss: 0.0721 - acc: 0.9811\n",
            "Epoch 144/150\n",
            "1323/1323 [==============================] - 0s 108us/step - loss: 0.0687 - acc: 0.9819\n",
            "Epoch 145/150\n",
            "1323/1323 [==============================] - 0s 107us/step - loss: 0.0677 - acc: 0.9796\n",
            "Epoch 146/150\n",
            "1323/1323 [==============================] - 0s 108us/step - loss: 0.0710 - acc: 0.9796\n",
            "Epoch 147/150\n",
            "1323/1323 [==============================] - 0s 108us/step - loss: 0.0667 - acc: 0.9811\n",
            "Epoch 148/150\n",
            "1323/1323 [==============================] - 0s 107us/step - loss: 0.0682 - acc: 0.9781\n",
            "Epoch 149/150\n",
            "1323/1323 [==============================] - 0s 107us/step - loss: 0.0654 - acc: 0.9819\n",
            "Epoch 150/150\n",
            "1323/1323 [==============================] - 0s 107us/step - loss: 0.0637 - acc: 0.9864\n"
          ],
          "name": "stdout"
        },
        {
          "output_type": "execute_result",
          "data": {
            "text/plain": [
              "<keras.callbacks.History at 0x7fd37ab6aa90>"
            ]
          },
          "metadata": {
            "tags": []
          },
          "execution_count": 205
        }
      ]
    },
    {
      "metadata": {
        "id": "dDebIAnSD9sh",
        "colab_type": "code",
        "colab": {
          "base_uri": "https://localhost:8080/",
          "height": 34
        },
        "outputId": "08a719f5-2471-4782-e644-b3d7fa6bdaf5"
      },
      "cell_type": "code",
      "source": [
        "scores = neural_net.evaluate(x_train,y_train)"
      ],
      "execution_count": 206,
      "outputs": [
        {
          "output_type": "stream",
          "text": [
            "1323/1323 [==============================] - 0s 56us/step\n"
          ],
          "name": "stdout"
        }
      ]
    },
    {
      "metadata": {
        "id": "bb8dNSkWF_b4",
        "colab_type": "code",
        "colab": {
          "base_uri": "https://localhost:8080/",
          "height": 52
        },
        "outputId": "b5757ca3-0723-4c67-f8b4-36ad7454cef1"
      },
      "cell_type": "code",
      "source": [
        "print(\"\\n%s: %.2f%%\" % (neural_net.metrics_names[1], scores[1]*100))"
      ],
      "execution_count": 207,
      "outputs": [
        {
          "output_type": "stream",
          "text": [
            "\n",
            "acc: 98.41%\n"
          ],
          "name": "stdout"
        }
      ]
    },
    {
      "metadata": {
        "id": "QX9L9jLzGryC",
        "colab_type": "code",
        "colab": {}
      },
      "cell_type": "code",
      "source": [
        "y_test_pred_neural_net = neural_net.predict_classes(x_test)"
      ],
      "execution_count": 0,
      "outputs": []
    },
    {
      "metadata": {
        "id": "M0bWTMkzGz-R",
        "colab_type": "code",
        "colab": {
          "base_uri": "https://localhost:8080/",
          "height": 52
        },
        "outputId": "c6d86c53-dbfe-4fc4-bf46-1df9883c37b3"
      },
      "cell_type": "code",
      "source": [
        "confusion_matrix(y_test,y_test_pred_neural_net)"
      ],
      "execution_count": 209,
      "outputs": [
        {
          "output_type": "execute_result",
          "data": {
            "text/plain": [
              "array([[112,  11],\n",
              "       [ 14,  10]])"
            ]
          },
          "metadata": {
            "tags": []
          },
          "execution_count": 209
        }
      ]
    },
    {
      "metadata": {
        "id": "nYxaBbxXKJRk",
        "colab_type": "code",
        "colab": {
          "base_uri": "https://localhost:8080/",
          "height": 87
        },
        "outputId": "949da961-7897-4f69-f30c-79d86741d460"
      },
      "cell_type": "code",
      "source": [
        "tn, fp, fn, tp = confusion_matrix(y_test,y_test_pred_neural_net).ravel()\n",
        "print (tn)\n",
        "print (fp)\n",
        "print (fn)\n",
        "print (tp)"
      ],
      "execution_count": 212,
      "outputs": [
        {
          "output_type": "stream",
          "text": [
            "112\n",
            "11\n",
            "14\n",
            "10\n"
          ],
          "name": "stdout"
        }
      ]
    }
  ]
}