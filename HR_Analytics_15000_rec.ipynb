{
  "nbformat": 4,
  "nbformat_minor": 0,
  "metadata": {
    "colab": {
      "name": "HR Analytics 15000 rec.ipynb",
      "version": "0.3.2",
      "provenance": [],
      "include_colab_link": true
    },
    "kernelspec": {
      "name": "python3",
      "display_name": "Python 3"
    },
    "accelerator": "GPU"
  },
  "cells": [
    {
      "cell_type": "markdown",
      "metadata": {
        "id": "view-in-github",
        "colab_type": "text"
      },
      "source": [
        "<a href=\"https://colab.research.google.com/github/tkhan3/machinelearning/blob/master/HR_Analytics_15000_rec.ipynb\" target=\"_parent\"><img src=\"https://colab.research.google.com/assets/colab-badge.svg\" alt=\"Open In Colab\"/></a>"
      ]
    },
    {
      "metadata": {
        "id": "xfrX0SRNDu8Q",
        "colab_type": "code",
        "outputId": "bf8cb3ac-ee46-4cec-dd15-9963d702f3a8",
        "colab": {
          "base_uri": "https://localhost:8080/",
          "height": 836
        }
      },
      "cell_type": "code",
      "source": [
        "!apt-get install -y -qq software-properties-common python-software-properties module-init-tools\n",
        "!add-apt-repository -y ppa:alessandro-strada/ppa 2>&1 > /dev/null\n",
        "!apt-get update -qq 2>&1 > /dev/null\n",
        "!apt-get -y install -qq google-drive-ocamlfuse fuse\n",
        "from google.colab import auth\n",
        "auth.authenticate_user()\n",
        "from oauth2client.client import GoogleCredentials\n",
        "creds = GoogleCredentials.get_application_default()\n",
        "import getpass\n",
        "!google-drive-ocamlfuse -headless -id={creds.client_id} -secret={creds.client_secret} < /dev/null 2>&1 | grep URL\n",
        "vcode = getpass.getpass()\n",
        "!echo {vcode} | google-drive-ocamlfuse -headless -id={creds.client_id} -secret={creds.client_secret}\n",
        "#import pandas as pd\n",
        "!google-drive-ocamlfuse drive\n",
        "!apt-get -qq install -y graphviz && pip install -q pydot\n",
        "!pip3 install seaborn==0.9.0\n",
        "import pydot\n",
        "!mkdir -p drive\n",
        "!google-drive-ocamlfuse drive\n",
        "!pip install sklearn_pandas"
      ],
      "execution_count": 1,
      "outputs": [
        {
          "output_type": "stream",
          "text": [
            "E: Package 'python-software-properties' has no installation candidate\n",
            "Selecting previously unselected package google-drive-ocamlfuse.\n",
            "(Reading database ... 110851 files and directories currently installed.)\n",
            "Preparing to unpack .../google-drive-ocamlfuse_0.7.1-0ubuntu3~ubuntu18.04.1_amd64.deb ...\n",
            "Unpacking google-drive-ocamlfuse (0.7.1-0ubuntu3~ubuntu18.04.1) ...\n",
            "Setting up google-drive-ocamlfuse (0.7.1-0ubuntu3~ubuntu18.04.1) ...\n",
            "Processing triggers for man-db (2.8.3-2ubuntu0.1) ...\n",
            "Please, open the following URL in a web browser: https://accounts.google.com/o/oauth2/auth?client_id=32555940559.apps.googleusercontent.com&redirect_uri=urn%3Aietf%3Awg%3Aoauth%3A2.0%3Aoob&scope=https%3A%2F%2Fwww.googleapis.com%2Fauth%2Fdrive&response_type=code&access_type=offline&approval_prompt=force\n",
            "··········\n",
            "Please, open the following URL in a web browser: https://accounts.google.com/o/oauth2/auth?client_id=32555940559.apps.googleusercontent.com&redirect_uri=urn%3Aietf%3Awg%3Aoauth%3A2.0%3Aoob&scope=https%3A%2F%2Fwww.googleapis.com%2Fauth%2Fdrive&response_type=code&access_type=offline&approval_prompt=force\n",
            "Please enter the verification code: Access token retrieved correctly.\n",
            "Error: Mountpoint drive should be an existing directory.\n",
            "Collecting seaborn==0.9.0\n",
            "\u001b[?25l  Downloading https://files.pythonhosted.org/packages/a8/76/220ba4420459d9c4c9c9587c6ce607bf56c25b3d3d2de62056efe482dadc/seaborn-0.9.0-py3-none-any.whl (208kB)\n",
            "\u001b[K    100% |████████████████████████████████| 215kB 26.9MB/s \n",
            "\u001b[?25hRequirement already satisfied: numpy>=1.9.3 in /usr/local/lib/python3.6/dist-packages (from seaborn==0.9.0) (1.14.6)\n",
            "Requirement already satisfied: scipy>=0.14.0 in /usr/local/lib/python3.6/dist-packages (from seaborn==0.9.0) (1.1.0)\n",
            "Requirement already satisfied: matplotlib>=1.4.3 in /usr/local/lib/python3.6/dist-packages (from seaborn==0.9.0) (3.0.2)\n",
            "Requirement already satisfied: pandas>=0.15.2 in /usr/local/lib/python3.6/dist-packages (from seaborn==0.9.0) (0.22.0)\n",
            "Requirement already satisfied: cycler>=0.10 in /usr/local/lib/python3.6/dist-packages (from matplotlib>=1.4.3->seaborn==0.9.0) (0.10.0)\n",
            "Requirement already satisfied: python-dateutil>=2.1 in /usr/local/lib/python3.6/dist-packages (from matplotlib>=1.4.3->seaborn==0.9.0) (2.5.3)\n",
            "Requirement already satisfied: pyparsing!=2.0.4,!=2.1.2,!=2.1.6,>=2.0.1 in /usr/local/lib/python3.6/dist-packages (from matplotlib>=1.4.3->seaborn==0.9.0) (2.3.1)\n",
            "Requirement already satisfied: kiwisolver>=1.0.1 in /usr/local/lib/python3.6/dist-packages (from matplotlib>=1.4.3->seaborn==0.9.0) (1.0.1)\n",
            "Requirement already satisfied: pytz>=2011k in /usr/local/lib/python3.6/dist-packages (from pandas>=0.15.2->seaborn==0.9.0) (2018.9)\n",
            "Requirement already satisfied: six in /usr/local/lib/python3.6/dist-packages (from cycler>=0.10->matplotlib>=1.4.3->seaborn==0.9.0) (1.11.0)\n",
            "Requirement already satisfied: setuptools in /usr/local/lib/python3.6/dist-packages (from kiwisolver>=1.0.1->matplotlib>=1.4.3->seaborn==0.9.0) (40.7.0)\n",
            "Installing collected packages: seaborn\n",
            "  Found existing installation: seaborn 0.7.1\n",
            "    Uninstalling seaborn-0.7.1:\n",
            "      Successfully uninstalled seaborn-0.7.1\n",
            "Successfully installed seaborn-0.9.0\n"
          ],
          "name": "stdout"
        },
        {
          "output_type": "display_data",
          "data": {
            "application/vnd.colab-display-data+json": {
              "pip_warning": {
                "packages": [
                  "seaborn"
                ]
              }
            }
          },
          "metadata": {
            "tags": []
          }
        },
        {
          "output_type": "stream",
          "text": [
            "Collecting sklearn_pandas\n",
            "  Downloading https://files.pythonhosted.org/packages/1f/48/4e1461d828baf41d609efaa720d20090ac6ec346b5daad3c88e243e2207e/sklearn_pandas-1.8.0-py2.py3-none-any.whl\n",
            "Requirement already satisfied: scikit-learn>=0.15.0 in /usr/local/lib/python3.6/dist-packages (from sklearn_pandas) (0.20.2)\n",
            "Requirement already satisfied: pandas>=0.11.0 in /usr/local/lib/python3.6/dist-packages (from sklearn_pandas) (0.22.0)\n",
            "Requirement already satisfied: numpy>=1.6.1 in /usr/local/lib/python3.6/dist-packages (from sklearn_pandas) (1.14.6)\n",
            "Requirement already satisfied: scipy>=0.14 in /usr/local/lib/python3.6/dist-packages (from sklearn_pandas) (1.1.0)\n",
            "Requirement already satisfied: pytz>=2011k in /usr/local/lib/python3.6/dist-packages (from pandas>=0.11.0->sklearn_pandas) (2018.9)\n",
            "Requirement already satisfied: python-dateutil>=2 in /usr/local/lib/python3.6/dist-packages (from pandas>=0.11.0->sklearn_pandas) (2.5.3)\n",
            "Requirement already satisfied: six>=1.5 in /usr/local/lib/python3.6/dist-packages (from python-dateutil>=2->pandas>=0.11.0->sklearn_pandas) (1.11.0)\n",
            "Installing collected packages: sklearn-pandas\n",
            "Successfully installed sklearn-pandas-1.8.0\n"
          ],
          "name": "stdout"
        }
      ]
    },
    {
      "metadata": {
        "id": "_AiBlICxBoeE",
        "colab_type": "text"
      },
      "cell_type": "markdown",
      "source": [
        "**Objective of this study is to build a proactive system that will help in predicting potential employees that are on the risk of attritition. This system will help HR and Organization is identifying the potential candidates that are likely to leave organization by raising a flag. HR and Organziation can examine these cases and can determine if they need to intervene and take some steps to prevent this. This will also help HR in building contigency which includes finidng replacement or looking for new hire or plan for transition. **\n",
        "\n",
        "**This has two parts. First part includes exploratory study which will help in understanding the underlying data points/variable/factors. This exploratory study help in discovering various distributions and finiding the issues with the data. This will also assist in determining what all algorithms can be applicable and if some variable transformations are needed. **\n",
        "\n",
        "**Second part of the study is training various machine learning models for classification. These machine learning model will predict if an employee is on the risk of attrition or not. In this study we are generating probabilities of the attrition but this can be done easily by extending this work. Multiple machine learning models are trained and their performance is compared with the help of Confusion Matrix.  \n",
        "**\n",
        "\n",
        "**There is a class imbalance in the dataset. So in this study precision and recall are more important parameter to measure the efficacy of the qualifier. We can't just look at the Accuracy as there is a class imbalance in the dataset.\n",
        "**"
      ]
    },
    {
      "metadata": {
        "id": "bGV3PrRXADLe",
        "colab_type": "text"
      },
      "cell_type": "markdown",
      "source": [
        "**Below code import required machine learning and visualization libraries.**"
      ]
    },
    {
      "metadata": {
        "id": "OG2OtZ9HXGU8",
        "colab_type": "code",
        "outputId": "5220b0ec-9e9c-47d8-bbfc-28566dd9f05d",
        "colab": {
          "base_uri": "https://localhost:8080/",
          "height": 34
        }
      },
      "cell_type": "code",
      "source": [
        "import pandas as pd\n",
        "from datetime import datetime\n",
        "import seaborn as sns\n",
        "import os\n",
        "from sklearn.metrics import confusion_matrix\n",
        "from sklearn.pipeline import Pipeline\n",
        "from sklearn.preprocessing import StandardScaler\n",
        "from sklearn.base import BaseEstimator, TransformerMixin\n",
        "from sklearn.preprocessing import OneHotEncoder\n",
        "from sklearn.pipeline import FeatureUnion\n",
        "from sklearn.model_selection import cross_val_score,cross_val_predict\n",
        "from sklearn.svm import SVC\n",
        "from sklearn.metrics import confusion_matrix\n",
        "from sklearn.ensemble import RandomForestClassifier\n",
        "from sklearn import preprocessing\n",
        "from sklearn.impute import SimpleImputer # Scikit-Learn 0.20+\n",
        "from sklearn.metrics import (accuracy_score, log_loss, classification_report)\n",
        "from sklearn.model_selection import GridSearchCV\n",
        "from sklearn.neighbors import KNeighborsClassifier\n",
        "from xgboost import XGBClassifier\n",
        "import numpy as np\n",
        "from sklearn.model_selection import StratifiedShuffleSplit\n",
        "import matplotlib.pyplot as plt\n",
        "from sklearn.linear_model import LogisticRegression\n",
        "import matplotlib.pyplot as plt\n",
        "import matplotlib.image as mpimg\n",
        "import numpy as np\n",
        "import itertools\n",
        "from xgboost import XGBClassifier\n",
        "from keras.models import Sequential\n",
        "from keras.layers import Dense"
      ],
      "execution_count": 1,
      "outputs": [
        {
          "output_type": "stream",
          "text": [
            "Using TensorFlow backend.\n"
          ],
          "name": "stderr"
        }
      ]
    },
    {
      "metadata": {
        "id": "FXN8i4jNWxnL",
        "colab_type": "text"
      },
      "cell_type": "markdown",
      "source": [
        "**Setting up path for google drive where the data is loaded. Then we read the data from there into a csv file.**"
      ]
    },
    {
      "metadata": {
        "id": "mXjhD5znW2qs",
        "colab_type": "code",
        "colab": {}
      },
      "cell_type": "code",
      "source": [
        "import os\n",
        "drive_path = 'drive/DL_COLAB/'\n",
        "\n",
        "HR_ANALYTICS_PATH = os.path.join(drive_path,\"hr_analytics\")\n",
        "\n",
        "def load_hr_data(filename, file_path=HR_ANALYTICS_PATH):\n",
        "    csv_path = os.path.join(file_path, filename)\n",
        "    return pd.read_csv(csv_path,sep=\",\")"
      ],
      "execution_count": 0,
      "outputs": []
    },
    {
      "metadata": {
        "id": "4sUMdenXV2jb",
        "colab_type": "code",
        "colab": {}
      },
      "cell_type": "code",
      "source": [
        "hr_data_full = load_hr_data(\"HR_15000_record.csv\")"
      ],
      "execution_count": 0,
      "outputs": []
    },
    {
      "metadata": {
        "id": "T6kTqhYk3cFD",
        "colab_type": "text"
      },
      "cell_type": "markdown",
      "source": [
        "**Overall dataset has 15000 records and 10 columns**"
      ]
    },
    {
      "metadata": {
        "id": "CMefvVa5XYUW",
        "colab_type": "code",
        "outputId": "cf87091e-bf3d-4080-e220-c1b1ecf600bf",
        "colab": {
          "base_uri": "https://localhost:8080/",
          "height": 34
        }
      },
      "cell_type": "code",
      "source": [
        "hr_data_full.shape"
      ],
      "execution_count": 4,
      "outputs": [
        {
          "output_type": "execute_result",
          "data": {
            "text/plain": [
              "(14999, 10)"
            ]
          },
          "metadata": {
            "tags": []
          },
          "execution_count": 4
        }
      ]
    },
    {
      "metadata": {
        "id": "JvHkqKCC3jMK",
        "colab_type": "text"
      },
      "cell_type": "markdown",
      "source": [
        "**Below are the list of columns in the dataset**"
      ]
    },
    {
      "metadata": {
        "id": "HpZ_MlrRXVK7",
        "colab_type": "code",
        "outputId": "fc34cabd-4cca-4a83-e47a-6983d0eab0a4",
        "colab": {
          "base_uri": "https://localhost:8080/",
          "height": 85
        }
      },
      "cell_type": "code",
      "source": [
        "hr_data_full.columns"
      ],
      "execution_count": 5,
      "outputs": [
        {
          "output_type": "execute_result",
          "data": {
            "text/plain": [
              "Index(['satisfaction_level', 'last_evaluation', 'number_project',\n",
              "       'average_montly_hours', 'time_spend_company', 'Work_accident', 'left',\n",
              "       'promotion_last_5years', 'sales', 'salary'],\n",
              "      dtype='object')"
            ]
          },
          "metadata": {
            "tags": []
          },
          "execution_count": 5
        }
      ]
    },
    {
      "metadata": {
        "id": "PyRqYORjATVJ",
        "colab_type": "text"
      },
      "cell_type": "markdown",
      "source": [
        "**Below are the histograms for the different numeric vairables. This will helps in understanding distribution of the different variables. **\n",
        "\n",
        "**\n",
        "For behavioural issues it seems 10% of the examples have behavioural problems. We can see most of the employees has spent 150-300 as average monthly hours. Similarly most of the observations were evaluated either average or high in their last performance review. We can also see most of the people have worked between 3-5 projects. There are very small number of employees were present in the dataset which were promoted in last 1 year. Similarly most of the employees have spent 3-5 years with small number of employees have spent over 10 years. **"
      ]
    },
    {
      "metadata": {
        "id": "oQvIZKgvYj5v",
        "colab_type": "code",
        "outputId": "5d13613b-9b66-4378-edf1-1f870946fe95",
        "colab": {
          "base_uri": "https://localhost:8080/",
          "height": 1049
        }
      },
      "cell_type": "code",
      "source": [
        "hr_data_full.hist(bins=70, figsize=(20,15))"
      ],
      "execution_count": 7,
      "outputs": [
        {
          "output_type": "execute_result",
          "data": {
            "text/plain": [
              "array([[<matplotlib.axes._subplots.AxesSubplot object at 0x7febc7a10eb8>,\n",
              "        <matplotlib.axes._subplots.AxesSubplot object at 0x7febc7909128>,\n",
              "        <matplotlib.axes._subplots.AxesSubplot object at 0x7febc78c21d0>],\n",
              "       [<matplotlib.axes._subplots.AxesSubplot object at 0x7febc539d4a8>,\n",
              "        <matplotlib.axes._subplots.AxesSubplot object at 0x7febc533ea20>,\n",
              "        <matplotlib.axes._subplots.AxesSubplot object at 0x7febc5363f98>],\n",
              "       [<matplotlib.axes._subplots.AxesSubplot object at 0x7febc5314550>,\n",
              "        <matplotlib.axes._subplots.AxesSubplot object at 0x7febc533ab00>,\n",
              "        <matplotlib.axes._subplots.AxesSubplot object at 0x7febc533ab38>]],\n",
              "      dtype=object)"
            ]
          },
          "metadata": {
            "tags": []
          },
          "execution_count": 7
        },
        {
          "output_type": "display_data",
          "data": {
            "image/png": "[encoded data removed]",
            "text/plain": [
              "<Figure size 1440x1080 with 9 Axes>"
            ]
          },
          "metadata": {
            "tags": []
          }
        }
      ]
    },
    {
      "metadata": {
        "id": "vxTpcVwW5H2x",
        "colab_type": "text"
      },
      "cell_type": "markdown",
      "source": [
        "**Instead of providing actual salary details it was measured as low medium and high.  This scale is done internally with-in a Department of the company and with in Job Designation. So low salary means low in among the peers working on same band and in same department**"
      ]
    },
    {
      "metadata": {
        "id": "L8zmtziKY7bN",
        "colab_type": "code",
        "outputId": "bab2bf9e-61d9-4688-b2e4-252d07dcae12",
        "colab": {
          "base_uri": "https://localhost:8080/",
          "height": 68
        }
      },
      "cell_type": "code",
      "source": [
        "print (hr_data_full.salary.unique())\n",
        "print (hr_data_full.sales.unique())"
      ],
      "execution_count": 8,
      "outputs": [
        {
          "output_type": "stream",
          "text": [
            "['low' 'medium' 'high']\n",
            "['sales' 'accounting' 'hr' 'technical' 'support' 'management' 'IT'\n",
            " 'product_mng' 'marketing' 'RandD']\n"
          ],
          "name": "stdout"
        }
      ]
    },
    {
      "metadata": {
        "id": "1AOK-_iCAo-v",
        "colab_type": "text"
      },
      "cell_type": "markdown",
      "source": [
        "**Below is the distribution of the output class in full dataset. Green bar shows ratio of the examples for which historical attrition was yes and Blue bar shows  examples for which attrition was 'NO. We have around 20% observations of positive class i.e. (attrition=Yes)**'."
      ]
    },
    {
      "metadata": {
        "id": "H-jMc9gnyOHU",
        "colab_type": "code",
        "outputId": "d5cda49e-9a96-44e2-b47d-500585cf51b6",
        "colab": {
          "base_uri": "https://localhost:8080/",
          "height": 362
        }
      },
      "cell_type": "code",
      "source": [
        "sns.set(rc={'figure.figsize':(5,5)})\n",
        "sns.countplot(x=\"left\",data=hr_data_full)"
      ],
      "execution_count": 9,
      "outputs": [
        {
          "output_type": "execute_result",
          "data": {
            "text/plain": [
              "<matplotlib.axes._subplots.AxesSubplot at 0x7febc4e4cc18>"
            ]
          },
          "metadata": {
            "tags": []
          },
          "execution_count": 9
        },
        {
          "output_type": "display_data",
          "data": {
            "image/png": "[encoded data removed]",
            "text/plain": [
              "<Figure size 360x360 with 1 Axes>"
            ]
          },
          "metadata": {
            "tags": []
          }
        }
      ]
    },
    {
      "metadata": {
        "id": "Pjw9-uWG5oor",
        "colab_type": "code",
        "outputId": "3ec2c015-9f21-4ffd-8da3-cc08533f9e21",
        "colab": {
          "base_uri": "https://localhost:8080/",
          "height": 34
        }
      },
      "cell_type": "code",
      "source": [
        "hr_data_full[hr_data_full.left == 1]['left'].count()/hr_data_full['left'].count()"
      ],
      "execution_count": 10,
      "outputs": [
        {
          "output_type": "execute_result",
          "data": {
            "text/plain": [
              "0.2380825388359224"
            ]
          },
          "metadata": {
            "tags": []
          },
          "execution_count": 10
        }
      ]
    },
    {
      "metadata": {
        "id": "uFMxenxZBXVy",
        "colab_type": "text"
      },
      "cell_type": "markdown",
      "source": [
        "**Below is the graph that shows level of attrition for different satisfaction level. We can see most of the attrition is in employee with low and medium satisfaction level. However there is a very small attrition  among the employees having higher satisfaction level. Satisfaction scores are provided based upon an internal survey executed by the organization **"
      ]
    },
    {
      "metadata": {
        "id": "5-o_Nsyn5ynE",
        "colab_type": "code",
        "outputId": "f00b3586-d17d-4b29-fab7-2f16c52f885f",
        "colab": {
          "base_uri": "https://localhost:8080/",
          "height": 560
        }
      },
      "cell_type": "code",
      "source": [
        "sns.set(rc={'figure.figsize':(40.7,8.27)})\n",
        "\n",
        "sns.countplot(x=\"satisfaction_level\",data=hr_data_full,hue='left')"
      ],
      "execution_count": 12,
      "outputs": [
        {
          "output_type": "execute_result",
          "data": {
            "text/plain": [
              "<matplotlib.axes._subplots.AxesSubplot at 0x7febc4b58dd8>"
            ]
          },
          "metadata": {
            "tags": []
          },
          "execution_count": 12
        },
        {
          "output_type": "display_data",
          "data": {
            "image/png": "[encoded data removed]",
            "text/plain": [
              "<Figure size 2930.4x595.44 with 1 Axes>"
            ]
          },
          "metadata": {
            "tags": []
          }
        }
      ]
    },
    {
      "metadata": {
        "id": "uBi6FW7iu5AK",
        "colab_type": "text"
      },
      "cell_type": "markdown",
      "source": [
        "*** Below is the graph that shows level of attrition for different salary level. We can see most of the attrition is in employee with low and medium salary level. However there is a very small attrition among the employees having higher higher salaries. ***"
      ]
    },
    {
      "metadata": {
        "id": "EgnkH3238PXw",
        "colab_type": "code",
        "outputId": "ac0942e0-56a6-458a-b858-9fda45d6d681",
        "colab": {
          "base_uri": "https://localhost:8080/",
          "height": 634
        }
      },
      "cell_type": "code",
      "source": [
        "sns.set(rc={'figure.figsize':(10,10)})\n",
        "\n",
        "sns.countplot(x=\"salary\",data=hr_data_full,hue='left')"
      ],
      "execution_count": 11,
      "outputs": [
        {
          "output_type": "execute_result",
          "data": {
            "text/plain": [
              "<matplotlib.axes._subplots.AxesSubplot at 0x7febc51eba20>"
            ]
          },
          "metadata": {
            "tags": []
          },
          "execution_count": 11
        },
        {
          "output_type": "display_data",
          "data": {
            "image/png": "[encoded data removed]",
            "text/plain": [
              "<Figure size 720x720 with 1 Axes>"
            ]
          },
          "metadata": {
            "tags": []
          }
        }
      ]
    },
    {
      "metadata": {
        "id": "WgaCRiQ9vWQk",
        "colab_type": "text"
      },
      "cell_type": "markdown",
      "source": [
        "***Below graph shows the distribution of attrition on average number of project/task worked by an employee in a year. We can see attrition is high among the people who worked on below average number of projects and employees who have worked on very high number of projects/tasks. This shows there may be an issue with the worklife balance among the employees who have worked on too many projects which might lead to attrition. Similarly employee who had worked on small number of projects have shown higher attrition rate so they may not be satisfied with the work they are doing or they got disengaged because enough work is not available. ***"
      ]
    },
    {
      "metadata": {
        "id": "3KVfPPC08dCO",
        "colab_type": "code",
        "outputId": "e38e35e1-8478-4c13-9a26-511f8cb65f61",
        "colab": {
          "base_uri": "https://localhost:8080/",
          "height": 634
        }
      },
      "cell_type": "code",
      "source": [
        "sns.countplot(x=\"number_project\",data=hr_data_full,hue='left')"
      ],
      "execution_count": 14,
      "outputs": [
        {
          "output_type": "execute_result",
          "data": {
            "text/plain": [
              "<matplotlib.axes._subplots.AxesSubplot at 0x7febc4827630>"
            ]
          },
          "metadata": {
            "tags": []
          },
          "execution_count": 14
        },
        {
          "output_type": "display_data",
          "data": {
            "image/png": "[encoded data removed]",
            "text/plain": [
              "<Figure size 720x720 with 1 Axes>"
            ]
          },
          "metadata": {
            "tags": []
          }
        }
      ]
    },
    {
      "metadata": {
        "id": "o0AWbCRy2bPL",
        "colab_type": "text"
      },
      "cell_type": "markdown",
      "source": [
        "***Below is the graph for distribution of attrition on last evaluation. We can see high attrition among the people who ever evaluated high. Organization should determine reason for it.***"
      ]
    },
    {
      "metadata": {
        "id": "n1e1UTSE8seI",
        "colab_type": "code",
        "outputId": "475605d1-ce9b-4b29-cadb-985530edf0f7",
        "colab": {
          "base_uri": "https://localhost:8080/",
          "height": 540
        }
      },
      "cell_type": "code",
      "source": [
        "sns.set(rc={'figure.figsize':(22.7,8.27)})\n",
        "sns.countplot(x=\"last_evaluation\",data=hr_data_full,hue='left')"
      ],
      "execution_count": 15,
      "outputs": [
        {
          "output_type": "execute_result",
          "data": {
            "text/plain": [
              "<matplotlib.axes._subplots.AxesSubplot at 0x7febc47926a0>"
            ]
          },
          "metadata": {
            "tags": []
          },
          "execution_count": 15
        },
        {
          "output_type": "display_data",
          "data": {
            "image/png": "[encoded data removed]",
            "text/plain": [
              "<Figure size 1634.4x595.44 with 1 Axes>"
            ]
          },
          "metadata": {
            "tags": []
          }
        }
      ]
    },
    {
      "metadata": {
        "id": "aG7XdZWQ22TT",
        "colab_type": "text"
      },
      "cell_type": "markdown",
      "source": [
        "***Below is the distribution of attrition based upon time spend in company. We can see higher attrition among the people who had 3-5 years of experience. Attrition trend is lower among the people who has < 2 years of expereince and people who had 7+ years of experience.***"
      ]
    },
    {
      "metadata": {
        "id": "J6gHDqG59cyz",
        "colab_type": "code",
        "outputId": "5b224f74-e56f-4139-b74d-8989a000e079",
        "colab": {
          "base_uri": "https://localhost:8080/",
          "height": 634
        }
      },
      "cell_type": "code",
      "source": [
        "sns.set(rc={'figure.figsize':(10,10)})\n",
        "sns.countplot(x=\"time_spend_company\",data=hr_data_full,hue='left')"
      ],
      "execution_count": 13,
      "outputs": [
        {
          "output_type": "execute_result",
          "data": {
            "text/plain": [
              "<matplotlib.axes._subplots.AxesSubplot at 0x7febc4c5e198>"
            ]
          },
          "metadata": {
            "tags": []
          },
          "execution_count": 13
        },
        {
          "output_type": "display_data",
          "data": {
            "image/png": "[encoded data removed]",
            "text/plain": [
              "<Figure size 720x720 with 1 Axes>"
            ]
          },
          "metadata": {
            "tags": []
          }
        }
      ]
    },
    {
      "metadata": {
        "id": "sQMP149W4QJL",
        "colab_type": "text"
      },
      "cell_type": "markdown",
      "source": [
        "***Below is the distribution of attrition based upon the fact that if person had a recent promotion. There is a higher attrition rate among the people who were not promoted***"
      ]
    },
    {
      "metadata": {
        "id": "nT_ohpnl9j6u",
        "colab_type": "code",
        "outputId": "c9abbd00-e85c-47ad-a831-e43a5cb5ec3b",
        "colab": {
          "base_uri": "https://localhost:8080/",
          "height": 362
        }
      },
      "cell_type": "code",
      "source": [
        "sns.set(rc={'figure.figsize':(5,5)})\n",
        "sns.countplot(x=\"promotion_last_5years\",data=hr_data_full,hue='left')"
      ],
      "execution_count": 17,
      "outputs": [
        {
          "output_type": "execute_result",
          "data": {
            "text/plain": [
              "<matplotlib.axes._subplots.AxesSubplot at 0x7febc4510b38>"
            ]
          },
          "metadata": {
            "tags": []
          },
          "execution_count": 17
        },
        {
          "output_type": "display_data",
          "data": {
            "image/png": "[encoded data removed]",
            "text/plain": [
              "<Figure size 360x360 with 1 Axes>"
            ]
          },
          "metadata": {
            "tags": []
          }
        }
      ]
    },
    {
      "metadata": {
        "id": "IVzyV23K41Ya",
        "colab_type": "text"
      },
      "cell_type": "markdown",
      "source": [
        "***Below is the distribution of attrition based for each Department. We can see higer attrition in IT, Technical support and sales. However attrition is very low in Management and R&D.***"
      ]
    },
    {
      "metadata": {
        "id": "ei5BSxdU9sg_",
        "colab_type": "code",
        "outputId": "d2c7f954-6205-4b94-ea81-ed421f250275",
        "colab": {
          "base_uri": "https://localhost:8080/",
          "height": 363
        }
      },
      "cell_type": "code",
      "source": [
        "sns.set(rc={'figure.figsize':(12,5)})\n",
        "sns.countplot(x=\"sales\",data=hr_data_full,hue='left')"
      ],
      "execution_count": 16,
      "outputs": [
        {
          "output_type": "execute_result",
          "data": {
            "text/plain": [
              "<matplotlib.axes._subplots.AxesSubplot at 0x7febc4625898>"
            ]
          },
          "metadata": {
            "tags": []
          },
          "execution_count": 16
        },
        {
          "output_type": "display_data",
          "data": {
            "image/png": "[encoded data removed]",
            "text/plain": [
              "<Figure size 864x360 with 1 Axes>"
            ]
          },
          "metadata": {
            "tags": []
          }
        }
      ]
    },
    {
      "metadata": {
        "id": "SbGFpGAh99Jm",
        "colab_type": "code",
        "outputId": "96e614cc-072f-4bd1-cabf-c9d9787d5cf9",
        "colab": {
          "base_uri": "https://localhost:8080/",
          "height": 362
        }
      },
      "cell_type": "code",
      "source": [
        "sns.set(rc={'figure.figsize':(5,5)})\n",
        "sns.countplot(x=\"salary\",data=hr_data_full,hue='left')"
      ],
      "execution_count": 18,
      "outputs": [
        {
          "output_type": "execute_result",
          "data": {
            "text/plain": [
              "<matplotlib.axes._subplots.AxesSubplot at 0x7febc44ee9e8>"
            ]
          },
          "metadata": {
            "tags": []
          },
          "execution_count": 18
        },
        {
          "output_type": "display_data",
          "data": {
            "image/png": "[encoded data removed]",
            "text/plain": [
              "<Figure size 360x360 with 1 Axes>"
            ]
          },
          "metadata": {
            "tags": []
          }
        }
      ]
    },
    {
      "metadata": {
        "id": "yQSkc24L5Hm2",
        "colab_type": "text"
      },
      "cell_type": "markdown",
      "source": [
        "***Below we are creating Training and Test Split. Entire data is divided into 90% Training Set and 10% Test Set. The entire dataset is first shuffled and then split. To address the class imbalance problem and to have good test set we are using Stratified sampling on number of attrition cases in each Training and Test Set. Stratified sampling will keep proportion of example with attrition 'Yes' and \"No\" same in training and test set.***"
      ]
    },
    {
      "metadata": {
        "id": "WzBhV6k30GJW",
        "colab_type": "code",
        "colab": {}
      },
      "cell_type": "code",
      "source": [
        "split = StratifiedShuffleSplit(n_splits=1, test_size=0.1, random_state=42)\n",
        "for train_index, test_index in split.split(hr_data_full, hr_data_full[\"left\"]):\n",
        "    hr_data_train = hr_data_full.loc[train_index]\n",
        "    hr_data_test = hr_data_full.loc[test_index]"
      ],
      "execution_count": 0,
      "outputs": []
    },
    {
      "metadata": {
        "id": "devhT0qQ6vbt",
        "colab_type": "text"
      },
      "cell_type": "markdown",
      "source": [
        "***Below cell shows Number of Records in Training Set and Number of Record in Test Set.***"
      ]
    },
    {
      "metadata": {
        "id": "Z1mmDryr09u_",
        "colab_type": "code",
        "outputId": "fe4fab97-5461-46b6-88bb-b278740c2466",
        "colab": {
          "base_uri": "https://localhost:8080/",
          "height": 51
        }
      },
      "cell_type": "code",
      "source": [
        "print (hr_data_train.shape)\n",
        "print (hr_data_test.shape)"
      ],
      "execution_count": 21,
      "outputs": [
        {
          "output_type": "stream",
          "text": [
            "(13499, 10)\n",
            "(1500, 10)\n"
          ],
          "name": "stdout"
        }
      ]
    },
    {
      "metadata": {
        "id": "nM4CPdg1UpUJ",
        "colab_type": "code",
        "outputId": "7e47c204-91a0-4e3b-a10a-73498667d0f7",
        "colab": {
          "base_uri": "https://localhost:8080/",
          "height": 51
        }
      },
      "cell_type": "code",
      "source": [
        "print (type(hr_data_train))\n",
        "print (type(hr_data_test))"
      ],
      "execution_count": 22,
      "outputs": [
        {
          "output_type": "stream",
          "text": [
            "<class 'pandas.core.frame.DataFrame'>\n",
            "<class 'pandas.core.frame.DataFrame'>\n"
          ],
          "name": "stdout"
        }
      ]
    },
    {
      "metadata": {
        "id": "I5tv384_65-2",
        "colab_type": "text"
      },
      "cell_type": "markdown",
      "source": [
        "***Creating Labels (Attrition = Yes or No) which is our target class. These labels will be used to train machine learning algorithms and during the test time these tables will be used to measure performance of the trained machine learning algorithm.***"
      ]
    },
    {
      "metadata": {
        "id": "rWKmE84l1HpA",
        "colab_type": "code",
        "colab": {}
      },
      "cell_type": "code",
      "source": [
        "hr_data_train_label = hr_data_train[\"left\"].copy()\n",
        "hr_data_test_label =  hr_data_test[\"left\"].copy()\n"
      ],
      "execution_count": 0,
      "outputs": []
    },
    {
      "metadata": {
        "id": "L9H-CLQY1LDJ",
        "colab_type": "code",
        "outputId": "b3c94c7f-0fb4-4cf8-ec11-af25c10c78f0",
        "colab": {
          "base_uri": "https://localhost:8080/",
          "height": 51
        }
      },
      "cell_type": "code",
      "source": [
        "print (hr_data_train_label.shape)\n",
        "print (hr_data_test_label.shape)"
      ],
      "execution_count": 24,
      "outputs": [
        {
          "output_type": "stream",
          "text": [
            "(13499,)\n",
            "(1500,)\n"
          ],
          "name": "stdout"
        }
      ]
    },
    {
      "metadata": {
        "id": "dyLrUq5c7XJm",
        "colab_type": "text"
      },
      "cell_type": "markdown",
      "source": [
        "***As machine learning algorithm should not get the labels of training and test set we need to remove it.***"
      ]
    },
    {
      "metadata": {
        "id": "EYINJXFD1XF2",
        "colab_type": "code",
        "colab": {}
      },
      "cell_type": "code",
      "source": [
        "hr_data_train = hr_data_train.drop(\"left\",axis=1)\n",
        "hr_data_test = hr_data_test.drop(\"left\",axis=1)"
      ],
      "execution_count": 0,
      "outputs": []
    },
    {
      "metadata": {
        "id": "vvlV_VaO7i52",
        "colab_type": "text"
      },
      "cell_type": "markdown",
      "source": [
        "***Summary of Test Set about the various fields***"
      ]
    },
    {
      "metadata": {
        "id": "irwq6UNDYGyi",
        "colab_type": "code",
        "outputId": "1d527459-6dac-41a8-c79e-c016bfcb6216",
        "colab": {
          "base_uri": "https://localhost:8080/",
          "height": 297
        }
      },
      "cell_type": "code",
      "source": [
        "hr_data_train.describe()"
      ],
      "execution_count": 26,
      "outputs": [
        {
          "output_type": "execute_result",
          "data": {
            "text/html": [
              "<div>\n",
              "<style scoped>\n",
              "    .dataframe tbody tr th:only-of-type {\n",
              "        vertical-align: middle;\n",
              "    }\n",
              "\n",
              "    .dataframe tbody tr th {\n",
              "        vertical-align: top;\n",
              "    }\n",
              "\n",
              "    .dataframe thead th {\n",
              "        text-align: right;\n",
              "    }\n",
              "</style>\n",
              "<table border=\"1\" class=\"dataframe\">\n",
              "  <thead>\n",
              "    <tr style=\"text-align: right;\">\n",
              "      <th></th>\n",
              "      <th>satisfaction_level</th>\n",
              "      <th>last_evaluation</th>\n",
              "      <th>number_project</th>\n",
              "      <th>average_montly_hours</th>\n",
              "      <th>time_spend_company</th>\n",
              "      <th>Work_accident</th>\n",
              "      <th>promotion_last_5years</th>\n",
              "    </tr>\n",
              "  </thead>\n",
              "  <tbody>\n",
              "    <tr>\n",
              "      <th>count</th>\n",
              "      <td>13499.00000</td>\n",
              "      <td>13499.000000</td>\n",
              "      <td>13499.000000</td>\n",
              "      <td>13499.000000</td>\n",
              "      <td>13499.000000</td>\n",
              "      <td>13499.000000</td>\n",
              "      <td>13499.000000</td>\n",
              "    </tr>\n",
              "    <tr>\n",
              "      <th>mean</th>\n",
              "      <td>0.61276</td>\n",
              "      <td>0.716707</td>\n",
              "      <td>3.806430</td>\n",
              "      <td>201.149567</td>\n",
              "      <td>3.503445</td>\n",
              "      <td>0.144529</td>\n",
              "      <td>0.020890</td>\n",
              "    </tr>\n",
              "    <tr>\n",
              "      <th>std</th>\n",
              "      <td>0.24897</td>\n",
              "      <td>0.171250</td>\n",
              "      <td>1.234811</td>\n",
              "      <td>49.969348</td>\n",
              "      <td>1.461173</td>\n",
              "      <td>0.351639</td>\n",
              "      <td>0.143023</td>\n",
              "    </tr>\n",
              "    <tr>\n",
              "      <th>min</th>\n",
              "      <td>0.09000</td>\n",
              "      <td>0.360000</td>\n",
              "      <td>2.000000</td>\n",
              "      <td>96.000000</td>\n",
              "      <td>2.000000</td>\n",
              "      <td>0.000000</td>\n",
              "      <td>0.000000</td>\n",
              "    </tr>\n",
              "    <tr>\n",
              "      <th>25%</th>\n",
              "      <td>0.44000</td>\n",
              "      <td>0.560000</td>\n",
              "      <td>3.000000</td>\n",
              "      <td>156.000000</td>\n",
              "      <td>3.000000</td>\n",
              "      <td>0.000000</td>\n",
              "      <td>0.000000</td>\n",
              "    </tr>\n",
              "    <tr>\n",
              "      <th>50%</th>\n",
              "      <td>0.64000</td>\n",
              "      <td>0.720000</td>\n",
              "      <td>4.000000</td>\n",
              "      <td>200.000000</td>\n",
              "      <td>3.000000</td>\n",
              "      <td>0.000000</td>\n",
              "      <td>0.000000</td>\n",
              "    </tr>\n",
              "    <tr>\n",
              "      <th>75%</th>\n",
              "      <td>0.82000</td>\n",
              "      <td>0.870000</td>\n",
              "      <td>5.000000</td>\n",
              "      <td>245.000000</td>\n",
              "      <td>4.000000</td>\n",
              "      <td>0.000000</td>\n",
              "      <td>0.000000</td>\n",
              "    </tr>\n",
              "    <tr>\n",
              "      <th>max</th>\n",
              "      <td>1.00000</td>\n",
              "      <td>1.000000</td>\n",
              "      <td>7.000000</td>\n",
              "      <td>310.000000</td>\n",
              "      <td>10.000000</td>\n",
              "      <td>1.000000</td>\n",
              "      <td>1.000000</td>\n",
              "    </tr>\n",
              "  </tbody>\n",
              "</table>\n",
              "</div>"
            ],
            "text/plain": [
              "       satisfaction_level  last_evaluation  number_project  \\\n",
              "count         13499.00000     13499.000000    13499.000000   \n",
              "mean              0.61276         0.716707        3.806430   \n",
              "std               0.24897         0.171250        1.234811   \n",
              "min               0.09000         0.360000        2.000000   \n",
              "25%               0.44000         0.560000        3.000000   \n",
              "50%               0.64000         0.720000        4.000000   \n",
              "75%               0.82000         0.870000        5.000000   \n",
              "max               1.00000         1.000000        7.000000   \n",
              "\n",
              "       average_montly_hours  time_spend_company  Work_accident  \\\n",
              "count          13499.000000        13499.000000   13499.000000   \n",
              "mean             201.149567            3.503445       0.144529   \n",
              "std               49.969348            1.461173       0.351639   \n",
              "min               96.000000            2.000000       0.000000   \n",
              "25%              156.000000            3.000000       0.000000   \n",
              "50%              200.000000            3.000000       0.000000   \n",
              "75%              245.000000            4.000000       0.000000   \n",
              "max              310.000000           10.000000       1.000000   \n",
              "\n",
              "       promotion_last_5years  \n",
              "count           13499.000000  \n",
              "mean                0.020890  \n",
              "std                 0.143023  \n",
              "min                 0.000000  \n",
              "25%                 0.000000  \n",
              "50%                 0.000000  \n",
              "75%                 0.000000  \n",
              "max                 1.000000  "
            ]
          },
          "metadata": {
            "tags": []
          },
          "execution_count": 26
        }
      ]
    },
    {
      "metadata": {
        "id": "INJkxdPOMWL-",
        "colab_type": "code",
        "outputId": "2e923abf-7de3-4dcd-917e-4420dea80e17",
        "colab": {
          "base_uri": "https://localhost:8080/",
          "height": 272
        }
      },
      "cell_type": "code",
      "source": [
        "hr_data_full.info()"
      ],
      "execution_count": 27,
      "outputs": [
        {
          "output_type": "stream",
          "text": [
            "<class 'pandas.core.frame.DataFrame'>\n",
            "RangeIndex: 14999 entries, 0 to 14998\n",
            "Data columns (total 10 columns):\n",
            "satisfaction_level       14999 non-null float64\n",
            "last_evaluation          14999 non-null float64\n",
            "number_project           14999 non-null int64\n",
            "average_montly_hours     14999 non-null int64\n",
            "time_spend_company       14999 non-null int64\n",
            "Work_accident            14999 non-null int64\n",
            "left                     14999 non-null int64\n",
            "promotion_last_5years    14999 non-null int64\n",
            "sales                    14999 non-null object\n",
            "salary                   14999 non-null object\n",
            "dtypes: float64(2), int64(6), object(2)\n",
            "memory usage: 1.1+ MB\n"
          ],
          "name": "stdout"
        }
      ]
    },
    {
      "metadata": {
        "id": "Hk4sgiEu7pYo",
        "colab_type": "text"
      },
      "cell_type": "markdown",
      "source": [
        "***There are two categorical variables in our dataset Department and Salary. However there are 7 numeric variables in our dataset. These variables has to be treated differently to prepare the data that can be fed into machine learning algorithm.***"
      ]
    },
    {
      "metadata": {
        "id": "VTdkvJijSJx1",
        "colab_type": "code",
        "colab": {}
      },
      "cell_type": "code",
      "source": [
        "cat_attribute = ['sales','salary']\n",
        "numeric_attribute = [\"satisfaction_level\",\"last_evaluation\",\"number_project\",\"average_montly_hours\",\"time_spend_company\",\"Work_accident\",\"promotion_last_5years\"]"
      ],
      "execution_count": 0,
      "outputs": []
    },
    {
      "metadata": {
        "id": "R3j6pRanTX78",
        "colab_type": "code",
        "colab": {}
      },
      "cell_type": "code",
      "source": [
        "# Create a class to select numerical or categorical columns \n",
        "# since Scikit-Learn doesn't handle DataFrames yet\n",
        "class DataFrameSelector(BaseEstimator, TransformerMixin):\n",
        "    def __init__(self, attribute_names):\n",
        "        self.attribute_names = attribute_names\n",
        "    def fit(self, X, y=None):\n",
        "        return self\n",
        "    def transform(self, X):\n",
        "        return X[self.attribute_names].values"
      ],
      "execution_count": 0,
      "outputs": []
    },
    {
      "metadata": {
        "id": "ptmf8sItTZtK",
        "colab_type": "code",
        "colab": {}
      },
      "cell_type": "code",
      "source": [
        "# Inspired from stackoverflow.com/questions/25239958\n",
        "class MostFrequentImputer(BaseEstimator, TransformerMixin):\n",
        "    def fit(self, X, y=None):\n",
        "        self.most_frequent_ = pd.Series([X[c].value_counts().index[0] for c in X],index=X.columns)\n",
        "        return self\n",
        "    def transform(self, X, y=None):\n",
        "        #return X.fillna(self.most_frequent_)\n",
        "        return X\n"
      ],
      "execution_count": 0,
      "outputs": []
    },
    {
      "metadata": {
        "id": "19ZO-Y3fOyVp",
        "colab_type": "code",
        "colab": {}
      },
      "cell_type": "code",
      "source": [
        "def plot_confusion_matrix(cm, classes,\n",
        "                          normalize=False,\n",
        "                          title='Confusion matrix',\n",
        "                          cmap=plt.cm.Blues):\n",
        "    \"\"\"\n",
        "    This function prints and plots the confusion matrix.\n",
        "    Normalization can be applied by setting `normalize=True`.\n",
        "    \"\"\"\n",
        "    if normalize:\n",
        "        cm = cm.astype('float') / cm.sum(axis=1)[:, np.newaxis]\n",
        "        print(\"Normalized confusion matrix\")\n",
        "    else:\n",
        "        print('Confusion matrix, without normalization')\n",
        "\n",
        "    print(cm)\n",
        "\n",
        "    plt.imshow(cm, interpolation='nearest', cmap=cmap)\n",
        "    plt.title(title)\n",
        "    plt.colorbar()\n",
        "    tick_marks = np.arange(len(classes))\n",
        "    plt.xticks(tick_marks, classes, rotation=45)\n",
        "    plt.yticks(tick_marks, classes)\n",
        "\n",
        "    fmt = '.2f' if normalize else 'd'\n",
        "    thresh = cm.max() / 2.\n",
        "    for i, j in itertools.product(range(cm.shape[0]), range(cm.shape[1])):\n",
        "        plt.text(j, i, format(cm[i, j], fmt),\n",
        "                 horizontalalignment=\"center\",\n",
        "                 color=\"white\" if cm[i, j] > thresh else \"black\")\n",
        "\n",
        "    plt.tight_layout()\n",
        "    plt.ylabel('Predicted label')\n",
        "    plt.xlabel('True label')"
      ],
      "execution_count": 0,
      "outputs": []
    },
    {
      "metadata": {
        "id": "dgVG9gIQ8EpL",
        "colab_type": "text"
      },
      "cell_type": "markdown",
      "source": [
        "***Below is the pipeline for numeric variable. It undergoes three stages. We first select the numeric variables and then impute the missing values and standardize the values. Standardization of values are required as different variables are measured on different scale. For eg. satisfaction and evaluation was measured between 0-1 to and hours worked are measured from 0-350 hours. ***"
      ]
    },
    {
      "metadata": {
        "id": "pQZRnAS5Tf0m",
        "colab_type": "code",
        "colab": {}
      },
      "cell_type": "code",
      "source": [
        "num_pipeline = Pipeline([\n",
        "        (\"select_numeric\", DataFrameSelector(numeric_attribute)),\n",
        "        (\"imputer\", SimpleImputer(strategy=\"median\")),\n",
        "        ('std_scaler', StandardScaler()),\n",
        "    ])"
      ],
      "execution_count": 0,
      "outputs": []
    },
    {
      "metadata": {
        "id": "zvtmLb_L18_Q",
        "colab_type": "code",
        "colab": {}
      },
      "cell_type": "code",
      "source": [
        "import sklearn_pandas as skpanda"
      ],
      "execution_count": 0,
      "outputs": []
    },
    {
      "metadata": {
        "id": "dd9oa-ZK82kD",
        "colab_type": "text"
      },
      "cell_type": "markdown",
      "source": [
        "***Below is the pipeline for categorical variable. It undergoes three stages. We first select the categorical variables and then impute the missing values. Then we convert the different levels of categorical variables into one Hot encoding.***."
      ]
    },
    {
      "metadata": {
        "id": "blF_Lr3cTpH3",
        "colab_type": "code",
        "colab": {}
      },
      "cell_type": "code",
      "source": [
        "cat_pipeline = Pipeline([\n",
        "        (\"select_cat\", DataFrameSelector(cat_attribute)),\n",
        "        (\"imputer\", skpanda.CategoricalImputer()),\n",
        "        (\"cat_encoder\",OneHotEncoder(sparse=False,handle_unknown='ignore' )),\n",
        "        ])"
      ],
      "execution_count": 0,
      "outputs": []
    },
    {
      "metadata": {
        "id": "N-zCzIvD9LAD",
        "colab_type": "text"
      },
      "cell_type": "markdown",
      "source": [
        "***Below we do the union of the transformed numeric and categorical variables we create one record for each observation.***"
      ]
    },
    {
      "metadata": {
        "id": "ENYzVtsgTsbZ",
        "colab_type": "code",
        "colab": {}
      },
      "cell_type": "code",
      "source": [
        "preprocess_pipeline = FeatureUnion(transformer_list=[\n",
        "        (\"num_pipeline\", num_pipeline),\n",
        "        (\"cat_pipeline\", cat_pipeline),\n",
        "    ])"
      ],
      "execution_count": 0,
      "outputs": []
    },
    {
      "metadata": {
        "id": "2WsZYYFU9YsZ",
        "colab_type": "text"
      },
      "cell_type": "markdown",
      "source": [
        "***Pipeline is executed on both type of variables. We have to apply pipeline on both training set and test set as they need to undergo similar transformation.***"
      ]
    },
    {
      "metadata": {
        "id": "4M-IlBoFUSxN",
        "colab_type": "code",
        "colab": {}
      },
      "cell_type": "code",
      "source": [
        "x_train  = preprocess_pipeline.fit_transform(hr_data_train)\n",
        "x_test =  preprocess_pipeline.transform(hr_data_test)"
      ],
      "execution_count": 0,
      "outputs": []
    },
    {
      "metadata": {
        "id": "tFxa2gLGVpkT",
        "colab_type": "code",
        "outputId": "6bd4ca86-adfc-4fcc-ee26-3d5b1624e79a",
        "colab": {
          "base_uri": "https://localhost:8080/",
          "height": 34
        }
      },
      "cell_type": "code",
      "source": [
        "print (type(x_train))"
      ],
      "execution_count": 38,
      "outputs": [
        {
          "output_type": "stream",
          "text": [
            "<class 'numpy.ndarray'>\n"
          ],
          "name": "stdout"
        }
      ]
    },
    {
      "metadata": {
        "id": "lqSIAK2s9nTN",
        "colab_type": "text"
      },
      "cell_type": "markdown",
      "source": [
        "***creating labels for train and test set.**"
      ]
    },
    {
      "metadata": {
        "id": "SFdLTgOpAmCr",
        "colab_type": "code",
        "colab": {}
      },
      "cell_type": "code",
      "source": [
        "le = preprocessing.LabelEncoder()\n",
        "y_train = le.fit_transform(hr_data_train_label)\n",
        "y_test = le.fit_transform(hr_data_test_label)"
      ],
      "execution_count": 0,
      "outputs": []
    },
    {
      "metadata": {
        "id": "IQi1WwBi9rqG",
        "colab_type": "text"
      },
      "cell_type": "markdown",
      "source": [
        "***Size of final training and test set. Due to One hot encoding number of columns are increased from 10 to 20. One column for each level of categorical variables.**"
      ]
    },
    {
      "metadata": {
        "id": "9VoTuE5l5z4J",
        "colab_type": "code",
        "outputId": "a3c98bae-4d45-487c-c4e5-e65bc42bbcb8",
        "colab": {
          "base_uri": "https://localhost:8080/",
          "height": 102
        }
      },
      "cell_type": "code",
      "source": [
        "print (x_train.shape)\n",
        "print (x_test.shape)\n",
        "print (y_train.shape)\n",
        "print (y_test.shape)\n",
        "print (hr_data_train.shape)"
      ],
      "execution_count": 40,
      "outputs": [
        {
          "output_type": "stream",
          "text": [
            "(13499, 20)\n",
            "(1500, 20)\n",
            "(13499,)\n",
            "(1500,)\n",
            "(13499, 9)\n"
          ],
          "name": "stdout"
        }
      ]
    },
    {
      "metadata": {
        "id": "uq41Jq7r98e8",
        "colab_type": "text"
      },
      "cell_type": "markdown",
      "source": [
        "***Below is the computation of correlation between different numeric variables. We can see positive correlation between last evaluation and average monthly hours pair. However there is negative correlation between number of project and satisfaction level which may indicate lesser worklife balance.***"
      ]
    },
    {
      "metadata": {
        "id": "YxsmTBBY6PkX",
        "colab_type": "code",
        "colab": {}
      },
      "cell_type": "code",
      "source": [
        "correlation_matrix = hr_data_train.corr()"
      ],
      "execution_count": 0,
      "outputs": []
    },
    {
      "metadata": {
        "id": "L_LidDzS6Uyl",
        "colab_type": "code",
        "outputId": "7707a543-d3b3-408f-da68-fae8b6ab4f84",
        "colab": {
          "base_uri": "https://localhost:8080/",
          "height": 459
        }
      },
      "cell_type": "code",
      "source": [
        "print (correlation_matrix)"
      ],
      "execution_count": 0,
      "outputs": [
        {
          "output_type": "stream",
          "text": [
            "                       satisfaction_level  last_evaluation  number_project  \\\n",
            "satisfaction_level               1.000000         0.105310       -0.146906   \n",
            "last_evaluation                  0.105310         1.000000        0.346520   \n",
            "number_project                  -0.146906         0.346520        1.000000   \n",
            "average_montly_hours            -0.021872         0.338556        0.417131   \n",
            "time_spend_company              -0.099282         0.134387        0.196456   \n",
            "Work_accident                    0.060839        -0.008767       -0.003130   \n",
            "promotion_last_5years            0.029235        -0.005600       -0.005627   \n",
            "\n",
            "                       average_montly_hours  time_spend_company  \\\n",
            "satisfaction_level                -0.021872           -0.099282   \n",
            "last_evaluation                    0.338556            0.134387   \n",
            "number_project                     0.417131            0.196456   \n",
            "average_montly_hours               1.000000            0.127994   \n",
            "time_spend_company                 0.127994            1.000000   \n",
            "Work_accident                     -0.010177            0.005303   \n",
            "promotion_last_5years             -0.000448            0.064176   \n",
            "\n",
            "                       Work_accident  promotion_last_5years  \n",
            "satisfaction_level          0.060839               0.029235  \n",
            "last_evaluation            -0.008767              -0.005600  \n",
            "number_project             -0.003130              -0.005627  \n",
            "average_montly_hours       -0.010177              -0.000448  \n",
            "time_spend_company          0.005303               0.064176  \n",
            "Work_accident               1.000000               0.038658  \n",
            "promotion_last_5years       0.038658               1.000000  \n"
          ],
          "name": "stdout"
        }
      ]
    },
    {
      "metadata": {
        "id": "WqcG_z_J-y8W",
        "colab_type": "code",
        "colab": {}
      },
      "cell_type": "code",
      "source": [
        "mask = np.zeros_like(correlation_matrix, dtype=np.bool)\n",
        "mask[np.triu_indices_from(mask)] = True"
      ],
      "execution_count": 0,
      "outputs": []
    },
    {
      "metadata": {
        "id": "hpaAiBzN_DYZ",
        "colab_type": "code",
        "outputId": "9bee8051-f115-49d7-9999-cec1414115bc",
        "colab": {
          "base_uri": "https://localhost:8080/",
          "height": 679
        }
      },
      "cell_type": "code",
      "source": [
        "f, ax = plt.subplots(figsize=(11, 9))\n",
        "\n",
        "# Generate a custom diverging colormap\n",
        "cmap = sns.diverging_palette(220, 10, as_cmap=True)\n",
        "\n",
        "# Draw the heatmap with the mask and correct aspect ratio\n",
        "sns.heatmap(correlation_matrix, mask=mask, cmap=cmap, vmax=.3, center=0,\n",
        "            square=True, linewidths=.5, cbar_kws={\"shrink\": .5})"
      ],
      "execution_count": 43,
      "outputs": [
        {
          "output_type": "execute_result",
          "data": {
            "text/plain": [
              "<matplotlib.axes._subplots.AxesSubplot at 0x7febc437eeb8>"
            ]
          },
          "metadata": {
            "tags": []
          },
          "execution_count": 43
        },
        {
          "output_type": "display_data",
          "data": {
            "image/png": "[encoded data removed]",
            "text/plain": [
              "<Figure size 792x648 with 2 Axes>"
            ]
          },
          "metadata": {
            "tags": []
          }
        }
      ]
    },
    {
      "metadata": {
        "id": "Su_i9-hQ-i1a",
        "colab_type": "text"
      },
      "cell_type": "markdown",
      "source": [
        "***Training a logisitic regression based classifier. ***"
      ]
    },
    {
      "metadata": {
        "id": "k-xVpLXP_pn-",
        "colab_type": "code",
        "colab": {}
      },
      "cell_type": "code",
      "source": [
        "logistic_clf = LogisticRegression(random_state=42,class_weight ='balanced',solver='lbfgs',max_iter=1000)"
      ],
      "execution_count": 0,
      "outputs": []
    },
    {
      "metadata": {
        "id": "xvWHDyYABFTg",
        "colab_type": "code",
        "outputId": "8e63ae82-18c2-4a62-b07e-635fe11723c6",
        "colab": {
          "base_uri": "https://localhost:8080/",
          "height": 85
        }
      },
      "cell_type": "code",
      "source": [
        "logistic_clf.fit(x_train,y_train)"
      ],
      "execution_count": 45,
      "outputs": [
        {
          "output_type": "execute_result",
          "data": {
            "text/plain": [
              "LogisticRegression(C=1.0, class_weight='balanced', dual=False,\n",
              "          fit_intercept=True, intercept_scaling=1, max_iter=1000,\n",
              "          multi_class='warn', n_jobs=None, penalty='l2', random_state=42,\n",
              "          solver='lbfgs', tol=0.0001, verbose=0, warm_start=False)"
            ]
          },
          "metadata": {
            "tags": []
          },
          "execution_count": 45
        }
      ]
    },
    {
      "metadata": {
        "id": "upyZHslbBf2p",
        "colab_type": "code",
        "outputId": "60d1f3d4-250f-4af5-ba5a-a67feab7f74b",
        "colab": {
          "base_uri": "https://localhost:8080/",
          "height": 34
        }
      },
      "cell_type": "code",
      "source": [
        "logistic_regression_scores = cross_val_score(logistic_clf, x_train, y_train, cv=10)\n",
        "y_train_pred_logistic = cross_val_predict(logistic_clf, x_train, y_train, cv=10)\n",
        "print (logistic_regression_scores.mean())"
      ],
      "execution_count": 46,
      "outputs": [
        {
          "output_type": "stream",
          "text": [
            "0.7583511017930141\n"
          ],
          "name": "stdout"
        }
      ]
    },
    {
      "metadata": {
        "id": "-omqnqVVB0ah",
        "colab_type": "code",
        "colab": {}
      },
      "cell_type": "code",
      "source": [
        "cm  = confusion_matrix(y_train, y_train_pred_logistic)"
      ],
      "execution_count": 0,
      "outputs": []
    },
    {
      "metadata": {
        "id": "OwJIxUlE6ser",
        "colab_type": "code",
        "outputId": "7f23960c-cab1-481c-a249-bbb380b55a52",
        "colab": {
          "base_uri": "https://localhost:8080/",
          "height": 416
        }
      },
      "cell_type": "code",
      "source": [
        "plot_confusion_matrix(cm,[0,1])"
      ],
      "execution_count": 51,
      "outputs": [
        {
          "output_type": "stream",
          "text": [
            "Confusion matrix, without normalization\n",
            "[[7666 2619]\n",
            " [ 643 2571]]\n"
          ],
          "name": "stdout"
        },
        {
          "output_type": "display_data",
          "data": {
            "image/png": "[encoded data removed]",
            "text/plain": [
              "<Figure size 360x360 with 2 Axes>"
            ]
          },
          "metadata": {
            "tags": []
          }
        }
      ]
    },
    {
      "metadata": {
        "id": "g9U3LX35CXbP",
        "colab_type": "code",
        "outputId": "409d6593-f752-4fb6-9acf-cdbd4f9df533",
        "colab": {
          "base_uri": "https://localhost:8080/",
          "height": 85
        }
      },
      "cell_type": "code",
      "source": [
        "tn, fp, fn, tp = cm.ravel()\n",
        "print (tn)\n",
        "print (fp)\n",
        "print (fn)\n",
        "print (tp)"
      ],
      "execution_count": 52,
      "outputs": [
        {
          "output_type": "stream",
          "text": [
            "7666\n",
            "2619\n",
            "643\n",
            "2571\n"
          ],
          "name": "stdout"
        }
      ]
    },
    {
      "metadata": {
        "id": "tz6z6U98CCEm",
        "colab_type": "code",
        "colab": {}
      },
      "cell_type": "code",
      "source": [
        "y_test_pred_logistic = logistic_clf.predict(x_test)"
      ],
      "execution_count": 0,
      "outputs": []
    },
    {
      "metadata": {
        "id": "cH9G4vTeCQB9",
        "colab_type": "code",
        "outputId": "e883e683-1056-4151-c86a-14b157239511",
        "colab": {
          "base_uri": "https://localhost:8080/",
          "height": 85
        }
      },
      "cell_type": "code",
      "source": [
        "cm = confusion_matrix(y_test,y_test_pred_logistic)\n",
        "tn, fp, fn, tp = cm.ravel()\n",
        "print (tn)\n",
        "print (fp)\n",
        "print (fn)\n",
        "print (tp)"
      ],
      "execution_count": 48,
      "outputs": [
        {
          "output_type": "stream",
          "text": [
            "886\n",
            "257\n",
            "68\n",
            "289\n"
          ],
          "name": "stdout"
        }
      ]
    },
    {
      "metadata": {
        "id": "Oa9fQ6MWUfxF",
        "colab_type": "code",
        "outputId": "76ab4f47-cf85-4d67-f780-9f86657e1c03",
        "colab": {
          "base_uri": "https://localhost:8080/",
          "height": 416
        }
      },
      "cell_type": "code",
      "source": [
        "plot_confusion_matrix(cm,[0,1])"
      ],
      "execution_count": 49,
      "outputs": [
        {
          "output_type": "stream",
          "text": [
            "Confusion matrix, without normalization\n",
            "[[886 257]\n",
            " [ 68 289]]\n"
          ],
          "name": "stdout"
        },
        {
          "output_type": "display_data",
          "data": {
            "image/png": "[encoded data removed]",
            "text/plain": [
              "<Figure size 360x360 with 2 Axes>"
            ]
          },
          "metadata": {
            "tags": []
          }
        }
      ]
    },
    {
      "metadata": {
        "id": "FftMQnYs_j3-",
        "colab_type": "code",
        "colab": {
          "base_uri": "https://localhost:8080/",
          "height": 54
        },
        "outputId": "c433e598-abd5-4938-8e38-399d4f5b52c8"
      },
      "cell_type": "code",
      "source": [
        "classification_report(y_test,y_test_pred_logistic)"
      ],
      "execution_count": 53,
      "outputs": [
        {
          "output_type": "execute_result",
          "data": {
            "text/plain": [
              "'              precision    recall  f1-score   support\\n\\n           0       0.93      0.78      0.85      1143\\n           1       0.53      0.81      0.64       357\\n\\n   micro avg       0.78      0.78      0.78      1500\\n   macro avg       0.73      0.79      0.74      1500\\nweighted avg       0.83      0.78      0.80      1500\\n'"
            ]
          },
          "metadata": {
            "tags": []
          },
          "execution_count": 53
        }
      ]
    },
    {
      "metadata": {
        "id": "s4mkEkhe_pHv",
        "colab_type": "text"
      },
      "cell_type": "markdown",
      "source": [
        "***Training K Nearest Neighbor***"
      ]
    },
    {
      "metadata": {
        "id": "msd1Qy24CklA",
        "colab_type": "code",
        "outputId": "ae598961-8fdb-4157-b015-6b9e06dab1be",
        "colab": {
          "base_uri": "https://localhost:8080/",
          "height": 51
        }
      },
      "cell_type": "code",
      "source": [
        "param_grid = [{\"weights\":[\"uniform\",\"distance\"],\"n_neighbors\":[2,3,4,5]}]\n",
        "knn_clf = KNeighborsClassifier()\n",
        "grid_search = GridSearchCV(knn_clf, param_grid, cv=10, verbose=3, n_jobs=-1)\n",
        "grid_search.fit(x_train, y_train)\n",
        "print (grid_search.best_params_)"
      ],
      "execution_count": 0,
      "outputs": [
        {
          "output_type": "stream",
          "text": [
            "Fitting 10 folds for each of 8 candidates, totalling 80 fits\n"
          ],
          "name": "stdout"
        },
        {
          "output_type": "stream",
          "text": [
            "[Parallel(n_jobs=-1)]: Using backend LokyBackend with 2 concurrent workers.\n"
          ],
          "name": "stderr"
        }
      ]
    },
    {
      "metadata": {
        "id": "BBR4Mr-bCkjY",
        "colab_type": "code",
        "outputId": "fae6da3b-adb3-43f3-f350-d597c1a6c95c",
        "colab": {
          "base_uri": "https://localhost:8080/",
          "height": 68
        }
      },
      "cell_type": "code",
      "source": [
        "knn_clf = KNeighborsClassifier(weights='distance',n_neighbors=2)\n",
        "knn_clf.fit(x_train,y_train)"
      ],
      "execution_count": 0,
      "outputs": [
        {
          "output_type": "execute_result",
          "data": {
            "text/plain": [
              "KNeighborsClassifier(algorithm='auto', leaf_size=30, metric='minkowski',\n",
              "           metric_params=None, n_jobs=None, n_neighbors=2, p=2,\n",
              "           weights='distance')"
            ]
          },
          "metadata": {
            "tags": []
          },
          "execution_count": 99
        }
      ]
    },
    {
      "metadata": {
        "id": "qO93pmUVNikn",
        "colab_type": "code",
        "outputId": "803da363-5236-48f9-ba73-888bc40912f9",
        "colab": {
          "base_uri": "https://localhost:8080/",
          "height": 34
        }
      },
      "cell_type": "code",
      "source": [
        "knn_scores = cross_val_score(knn_clf, x_train, y_train, cv=10)\n",
        "y_train_pred_knn = cross_val_predict(knn_clf, x_train, y_train, cv=10)\n",
        "print (knn_scores.mean())"
      ],
      "execution_count": 0,
      "outputs": [
        {
          "output_type": "stream",
          "text": [
            "0.9684432766949849\n"
          ],
          "name": "stdout"
        }
      ]
    },
    {
      "metadata": {
        "id": "ZXw6WXywOB_L",
        "colab_type": "code",
        "outputId": "fc8697ef-2169-4151-aa57-c887ac85e1d7",
        "colab": {
          "base_uri": "https://localhost:8080/",
          "height": 85
        }
      },
      "cell_type": "code",
      "source": [
        "cm  = confusion_matrix(y_train,y_train_pred_knn)\n",
        "tn, fp, fn, tp = cm.ravel()\n",
        "print (tn)\n",
        "print (fp)\n",
        "print (fn)\n",
        "print (tp)"
      ],
      "execution_count": 0,
      "outputs": [
        {
          "output_type": "stream",
          "text": [
            "9984\n",
            "301\n",
            "125\n",
            "3089\n"
          ],
          "name": "stdout"
        }
      ]
    },
    {
      "metadata": {
        "id": "LhVsuevfU2QV",
        "colab_type": "code",
        "outputId": "5a96f7d6-fa47-4325-ec81-9012b785dcae",
        "colab": {
          "base_uri": "https://localhost:8080/",
          "height": 466
        }
      },
      "cell_type": "code",
      "source": [
        "plot_confusion_matrix(cm,[0,1])"
      ],
      "execution_count": 0,
      "outputs": [
        {
          "output_type": "stream",
          "text": [
            "Confusion matrix, without normalization\n",
            "[[9984  301]\n",
            " [ 125 3089]]\n"
          ],
          "name": "stdout"
        },
        {
          "output_type": "display_data",
          "data": {
            "image/png": "[encoded data removed]",
            "text/plain": [
              "<matplotlib.figure.Figure at 0x7ff95b9dd278>"
            ]
          },
          "metadata": {
            "tags": []
          }
        }
      ]
    },
    {
      "metadata": {
        "id": "6QJBwPW8OEU1",
        "colab_type": "code",
        "colab": {}
      },
      "cell_type": "code",
      "source": [
        "y_test_pred_knn = knn_clf.predict(x_test)"
      ],
      "execution_count": 0,
      "outputs": []
    },
    {
      "metadata": {
        "id": "KTHHzkSzOTLZ",
        "colab_type": "code",
        "outputId": "e262e7d1-c4c9-445b-8759-ec4a5c129aaa",
        "colab": {
          "base_uri": "https://localhost:8080/",
          "height": 85
        }
      },
      "cell_type": "code",
      "source": [
        "cm = confusion_matrix(y_test,y_test_pred_knn)\n",
        "tn, fp, fn, tp = cm.ravel()\n",
        "print (tn)\n",
        "print (fp)\n",
        "print (fn)\n",
        "print (tp)"
      ],
      "execution_count": 0,
      "outputs": [
        {
          "output_type": "stream",
          "text": [
            "1110\n",
            "33\n",
            "12\n",
            "345\n"
          ],
          "name": "stdout"
        }
      ]
    },
    {
      "metadata": {
        "id": "nXW-GZnaPpLs",
        "colab_type": "code",
        "outputId": "2fe6e1dc-a63f-49aa-9920-67a654787733",
        "colab": {
          "base_uri": "https://localhost:8080/",
          "height": 466
        }
      },
      "cell_type": "code",
      "source": [
        "plot_confusion_matrix(cm,[0,1])"
      ],
      "execution_count": 0,
      "outputs": [
        {
          "output_type": "stream",
          "text": [
            "Confusion matrix, without normalization\n",
            "[[1110   33]\n",
            " [  12  345]]\n"
          ],
          "name": "stdout"
        },
        {
          "output_type": "display_data",
          "data": {
            "image/png": "[encoded data removed]",
            "text/plain": [
              "<matplotlib.figure.Figure at 0x7ff95b831128>"
            ]
          },
          "metadata": {
            "tags": []
          }
        }
      ]
    },
    {
      "metadata": {
        "id": "ulS6pPHyUZ-H",
        "colab_type": "code",
        "outputId": "56a477ea-8201-414a-9d78-a74f3789fbaa",
        "colab": {
          "base_uri": "https://localhost:8080/",
          "height": 54
        }
      },
      "cell_type": "code",
      "source": [
        "classification_report(y_test,y_test_pred_knn)"
      ],
      "execution_count": 0,
      "outputs": [
        {
          "output_type": "execute_result",
          "data": {
            "text/plain": [
              "'              precision    recall  f1-score   support\\n\\n           0       0.99      0.97      0.98      1143\\n           1       0.91      0.97      0.94       357\\n\\n   micro avg       0.97      0.97      0.97      1500\\n   macro avg       0.95      0.97      0.96      1500\\nweighted avg       0.97      0.97      0.97      1500\\n'"
            ]
          },
          "metadata": {
            "tags": []
          },
          "execution_count": 106
        }
      ]
    },
    {
      "metadata": {
        "id": "SPpUgNoOQCaA",
        "colab_type": "code",
        "outputId": "e8768b22-86a2-4123-97c1-00ed3751d037",
        "colab": {
          "base_uri": "https://localhost:8080/",
          "height": 85
        }
      },
      "cell_type": "code",
      "source": [
        "#train SVM Based Model\n",
        "svm_clf = SVC(gamma=\"auto\",random_state=42)\n",
        "svm_clf.fit(x_train, y_train)"
      ],
      "execution_count": 0,
      "outputs": [
        {
          "output_type": "execute_result",
          "data": {
            "text/plain": [
              "SVC(C=1.0, cache_size=200, class_weight=None, coef0=0.0,\n",
              "  decision_function_shape='ovr', degree=3, gamma='auto', kernel='rbf',\n",
              "  max_iter=-1, probability=False, random_state=42, shrinking=True,\n",
              "  tol=0.001, verbose=False)"
            ]
          },
          "metadata": {
            "tags": []
          },
          "execution_count": 107
        }
      ]
    },
    {
      "metadata": {
        "id": "hIVwvMw4VoXQ",
        "colab_type": "code",
        "outputId": "8f31b083-a6e3-419d-a12c-17601aec1530",
        "colab": {
          "base_uri": "https://localhost:8080/",
          "height": 34
        }
      },
      "cell_type": "code",
      "source": [
        "svm_scores = cross_val_score(knn_clf, x_train, y_train, cv=10)\n",
        "y_train_pred_svm = cross_val_predict(svm_clf, x_train, y_train, cv=10)\n",
        "print (svm_scores.mean())"
      ],
      "execution_count": 0,
      "outputs": [
        {
          "output_type": "stream",
          "text": [
            "0.9684432766949849\n"
          ],
          "name": "stdout"
        }
      ]
    },
    {
      "metadata": {
        "id": "BFrVzDCWWFOK",
        "colab_type": "code",
        "colab": {}
      },
      "cell_type": "code",
      "source": [
        "y_test_pred_svm = svm_clf.predict(x_test)"
      ],
      "execution_count": 0,
      "outputs": []
    },
    {
      "metadata": {
        "id": "S0gak8j4WPbg",
        "colab_type": "code",
        "outputId": "b00e4b2b-8e7c-4c14-9e04-045e2dbef658",
        "colab": {
          "base_uri": "https://localhost:8080/",
          "height": 85
        }
      },
      "cell_type": "code",
      "source": [
        "cm  = confusion_matrix(y_test,y_test_pred_svm)\n",
        "tn, fp, fn, tp = cm.ravel()\n",
        "print (tn)\n",
        "print (fp)\n",
        "print (fn)\n",
        "print (tp)"
      ],
      "execution_count": 0,
      "outputs": [
        {
          "output_type": "stream",
          "text": [
            "1115\n",
            "28\n",
            "37\n",
            "320\n"
          ],
          "name": "stdout"
        }
      ]
    },
    {
      "metadata": {
        "id": "3T2shVUeW1BW",
        "colab_type": "code",
        "outputId": "d28059b0-05ad-40ca-fec4-e747258a26a6",
        "colab": {
          "base_uri": "https://localhost:8080/",
          "height": 54
        }
      },
      "cell_type": "code",
      "source": [
        "classification_report(y_test,y_test_pred_svm)"
      ],
      "execution_count": 0,
      "outputs": [
        {
          "output_type": "execute_result",
          "data": {
            "text/plain": [
              "'              precision    recall  f1-score   support\\n\\n           0       0.97      0.98      0.97      1143\\n           1       0.92      0.90      0.91       357\\n\\n   micro avg       0.96      0.96      0.96      1500\\n   macro avg       0.94      0.94      0.94      1500\\nweighted avg       0.96      0.96      0.96      1500\\n'"
            ]
          },
          "metadata": {
            "tags": []
          },
          "execution_count": 111
        }
      ]
    },
    {
      "metadata": {
        "id": "kif17XdmW4ry",
        "colab_type": "code",
        "outputId": "b07207b9-96e6-4890-d85b-4cb18e96cd83",
        "colab": {
          "base_uri": "https://localhost:8080/",
          "height": 466
        }
      },
      "cell_type": "code",
      "source": [
        "plot_confusion_matrix(cm,[0,1])"
      ],
      "execution_count": 0,
      "outputs": [
        {
          "output_type": "stream",
          "text": [
            "Confusion matrix, without normalization\n",
            "[[1115   28]\n",
            " [  37  320]]\n"
          ],
          "name": "stdout"
        },
        {
          "output_type": "display_data",
          "data": {
            "image/png": "[encoded data removed]",
            "text/plain": [
              "<matplotlib.figure.Figure at 0x7ff95b9870b8>"
            ]
          },
          "metadata": {
            "tags": []
          }
        }
      ]
    },
    {
      "metadata": {
        "id": "iwwXCRJfZxw9",
        "colab_type": "code",
        "outputId": "3b606ef8-15a5-49be-a052-20029ffb1482",
        "colab": {
          "base_uri": "https://localhost:8080/",
          "height": 119
        }
      },
      "cell_type": "code",
      "source": [
        "xgboost_clf = XGBClassifier(random_state=42)\n",
        "xgboost_clf.fit(x_train,y_train)"
      ],
      "execution_count": 0,
      "outputs": [
        {
          "output_type": "execute_result",
          "data": {
            "text/plain": [
              "XGBClassifier(base_score=0.5, booster='gbtree', colsample_bylevel=1,\n",
              "       colsample_bytree=1, gamma=0, learning_rate=0.1, max_delta_step=0,\n",
              "       max_depth=3, min_child_weight=1, missing=None, n_estimators=100,\n",
              "       n_jobs=1, nthread=None, objective='binary:logistic',\n",
              "       random_state=42, reg_alpha=0, reg_lambda=1, scale_pos_weight=1,\n",
              "       seed=None, silent=True, subsample=1)"
            ]
          },
          "metadata": {
            "tags": []
          },
          "execution_count": 113
        }
      ]
    },
    {
      "metadata": {
        "id": "FaDe92l1aR-m",
        "colab_type": "code",
        "outputId": "d4415a39-df3d-46d7-a5e1-37b9acc8fbbc",
        "colab": {
          "base_uri": "https://localhost:8080/",
          "height": 34
        }
      },
      "cell_type": "code",
      "source": [
        "xgboost_scores = cross_val_score(xgboost_clf, x_train, y_train, cv=10)\n",
        "y_train_pred_xgboost = cross_val_predict(xgboost_clf, x_train, y_train, cv=10)\n",
        "xgboost_scores.mean()"
      ],
      "execution_count": 0,
      "outputs": [
        {
          "output_type": "execute_result",
          "data": {
            "text/plain": [
              "0.9750372992329845"
            ]
          },
          "metadata": {
            "tags": []
          },
          "execution_count": 114
        }
      ]
    },
    {
      "metadata": {
        "id": "hkMkKjF0aZmP",
        "colab_type": "code",
        "outputId": "f8f0faa7-2627-4db6-a6bb-4ac86afa91c7",
        "colab": {
          "base_uri": "https://localhost:8080/",
          "height": 85
        }
      },
      "cell_type": "code",
      "source": [
        "cm  = confusion_matrix(y_train,y_train_pred_xgboost)\n",
        "tn, fp, fn, tp = cm.ravel()\n",
        "print (tn)\n",
        "print (fp)\n",
        "print (fn)\n",
        "print (tp)"
      ],
      "execution_count": 0,
      "outputs": [
        {
          "output_type": "stream",
          "text": [
            "10183\n",
            "102\n",
            "235\n",
            "2979\n"
          ],
          "name": "stdout"
        }
      ]
    },
    {
      "metadata": {
        "id": "AIlJyH2LahXt",
        "colab_type": "code",
        "outputId": "d01d78dc-91b7-4f2c-b940-253f903fd8d0",
        "colab": {
          "base_uri": "https://localhost:8080/",
          "height": 466
        }
      },
      "cell_type": "code",
      "source": [
        "plot_confusion_matrix(cm,[0,1])"
      ],
      "execution_count": 0,
      "outputs": [
        {
          "output_type": "stream",
          "text": [
            "Confusion matrix, without normalization\n",
            "[[10183   102]\n",
            " [  235  2979]]\n"
          ],
          "name": "stdout"
        },
        {
          "output_type": "display_data",
          "data": {
            "image/png": "[encoded data removed]",
            "text/plain": [
              "<matplotlib.figure.Figure at 0x7ff95b6fa2e8>"
            ]
          },
          "metadata": {
            "tags": []
          }
        }
      ]
    },
    {
      "metadata": {
        "id": "PaB2Go5waovx",
        "colab_type": "code",
        "colab": {}
      },
      "cell_type": "code",
      "source": [
        "y_test_pred_xgboost = xgboost_clf.predict(x_test)"
      ],
      "execution_count": 0,
      "outputs": []
    },
    {
      "metadata": {
        "id": "5shaGazha0LB",
        "colab_type": "code",
        "outputId": "324855b9-a931-42cf-de92-7aa125de03cd",
        "colab": {
          "base_uri": "https://localhost:8080/",
          "height": 85
        }
      },
      "cell_type": "code",
      "source": [
        "cm  = confusion_matrix(y_test,y_test_pred_xgboost)\n",
        "tn, fp, fn, tp = cm.ravel()\n",
        "print (tn)\n",
        "print (fp)\n",
        "print (fn)\n",
        "print (tp)"
      ],
      "execution_count": 0,
      "outputs": [
        {
          "output_type": "stream",
          "text": [
            "1135\n",
            "8\n",
            "25\n",
            "332\n"
          ],
          "name": "stdout"
        }
      ]
    },
    {
      "metadata": {
        "id": "7vIgGxwia54Y",
        "colab_type": "code",
        "outputId": "f9ce7b9d-d0f2-4998-9b50-e40b46ca67c8",
        "colab": {
          "base_uri": "https://localhost:8080/",
          "height": 466
        }
      },
      "cell_type": "code",
      "source": [
        "plot_confusion_matrix(cm,[0,1])"
      ],
      "execution_count": 0,
      "outputs": [
        {
          "output_type": "stream",
          "text": [
            "Confusion matrix, without normalization\n",
            "[[1135    8]\n",
            " [  25  332]]\n"
          ],
          "name": "stdout"
        },
        {
          "output_type": "display_data",
          "data": {
            "image/png": "[encoded data removed]",
            "text/plain": [
              "<matplotlib.figure.Figure at 0x7ff95b68ddd8>"
            ]
          },
          "metadata": {
            "tags": []
          }
        }
      ]
    },
    {
      "metadata": {
        "id": "NrJlP6cSbJws",
        "colab_type": "code",
        "outputId": "8de4748a-7d77-4f36-d12b-26dfb7485e12",
        "colab": {
          "base_uri": "https://localhost:8080/",
          "height": 34
        }
      },
      "cell_type": "code",
      "source": [
        "x_train.shape"
      ],
      "execution_count": 0,
      "outputs": [
        {
          "output_type": "execute_result",
          "data": {
            "text/plain": [
              "(13499, 20)"
            ]
          },
          "metadata": {
            "tags": []
          },
          "execution_count": 120
        }
      ]
    },
    {
      "metadata": {
        "id": "sSiEItB8bMQG",
        "colab_type": "code",
        "colab": {}
      },
      "cell_type": "code",
      "source": [
        "# create model\n",
        "neural_net = Sequential()\n",
        "neural_net.add(Dense(8, input_dim=20, activation='relu'))\n",
        "#neural_net.add(Dense(12, activation='relu'))\n",
        "#neural_net.add(Dense(12, activation='relu'))\n",
        "#neural_net.add(Dense(12, activation='relu'))\n",
        "neural_net.add(Dense(12, activation='relu'))\n",
        "neural_net.add(Dense(1, activation='sigmoid'))\n",
        "# Compile model\n",
        "neural_net.compile(loss='binary_crossentropy', optimizer='adam', metrics=['accuracy'])"
      ],
      "execution_count": 0,
      "outputs": []
    },
    {
      "metadata": {
        "id": "iuaazNL_bW_j",
        "colab_type": "code",
        "outputId": "1cf08a47-5a12-4282-bb90-d00aa2d400b5",
        "colab": {
          "base_uri": "https://localhost:8080/",
          "height": 51051
        }
      },
      "cell_type": "code",
      "source": [
        "neural_net.fit(x_train, y_train, validation_split=0.1,epochs=1500, batch_size=10)"
      ],
      "execution_count": 0,
      "outputs": [
        {
          "output_type": "stream",
          "text": [
            "Train on 12149 samples, validate on 1350 samples\n",
            "Epoch 1/1500\n",
            "12149/12149 [==============================] - 8s 657us/step - loss: 0.3582 - acc: 0.8425 - val_loss: 0.2090 - val_acc: 0.9378\n",
            "Epoch 2/1500\n",
            "12149/12149 [==============================] - 6s 499us/step - loss: 0.1886 - acc: 0.9462 - val_loss: 0.1666 - val_acc: 0.9519\n",
            "Epoch 3/1500\n",
            "12149/12149 [==============================] - 6s 490us/step - loss: 0.1629 - acc: 0.9531 - val_loss: 0.1580 - val_acc: 0.9563\n",
            "Epoch 4/1500\n",
            "12149/12149 [==============================] - 6s 494us/step - loss: 0.1524 - acc: 0.9556 - val_loss: 0.1513 - val_acc: 0.9585\n",
            "Epoch 5/1500\n",
            "12149/12149 [==============================] - 6s 493us/step - loss: 0.1454 - acc: 0.9574 - val_loss: 0.1471 - val_acc: 0.9585\n",
            "Epoch 6/1500\n",
            "12149/12149 [==============================] - 6s 495us/step - loss: 0.1415 - acc: 0.9585 - val_loss: 0.1460 - val_acc: 0.9570\n",
            "Epoch 7/1500\n",
            "12149/12149 [==============================] - 6s 497us/step - loss: 0.1384 - acc: 0.9591 - val_loss: 0.1455 - val_acc: 0.9563\n",
            "Epoch 8/1500\n",
            "12149/12149 [==============================] - 6s 492us/step - loss: 0.1363 - acc: 0.9602 - val_loss: 0.1444 - val_acc: 0.9556\n",
            "Epoch 9/1500\n",
            "12149/12149 [==============================] - 6s 492us/step - loss: 0.1347 - acc: 0.9612 - val_loss: 0.1406 - val_acc: 0.9607\n",
            "Epoch 10/1500\n",
            "12149/12149 [==============================] - 6s 494us/step - loss: 0.1329 - acc: 0.9617 - val_loss: 0.1396 - val_acc: 0.9644\n",
            "Epoch 11/1500\n",
            "12149/12149 [==============================] - 6s 495us/step - loss: 0.1314 - acc: 0.9626 - val_loss: 0.1391 - val_acc: 0.9622\n",
            "Epoch 12/1500\n",
            "12149/12149 [==============================] - 6s 491us/step - loss: 0.1301 - acc: 0.9626 - val_loss: 0.1371 - val_acc: 0.9630\n",
            "Epoch 13/1500\n",
            "12149/12149 [==============================] - 6s 498us/step - loss: 0.1288 - acc: 0.9632 - val_loss: 0.1379 - val_acc: 0.9630\n",
            "Epoch 14/1500\n",
            "12149/12149 [==============================] - 6s 491us/step - loss: 0.1280 - acc: 0.9626 - val_loss: 0.1375 - val_acc: 0.9659\n",
            "Epoch 15/1500\n",
            "12149/12149 [==============================] - 6s 493us/step - loss: 0.1270 - acc: 0.9623 - val_loss: 0.1371 - val_acc: 0.9637\n",
            "Epoch 16/1500\n",
            "12149/12149 [==============================] - 6s 505us/step - loss: 0.1261 - acc: 0.9620 - val_loss: 0.1357 - val_acc: 0.9652\n",
            "Epoch 17/1500\n",
            "12149/12149 [==============================] - 6s 502us/step - loss: 0.1249 - acc: 0.9636 - val_loss: 0.1353 - val_acc: 0.9637\n",
            "Epoch 18/1500\n",
            "12149/12149 [==============================] - 6s 488us/step - loss: 0.1239 - acc: 0.9635 - val_loss: 0.1334 - val_acc: 0.9637\n",
            "Epoch 19/1500\n",
            "12149/12149 [==============================] - 6s 484us/step - loss: 0.1230 - acc: 0.9641 - val_loss: 0.1325 - val_acc: 0.9615\n",
            "Epoch 20/1500\n",
            "12149/12149 [==============================] - 6s 487us/step - loss: 0.1218 - acc: 0.9640 - val_loss: 0.1327 - val_acc: 0.9637\n",
            "Epoch 21/1500\n",
            "12149/12149 [==============================] - 6s 484us/step - loss: 0.1215 - acc: 0.9643 - val_loss: 0.1332 - val_acc: 0.9674\n",
            "Epoch 22/1500\n",
            "12149/12149 [==============================] - 6s 486us/step - loss: 0.1202 - acc: 0.9649 - val_loss: 0.1325 - val_acc: 0.9674\n",
            "Epoch 23/1500\n",
            "12149/12149 [==============================] - 6s 483us/step - loss: 0.1200 - acc: 0.9651 - val_loss: 0.1295 - val_acc: 0.9637\n",
            "Epoch 24/1500\n",
            "12149/12149 [==============================] - 6s 485us/step - loss: 0.1189 - acc: 0.9663 - val_loss: 0.1291 - val_acc: 0.9637\n",
            "Epoch 25/1500\n",
            "12149/12149 [==============================] - 6s 535us/step - loss: 0.1180 - acc: 0.9655 - val_loss: 0.1297 - val_acc: 0.9652\n",
            "Epoch 26/1500\n",
            "12149/12149 [==============================] - 6s 512us/step - loss: 0.1177 - acc: 0.9657 - val_loss: 0.1306 - val_acc: 0.9637\n",
            "Epoch 27/1500\n",
            "12149/12149 [==============================] - 6s 489us/step - loss: 0.1168 - acc: 0.9668 - val_loss: 0.1265 - val_acc: 0.9674\n",
            "Epoch 28/1500\n",
            "12149/12149 [==============================] - 6s 492us/step - loss: 0.1163 - acc: 0.9660 - val_loss: 0.1250 - val_acc: 0.9652\n",
            "Epoch 29/1500\n",
            "12149/12149 [==============================] - 6s 485us/step - loss: 0.1156 - acc: 0.9663 - val_loss: 0.1275 - val_acc: 0.9637\n",
            "Epoch 30/1500\n",
            "12149/12149 [==============================] - 6s 486us/step - loss: 0.1151 - acc: 0.9658 - val_loss: 0.1264 - val_acc: 0.9667\n",
            "Epoch 31/1500\n",
            "12149/12149 [==============================] - 6s 483us/step - loss: 0.1149 - acc: 0.9669 - val_loss: 0.1237 - val_acc: 0.9659\n",
            "Epoch 32/1500\n",
            "12149/12149 [==============================] - 6s 487us/step - loss: 0.1140 - acc: 0.9661 - val_loss: 0.1258 - val_acc: 0.9652\n",
            "Epoch 33/1500\n",
            "12149/12149 [==============================] - 6s 531us/step - loss: 0.1140 - acc: 0.9665 - val_loss: 0.1252 - val_acc: 0.9659\n",
            "Epoch 34/1500\n",
            "12149/12149 [==============================] - 6s 483us/step - loss: 0.1138 - acc: 0.9672 - val_loss: 0.1255 - val_acc: 0.9681\n",
            "Epoch 35/1500\n",
            "12149/12149 [==============================] - 6s 489us/step - loss: 0.1129 - acc: 0.9676 - val_loss: 0.1239 - val_acc: 0.9659\n",
            "Epoch 36/1500\n",
            "12149/12149 [==============================] - 6s 488us/step - loss: 0.1118 - acc: 0.9672 - val_loss: 0.1242 - val_acc: 0.9644\n",
            "Epoch 37/1500\n",
            "12149/12149 [==============================] - 6s 499us/step - loss: 0.1115 - acc: 0.9683 - val_loss: 0.1240 - val_acc: 0.9652\n",
            "Epoch 38/1500\n",
            "12149/12149 [==============================] - 6s 494us/step - loss: 0.1119 - acc: 0.9677 - val_loss: 0.1210 - val_acc: 0.9644\n",
            "Epoch 39/1500\n",
            "12149/12149 [==============================] - 6s 483us/step - loss: 0.1110 - acc: 0.9681 - val_loss: 0.1232 - val_acc: 0.9674\n",
            "Epoch 40/1500\n",
            "12149/12149 [==============================] - 6s 481us/step - loss: 0.1105 - acc: 0.9677 - val_loss: 0.1214 - val_acc: 0.9659\n",
            "Epoch 41/1500\n",
            "12149/12149 [==============================] - 6s 486us/step - loss: 0.1104 - acc: 0.9680 - val_loss: 0.1210 - val_acc: 0.9681\n",
            "Epoch 42/1500\n",
            "12149/12149 [==============================] - 6s 482us/step - loss: 0.1089 - acc: 0.9680 - val_loss: 0.1209 - val_acc: 0.9652\n",
            "Epoch 43/1500\n",
            "12149/12149 [==============================] - 6s 481us/step - loss: 0.1094 - acc: 0.9679 - val_loss: 0.1209 - val_acc: 0.9681\n",
            "Epoch 44/1500\n",
            "12149/12149 [==============================] - 6s 481us/step - loss: 0.1092 - acc: 0.9680 - val_loss: 0.1243 - val_acc: 0.9652\n",
            "Epoch 45/1500\n",
            "12149/12149 [==============================] - 6s 486us/step - loss: 0.1088 - acc: 0.9695 - val_loss: 0.1235 - val_acc: 0.9689\n",
            "Epoch 46/1500\n",
            "12149/12149 [==============================] - 6s 494us/step - loss: 0.1084 - acc: 0.9686 - val_loss: 0.1301 - val_acc: 0.9652\n",
            "Epoch 47/1500\n",
            "12149/12149 [==============================] - 6s 493us/step - loss: 0.1086 - acc: 0.9684 - val_loss: 0.1224 - val_acc: 0.9659\n",
            "Epoch 48/1500\n",
            "12149/12149 [==============================] - 6s 485us/step - loss: 0.1080 - acc: 0.9684 - val_loss: 0.1215 - val_acc: 0.9681\n",
            "Epoch 49/1500\n",
            "12149/12149 [==============================] - 6s 485us/step - loss: 0.1074 - acc: 0.9684 - val_loss: 0.1196 - val_acc: 0.9644\n",
            "Epoch 50/1500\n",
            "12149/12149 [==============================] - 6s 484us/step - loss: 0.1079 - acc: 0.9690 - val_loss: 0.1195 - val_acc: 0.9674\n",
            "Epoch 51/1500\n",
            "12149/12149 [==============================] - 6s 480us/step - loss: 0.1070 - acc: 0.9688 - val_loss: 0.1221 - val_acc: 0.9652\n",
            "Epoch 52/1500\n",
            "12149/12149 [==============================] - 6s 481us/step - loss: 0.1067 - acc: 0.9697 - val_loss: 0.1207 - val_acc: 0.9681\n",
            "Epoch 53/1500\n",
            "12149/12149 [==============================] - 6s 489us/step - loss: 0.1058 - acc: 0.9686 - val_loss: 0.1180 - val_acc: 0.9681\n",
            "Epoch 54/1500\n",
            "12149/12149 [==============================] - 6s 484us/step - loss: 0.1061 - acc: 0.9697 - val_loss: 0.1234 - val_acc: 0.9696\n",
            "Epoch 55/1500\n",
            "12149/12149 [==============================] - 6s 488us/step - loss: 0.1062 - acc: 0.9691 - val_loss: 0.1202 - val_acc: 0.9681\n",
            "Epoch 56/1500\n",
            "12149/12149 [==============================] - 6s 490us/step - loss: 0.1063 - acc: 0.9689 - val_loss: 0.1182 - val_acc: 0.9659\n",
            "Epoch 57/1500\n",
            "12149/12149 [==============================] - 6s 489us/step - loss: 0.1054 - acc: 0.9696 - val_loss: 0.1233 - val_acc: 0.9681\n",
            "Epoch 58/1500\n",
            "12149/12149 [==============================] - 6s 494us/step - loss: 0.1057 - acc: 0.9693 - val_loss: 0.1220 - val_acc: 0.9674\n",
            "Epoch 59/1500\n",
            "12149/12149 [==============================] - 6s 490us/step - loss: 0.1055 - acc: 0.9699 - val_loss: 0.1203 - val_acc: 0.9674\n",
            "Epoch 60/1500\n",
            "12149/12149 [==============================] - 6s 484us/step - loss: 0.1046 - acc: 0.9705 - val_loss: 0.1170 - val_acc: 0.9674\n",
            "Epoch 61/1500\n",
            "12149/12149 [==============================] - 6s 480us/step - loss: 0.1050 - acc: 0.9704 - val_loss: 0.1188 - val_acc: 0.9674\n",
            "Epoch 62/1500\n",
            "12149/12149 [==============================] - 6s 486us/step - loss: 0.1045 - acc: 0.9709 - val_loss: 0.1184 - val_acc: 0.9704\n",
            "Epoch 63/1500\n",
            "12149/12149 [==============================] - 6s 480us/step - loss: 0.1042 - acc: 0.9705 - val_loss: 0.1188 - val_acc: 0.9704\n",
            "Epoch 64/1500\n",
            "12149/12149 [==============================] - 6s 480us/step - loss: 0.1039 - acc: 0.9707 - val_loss: 0.1199 - val_acc: 0.9681\n",
            "Epoch 65/1500\n",
            "12149/12149 [==============================] - 6s 483us/step - loss: 0.1036 - acc: 0.9714 - val_loss: 0.1199 - val_acc: 0.9667\n",
            "Epoch 66/1500\n",
            "12149/12149 [==============================] - 6s 491us/step - loss: 0.1035 - acc: 0.9705 - val_loss: 0.1197 - val_acc: 0.9681\n",
            "Epoch 67/1500\n",
            "12149/12149 [==============================] - 6s 506us/step - loss: 0.1032 - acc: 0.9701 - val_loss: 0.1188 - val_acc: 0.9689\n",
            "Epoch 68/1500\n",
            "12149/12149 [==============================] - 6s 491us/step - loss: 0.1027 - acc: 0.9707 - val_loss: 0.1198 - val_acc: 0.9689\n",
            "Epoch 69/1500\n",
            "12149/12149 [==============================] - 6s 483us/step - loss: 0.1031 - acc: 0.9706 - val_loss: 0.1185 - val_acc: 0.9674\n",
            "Epoch 70/1500\n",
            "12149/12149 [==============================] - 6s 483us/step - loss: 0.1027 - acc: 0.9709 - val_loss: 0.1202 - val_acc: 0.9659\n",
            "Epoch 71/1500\n",
            "12149/12149 [==============================] - 6s 496us/step - loss: 0.1028 - acc: 0.9706 - val_loss: 0.1231 - val_acc: 0.9689\n",
            "Epoch 72/1500\n",
            "12149/12149 [==============================] - 6s 484us/step - loss: 0.1023 - acc: 0.9706 - val_loss: 0.1225 - val_acc: 0.9681\n",
            "Epoch 73/1500\n",
            "12149/12149 [==============================] - 6s 480us/step - loss: 0.1018 - acc: 0.9706 - val_loss: 0.1217 - val_acc: 0.9659\n",
            "Epoch 74/1500\n",
            "12149/12149 [==============================] - 6s 487us/step - loss: 0.1015 - acc: 0.9714 - val_loss: 0.1213 - val_acc: 0.9674\n",
            "Epoch 75/1500\n",
            "12149/12149 [==============================] - 6s 485us/step - loss: 0.1013 - acc: 0.9718 - val_loss: 0.1185 - val_acc: 0.9681\n",
            "Epoch 76/1500\n",
            "12149/12149 [==============================] - 6s 495us/step - loss: 0.1007 - acc: 0.9711 - val_loss: 0.1190 - val_acc: 0.9674\n",
            "Epoch 77/1500\n",
            "12149/12149 [==============================] - 6s 510us/step - loss: 0.1015 - acc: 0.9713 - val_loss: 0.1205 - val_acc: 0.9696\n",
            "Epoch 78/1500\n",
            "12149/12149 [==============================] - 6s 519us/step - loss: 0.1005 - acc: 0.9718 - val_loss: 0.1220 - val_acc: 0.9667\n",
            "Epoch 79/1500\n",
            "12149/12149 [==============================] - 6s 482us/step - loss: 0.1003 - acc: 0.9724 - val_loss: 0.1198 - val_acc: 0.9674\n",
            "Epoch 80/1500\n",
            "12149/12149 [==============================] - 6s 485us/step - loss: 0.1003 - acc: 0.9713 - val_loss: 0.1198 - val_acc: 0.9681\n",
            "Epoch 81/1500\n",
            "12149/12149 [==============================] - 6s 480us/step - loss: 0.1001 - acc: 0.9722 - val_loss: 0.1195 - val_acc: 0.9681\n",
            "Epoch 82/1500\n",
            "12149/12149 [==============================] - 6s 482us/step - loss: 0.0993 - acc: 0.9718 - val_loss: 0.1193 - val_acc: 0.9689\n",
            "Epoch 83/1500\n",
            "12149/12149 [==============================] - 6s 485us/step - loss: 0.0997 - acc: 0.9709 - val_loss: 0.1208 - val_acc: 0.9674\n",
            "Epoch 84/1500\n",
            "12149/12149 [==============================] - 7s 541us/step - loss: 0.0998 - acc: 0.9715 - val_loss: 0.1249 - val_acc: 0.9681\n",
            "Epoch 85/1500\n",
            "12149/12149 [==============================] - 6s 528us/step - loss: 0.0994 - acc: 0.9710 - val_loss: 0.1236 - val_acc: 0.9674\n",
            "Epoch 86/1500\n",
            "12149/12149 [==============================] - 6s 511us/step - loss: 0.0996 - acc: 0.9720 - val_loss: 0.1211 - val_acc: 0.9674\n",
            "Epoch 87/1500\n",
            "12149/12149 [==============================] - 6s 503us/step - loss: 0.0991 - acc: 0.9714 - val_loss: 0.1194 - val_acc: 0.9689\n",
            "Epoch 88/1500\n",
            "12149/12149 [==============================] - 6s 504us/step - loss: 0.0987 - acc: 0.9715 - val_loss: 0.1191 - val_acc: 0.9674\n",
            "Epoch 89/1500\n",
            "12149/12149 [==============================] - 6s 495us/step - loss: 0.0981 - acc: 0.9719 - val_loss: 0.1240 - val_acc: 0.9674\n",
            "Epoch 90/1500\n",
            "12149/12149 [==============================] - 6s 527us/step - loss: 0.0988 - acc: 0.9718 - val_loss: 0.1206 - val_acc: 0.9674\n",
            "Epoch 91/1500\n",
            "12149/12149 [==============================] - 6s 489us/step - loss: 0.0987 - acc: 0.9716 - val_loss: 0.1202 - val_acc: 0.9689\n",
            "Epoch 92/1500\n",
            "12149/12149 [==============================] - 6s 492us/step - loss: 0.0976 - acc: 0.9717 - val_loss: 0.1211 - val_acc: 0.9667\n",
            "Epoch 93/1500\n",
            "12149/12149 [==============================] - 6s 496us/step - loss: 0.0984 - acc: 0.9716 - val_loss: 0.1215 - val_acc: 0.9689\n",
            "Epoch 94/1500\n",
            "12149/12149 [==============================] - 6s 493us/step - loss: 0.0985 - acc: 0.9719 - val_loss: 0.1205 - val_acc: 0.9674\n",
            "Epoch 95/1500\n",
            "12149/12149 [==============================] - 6s 495us/step - loss: 0.0976 - acc: 0.9728 - val_loss: 0.1194 - val_acc: 0.9667\n",
            "Epoch 96/1500\n",
            "12149/12149 [==============================] - 6s 500us/step - loss: 0.0973 - acc: 0.9718 - val_loss: 0.1190 - val_acc: 0.9674\n",
            "Epoch 97/1500\n",
            "12149/12149 [==============================] - 6s 505us/step - loss: 0.0981 - acc: 0.9717 - val_loss: 0.1195 - val_acc: 0.9667\n",
            "Epoch 98/1500\n",
            "12149/12149 [==============================] - 6s 494us/step - loss: 0.0973 - acc: 0.9722 - val_loss: 0.1205 - val_acc: 0.9674\n",
            "Epoch 99/1500\n",
            "12149/12149 [==============================] - 6s 492us/step - loss: 0.0974 - acc: 0.9717 - val_loss: 0.1226 - val_acc: 0.9674\n",
            "Epoch 100/1500\n",
            "12149/12149 [==============================] - 6s 495us/step - loss: 0.0975 - acc: 0.9718 - val_loss: 0.1185 - val_acc: 0.9674\n",
            "Epoch 101/1500\n",
            "12149/12149 [==============================] - 6s 506us/step - loss: 0.0978 - acc: 0.9716 - val_loss: 0.1161 - val_acc: 0.9689\n",
            "Epoch 102/1500\n",
            "12149/12149 [==============================] - 6s 489us/step - loss: 0.0972 - acc: 0.9720 - val_loss: 0.1182 - val_acc: 0.9674\n",
            "Epoch 103/1500\n",
            "12149/12149 [==============================] - 6s 486us/step - loss: 0.0971 - acc: 0.9723 - val_loss: 0.1243 - val_acc: 0.9681\n",
            "Epoch 104/1500\n",
            "12149/12149 [==============================] - 6s 492us/step - loss: 0.0975 - acc: 0.9726 - val_loss: 0.1192 - val_acc: 0.9674\n",
            "Epoch 105/1500\n",
            "12149/12149 [==============================] - 6s 500us/step - loss: 0.0963 - acc: 0.9727 - val_loss: 0.1210 - val_acc: 0.9681\n",
            "Epoch 106/1500\n",
            "12149/12149 [==============================] - 6s 497us/step - loss: 0.0976 - acc: 0.9727 - val_loss: 0.1243 - val_acc: 0.9681\n",
            "Epoch 107/1500\n",
            "12149/12149 [==============================] - 6s 494us/step - loss: 0.0973 - acc: 0.9718 - val_loss: 0.1234 - val_acc: 0.9681\n",
            "Epoch 108/1500\n",
            "12149/12149 [==============================] - 6s 492us/step - loss: 0.0963 - acc: 0.9718 - val_loss: 0.1226 - val_acc: 0.9659\n",
            "Epoch 109/1500\n",
            "12149/12149 [==============================] - 6s 490us/step - loss: 0.0961 - acc: 0.9729 - val_loss: 0.1229 - val_acc: 0.9674\n",
            "Epoch 110/1500\n",
            "12149/12149 [==============================] - 6s 488us/step - loss: 0.0967 - acc: 0.9733 - val_loss: 0.1243 - val_acc: 0.9667\n",
            "Epoch 111/1500\n",
            "12149/12149 [==============================] - 6s 498us/step - loss: 0.0965 - acc: 0.9719 - val_loss: 0.1194 - val_acc: 0.9689\n",
            "Epoch 112/1500\n",
            "12149/12149 [==============================] - 6s 489us/step - loss: 0.0962 - acc: 0.9731 - val_loss: 0.1180 - val_acc: 0.9659\n",
            "Epoch 113/1500\n",
            "12149/12149 [==============================] - 6s 490us/step - loss: 0.0960 - acc: 0.9729 - val_loss: 0.1258 - val_acc: 0.9630\n",
            "Epoch 114/1500\n",
            "12149/12149 [==============================] - 6s 491us/step - loss: 0.0971 - acc: 0.9727 - val_loss: 0.1191 - val_acc: 0.9667\n",
            "Epoch 115/1500\n",
            "12149/12149 [==============================] - 6s 487us/step - loss: 0.0959 - acc: 0.9723 - val_loss: 0.1248 - val_acc: 0.9630\n",
            "Epoch 116/1500\n",
            "12149/12149 [==============================] - 6s 495us/step - loss: 0.0967 - acc: 0.9726 - val_loss: 0.1172 - val_acc: 0.9674\n",
            "Epoch 117/1500\n",
            "12149/12149 [==============================] - 6s 495us/step - loss: 0.0961 - acc: 0.9728 - val_loss: 0.1178 - val_acc: 0.9659\n",
            "Epoch 118/1500\n",
            "12149/12149 [==============================] - 6s 504us/step - loss: 0.0966 - acc: 0.9722 - val_loss: 0.1188 - val_acc: 0.9667\n",
            "Epoch 119/1500\n",
            "12149/12149 [==============================] - 6s 496us/step - loss: 0.0962 - acc: 0.9728 - val_loss: 0.1244 - val_acc: 0.9652\n",
            "Epoch 120/1500\n",
            "12149/12149 [==============================] - 6s 506us/step - loss: 0.0965 - acc: 0.9719 - val_loss: 0.1208 - val_acc: 0.9659\n",
            "Epoch 121/1500\n",
            "12149/12149 [==============================] - 6s 506us/step - loss: 0.0955 - acc: 0.9732 - val_loss: 0.1181 - val_acc: 0.9674\n",
            "Epoch 122/1500\n",
            "12149/12149 [==============================] - 6s 499us/step - loss: 0.0956 - acc: 0.9718 - val_loss: 0.1220 - val_acc: 0.9659\n",
            "Epoch 123/1500\n",
            "12149/12149 [==============================] - 6s 494us/step - loss: 0.0969 - acc: 0.9719 - val_loss: 0.1191 - val_acc: 0.9681\n",
            "Epoch 124/1500\n",
            "12149/12149 [==============================] - 6s 498us/step - loss: 0.0960 - acc: 0.9730 - val_loss: 0.1180 - val_acc: 0.9674\n",
            "Epoch 125/1500\n",
            "12149/12149 [==============================] - 6s 495us/step - loss: 0.0959 - acc: 0.9724 - val_loss: 0.1171 - val_acc: 0.9681\n",
            "Epoch 126/1500\n",
            "12149/12149 [==============================] - 6s 496us/step - loss: 0.0957 - acc: 0.9727 - val_loss: 0.1198 - val_acc: 0.9659\n",
            "Epoch 127/1500\n",
            "12149/12149 [==============================] - 6s 498us/step - loss: 0.0958 - acc: 0.9721 - val_loss: 0.1184 - val_acc: 0.9667\n",
            "Epoch 128/1500\n",
            "12149/12149 [==============================] - 6s 504us/step - loss: 0.0961 - acc: 0.9723 - val_loss: 0.1185 - val_acc: 0.9659\n",
            "Epoch 129/1500\n",
            "12149/12149 [==============================] - 6s 516us/step - loss: 0.0957 - acc: 0.9723 - val_loss: 0.1205 - val_acc: 0.9659\n",
            "Epoch 130/1500\n",
            "12149/12149 [==============================] - 6s 496us/step - loss: 0.0953 - acc: 0.9731 - val_loss: 0.1184 - val_acc: 0.9689\n",
            "Epoch 131/1500\n",
            "12149/12149 [==============================] - 6s 489us/step - loss: 0.0956 - acc: 0.9724 - val_loss: 0.1179 - val_acc: 0.9681\n",
            "Epoch 132/1500\n",
            "12149/12149 [==============================] - 6s 481us/step - loss: 0.0958 - acc: 0.9714 - val_loss: 0.1207 - val_acc: 0.9652\n",
            "Epoch 133/1500\n",
            "12149/12149 [==============================] - 6s 492us/step - loss: 0.0954 - acc: 0.9727 - val_loss: 0.1182 - val_acc: 0.9689\n",
            "Epoch 134/1500\n",
            "12149/12149 [==============================] - 6s 502us/step - loss: 0.0956 - acc: 0.9723 - val_loss: 0.1192 - val_acc: 0.9674\n",
            "Epoch 135/1500\n",
            "12149/12149 [==============================] - 6s 518us/step - loss: 0.0952 - acc: 0.9732 - val_loss: 0.1179 - val_acc: 0.9674\n",
            "Epoch 136/1500\n",
            "12149/12149 [==============================] - 6s 491us/step - loss: 0.0959 - acc: 0.9715 - val_loss: 0.1161 - val_acc: 0.9689\n",
            "Epoch 137/1500\n",
            "12149/12149 [==============================] - 6s 497us/step - loss: 0.0954 - acc: 0.9725 - val_loss: 0.1202 - val_acc: 0.9681\n",
            "Epoch 138/1500\n",
            "12149/12149 [==============================] - 6s 494us/step - loss: 0.0959 - acc: 0.9722 - val_loss: 0.1176 - val_acc: 0.9689\n",
            "Epoch 139/1500\n",
            "12149/12149 [==============================] - 6s 490us/step - loss: 0.0951 - acc: 0.9729 - val_loss: 0.1196 - val_acc: 0.9659\n",
            "Epoch 140/1500\n",
            "12149/12149 [==============================] - 6s 487us/step - loss: 0.0956 - acc: 0.9729 - val_loss: 0.1171 - val_acc: 0.9674\n",
            "Epoch 141/1500\n",
            "12149/12149 [==============================] - 6s 484us/step - loss: 0.0956 - acc: 0.9728 - val_loss: 0.1179 - val_acc: 0.9674\n",
            "Epoch 142/1500\n",
            "12149/12149 [==============================] - 6s 488us/step - loss: 0.0953 - acc: 0.9724 - val_loss: 0.1195 - val_acc: 0.9681\n",
            "Epoch 143/1500\n",
            "12149/12149 [==============================] - 6s 488us/step - loss: 0.0955 - acc: 0.9723 - val_loss: 0.1184 - val_acc: 0.9689\n",
            "Epoch 144/1500\n",
            "12149/12149 [==============================] - 6s 492us/step - loss: 0.0953 - acc: 0.9725 - val_loss: 0.1189 - val_acc: 0.9681\n",
            "Epoch 145/1500\n",
            "12149/12149 [==============================] - 6s 489us/step - loss: 0.0952 - acc: 0.9726 - val_loss: 0.1174 - val_acc: 0.9674\n",
            "Epoch 146/1500\n",
            "12149/12149 [==============================] - 6s 491us/step - loss: 0.0950 - acc: 0.9732 - val_loss: 0.1169 - val_acc: 0.9667\n",
            "Epoch 147/1500\n",
            "12149/12149 [==============================] - 6s 495us/step - loss: 0.0947 - acc: 0.9726 - val_loss: 0.1167 - val_acc: 0.9674\n",
            "Epoch 148/1500\n",
            "12149/12149 [==============================] - 6s 503us/step - loss: 0.0958 - acc: 0.9731 - val_loss: 0.1159 - val_acc: 0.9674\n",
            "Epoch 149/1500\n",
            "12149/12149 [==============================] - 6s 490us/step - loss: 0.0948 - acc: 0.9723 - val_loss: 0.1154 - val_acc: 0.9689\n",
            "Epoch 150/1500\n",
            "12149/12149 [==============================] - 6s 493us/step - loss: 0.0952 - acc: 0.9732 - val_loss: 0.1172 - val_acc: 0.9689\n",
            "Epoch 151/1500\n",
            "12149/12149 [==============================] - 6s 495us/step - loss: 0.0955 - acc: 0.9727 - val_loss: 0.1171 - val_acc: 0.9681\n",
            "Epoch 152/1500\n",
            "12149/12149 [==============================] - 6s 492us/step - loss: 0.0954 - acc: 0.9723 - val_loss: 0.1186 - val_acc: 0.9681\n",
            "Epoch 153/1500\n",
            "12149/12149 [==============================] - 6s 493us/step - loss: 0.0949 - acc: 0.9720 - val_loss: 0.1177 - val_acc: 0.9689\n",
            "Epoch 154/1500\n",
            "12149/12149 [==============================] - 6s 493us/step - loss: 0.0948 - acc: 0.9733 - val_loss: 0.1200 - val_acc: 0.9674\n",
            "Epoch 155/1500\n",
            "12149/12149 [==============================] - 6s 502us/step - loss: 0.0948 - acc: 0.9728 - val_loss: 0.1179 - val_acc: 0.9681\n",
            "Epoch 156/1500\n",
            "12149/12149 [==============================] - 6s 493us/step - loss: 0.0946 - acc: 0.9726 - val_loss: 0.1167 - val_acc: 0.9689\n",
            "Epoch 157/1500\n",
            "12149/12149 [==============================] - 6s 496us/step - loss: 0.0949 - acc: 0.9722 - val_loss: 0.1158 - val_acc: 0.9689\n",
            "Epoch 158/1500\n",
            "12149/12149 [==============================] - 6s 501us/step - loss: 0.0948 - acc: 0.9722 - val_loss: 0.1201 - val_acc: 0.9689\n",
            "Epoch 159/1500\n",
            "12149/12149 [==============================] - 6s 492us/step - loss: 0.0944 - acc: 0.9727 - val_loss: 0.1180 - val_acc: 0.9689\n",
            "Epoch 160/1500\n",
            "12149/12149 [==============================] - 6s 493us/step - loss: 0.0947 - acc: 0.9725 - val_loss: 0.1187 - val_acc: 0.9667\n",
            "Epoch 161/1500\n",
            "12149/12149 [==============================] - 6s 489us/step - loss: 0.0952 - acc: 0.9731 - val_loss: 0.1176 - val_acc: 0.9681\n",
            "Epoch 162/1500\n",
            "12149/12149 [==============================] - 6s 499us/step - loss: 0.0943 - acc: 0.9722 - val_loss: 0.1190 - val_acc: 0.9696\n",
            "Epoch 163/1500\n",
            "12149/12149 [==============================] - 6s 492us/step - loss: 0.0939 - acc: 0.9730 - val_loss: 0.1191 - val_acc: 0.9674\n",
            "Epoch 164/1500\n",
            "12149/12149 [==============================] - 6s 492us/step - loss: 0.0944 - acc: 0.9730 - val_loss: 0.1167 - val_acc: 0.9681\n",
            "Epoch 165/1500\n",
            "12149/12149 [==============================] - 6s 493us/step - loss: 0.0942 - acc: 0.9733 - val_loss: 0.1182 - val_acc: 0.9674\n",
            "Epoch 166/1500\n",
            "12149/12149 [==============================] - 6s 498us/step - loss: 0.0945 - acc: 0.9728 - val_loss: 0.1163 - val_acc: 0.9704\n",
            "Epoch 167/1500\n",
            "12149/12149 [==============================] - 6s 498us/step - loss: 0.0940 - acc: 0.9729 - val_loss: 0.1199 - val_acc: 0.9696\n",
            "Epoch 168/1500\n",
            "12149/12149 [==============================] - 6s 499us/step - loss: 0.0945 - acc: 0.9719 - val_loss: 0.1142 - val_acc: 0.9696\n",
            "Epoch 169/1500\n",
            "12149/12149 [==============================] - 6s 495us/step - loss: 0.0946 - acc: 0.9732 - val_loss: 0.1189 - val_acc: 0.9681\n",
            "Epoch 170/1500\n",
            "12149/12149 [==============================] - 6s 498us/step - loss: 0.0937 - acc: 0.9737 - val_loss: 0.1150 - val_acc: 0.9689\n",
            "Epoch 171/1500\n",
            "12149/12149 [==============================] - 6s 487us/step - loss: 0.0944 - acc: 0.9728 - val_loss: 0.1188 - val_acc: 0.9681\n",
            "Epoch 172/1500\n",
            "12149/12149 [==============================] - 6s 488us/step - loss: 0.0943 - acc: 0.9733 - val_loss: 0.1160 - val_acc: 0.9674\n",
            "Epoch 173/1500\n",
            "12149/12149 [==============================] - 6s 496us/step - loss: 0.0941 - acc: 0.9735 - val_loss: 0.1179 - val_acc: 0.9689\n",
            "Epoch 174/1500\n",
            "12149/12149 [==============================] - 6s 489us/step - loss: 0.0940 - acc: 0.9734 - val_loss: 0.1154 - val_acc: 0.9696\n",
            "Epoch 175/1500\n",
            "12149/12149 [==============================] - 6s 492us/step - loss: 0.0944 - acc: 0.9733 - val_loss: 0.1153 - val_acc: 0.9696\n",
            "Epoch 176/1500\n",
            "12149/12149 [==============================] - 6s 496us/step - loss: 0.0939 - acc: 0.9728 - val_loss: 0.1178 - val_acc: 0.9704\n",
            "Epoch 177/1500\n",
            "12149/12149 [==============================] - 6s 504us/step - loss: 0.0937 - acc: 0.9734 - val_loss: 0.1176 - val_acc: 0.9689\n",
            "Epoch 178/1500\n",
            "12149/12149 [==============================] - 6s 494us/step - loss: 0.0936 - acc: 0.9733 - val_loss: 0.1168 - val_acc: 0.9696\n",
            "Epoch 179/1500\n",
            "12149/12149 [==============================] - 6s 490us/step - loss: 0.0946 - acc: 0.9728 - val_loss: 0.1171 - val_acc: 0.9704\n",
            "Epoch 180/1500\n",
            "12149/12149 [==============================] - 6s 513us/step - loss: 0.0940 - acc: 0.9736 - val_loss: 0.1198 - val_acc: 0.9681\n",
            "Epoch 181/1500\n",
            "12149/12149 [==============================] - 6s 515us/step - loss: 0.0931 - acc: 0.9731 - val_loss: 0.1175 - val_acc: 0.9681\n",
            "Epoch 182/1500\n",
            "12149/12149 [==============================] - 6s 506us/step - loss: 0.0932 - acc: 0.9733 - val_loss: 0.1192 - val_acc: 0.9689\n",
            "Epoch 183/1500\n",
            "12149/12149 [==============================] - 6s 495us/step - loss: 0.0934 - acc: 0.9742 - val_loss: 0.1166 - val_acc: 0.9689\n",
            "Epoch 184/1500\n",
            "12149/12149 [==============================] - 6s 495us/step - loss: 0.0942 - acc: 0.9735 - val_loss: 0.1172 - val_acc: 0.9696\n",
            "Epoch 185/1500\n",
            "12149/12149 [==============================] - 6s 508us/step - loss: 0.0932 - acc: 0.9730 - val_loss: 0.1172 - val_acc: 0.9689\n",
            "Epoch 186/1500\n",
            "12149/12149 [==============================] - 6s 509us/step - loss: 0.0941 - acc: 0.9728 - val_loss: 0.1183 - val_acc: 0.9681\n",
            "Epoch 187/1500\n",
            "12149/12149 [==============================] - 6s 497us/step - loss: 0.0936 - acc: 0.9733 - val_loss: 0.1189 - val_acc: 0.9689\n",
            "Epoch 188/1500\n",
            "12149/12149 [==============================] - 6s 517us/step - loss: 0.0931 - acc: 0.9741 - val_loss: 0.1222 - val_acc: 0.9674\n",
            "Epoch 189/1500\n",
            "12149/12149 [==============================] - 6s 489us/step - loss: 0.0935 - acc: 0.9729 - val_loss: 0.1182 - val_acc: 0.9689\n",
            "Epoch 190/1500\n",
            "12149/12149 [==============================] - 6s 487us/step - loss: 0.0932 - acc: 0.9729 - val_loss: 0.1150 - val_acc: 0.9681\n",
            "Epoch 191/1500\n",
            "12149/12149 [==============================] - 6s 496us/step - loss: 0.0933 - acc: 0.9737 - val_loss: 0.1140 - val_acc: 0.9696\n",
            "Epoch 192/1500\n",
            "12149/12149 [==============================] - 6s 494us/step - loss: 0.0939 - acc: 0.9732 - val_loss: 0.1165 - val_acc: 0.9689\n",
            "Epoch 193/1500\n",
            "12149/12149 [==============================] - 6s 496us/step - loss: 0.0920 - acc: 0.9741 - val_loss: 0.1192 - val_acc: 0.9689\n",
            "Epoch 194/1500\n",
            "12149/12149 [==============================] - 6s 497us/step - loss: 0.0941 - acc: 0.9726 - val_loss: 0.1155 - val_acc: 0.9704\n",
            "Epoch 195/1500\n",
            "12149/12149 [==============================] - 6s 498us/step - loss: 0.0923 - acc: 0.9742 - val_loss: 0.1169 - val_acc: 0.9674\n",
            "Epoch 196/1500\n",
            "12149/12149 [==============================] - 6s 494us/step - loss: 0.0930 - acc: 0.9731 - val_loss: 0.1146 - val_acc: 0.9696\n",
            "Epoch 197/1500\n",
            "12149/12149 [==============================] - 6s 498us/step - loss: 0.0934 - acc: 0.9729 - val_loss: 0.1136 - val_acc: 0.9689\n",
            "Epoch 198/1500\n",
            "12149/12149 [==============================] - 6s 492us/step - loss: 0.0928 - acc: 0.9736 - val_loss: 0.1149 - val_acc: 0.9696\n",
            "Epoch 199/1500\n",
            "12149/12149 [==============================] - 6s 502us/step - loss: 0.0937 - acc: 0.9737 - val_loss: 0.1162 - val_acc: 0.9689\n",
            "Epoch 200/1500\n",
            "12149/12149 [==============================] - 6s 498us/step - loss: 0.0936 - acc: 0.9728 - val_loss: 0.1136 - val_acc: 0.9689\n",
            "Epoch 201/1500\n",
            "12149/12149 [==============================] - 6s 494us/step - loss: 0.0928 - acc: 0.9737 - val_loss: 0.1147 - val_acc: 0.9696\n",
            "Epoch 202/1500\n",
            "12149/12149 [==============================] - 6s 498us/step - loss: 0.0924 - acc: 0.9732 - val_loss: 0.1218 - val_acc: 0.9689\n",
            "Epoch 203/1500\n",
            "12149/12149 [==============================] - 6s 495us/step - loss: 0.0932 - acc: 0.9737 - val_loss: 0.1215 - val_acc: 0.9667\n",
            "Epoch 204/1500\n",
            "12149/12149 [==============================] - 6s 490us/step - loss: 0.0935 - acc: 0.9731 - val_loss: 0.1155 - val_acc: 0.9689\n",
            "Epoch 205/1500\n",
            "12149/12149 [==============================] - 6s 496us/step - loss: 0.0933 - acc: 0.9734 - val_loss: 0.1185 - val_acc: 0.9696\n",
            "Epoch 206/1500\n",
            "12149/12149 [==============================] - 6s 495us/step - loss: 0.0924 - acc: 0.9735 - val_loss: 0.1190 - val_acc: 0.9689\n",
            "Epoch 207/1500\n",
            "12149/12149 [==============================] - 6s 487us/step - loss: 0.0931 - acc: 0.9739 - val_loss: 0.1159 - val_acc: 0.9696\n",
            "Epoch 208/1500\n",
            "12149/12149 [==============================] - 6s 492us/step - loss: 0.0929 - acc: 0.9730 - val_loss: 0.1170 - val_acc: 0.9696\n",
            "Epoch 209/1500\n",
            "12149/12149 [==============================] - 6s 481us/step - loss: 0.0929 - acc: 0.9732 - val_loss: 0.1158 - val_acc: 0.9681\n",
            "Epoch 210/1500\n",
            "12149/12149 [==============================] - 6s 482us/step - loss: 0.0931 - acc: 0.9735 - val_loss: 0.1153 - val_acc: 0.9689\n",
            "Epoch 211/1500\n",
            "12149/12149 [==============================] - 6s 481us/step - loss: 0.0920 - acc: 0.9732 - val_loss: 0.1173 - val_acc: 0.9689\n",
            "Epoch 212/1500\n",
            "12149/12149 [==============================] - 6s 493us/step - loss: 0.0930 - acc: 0.9726 - val_loss: 0.1161 - val_acc: 0.9681\n",
            "Epoch 213/1500\n",
            "12149/12149 [==============================] - 6s 493us/step - loss: 0.0932 - acc: 0.9734 - val_loss: 0.1165 - val_acc: 0.9689\n",
            "Epoch 214/1500\n",
            "12149/12149 [==============================] - 6s 483us/step - loss: 0.0930 - acc: 0.9734 - val_loss: 0.1156 - val_acc: 0.9689\n",
            "Epoch 215/1500\n",
            "12149/12149 [==============================] - 6s 485us/step - loss: 0.0929 - acc: 0.9734 - val_loss: 0.1173 - val_acc: 0.9681\n",
            "Epoch 216/1500\n",
            "12149/12149 [==============================] - 6s 489us/step - loss: 0.0926 - acc: 0.9732 - val_loss: 0.1180 - val_acc: 0.9696\n",
            "Epoch 217/1500\n",
            "12149/12149 [==============================] - 6s 486us/step - loss: 0.0928 - acc: 0.9737 - val_loss: 0.1165 - val_acc: 0.9667\n",
            "Epoch 218/1500\n",
            "12149/12149 [==============================] - 6s 488us/step - loss: 0.0923 - acc: 0.9737 - val_loss: 0.1159 - val_acc: 0.9696\n",
            "Epoch 219/1500\n",
            "12149/12149 [==============================] - 6s 480us/step - loss: 0.0927 - acc: 0.9732 - val_loss: 0.1172 - val_acc: 0.9689\n",
            "Epoch 220/1500\n",
            "12149/12149 [==============================] - 6s 488us/step - loss: 0.0927 - acc: 0.9736 - val_loss: 0.1165 - val_acc: 0.9704\n",
            "Epoch 221/1500\n",
            "12149/12149 [==============================] - 6s 484us/step - loss: 0.0921 - acc: 0.9730 - val_loss: 0.1205 - val_acc: 0.9667\n",
            "Epoch 222/1500\n",
            "12149/12149 [==============================] - 6s 483us/step - loss: 0.0917 - acc: 0.9735 - val_loss: 0.1175 - val_acc: 0.9681\n",
            "Epoch 223/1500\n",
            "12149/12149 [==============================] - 6s 490us/step - loss: 0.0925 - acc: 0.9744 - val_loss: 0.1172 - val_acc: 0.9696\n",
            "Epoch 224/1500\n",
            "12149/12149 [==============================] - 6s 504us/step - loss: 0.0921 - acc: 0.9736 - val_loss: 0.1173 - val_acc: 0.9689\n",
            "Epoch 225/1500\n",
            "12149/12149 [==============================] - 6s 489us/step - loss: 0.0926 - acc: 0.9740 - val_loss: 0.1180 - val_acc: 0.9681\n",
            "Epoch 226/1500\n",
            "12149/12149 [==============================] - 6s 485us/step - loss: 0.0921 - acc: 0.9734 - val_loss: 0.1131 - val_acc: 0.9704\n",
            "Epoch 227/1500\n",
            "12149/12149 [==============================] - 6s 489us/step - loss: 0.0920 - acc: 0.9743 - val_loss: 0.1156 - val_acc: 0.9689\n",
            "Epoch 228/1500\n",
            "12149/12149 [==============================] - 6s 482us/step - loss: 0.0922 - acc: 0.9745 - val_loss: 0.1197 - val_acc: 0.9681\n",
            "Epoch 229/1500\n",
            "12149/12149 [==============================] - 6s 481us/step - loss: 0.0930 - acc: 0.9734 - val_loss: 0.1160 - val_acc: 0.9681\n",
            "Epoch 230/1500\n",
            "12149/12149 [==============================] - 6s 485us/step - loss: 0.0925 - acc: 0.9736 - val_loss: 0.1157 - val_acc: 0.9696\n",
            "Epoch 231/1500\n",
            "12149/12149 [==============================] - 6s 491us/step - loss: 0.0926 - acc: 0.9734 - val_loss: 0.1154 - val_acc: 0.9696\n",
            "Epoch 232/1500\n",
            "12149/12149 [==============================] - 6s 519us/step - loss: 0.0916 - acc: 0.9740 - val_loss: 0.1154 - val_acc: 0.9696\n",
            "Epoch 233/1500\n",
            "12149/12149 [==============================] - 6s 516us/step - loss: 0.0928 - acc: 0.9724 - val_loss: 0.1136 - val_acc: 0.9696\n",
            "Epoch 234/1500\n",
            "12149/12149 [==============================] - 6s 489us/step - loss: 0.0922 - acc: 0.9746 - val_loss: 0.1139 - val_acc: 0.9696\n",
            "Epoch 235/1500\n",
            "12149/12149 [==============================] - 6s 483us/step - loss: 0.0916 - acc: 0.9740 - val_loss: 0.1186 - val_acc: 0.9674\n",
            "Epoch 236/1500\n",
            "12149/12149 [==============================] - 6s 505us/step - loss: 0.0923 - acc: 0.9741 - val_loss: 0.1175 - val_acc: 0.9696\n",
            "Epoch 237/1500\n",
            "12149/12149 [==============================] - 6s 508us/step - loss: 0.0921 - acc: 0.9745 - val_loss: 0.1179 - val_acc: 0.9689\n",
            "Epoch 238/1500\n",
            "12149/12149 [==============================] - 6s 495us/step - loss: 0.0924 - acc: 0.9734 - val_loss: 0.1158 - val_acc: 0.9696\n",
            "Epoch 239/1500\n",
            "12149/12149 [==============================] - 6s 482us/step - loss: 0.0915 - acc: 0.9742 - val_loss: 0.1147 - val_acc: 0.9689\n",
            "Epoch 240/1500\n",
            "12149/12149 [==============================] - 6s 489us/step - loss: 0.0920 - acc: 0.9737 - val_loss: 0.1195 - val_acc: 0.9689\n",
            "Epoch 241/1500\n",
            "12149/12149 [==============================] - 6s 483us/step - loss: 0.0914 - acc: 0.9740 - val_loss: 0.1319 - val_acc: 0.9644\n",
            "Epoch 242/1500\n",
            "12149/12149 [==============================] - 6s 484us/step - loss: 0.0922 - acc: 0.9728 - val_loss: 0.1171 - val_acc: 0.9689\n",
            "Epoch 243/1500\n",
            "12149/12149 [==============================] - 6s 487us/step - loss: 0.0928 - acc: 0.9737 - val_loss: 0.1164 - val_acc: 0.9681\n",
            "Epoch 244/1500\n",
            "12149/12149 [==============================] - 6s 482us/step - loss: 0.0920 - acc: 0.9740 - val_loss: 0.1183 - val_acc: 0.9689\n",
            "Epoch 245/1500\n",
            "12149/12149 [==============================] - 6s 489us/step - loss: 0.0916 - acc: 0.9737 - val_loss: 0.1132 - val_acc: 0.9681\n",
            "Epoch 246/1500\n",
            "12149/12149 [==============================] - 6s 495us/step - loss: 0.0916 - acc: 0.9742 - val_loss: 0.1158 - val_acc: 0.9696\n",
            "Epoch 247/1500\n",
            "12149/12149 [==============================] - 6s 502us/step - loss: 0.0919 - acc: 0.9736 - val_loss: 0.1171 - val_acc: 0.9667\n",
            "Epoch 248/1500\n",
            "12149/12149 [==============================] - 6s 485us/step - loss: 0.0915 - acc: 0.9739 - val_loss: 0.1155 - val_acc: 0.9681\n",
            "Epoch 249/1500\n",
            "12149/12149 [==============================] - 6s 484us/step - loss: 0.0920 - acc: 0.9737 - val_loss: 0.1140 - val_acc: 0.9681\n",
            "Epoch 250/1500\n",
            "12149/12149 [==============================] - 6s 480us/step - loss: 0.0918 - acc: 0.9741 - val_loss: 0.1146 - val_acc: 0.9696\n",
            "Epoch 251/1500\n",
            "12149/12149 [==============================] - 6s 495us/step - loss: 0.0928 - acc: 0.9732 - val_loss: 0.1176 - val_acc: 0.9704\n",
            "Epoch 252/1500\n",
            "12149/12149 [==============================] - 6s 480us/step - loss: 0.0921 - acc: 0.9733 - val_loss: 0.1187 - val_acc: 0.9689\n",
            "Epoch 253/1500\n",
            "12149/12149 [==============================] - 6s 491us/step - loss: 0.0915 - acc: 0.9736 - val_loss: 0.1125 - val_acc: 0.9696\n",
            "Epoch 254/1500\n",
            "12149/12149 [==============================] - 6s 480us/step - loss: 0.0917 - acc: 0.9732 - val_loss: 0.1170 - val_acc: 0.9696\n",
            "Epoch 255/1500\n",
            "12149/12149 [==============================] - 6s 491us/step - loss: 0.0908 - acc: 0.9746 - val_loss: 0.1170 - val_acc: 0.9667\n",
            "Epoch 256/1500\n",
            "12149/12149 [==============================] - 6s 489us/step - loss: 0.0923 - acc: 0.9738 - val_loss: 0.1156 - val_acc: 0.9689\n",
            "Epoch 257/1500\n",
            "12149/12149 [==============================] - 6s 490us/step - loss: 0.0916 - acc: 0.9735 - val_loss: 0.1132 - val_acc: 0.9696\n",
            "Epoch 258/1500\n",
            "12149/12149 [==============================] - 6s 498us/step - loss: 0.0917 - acc: 0.9741 - val_loss: 0.1170 - val_acc: 0.9689\n",
            "Epoch 259/1500\n",
            "12149/12149 [==============================] - 6s 490us/step - loss: 0.0912 - acc: 0.9736 - val_loss: 0.1173 - val_acc: 0.9704\n",
            "Epoch 260/1500\n",
            "12149/12149 [==============================] - 6s 495us/step - loss: 0.0919 - acc: 0.9732 - val_loss: 0.1141 - val_acc: 0.9696\n",
            "Epoch 261/1500\n",
            "12149/12149 [==============================] - 6s 491us/step - loss: 0.0909 - acc: 0.9742 - val_loss: 0.1139 - val_acc: 0.9704\n",
            "Epoch 262/1500\n",
            "12149/12149 [==============================] - 6s 479us/step - loss: 0.0915 - acc: 0.9736 - val_loss: 0.1136 - val_acc: 0.9696\n",
            "Epoch 263/1500\n",
            "12149/12149 [==============================] - 6s 481us/step - loss: 0.0916 - acc: 0.9742 - val_loss: 0.1176 - val_acc: 0.9696\n",
            "Epoch 264/1500\n",
            "12149/12149 [==============================] - 6s 491us/step - loss: 0.0920 - acc: 0.9739 - val_loss: 0.1148 - val_acc: 0.9696\n",
            "Epoch 265/1500\n",
            "12149/12149 [==============================] - 6s 492us/step - loss: 0.0916 - acc: 0.9742 - val_loss: 0.1180 - val_acc: 0.9689\n",
            "Epoch 266/1500\n",
            "12149/12149 [==============================] - 6s 491us/step - loss: 0.0916 - acc: 0.9734 - val_loss: 0.1134 - val_acc: 0.9696\n",
            "Epoch 267/1500\n",
            "12149/12149 [==============================] - 6s 489us/step - loss: 0.0914 - acc: 0.9747 - val_loss: 0.1169 - val_acc: 0.9696\n",
            "Epoch 268/1500\n",
            "12149/12149 [==============================] - 6s 484us/step - loss: 0.0919 - acc: 0.9740 - val_loss: 0.1168 - val_acc: 0.9696\n",
            "Epoch 269/1500\n",
            "12149/12149 [==============================] - 6s 491us/step - loss: 0.0911 - acc: 0.9730 - val_loss: 0.1138 - val_acc: 0.9689\n",
            "Epoch 270/1500\n",
            "12149/12149 [==============================] - 6s 480us/step - loss: 0.0917 - acc: 0.9735 - val_loss: 0.1193 - val_acc: 0.9696\n",
            "Epoch 271/1500\n",
            "12149/12149 [==============================] - 6s 482us/step - loss: 0.0913 - acc: 0.9739 - val_loss: 0.1149 - val_acc: 0.9696\n",
            "Epoch 272/1500\n",
            "12149/12149 [==============================] - 6s 481us/step - loss: 0.0910 - acc: 0.9746 - val_loss: 0.1168 - val_acc: 0.9681\n",
            "Epoch 273/1500\n",
            "12149/12149 [==============================] - 6s 485us/step - loss: 0.0913 - acc: 0.9737 - val_loss: 0.1193 - val_acc: 0.9681\n",
            "Epoch 274/1500\n",
            "12149/12149 [==============================] - 6s 486us/step - loss: 0.0919 - acc: 0.9741 - val_loss: 0.1164 - val_acc: 0.9681\n",
            "Epoch 275/1500\n",
            "12149/12149 [==============================] - 6s 484us/step - loss: 0.0913 - acc: 0.9744 - val_loss: 0.1155 - val_acc: 0.9681\n",
            "Epoch 276/1500\n",
            "12149/12149 [==============================] - 6s 489us/step - loss: 0.0918 - acc: 0.9733 - val_loss: 0.1167 - val_acc: 0.9689\n",
            "Epoch 277/1500\n",
            "12149/12149 [==============================] - 6s 495us/step - loss: 0.0912 - acc: 0.9741 - val_loss: 0.1142 - val_acc: 0.9696\n",
            "Epoch 278/1500\n",
            "12149/12149 [==============================] - 6s 490us/step - loss: 0.0917 - acc: 0.9739 - val_loss: 0.1139 - val_acc: 0.9689\n",
            "Epoch 279/1500\n",
            "12149/12149 [==============================] - 6s 486us/step - loss: 0.0919 - acc: 0.9746 - val_loss: 0.1212 - val_acc: 0.9681\n",
            "Epoch 280/1500\n",
            "12149/12149 [==============================] - 6s 479us/step - loss: 0.0914 - acc: 0.9748 - val_loss: 0.1161 - val_acc: 0.9674\n",
            "Epoch 281/1500\n",
            "12149/12149 [==============================] - 6s 487us/step - loss: 0.0918 - acc: 0.9741 - val_loss: 0.1175 - val_acc: 0.9689\n",
            "Epoch 282/1500\n",
            "12149/12149 [==============================] - 6s 486us/step - loss: 0.0913 - acc: 0.9741 - val_loss: 0.1160 - val_acc: 0.9689\n",
            "Epoch 283/1500\n",
            "12149/12149 [==============================] - 6s 478us/step - loss: 0.0905 - acc: 0.9742 - val_loss: 0.1164 - val_acc: 0.9674\n",
            "Epoch 284/1500\n",
            "12149/12149 [==============================] - 6s 514us/step - loss: 0.0912 - acc: 0.9733 - val_loss: 0.1145 - val_acc: 0.9681\n",
            "Epoch 285/1500\n",
            "12149/12149 [==============================] - 6s 524us/step - loss: 0.0914 - acc: 0.9744 - val_loss: 0.1127 - val_acc: 0.9674\n",
            "Epoch 286/1500\n",
            "12149/12149 [==============================] - 6s 484us/step - loss: 0.0910 - acc: 0.9745 - val_loss: 0.1155 - val_acc: 0.9674\n",
            "Epoch 287/1500\n",
            "12149/12149 [==============================] - 6s 494us/step - loss: 0.0907 - acc: 0.9741 - val_loss: 0.1184 - val_acc: 0.9681\n",
            "Epoch 288/1500\n",
            "12149/12149 [==============================] - 6s 525us/step - loss: 0.0913 - acc: 0.9746 - val_loss: 0.1180 - val_acc: 0.9681\n",
            "Epoch 289/1500\n",
            "12149/12149 [==============================] - 6s 476us/step - loss: 0.0910 - acc: 0.9743 - val_loss: 0.1198 - val_acc: 0.9674\n",
            "Epoch 290/1500\n",
            "12149/12149 [==============================] - 6s 481us/step - loss: 0.0911 - acc: 0.9746 - val_loss: 0.1188 - val_acc: 0.9681\n",
            "Epoch 291/1500\n",
            "12149/12149 [==============================] - 6s 483us/step - loss: 0.0908 - acc: 0.9736 - val_loss: 0.1181 - val_acc: 0.9681\n",
            "Epoch 292/1500\n",
            "12149/12149 [==============================] - 6s 485us/step - loss: 0.0912 - acc: 0.9741 - val_loss: 0.1183 - val_acc: 0.9667\n",
            "Epoch 293/1500\n",
            "12149/12149 [==============================] - 6s 493us/step - loss: 0.0908 - acc: 0.9742 - val_loss: 0.1167 - val_acc: 0.9681\n",
            "Epoch 294/1500\n",
            "12149/12149 [==============================] - 6s 483us/step - loss: 0.0915 - acc: 0.9741 - val_loss: 0.1145 - val_acc: 0.9674\n",
            "Epoch 295/1500\n",
            "12149/12149 [==============================] - 6s 483us/step - loss: 0.0910 - acc: 0.9742 - val_loss: 0.1133 - val_acc: 0.9696\n",
            "Epoch 296/1500\n",
            "12149/12149 [==============================] - 6s 492us/step - loss: 0.0914 - acc: 0.9744 - val_loss: 0.1152 - val_acc: 0.9674\n",
            "Epoch 297/1500\n",
            "12149/12149 [==============================] - 6s 500us/step - loss: 0.0910 - acc: 0.9746 - val_loss: 0.1144 - val_acc: 0.9681\n",
            "Epoch 298/1500\n",
            "12149/12149 [==============================] - 6s 493us/step - loss: 0.0911 - acc: 0.9749 - val_loss: 0.1202 - val_acc: 0.9674\n",
            "Epoch 299/1500\n",
            "12149/12149 [==============================] - 6s 485us/step - loss: 0.0909 - acc: 0.9741 - val_loss: 0.1173 - val_acc: 0.9689\n",
            "Epoch 300/1500\n",
            "12149/12149 [==============================] - 6s 484us/step - loss: 0.0909 - acc: 0.9748 - val_loss: 0.1152 - val_acc: 0.9689\n",
            "Epoch 301/1500\n",
            "12149/12149 [==============================] - 6s 479us/step - loss: 0.0913 - acc: 0.9747 - val_loss: 0.1156 - val_acc: 0.9689\n",
            "Epoch 302/1500\n",
            "12149/12149 [==============================] - 6s 480us/step - loss: 0.0910 - acc: 0.9741 - val_loss: 0.1212 - val_acc: 0.9637\n",
            "Epoch 303/1500\n",
            "12149/12149 [==============================] - 6s 482us/step - loss: 0.0908 - acc: 0.9741 - val_loss: 0.1169 - val_acc: 0.9681\n",
            "Epoch 304/1500\n",
            "12149/12149 [==============================] - 6s 487us/step - loss: 0.0912 - acc: 0.9739 - val_loss: 0.1197 - val_acc: 0.9681\n",
            "Epoch 305/1500\n",
            "12149/12149 [==============================] - 6s 483us/step - loss: 0.0908 - acc: 0.9742 - val_loss: 0.1133 - val_acc: 0.9689\n",
            "Epoch 306/1500\n",
            "12149/12149 [==============================] - 6s 484us/step - loss: 0.0909 - acc: 0.9748 - val_loss: 0.1163 - val_acc: 0.9696\n",
            "Epoch 307/1500\n",
            "12149/12149 [==============================] - 6s 494us/step - loss: 0.0913 - acc: 0.9752 - val_loss: 0.1179 - val_acc: 0.9667\n",
            "Epoch 308/1500\n",
            "12149/12149 [==============================] - 6s 492us/step - loss: 0.0912 - acc: 0.9737 - val_loss: 0.1166 - val_acc: 0.9667\n",
            "Epoch 309/1500\n",
            "12149/12149 [==============================] - 6s 483us/step - loss: 0.0902 - acc: 0.9751 - val_loss: 0.1189 - val_acc: 0.9667\n",
            "Epoch 310/1500\n",
            "12149/12149 [==============================] - 6s 479us/step - loss: 0.0914 - acc: 0.9742 - val_loss: 0.1212 - val_acc: 0.9681\n",
            "Epoch 311/1500\n",
            "12149/12149 [==============================] - 6s 476us/step - loss: 0.0910 - acc: 0.9742 - val_loss: 0.1169 - val_acc: 0.9667\n",
            "Epoch 312/1500\n",
            "12149/12149 [==============================] - 6s 476us/step - loss: 0.0906 - acc: 0.9750 - val_loss: 0.1167 - val_acc: 0.9667\n",
            "Epoch 313/1500\n",
            "12149/12149 [==============================] - 6s 484us/step - loss: 0.0905 - acc: 0.9751 - val_loss: 0.1135 - val_acc: 0.9696\n",
            "Epoch 314/1500\n",
            "12149/12149 [==============================] - 6s 493us/step - loss: 0.0902 - acc: 0.9752 - val_loss: 0.1172 - val_acc: 0.9681\n",
            "Epoch 315/1500\n",
            "12149/12149 [==============================] - 6s 503us/step - loss: 0.0910 - acc: 0.9747 - val_loss: 0.1195 - val_acc: 0.9659\n",
            "Epoch 316/1500\n",
            "12149/12149 [==============================] - 6s 503us/step - loss: 0.0905 - acc: 0.9746 - val_loss: 0.1175 - val_acc: 0.9674\n",
            "Epoch 317/1500\n",
            "12149/12149 [==============================] - 6s 498us/step - loss: 0.0908 - acc: 0.9750 - val_loss: 0.1167 - val_acc: 0.9689\n",
            "Epoch 318/1500\n",
            "12149/12149 [==============================] - 6s 494us/step - loss: 0.0903 - acc: 0.9745 - val_loss: 0.1183 - val_acc: 0.9674\n",
            "Epoch 319/1500\n",
            "12149/12149 [==============================] - 6s 494us/step - loss: 0.0903 - acc: 0.9741 - val_loss: 0.1167 - val_acc: 0.9674\n",
            "Epoch 320/1500\n",
            "12149/12149 [==============================] - 6s 487us/step - loss: 0.0910 - acc: 0.9743 - val_loss: 0.1177 - val_acc: 0.9667\n",
            "Epoch 321/1500\n",
            "12149/12149 [==============================] - 6s 487us/step - loss: 0.0907 - acc: 0.9748 - val_loss: 0.1173 - val_acc: 0.9667\n",
            "Epoch 322/1500\n",
            "12149/12149 [==============================] - 6s 481us/step - loss: 0.0903 - acc: 0.9752 - val_loss: 0.1166 - val_acc: 0.9667\n",
            "Epoch 323/1500\n",
            "12149/12149 [==============================] - 6s 478us/step - loss: 0.0911 - acc: 0.9753 - val_loss: 0.1165 - val_acc: 0.9674\n",
            "Epoch 324/1500\n",
            "12149/12149 [==============================] - 6s 484us/step - loss: 0.0898 - acc: 0.9746 - val_loss: 0.1171 - val_acc: 0.9689\n",
            "Epoch 325/1500\n",
            "12149/12149 [==============================] - 6s 486us/step - loss: 0.0903 - acc: 0.9750 - val_loss: 0.1172 - val_acc: 0.9689\n",
            "Epoch 326/1500\n",
            "12149/12149 [==============================] - 6s 528us/step - loss: 0.0904 - acc: 0.9749 - val_loss: 0.1159 - val_acc: 0.9681\n",
            "Epoch 327/1500\n",
            "12149/12149 [==============================] - 6s 491us/step - loss: 0.0908 - acc: 0.9751 - val_loss: 0.1163 - val_acc: 0.9689\n",
            "Epoch 328/1500\n",
            "12149/12149 [==============================] - 6s 486us/step - loss: 0.0902 - acc: 0.9748 - val_loss: 0.1161 - val_acc: 0.9689\n",
            "Epoch 329/1500\n",
            "12149/12149 [==============================] - 6s 520us/step - loss: 0.0896 - acc: 0.9748 - val_loss: 0.1169 - val_acc: 0.9711\n",
            "Epoch 330/1500\n",
            "12149/12149 [==============================] - 6s 486us/step - loss: 0.0907 - acc: 0.9751 - val_loss: 0.1182 - val_acc: 0.9704\n",
            "Epoch 331/1500\n",
            "12149/12149 [==============================] - 6s 483us/step - loss: 0.0897 - acc: 0.9754 - val_loss: 0.1156 - val_acc: 0.9689\n",
            "Epoch 332/1500\n",
            "12149/12149 [==============================] - 6s 487us/step - loss: 0.0909 - acc: 0.9743 - val_loss: 0.1184 - val_acc: 0.9681\n",
            "Epoch 333/1500\n",
            "12149/12149 [==============================] - 6s 501us/step - loss: 0.0907 - acc: 0.9749 - val_loss: 0.1157 - val_acc: 0.9681\n",
            "Epoch 334/1500\n",
            "12149/12149 [==============================] - 6s 495us/step - loss: 0.0898 - acc: 0.9756 - val_loss: 0.1176 - val_acc: 0.9681\n",
            "Epoch 335/1500\n",
            "12149/12149 [==============================] - 6s 498us/step - loss: 0.0905 - acc: 0.9748 - val_loss: 0.1133 - val_acc: 0.9696\n",
            "Epoch 336/1500\n",
            "12149/12149 [==============================] - 6s 523us/step - loss: 0.0897 - acc: 0.9746 - val_loss: 0.1145 - val_acc: 0.9681\n",
            "Epoch 337/1500\n",
            "12149/12149 [==============================] - 6s 520us/step - loss: 0.0901 - acc: 0.9750 - val_loss: 0.1162 - val_acc: 0.9674\n",
            "Epoch 338/1500\n",
            "12149/12149 [==============================] - 6s 504us/step - loss: 0.0900 - acc: 0.9753 - val_loss: 0.1125 - val_acc: 0.9689\n",
            "Epoch 339/1500\n",
            "12149/12149 [==============================] - 6s 529us/step - loss: 0.0899 - acc: 0.9748 - val_loss: 0.1140 - val_acc: 0.9681\n",
            "Epoch 340/1500\n",
            "12149/12149 [==============================] - 6s 490us/step - loss: 0.0904 - acc: 0.9747 - val_loss: 0.1170 - val_acc: 0.9674\n",
            "Epoch 341/1500\n",
            "12149/12149 [==============================] - 6s 482us/step - loss: 0.0900 - acc: 0.9751 - val_loss: 0.1175 - val_acc: 0.9689\n",
            "Epoch 342/1500\n",
            "12149/12149 [==============================] - 6s 509us/step - loss: 0.0906 - acc: 0.9746 - val_loss: 0.1138 - val_acc: 0.9696\n",
            "Epoch 343/1500\n",
            "12149/12149 [==============================] - 6s 485us/step - loss: 0.0896 - acc: 0.9755 - val_loss: 0.1160 - val_acc: 0.9689\n",
            "Epoch 344/1500\n",
            "12149/12149 [==============================] - 6s 480us/step - loss: 0.0900 - acc: 0.9745 - val_loss: 0.1131 - val_acc: 0.9681\n",
            "Epoch 345/1500\n",
            "12149/12149 [==============================] - 6s 485us/step - loss: 0.0903 - acc: 0.9748 - val_loss: 0.1167 - val_acc: 0.9681\n",
            "Epoch 346/1500\n",
            "12149/12149 [==============================] - 6s 480us/step - loss: 0.0902 - acc: 0.9750 - val_loss: 0.1195 - val_acc: 0.9689\n",
            "Epoch 347/1500\n",
            "12149/12149 [==============================] - 6s 484us/step - loss: 0.0904 - acc: 0.9753 - val_loss: 0.1176 - val_acc: 0.9689\n",
            "Epoch 348/1500\n",
            "12149/12149 [==============================] - 6s 480us/step - loss: 0.0903 - acc: 0.9746 - val_loss: 0.1150 - val_acc: 0.9681\n",
            "Epoch 349/1500\n",
            "12149/12149 [==============================] - 6s 481us/step - loss: 0.0902 - acc: 0.9750 - val_loss: 0.1197 - val_acc: 0.9689\n",
            "Epoch 350/1500\n",
            "12149/12149 [==============================] - 6s 477us/step - loss: 0.0897 - acc: 0.9753 - val_loss: 0.1241 - val_acc: 0.9674\n",
            "Epoch 351/1500\n",
            "12149/12149 [==============================] - 6s 480us/step - loss: 0.0904 - acc: 0.9750 - val_loss: 0.1182 - val_acc: 0.9696\n",
            "Epoch 352/1500\n",
            "12149/12149 [==============================] - 6s 479us/step - loss: 0.0899 - acc: 0.9751 - val_loss: 0.1191 - val_acc: 0.9674\n",
            "Epoch 353/1500\n",
            "12149/12149 [==============================] - 6s 471us/step - loss: 0.0903 - acc: 0.9751 - val_loss: 0.1151 - val_acc: 0.9696\n",
            "Epoch 354/1500\n",
            "12149/12149 [==============================] - 6s 478us/step - loss: 0.0901 - acc: 0.9748 - val_loss: 0.1150 - val_acc: 0.9681\n",
            "Epoch 355/1500\n",
            "12149/12149 [==============================] - 6s 486us/step - loss: 0.0897 - acc: 0.9740 - val_loss: 0.1193 - val_acc: 0.9689\n",
            "Epoch 356/1500\n",
            "12149/12149 [==============================] - 6s 470us/step - loss: 0.0902 - acc: 0.9749 - val_loss: 0.1156 - val_acc: 0.9681\n",
            "Epoch 357/1500\n",
            "12149/12149 [==============================] - 6s 472us/step - loss: 0.0900 - acc: 0.9757 - val_loss: 0.1147 - val_acc: 0.9681\n",
            "Epoch 358/1500\n",
            "12149/12149 [==============================] - 6s 469us/step - loss: 0.0905 - acc: 0.9751 - val_loss: 0.1129 - val_acc: 0.9704\n",
            "Epoch 359/1500\n",
            "12149/12149 [==============================] - 6s 474us/step - loss: 0.0905 - acc: 0.9751 - val_loss: 0.1135 - val_acc: 0.9696\n",
            "Epoch 360/1500\n",
            "12149/12149 [==============================] - 6s 473us/step - loss: 0.0897 - acc: 0.9761 - val_loss: 0.1139 - val_acc: 0.9681\n",
            "Epoch 361/1500\n",
            "12149/12149 [==============================] - 6s 466us/step - loss: 0.0899 - acc: 0.9751 - val_loss: 0.1128 - val_acc: 0.9704\n",
            "Epoch 362/1500\n",
            "12149/12149 [==============================] - 6s 463us/step - loss: 0.0902 - acc: 0.9751 - val_loss: 0.1165 - val_acc: 0.9681\n",
            "Epoch 363/1500\n",
            "12149/12149 [==============================] - 6s 464us/step - loss: 0.0897 - acc: 0.9749 - val_loss: 0.1159 - val_acc: 0.9689\n",
            "Epoch 364/1500\n",
            "12149/12149 [==============================] - 6s 469us/step - loss: 0.0892 - acc: 0.9751 - val_loss: 0.1171 - val_acc: 0.9681\n",
            "Epoch 365/1500\n",
            "12149/12149 [==============================] - 6s 476us/step - loss: 0.0898 - acc: 0.9751 - val_loss: 0.1156 - val_acc: 0.9696\n",
            "Epoch 366/1500\n",
            "12149/12149 [==============================] - 6s 475us/step - loss: 0.0893 - acc: 0.9754 - val_loss: 0.1210 - val_acc: 0.9659\n",
            "Epoch 367/1500\n",
            "12149/12149 [==============================] - 6s 474us/step - loss: 0.0900 - acc: 0.9746 - val_loss: 0.1171 - val_acc: 0.9681\n",
            "Epoch 368/1500\n",
            "12149/12149 [==============================] - 6s 475us/step - loss: 0.0901 - acc: 0.9744 - val_loss: 0.1162 - val_acc: 0.9689\n",
            "Epoch 369/1500\n",
            "12149/12149 [==============================] - 6s 473us/step - loss: 0.0900 - acc: 0.9751 - val_loss: 0.1172 - val_acc: 0.9689\n",
            "Epoch 370/1500\n",
            "12149/12149 [==============================] - 6s 479us/step - loss: 0.0897 - acc: 0.9759 - val_loss: 0.1128 - val_acc: 0.9696\n",
            "Epoch 371/1500\n",
            "12149/12149 [==============================] - 6s 465us/step - loss: 0.0896 - acc: 0.9751 - val_loss: 0.1156 - val_acc: 0.9674\n",
            "Epoch 372/1500\n",
            "12149/12149 [==============================] - 6s 463us/step - loss: 0.0904 - acc: 0.9748 - val_loss: 0.1121 - val_acc: 0.9681\n",
            "Epoch 373/1500\n",
            "12149/12149 [==============================] - 6s 464us/step - loss: 0.0906 - acc: 0.9748 - val_loss: 0.1202 - val_acc: 0.9681\n",
            "Epoch 374/1500\n",
            "12149/12149 [==============================] - 6s 465us/step - loss: 0.0900 - acc: 0.9757 - val_loss: 0.1153 - val_acc: 0.9689\n",
            "Epoch 375/1500\n",
            "12149/12149 [==============================] - 6s 471us/step - loss: 0.0896 - acc: 0.9748 - val_loss: 0.1172 - val_acc: 0.9681\n",
            "Epoch 376/1500\n",
            "12149/12149 [==============================] - 6s 481us/step - loss: 0.0894 - acc: 0.9748 - val_loss: 0.1177 - val_acc: 0.9667\n",
            "Epoch 377/1500\n",
            "12149/12149 [==============================] - 6s 476us/step - loss: 0.0896 - acc: 0.9751 - val_loss: 0.1137 - val_acc: 0.9704\n",
            "Epoch 378/1500\n",
            "12149/12149 [==============================] - 6s 473us/step - loss: 0.0898 - acc: 0.9753 - val_loss: 0.1140 - val_acc: 0.9696\n",
            "Epoch 379/1500\n",
            "12149/12149 [==============================] - 6s 472us/step - loss: 0.0897 - acc: 0.9749 - val_loss: 0.1171 - val_acc: 0.9659\n",
            "Epoch 380/1500\n",
            "12149/12149 [==============================] - 6s 476us/step - loss: 0.0889 - acc: 0.9752 - val_loss: 0.1128 - val_acc: 0.9674\n",
            "Epoch 381/1500\n",
            "12149/12149 [==============================] - 6s 474us/step - loss: 0.0903 - acc: 0.9752 - val_loss: 0.1156 - val_acc: 0.9696\n",
            "Epoch 382/1500\n",
            "12149/12149 [==============================] - 6s 472us/step - loss: 0.0891 - acc: 0.9751 - val_loss: 0.1197 - val_acc: 0.9696\n",
            "Epoch 383/1500\n",
            "12149/12149 [==============================] - 6s 470us/step - loss: 0.0892 - acc: 0.9747 - val_loss: 0.1179 - val_acc: 0.9696\n",
            "Epoch 384/1500\n",
            "12149/12149 [==============================] - 6s 469us/step - loss: 0.0901 - acc: 0.9743 - val_loss: 0.1165 - val_acc: 0.9667\n",
            "Epoch 385/1500\n",
            "12149/12149 [==============================] - 6s 471us/step - loss: 0.0902 - acc: 0.9751 - val_loss: 0.1137 - val_acc: 0.9681\n",
            "Epoch 386/1500\n",
            "12149/12149 [==============================] - 6s 481us/step - loss: 0.0892 - acc: 0.9755 - val_loss: 0.1178 - val_acc: 0.9681\n",
            "Epoch 387/1500\n",
            "12149/12149 [==============================] - 6s 475us/step - loss: 0.0895 - acc: 0.9756 - val_loss: 0.1182 - val_acc: 0.9674\n",
            "Epoch 388/1500\n",
            "12149/12149 [==============================] - 6s 470us/step - loss: 0.0907 - acc: 0.9747 - val_loss: 0.1127 - val_acc: 0.9696\n",
            "Epoch 389/1500\n",
            "12149/12149 [==============================] - 6s 493us/step - loss: 0.0903 - acc: 0.9749 - val_loss: 0.1152 - val_acc: 0.9689\n",
            "Epoch 390/1500\n",
            "12149/12149 [==============================] - 6s 528us/step - loss: 0.0895 - acc: 0.9755 - val_loss: 0.1142 - val_acc: 0.9696\n",
            "Epoch 391/1500\n",
            "12149/12149 [==============================] - 6s 493us/step - loss: 0.0901 - acc: 0.9743 - val_loss: 0.1167 - val_acc: 0.9696\n",
            "Epoch 392/1500\n",
            "12149/12149 [==============================] - 6s 499us/step - loss: 0.0892 - acc: 0.9756 - val_loss: 0.1168 - val_acc: 0.9689\n",
            "Epoch 393/1500\n",
            "12149/12149 [==============================] - 6s 468us/step - loss: 0.0897 - acc: 0.9746 - val_loss: 0.1144 - val_acc: 0.9696\n",
            "Epoch 394/1500\n",
            "12149/12149 [==============================] - 6s 467us/step - loss: 0.0891 - acc: 0.9756 - val_loss: 0.1125 - val_acc: 0.9681\n",
            "Epoch 395/1500\n",
            "12149/12149 [==============================] - 6s 469us/step - loss: 0.0899 - acc: 0.9742 - val_loss: 0.1149 - val_acc: 0.9674\n",
            "Epoch 396/1500\n",
            "12149/12149 [==============================] - 6s 475us/step - loss: 0.0900 - acc: 0.9745 - val_loss: 0.1127 - val_acc: 0.9696\n",
            "Epoch 397/1500\n",
            "12149/12149 [==============================] - 6s 483us/step - loss: 0.0898 - acc: 0.9751 - val_loss: 0.1140 - val_acc: 0.9681\n",
            "Epoch 398/1500\n",
            "12149/12149 [==============================] - 6s 480us/step - loss: 0.0893 - acc: 0.9752 - val_loss: 0.1182 - val_acc: 0.9667\n",
            "Epoch 399/1500\n",
            "12149/12149 [==============================] - 6s 486us/step - loss: 0.0891 - acc: 0.9753 - val_loss: 0.1167 - val_acc: 0.9681\n",
            "Epoch 400/1500\n",
            "12149/12149 [==============================] - 6s 489us/step - loss: 0.0895 - acc: 0.9753 - val_loss: 0.1150 - val_acc: 0.9674\n",
            "Epoch 401/1500\n",
            "12149/12149 [==============================] - 6s 493us/step - loss: 0.0903 - acc: 0.9742 - val_loss: 0.1262 - val_acc: 0.9637\n",
            "Epoch 402/1500\n",
            "12149/12149 [==============================] - 6s 500us/step - loss: 0.0889 - acc: 0.9751 - val_loss: 0.1157 - val_acc: 0.9696\n",
            "Epoch 403/1500\n",
            "12149/12149 [==============================] - 6s 511us/step - loss: 0.0890 - acc: 0.9751 - val_loss: 0.1167 - val_acc: 0.9681\n",
            "Epoch 404/1500\n",
            "12149/12149 [==============================] - 6s 506us/step - loss: 0.0893 - acc: 0.9752 - val_loss: 0.1150 - val_acc: 0.9681\n",
            "Epoch 405/1500\n",
            "12149/12149 [==============================] - 6s 513us/step - loss: 0.0895 - acc: 0.9750 - val_loss: 0.1136 - val_acc: 0.9674\n",
            "Epoch 406/1500\n",
            "12149/12149 [==============================] - 6s 513us/step - loss: 0.0893 - acc: 0.9748 - val_loss: 0.1157 - val_acc: 0.9689\n",
            "Epoch 407/1500\n",
            "12149/12149 [==============================] - 6s 492us/step - loss: 0.0894 - acc: 0.9746 - val_loss: 0.1176 - val_acc: 0.9674\n",
            "Epoch 408/1500\n",
            "12149/12149 [==============================] - 6s 487us/step - loss: 0.0889 - acc: 0.9751 - val_loss: 0.1109 - val_acc: 0.9696\n",
            "Epoch 409/1500\n",
            "12149/12149 [==============================] - 6s 490us/step - loss: 0.0889 - acc: 0.9748 - val_loss: 0.1156 - val_acc: 0.9696\n",
            "Epoch 410/1500\n",
            "12149/12149 [==============================] - 6s 496us/step - loss: 0.0893 - acc: 0.9751 - val_loss: 0.1158 - val_acc: 0.9674\n",
            "Epoch 411/1500\n",
            "12149/12149 [==============================] - 6s 493us/step - loss: 0.0894 - acc: 0.9753 - val_loss: 0.1154 - val_acc: 0.9674\n",
            "Epoch 412/1500\n",
            "12149/12149 [==============================] - 6s 491us/step - loss: 0.0885 - acc: 0.9748 - val_loss: 0.1166 - val_acc: 0.9667\n",
            "Epoch 413/1500\n",
            "12149/12149 [==============================] - 6s 469us/step - loss: 0.0896 - acc: 0.9751 - val_loss: 0.1128 - val_acc: 0.9674\n",
            "Epoch 414/1500\n",
            "12149/12149 [==============================] - 6s 471us/step - loss: 0.0889 - acc: 0.9746 - val_loss: 0.1144 - val_acc: 0.9674\n",
            "Epoch 415/1500\n",
            "12149/12149 [==============================] - 6s 474us/step - loss: 0.0894 - acc: 0.9744 - val_loss: 0.1132 - val_acc: 0.9689\n",
            "Epoch 416/1500\n",
            "12149/12149 [==============================] - 6s 478us/step - loss: 0.0894 - acc: 0.9751 - val_loss: 0.1129 - val_acc: 0.9689\n",
            "Epoch 417/1500\n",
            "12149/12149 [==============================] - 6s 476us/step - loss: 0.0903 - acc: 0.9744 - val_loss: 0.1133 - val_acc: 0.9696\n",
            "Epoch 418/1500\n",
            "12149/12149 [==============================] - 6s 473us/step - loss: 0.0882 - acc: 0.9747 - val_loss: 0.1187 - val_acc: 0.9652\n",
            "Epoch 419/1500\n",
            "12149/12149 [==============================] - 6s 475us/step - loss: 0.0891 - acc: 0.9746 - val_loss: 0.1142 - val_acc: 0.9681\n",
            "Epoch 420/1500\n",
            "12149/12149 [==============================] - 6s 480us/step - loss: 0.0894 - acc: 0.9748 - val_loss: 0.1160 - val_acc: 0.9667\n",
            "Epoch 421/1500\n",
            "12149/12149 [==============================] - 6s 481us/step - loss: 0.0888 - acc: 0.9748 - val_loss: 0.1135 - val_acc: 0.9681\n",
            "Epoch 422/1500\n",
            "12149/12149 [==============================] - 6s 497us/step - loss: 0.0881 - acc: 0.9746 - val_loss: 0.1183 - val_acc: 0.9696\n",
            "Epoch 423/1500\n",
            "12149/12149 [==============================] - 6s 471us/step - loss: 0.0894 - acc: 0.9750 - val_loss: 0.1132 - val_acc: 0.9674\n",
            "Epoch 424/1500\n",
            "12149/12149 [==============================] - 6s 483us/step - loss: 0.0879 - acc: 0.9759 - val_loss: 0.1139 - val_acc: 0.9674\n",
            "Epoch 425/1500\n",
            "12149/12149 [==============================] - 6s 508us/step - loss: 0.0891 - acc: 0.9748 - val_loss: 0.1139 - val_acc: 0.9689\n",
            "Epoch 426/1500\n",
            "12149/12149 [==============================] - 6s 480us/step - loss: 0.0892 - acc: 0.9742 - val_loss: 0.1136 - val_acc: 0.9659\n",
            "Epoch 427/1500\n",
            "12149/12149 [==============================] - 6s 472us/step - loss: 0.0890 - acc: 0.9751 - val_loss: 0.1146 - val_acc: 0.9652\n",
            "Epoch 428/1500\n",
            "12149/12149 [==============================] - 6s 490us/step - loss: 0.0878 - acc: 0.9746 - val_loss: 0.1213 - val_acc: 0.9667\n",
            "Epoch 429/1500\n",
            "12149/12149 [==============================] - 6s 473us/step - loss: 0.0891 - acc: 0.9751 - val_loss: 0.1166 - val_acc: 0.9681\n",
            "Epoch 430/1500\n",
            "12149/12149 [==============================] - 6s 472us/step - loss: 0.0885 - acc: 0.9744 - val_loss: 0.1191 - val_acc: 0.9667\n",
            "Epoch 431/1500\n",
            "12149/12149 [==============================] - 6s 483us/step - loss: 0.0890 - acc: 0.9752 - val_loss: 0.1175 - val_acc: 0.9689\n",
            "Epoch 432/1500\n",
            "12149/12149 [==============================] - 6s 469us/step - loss: 0.0889 - acc: 0.9748 - val_loss: 0.1160 - val_acc: 0.9696\n",
            "Epoch 433/1500\n",
            "12149/12149 [==============================] - 6s 474us/step - loss: 0.0879 - acc: 0.9751 - val_loss: 0.1153 - val_acc: 0.9681\n",
            "Epoch 434/1500\n",
            "12149/12149 [==============================] - 6s 470us/step - loss: 0.0886 - acc: 0.9747 - val_loss: 0.1177 - val_acc: 0.9667\n",
            "Epoch 435/1500\n",
            "12149/12149 [==============================] - 6s 468us/step - loss: 0.0881 - acc: 0.9752 - val_loss: 0.1133 - val_acc: 0.9681\n",
            "Epoch 436/1500\n",
            "12149/12149 [==============================] - 6s 480us/step - loss: 0.0881 - acc: 0.9749 - val_loss: 0.1155 - val_acc: 0.9674\n",
            "Epoch 437/1500\n",
            "12149/12149 [==============================] - 6s 474us/step - loss: 0.0883 - acc: 0.9754 - val_loss: 0.1180 - val_acc: 0.9667\n",
            "Epoch 438/1500\n",
            "12149/12149 [==============================] - 6s 507us/step - loss: 0.0890 - acc: 0.9747 - val_loss: 0.1177 - val_acc: 0.9667\n",
            "Epoch 439/1500\n",
            "12149/12149 [==============================] - 6s 492us/step - loss: 0.0883 - acc: 0.9749 - val_loss: 0.1172 - val_acc: 0.9659\n",
            "Epoch 440/1500\n",
            "12149/12149 [==============================] - 6s 481us/step - loss: 0.0885 - acc: 0.9755 - val_loss: 0.1152 - val_acc: 0.9689\n",
            "Epoch 441/1500\n",
            "12149/12149 [==============================] - 6s 478us/step - loss: 0.0885 - acc: 0.9753 - val_loss: 0.1128 - val_acc: 0.9689\n",
            "Epoch 442/1500\n",
            "12149/12149 [==============================] - 6s 508us/step - loss: 0.0885 - acc: 0.9743 - val_loss: 0.1161 - val_acc: 0.9681\n",
            "Epoch 443/1500\n",
            "12149/12149 [==============================] - 6s 534us/step - loss: 0.0887 - acc: 0.9743 - val_loss: 0.1172 - val_acc: 0.9644\n",
            "Epoch 444/1500\n",
            "12149/12149 [==============================] - 6s 491us/step - loss: 0.0878 - acc: 0.9754 - val_loss: 0.1222 - val_acc: 0.9667\n",
            "Epoch 445/1500\n",
            "12149/12149 [==============================] - 6s 478us/step - loss: 0.0883 - acc: 0.9751 - val_loss: 0.1171 - val_acc: 0.9667\n",
            "Epoch 446/1500\n",
            "12149/12149 [==============================] - 6s 492us/step - loss: 0.0878 - acc: 0.9749 - val_loss: 0.1129 - val_acc: 0.9704\n",
            "Epoch 447/1500\n",
            "12149/12149 [==============================] - 6s 482us/step - loss: 0.0885 - acc: 0.9746 - val_loss: 0.1149 - val_acc: 0.9674\n",
            "Epoch 448/1500\n",
            "12149/12149 [==============================] - 6s 490us/step - loss: 0.0876 - acc: 0.9756 - val_loss: 0.1142 - val_acc: 0.9674\n",
            "Epoch 449/1500\n",
            "12149/12149 [==============================] - 6s 490us/step - loss: 0.0882 - acc: 0.9751 - val_loss: 0.1162 - val_acc: 0.9681\n",
            "Epoch 450/1500\n",
            "12149/12149 [==============================] - 6s 493us/step - loss: 0.0881 - acc: 0.9749 - val_loss: 0.1164 - val_acc: 0.9681\n",
            "Epoch 451/1500\n",
            "12149/12149 [==============================] - 6s 470us/step - loss: 0.0879 - acc: 0.9752 - val_loss: 0.1149 - val_acc: 0.9689\n",
            "Epoch 452/1500\n",
            "12149/12149 [==============================] - 6s 468us/step - loss: 0.0884 - acc: 0.9750 - val_loss: 0.1163 - val_acc: 0.9689\n",
            "Epoch 453/1500\n",
            "12149/12149 [==============================] - 6s 468us/step - loss: 0.0878 - acc: 0.9753 - val_loss: 0.1166 - val_acc: 0.9674\n",
            "Epoch 454/1500\n",
            "12149/12149 [==============================] - 6s 465us/step - loss: 0.0884 - acc: 0.9754 - val_loss: 0.1160 - val_acc: 0.9681\n",
            "Epoch 455/1500\n",
            "12149/12149 [==============================] - 6s 476us/step - loss: 0.0881 - acc: 0.9746 - val_loss: 0.1144 - val_acc: 0.9689\n",
            "Epoch 456/1500\n",
            "12149/12149 [==============================] - 6s 468us/step - loss: 0.0874 - acc: 0.9754 - val_loss: 0.1169 - val_acc: 0.9681\n",
            "Epoch 457/1500\n",
            "12149/12149 [==============================] - 6s 472us/step - loss: 0.0877 - acc: 0.9758 - val_loss: 0.1152 - val_acc: 0.9681\n",
            "Epoch 458/1500\n",
            "12149/12149 [==============================] - 6s 478us/step - loss: 0.0887 - acc: 0.9749 - val_loss: 0.1145 - val_acc: 0.9681\n",
            "Epoch 459/1500\n",
            "12149/12149 [==============================] - 6s 473us/step - loss: 0.0878 - acc: 0.9749 - val_loss: 0.1152 - val_acc: 0.9689\n",
            "Epoch 460/1500\n",
            "12149/12149 [==============================] - 6s 475us/step - loss: 0.0873 - acc: 0.9750 - val_loss: 0.1139 - val_acc: 0.9674\n",
            "Epoch 461/1500\n",
            "12149/12149 [==============================] - 6s 476us/step - loss: 0.0874 - acc: 0.9752 - val_loss: 0.1177 - val_acc: 0.9667\n",
            "Epoch 462/1500\n",
            "12149/12149 [==============================] - 6s 475us/step - loss: 0.0878 - acc: 0.9757 - val_loss: 0.1203 - val_acc: 0.9667\n",
            "Epoch 463/1500\n",
            "12149/12149 [==============================] - 6s 469us/step - loss: 0.0877 - acc: 0.9756 - val_loss: 0.1204 - val_acc: 0.9674\n",
            "Epoch 464/1500\n",
            "12149/12149 [==============================] - 6s 469us/step - loss: 0.0886 - acc: 0.9748 - val_loss: 0.1168 - val_acc: 0.9652\n",
            "Epoch 465/1500\n",
            "12149/12149 [==============================] - 6s 472us/step - loss: 0.0866 - acc: 0.9758 - val_loss: 0.1156 - val_acc: 0.9689\n",
            "Epoch 466/1500\n",
            "12149/12149 [==============================] - 6s 481us/step - loss: 0.0878 - acc: 0.9742 - val_loss: 0.1201 - val_acc: 0.9652\n",
            "Epoch 467/1500\n",
            "12149/12149 [==============================] - 6s 485us/step - loss: 0.0885 - acc: 0.9754 - val_loss: 0.1174 - val_acc: 0.9681\n",
            "Epoch 468/1500\n",
            "12149/12149 [==============================] - 6s 485us/step - loss: 0.0880 - acc: 0.9751 - val_loss: 0.1176 - val_acc: 0.9674\n",
            "Epoch 469/1500\n",
            "12149/12149 [==============================] - 6s 479us/step - loss: 0.0883 - acc: 0.9741 - val_loss: 0.1154 - val_acc: 0.9681\n",
            "Epoch 470/1500\n",
            "12149/12149 [==============================] - 6s 483us/step - loss: 0.0872 - acc: 0.9748 - val_loss: 0.1158 - val_acc: 0.9689\n",
            "Epoch 471/1500\n",
            "12149/12149 [==============================] - 6s 484us/step - loss: 0.0881 - acc: 0.9757 - val_loss: 0.1172 - val_acc: 0.9689\n",
            "Epoch 472/1500\n",
            "12149/12149 [==============================] - 6s 473us/step - loss: 0.0882 - acc: 0.9753 - val_loss: 0.1144 - val_acc: 0.9681\n",
            "Epoch 473/1500\n",
            "12149/12149 [==============================] - 6s 472us/step - loss: 0.0878 - acc: 0.9752 - val_loss: 0.1173 - val_acc: 0.9681\n",
            "Epoch 474/1500\n",
            "12149/12149 [==============================] - 6s 475us/step - loss: 0.0879 - acc: 0.9754 - val_loss: 0.1182 - val_acc: 0.9681\n",
            "Epoch 475/1500\n",
            "12149/12149 [==============================] - 6s 469us/step - loss: 0.0878 - acc: 0.9755 - val_loss: 0.1132 - val_acc: 0.9689\n",
            "Epoch 476/1500\n",
            "12149/12149 [==============================] - 6s 473us/step - loss: 0.0879 - acc: 0.9748 - val_loss: 0.1150 - val_acc: 0.9696\n",
            "Epoch 477/1500\n",
            "12149/12149 [==============================] - 6s 481us/step - loss: 0.0883 - acc: 0.9748 - val_loss: 0.1128 - val_acc: 0.9711\n",
            "Epoch 478/1500\n",
            "12149/12149 [==============================] - 6s 473us/step - loss: 0.0869 - acc: 0.9753 - val_loss: 0.1151 - val_acc: 0.9704\n",
            "Epoch 479/1500\n",
            "12149/12149 [==============================] - 6s 473us/step - loss: 0.0884 - acc: 0.9742 - val_loss: 0.1167 - val_acc: 0.9681\n",
            "Epoch 480/1500\n",
            "12149/12149 [==============================] - 6s 471us/step - loss: 0.0885 - acc: 0.9745 - val_loss: 0.1249 - val_acc: 0.9652\n",
            "Epoch 481/1500\n",
            "12149/12149 [==============================] - 6s 472us/step - loss: 0.0878 - acc: 0.9751 - val_loss: 0.1141 - val_acc: 0.9689\n",
            "Epoch 482/1500\n",
            "12149/12149 [==============================] - 6s 482us/step - loss: 0.0878 - acc: 0.9753 - val_loss: 0.1167 - val_acc: 0.9681\n",
            "Epoch 483/1500\n",
            "12149/12149 [==============================] - 6s 474us/step - loss: 0.0876 - acc: 0.9748 - val_loss: 0.1152 - val_acc: 0.9681\n",
            "Epoch 484/1500\n",
            "12149/12149 [==============================] - 6s 488us/step - loss: 0.0883 - acc: 0.9744 - val_loss: 0.1155 - val_acc: 0.9696\n",
            "Epoch 485/1500\n",
            "12149/12149 [==============================] - 6s 468us/step - loss: 0.0878 - acc: 0.9747 - val_loss: 0.1167 - val_acc: 0.9696\n",
            "Epoch 486/1500\n",
            "12149/12149 [==============================] - 6s 472us/step - loss: 0.0872 - acc: 0.9752 - val_loss: 0.1156 - val_acc: 0.9689\n",
            "Epoch 487/1500\n",
            "12149/12149 [==============================] - 6s 470us/step - loss: 0.0880 - acc: 0.9749 - val_loss: 0.1146 - val_acc: 0.9696\n",
            "Epoch 488/1500\n",
            "12149/12149 [==============================] - 6s 470us/step - loss: 0.0875 - acc: 0.9751 - val_loss: 0.1176 - val_acc: 0.9681\n",
            "Epoch 489/1500\n",
            "12149/12149 [==============================] - 6s 480us/step - loss: 0.0870 - acc: 0.9753 - val_loss: 0.1205 - val_acc: 0.9689\n",
            "Epoch 490/1500\n",
            "12149/12149 [==============================] - 6s 475us/step - loss: 0.0886 - acc: 0.9746 - val_loss: 0.1182 - val_acc: 0.9689\n",
            "Epoch 491/1500\n",
            "12149/12149 [==============================] - 6s 469us/step - loss: 0.0877 - acc: 0.9753 - val_loss: 0.1139 - val_acc: 0.9696\n",
            "Epoch 492/1500\n",
            "12149/12149 [==============================] - 6s 473us/step - loss: 0.0877 - acc: 0.9749 - val_loss: 0.1182 - val_acc: 0.9667\n",
            "Epoch 493/1500\n",
            "12149/12149 [==============================] - 6s 473us/step - loss: 0.0879 - acc: 0.9748 - val_loss: 0.1149 - val_acc: 0.9696\n",
            "Epoch 494/1500\n",
            "12149/12149 [==============================] - 6s 473us/step - loss: 0.0877 - acc: 0.9746 - val_loss: 0.1176 - val_acc: 0.9689\n",
            "Epoch 495/1500\n",
            "12149/12149 [==============================] - 6s 496us/step - loss: 0.0870 - acc: 0.9747 - val_loss: 0.1174 - val_acc: 0.9674\n",
            "Epoch 496/1500\n",
            "12149/12149 [==============================] - 7s 547us/step - loss: 0.0869 - acc: 0.9754 - val_loss: 0.1156 - val_acc: 0.9689\n",
            "Epoch 497/1500\n",
            "12149/12149 [==============================] - 6s 481us/step - loss: 0.0868 - acc: 0.9751 - val_loss: 0.1161 - val_acc: 0.9704\n",
            "Epoch 498/1500\n",
            "12149/12149 [==============================] - 6s 475us/step - loss: 0.0883 - acc: 0.9746 - val_loss: 0.1179 - val_acc: 0.9689\n",
            "Epoch 499/1500\n",
            "12149/12149 [==============================] - 6s 471us/step - loss: 0.0880 - acc: 0.9751 - val_loss: 0.1132 - val_acc: 0.9681\n",
            "Epoch 500/1500\n",
            "12149/12149 [==============================] - 6s 476us/step - loss: 0.0869 - acc: 0.9756 - val_loss: 0.1176 - val_acc: 0.9696\n",
            "Epoch 501/1500\n",
            "12149/12149 [==============================] - 6s 475us/step - loss: 0.0877 - acc: 0.9747 - val_loss: 0.1182 - val_acc: 0.9652\n",
            "Epoch 502/1500\n",
            "12149/12149 [==============================] - 6s 471us/step - loss: 0.0876 - acc: 0.9750 - val_loss: 0.1193 - val_acc: 0.9674\n",
            "Epoch 503/1500\n",
            "12149/12149 [==============================] - 6s 472us/step - loss: 0.0868 - acc: 0.9751 - val_loss: 0.1150 - val_acc: 0.9704\n",
            "Epoch 504/1500\n",
            "12149/12149 [==============================] - 6s 475us/step - loss: 0.0885 - acc: 0.9746 - val_loss: 0.1159 - val_acc: 0.9667\n",
            "Epoch 505/1500\n",
            "12149/12149 [==============================] - 6s 472us/step - loss: 0.0877 - acc: 0.9752 - val_loss: 0.1192 - val_acc: 0.9644\n",
            "Epoch 506/1500\n",
            "12149/12149 [==============================] - 6s 471us/step - loss: 0.0869 - acc: 0.9752 - val_loss: 0.1171 - val_acc: 0.9674\n",
            "Epoch 507/1500\n",
            "12149/12149 [==============================] - 6s 473us/step - loss: 0.0884 - acc: 0.9755 - val_loss: 0.1182 - val_acc: 0.9681\n",
            "Epoch 508/1500\n",
            "12149/12149 [==============================] - 6s 468us/step - loss: 0.0875 - acc: 0.9749 - val_loss: 0.1165 - val_acc: 0.9681\n",
            "Epoch 509/1500\n",
            "12149/12149 [==============================] - 6s 472us/step - loss: 0.0872 - acc: 0.9759 - val_loss: 0.1164 - val_acc: 0.9659\n",
            "Epoch 510/1500\n",
            "12149/12149 [==============================] - 6s 474us/step - loss: 0.0880 - acc: 0.9752 - val_loss: 0.1180 - val_acc: 0.9689\n",
            "Epoch 511/1500\n",
            "12149/12149 [==============================] - 6s 496us/step - loss: 0.0869 - acc: 0.9751 - val_loss: 0.1135 - val_acc: 0.9711\n",
            "Epoch 512/1500\n",
            "12149/12149 [==============================] - 6s 474us/step - loss: 0.0875 - acc: 0.9754 - val_loss: 0.1198 - val_acc: 0.9689\n",
            "Epoch 513/1500\n",
            "12149/12149 [==============================] - 6s 473us/step - loss: 0.0870 - acc: 0.9754 - val_loss: 0.1147 - val_acc: 0.9696\n",
            "Epoch 514/1500\n",
            "12149/12149 [==============================] - 6s 479us/step - loss: 0.0869 - acc: 0.9759 - val_loss: 0.1156 - val_acc: 0.9696\n",
            "Epoch 515/1500\n",
            "12149/12149 [==============================] - 6s 473us/step - loss: 0.0873 - acc: 0.9746 - val_loss: 0.1156 - val_acc: 0.9704\n",
            "Epoch 516/1500\n",
            "12149/12149 [==============================] - 6s 472us/step - loss: 0.0879 - acc: 0.9755 - val_loss: 0.1147 - val_acc: 0.9681\n",
            "Epoch 517/1500\n",
            "12149/12149 [==============================] - 6s 471us/step - loss: 0.0872 - acc: 0.9752 - val_loss: 0.1202 - val_acc: 0.9689\n",
            "Epoch 518/1500\n",
            "12149/12149 [==============================] - 6s 468us/step - loss: 0.0873 - acc: 0.9752 - val_loss: 0.1205 - val_acc: 0.9652\n",
            "Epoch 519/1500\n",
            "12149/12149 [==============================] - 6s 474us/step - loss: 0.0877 - acc: 0.9746 - val_loss: 0.1155 - val_acc: 0.9689\n",
            "Epoch 520/1500\n",
            "12149/12149 [==============================] - 6s 471us/step - loss: 0.0875 - acc: 0.9749 - val_loss: 0.1149 - val_acc: 0.9689\n",
            "Epoch 521/1500\n",
            "12149/12149 [==============================] - 6s 467us/step - loss: 0.0873 - acc: 0.9749 - val_loss: 0.1164 - val_acc: 0.9696\n",
            "Epoch 522/1500\n",
            "12149/12149 [==============================] - 6s 475us/step - loss: 0.0875 - acc: 0.9751 - val_loss: 0.1156 - val_acc: 0.9644\n",
            "Epoch 523/1500\n",
            "12149/12149 [==============================] - 6s 475us/step - loss: 0.0870 - acc: 0.9756 - val_loss: 0.1173 - val_acc: 0.9689\n",
            "Epoch 524/1500\n",
            "12149/12149 [==============================] - 6s 480us/step - loss: 0.0879 - acc: 0.9751 - val_loss: 0.1168 - val_acc: 0.9681\n",
            "Epoch 525/1500\n",
            "12149/12149 [==============================] - 6s 470us/step - loss: 0.0881 - acc: 0.9751 - val_loss: 0.1156 - val_acc: 0.9674\n",
            "Epoch 526/1500\n",
            "12149/12149 [==============================] - 6s 471us/step - loss: 0.0872 - acc: 0.9762 - val_loss: 0.1169 - val_acc: 0.9704\n",
            "Epoch 527/1500\n",
            "12149/12149 [==============================] - 6s 472us/step - loss: 0.0870 - acc: 0.9749 - val_loss: 0.1198 - val_acc: 0.9674\n",
            "Epoch 528/1500\n",
            "12149/12149 [==============================] - 6s 470us/step - loss: 0.0872 - acc: 0.9756 - val_loss: 0.1169 - val_acc: 0.9689\n",
            "Epoch 529/1500\n",
            "12149/12149 [==============================] - 6s 467us/step - loss: 0.0887 - acc: 0.9742 - val_loss: 0.1189 - val_acc: 0.9689\n",
            "Epoch 530/1500\n",
            "12149/12149 [==============================] - 6s 489us/step - loss: 0.0870 - acc: 0.9757 - val_loss: 0.1155 - val_acc: 0.9681\n",
            "Epoch 531/1500\n",
            "12149/12149 [==============================] - 6s 473us/step - loss: 0.0873 - acc: 0.9748 - val_loss: 0.1163 - val_acc: 0.9659\n",
            "Epoch 532/1500\n",
            "12149/12149 [==============================] - 6s 476us/step - loss: 0.0875 - acc: 0.9751 - val_loss: 0.1152 - val_acc: 0.9696\n",
            "Epoch 533/1500\n",
            "12149/12149 [==============================] - 6s 473us/step - loss: 0.0870 - acc: 0.9748 - val_loss: 0.1133 - val_acc: 0.9696\n",
            "Epoch 534/1500\n",
            "12149/12149 [==============================] - 6s 472us/step - loss: 0.0872 - acc: 0.9748 - val_loss: 0.1155 - val_acc: 0.9704\n",
            "Epoch 535/1500\n",
            "12149/12149 [==============================] - 6s 468us/step - loss: 0.0874 - acc: 0.9748 - val_loss: 0.1230 - val_acc: 0.9674\n",
            "Epoch 536/1500\n",
            "12149/12149 [==============================] - 6s 473us/step - loss: 0.0873 - acc: 0.9751 - val_loss: 0.1165 - val_acc: 0.9689\n",
            "Epoch 537/1500\n",
            "12149/12149 [==============================] - 6s 490us/step - loss: 0.0873 - acc: 0.9755 - val_loss: 0.1142 - val_acc: 0.9704\n",
            "Epoch 538/1500\n",
            "12149/12149 [==============================] - 6s 472us/step - loss: 0.0866 - acc: 0.9753 - val_loss: 0.1165 - val_acc: 0.9681\n",
            "Epoch 539/1500\n",
            "12149/12149 [==============================] - 6s 466us/step - loss: 0.0881 - acc: 0.9755 - val_loss: 0.1150 - val_acc: 0.9681\n",
            "Epoch 540/1500\n",
            "12149/12149 [==============================] - 6s 470us/step - loss: 0.0876 - acc: 0.9753 - val_loss: 0.1135 - val_acc: 0.9704\n",
            "Epoch 541/1500\n",
            "12149/12149 [==============================] - 6s 469us/step - loss: 0.0865 - acc: 0.9756 - val_loss: 0.1164 - val_acc: 0.9696\n",
            "Epoch 542/1500\n",
            "12149/12149 [==============================] - 6s 469us/step - loss: 0.0867 - acc: 0.9753 - val_loss: 0.1158 - val_acc: 0.9689\n",
            "Epoch 543/1500\n",
            "12149/12149 [==============================] - 6s 494us/step - loss: 0.0874 - acc: 0.9749 - val_loss: 0.1190 - val_acc: 0.9652\n",
            "Epoch 544/1500\n",
            "12149/12149 [==============================] - 6s 470us/step - loss: 0.0869 - acc: 0.9748 - val_loss: 0.1186 - val_acc: 0.9689\n",
            "Epoch 545/1500\n",
            "12149/12149 [==============================] - 6s 476us/step - loss: 0.0871 - acc: 0.9748 - val_loss: 0.1187 - val_acc: 0.9681\n",
            "Epoch 546/1500\n",
            "12149/12149 [==============================] - 6s 470us/step - loss: 0.0870 - acc: 0.9760 - val_loss: 0.1157 - val_acc: 0.9711\n",
            "Epoch 547/1500\n",
            "12149/12149 [==============================] - 6s 473us/step - loss: 0.0867 - acc: 0.9751 - val_loss: 0.1156 - val_acc: 0.9674\n",
            "Epoch 548/1500\n",
            "12149/12149 [==============================] - 6s 468us/step - loss: 0.0875 - acc: 0.9749 - val_loss: 0.1150 - val_acc: 0.9696\n",
            "Epoch 549/1500\n",
            "12149/12149 [==============================] - 7s 542us/step - loss: 0.0862 - acc: 0.9764 - val_loss: 0.1177 - val_acc: 0.9696\n",
            "Epoch 550/1500\n",
            "12149/12149 [==============================] - 6s 527us/step - loss: 0.0874 - acc: 0.9751 - val_loss: 0.1209 - val_acc: 0.9689\n",
            "Epoch 551/1500\n",
            "12149/12149 [==============================] - 6s 470us/step - loss: 0.0870 - acc: 0.9747 - val_loss: 0.1170 - val_acc: 0.9689\n",
            "Epoch 552/1500\n",
            "12149/12149 [==============================] - 6s 472us/step - loss: 0.0867 - acc: 0.9758 - val_loss: 0.1159 - val_acc: 0.9681\n",
            "Epoch 553/1500\n",
            "12149/12149 [==============================] - 6s 474us/step - loss: 0.0868 - acc: 0.9751 - val_loss: 0.1176 - val_acc: 0.9681\n",
            "Epoch 554/1500\n",
            "12149/12149 [==============================] - 6s 470us/step - loss: 0.0877 - acc: 0.9754 - val_loss: 0.1151 - val_acc: 0.9674\n",
            "Epoch 555/1500\n",
            "12149/12149 [==============================] - 6s 472us/step - loss: 0.0880 - acc: 0.9743 - val_loss: 0.1154 - val_acc: 0.9681\n",
            "Epoch 556/1500\n",
            "12149/12149 [==============================] - 6s 481us/step - loss: 0.0873 - acc: 0.9751 - val_loss: 0.1162 - val_acc: 0.9667\n",
            "Epoch 557/1500\n",
            "12149/12149 [==============================] - 6s 469us/step - loss: 0.0874 - acc: 0.9751 - val_loss: 0.1156 - val_acc: 0.9674\n",
            "Epoch 558/1500\n",
            "12149/12149 [==============================] - 6s 466us/step - loss: 0.0868 - acc: 0.9752 - val_loss: 0.1150 - val_acc: 0.9696\n",
            "Epoch 559/1500\n",
            "12149/12149 [==============================] - 6s 469us/step - loss: 0.0870 - acc: 0.9755 - val_loss: 0.1318 - val_acc: 0.9674\n",
            "Epoch 560/1500\n",
            "12149/12149 [==============================] - 6s 468us/step - loss: 0.0867 - acc: 0.9751 - val_loss: 0.1254 - val_acc: 0.9659\n",
            "Epoch 561/1500\n",
            "12149/12149 [==============================] - 6s 472us/step - loss: 0.0877 - acc: 0.9751 - val_loss: 0.1194 - val_acc: 0.9696\n",
            "Epoch 562/1500\n",
            "12149/12149 [==============================] - 6s 474us/step - loss: 0.0874 - acc: 0.9759 - val_loss: 0.1154 - val_acc: 0.9689\n",
            "Epoch 563/1500\n",
            "12149/12149 [==============================] - 6s 480us/step - loss: 0.0866 - acc: 0.9746 - val_loss: 0.1176 - val_acc: 0.9689\n",
            "Epoch 564/1500\n",
            "12149/12149 [==============================] - 6s 474us/step - loss: 0.0883 - acc: 0.9751 - val_loss: 0.1160 - val_acc: 0.9681\n",
            "Epoch 565/1500\n",
            "12149/12149 [==============================] - 6s 480us/step - loss: 0.0874 - acc: 0.9751 - val_loss: 0.1161 - val_acc: 0.9674\n",
            "Epoch 566/1500\n",
            "12149/12149 [==============================] - 6s 472us/step - loss: 0.0872 - acc: 0.9751 - val_loss: 0.1201 - val_acc: 0.9659\n",
            "Epoch 567/1500\n",
            "12149/12149 [==============================] - 6s 474us/step - loss: 0.0871 - acc: 0.9750 - val_loss: 0.1171 - val_acc: 0.9689\n",
            "Epoch 568/1500\n",
            "12149/12149 [==============================] - 6s 469us/step - loss: 0.0874 - acc: 0.9753 - val_loss: 0.1164 - val_acc: 0.9689\n",
            "Epoch 569/1500\n",
            "12149/12149 [==============================] - 6s 477us/step - loss: 0.0868 - acc: 0.9756 - val_loss: 0.1161 - val_acc: 0.9689\n",
            "Epoch 570/1500\n",
            "12149/12149 [==============================] - 6s 466us/step - loss: 0.0875 - acc: 0.9746 - val_loss: 0.1238 - val_acc: 0.9667\n",
            "Epoch 571/1500\n",
            "12149/12149 [==============================] - 6s 468us/step - loss: 0.0878 - acc: 0.9748 - val_loss: 0.1167 - val_acc: 0.9689\n",
            "Epoch 572/1500\n",
            "12149/12149 [==============================] - 6s 471us/step - loss: 0.0862 - acc: 0.9749 - val_loss: 0.1157 - val_acc: 0.9704\n",
            "Epoch 573/1500\n",
            "12149/12149 [==============================] - 6s 473us/step - loss: 0.0878 - acc: 0.9754 - val_loss: 0.1180 - val_acc: 0.9681\n",
            "Epoch 574/1500\n",
            "12149/12149 [==============================] - 6s 472us/step - loss: 0.0865 - acc: 0.9754 - val_loss: 0.1153 - val_acc: 0.9689\n",
            "Epoch 575/1500\n",
            "12149/12149 [==============================] - 6s 480us/step - loss: 0.0871 - acc: 0.9751 - val_loss: 0.1207 - val_acc: 0.9674\n",
            "Epoch 576/1500\n",
            "12149/12149 [==============================] - 6s 470us/step - loss: 0.0868 - acc: 0.9756 - val_loss: 0.1169 - val_acc: 0.9681\n",
            "Epoch 577/1500\n",
            "12149/12149 [==============================] - 6s 466us/step - loss: 0.0879 - acc: 0.9751 - val_loss: 0.1172 - val_acc: 0.9674\n",
            "Epoch 578/1500\n",
            "12149/12149 [==============================] - 6s 468us/step - loss: 0.0873 - acc: 0.9751 - val_loss: 0.1153 - val_acc: 0.9667\n",
            "Epoch 579/1500\n",
            "12149/12149 [==============================] - 6s 470us/step - loss: 0.0873 - acc: 0.9754 - val_loss: 0.1171 - val_acc: 0.9667\n",
            "Epoch 580/1500\n",
            "12149/12149 [==============================] - 6s 467us/step - loss: 0.0876 - acc: 0.9748 - val_loss: 0.1179 - val_acc: 0.9696\n",
            "Epoch 581/1500\n",
            "12149/12149 [==============================] - 6s 477us/step - loss: 0.0865 - acc: 0.9750 - val_loss: 0.1189 - val_acc: 0.9667\n",
            "Epoch 582/1500\n",
            "12149/12149 [==============================] - 6s 467us/step - loss: 0.0874 - acc: 0.9745 - val_loss: 0.1197 - val_acc: 0.9704\n",
            "Epoch 583/1500\n",
            "12149/12149 [==============================] - 6s 468us/step - loss: 0.0866 - acc: 0.9753 - val_loss: 0.1152 - val_acc: 0.9689\n",
            "Epoch 584/1500\n",
            "12149/12149 [==============================] - 6s 470us/step - loss: 0.0869 - acc: 0.9749 - val_loss: 0.1230 - val_acc: 0.9696\n",
            "Epoch 585/1500\n",
            "12149/12149 [==============================] - 6s 471us/step - loss: 0.0876 - acc: 0.9753 - val_loss: 0.1191 - val_acc: 0.9689\n",
            "Epoch 586/1500\n",
            "12149/12149 [==============================] - 6s 474us/step - loss: 0.0876 - acc: 0.9750 - val_loss: 0.1175 - val_acc: 0.9674\n",
            "Epoch 587/1500\n",
            "12149/12149 [==============================] - 6s 474us/step - loss: 0.0873 - acc: 0.9746 - val_loss: 0.1186 - val_acc: 0.9674\n",
            "Epoch 588/1500\n",
            "12149/12149 [==============================] - 6s 464us/step - loss: 0.0867 - acc: 0.9751 - val_loss: 0.1149 - val_acc: 0.9681\n",
            "Epoch 589/1500\n",
            "12149/12149 [==============================] - 6s 466us/step - loss: 0.0866 - acc: 0.9748 - val_loss: 0.1190 - val_acc: 0.9689\n",
            "Epoch 590/1500\n",
            "12149/12149 [==============================] - 6s 469us/step - loss: 0.0862 - acc: 0.9752 - val_loss: 0.1186 - val_acc: 0.9689\n",
            "Epoch 591/1500\n",
            "12149/12149 [==============================] - 6s 462us/step - loss: 0.0876 - acc: 0.9751 - val_loss: 0.1156 - val_acc: 0.9681\n",
            "Epoch 592/1500\n",
            "12149/12149 [==============================] - 6s 468us/step - loss: 0.0868 - acc: 0.9752 - val_loss: 0.1194 - val_acc: 0.9696\n",
            "Epoch 593/1500\n",
            "12149/12149 [==============================] - 6s 483us/step - loss: 0.0866 - acc: 0.9752 - val_loss: 0.1175 - val_acc: 0.9696\n",
            "Epoch 594/1500\n",
            "12149/12149 [==============================] - 6s 469us/step - loss: 0.0873 - acc: 0.9752 - val_loss: 0.1148 - val_acc: 0.9689\n",
            "Epoch 595/1500\n",
            "12149/12149 [==============================] - 6s 470us/step - loss: 0.0859 - acc: 0.9756 - val_loss: 0.1168 - val_acc: 0.9689\n",
            "Epoch 596/1500\n",
            "12149/12149 [==============================] - 6s 473us/step - loss: 0.0881 - acc: 0.9741 - val_loss: 0.1201 - val_acc: 0.9659\n",
            "Epoch 597/1500\n",
            "12149/12149 [==============================] - 6s 479us/step - loss: 0.0873 - acc: 0.9749 - val_loss: 0.1178 - val_acc: 0.9696\n",
            "Epoch 598/1500\n",
            "12149/12149 [==============================] - 6s 468us/step - loss: 0.0873 - acc: 0.9742 - val_loss: 0.1157 - val_acc: 0.9696\n",
            "Epoch 599/1500\n",
            "12149/12149 [==============================] - 6s 471us/step - loss: 0.0867 - acc: 0.9753 - val_loss: 0.1170 - val_acc: 0.9696\n",
            "Epoch 600/1500\n",
            "12149/12149 [==============================] - 6s 470us/step - loss: 0.0867 - acc: 0.9752 - val_loss: 0.1233 - val_acc: 0.9689\n",
            "Epoch 601/1500\n",
            "12149/12149 [==============================] - 6s 471us/step - loss: 0.0870 - acc: 0.9755 - val_loss: 0.1173 - val_acc: 0.9689\n",
            "Epoch 602/1500\n",
            "12149/12149 [==============================] - 6s 523us/step - loss: 0.0872 - acc: 0.9751 - val_loss: 0.1160 - val_acc: 0.9674\n",
            "Epoch 603/1500\n",
            "12149/12149 [==============================] - 6s 525us/step - loss: 0.0867 - acc: 0.9752 - val_loss: 0.1155 - val_acc: 0.9696\n",
            "Epoch 604/1500\n",
            "12149/12149 [==============================] - 6s 512us/step - loss: 0.0867 - acc: 0.9750 - val_loss: 0.1163 - val_acc: 0.9681\n",
            "Epoch 605/1500\n",
            "12149/12149 [==============================] - 6s 468us/step - loss: 0.0870 - acc: 0.9751 - val_loss: 0.1183 - val_acc: 0.9689\n",
            "Epoch 606/1500\n",
            "12149/12149 [==============================] - 6s 472us/step - loss: 0.0863 - acc: 0.9748 - val_loss: 0.1173 - val_acc: 0.9667\n",
            "Epoch 607/1500\n",
            "12149/12149 [==============================] - 6s 476us/step - loss: 0.0864 - acc: 0.9749 - val_loss: 0.1179 - val_acc: 0.9667\n",
            "Epoch 608/1500\n",
            "12149/12149 [==============================] - 6s 472us/step - loss: 0.0866 - acc: 0.9743 - val_loss: 0.1172 - val_acc: 0.9681\n",
            "Epoch 609/1500\n",
            "12149/12149 [==============================] - 6s 471us/step - loss: 0.0868 - acc: 0.9753 - val_loss: 0.1171 - val_acc: 0.9696\n",
            "Epoch 610/1500\n",
            "12149/12149 [==============================] - 6s 484us/step - loss: 0.0873 - acc: 0.9745 - val_loss: 0.1178 - val_acc: 0.9659\n",
            "Epoch 611/1500\n",
            "12149/12149 [==============================] - 6s 470us/step - loss: 0.0869 - acc: 0.9751 - val_loss: 0.1178 - val_acc: 0.9659\n",
            "Epoch 612/1500\n",
            "12149/12149 [==============================] - 6s 465us/step - loss: 0.0864 - acc: 0.9757 - val_loss: 0.1212 - val_acc: 0.9674\n",
            "Epoch 613/1500\n",
            "12149/12149 [==============================] - 6s 471us/step - loss: 0.0861 - acc: 0.9753 - val_loss: 0.1183 - val_acc: 0.9674\n",
            "Epoch 614/1500\n",
            "12149/12149 [==============================] - 6s 472us/step - loss: 0.0869 - acc: 0.9753 - val_loss: 0.1197 - val_acc: 0.9659\n",
            "Epoch 615/1500\n",
            "12149/12149 [==============================] - 6s 473us/step - loss: 0.0872 - acc: 0.9749 - val_loss: 0.1185 - val_acc: 0.9659\n",
            "Epoch 616/1500\n",
            "12149/12149 [==============================] - 6s 481us/step - loss: 0.0874 - acc: 0.9748 - val_loss: 0.1159 - val_acc: 0.9681\n",
            "Epoch 617/1500\n",
            "12149/12149 [==============================] - 6s 477us/step - loss: 0.0863 - acc: 0.9749 - val_loss: 0.1158 - val_acc: 0.9696\n",
            "Epoch 618/1500\n",
            "12149/12149 [==============================] - 6s 470us/step - loss: 0.0868 - acc: 0.9746 - val_loss: 0.1193 - val_acc: 0.9674\n",
            "Epoch 619/1500\n",
            "12149/12149 [==============================] - 6s 469us/step - loss: 0.0866 - acc: 0.9754 - val_loss: 0.1158 - val_acc: 0.9696\n",
            "Epoch 620/1500\n",
            "12149/12149 [==============================] - 6s 468us/step - loss: 0.0857 - acc: 0.9759 - val_loss: 0.1193 - val_acc: 0.9681\n",
            "Epoch 621/1500\n",
            "12149/12149 [==============================] - 6s 470us/step - loss: 0.0862 - acc: 0.9753 - val_loss: 0.1172 - val_acc: 0.9681\n",
            "Epoch 622/1500\n",
            "12149/12149 [==============================] - 6s 468us/step - loss: 0.0876 - acc: 0.9751 - val_loss: 0.1167 - val_acc: 0.9674\n",
            "Epoch 623/1500\n",
            "12149/12149 [==============================] - 6s 483us/step - loss: 0.0877 - acc: 0.9751 - val_loss: 0.1145 - val_acc: 0.9711\n",
            "Epoch 624/1500\n",
            "12149/12149 [==============================] - 6s 472us/step - loss: 0.0861 - acc: 0.9759 - val_loss: 0.1183 - val_acc: 0.9681\n",
            "Epoch 625/1500\n",
            "12149/12149 [==============================] - 6s 473us/step - loss: 0.0868 - acc: 0.9749 - val_loss: 0.1180 - val_acc: 0.9696\n",
            "Epoch 626/1500\n",
            "12149/12149 [==============================] - 6s 475us/step - loss: 0.0868 - acc: 0.9758 - val_loss: 0.1214 - val_acc: 0.9637\n",
            "Epoch 627/1500\n",
            "12149/12149 [==============================] - 6s 474us/step - loss: 0.0866 - acc: 0.9753 - val_loss: 0.1168 - val_acc: 0.9689\n",
            "Epoch 628/1500\n",
            "12149/12149 [==============================] - 6s 478us/step - loss: 0.0855 - acc: 0.9756 - val_loss: 0.1164 - val_acc: 0.9696\n",
            "Epoch 629/1500\n",
            "12149/12149 [==============================] - 6s 485us/step - loss: 0.0866 - acc: 0.9754 - val_loss: 0.1171 - val_acc: 0.9659\n",
            "Epoch 630/1500\n",
            "12149/12149 [==============================] - 6s 471us/step - loss: 0.0865 - acc: 0.9752 - val_loss: 0.1207 - val_acc: 0.9681\n",
            "Epoch 631/1500\n",
            "12149/12149 [==============================] - 6s 468us/step - loss: 0.0869 - acc: 0.9746 - val_loss: 0.1184 - val_acc: 0.9681\n",
            "Epoch 632/1500\n",
            "12149/12149 [==============================] - 6s 465us/step - loss: 0.0863 - acc: 0.9759 - val_loss: 0.1203 - val_acc: 0.9674\n",
            "Epoch 633/1500\n",
            "12149/12149 [==============================] - 6s 463us/step - loss: 0.0876 - acc: 0.9748 - val_loss: 0.1173 - val_acc: 0.9667\n",
            "Epoch 634/1500\n",
            "12149/12149 [==============================] - 6s 468us/step - loss: 0.0868 - acc: 0.9756 - val_loss: 0.1204 - val_acc: 0.9652\n",
            "Epoch 635/1500\n",
            "12149/12149 [==============================] - 6s 479us/step - loss: 0.0861 - acc: 0.9752 - val_loss: 0.1177 - val_acc: 0.9681\n",
            "Epoch 636/1500\n",
            "12149/12149 [==============================] - 6s 467us/step - loss: 0.0872 - acc: 0.9750 - val_loss: 0.1182 - val_acc: 0.9659\n",
            "Epoch 637/1500\n",
            "12149/12149 [==============================] - 6s 474us/step - loss: 0.0863 - acc: 0.9755 - val_loss: 0.1171 - val_acc: 0.9689\n",
            "Epoch 638/1500\n",
            "12149/12149 [==============================] - 6s 469us/step - loss: 0.0866 - acc: 0.9749 - val_loss: 0.1185 - val_acc: 0.9704\n",
            "Epoch 639/1500\n",
            "12149/12149 [==============================] - 6s 473us/step - loss: 0.0871 - acc: 0.9745 - val_loss: 0.1163 - val_acc: 0.9689\n",
            "Epoch 640/1500\n",
            "12149/12149 [==============================] - 6s 470us/step - loss: 0.0872 - acc: 0.9751 - val_loss: 0.1161 - val_acc: 0.9704\n",
            "Epoch 641/1500\n",
            "12149/12149 [==============================] - 6s 477us/step - loss: 0.0861 - acc: 0.9754 - val_loss: 0.1198 - val_acc: 0.9674\n",
            "Epoch 642/1500\n",
            "12149/12149 [==============================] - 6s 471us/step - loss: 0.0862 - acc: 0.9750 - val_loss: 0.1162 - val_acc: 0.9681\n",
            "Epoch 643/1500\n",
            "12149/12149 [==============================] - 6s 466us/step - loss: 0.0866 - acc: 0.9746 - val_loss: 0.1159 - val_acc: 0.9681\n",
            "Epoch 644/1500\n",
            "12149/12149 [==============================] - 6s 470us/step - loss: 0.0862 - acc: 0.9751 - val_loss: 0.1167 - val_acc: 0.9681\n",
            "Epoch 645/1500\n",
            "12149/12149 [==============================] - 6s 474us/step - loss: 0.0865 - acc: 0.9752 - val_loss: 0.1198 - val_acc: 0.9674\n",
            "Epoch 646/1500\n",
            "12149/12149 [==============================] - 6s 473us/step - loss: 0.0865 - acc: 0.9750 - val_loss: 0.1185 - val_acc: 0.9667\n",
            "Epoch 647/1500\n",
            "12149/12149 [==============================] - 6s 470us/step - loss: 0.0867 - acc: 0.9746 - val_loss: 0.1147 - val_acc: 0.9689\n",
            "Epoch 648/1500\n",
            "12149/12149 [==============================] - 6s 469us/step - loss: 0.0866 - acc: 0.9744 - val_loss: 0.1155 - val_acc: 0.9711\n",
            "Epoch 649/1500\n",
            "12149/12149 [==============================] - 6s 487us/step - loss: 0.0872 - acc: 0.9746 - val_loss: 0.1223 - val_acc: 0.9667\n",
            "Epoch 650/1500\n",
            "12149/12149 [==============================] - 6s 470us/step - loss: 0.0870 - acc: 0.9752 - val_loss: 0.1178 - val_acc: 0.9667\n",
            "Epoch 651/1500\n",
            "12149/12149 [==============================] - 6s 472us/step - loss: 0.0860 - acc: 0.9750 - val_loss: 0.1179 - val_acc: 0.9667\n",
            "Epoch 652/1500\n",
            "12149/12149 [==============================] - 6s 468us/step - loss: 0.0871 - acc: 0.9742 - val_loss: 0.1159 - val_acc: 0.9667\n",
            "Epoch 653/1500\n",
            "12149/12149 [==============================] - 6s 467us/step - loss: 0.0869 - acc: 0.9751 - val_loss: 0.1196 - val_acc: 0.9674\n",
            "Epoch 654/1500\n",
            "12149/12149 [==============================] - 6s 473us/step - loss: 0.0861 - acc: 0.9749 - val_loss: 0.1168 - val_acc: 0.9696\n",
            "Epoch 655/1500\n",
            "12149/12149 [==============================] - 6s 522us/step - loss: 0.0875 - acc: 0.9742 - val_loss: 0.1152 - val_acc: 0.9689\n",
            "Epoch 656/1500\n",
            "12149/12149 [==============================] - 6s 470us/step - loss: 0.0862 - acc: 0.9745 - val_loss: 0.1219 - val_acc: 0.9681\n",
            "Epoch 657/1500\n",
            "12149/12149 [==============================] - 6s 527us/step - loss: 0.0871 - acc: 0.9749 - val_loss: 0.1229 - val_acc: 0.9659\n",
            "Epoch 658/1500\n",
            "12149/12149 [==============================] - 6s 506us/step - loss: 0.0863 - acc: 0.9745 - val_loss: 0.1189 - val_acc: 0.9681\n",
            "Epoch 659/1500\n",
            "12149/12149 [==============================] - 6s 471us/step - loss: 0.0876 - acc: 0.9751 - val_loss: 0.1170 - val_acc: 0.9696\n",
            "Epoch 660/1500\n",
            "12149/12149 [==============================] - 6s 468us/step - loss: 0.0864 - acc: 0.9750 - val_loss: 0.1189 - val_acc: 0.9674\n",
            "Epoch 661/1500\n",
            "12149/12149 [==============================] - 6s 472us/step - loss: 0.0864 - acc: 0.9740 - val_loss: 0.1180 - val_acc: 0.9681\n",
            "Epoch 662/1500\n",
            "12149/12149 [==============================] - 6s 465us/step - loss: 0.0870 - acc: 0.9749 - val_loss: 0.1171 - val_acc: 0.9681\n",
            "Epoch 663/1500\n",
            "12149/12149 [==============================] - 6s 480us/step - loss: 0.0860 - acc: 0.9752 - val_loss: 0.1200 - val_acc: 0.9681\n",
            "Epoch 664/1500\n",
            "12149/12149 [==============================] - 6s 473us/step - loss: 0.0874 - acc: 0.9737 - val_loss: 0.1223 - val_acc: 0.9644\n",
            "Epoch 665/1500\n",
            "12149/12149 [==============================] - 6s 473us/step - loss: 0.0867 - acc: 0.9744 - val_loss: 0.1197 - val_acc: 0.9667\n",
            "Epoch 666/1500\n",
            "12149/12149 [==============================] - 6s 469us/step - loss: 0.0855 - acc: 0.9759 - val_loss: 0.1234 - val_acc: 0.9659\n",
            "Epoch 667/1500\n",
            "12149/12149 [==============================] - 6s 466us/step - loss: 0.0869 - acc: 0.9743 - val_loss: 0.1189 - val_acc: 0.9667\n",
            "Epoch 668/1500\n",
            "12149/12149 [==============================] - 6s 468us/step - loss: 0.0873 - acc: 0.9749 - val_loss: 0.1179 - val_acc: 0.9681\n",
            "Epoch 669/1500\n",
            "12149/12149 [==============================] - 6s 470us/step - loss: 0.0867 - acc: 0.9756 - val_loss: 0.1170 - val_acc: 0.9681\n",
            "Epoch 670/1500\n",
            "12149/12149 [==============================] - 6s 482us/step - loss: 0.0863 - acc: 0.9747 - val_loss: 0.1173 - val_acc: 0.9689\n",
            "Epoch 671/1500\n",
            "12149/12149 [==============================] - 6s 466us/step - loss: 0.0874 - acc: 0.9746 - val_loss: 0.1175 - val_acc: 0.9681\n",
            "Epoch 672/1500\n",
            "12149/12149 [==============================] - 6s 469us/step - loss: 0.0863 - acc: 0.9751 - val_loss: 0.1196 - val_acc: 0.9681\n",
            "Epoch 673/1500\n",
            "12149/12149 [==============================] - 6s 470us/step - loss: 0.0861 - acc: 0.9748 - val_loss: 0.1169 - val_acc: 0.9674\n",
            "Epoch 674/1500\n",
            "12149/12149 [==============================] - 6s 465us/step - loss: 0.0863 - acc: 0.9750 - val_loss: 0.1234 - val_acc: 0.9667\n",
            "Epoch 675/1500\n",
            "12149/12149 [==============================] - 6s 467us/step - loss: 0.0856 - acc: 0.9749 - val_loss: 0.1164 - val_acc: 0.9681\n",
            "Epoch 676/1500\n",
            "12149/12149 [==============================] - 6s 475us/step - loss: 0.0863 - acc: 0.9748 - val_loss: 0.1184 - val_acc: 0.9689\n",
            "Epoch 677/1500\n",
            "12149/12149 [==============================] - 6s 470us/step - loss: 0.0866 - acc: 0.9742 - val_loss: 0.1192 - val_acc: 0.9689\n",
            "Epoch 678/1500\n",
            "12149/12149 [==============================] - 6s 468us/step - loss: 0.0862 - acc: 0.9748 - val_loss: 0.1226 - val_acc: 0.9674\n",
            "Epoch 679/1500\n",
            "12149/12149 [==============================] - 6s 467us/step - loss: 0.0869 - acc: 0.9749 - val_loss: 0.1172 - val_acc: 0.9696\n",
            "Epoch 680/1500\n",
            "12149/12149 [==============================] - 6s 473us/step - loss: 0.0867 - acc: 0.9745 - val_loss: 0.1201 - val_acc: 0.9674\n",
            "Epoch 681/1500\n",
            "12149/12149 [==============================] - 6s 468us/step - loss: 0.0866 - acc: 0.9751 - val_loss: 0.1195 - val_acc: 0.9644\n",
            "Epoch 682/1500\n",
            "12149/12149 [==============================] - 6s 470us/step - loss: 0.0868 - acc: 0.9746 - val_loss: 0.1175 - val_acc: 0.9681\n",
            "Epoch 683/1500\n",
            "12149/12149 [==============================] - 6s 471us/step - loss: 0.0866 - acc: 0.9747 - val_loss: 0.1199 - val_acc: 0.9689\n",
            "Epoch 684/1500\n",
            "12149/12149 [==============================] - 6s 470us/step - loss: 0.0868 - acc: 0.9745 - val_loss: 0.1184 - val_acc: 0.9689\n",
            "Epoch 685/1500\n",
            "12149/12149 [==============================] - 6s 463us/step - loss: 0.0866 - acc: 0.9749 - val_loss: 0.1170 - val_acc: 0.9681\n",
            "Epoch 686/1500\n",
            "12149/12149 [==============================] - 6s 472us/step - loss: 0.0857 - acc: 0.9756 - val_loss: 0.1161 - val_acc: 0.9696\n",
            "Epoch 687/1500\n",
            "12149/12149 [==============================] - 6s 477us/step - loss: 0.0869 - acc: 0.9746 - val_loss: 0.1223 - val_acc: 0.9659\n",
            "Epoch 688/1500\n",
            "12149/12149 [==============================] - 6s 477us/step - loss: 0.0868 - acc: 0.9751 - val_loss: 0.1173 - val_acc: 0.9674\n",
            "Epoch 689/1500\n",
            "12149/12149 [==============================] - 6s 472us/step - loss: 0.0857 - acc: 0.9750 - val_loss: 0.1172 - val_acc: 0.9681\n",
            "Epoch 690/1500\n",
            "12149/12149 [==============================] - 6s 477us/step - loss: 0.0870 - acc: 0.9750 - val_loss: 0.1213 - val_acc: 0.9689\n",
            "Epoch 691/1500\n",
            "12149/12149 [==============================] - 6s 476us/step - loss: 0.0872 - acc: 0.9749 - val_loss: 0.1172 - val_acc: 0.9696\n",
            "Epoch 692/1500\n",
            "12149/12149 [==============================] - 6s 463us/step - loss: 0.0856 - acc: 0.9749 - val_loss: 0.1196 - val_acc: 0.9667\n",
            "Epoch 693/1500\n",
            "12149/12149 [==============================] - 6s 468us/step - loss: 0.0873 - acc: 0.9744 - val_loss: 0.1198 - val_acc: 0.9674\n",
            "Epoch 694/1500\n",
            "12149/12149 [==============================] - 6s 469us/step - loss: 0.0858 - acc: 0.9758 - val_loss: 0.1161 - val_acc: 0.9681\n",
            "Epoch 695/1500\n",
            "12149/12149 [==============================] - 6s 470us/step - loss: 0.0870 - acc: 0.9756 - val_loss: 0.1169 - val_acc: 0.9704\n",
            "Epoch 696/1500\n",
            "12149/12149 [==============================] - 6s 467us/step - loss: 0.0855 - acc: 0.9756 - val_loss: 0.1201 - val_acc: 0.9674\n",
            "Epoch 697/1500\n",
            "12149/12149 [==============================] - 6s 469us/step - loss: 0.0862 - acc: 0.9755 - val_loss: 0.1166 - val_acc: 0.9667\n",
            "Epoch 698/1500\n",
            "12149/12149 [==============================] - 6s 470us/step - loss: 0.0875 - acc: 0.9746 - val_loss: 0.1191 - val_acc: 0.9652\n",
            "Epoch 699/1500\n",
            "12149/12149 [==============================] - 6s 472us/step - loss: 0.0866 - acc: 0.9746 - val_loss: 0.1196 - val_acc: 0.9696\n",
            "Epoch 700/1500\n",
            "12149/12149 [==============================] - 6s 478us/step - loss: 0.0856 - acc: 0.9747 - val_loss: 0.1169 - val_acc: 0.9667\n",
            "Epoch 701/1500\n",
            "12149/12149 [==============================] - 6s 480us/step - loss: 0.0875 - acc: 0.9756 - val_loss: 0.1188 - val_acc: 0.9681\n",
            "Epoch 702/1500\n",
            "12149/12149 [==============================] - 6s 477us/step - loss: 0.0862 - acc: 0.9742 - val_loss: 0.1176 - val_acc: 0.9674\n",
            "Epoch 703/1500\n",
            "12149/12149 [==============================] - 6s 466us/step - loss: 0.0858 - acc: 0.9746 - val_loss: 0.1185 - val_acc: 0.9681\n",
            "Epoch 704/1500\n",
            "12149/12149 [==============================] - 6s 468us/step - loss: 0.0869 - acc: 0.9739 - val_loss: 0.1209 - val_acc: 0.9674\n",
            "Epoch 705/1500\n",
            "12149/12149 [==============================] - 6s 476us/step - loss: 0.0856 - acc: 0.9757 - val_loss: 0.1168 - val_acc: 0.9696\n",
            "Epoch 706/1500\n",
            "12149/12149 [==============================] - 6s 464us/step - loss: 0.0863 - acc: 0.9752 - val_loss: 0.1168 - val_acc: 0.9681\n",
            "Epoch 707/1500\n",
            "12149/12149 [==============================] - 6s 492us/step - loss: 0.0869 - acc: 0.9751 - val_loss: 0.1197 - val_acc: 0.9681\n",
            "Epoch 708/1500\n",
            "12149/12149 [==============================] - 6s 527us/step - loss: 0.0878 - acc: 0.9739 - val_loss: 0.1182 - val_acc: 0.9696\n",
            "Epoch 709/1500\n",
            "12149/12149 [==============================] - 6s 489us/step - loss: 0.0877 - acc: 0.9746 - val_loss: 0.1212 - val_acc: 0.9674\n",
            "Epoch 710/1500\n",
            "12149/12149 [==============================] - 6s 505us/step - loss: 0.0872 - acc: 0.9748 - val_loss: 0.1258 - val_acc: 0.9667\n",
            "Epoch 711/1500\n",
            "12149/12149 [==============================] - 6s 535us/step - loss: 0.0857 - acc: 0.9761 - val_loss: 0.1170 - val_acc: 0.9667\n",
            "Epoch 712/1500\n",
            "12149/12149 [==============================] - 6s 496us/step - loss: 0.0862 - acc: 0.9753 - val_loss: 0.1146 - val_acc: 0.9674\n",
            "Epoch 713/1500\n",
            "12149/12149 [==============================] - 6s 478us/step - loss: 0.0867 - acc: 0.9749 - val_loss: 0.1166 - val_acc: 0.9689\n",
            "Epoch 714/1500\n",
            "12149/12149 [==============================] - 6s 476us/step - loss: 0.0864 - acc: 0.9751 - val_loss: 0.1140 - val_acc: 0.9681\n",
            "Epoch 715/1500\n",
            "12149/12149 [==============================] - 6s 476us/step - loss: 0.0869 - acc: 0.9745 - val_loss: 0.1165 - val_acc: 0.9681\n",
            "Epoch 716/1500\n",
            "12149/12149 [==============================] - 6s 475us/step - loss: 0.0877 - acc: 0.9744 - val_loss: 0.1208 - val_acc: 0.9689\n",
            "Epoch 717/1500\n",
            "12149/12149 [==============================] - 6s 477us/step - loss: 0.0867 - acc: 0.9749 - val_loss: 0.1161 - val_acc: 0.9696\n",
            "Epoch 718/1500\n",
            "12149/12149 [==============================] - 6s 477us/step - loss: 0.0859 - acc: 0.9752 - val_loss: 0.1192 - val_acc: 0.9681\n",
            "Epoch 719/1500\n",
            "12149/12149 [==============================] - 6s 471us/step - loss: 0.0865 - acc: 0.9753 - val_loss: 0.1204 - val_acc: 0.9689\n",
            "Epoch 720/1500\n",
            "12149/12149 [==============================] - 6s 476us/step - loss: 0.0861 - acc: 0.9745 - val_loss: 0.1206 - val_acc: 0.9652\n",
            "Epoch 721/1500\n",
            "12149/12149 [==============================] - 6s 482us/step - loss: 0.0870 - acc: 0.9745 - val_loss: 0.1220 - val_acc: 0.9681\n",
            "Epoch 722/1500\n",
            "12149/12149 [==============================] - 6s 485us/step - loss: 0.0876 - acc: 0.9740 - val_loss: 0.1180 - val_acc: 0.9659\n",
            "Epoch 723/1500\n",
            "12149/12149 [==============================] - 6s 482us/step - loss: 0.0860 - acc: 0.9753 - val_loss: 0.1182 - val_acc: 0.9674\n",
            "Epoch 724/1500\n",
            "12149/12149 [==============================] - 6s 472us/step - loss: 0.0855 - acc: 0.9746 - val_loss: 0.1186 - val_acc: 0.9681\n",
            "Epoch 725/1500\n",
            "12149/12149 [==============================] - 6s 468us/step - loss: 0.0875 - acc: 0.9744 - val_loss: 0.1156 - val_acc: 0.9696\n",
            "Epoch 726/1500\n",
            "12149/12149 [==============================] - 6s 474us/step - loss: 0.0863 - acc: 0.9751 - val_loss: 0.1191 - val_acc: 0.9681\n",
            "Epoch 727/1500\n",
            "12149/12149 [==============================] - 6s 470us/step - loss: 0.0863 - acc: 0.9750 - val_loss: 0.1167 - val_acc: 0.9681\n",
            "Epoch 728/1500\n",
            "12149/12149 [==============================] - 6s 476us/step - loss: 0.0857 - acc: 0.9755 - val_loss: 0.1232 - val_acc: 0.9681\n",
            "Epoch 729/1500\n",
            "12149/12149 [==============================] - 6s 472us/step - loss: 0.0855 - acc: 0.9748 - val_loss: 0.1250 - val_acc: 0.9674\n",
            "Epoch 730/1500\n",
            "12149/12149 [==============================] - 6s 472us/step - loss: 0.0886 - acc: 0.9742 - val_loss: 0.1191 - val_acc: 0.9689\n",
            "Epoch 731/1500\n",
            "12149/12149 [==============================] - 6s 479us/step - loss: 0.0874 - acc: 0.9746 - val_loss: 0.1197 - val_acc: 0.9681\n",
            "Epoch 732/1500\n",
            "12149/12149 [==============================] - 6s 482us/step - loss: 0.0858 - acc: 0.9746 - val_loss: 0.1182 - val_acc: 0.9689\n",
            "Epoch 733/1500\n",
            "12149/12149 [==============================] - 6s 478us/step - loss: 0.0859 - acc: 0.9755 - val_loss: 0.1183 - val_acc: 0.9689\n",
            "Epoch 734/1500\n",
            "12149/12149 [==============================] - 6s 477us/step - loss: 0.0860 - acc: 0.9749 - val_loss: 0.1166 - val_acc: 0.9704\n",
            "Epoch 735/1500\n",
            "12149/12149 [==============================] - 6s 468us/step - loss: 0.0861 - acc: 0.9750 - val_loss: 0.1163 - val_acc: 0.9704\n",
            "Epoch 736/1500\n",
            "12149/12149 [==============================] - 6s 469us/step - loss: 0.0869 - acc: 0.9751 - val_loss: 0.1173 - val_acc: 0.9704\n",
            "Epoch 737/1500\n",
            "12149/12149 [==============================] - 6s 467us/step - loss: 0.0858 - acc: 0.9754 - val_loss: 0.1218 - val_acc: 0.9667\n",
            "Epoch 738/1500\n",
            "12149/12149 [==============================] - 6s 472us/step - loss: 0.0865 - acc: 0.9753 - val_loss: 0.1181 - val_acc: 0.9704\n",
            "Epoch 739/1500\n",
            "12149/12149 [==============================] - 6s 479us/step - loss: 0.0874 - acc: 0.9746 - val_loss: 0.1179 - val_acc: 0.9681\n",
            "Epoch 740/1500\n",
            "12149/12149 [==============================] - 6s 471us/step - loss: 0.0854 - acc: 0.9754 - val_loss: 0.1201 - val_acc: 0.9696\n",
            "Epoch 741/1500\n",
            "12149/12149 [==============================] - 6s 475us/step - loss: 0.0868 - acc: 0.9746 - val_loss: 0.1183 - val_acc: 0.9681\n",
            "Epoch 742/1500\n",
            "12149/12149 [==============================] - 6s 478us/step - loss: 0.0865 - acc: 0.9750 - val_loss: 0.1223 - val_acc: 0.9681\n",
            "Epoch 743/1500\n",
            "12149/12149 [==============================] - 6s 469us/step - loss: 0.0855 - acc: 0.9752 - val_loss: 0.1164 - val_acc: 0.9681\n",
            "Epoch 744/1500\n",
            "12149/12149 [==============================] - 6s 478us/step - loss: 0.0860 - acc: 0.9747 - val_loss: 0.1168 - val_acc: 0.9689\n",
            "Epoch 745/1500\n",
            "12149/12149 [==============================] - 6s 471us/step - loss: 0.0858 - acc: 0.9756 - val_loss: 0.1173 - val_acc: 0.9696\n",
            "Epoch 746/1500\n",
            "12149/12149 [==============================] - 6s 471us/step - loss: 0.0859 - acc: 0.9751 - val_loss: 0.1175 - val_acc: 0.9674\n",
            "Epoch 747/1500\n",
            "12149/12149 [==============================] - 6s 465us/step - loss: 0.0860 - acc: 0.9738 - val_loss: 0.1191 - val_acc: 0.9681\n",
            "Epoch 748/1500\n",
            "12149/12149 [==============================] - 6s 470us/step - loss: 0.0860 - acc: 0.9753 - val_loss: 0.1217 - val_acc: 0.9689\n",
            "Epoch 749/1500\n",
            "12149/12149 [==============================] - 6s 468us/step - loss: 0.0857 - acc: 0.9744 - val_loss: 0.1156 - val_acc: 0.9681\n",
            "Epoch 750/1500\n",
            "12149/12149 [==============================] - 6s 466us/step - loss: 0.0854 - acc: 0.9751 - val_loss: 0.1177 - val_acc: 0.9704\n",
            "Epoch 751/1500\n",
            "12149/12149 [==============================] - 6s 470us/step - loss: 0.0862 - acc: 0.9755 - val_loss: 0.1183 - val_acc: 0.9674\n",
            "Epoch 752/1500\n",
            "12149/12149 [==============================] - 6s 478us/step - loss: 0.0867 - acc: 0.9752 - val_loss: 0.1172 - val_acc: 0.9681\n",
            "Epoch 753/1500\n",
            "12149/12149 [==============================] - 6s 484us/step - loss: 0.0859 - acc: 0.9750 - val_loss: 0.1173 - val_acc: 0.9674\n",
            "Epoch 754/1500\n",
            "12149/12149 [==============================] - 6s 472us/step - loss: 0.0856 - acc: 0.9750 - val_loss: 0.1193 - val_acc: 0.9674\n",
            "Epoch 755/1500\n",
            "12149/12149 [==============================] - 6s 482us/step - loss: 0.0861 - acc: 0.9747 - val_loss: 0.1188 - val_acc: 0.9674\n",
            "Epoch 756/1500\n",
            "12149/12149 [==============================] - 6s 470us/step - loss: 0.0861 - acc: 0.9742 - val_loss: 0.1218 - val_acc: 0.9674\n",
            "Epoch 757/1500\n",
            "12149/12149 [==============================] - 6s 468us/step - loss: 0.0860 - acc: 0.9742 - val_loss: 0.1170 - val_acc: 0.9674\n",
            "Epoch 758/1500\n",
            "12149/12149 [==============================] - 6s 468us/step - loss: 0.0864 - acc: 0.9742 - val_loss: 0.1176 - val_acc: 0.9659\n",
            "Epoch 759/1500\n",
            "12149/12149 [==============================] - 6s 466us/step - loss: 0.0859 - acc: 0.9746 - val_loss: 0.1149 - val_acc: 0.9689\n",
            "Epoch 760/1500\n",
            "12149/12149 [==============================] - 6s 484us/step - loss: 0.0861 - acc: 0.9746 - val_loss: 0.1150 - val_acc: 0.9696\n",
            "Epoch 761/1500\n",
            "12149/12149 [==============================] - 6s 512us/step - loss: 0.0859 - acc: 0.9753 - val_loss: 0.1175 - val_acc: 0.9711\n",
            "Epoch 762/1500\n",
            "12149/12149 [==============================] - 6s 472us/step - loss: 0.0865 - acc: 0.9749 - val_loss: 0.1143 - val_acc: 0.9689\n",
            "Epoch 763/1500\n",
            "12149/12149 [==============================] - 6s 481us/step - loss: 0.0860 - acc: 0.9747 - val_loss: 0.1244 - val_acc: 0.9704\n",
            "Epoch 764/1500\n",
            "12149/12149 [==============================] - 6s 514us/step - loss: 0.0873 - acc: 0.9743 - val_loss: 0.1149 - val_acc: 0.9681\n",
            "Epoch 765/1500\n",
            "12149/12149 [==============================] - 6s 522us/step - loss: 0.0859 - acc: 0.9747 - val_loss: 0.1175 - val_acc: 0.9689\n",
            "Epoch 766/1500\n",
            "12149/12149 [==============================] - 6s 473us/step - loss: 0.0867 - acc: 0.9745 - val_loss: 0.1190 - val_acc: 0.9674\n",
            "Epoch 767/1500\n",
            "12149/12149 [==============================] - 6s 469us/step - loss: 0.0863 - acc: 0.9751 - val_loss: 0.1171 - val_acc: 0.9689\n",
            "Epoch 768/1500\n",
            "12149/12149 [==============================] - 6s 472us/step - loss: 0.0856 - acc: 0.9751 - val_loss: 0.1235 - val_acc: 0.9674\n",
            "Epoch 769/1500\n",
            "12149/12149 [==============================] - 6s 470us/step - loss: 0.0875 - acc: 0.9746 - val_loss: 0.1197 - val_acc: 0.9689\n",
            "Epoch 770/1500\n",
            "12149/12149 [==============================] - 6s 470us/step - loss: 0.0855 - acc: 0.9746 - val_loss: 0.1188 - val_acc: 0.9681\n",
            "Epoch 771/1500\n",
            "12149/12149 [==============================] - 6s 470us/step - loss: 0.0868 - acc: 0.9751 - val_loss: 0.1181 - val_acc: 0.9674\n",
            "Epoch 772/1500\n",
            "12149/12149 [==============================] - 6s 474us/step - loss: 0.0859 - acc: 0.9749 - val_loss: 0.1168 - val_acc: 0.9696\n",
            "Epoch 773/1500\n",
            "12149/12149 [==============================] - 6s 485us/step - loss: 0.0855 - acc: 0.9742 - val_loss: 0.1172 - val_acc: 0.9674\n",
            "Epoch 774/1500\n",
            "12149/12149 [==============================] - 6s 485us/step - loss: 0.0860 - acc: 0.9751 - val_loss: 0.1164 - val_acc: 0.9681\n",
            "Epoch 775/1500\n",
            "12149/12149 [==============================] - 6s 476us/step - loss: 0.0868 - acc: 0.9742 - val_loss: 0.1193 - val_acc: 0.9681\n",
            "Epoch 776/1500\n",
            "12149/12149 [==============================] - 6s 470us/step - loss: 0.0853 - acc: 0.9752 - val_loss: 0.1178 - val_acc: 0.9674\n",
            "Epoch 777/1500\n",
            "12149/12149 [==============================] - 6s 470us/step - loss: 0.0852 - acc: 0.9746 - val_loss: 0.1166 - val_acc: 0.9681\n",
            "Epoch 778/1500\n",
            "12149/12149 [==============================] - 6s 471us/step - loss: 0.0872 - acc: 0.9746 - val_loss: 0.1173 - val_acc: 0.9652\n",
            "Epoch 779/1500\n",
            "12149/12149 [==============================] - 6s 471us/step - loss: 0.0859 - acc: 0.9745 - val_loss: 0.1143 - val_acc: 0.9674\n",
            "Epoch 780/1500\n",
            "12149/12149 [==============================] - 6s 469us/step - loss: 0.0859 - acc: 0.9751 - val_loss: 0.1179 - val_acc: 0.9689\n",
            "Epoch 781/1500\n",
            "12149/12149 [==============================] - 6s 478us/step - loss: 0.0870 - acc: 0.9737 - val_loss: 0.1201 - val_acc: 0.9674\n",
            "Epoch 782/1500\n",
            "12149/12149 [==============================] - 6s 473us/step - loss: 0.0873 - acc: 0.9742 - val_loss: 0.1198 - val_acc: 0.9689\n",
            "Epoch 783/1500\n",
            "12149/12149 [==============================] - 6s 480us/step - loss: 0.0872 - acc: 0.9755 - val_loss: 0.1220 - val_acc: 0.9674\n",
            "Epoch 784/1500\n",
            "12149/12149 [==============================] - 6s 481us/step - loss: 0.0854 - acc: 0.9742 - val_loss: 0.1190 - val_acc: 0.9674\n",
            "Epoch 785/1500\n",
            "12149/12149 [==============================] - 6s 470us/step - loss: 0.0862 - acc: 0.9746 - val_loss: 0.1236 - val_acc: 0.9689\n",
            "Epoch 786/1500\n",
            "12149/12149 [==============================] - 6s 481us/step - loss: 0.0870 - acc: 0.9739 - val_loss: 0.1191 - val_acc: 0.9674\n",
            "Epoch 787/1500\n",
            "12149/12149 [==============================] - 6s 468us/step - loss: 0.0869 - acc: 0.9751 - val_loss: 0.1194 - val_acc: 0.9674\n",
            "Epoch 788/1500\n",
            "12149/12149 [==============================] - 6s 471us/step - loss: 0.0861 - acc: 0.9751 - val_loss: 0.1184 - val_acc: 0.9667\n",
            "Epoch 789/1500\n",
            "12149/12149 [==============================] - 6s 479us/step - loss: 0.0855 - acc: 0.9752 - val_loss: 0.1260 - val_acc: 0.9652\n",
            "Epoch 790/1500\n",
            "12149/12149 [==============================] - 6s 469us/step - loss: 0.0864 - acc: 0.9742 - val_loss: 0.1159 - val_acc: 0.9689\n",
            "Epoch 791/1500\n",
            "12149/12149 [==============================] - 6s 468us/step - loss: 0.0853 - acc: 0.9752 - val_loss: 0.1198 - val_acc: 0.9704\n",
            "Epoch 792/1500\n",
            "12149/12149 [==============================] - 6s 470us/step - loss: 0.0864 - acc: 0.9756 - val_loss: 0.1186 - val_acc: 0.9674\n",
            "Epoch 793/1500\n",
            "12149/12149 [==============================] - 6s 475us/step - loss: 0.0853 - acc: 0.9759 - val_loss: 0.1179 - val_acc: 0.9689\n",
            "Epoch 794/1500\n",
            "12149/12149 [==============================] - 6s 480us/step - loss: 0.0867 - acc: 0.9747 - val_loss: 0.1170 - val_acc: 0.9689\n",
            "Epoch 795/1500\n",
            "12149/12149 [==============================] - 6s 472us/step - loss: 0.0856 - acc: 0.9755 - val_loss: 0.1171 - val_acc: 0.9659\n",
            "Epoch 796/1500\n",
            "12149/12149 [==============================] - 6s 484us/step - loss: 0.0865 - acc: 0.9745 - val_loss: 0.1190 - val_acc: 0.9681\n",
            "Epoch 797/1500\n",
            "12149/12149 [==============================] - 6s 470us/step - loss: 0.0865 - acc: 0.9746 - val_loss: 0.1199 - val_acc: 0.9674\n",
            "Epoch 798/1500\n",
            "12149/12149 [==============================] - 6s 472us/step - loss: 0.0854 - acc: 0.9750 - val_loss: 0.1168 - val_acc: 0.9711\n",
            "Epoch 799/1500\n",
            "12149/12149 [==============================] - 6s 468us/step - loss: 0.0866 - acc: 0.9740 - val_loss: 0.1156 - val_acc: 0.9681\n",
            "Epoch 800/1500\n",
            "12149/12149 [==============================] - 6s 472us/step - loss: 0.0858 - acc: 0.9752 - val_loss: 0.1174 - val_acc: 0.9696\n",
            "Epoch 801/1500\n",
            "12149/12149 [==============================] - 6s 469us/step - loss: 0.0859 - acc: 0.9751 - val_loss: 0.1137 - val_acc: 0.9696\n",
            "Epoch 802/1500\n",
            "12149/12149 [==============================] - 6s 473us/step - loss: 0.0864 - acc: 0.9747 - val_loss: 0.1156 - val_acc: 0.9696\n",
            "Epoch 803/1500\n",
            "12149/12149 [==============================] - 6s 477us/step - loss: 0.0856 - acc: 0.9746 - val_loss: 0.1159 - val_acc: 0.9696\n",
            "Epoch 804/1500\n",
            "12149/12149 [==============================] - 6s 473us/step - loss: 0.0855 - acc: 0.9749 - val_loss: 0.1206 - val_acc: 0.9674\n",
            "Epoch 805/1500\n",
            "12149/12149 [==============================] - 6s 478us/step - loss: 0.0863 - acc: 0.9750 - val_loss: 0.1164 - val_acc: 0.9696\n",
            "Epoch 806/1500\n",
            "12149/12149 [==============================] - 6s 474us/step - loss: 0.0852 - acc: 0.9752 - val_loss: 0.1168 - val_acc: 0.9689\n",
            "Epoch 807/1500\n",
            "12149/12149 [==============================] - 6s 472us/step - loss: 0.0855 - acc: 0.9746 - val_loss: 0.1206 - val_acc: 0.9696\n",
            "Epoch 808/1500\n",
            "12149/12149 [==============================] - 6s 482us/step - loss: 0.0859 - acc: 0.9742 - val_loss: 0.1176 - val_acc: 0.9689\n",
            "Epoch 809/1500\n",
            "12149/12149 [==============================] - 6s 470us/step - loss: 0.0875 - acc: 0.9742 - val_loss: 0.1164 - val_acc: 0.9696\n",
            "Epoch 810/1500\n",
            "12149/12149 [==============================] - 6s 469us/step - loss: 0.0858 - acc: 0.9748 - val_loss: 0.1191 - val_acc: 0.9689\n",
            "Epoch 811/1500\n",
            "12149/12149 [==============================] - 6s 474us/step - loss: 0.0855 - acc: 0.9746 - val_loss: 0.1163 - val_acc: 0.9704\n",
            "Epoch 812/1500\n",
            "12149/12149 [==============================] - 6s 475us/step - loss: 0.0866 - acc: 0.9741 - val_loss: 0.1193 - val_acc: 0.9681\n",
            "Epoch 813/1500\n",
            "12149/12149 [==============================] - 6s 504us/step - loss: 0.0848 - acc: 0.9757 - val_loss: 0.1169 - val_acc: 0.9667\n",
            "Epoch 814/1500\n",
            "12149/12149 [==============================] - 6s 490us/step - loss: 0.0853 - acc: 0.9749 - val_loss: 0.1156 - val_acc: 0.9704\n",
            "Epoch 815/1500\n",
            "12149/12149 [==============================] - 6s 480us/step - loss: 0.0867 - acc: 0.9754 - val_loss: 0.1156 - val_acc: 0.9704\n",
            "Epoch 816/1500\n",
            "12149/12149 [==============================] - 6s 469us/step - loss: 0.0852 - acc: 0.9747 - val_loss: 0.1169 - val_acc: 0.9681\n",
            "Epoch 817/1500\n",
            "12149/12149 [==============================] - 6s 474us/step - loss: 0.0855 - acc: 0.9746 - val_loss: 0.1192 - val_acc: 0.9689\n",
            "Epoch 818/1500\n",
            "12149/12149 [==============================] - 6s 534us/step - loss: 0.0854 - acc: 0.9749 - val_loss: 0.1165 - val_acc: 0.9704\n",
            "Epoch 819/1500\n",
            "12149/12149 [==============================] - 6s 494us/step - loss: 0.0876 - acc: 0.9740 - val_loss: 0.1163 - val_acc: 0.9696\n",
            "Epoch 820/1500\n",
            "12149/12149 [==============================] - 6s 463us/step - loss: 0.0857 - acc: 0.9741 - val_loss: 0.1145 - val_acc: 0.9704\n",
            "Epoch 821/1500\n",
            "12149/12149 [==============================] - 6s 465us/step - loss: 0.0856 - acc: 0.9751 - val_loss: 0.1192 - val_acc: 0.9704\n",
            "Epoch 822/1500\n",
            "12149/12149 [==============================] - 6s 469us/step - loss: 0.0858 - acc: 0.9752 - val_loss: 0.1192 - val_acc: 0.9696\n",
            "Epoch 823/1500\n",
            "12149/12149 [==============================] - 6s 470us/step - loss: 0.0879 - acc: 0.9746 - val_loss: 0.1173 - val_acc: 0.9696\n",
            "Epoch 824/1500\n",
            "12149/12149 [==============================] - 6s 479us/step - loss: 0.0851 - acc: 0.9742 - val_loss: 0.1170 - val_acc: 0.9689\n",
            "Epoch 825/1500\n",
            "12149/12149 [==============================] - 6s 470us/step - loss: 0.0858 - acc: 0.9755 - val_loss: 0.1185 - val_acc: 0.9689\n",
            "Epoch 826/1500\n",
            "12149/12149 [==============================] - 6s 470us/step - loss: 0.0879 - acc: 0.9742 - val_loss: 0.1155 - val_acc: 0.9696\n",
            "Epoch 827/1500\n",
            "12149/12149 [==============================] - 6s 471us/step - loss: 0.0864 - acc: 0.9748 - val_loss: 0.1195 - val_acc: 0.9674\n",
            "Epoch 828/1500\n",
            "12149/12149 [==============================] - 6s 470us/step - loss: 0.0859 - acc: 0.9749 - val_loss: 0.1194 - val_acc: 0.9689\n",
            "Epoch 829/1500\n",
            "12149/12149 [==============================] - 6s 485us/step - loss: 0.0856 - acc: 0.9753 - val_loss: 0.1179 - val_acc: 0.9689\n",
            "Epoch 830/1500\n",
            "12149/12149 [==============================] - 6s 490us/step - loss: 0.0858 - acc: 0.9751 - val_loss: 0.1167 - val_acc: 0.9704\n",
            "Epoch 831/1500\n",
            "12149/12149 [==============================] - 6s 485us/step - loss: 0.0855 - acc: 0.9752 - val_loss: 0.1200 - val_acc: 0.9704\n",
            "Epoch 832/1500\n",
            "12149/12149 [==============================] - 6s 485us/step - loss: 0.0866 - acc: 0.9744 - val_loss: 0.1178 - val_acc: 0.9689\n",
            "Epoch 833/1500\n",
            "12149/12149 [==============================] - 6s 483us/step - loss: 0.0852 - acc: 0.9750 - val_loss: 0.1176 - val_acc: 0.9681\n",
            "Epoch 834/1500\n",
            "12149/12149 [==============================] - 6s 493us/step - loss: 0.0863 - acc: 0.9743 - val_loss: 0.1165 - val_acc: 0.9674\n",
            "Epoch 835/1500\n",
            "12149/12149 [==============================] - 6s 489us/step - loss: 0.0850 - acc: 0.9744 - val_loss: 0.1172 - val_acc: 0.9689\n",
            "Epoch 836/1500\n",
            "12149/12149 [==============================] - 6s 491us/step - loss: 0.0859 - acc: 0.9751 - val_loss: 0.1157 - val_acc: 0.9689\n",
            "Epoch 837/1500\n",
            "12149/12149 [==============================] - 6s 486us/step - loss: 0.0859 - acc: 0.9746 - val_loss: 0.1183 - val_acc: 0.9681\n",
            "Epoch 838/1500\n",
            "12149/12149 [==============================] - 6s 480us/step - loss: 0.0857 - acc: 0.9749 - val_loss: 0.1194 - val_acc: 0.9681\n",
            "Epoch 839/1500\n",
            "12149/12149 [==============================] - 6s 487us/step - loss: 0.0856 - acc: 0.9746 - val_loss: 0.1159 - val_acc: 0.9696\n",
            "Epoch 840/1500\n",
            "12149/12149 [==============================] - 6s 498us/step - loss: 0.0859 - acc: 0.9751 - val_loss: 0.1179 - val_acc: 0.9696\n",
            "Epoch 841/1500\n",
            "12149/12149 [==============================] - 6s 487us/step - loss: 0.0861 - acc: 0.9746 - val_loss: 0.1151 - val_acc: 0.9689\n",
            "Epoch 842/1500\n",
            "12149/12149 [==============================] - 6s 485us/step - loss: 0.0871 - acc: 0.9744 - val_loss: 0.1175 - val_acc: 0.9696\n",
            "Epoch 843/1500\n",
            "12149/12149 [==============================] - 6s 486us/step - loss: 0.0852 - acc: 0.9759 - val_loss: 0.1204 - val_acc: 0.9667\n",
            "Epoch 844/1500\n",
            "12149/12149 [==============================] - 6s 485us/step - loss: 0.0850 - acc: 0.9756 - val_loss: 0.1216 - val_acc: 0.9674\n",
            "Epoch 845/1500\n",
            "12149/12149 [==============================] - 6s 492us/step - loss: 0.0860 - acc: 0.9747 - val_loss: 0.1159 - val_acc: 0.9711\n",
            "Epoch 846/1500\n",
            "12149/12149 [==============================] - 6s 496us/step - loss: 0.0853 - acc: 0.9750 - val_loss: 0.1230 - val_acc: 0.9667\n",
            "Epoch 847/1500\n",
            "12149/12149 [==============================] - 6s 492us/step - loss: 0.0860 - acc: 0.9752 - val_loss: 0.1157 - val_acc: 0.9674\n",
            "Epoch 848/1500\n",
            "12149/12149 [==============================] - 6s 494us/step - loss: 0.0862 - acc: 0.9749 - val_loss: 0.1193 - val_acc: 0.9674\n",
            "Epoch 849/1500\n",
            "12149/12149 [==============================] - 6s 494us/step - loss: 0.0858 - acc: 0.9751 - val_loss: 0.1164 - val_acc: 0.9704\n",
            "Epoch 850/1500\n",
            "12149/12149 [==============================] - 6s 494us/step - loss: 0.0859 - acc: 0.9744 - val_loss: 0.1199 - val_acc: 0.9681\n",
            "Epoch 851/1500\n",
            "12149/12149 [==============================] - 6s 491us/step - loss: 0.0857 - acc: 0.9751 - val_loss: 0.1184 - val_acc: 0.9689\n",
            "Epoch 852/1500\n",
            "12149/12149 [==============================] - 6s 487us/step - loss: 0.0862 - acc: 0.9756 - val_loss: 0.1164 - val_acc: 0.9689\n",
            "Epoch 853/1500\n",
            "12149/12149 [==============================] - 6s 485us/step - loss: 0.0850 - acc: 0.9751 - val_loss: 0.1239 - val_acc: 0.9667\n",
            "Epoch 854/1500\n",
            "12149/12149 [==============================] - 6s 486us/step - loss: 0.0860 - acc: 0.9746 - val_loss: 0.1186 - val_acc: 0.9681\n",
            "Epoch 855/1500\n",
            "12149/12149 [==============================] - 6s 487us/step - loss: 0.0860 - acc: 0.9751 - val_loss: 0.1177 - val_acc: 0.9681\n",
            "Epoch 856/1500\n",
            "12149/12149 [==============================] - 6s 502us/step - loss: 0.0858 - acc: 0.9754 - val_loss: 0.1169 - val_acc: 0.9696\n",
            "Epoch 857/1500\n",
            "12149/12149 [==============================] - 6s 485us/step - loss: 0.0856 - acc: 0.9744 - val_loss: 0.1173 - val_acc: 0.9689\n",
            "Epoch 858/1500\n",
            "12149/12149 [==============================] - 6s 484us/step - loss: 0.0856 - acc: 0.9748 - val_loss: 0.1172 - val_acc: 0.9696\n",
            "Epoch 859/1500\n",
            "12149/12149 [==============================] - 6s 483us/step - loss: 0.0862 - acc: 0.9748 - val_loss: 0.1183 - val_acc: 0.9689\n",
            "Epoch 860/1500\n",
            "12149/12149 [==============================] - 6s 493us/step - loss: 0.0858 - acc: 0.9751 - val_loss: 0.1166 - val_acc: 0.9696\n",
            "Epoch 861/1500\n",
            "12149/12149 [==============================] - 6s 487us/step - loss: 0.0858 - acc: 0.9755 - val_loss: 0.1203 - val_acc: 0.9689\n",
            "Epoch 862/1500\n",
            "12149/12149 [==============================] - 6s 494us/step - loss: 0.0862 - acc: 0.9742 - val_loss: 0.1177 - val_acc: 0.9689\n",
            "Epoch 863/1500\n",
            "12149/12149 [==============================] - 6s 492us/step - loss: 0.0857 - acc: 0.9746 - val_loss: 0.1170 - val_acc: 0.9681\n",
            "Epoch 864/1500\n",
            "12149/12149 [==============================] - 6s 489us/step - loss: 0.0857 - acc: 0.9754 - val_loss: 0.1175 - val_acc: 0.9696\n",
            "Epoch 865/1500\n",
            "12149/12149 [==============================] - 6s 528us/step - loss: 0.0862 - acc: 0.9745 - val_loss: 0.1184 - val_acc: 0.9681\n",
            "Epoch 866/1500\n",
            "12149/12149 [==============================] - 6s 491us/step - loss: 0.0864 - acc: 0.9746 - val_loss: 0.1194 - val_acc: 0.9689\n",
            "Epoch 867/1500\n",
            "12149/12149 [==============================] - 6s 485us/step - loss: 0.0874 - acc: 0.9747 - val_loss: 0.1166 - val_acc: 0.9689\n",
            "Epoch 868/1500\n",
            "12149/12149 [==============================] - 6s 489us/step - loss: 0.0854 - acc: 0.9756 - val_loss: 0.1187 - val_acc: 0.9704\n",
            "Epoch 869/1500\n",
            "12149/12149 [==============================] - 6s 486us/step - loss: 0.0852 - acc: 0.9751 - val_loss: 0.1160 - val_acc: 0.9689\n",
            "Epoch 870/1500\n",
            "12149/12149 [==============================] - 6s 521us/step - loss: 0.0855 - acc: 0.9746 - val_loss: 0.1160 - val_acc: 0.9704\n",
            "Epoch 871/1500\n",
            "12149/12149 [==============================] - 6s 527us/step - loss: 0.0854 - acc: 0.9753 - val_loss: 0.1181 - val_acc: 0.9696\n",
            "Epoch 872/1500\n",
            "12149/12149 [==============================] - 6s 487us/step - loss: 0.0861 - acc: 0.9746 - val_loss: 0.1211 - val_acc: 0.9667\n",
            "Epoch 873/1500\n",
            "12149/12149 [==============================] - 6s 510us/step - loss: 0.0856 - acc: 0.9748 - val_loss: 0.1185 - val_acc: 0.9689\n",
            "Epoch 874/1500\n",
            "12149/12149 [==============================] - 6s 491us/step - loss: 0.0867 - acc: 0.9750 - val_loss: 0.1193 - val_acc: 0.9674\n",
            "Epoch 875/1500\n",
            "12149/12149 [==============================] - 6s 486us/step - loss: 0.0855 - acc: 0.9745 - val_loss: 0.1172 - val_acc: 0.9681\n",
            "Epoch 876/1500\n",
            "12149/12149 [==============================] - 6s 478us/step - loss: 0.0856 - acc: 0.9754 - val_loss: 0.1201 - val_acc: 0.9689\n",
            "Epoch 877/1500\n",
            "12149/12149 [==============================] - 6s 469us/step - loss: 0.0864 - acc: 0.9748 - val_loss: 0.1169 - val_acc: 0.9689\n",
            "Epoch 878/1500\n",
            "12149/12149 [==============================] - 6s 469us/step - loss: 0.0858 - acc: 0.9745 - val_loss: 0.1170 - val_acc: 0.9696\n",
            "Epoch 879/1500\n",
            "12149/12149 [==============================] - 6s 482us/step - loss: 0.0851 - acc: 0.9746 - val_loss: 0.1277 - val_acc: 0.9681\n",
            "Epoch 880/1500\n",
            "12149/12149 [==============================] - 6s 467us/step - loss: 0.0865 - acc: 0.9746 - val_loss: 0.1201 - val_acc: 0.9689\n",
            "Epoch 881/1500\n",
            "12149/12149 [==============================] - 6s 469us/step - loss: 0.0846 - acc: 0.9753 - val_loss: 0.1166 - val_acc: 0.9704\n",
            "Epoch 882/1500\n",
            "12149/12149 [==============================] - 6s 470us/step - loss: 0.0854 - acc: 0.9746 - val_loss: 0.1202 - val_acc: 0.9689\n",
            "Epoch 883/1500\n",
            "12149/12149 [==============================] - 6s 469us/step - loss: 0.0859 - acc: 0.9751 - val_loss: 0.1189 - val_acc: 0.9696\n",
            "Epoch 884/1500\n",
            "12149/12149 [==============================] - 6s 478us/step - loss: 0.0870 - acc: 0.9747 - val_loss: 0.1173 - val_acc: 0.9689\n",
            "Epoch 885/1500\n",
            "12149/12149 [==============================] - 6s 474us/step - loss: 0.0861 - acc: 0.9751 - val_loss: 0.1175 - val_acc: 0.9681\n",
            "Epoch 886/1500\n",
            "12149/12149 [==============================] - 6s 471us/step - loss: 0.0867 - acc: 0.9750 - val_loss: 0.1168 - val_acc: 0.9704\n",
            "Epoch 887/1500\n",
            "12149/12149 [==============================] - 6s 469us/step - loss: 0.0850 - acc: 0.9753 - val_loss: 0.1144 - val_acc: 0.9696\n",
            "Epoch 888/1500\n",
            "12149/12149 [==============================] - 6s 476us/step - loss: 0.0854 - acc: 0.9746 - val_loss: 0.1208 - val_acc: 0.9681\n",
            "Epoch 889/1500\n",
            "12149/12149 [==============================] - 6s 469us/step - loss: 0.0858 - acc: 0.9752 - val_loss: 0.1205 - val_acc: 0.9689\n",
            "Epoch 890/1500\n",
            "12149/12149 [==============================] - 6s 469us/step - loss: 0.0850 - acc: 0.9754 - val_loss: 0.1183 - val_acc: 0.9689\n",
            "Epoch 891/1500\n",
            "12149/12149 [==============================] - 6s 474us/step - loss: 0.0854 - acc: 0.9752 - val_loss: 0.1248 - val_acc: 0.9652\n",
            "Epoch 892/1500\n",
            "12149/12149 [==============================] - 6s 471us/step - loss: 0.0867 - acc: 0.9746 - val_loss: 0.1215 - val_acc: 0.9689\n",
            "Epoch 893/1500\n",
            "12149/12149 [==============================] - 6s 473us/step - loss: 0.0871 - acc: 0.9739 - val_loss: 0.1193 - val_acc: 0.9689\n",
            "Epoch 894/1500\n",
            "12149/12149 [==============================] - 6s 476us/step - loss: 0.0856 - acc: 0.9746 - val_loss: 0.1177 - val_acc: 0.9681\n",
            "Epoch 895/1500\n",
            "12149/12149 [==============================] - 6s 471us/step - loss: 0.0853 - acc: 0.9746 - val_loss: 0.1228 - val_acc: 0.9667\n",
            "Epoch 896/1500\n",
            "12149/12149 [==============================] - 6s 468us/step - loss: 0.0858 - acc: 0.9749 - val_loss: 0.1177 - val_acc: 0.9689\n",
            "Epoch 897/1500\n",
            "12149/12149 [==============================] - 6s 474us/step - loss: 0.0850 - acc: 0.9756 - val_loss: 0.1209 - val_acc: 0.9667\n",
            "Epoch 898/1500\n",
            "12149/12149 [==============================] - 6s 466us/step - loss: 0.0856 - acc: 0.9747 - val_loss: 0.1214 - val_acc: 0.9704\n",
            "Epoch 899/1500\n",
            "12149/12149 [==============================] - 6s 465us/step - loss: 0.0862 - acc: 0.9751 - val_loss: 0.1162 - val_acc: 0.9689\n",
            "Epoch 900/1500\n",
            "12149/12149 [==============================] - 6s 468us/step - loss: 0.0871 - acc: 0.9746 - val_loss: 0.1246 - val_acc: 0.9659\n",
            "Epoch 901/1500\n",
            "12149/12149 [==============================] - 6s 484us/step - loss: 0.0865 - acc: 0.9750 - val_loss: 0.1237 - val_acc: 0.9681\n",
            "Epoch 902/1500\n",
            "12149/12149 [==============================] - 6s 481us/step - loss: 0.0868 - acc: 0.9739 - val_loss: 0.1278 - val_acc: 0.9652\n",
            "Epoch 903/1500\n",
            "12149/12149 [==============================] - 6s 483us/step - loss: 0.0859 - acc: 0.9746 - val_loss: 0.1232 - val_acc: 0.9674\n",
            "Epoch 904/1500\n",
            "12149/12149 [==============================] - 6s 481us/step - loss: 0.0864 - acc: 0.9744 - val_loss: 0.1171 - val_acc: 0.9681\n",
            "Epoch 905/1500\n",
            "12149/12149 [==============================] - 6s 486us/step - loss: 0.0852 - acc: 0.9745 - val_loss: 0.1228 - val_acc: 0.9681\n",
            "Epoch 906/1500\n",
            "12149/12149 [==============================] - 6s 466us/step - loss: 0.0866 - acc: 0.9748 - val_loss: 0.1195 - val_acc: 0.9674\n",
            "Epoch 907/1500\n",
            "12149/12149 [==============================] - 6s 466us/step - loss: 0.0857 - acc: 0.9740 - val_loss: 0.1171 - val_acc: 0.9689\n",
            "Epoch 908/1500\n",
            "12149/12149 [==============================] - 6s 470us/step - loss: 0.0857 - acc: 0.9750 - val_loss: 0.1183 - val_acc: 0.9681\n",
            "Epoch 909/1500\n",
            "12149/12149 [==============================] - 6s 465us/step - loss: 0.0850 - acc: 0.9755 - val_loss: 0.1179 - val_acc: 0.9681\n",
            "Epoch 910/1500\n",
            "12149/12149 [==============================] - 6s 468us/step - loss: 0.0855 - acc: 0.9752 - val_loss: 0.1205 - val_acc: 0.9674\n",
            "Epoch 911/1500\n",
            "12149/12149 [==============================] - 6s 468us/step - loss: 0.0859 - acc: 0.9750 - val_loss: 0.1181 - val_acc: 0.9674\n",
            "Epoch 912/1500\n",
            "12149/12149 [==============================] - 6s 465us/step - loss: 0.0856 - acc: 0.9746 - val_loss: 0.1252 - val_acc: 0.9667\n",
            "Epoch 913/1500\n",
            "12149/12149 [==============================] - 6s 468us/step - loss: 0.0855 - acc: 0.9750 - val_loss: 0.1220 - val_acc: 0.9681\n",
            "Epoch 914/1500\n",
            "12149/12149 [==============================] - 6s 473us/step - loss: 0.0857 - acc: 0.9746 - val_loss: 0.1200 - val_acc: 0.9689\n",
            "Epoch 915/1500\n",
            "12149/12149 [==============================] - 6s 467us/step - loss: 0.0864 - acc: 0.9743 - val_loss: 0.1198 - val_acc: 0.9681\n",
            "Epoch 916/1500\n",
            "12149/12149 [==============================] - 6s 471us/step - loss: 0.0844 - acc: 0.9746 - val_loss: 0.1183 - val_acc: 0.9681\n",
            "Epoch 917/1500\n",
            "12149/12149 [==============================] - 6s 495us/step - loss: 0.0851 - acc: 0.9751 - val_loss: 0.1191 - val_acc: 0.9681\n",
            "Epoch 918/1500\n",
            "12149/12149 [==============================] - 6s 512us/step - loss: 0.0865 - acc: 0.9748 - val_loss: 0.1168 - val_acc: 0.9689\n",
            "Epoch 919/1500\n",
            "12149/12149 [==============================] - 6s 466us/step - loss: 0.0864 - acc: 0.9751 - val_loss: 0.1141 - val_acc: 0.9704\n",
            "Epoch 920/1500\n",
            "12149/12149 [==============================] - 6s 466us/step - loss: 0.0850 - acc: 0.9756 - val_loss: 0.1188 - val_acc: 0.9696\n",
            "Epoch 921/1500\n",
            "12149/12149 [==============================] - 6s 468us/step - loss: 0.0857 - acc: 0.9752 - val_loss: 0.1175 - val_acc: 0.9689\n",
            "Epoch 922/1500\n",
            "12149/12149 [==============================] - 6s 463us/step - loss: 0.0863 - acc: 0.9739 - val_loss: 0.1204 - val_acc: 0.9689\n",
            "Epoch 923/1500\n",
            "12149/12149 [==============================] - 6s 469us/step - loss: 0.0863 - acc: 0.9747 - val_loss: 0.1178 - val_acc: 0.9681\n",
            "Epoch 924/1500\n",
            "12149/12149 [==============================] - 6s 533us/step - loss: 0.0853 - acc: 0.9748 - val_loss: 0.1208 - val_acc: 0.9681\n",
            "Epoch 925/1500\n",
            "12149/12149 [==============================] - 6s 497us/step - loss: 0.0849 - acc: 0.9753 - val_loss: 0.1142 - val_acc: 0.9704\n",
            "Epoch 926/1500\n",
            "12149/12149 [==============================] - 6s 467us/step - loss: 0.0866 - acc: 0.9747 - val_loss: 0.1187 - val_acc: 0.9689\n",
            "Epoch 927/1500\n",
            "12149/12149 [==============================] - 6s 474us/step - loss: 0.0855 - acc: 0.9746 - val_loss: 0.1217 - val_acc: 0.9681\n",
            "Epoch 928/1500\n",
            "12149/12149 [==============================] - 6s 471us/step - loss: 0.0857 - acc: 0.9753 - val_loss: 0.1148 - val_acc: 0.9704\n",
            "Epoch 929/1500\n",
            "12149/12149 [==============================] - 6s 467us/step - loss: 0.0855 - acc: 0.9747 - val_loss: 0.1170 - val_acc: 0.9681\n",
            "Epoch 930/1500\n",
            "12149/12149 [==============================] - 6s 468us/step - loss: 0.0855 - acc: 0.9749 - val_loss: 0.1198 - val_acc: 0.9689\n",
            "Epoch 931/1500\n",
            "12149/12149 [==============================] - 6s 493us/step - loss: 0.0862 - acc: 0.9752 - val_loss: 0.1198 - val_acc: 0.9689\n",
            "Epoch 932/1500\n",
            "12149/12149 [==============================] - 6s 464us/step - loss: 0.0852 - acc: 0.9748 - val_loss: 0.1190 - val_acc: 0.9681\n",
            "Epoch 933/1500\n",
            "12149/12149 [==============================] - 6s 468us/step - loss: 0.0857 - acc: 0.9742 - val_loss: 0.1188 - val_acc: 0.9681\n",
            "Epoch 934/1500\n",
            "12149/12149 [==============================] - 6s 468us/step - loss: 0.0850 - acc: 0.9752 - val_loss: 0.1173 - val_acc: 0.9704\n",
            "Epoch 935/1500\n",
            "12149/12149 [==============================] - 6s 472us/step - loss: 0.0855 - acc: 0.9743 - val_loss: 0.1158 - val_acc: 0.9726\n",
            "Epoch 936/1500\n",
            "12149/12149 [==============================] - 6s 465us/step - loss: 0.0862 - acc: 0.9744 - val_loss: 0.1171 - val_acc: 0.9711\n",
            "Epoch 937/1500\n",
            "12149/12149 [==============================] - 6s 466us/step - loss: 0.0849 - acc: 0.9754 - val_loss: 0.1214 - val_acc: 0.9681\n",
            "Epoch 938/1500\n",
            "12149/12149 [==============================] - 6s 496us/step - loss: 0.0865 - acc: 0.9745 - val_loss: 0.1143 - val_acc: 0.9696\n",
            "Epoch 939/1500\n",
            "12149/12149 [==============================] - 6s 470us/step - loss: 0.0856 - acc: 0.9749 - val_loss: 0.1169 - val_acc: 0.9681\n",
            "Epoch 940/1500\n",
            "12149/12149 [==============================] - 6s 470us/step - loss: 0.0863 - acc: 0.9750 - val_loss: 0.1185 - val_acc: 0.9681\n",
            "Epoch 941/1500\n",
            "12149/12149 [==============================] - 6s 469us/step - loss: 0.0862 - acc: 0.9742 - val_loss: 0.1207 - val_acc: 0.9667\n",
            "Epoch 942/1500\n",
            "12149/12149 [==============================] - 6s 467us/step - loss: 0.0855 - acc: 0.9746 - val_loss: 0.1231 - val_acc: 0.9681\n",
            "Epoch 943/1500\n",
            "12149/12149 [==============================] - 6s 470us/step - loss: 0.0858 - acc: 0.9751 - val_loss: 0.1168 - val_acc: 0.9696\n",
            "Epoch 944/1500\n",
            "12149/12149 [==============================] - 6s 475us/step - loss: 0.0856 - acc: 0.9746 - val_loss: 0.1195 - val_acc: 0.9689\n",
            "Epoch 945/1500\n",
            "12149/12149 [==============================] - 6s 474us/step - loss: 0.0849 - acc: 0.9753 - val_loss: 0.1181 - val_acc: 0.9681\n",
            "Epoch 946/1500\n",
            "12149/12149 [==============================] - 6s 469us/step - loss: 0.0853 - acc: 0.9746 - val_loss: 0.1211 - val_acc: 0.9674\n",
            "Epoch 947/1500\n",
            "12149/12149 [==============================] - 6s 470us/step - loss: 0.0855 - acc: 0.9757 - val_loss: 0.1140 - val_acc: 0.9711\n",
            "Epoch 948/1500\n",
            "12149/12149 [==============================] - 6s 482us/step - loss: 0.0855 - acc: 0.9751 - val_loss: 0.1200 - val_acc: 0.9681\n",
            "Epoch 949/1500\n",
            "12149/12149 [==============================] - 6s 471us/step - loss: 0.0853 - acc: 0.9744 - val_loss: 0.1161 - val_acc: 0.9696\n",
            "Epoch 950/1500\n",
            "12149/12149 [==============================] - 6s 471us/step - loss: 0.0852 - acc: 0.9755 - val_loss: 0.1168 - val_acc: 0.9704\n",
            "Epoch 951/1500\n",
            "12149/12149 [==============================] - 6s 472us/step - loss: 0.0854 - acc: 0.9746 - val_loss: 0.1213 - val_acc: 0.9674\n",
            "Epoch 952/1500\n",
            "12149/12149 [==============================] - 6s 469us/step - loss: 0.0862 - acc: 0.9751 - val_loss: 0.1193 - val_acc: 0.9681\n",
            "Epoch 953/1500\n",
            "12149/12149 [==============================] - 6s 464us/step - loss: 0.0862 - acc: 0.9745 - val_loss: 0.1189 - val_acc: 0.9674\n",
            "Epoch 954/1500\n",
            "12149/12149 [==============================] - 6s 476us/step - loss: 0.0849 - acc: 0.9751 - val_loss: 0.1187 - val_acc: 0.9681\n",
            "Epoch 955/1500\n",
            "12149/12149 [==============================] - 6s 473us/step - loss: 0.0855 - acc: 0.9751 - val_loss: 0.1172 - val_acc: 0.9681\n",
            "Epoch 956/1500\n",
            "12149/12149 [==============================] - 6s 470us/step - loss: 0.0852 - acc: 0.9750 - val_loss: 0.1196 - val_acc: 0.9704\n",
            "Epoch 957/1500\n",
            "12149/12149 [==============================] - 6s 473us/step - loss: 0.0858 - acc: 0.9752 - val_loss: 0.1140 - val_acc: 0.9711\n",
            "Epoch 958/1500\n",
            "12149/12149 [==============================] - 6s 469us/step - loss: 0.0859 - acc: 0.9745 - val_loss: 0.1184 - val_acc: 0.9681\n",
            "Epoch 959/1500\n",
            "12149/12149 [==============================] - 6s 471us/step - loss: 0.0848 - acc: 0.9748 - val_loss: 0.1171 - val_acc: 0.9696\n",
            "Epoch 960/1500\n",
            "12149/12149 [==============================] - 6s 475us/step - loss: 0.0861 - acc: 0.9744 - val_loss: 0.1178 - val_acc: 0.9689\n",
            "Epoch 961/1500\n",
            "12149/12149 [==============================] - 6s 471us/step - loss: 0.0856 - acc: 0.9741 - val_loss: 0.1172 - val_acc: 0.9681\n",
            "Epoch 962/1500\n",
            "12149/12149 [==============================] - 6s 464us/step - loss: 0.0877 - acc: 0.9739 - val_loss: 0.1185 - val_acc: 0.9689\n",
            "Epoch 963/1500\n",
            "12149/12149 [==============================] - 6s 464us/step - loss: 0.0848 - acc: 0.9753 - val_loss: 0.1156 - val_acc: 0.9696\n",
            "Epoch 964/1500\n",
            "12149/12149 [==============================] - 6s 459us/step - loss: 0.0860 - acc: 0.9747 - val_loss: 0.1169 - val_acc: 0.9689\n",
            "Epoch 965/1500\n",
            "12149/12149 [==============================] - 6s 458us/step - loss: 0.0861 - acc: 0.9750 - val_loss: 0.1203 - val_acc: 0.9689\n",
            "Epoch 966/1500\n",
            "12149/12149 [==============================] - 6s 482us/step - loss: 0.0867 - acc: 0.9746 - val_loss: 0.1183 - val_acc: 0.9674\n",
            "Epoch 967/1500\n",
            "12149/12149 [==============================] - 6s 501us/step - loss: 0.0853 - acc: 0.9747 - val_loss: 0.1182 - val_acc: 0.9689\n",
            "Epoch 968/1500\n",
            "12149/12149 [==============================] - 6s 483us/step - loss: 0.0844 - acc: 0.9754 - val_loss: 0.1169 - val_acc: 0.9711\n",
            "Epoch 969/1500\n",
            "12149/12149 [==============================] - 6s 483us/step - loss: 0.0861 - acc: 0.9741 - val_loss: 0.1144 - val_acc: 0.9711\n",
            "Epoch 970/1500\n",
            "12149/12149 [==============================] - 6s 499us/step - loss: 0.0856 - acc: 0.9749 - val_loss: 0.1175 - val_acc: 0.9689\n",
            "Epoch 971/1500\n",
            "12149/12149 [==============================] - 6s 515us/step - loss: 0.0857 - acc: 0.9748 - val_loss: 0.1163 - val_acc: 0.9689\n",
            "Epoch 972/1500\n",
            "12149/12149 [==============================] - 6s 489us/step - loss: 0.0868 - acc: 0.9751 - val_loss: 0.1210 - val_acc: 0.9681\n",
            "Epoch 973/1500\n",
            "12149/12149 [==============================] - 6s 479us/step - loss: 0.0855 - acc: 0.9750 - val_loss: 0.1136 - val_acc: 0.9711\n",
            "Epoch 974/1500\n",
            "12149/12149 [==============================] - 6s 480us/step - loss: 0.0857 - acc: 0.9741 - val_loss: 0.1171 - val_acc: 0.9681\n",
            "Epoch 975/1500\n",
            "12149/12149 [==============================] - 6s 490us/step - loss: 0.0855 - acc: 0.9756 - val_loss: 0.1198 - val_acc: 0.9681\n",
            "Epoch 976/1500\n",
            "12149/12149 [==============================] - 6s 494us/step - loss: 0.0852 - acc: 0.9754 - val_loss: 0.1184 - val_acc: 0.9681\n",
            "Epoch 977/1500\n",
            "12149/12149 [==============================] - 6s 505us/step - loss: 0.0848 - acc: 0.9756 - val_loss: 0.1174 - val_acc: 0.9696\n",
            "Epoch 978/1500\n",
            "12149/12149 [==============================] - 6s 528us/step - loss: 0.0859 - acc: 0.9751 - val_loss: 0.1176 - val_acc: 0.9696\n",
            "Epoch 979/1500\n",
            "12149/12149 [==============================] - 6s 487us/step - loss: 0.0852 - acc: 0.9750 - val_loss: 0.1162 - val_acc: 0.9704\n",
            "Epoch 980/1500\n",
            "12149/12149 [==============================] - 6s 489us/step - loss: 0.0860 - acc: 0.9747 - val_loss: 0.1197 - val_acc: 0.9674\n",
            "Epoch 981/1500\n",
            "12149/12149 [==============================] - 6s 485us/step - loss: 0.0857 - acc: 0.9748 - val_loss: 0.1192 - val_acc: 0.9689\n",
            "Epoch 982/1500\n",
            "12149/12149 [==============================] - 6s 492us/step - loss: 0.0852 - acc: 0.9751 - val_loss: 0.1183 - val_acc: 0.9696\n",
            "Epoch 983/1500\n",
            "12149/12149 [==============================] - 6s 482us/step - loss: 0.0862 - acc: 0.9748 - val_loss: 0.1284 - val_acc: 0.9637\n",
            "Epoch 984/1500\n",
            "12149/12149 [==============================] - 6s 476us/step - loss: 0.0861 - acc: 0.9756 - val_loss: 0.1163 - val_acc: 0.9696\n",
            "Epoch 985/1500\n",
            "12149/12149 [==============================] - 6s 488us/step - loss: 0.0851 - acc: 0.9752 - val_loss: 0.1170 - val_acc: 0.9674\n",
            "Epoch 986/1500\n",
            "12149/12149 [==============================] - 6s 486us/step - loss: 0.0868 - acc: 0.9748 - val_loss: 0.1193 - val_acc: 0.9696\n",
            "Epoch 987/1500\n",
            "12149/12149 [==============================] - 6s 485us/step - loss: 0.0860 - acc: 0.9745 - val_loss: 0.1188 - val_acc: 0.9681\n",
            "Epoch 988/1500\n",
            "12149/12149 [==============================] - 6s 491us/step - loss: 0.0846 - acc: 0.9752 - val_loss: 0.1239 - val_acc: 0.9681\n",
            "Epoch 989/1500\n",
            "12149/12149 [==============================] - 6s 510us/step - loss: 0.0854 - acc: 0.9753 - val_loss: 0.1168 - val_acc: 0.9696\n",
            "Epoch 990/1500\n",
            "12149/12149 [==============================] - 6s 492us/step - loss: 0.0861 - acc: 0.9742 - val_loss: 0.1174 - val_acc: 0.9696\n",
            "Epoch 991/1500\n",
            "12149/12149 [==============================] - 6s 481us/step - loss: 0.0858 - acc: 0.9748 - val_loss: 0.1163 - val_acc: 0.9696\n",
            "Epoch 992/1500\n",
            "12149/12149 [==============================] - 6s 479us/step - loss: 0.0855 - acc: 0.9749 - val_loss: 0.1172 - val_acc: 0.9696\n",
            "Epoch 993/1500\n",
            "12149/12149 [==============================] - 6s 480us/step - loss: 0.0850 - acc: 0.9755 - val_loss: 0.1168 - val_acc: 0.9681\n",
            "Epoch 994/1500\n",
            "12149/12149 [==============================] - 6s 481us/step - loss: 0.0855 - acc: 0.9750 - val_loss: 0.1210 - val_acc: 0.9681\n",
            "Epoch 995/1500\n",
            "12149/12149 [==============================] - 6s 479us/step - loss: 0.0856 - acc: 0.9753 - val_loss: 0.1183 - val_acc: 0.9696\n",
            "Epoch 996/1500\n",
            "12149/12149 [==============================] - 6s 497us/step - loss: 0.0854 - acc: 0.9747 - val_loss: 0.1157 - val_acc: 0.9689\n",
            "Epoch 997/1500\n",
            "12149/12149 [==============================] - 6s 489us/step - loss: 0.0858 - acc: 0.9746 - val_loss: 0.1187 - val_acc: 0.9681\n",
            "Epoch 998/1500\n",
            "12149/12149 [==============================] - 6s 490us/step - loss: 0.0866 - acc: 0.9751 - val_loss: 0.1167 - val_acc: 0.9696\n",
            "Epoch 999/1500\n",
            "12149/12149 [==============================] - 6s 487us/step - loss: 0.0855 - acc: 0.9746 - val_loss: 0.1159 - val_acc: 0.9696\n",
            "Epoch 1000/1500\n",
            "12149/12149 [==============================] - 6s 497us/step - loss: 0.0846 - acc: 0.9756 - val_loss: 0.1198 - val_acc: 0.9681\n",
            "Epoch 1001/1500\n",
            "12149/12149 [==============================] - 6s 484us/step - loss: 0.0850 - acc: 0.9746 - val_loss: 0.1186 - val_acc: 0.9689\n",
            "Epoch 1002/1500\n",
            "12149/12149 [==============================] - 6s 519us/step - loss: 0.0855 - acc: 0.9753 - val_loss: 0.1195 - val_acc: 0.9681\n",
            "Epoch 1003/1500\n",
            "12149/12149 [==============================] - 6s 490us/step - loss: 0.0861 - acc: 0.9744 - val_loss: 0.1170 - val_acc: 0.9711\n",
            "Epoch 1004/1500\n",
            "12149/12149 [==============================] - 6s 515us/step - loss: 0.0848 - acc: 0.9754 - val_loss: 0.1179 - val_acc: 0.9689\n",
            "Epoch 1005/1500\n",
            "12149/12149 [==============================] - 6s 507us/step - loss: 0.0853 - acc: 0.9754 - val_loss: 0.1179 - val_acc: 0.9681\n",
            "Epoch 1006/1500\n",
            "12149/12149 [==============================] - 6s 492us/step - loss: 0.0846 - acc: 0.9747 - val_loss: 0.1191 - val_acc: 0.9681\n",
            "Epoch 1007/1500\n",
            "12149/12149 [==============================] - 6s 487us/step - loss: 0.0849 - acc: 0.9743 - val_loss: 0.1171 - val_acc: 0.9689\n",
            "Epoch 1008/1500\n",
            "12149/12149 [==============================] - 6s 499us/step - loss: 0.0861 - acc: 0.9752 - val_loss: 0.1213 - val_acc: 0.9674\n",
            "Epoch 1009/1500\n",
            "12149/12149 [==============================] - 6s 487us/step - loss: 0.0859 - acc: 0.9747 - val_loss: 0.1188 - val_acc: 0.9681\n",
            "Epoch 1010/1500\n",
            "12149/12149 [==============================] - 6s 491us/step - loss: 0.0856 - acc: 0.9743 - val_loss: 0.1158 - val_acc: 0.9681\n",
            "Epoch 1011/1500\n",
            "12149/12149 [==============================] - 6s 491us/step - loss: 0.0855 - acc: 0.9750 - val_loss: 0.1151 - val_acc: 0.9689\n",
            "Epoch 1012/1500\n",
            "12149/12149 [==============================] - 6s 473us/step - loss: 0.0863 - acc: 0.9748 - val_loss: 0.1182 - val_acc: 0.9681\n",
            "Epoch 1013/1500\n",
            "12149/12149 [==============================] - 6s 468us/step - loss: 0.0849 - acc: 0.9756 - val_loss: 0.1188 - val_acc: 0.9689\n",
            "Epoch 1014/1500\n",
            "12149/12149 [==============================] - 6s 469us/step - loss: 0.0849 - acc: 0.9757 - val_loss: 0.1192 - val_acc: 0.9704\n",
            "Epoch 1015/1500\n",
            "12149/12149 [==============================] - 6s 474us/step - loss: 0.0866 - acc: 0.9748 - val_loss: 0.1155 - val_acc: 0.9689\n",
            "Epoch 1016/1500\n",
            "12149/12149 [==============================] - 6s 471us/step - loss: 0.0849 - acc: 0.9752 - val_loss: 0.1159 - val_acc: 0.9704\n",
            "Epoch 1017/1500\n",
            "12149/12149 [==============================] - 6s 475us/step - loss: 0.0862 - acc: 0.9744 - val_loss: 0.1153 - val_acc: 0.9696\n",
            "Epoch 1018/1500\n",
            "12149/12149 [==============================] - 6s 532us/step - loss: 0.0856 - acc: 0.9744 - val_loss: 0.1184 - val_acc: 0.9689\n",
            "Epoch 1019/1500\n",
            "12149/12149 [==============================] - 6s 491us/step - loss: 0.0852 - acc: 0.9751 - val_loss: 0.1206 - val_acc: 0.9681\n",
            "Epoch 1020/1500\n",
            "12149/12149 [==============================] - 6s 496us/step - loss: 0.0865 - acc: 0.9746 - val_loss: 0.1150 - val_acc: 0.9704\n",
            "Epoch 1021/1500\n",
            "12149/12149 [==============================] - 6s 491us/step - loss: 0.0852 - acc: 0.9749 - val_loss: 0.1147 - val_acc: 0.9689\n",
            "Epoch 1022/1500\n",
            "12149/12149 [==============================] - 6s 529us/step - loss: 0.0852 - acc: 0.9749 - val_loss: 0.1185 - val_acc: 0.9696\n",
            "Epoch 1023/1500\n",
            "12149/12149 [==============================] - 6s 488us/step - loss: 0.0866 - acc: 0.9742 - val_loss: 0.1195 - val_acc: 0.9674\n",
            "Epoch 1024/1500\n",
            "12149/12149 [==============================] - 6s 499us/step - loss: 0.0863 - acc: 0.9745 - val_loss: 0.1166 - val_acc: 0.9704\n",
            "Epoch 1025/1500\n",
            "12149/12149 [==============================] - 6s 492us/step - loss: 0.0853 - acc: 0.9749 - val_loss: 0.1152 - val_acc: 0.9704\n",
            "Epoch 1026/1500\n",
            "12149/12149 [==============================] - 6s 493us/step - loss: 0.0848 - acc: 0.9751 - val_loss: 0.1158 - val_acc: 0.9696\n",
            "Epoch 1027/1500\n",
            "12149/12149 [==============================] - 6s 498us/step - loss: 0.0847 - acc: 0.9746 - val_loss: 0.1186 - val_acc: 0.9667\n",
            "Epoch 1028/1500\n",
            "12149/12149 [==============================] - 6s 498us/step - loss: 0.0855 - acc: 0.9751 - val_loss: 0.1195 - val_acc: 0.9689\n",
            "Epoch 1029/1500\n",
            "12149/12149 [==============================] - 6s 520us/step - loss: 0.0858 - acc: 0.9756 - val_loss: 0.1150 - val_acc: 0.9689\n",
            "Epoch 1030/1500\n",
            "12149/12149 [==============================] - 7s 542us/step - loss: 0.0858 - acc: 0.9749 - val_loss: 0.1201 - val_acc: 0.9681\n",
            "Epoch 1031/1500\n",
            "12149/12149 [==============================] - 6s 488us/step - loss: 0.0858 - acc: 0.9741 - val_loss: 0.1201 - val_acc: 0.9681\n",
            "Epoch 1032/1500\n",
            "12149/12149 [==============================] - 6s 486us/step - loss: 0.0859 - acc: 0.9741 - val_loss: 0.1152 - val_acc: 0.9704\n",
            "Epoch 1033/1500\n",
            "12149/12149 [==============================] - 6s 484us/step - loss: 0.0843 - acc: 0.9752 - val_loss: 0.1192 - val_acc: 0.9674\n",
            "Epoch 1034/1500\n",
            "12149/12149 [==============================] - 6s 495us/step - loss: 0.0853 - acc: 0.9752 - val_loss: 0.1177 - val_acc: 0.9689\n",
            "Epoch 1035/1500\n",
            "12149/12149 [==============================] - 6s 485us/step - loss: 0.0860 - acc: 0.9746 - val_loss: 0.1209 - val_acc: 0.9696\n",
            "Epoch 1036/1500\n",
            "12149/12149 [==============================] - 6s 492us/step - loss: 0.0856 - acc: 0.9751 - val_loss: 0.1214 - val_acc: 0.9674\n",
            "Epoch 1037/1500\n",
            "12149/12149 [==============================] - 6s 498us/step - loss: 0.0850 - acc: 0.9747 - val_loss: 0.1182 - val_acc: 0.9689\n",
            "Epoch 1038/1500\n",
            "12149/12149 [==============================] - 6s 498us/step - loss: 0.0856 - acc: 0.9749 - val_loss: 0.1179 - val_acc: 0.9711\n",
            "Epoch 1039/1500\n",
            "12149/12149 [==============================] - 6s 495us/step - loss: 0.0849 - acc: 0.9746 - val_loss: 0.1170 - val_acc: 0.9689\n",
            "Epoch 1040/1500\n",
            "12149/12149 [==============================] - 6s 495us/step - loss: 0.0848 - acc: 0.9748 - val_loss: 0.1175 - val_acc: 0.9696\n",
            "Epoch 1041/1500\n",
            "12149/12149 [==============================] - 6s 484us/step - loss: 0.0854 - acc: 0.9742 - val_loss: 0.1174 - val_acc: 0.9681\n",
            "Epoch 1042/1500\n",
            "12149/12149 [==============================] - 6s 486us/step - loss: 0.0859 - acc: 0.9748 - val_loss: 0.1369 - val_acc: 0.9637\n",
            "Epoch 1043/1500\n",
            "12149/12149 [==============================] - 6s 488us/step - loss: 0.0855 - acc: 0.9746 - val_loss: 0.1186 - val_acc: 0.9681\n",
            "Epoch 1044/1500\n",
            "12149/12149 [==============================] - 6s 528us/step - loss: 0.0846 - acc: 0.9758 - val_loss: 0.1169 - val_acc: 0.9689\n",
            "Epoch 1045/1500\n",
            "12149/12149 [==============================] - 6s 486us/step - loss: 0.0850 - acc: 0.9751 - val_loss: 0.1174 - val_acc: 0.9689\n",
            "Epoch 1046/1500\n",
            "12149/12149 [==============================] - 6s 491us/step - loss: 0.0860 - acc: 0.9751 - val_loss: 0.1189 - val_acc: 0.9696\n",
            "Epoch 1047/1500\n",
            "12149/12149 [==============================] - 6s 490us/step - loss: 0.0859 - acc: 0.9750 - val_loss: 0.1178 - val_acc: 0.9696\n",
            "Epoch 1048/1500\n",
            "12149/12149 [==============================] - 6s 486us/step - loss: 0.0850 - acc: 0.9752 - val_loss: 0.1168 - val_acc: 0.9689\n",
            "Epoch 1049/1500\n",
            "12149/12149 [==============================] - 6s 486us/step - loss: 0.0846 - acc: 0.9754 - val_loss: 0.1187 - val_acc: 0.9689\n",
            "Epoch 1050/1500\n",
            "12149/12149 [==============================] - 6s 494us/step - loss: 0.0853 - acc: 0.9753 - val_loss: 0.1250 - val_acc: 0.9667\n",
            "Epoch 1051/1500\n",
            "12149/12149 [==============================] - 6s 488us/step - loss: 0.0866 - acc: 0.9742 - val_loss: 0.1188 - val_acc: 0.9704\n",
            "Epoch 1052/1500\n",
            "12149/12149 [==============================] - 6s 486us/step - loss: 0.0858 - acc: 0.9740 - val_loss: 0.1229 - val_acc: 0.9681\n",
            "Epoch 1053/1500\n",
            "12149/12149 [==============================] - 6s 491us/step - loss: 0.0850 - acc: 0.9756 - val_loss: 0.1178 - val_acc: 0.9689\n",
            "Epoch 1054/1500\n",
            "12149/12149 [==============================] - 6s 486us/step - loss: 0.0854 - acc: 0.9740 - val_loss: 0.1213 - val_acc: 0.9689\n",
            "Epoch 1055/1500\n",
            "12149/12149 [==============================] - 6s 491us/step - loss: 0.0849 - acc: 0.9756 - val_loss: 0.1188 - val_acc: 0.9681\n",
            "Epoch 1056/1500\n",
            "12149/12149 [==============================] - 6s 492us/step - loss: 0.0852 - acc: 0.9752 - val_loss: 0.1181 - val_acc: 0.9689\n",
            "Epoch 1057/1500\n",
            "12149/12149 [==============================] - 6s 494us/step - loss: 0.0865 - acc: 0.9742 - val_loss: 0.1175 - val_acc: 0.9659\n",
            "Epoch 1058/1500\n",
            "12149/12149 [==============================] - 6s 489us/step - loss: 0.0848 - acc: 0.9749 - val_loss: 0.1204 - val_acc: 0.9674\n",
            "Epoch 1059/1500\n",
            "12149/12149 [==============================] - 6s 502us/step - loss: 0.0851 - acc: 0.9750 - val_loss: 0.1190 - val_acc: 0.9667\n",
            "Epoch 1060/1500\n",
            "12149/12149 [==============================] - 6s 493us/step - loss: 0.0870 - acc: 0.9747 - val_loss: 0.1179 - val_acc: 0.9681\n",
            "Epoch 1061/1500\n",
            "12149/12149 [==============================] - 6s 484us/step - loss: 0.0846 - acc: 0.9759 - val_loss: 0.1200 - val_acc: 0.9667\n",
            "Epoch 1062/1500\n",
            "12149/12149 [==============================] - 6s 486us/step - loss: 0.0851 - acc: 0.9747 - val_loss: 0.1170 - val_acc: 0.9696\n",
            "Epoch 1063/1500\n",
            "12149/12149 [==============================] - 6s 482us/step - loss: 0.0851 - acc: 0.9746 - val_loss: 0.1177 - val_acc: 0.9674\n",
            "Epoch 1064/1500\n",
            "12149/12149 [==============================] - 6s 465us/step - loss: 0.0852 - acc: 0.9751 - val_loss: 0.1215 - val_acc: 0.9681\n",
            "Epoch 1065/1500\n",
            "12149/12149 [==============================] - 6s 466us/step - loss: 0.0854 - acc: 0.9753 - val_loss: 0.1169 - val_acc: 0.9696\n",
            "Epoch 1066/1500\n",
            "12149/12149 [==============================] - 6s 492us/step - loss: 0.0855 - acc: 0.9744 - val_loss: 0.1223 - val_acc: 0.9689\n",
            "Epoch 1067/1500\n",
            "12149/12149 [==============================] - 6s 472us/step - loss: 0.0855 - acc: 0.9744 - val_loss: 0.1179 - val_acc: 0.9681\n",
            "Epoch 1068/1500\n",
            "12149/12149 [==============================] - 6s 471us/step - loss: 0.0854 - acc: 0.9751 - val_loss: 0.1188 - val_acc: 0.9681\n",
            "Epoch 1069/1500\n",
            "12149/12149 [==============================] - 6s 471us/step - loss: 0.0855 - acc: 0.9744 - val_loss: 0.1204 - val_acc: 0.9674\n",
            "Epoch 1070/1500\n",
            "12149/12149 [==============================] - 6s 471us/step - loss: 0.0854 - acc: 0.9756 - val_loss: 0.1224 - val_acc: 0.9689\n",
            "Epoch 1071/1500\n",
            "12149/12149 [==============================] - 6s 470us/step - loss: 0.0854 - acc: 0.9746 - val_loss: 0.1163 - val_acc: 0.9704\n",
            "Epoch 1072/1500\n",
            "12149/12149 [==============================] - 6s 471us/step - loss: 0.0847 - acc: 0.9761 - val_loss: 0.1185 - val_acc: 0.9674\n",
            "Epoch 1073/1500\n",
            "12149/12149 [==============================] - 6s 518us/step - loss: 0.0855 - acc: 0.9753 - val_loss: 0.1185 - val_acc: 0.9689\n",
            "Epoch 1074/1500\n",
            "12149/12149 [==============================] - 6s 465us/step - loss: 0.0852 - acc: 0.9756 - val_loss: 0.1200 - val_acc: 0.9681\n",
            "Epoch 1075/1500\n",
            "12149/12149 [==============================] - 6s 466us/step - loss: 0.0852 - acc: 0.9751 - val_loss: 0.1175 - val_acc: 0.9696\n",
            "Epoch 1076/1500\n",
            "12149/12149 [==============================] - 6s 474us/step - loss: 0.0857 - acc: 0.9743 - val_loss: 0.1174 - val_acc: 0.9681\n",
            "Epoch 1077/1500\n",
            "12149/12149 [==============================] - 6s 472us/step - loss: 0.0864 - acc: 0.9746 - val_loss: 0.1171 - val_acc: 0.9689\n",
            "Epoch 1078/1500\n",
            "12149/12149 [==============================] - 6s 468us/step - loss: 0.0853 - acc: 0.9752 - val_loss: 0.1161 - val_acc: 0.9689\n",
            "Epoch 1079/1500\n",
            "12149/12149 [==============================] - 6s 469us/step - loss: 0.0852 - acc: 0.9748 - val_loss: 0.1157 - val_acc: 0.9696\n",
            "Epoch 1080/1500\n",
            "12149/12149 [==============================] - 6s 471us/step - loss: 0.0856 - acc: 0.9750 - val_loss: 0.1168 - val_acc: 0.9696\n",
            "Epoch 1081/1500\n",
            "12149/12149 [==============================] - 6s 478us/step - loss: 0.0835 - acc: 0.9752 - val_loss: 0.1175 - val_acc: 0.9674\n",
            "Epoch 1082/1500\n",
            "12149/12149 [==============================] - 6s 529us/step - loss: 0.0852 - acc: 0.9758 - val_loss: 0.1204 - val_acc: 0.9689\n",
            "Epoch 1083/1500\n",
            "12149/12149 [==============================] - 6s 498us/step - loss: 0.0851 - acc: 0.9762 - val_loss: 0.1174 - val_acc: 0.9696\n",
            "Epoch 1084/1500\n",
            "12149/12149 [==============================] - 6s 466us/step - loss: 0.0856 - acc: 0.9758 - val_loss: 0.1206 - val_acc: 0.9689\n",
            "Epoch 1085/1500\n",
            "12149/12149 [==============================] - 6s 462us/step - loss: 0.0849 - acc: 0.9756 - val_loss: 0.1177 - val_acc: 0.9696\n",
            "Epoch 1086/1500\n",
            "12149/12149 [==============================] - 6s 469us/step - loss: 0.0857 - acc: 0.9745 - val_loss: 0.1170 - val_acc: 0.9681\n",
            "Epoch 1087/1500\n",
            "12149/12149 [==============================] - 6s 469us/step - loss: 0.0860 - acc: 0.9751 - val_loss: 0.1185 - val_acc: 0.9674\n",
            "Epoch 1088/1500\n",
            "12149/12149 [==============================] - 6s 480us/step - loss: 0.0853 - acc: 0.9751 - val_loss: 0.1181 - val_acc: 0.9681\n",
            "Epoch 1089/1500\n",
            "12149/12149 [==============================] - 6s 474us/step - loss: 0.0858 - acc: 0.9749 - val_loss: 0.1166 - val_acc: 0.9696\n",
            "Epoch 1090/1500\n",
            "12149/12149 [==============================] - 6s 467us/step - loss: 0.0859 - acc: 0.9746 - val_loss: 0.1210 - val_acc: 0.9681\n",
            "Epoch 1091/1500\n",
            "12149/12149 [==============================] - 6s 470us/step - loss: 0.0846 - acc: 0.9760 - val_loss: 0.1177 - val_acc: 0.9696\n",
            "Epoch 1092/1500\n",
            "12149/12149 [==============================] - 6s 467us/step - loss: 0.0852 - acc: 0.9746 - val_loss: 0.1239 - val_acc: 0.9681\n",
            "Epoch 1093/1500\n",
            "12149/12149 [==============================] - 6s 465us/step - loss: 0.0861 - acc: 0.9750 - val_loss: 0.1154 - val_acc: 0.9704\n",
            "Epoch 1094/1500\n",
            "12149/12149 [==============================] - 6s 465us/step - loss: 0.0859 - acc: 0.9751 - val_loss: 0.1160 - val_acc: 0.9681\n",
            "Epoch 1095/1500\n",
            "12149/12149 [==============================] - 6s 488us/step - loss: 0.0849 - acc: 0.9751 - val_loss: 0.1244 - val_acc: 0.9674\n",
            "Epoch 1096/1500\n",
            "12149/12149 [==============================] - 6s 462us/step - loss: 0.0855 - acc: 0.9749 - val_loss: 0.1253 - val_acc: 0.9659\n",
            "Epoch 1097/1500\n",
            "12149/12149 [==============================] - 6s 470us/step - loss: 0.0859 - acc: 0.9744 - val_loss: 0.1182 - val_acc: 0.9689\n",
            "Epoch 1098/1500\n",
            "12149/12149 [==============================] - 6s 470us/step - loss: 0.0856 - acc: 0.9742 - val_loss: 0.1234 - val_acc: 0.9689\n",
            "Epoch 1099/1500\n",
            "12149/12149 [==============================] - 6s 477us/step - loss: 0.0856 - acc: 0.9748 - val_loss: 0.1208 - val_acc: 0.9667\n",
            "Epoch 1100/1500\n",
            "12149/12149 [==============================] - 6s 486us/step - loss: 0.0866 - acc: 0.9741 - val_loss: 0.1190 - val_acc: 0.9674\n",
            "Epoch 1101/1500\n",
            "12149/12149 [==============================] - 6s 495us/step - loss: 0.0854 - acc: 0.9751 - val_loss: 0.1201 - val_acc: 0.9674\n",
            "Epoch 1102/1500\n",
            "12149/12149 [==============================] - 6s 487us/step - loss: 0.0860 - acc: 0.9745 - val_loss: 0.1220 - val_acc: 0.9674\n",
            "Epoch 1103/1500\n",
            "12149/12149 [==============================] - 6s 482us/step - loss: 0.0845 - acc: 0.9761 - val_loss: 0.1204 - val_acc: 0.9681\n",
            "Epoch 1104/1500\n",
            "12149/12149 [==============================] - 6s 486us/step - loss: 0.0863 - acc: 0.9747 - val_loss: 0.1201 - val_acc: 0.9659\n",
            "Epoch 1105/1500\n",
            "12149/12149 [==============================] - 6s 484us/step - loss: 0.0849 - acc: 0.9753 - val_loss: 0.1174 - val_acc: 0.9681\n",
            "Epoch 1106/1500\n",
            "12149/12149 [==============================] - 6s 482us/step - loss: 0.0862 - acc: 0.9749 - val_loss: 0.1213 - val_acc: 0.9674\n",
            "Epoch 1107/1500\n",
            "12149/12149 [==============================] - 6s 483us/step - loss: 0.0862 - acc: 0.9746 - val_loss: 0.1186 - val_acc: 0.9681\n",
            "Epoch 1108/1500\n",
            "12149/12149 [==============================] - 6s 487us/step - loss: 0.0852 - acc: 0.9753 - val_loss: 0.1153 - val_acc: 0.9704\n",
            "Epoch 1109/1500\n",
            "12149/12149 [==============================] - 6s 484us/step - loss: 0.0849 - acc: 0.9750 - val_loss: 0.1175 - val_acc: 0.9696\n",
            "Epoch 1110/1500\n",
            "12149/12149 [==============================] - 6s 491us/step - loss: 0.0864 - acc: 0.9749 - val_loss: 0.1151 - val_acc: 0.9689\n",
            "Epoch 1111/1500\n",
            "12149/12149 [==============================] - 6s 490us/step - loss: 0.0843 - acc: 0.9754 - val_loss: 0.1195 - val_acc: 0.9674\n",
            "Epoch 1112/1500\n",
            "12149/12149 [==============================] - 6s 494us/step - loss: 0.0856 - acc: 0.9749 - val_loss: 0.1212 - val_acc: 0.9696\n",
            "Epoch 1113/1500\n",
            "12149/12149 [==============================] - 6s 487us/step - loss: 0.0859 - acc: 0.9756 - val_loss: 0.1190 - val_acc: 0.9689\n",
            "Epoch 1114/1500\n",
            "12149/12149 [==============================] - 6s 486us/step - loss: 0.0859 - acc: 0.9754 - val_loss: 0.1207 - val_acc: 0.9667\n",
            "Epoch 1115/1500\n",
            "12149/12149 [==============================] - 6s 491us/step - loss: 0.0869 - acc: 0.9750 - val_loss: 0.1184 - val_acc: 0.9674\n",
            "Epoch 1116/1500\n",
            "12149/12149 [==============================] - 6s 484us/step - loss: 0.0854 - acc: 0.9751 - val_loss: 0.1178 - val_acc: 0.9689\n",
            "Epoch 1117/1500\n",
            "12149/12149 [==============================] - 6s 482us/step - loss: 0.0863 - acc: 0.9750 - val_loss: 0.1218 - val_acc: 0.9681\n",
            "Epoch 1118/1500\n",
            "12149/12149 [==============================] - 6s 484us/step - loss: 0.0854 - acc: 0.9741 - val_loss: 0.1192 - val_acc: 0.9681\n",
            "Epoch 1119/1500\n",
            "12149/12149 [==============================] - 6s 486us/step - loss: 0.0852 - acc: 0.9755 - val_loss: 0.1155 - val_acc: 0.9681\n",
            "Epoch 1120/1500\n",
            "12149/12149 [==============================] - 6s 487us/step - loss: 0.0860 - acc: 0.9743 - val_loss: 0.1145 - val_acc: 0.9689\n",
            "Epoch 1121/1500\n",
            "12149/12149 [==============================] - 6s 486us/step - loss: 0.0847 - acc: 0.9751 - val_loss: 0.1186 - val_acc: 0.9689\n",
            "Epoch 1122/1500\n",
            "12149/12149 [==============================] - 6s 486us/step - loss: 0.0856 - acc: 0.9743 - val_loss: 0.1214 - val_acc: 0.9696\n",
            "Epoch 1123/1500\n",
            "12149/12149 [==============================] - 6s 495us/step - loss: 0.0857 - acc: 0.9749 - val_loss: 0.1198 - val_acc: 0.9681\n",
            "Epoch 1124/1500\n",
            "12149/12149 [==============================] - 6s 479us/step - loss: 0.0864 - acc: 0.9748 - val_loss: 0.1211 - val_acc: 0.9696\n",
            "Epoch 1125/1500\n",
            "12149/12149 [==============================] - 6s 515us/step - loss: 0.0847 - acc: 0.9743 - val_loss: 0.1223 - val_acc: 0.9681\n",
            "Epoch 1126/1500\n",
            "12149/12149 [==============================] - 6s 497us/step - loss: 0.0852 - acc: 0.9746 - val_loss: 0.1162 - val_acc: 0.9696\n",
            "Epoch 1127/1500\n",
            "12149/12149 [==============================] - 6s 482us/step - loss: 0.0859 - acc: 0.9744 - val_loss: 0.1202 - val_acc: 0.9689\n",
            "Epoch 1128/1500\n",
            "12149/12149 [==============================] - 6s 492us/step - loss: 0.0855 - acc: 0.9747 - val_loss: 0.1207 - val_acc: 0.9681\n",
            "Epoch 1129/1500\n",
            "12149/12149 [==============================] - 6s 490us/step - loss: 0.0850 - acc: 0.9752 - val_loss: 0.1175 - val_acc: 0.9704\n",
            "Epoch 1130/1500\n",
            "12149/12149 [==============================] - 6s 486us/step - loss: 0.0855 - acc: 0.9753 - val_loss: 0.1178 - val_acc: 0.9681\n",
            "Epoch 1131/1500\n",
            "12149/12149 [==============================] - 6s 488us/step - loss: 0.0859 - acc: 0.9745 - val_loss: 0.1172 - val_acc: 0.9696\n",
            "Epoch 1132/1500\n",
            "12149/12149 [==============================] - 6s 485us/step - loss: 0.0853 - acc: 0.9750 - val_loss: 0.1160 - val_acc: 0.9674\n",
            "Epoch 1133/1500\n",
            "12149/12149 [==============================] - 6s 483us/step - loss: 0.0851 - acc: 0.9749 - val_loss: 0.1171 - val_acc: 0.9674\n",
            "Epoch 1134/1500\n",
            "12149/12149 [==============================] - 6s 490us/step - loss: 0.0850 - acc: 0.9751 - val_loss: 0.1164 - val_acc: 0.9704\n",
            "Epoch 1135/1500\n",
            "12149/12149 [==============================] - 6s 531us/step - loss: 0.0852 - acc: 0.9747 - val_loss: 0.1152 - val_acc: 0.9681\n",
            "Epoch 1136/1500\n",
            "12149/12149 [==============================] - 6s 507us/step - loss: 0.0854 - acc: 0.9757 - val_loss: 0.1166 - val_acc: 0.9689\n",
            "Epoch 1137/1500\n",
            "12149/12149 [==============================] - 6s 475us/step - loss: 0.0842 - acc: 0.9758 - val_loss: 0.1179 - val_acc: 0.9696\n",
            "Epoch 1138/1500\n",
            "12149/12149 [==============================] - 6s 484us/step - loss: 0.0842 - acc: 0.9750 - val_loss: 0.1163 - val_acc: 0.9681\n",
            "Epoch 1139/1500\n",
            "12149/12149 [==============================] - 6s 485us/step - loss: 0.0850 - acc: 0.9747 - val_loss: 0.1206 - val_acc: 0.9696\n",
            "Epoch 1140/1500\n",
            "12149/12149 [==============================] - 6s 493us/step - loss: 0.0858 - acc: 0.9749 - val_loss: 0.1187 - val_acc: 0.9681\n",
            "Epoch 1141/1500\n",
            "12149/12149 [==============================] - 6s 488us/step - loss: 0.0859 - acc: 0.9754 - val_loss: 0.1162 - val_acc: 0.9689\n",
            "Epoch 1142/1500\n",
            "12149/12149 [==============================] - 6s 492us/step - loss: 0.0864 - acc: 0.9739 - val_loss: 0.1186 - val_acc: 0.9681\n",
            "Epoch 1143/1500\n",
            "12149/12149 [==============================] - 6s 484us/step - loss: 0.0852 - acc: 0.9744 - val_loss: 0.1199 - val_acc: 0.9689\n",
            "Epoch 1144/1500\n",
            "12149/12149 [==============================] - 6s 478us/step - loss: 0.0856 - acc: 0.9752 - val_loss: 0.1203 - val_acc: 0.9681\n",
            "Epoch 1145/1500\n",
            "12149/12149 [==============================] - 6s 478us/step - loss: 0.0844 - acc: 0.9755 - val_loss: 0.1206 - val_acc: 0.9689\n",
            "Epoch 1146/1500\n",
            "12149/12149 [==============================] - 6s 472us/step - loss: 0.0847 - acc: 0.9749 - val_loss: 0.1163 - val_acc: 0.9696\n",
            "Epoch 1147/1500\n",
            "12149/12149 [==============================] - 6s 464us/step - loss: 0.0855 - acc: 0.9755 - val_loss: 0.1210 - val_acc: 0.9681\n",
            "Epoch 1148/1500\n",
            "12149/12149 [==============================] - 6s 468us/step - loss: 0.0852 - acc: 0.9757 - val_loss: 0.1179 - val_acc: 0.9689\n",
            "Epoch 1149/1500\n",
            "12149/12149 [==============================] - 6s 474us/step - loss: 0.0851 - acc: 0.9757 - val_loss: 0.1193 - val_acc: 0.9696\n",
            "Epoch 1150/1500\n",
            "12149/12149 [==============================] - 6s 471us/step - loss: 0.0847 - acc: 0.9749 - val_loss: 0.1185 - val_acc: 0.9681\n",
            "Epoch 1151/1500\n",
            "12149/12149 [==============================] - 6s 467us/step - loss: 0.0853 - acc: 0.9756 - val_loss: 0.1203 - val_acc: 0.9659\n",
            "Epoch 1152/1500\n",
            "12149/12149 [==============================] - 6s 486us/step - loss: 0.0846 - acc: 0.9753 - val_loss: 0.1155 - val_acc: 0.9689\n",
            "Epoch 1153/1500\n",
            "12149/12149 [==============================] - 6s 486us/step - loss: 0.0849 - acc: 0.9751 - val_loss: 0.1184 - val_acc: 0.9689\n",
            "Epoch 1154/1500\n",
            "12149/12149 [==============================] - 6s 463us/step - loss: 0.0856 - acc: 0.9754 - val_loss: 0.1235 - val_acc: 0.9681\n",
            "Epoch 1155/1500\n",
            "12149/12149 [==============================] - 6s 460us/step - loss: 0.0863 - acc: 0.9746 - val_loss: 0.1174 - val_acc: 0.9704\n",
            "Epoch 1156/1500\n",
            "12149/12149 [==============================] - 6s 461us/step - loss: 0.0859 - acc: 0.9749 - val_loss: 0.1176 - val_acc: 0.9696\n",
            "Epoch 1157/1500\n",
            "12149/12149 [==============================] - 6s 467us/step - loss: 0.0849 - acc: 0.9752 - val_loss: 0.1196 - val_acc: 0.9674\n",
            "Epoch 1158/1500\n",
            "12149/12149 [==============================] - 6s 464us/step - loss: 0.0849 - acc: 0.9757 - val_loss: 0.1160 - val_acc: 0.9689\n",
            "Epoch 1159/1500\n",
            "12149/12149 [==============================] - 6s 471us/step - loss: 0.0850 - acc: 0.9757 - val_loss: 0.1210 - val_acc: 0.9681\n",
            "Epoch 1160/1500\n",
            "12149/12149 [==============================] - 6s 498us/step - loss: 0.0856 - acc: 0.9752 - val_loss: 0.1174 - val_acc: 0.9696\n",
            "Epoch 1161/1500\n",
            "12149/12149 [==============================] - 6s 471us/step - loss: 0.0861 - acc: 0.9747 - val_loss: 0.1185 - val_acc: 0.9689\n",
            "Epoch 1162/1500\n",
            "12149/12149 [==============================] - 6s 475us/step - loss: 0.0849 - acc: 0.9755 - val_loss: 0.1204 - val_acc: 0.9689\n",
            "Epoch 1163/1500\n",
            "12149/12149 [==============================] - 6s 485us/step - loss: 0.0854 - acc: 0.9749 - val_loss: 0.1193 - val_acc: 0.9689\n",
            "Epoch 1164/1500\n",
            "12149/12149 [==============================] - 6s 476us/step - loss: 0.0850 - acc: 0.9746 - val_loss: 0.1199 - val_acc: 0.9681\n",
            "Epoch 1165/1500\n",
            "12149/12149 [==============================] - 6s 471us/step - loss: 0.0858 - acc: 0.9752 - val_loss: 0.1225 - val_acc: 0.9681\n",
            "Epoch 1166/1500\n",
            "12149/12149 [==============================] - 6s 462us/step - loss: 0.0858 - acc: 0.9751 - val_loss: 0.1161 - val_acc: 0.9689\n",
            "Epoch 1167/1500\n",
            "12149/12149 [==============================] - 6s 464us/step - loss: 0.0854 - acc: 0.9749 - val_loss: 0.1158 - val_acc: 0.9704\n",
            "Epoch 1168/1500\n",
            "12149/12149 [==============================] - 6s 465us/step - loss: 0.0852 - acc: 0.9751 - val_loss: 0.1156 - val_acc: 0.9689\n",
            "Epoch 1169/1500\n",
            "12149/12149 [==============================] - 6s 466us/step - loss: 0.0855 - acc: 0.9749 - val_loss: 0.1186 - val_acc: 0.9674\n",
            "Epoch 1170/1500\n",
            "12149/12149 [==============================] - 6s 492us/step - loss: 0.0850 - acc: 0.9750 - val_loss: 0.1187 - val_acc: 0.9674\n",
            "Epoch 1171/1500\n",
            "12149/12149 [==============================] - 6s 475us/step - loss: 0.0849 - acc: 0.9750 - val_loss: 0.1258 - val_acc: 0.9667\n",
            "Epoch 1172/1500\n",
            "12149/12149 [==============================] - 6s 493us/step - loss: 0.0851 - acc: 0.9752 - val_loss: 0.1208 - val_acc: 0.9674\n",
            "Epoch 1173/1500\n",
            "12149/12149 [==============================] - 6s 515us/step - loss: 0.0868 - acc: 0.9738 - val_loss: 0.1254 - val_acc: 0.9667\n",
            "Epoch 1174/1500\n",
            "12149/12149 [==============================] - 6s 526us/step - loss: 0.0851 - acc: 0.9741 - val_loss: 0.1182 - val_acc: 0.9689\n",
            "Epoch 1175/1500\n",
            "12149/12149 [==============================] - 6s 486us/step - loss: 0.0859 - acc: 0.9746 - val_loss: 0.1172 - val_acc: 0.9681\n",
            "Epoch 1176/1500\n",
            "12149/12149 [==============================] - 6s 484us/step - loss: 0.0853 - acc: 0.9756 - val_loss: 0.1177 - val_acc: 0.9689\n",
            "Epoch 1177/1500\n",
            "12149/12149 [==============================] - 6s 487us/step - loss: 0.0862 - acc: 0.9745 - val_loss: 0.1188 - val_acc: 0.9681\n",
            "Epoch 1178/1500\n",
            "12149/12149 [==============================] - 6s 494us/step - loss: 0.0849 - acc: 0.9749 - val_loss: 0.1157 - val_acc: 0.9696\n",
            "Epoch 1179/1500\n",
            "12149/12149 [==============================] - 6s 470us/step - loss: 0.0841 - acc: 0.9753 - val_loss: 0.1197 - val_acc: 0.9681\n",
            "Epoch 1180/1500\n",
            "12149/12149 [==============================] - 6s 472us/step - loss: 0.0853 - acc: 0.9751 - val_loss: 0.1154 - val_acc: 0.9681\n",
            "Epoch 1181/1500\n",
            "12149/12149 [==============================] - 6s 471us/step - loss: 0.0852 - acc: 0.9750 - val_loss: 0.1161 - val_acc: 0.9674\n",
            "Epoch 1182/1500\n",
            "12149/12149 [==============================] - 6s 486us/step - loss: 0.0852 - acc: 0.9748 - val_loss: 0.1177 - val_acc: 0.9696\n",
            "Epoch 1183/1500\n",
            "12149/12149 [==============================] - 6s 480us/step - loss: 0.0866 - acc: 0.9752 - val_loss: 0.1156 - val_acc: 0.9696\n",
            "Epoch 1184/1500\n",
            "12149/12149 [==============================] - 6s 475us/step - loss: 0.0846 - acc: 0.9756 - val_loss: 0.1197 - val_acc: 0.9689\n",
            "Epoch 1185/1500\n",
            "12149/12149 [==============================] - 6s 481us/step - loss: 0.0849 - acc: 0.9755 - val_loss: 0.1170 - val_acc: 0.9696\n",
            "Epoch 1186/1500\n",
            "12149/12149 [==============================] - 6s 477us/step - loss: 0.0849 - acc: 0.9750 - val_loss: 0.1191 - val_acc: 0.9674\n",
            "Epoch 1187/1500\n",
            "12149/12149 [==============================] - 6s 481us/step - loss: 0.0846 - acc: 0.9746 - val_loss: 0.1227 - val_acc: 0.9674\n",
            "Epoch 1188/1500\n",
            "12149/12149 [==============================] - 6s 524us/step - loss: 0.0866 - acc: 0.9746 - val_loss: 0.1176 - val_acc: 0.9689\n",
            "Epoch 1189/1500\n",
            "12149/12149 [==============================] - 6s 496us/step - loss: 0.0856 - acc: 0.9745 - val_loss: 0.1168 - val_acc: 0.9696\n",
            "Epoch 1190/1500\n",
            "12149/12149 [==============================] - 6s 467us/step - loss: 0.0846 - acc: 0.9745 - val_loss: 0.1167 - val_acc: 0.9689\n",
            "Epoch 1191/1500\n",
            "12149/12149 [==============================] - 6s 476us/step - loss: 0.0846 - acc: 0.9747 - val_loss: 0.1177 - val_acc: 0.9689\n",
            "Epoch 1192/1500\n",
            "12149/12149 [==============================] - 6s 486us/step - loss: 0.0855 - acc: 0.9744 - val_loss: 0.1191 - val_acc: 0.9689\n",
            "Epoch 1193/1500\n",
            "12149/12149 [==============================] - 6s 471us/step - loss: 0.0849 - acc: 0.9752 - val_loss: 0.1176 - val_acc: 0.9689\n",
            "Epoch 1194/1500\n",
            "12149/12149 [==============================] - 6s 469us/step - loss: 0.0852 - acc: 0.9749 - val_loss: 0.1196 - val_acc: 0.9681\n",
            "Epoch 1195/1500\n",
            "12149/12149 [==============================] - 6s 464us/step - loss: 0.0857 - acc: 0.9742 - val_loss: 0.1222 - val_acc: 0.9681\n",
            "Epoch 1196/1500\n",
            "12149/12149 [==============================] - 6s 465us/step - loss: 0.0852 - acc: 0.9756 - val_loss: 0.1192 - val_acc: 0.9674\n",
            "Epoch 1197/1500\n",
            "12149/12149 [==============================] - 6s 462us/step - loss: 0.0844 - acc: 0.9752 - val_loss: 0.1147 - val_acc: 0.9719\n",
            "Epoch 1198/1500\n",
            "12149/12149 [==============================] - 6s 472us/step - loss: 0.0855 - acc: 0.9751 - val_loss: 0.1178 - val_acc: 0.9689\n",
            "Epoch 1199/1500\n",
            "12149/12149 [==============================] - 6s 466us/step - loss: 0.0844 - acc: 0.9751 - val_loss: 0.1165 - val_acc: 0.9704\n",
            "Epoch 1200/1500\n",
            "12149/12149 [==============================] - 6s 470us/step - loss: 0.0849 - acc: 0.9751 - val_loss: 0.1171 - val_acc: 0.9704\n",
            "Epoch 1201/1500\n",
            "12149/12149 [==============================] - 6s 470us/step - loss: 0.0849 - acc: 0.9741 - val_loss: 0.1148 - val_acc: 0.9689\n",
            "Epoch 1202/1500\n",
            "12149/12149 [==============================] - 6s 467us/step - loss: 0.0841 - acc: 0.9758 - val_loss: 0.1207 - val_acc: 0.9689\n",
            "Epoch 1203/1500\n",
            "12149/12149 [==============================] - 6s 469us/step - loss: 0.0850 - acc: 0.9743 - val_loss: 0.1145 - val_acc: 0.9704\n",
            "Epoch 1204/1500\n",
            "12149/12149 [==============================] - 6s 474us/step - loss: 0.0858 - acc: 0.9746 - val_loss: 0.1161 - val_acc: 0.9704\n",
            "Epoch 1205/1500\n",
            "12149/12149 [==============================] - 6s 477us/step - loss: 0.0843 - acc: 0.9746 - val_loss: 0.1175 - val_acc: 0.9689\n",
            "Epoch 1206/1500\n",
            "12149/12149 [==============================] - 6s 464us/step - loss: 0.0847 - acc: 0.9748 - val_loss: 0.1189 - val_acc: 0.9689\n",
            "Epoch 1207/1500\n",
            "12149/12149 [==============================] - 6s 465us/step - loss: 0.0846 - acc: 0.9746 - val_loss: 0.1205 - val_acc: 0.9696\n",
            "Epoch 1208/1500\n",
            "12149/12149 [==============================] - 6s 465us/step - loss: 0.0852 - acc: 0.9751 - val_loss: 0.1163 - val_acc: 0.9696\n",
            "Epoch 1209/1500\n",
            "12149/12149 [==============================] - 6s 460us/step - loss: 0.0847 - acc: 0.9751 - val_loss: 0.1162 - val_acc: 0.9711\n",
            "Epoch 1210/1500\n",
            "12149/12149 [==============================] - 6s 463us/step - loss: 0.0862 - acc: 0.9749 - val_loss: 0.1181 - val_acc: 0.9681\n",
            "Epoch 1211/1500\n",
            "12149/12149 [==============================] - 6s 474us/step - loss: 0.0861 - acc: 0.9739 - val_loss: 0.1188 - val_acc: 0.9689\n",
            "Epoch 1212/1500\n",
            "12149/12149 [==============================] - 6s 483us/step - loss: 0.0843 - acc: 0.9755 - val_loss: 0.1200 - val_acc: 0.9681\n",
            "Epoch 1213/1500\n",
            "12149/12149 [==============================] - 6s 474us/step - loss: 0.0847 - acc: 0.9747 - val_loss: 0.1185 - val_acc: 0.9681\n",
            "Epoch 1214/1500\n",
            "12149/12149 [==============================] - 6s 472us/step - loss: 0.0855 - acc: 0.9742 - val_loss: 0.1205 - val_acc: 0.9696\n",
            "Epoch 1215/1500\n",
            "12149/12149 [==============================] - 6s 467us/step - loss: 0.0860 - acc: 0.9743 - val_loss: 0.1191 - val_acc: 0.9689\n",
            "Epoch 1216/1500\n",
            "12149/12149 [==============================] - 6s 466us/step - loss: 0.0840 - acc: 0.9757 - val_loss: 0.1196 - val_acc: 0.9681\n",
            "Epoch 1217/1500\n",
            "12149/12149 [==============================] - 6s 464us/step - loss: 0.0849 - acc: 0.9752 - val_loss: 0.1176 - val_acc: 0.9696\n",
            "Epoch 1218/1500\n",
            "12149/12149 [==============================] - 6s 463us/step - loss: 0.0857 - acc: 0.9754 - val_loss: 0.1161 - val_acc: 0.9689\n",
            "Epoch 1219/1500\n",
            "12149/12149 [==============================] - 6s 469us/step - loss: 0.0857 - acc: 0.9745 - val_loss: 0.1182 - val_acc: 0.9696\n",
            "Epoch 1220/1500\n",
            "12149/12149 [==============================] - 6s 479us/step - loss: 0.0854 - acc: 0.9744 - val_loss: 0.1191 - val_acc: 0.9704\n",
            "Epoch 1221/1500\n",
            "12149/12149 [==============================] - 6s 465us/step - loss: 0.0859 - acc: 0.9746 - val_loss: 0.1243 - val_acc: 0.9674\n",
            "Epoch 1222/1500\n",
            "12149/12149 [==============================] - 6s 469us/step - loss: 0.0850 - acc: 0.9751 - val_loss: 0.1170 - val_acc: 0.9689\n",
            "Epoch 1223/1500\n",
            "12149/12149 [==============================] - 6s 518us/step - loss: 0.0844 - acc: 0.9757 - val_loss: 0.1196 - val_acc: 0.9704\n",
            "Epoch 1224/1500\n",
            "12149/12149 [==============================] - 6s 469us/step - loss: 0.0860 - acc: 0.9751 - val_loss: 0.1192 - val_acc: 0.9681\n",
            "Epoch 1225/1500\n",
            "12149/12149 [==============================] - 6s 472us/step - loss: 0.0859 - acc: 0.9741 - val_loss: 0.1169 - val_acc: 0.9704\n",
            "Epoch 1226/1500\n",
            "12149/12149 [==============================] - 6s 470us/step - loss: 0.0850 - acc: 0.9749 - val_loss: 0.1196 - val_acc: 0.9689\n",
            "Epoch 1227/1500\n",
            "12149/12149 [==============================] - 6s 483us/step - loss: 0.0853 - acc: 0.9751 - val_loss: 0.1183 - val_acc: 0.9689\n",
            "Epoch 1228/1500\n",
            "12149/12149 [==============================] - 6s 464us/step - loss: 0.0862 - acc: 0.9751 - val_loss: 0.1196 - val_acc: 0.9704\n",
            "Epoch 1229/1500\n",
            "12149/12149 [==============================] - 6s 466us/step - loss: 0.0846 - acc: 0.9755 - val_loss: 0.1194 - val_acc: 0.9696\n",
            "Epoch 1230/1500\n",
            "12149/12149 [==============================] - 6s 490us/step - loss: 0.0843 - acc: 0.9753 - val_loss: 0.1225 - val_acc: 0.9681\n",
            "Epoch 1231/1500\n",
            "12149/12149 [==============================] - 6s 497us/step - loss: 0.0848 - acc: 0.9758 - val_loss: 0.1209 - val_acc: 0.9681\n",
            "Epoch 1232/1500\n",
            "12149/12149 [==============================] - 6s 466us/step - loss: 0.0851 - acc: 0.9742 - val_loss: 0.1195 - val_acc: 0.9681\n",
            "Epoch 1233/1500\n",
            "12149/12149 [==============================] - 6s 467us/step - loss: 0.0864 - acc: 0.9746 - val_loss: 0.1175 - val_acc: 0.9681\n",
            "Epoch 1234/1500\n",
            "12149/12149 [==============================] - 6s 500us/step - loss: 0.0848 - acc: 0.9751 - val_loss: 0.1155 - val_acc: 0.9696\n",
            "Epoch 1235/1500\n",
            "12149/12149 [==============================] - 6s 469us/step - loss: 0.0843 - acc: 0.9756 - val_loss: 0.1191 - val_acc: 0.9689\n",
            "Epoch 1236/1500\n",
            "12149/12149 [==============================] - 6s 473us/step - loss: 0.0852 - acc: 0.9747 - val_loss: 0.1181 - val_acc: 0.9689\n",
            "Epoch 1237/1500\n",
            "12149/12149 [==============================] - 6s 517us/step - loss: 0.0850 - acc: 0.9752 - val_loss: 0.1209 - val_acc: 0.9681\n",
            "Epoch 1238/1500\n",
            "12149/12149 [==============================] - 6s 461us/step - loss: 0.0853 - acc: 0.9748 - val_loss: 0.1203 - val_acc: 0.9696\n",
            "Epoch 1239/1500\n",
            "12149/12149 [==============================] - 6s 463us/step - loss: 0.0853 - acc: 0.9747 - val_loss: 0.1162 - val_acc: 0.9704\n",
            "Epoch 1240/1500\n",
            "12149/12149 [==============================] - 6s 466us/step - loss: 0.0847 - acc: 0.9746 - val_loss: 0.1164 - val_acc: 0.9696\n",
            "Epoch 1241/1500\n",
            "12149/12149 [==============================] - 6s 486us/step - loss: 0.0860 - acc: 0.9749 - val_loss: 0.1190 - val_acc: 0.9696\n",
            "Epoch 1242/1500\n",
            "12149/12149 [==============================] - 6s 526us/step - loss: 0.0847 - acc: 0.9753 - val_loss: 0.1157 - val_acc: 0.9681\n",
            "Epoch 1243/1500\n",
            "12149/12149 [==============================] - 6s 488us/step - loss: 0.0850 - acc: 0.9748 - val_loss: 0.1179 - val_acc: 0.9704\n",
            "Epoch 1244/1500\n",
            "12149/12149 [==============================] - 6s 469us/step - loss: 0.0853 - acc: 0.9746 - val_loss: 0.1180 - val_acc: 0.9681\n",
            "Epoch 1245/1500\n",
            "12149/12149 [==============================] - 6s 471us/step - loss: 0.0854 - acc: 0.9751 - val_loss: 0.1194 - val_acc: 0.9659\n",
            "Epoch 1246/1500\n",
            "12149/12149 [==============================] - 6s 482us/step - loss: 0.0838 - acc: 0.9748 - val_loss: 0.1188 - val_acc: 0.9711\n",
            "Epoch 1247/1500\n",
            "12149/12149 [==============================] - 6s 486us/step - loss: 0.0854 - acc: 0.9747 - val_loss: 0.1172 - val_acc: 0.9689\n",
            "Epoch 1248/1500\n",
            "12149/12149 [==============================] - 6s 460us/step - loss: 0.0854 - acc: 0.9756 - val_loss: 0.1186 - val_acc: 0.9689\n",
            "Epoch 1249/1500\n",
            "12149/12149 [==============================] - 6s 464us/step - loss: 0.0844 - acc: 0.9763 - val_loss: 0.1194 - val_acc: 0.9681\n",
            "Epoch 1250/1500\n",
            "12149/12149 [==============================] - 6s 486us/step - loss: 0.0858 - acc: 0.9748 - val_loss: 0.1212 - val_acc: 0.9689\n",
            "Epoch 1251/1500\n",
            "12149/12149 [==============================] - 6s 508us/step - loss: 0.0849 - acc: 0.9748 - val_loss: 0.1178 - val_acc: 0.9704\n",
            "Epoch 1252/1500\n",
            "12149/12149 [==============================] - 6s 473us/step - loss: 0.0850 - acc: 0.9742 - val_loss: 0.1191 - val_acc: 0.9704\n",
            "Epoch 1253/1500\n",
            "12149/12149 [==============================] - 6s 470us/step - loss: 0.0849 - acc: 0.9750 - val_loss: 0.1182 - val_acc: 0.9689\n",
            "Epoch 1254/1500\n",
            "12149/12149 [==============================] - 6s 476us/step - loss: 0.0872 - acc: 0.9742 - val_loss: 0.1203 - val_acc: 0.9689\n",
            "Epoch 1255/1500\n",
            "12149/12149 [==============================] - 6s 468us/step - loss: 0.0858 - acc: 0.9750 - val_loss: 0.1166 - val_acc: 0.9689\n",
            "Epoch 1256/1500\n",
            "12149/12149 [==============================] - 6s 470us/step - loss: 0.0847 - acc: 0.9756 - val_loss: 0.1164 - val_acc: 0.9681\n",
            "Epoch 1257/1500\n",
            "12149/12149 [==============================] - 6s 479us/step - loss: 0.0843 - acc: 0.9756 - val_loss: 0.1165 - val_acc: 0.9674\n",
            "Epoch 1258/1500\n",
            "12149/12149 [==============================] - 6s 469us/step - loss: 0.0852 - acc: 0.9747 - val_loss: 0.1200 - val_acc: 0.9681\n",
            "Epoch 1259/1500\n",
            "12149/12149 [==============================] - 6s 466us/step - loss: 0.0854 - acc: 0.9744 - val_loss: 0.1169 - val_acc: 0.9696\n",
            "Epoch 1260/1500\n",
            "12149/12149 [==============================] - 6s 463us/step - loss: 0.0847 - acc: 0.9751 - val_loss: 0.1172 - val_acc: 0.9696\n",
            "Epoch 1261/1500\n",
            "12149/12149 [==============================] - 6s 469us/step - loss: 0.0859 - acc: 0.9735 - val_loss: 0.1213 - val_acc: 0.9689\n",
            "Epoch 1262/1500\n",
            "12149/12149 [==============================] - 6s 469us/step - loss: 0.0855 - acc: 0.9747 - val_loss: 0.1180 - val_acc: 0.9689\n",
            "Epoch 1263/1500\n",
            "12149/12149 [==============================] - 6s 474us/step - loss: 0.0847 - acc: 0.9751 - val_loss: 0.1195 - val_acc: 0.9696\n",
            "Epoch 1264/1500\n",
            "12149/12149 [==============================] - 6s 474us/step - loss: 0.0852 - acc: 0.9751 - val_loss: 0.1170 - val_acc: 0.9681\n",
            "Epoch 1265/1500\n",
            "12149/12149 [==============================] - 6s 473us/step - loss: 0.0844 - acc: 0.9756 - val_loss: 0.1149 - val_acc: 0.9689\n",
            "Epoch 1266/1500\n",
            "12149/12149 [==============================] - 6s 472us/step - loss: 0.0852 - acc: 0.9754 - val_loss: 0.1157 - val_acc: 0.9689\n",
            "Epoch 1267/1500\n",
            "12149/12149 [==============================] - 6s 472us/step - loss: 0.0838 - acc: 0.9753 - val_loss: 0.1165 - val_acc: 0.9696\n",
            "Epoch 1268/1500\n",
            "12149/12149 [==============================] - 6s 458us/step - loss: 0.0848 - acc: 0.9756 - val_loss: 0.1207 - val_acc: 0.9689\n",
            "Epoch 1269/1500\n",
            "12149/12149 [==============================] - 6s 457us/step - loss: 0.0852 - acc: 0.9757 - val_loss: 0.1187 - val_acc: 0.9689\n",
            "Epoch 1270/1500\n",
            "12149/12149 [==============================] - 6s 454us/step - loss: 0.0849 - acc: 0.9749 - val_loss: 0.1165 - val_acc: 0.9704\n",
            "Epoch 1271/1500\n",
            "12149/12149 [==============================] - 6s 473us/step - loss: 0.0853 - acc: 0.9740 - val_loss: 0.1190 - val_acc: 0.9689\n",
            "Epoch 1272/1500\n",
            "12149/12149 [==============================] - 6s 461us/step - loss: 0.0852 - acc: 0.9753 - val_loss: 0.1158 - val_acc: 0.9689\n",
            "Epoch 1273/1500\n",
            "12149/12149 [==============================] - 6s 461us/step - loss: 0.0847 - acc: 0.9748 - val_loss: 0.1198 - val_acc: 0.9696\n",
            "Epoch 1274/1500\n",
            "12149/12149 [==============================] - 6s 458us/step - loss: 0.0840 - acc: 0.9756 - val_loss: 0.1172 - val_acc: 0.9711\n",
            "Epoch 1275/1500\n",
            "12149/12149 [==============================] - 6s 458us/step - loss: 0.0843 - acc: 0.9759 - val_loss: 0.1193 - val_acc: 0.9689\n",
            "Epoch 1276/1500\n",
            "12149/12149 [==============================] - 6s 460us/step - loss: 0.0874 - acc: 0.9736 - val_loss: 0.1163 - val_acc: 0.9689\n",
            "Epoch 1277/1500\n",
            "12149/12149 [==============================] - 6s 458us/step - loss: 0.0857 - acc: 0.9749 - val_loss: 0.1169 - val_acc: 0.9689\n",
            "Epoch 1278/1500\n",
            "12149/12149 [==============================] - 6s 459us/step - loss: 0.0841 - acc: 0.9755 - val_loss: 0.1201 - val_acc: 0.9681\n",
            "Epoch 1279/1500\n",
            "12149/12149 [==============================] - 6s 458us/step - loss: 0.0841 - acc: 0.9746 - val_loss: 0.1199 - val_acc: 0.9674\n",
            "Epoch 1280/1500\n",
            "12149/12149 [==============================] - 6s 467us/step - loss: 0.0855 - acc: 0.9745 - val_loss: 0.1181 - val_acc: 0.9689\n",
            "Epoch 1281/1500\n",
            "12149/12149 [==============================] - 6s 462us/step - loss: 0.0848 - acc: 0.9752 - val_loss: 0.1187 - val_acc: 0.9681\n",
            "Epoch 1282/1500\n",
            "12149/12149 [==============================] - 6s 458us/step - loss: 0.0842 - acc: 0.9758 - val_loss: 0.1206 - val_acc: 0.9696\n",
            "Epoch 1283/1500\n",
            "12149/12149 [==============================] - 6s 489us/step - loss: 0.0852 - acc: 0.9751 - val_loss: 0.1208 - val_acc: 0.9696\n",
            "Epoch 1284/1500\n",
            "12149/12149 [==============================] - 6s 525us/step - loss: 0.0850 - acc: 0.9750 - val_loss: 0.1193 - val_acc: 0.9681\n",
            "Epoch 1285/1500\n",
            "12149/12149 [==============================] - 6s 520us/step - loss: 0.0850 - acc: 0.9751 - val_loss: 0.1167 - val_acc: 0.9681\n",
            "Epoch 1286/1500\n",
            "12149/12149 [==============================] - 6s 479us/step - loss: 0.0843 - acc: 0.9755 - val_loss: 0.1197 - val_acc: 0.9681\n",
            "Epoch 1287/1500\n",
            "12149/12149 [==============================] - 6s 484us/step - loss: 0.0847 - acc: 0.9758 - val_loss: 0.1203 - val_acc: 0.9689\n",
            "Epoch 1288/1500\n",
            "12149/12149 [==============================] - 6s 493us/step - loss: 0.0851 - acc: 0.9739 - val_loss: 0.1188 - val_acc: 0.9689\n",
            "Epoch 1289/1500\n",
            "12149/12149 [==============================] - 6s 503us/step - loss: 0.0854 - acc: 0.9746 - val_loss: 0.1211 - val_acc: 0.9681\n",
            "Epoch 1290/1500\n",
            "12149/12149 [==============================] - 6s 497us/step - loss: 0.0848 - acc: 0.9746 - val_loss: 0.1159 - val_acc: 0.9696\n",
            "Epoch 1291/1500\n",
            "12149/12149 [==============================] - 6s 493us/step - loss: 0.0842 - acc: 0.9751 - val_loss: 0.1193 - val_acc: 0.9689\n",
            "Epoch 1292/1500\n",
            "12149/12149 [==============================] - 6s 473us/step - loss: 0.0842 - acc: 0.9758 - val_loss: 0.1218 - val_acc: 0.9681\n",
            "Epoch 1293/1500\n",
            "12149/12149 [==============================] - 6s 488us/step - loss: 0.0856 - acc: 0.9746 - val_loss: 0.1198 - val_acc: 0.9689\n",
            "Epoch 1294/1500\n",
            "12149/12149 [==============================] - 6s 469us/step - loss: 0.0860 - acc: 0.9745 - val_loss: 0.1210 - val_acc: 0.9674\n",
            "Epoch 1295/1500\n",
            "12149/12149 [==============================] - 6s 498us/step - loss: 0.0859 - acc: 0.9746 - val_loss: 0.1172 - val_acc: 0.9689\n",
            "Epoch 1296/1500\n",
            "12149/12149 [==============================] - 6s 525us/step - loss: 0.0864 - acc: 0.9749 - val_loss: 0.1182 - val_acc: 0.9681\n",
            "Epoch 1297/1500\n",
            "12149/12149 [==============================] - 6s 471us/step - loss: 0.0845 - acc: 0.9751 - val_loss: 0.1154 - val_acc: 0.9704\n",
            "Epoch 1298/1500\n",
            "12149/12149 [==============================] - 6s 468us/step - loss: 0.0850 - acc: 0.9751 - val_loss: 0.1178 - val_acc: 0.9689\n",
            "Epoch 1299/1500\n",
            "12149/12149 [==============================] - 6s 470us/step - loss: 0.0853 - acc: 0.9747 - val_loss: 0.1161 - val_acc: 0.9704\n",
            "Epoch 1300/1500\n",
            "12149/12149 [==============================] - 6s 470us/step - loss: 0.0843 - acc: 0.9751 - val_loss: 0.1170 - val_acc: 0.9689\n",
            "Epoch 1301/1500\n",
            "12149/12149 [==============================] - 6s 463us/step - loss: 0.0857 - acc: 0.9751 - val_loss: 0.1183 - val_acc: 0.9681\n",
            "Epoch 1302/1500\n",
            "12149/12149 [==============================] - 6s 469us/step - loss: 0.0860 - acc: 0.9750 - val_loss: 0.1182 - val_acc: 0.9674\n",
            "Epoch 1303/1500\n",
            "12149/12149 [==============================] - 6s 472us/step - loss: 0.0851 - acc: 0.9748 - val_loss: 0.1148 - val_acc: 0.9704\n",
            "Epoch 1304/1500\n",
            "12149/12149 [==============================] - 6s 468us/step - loss: 0.0857 - acc: 0.9744 - val_loss: 0.1173 - val_acc: 0.9696\n",
            "Epoch 1305/1500\n",
            "12149/12149 [==============================] - 6s 465us/step - loss: 0.0860 - acc: 0.9746 - val_loss: 0.1170 - val_acc: 0.9681\n",
            "Epoch 1306/1500\n",
            "12149/12149 [==============================] - 6s 470us/step - loss: 0.0840 - acc: 0.9749 - val_loss: 0.1194 - val_acc: 0.9681\n",
            "Epoch 1307/1500\n",
            "12149/12149 [==============================] - 6s 473us/step - loss: 0.0843 - acc: 0.9754 - val_loss: 0.1192 - val_acc: 0.9689\n",
            "Epoch 1308/1500\n",
            "12149/12149 [==============================] - 6s 467us/step - loss: 0.0846 - acc: 0.9753 - val_loss: 0.1224 - val_acc: 0.9681\n",
            "Epoch 1309/1500\n",
            "12149/12149 [==============================] - 6s 462us/step - loss: 0.0840 - acc: 0.9745 - val_loss: 0.1201 - val_acc: 0.9704\n",
            "Epoch 1310/1500\n",
            "12149/12149 [==============================] - 6s 460us/step - loss: 0.0859 - acc: 0.9742 - val_loss: 0.1160 - val_acc: 0.9696\n",
            "Epoch 1311/1500\n",
            "12149/12149 [==============================] - 6s 454us/step - loss: 0.0850 - acc: 0.9758 - val_loss: 0.1191 - val_acc: 0.9696\n",
            "Epoch 1312/1500\n",
            "12149/12149 [==============================] - 6s 457us/step - loss: 0.0845 - acc: 0.9746 - val_loss: 0.1150 - val_acc: 0.9696\n",
            "Epoch 1313/1500\n",
            "12149/12149 [==============================] - 6s 458us/step - loss: 0.0848 - acc: 0.9751 - val_loss: 0.1159 - val_acc: 0.9696\n",
            "Epoch 1314/1500\n",
            "12149/12149 [==============================] - 6s 490us/step - loss: 0.0847 - acc: 0.9755 - val_loss: 0.1199 - val_acc: 0.9681\n",
            "Epoch 1315/1500\n",
            "12149/12149 [==============================] - 6s 483us/step - loss: 0.0854 - acc: 0.9755 - val_loss: 0.1166 - val_acc: 0.9704\n",
            "Epoch 1316/1500\n",
            "12149/12149 [==============================] - 6s 470us/step - loss: 0.0847 - acc: 0.9760 - val_loss: 0.1184 - val_acc: 0.9681\n",
            "Epoch 1317/1500\n",
            "12149/12149 [==============================] - 6s 464us/step - loss: 0.0847 - acc: 0.9746 - val_loss: 0.1202 - val_acc: 0.9696\n",
            "Epoch 1318/1500\n",
            "12149/12149 [==============================] - 6s 465us/step - loss: 0.0849 - acc: 0.9751 - val_loss: 0.1147 - val_acc: 0.9696\n",
            "Epoch 1319/1500\n",
            "12149/12149 [==============================] - 6s 467us/step - loss: 0.0851 - acc: 0.9761 - val_loss: 0.1166 - val_acc: 0.9689\n",
            "Epoch 1320/1500\n",
            "12149/12149 [==============================] - 6s 464us/step - loss: 0.0843 - acc: 0.9753 - val_loss: 0.1159 - val_acc: 0.9696\n",
            "Epoch 1321/1500\n",
            "12149/12149 [==============================] - 6s 499us/step - loss: 0.0849 - acc: 0.9752 - val_loss: 0.1176 - val_acc: 0.9696\n",
            "Epoch 1322/1500\n",
            "12149/12149 [==============================] - 6s 463us/step - loss: 0.0849 - acc: 0.9749 - val_loss: 0.1180 - val_acc: 0.9681\n",
            "Epoch 1323/1500\n",
            "12149/12149 [==============================] - 6s 464us/step - loss: 0.0853 - acc: 0.9753 - val_loss: 0.1189 - val_acc: 0.9689\n",
            "Epoch 1324/1500\n",
            "12149/12149 [==============================] - 6s 467us/step - loss: 0.0844 - acc: 0.9751 - val_loss: 0.1178 - val_acc: 0.9696\n",
            "Epoch 1325/1500\n",
            "12149/12149 [==============================] - 6s 471us/step - loss: 0.0839 - acc: 0.9759 - val_loss: 0.1244 - val_acc: 0.9696\n",
            "Epoch 1326/1500\n",
            "12149/12149 [==============================] - 6s 468us/step - loss: 0.0871 - acc: 0.9751 - val_loss: 0.1160 - val_acc: 0.9681\n",
            "Epoch 1327/1500\n",
            "12149/12149 [==============================] - 6s 494us/step - loss: 0.0846 - acc: 0.9752 - val_loss: 0.1168 - val_acc: 0.9667\n",
            "Epoch 1328/1500\n",
            "12149/12149 [==============================] - 6s 473us/step - loss: 0.0855 - acc: 0.9748 - val_loss: 0.1191 - val_acc: 0.9674\n",
            "Epoch 1329/1500\n",
            "12149/12149 [==============================] - 6s 476us/step - loss: 0.0854 - acc: 0.9742 - val_loss: 0.1188 - val_acc: 0.9689\n",
            "Epoch 1330/1500\n",
            "12149/12149 [==============================] - 6s 472us/step - loss: 0.0846 - acc: 0.9752 - val_loss: 0.1223 - val_acc: 0.9696\n",
            "Epoch 1331/1500\n",
            "12149/12149 [==============================] - 6s 468us/step - loss: 0.0864 - acc: 0.9750 - val_loss: 0.1167 - val_acc: 0.9696\n",
            "Epoch 1332/1500\n",
            "12149/12149 [==============================] - 6s 465us/step - loss: 0.0848 - acc: 0.9753 - val_loss: 0.1160 - val_acc: 0.9689\n",
            "Epoch 1333/1500\n",
            "12149/12149 [==============================] - 6s 463us/step - loss: 0.0855 - acc: 0.9742 - val_loss: 0.1164 - val_acc: 0.9704\n",
            "Epoch 1334/1500\n",
            "12149/12149 [==============================] - 6s 460us/step - loss: 0.0848 - acc: 0.9750 - val_loss: 0.1178 - val_acc: 0.9681\n",
            "Epoch 1335/1500\n",
            "12149/12149 [==============================] - 6s 473us/step - loss: 0.0851 - acc: 0.9754 - val_loss: 0.1201 - val_acc: 0.9704\n",
            "Epoch 1336/1500\n",
            "12149/12149 [==============================] - 6s 498us/step - loss: 0.0848 - acc: 0.9760 - val_loss: 0.1168 - val_acc: 0.9681\n",
            "Epoch 1337/1500\n",
            "12149/12149 [==============================] - 6s 498us/step - loss: 0.0861 - acc: 0.9749 - val_loss: 0.1178 - val_acc: 0.9667\n",
            "Epoch 1338/1500\n",
            "12149/12149 [==============================] - 6s 473us/step - loss: 0.0846 - acc: 0.9753 - val_loss: 0.1159 - val_acc: 0.9696\n",
            "Epoch 1339/1500\n",
            "12149/12149 [==============================] - 6s 469us/step - loss: 0.0851 - acc: 0.9742 - val_loss: 0.1175 - val_acc: 0.9696\n",
            "Epoch 1340/1500\n",
            "12149/12149 [==============================] - 6s 471us/step - loss: 0.0851 - acc: 0.9748 - val_loss: 0.1160 - val_acc: 0.9704\n",
            "Epoch 1341/1500\n",
            "12149/12149 [==============================] - 6s 463us/step - loss: 0.0846 - acc: 0.9743 - val_loss: 0.1220 - val_acc: 0.9689\n",
            "Epoch 1342/1500\n",
            "12149/12149 [==============================] - 6s 462us/step - loss: 0.0840 - acc: 0.9756 - val_loss: 0.1172 - val_acc: 0.9681\n",
            "Epoch 1343/1500\n",
            "12149/12149 [==============================] - 6s 463us/step - loss: 0.0865 - acc: 0.9743 - val_loss: 0.1219 - val_acc: 0.9674\n",
            "Epoch 1344/1500\n",
            "12149/12149 [==============================] - 6s 465us/step - loss: 0.0854 - acc: 0.9751 - val_loss: 0.1187 - val_acc: 0.9696\n",
            "Epoch 1345/1500\n",
            "12149/12149 [==============================] - 6s 498us/step - loss: 0.0855 - acc: 0.9746 - val_loss: 0.1186 - val_acc: 0.9674\n",
            "Epoch 1346/1500\n",
            "12149/12149 [==============================] - 6s 471us/step - loss: 0.0855 - acc: 0.9748 - val_loss: 0.1195 - val_acc: 0.9681\n",
            "Epoch 1347/1500\n",
            "12149/12149 [==============================] - 6s 471us/step - loss: 0.0847 - acc: 0.9753 - val_loss: 0.1221 - val_acc: 0.9681\n",
            "Epoch 1348/1500\n",
            "12149/12149 [==============================] - 6s 463us/step - loss: 0.0860 - acc: 0.9741 - val_loss: 0.1165 - val_acc: 0.9689\n",
            "Epoch 1349/1500\n",
            "12149/12149 [==============================] - 6s 493us/step - loss: 0.0848 - acc: 0.9751 - val_loss: 0.1189 - val_acc: 0.9681\n",
            "Epoch 1350/1500\n",
            "12149/12149 [==============================] - 6s 529us/step - loss: 0.0846 - acc: 0.9753 - val_loss: 0.1165 - val_acc: 0.9704\n",
            "Epoch 1351/1500\n",
            "12149/12149 [==============================] - 6s 497us/step - loss: 0.0844 - acc: 0.9756 - val_loss: 0.1176 - val_acc: 0.9689\n",
            "Epoch 1352/1500\n",
            "12149/12149 [==============================] - 6s 478us/step - loss: 0.0845 - acc: 0.9755 - val_loss: 0.1147 - val_acc: 0.9681\n",
            "Epoch 1353/1500\n",
            "12149/12149 [==============================] - 6s 463us/step - loss: 0.0865 - acc: 0.9745 - val_loss: 0.1162 - val_acc: 0.9704\n",
            "Epoch 1354/1500\n",
            "12149/12149 [==============================] - 6s 464us/step - loss: 0.0837 - acc: 0.9755 - val_loss: 0.1190 - val_acc: 0.9696\n",
            "Epoch 1355/1500\n",
            "12149/12149 [==============================] - 6s 464us/step - loss: 0.0849 - acc: 0.9745 - val_loss: 0.1171 - val_acc: 0.9704\n",
            "Epoch 1356/1500\n",
            "12149/12149 [==============================] - 6s 477us/step - loss: 0.0855 - acc: 0.9745 - val_loss: 0.1167 - val_acc: 0.9696\n",
            "Epoch 1357/1500\n",
            "12149/12149 [==============================] - 6s 476us/step - loss: 0.0851 - acc: 0.9749 - val_loss: 0.1193 - val_acc: 0.9681\n",
            "Epoch 1358/1500\n",
            "12149/12149 [==============================] - 6s 509us/step - loss: 0.0853 - acc: 0.9753 - val_loss: 0.1217 - val_acc: 0.9696\n",
            "Epoch 1359/1500\n",
            "12149/12149 [==============================] - 6s 467us/step - loss: 0.0844 - acc: 0.9756 - val_loss: 0.1188 - val_acc: 0.9689\n",
            "Epoch 1360/1500\n",
            "12149/12149 [==============================] - 6s 467us/step - loss: 0.0837 - acc: 0.9751 - val_loss: 0.1210 - val_acc: 0.9689\n",
            "Epoch 1361/1500\n",
            "12149/12149 [==============================] - 6s 469us/step - loss: 0.0849 - acc: 0.9751 - val_loss: 0.1198 - val_acc: 0.9704\n",
            "Epoch 1362/1500\n",
            "12149/12149 [==============================] - 6s 464us/step - loss: 0.0841 - acc: 0.9761 - val_loss: 0.1170 - val_acc: 0.9689\n",
            "Epoch 1363/1500\n",
            "12149/12149 [==============================] - 6s 470us/step - loss: 0.0864 - acc: 0.9742 - val_loss: 0.1180 - val_acc: 0.9696\n",
            "Epoch 1364/1500\n",
            "12149/12149 [==============================] - 6s 463us/step - loss: 0.0846 - acc: 0.9760 - val_loss: 0.1225 - val_acc: 0.9681\n",
            "Epoch 1365/1500\n",
            "12149/12149 [==============================] - 6s 464us/step - loss: 0.0840 - acc: 0.9756 - val_loss: 0.1199 - val_acc: 0.9696\n",
            "Epoch 1366/1500\n",
            "12149/12149 [==============================] - 6s 466us/step - loss: 0.0851 - acc: 0.9745 - val_loss: 0.1197 - val_acc: 0.9689\n",
            "Epoch 1367/1500\n",
            "12149/12149 [==============================] - 6s 477us/step - loss: 0.0850 - acc: 0.9753 - val_loss: 0.1149 - val_acc: 0.9689\n",
            "Epoch 1368/1500\n",
            "12149/12149 [==============================] - 6s 462us/step - loss: 0.0846 - acc: 0.9758 - val_loss: 0.1164 - val_acc: 0.9696\n",
            "Epoch 1369/1500\n",
            "12149/12149 [==============================] - 6s 465us/step - loss: 0.0841 - acc: 0.9756 - val_loss: 0.1176 - val_acc: 0.9704\n",
            "Epoch 1370/1500\n",
            "12149/12149 [==============================] - 6s 466us/step - loss: 0.0850 - acc: 0.9750 - val_loss: 0.1160 - val_acc: 0.9726\n",
            "Epoch 1371/1500\n",
            "12149/12149 [==============================] - 6s 469us/step - loss: 0.0848 - acc: 0.9747 - val_loss: 0.1188 - val_acc: 0.9711\n",
            "Epoch 1372/1500\n",
            "12149/12149 [==============================] - 6s 469us/step - loss: 0.0850 - acc: 0.9752 - val_loss: 0.1174 - val_acc: 0.9689\n",
            "Epoch 1373/1500\n",
            "12149/12149 [==============================] - 6s 460us/step - loss: 0.0849 - acc: 0.9751 - val_loss: 0.1209 - val_acc: 0.9674\n",
            "Epoch 1374/1500\n",
            "12149/12149 [==============================] - 6s 499us/step - loss: 0.0846 - acc: 0.9757 - val_loss: 0.1182 - val_acc: 0.9696\n",
            "Epoch 1375/1500\n",
            "12149/12149 [==============================] - 6s 463us/step - loss: 0.0844 - acc: 0.9750 - val_loss: 0.1210 - val_acc: 0.9689\n",
            "Epoch 1376/1500\n",
            "12149/12149 [==============================] - 6s 463us/step - loss: 0.0842 - acc: 0.9758 - val_loss: 0.1175 - val_acc: 0.9696\n",
            "Epoch 1377/1500\n",
            "12149/12149 [==============================] - 6s 467us/step - loss: 0.0848 - acc: 0.9757 - val_loss: 0.1181 - val_acc: 0.9689\n",
            "Epoch 1378/1500\n",
            "12149/12149 [==============================] - 6s 468us/step - loss: 0.0841 - acc: 0.9755 - val_loss: 0.1166 - val_acc: 0.9719\n",
            "Epoch 1379/1500\n",
            "12149/12149 [==============================] - 6s 469us/step - loss: 0.0859 - acc: 0.9745 - val_loss: 0.1156 - val_acc: 0.9711\n",
            "Epoch 1380/1500\n",
            "12149/12149 [==============================] - 6s 463us/step - loss: 0.0842 - acc: 0.9752 - val_loss: 0.1165 - val_acc: 0.9696\n",
            "Epoch 1381/1500\n",
            "12149/12149 [==============================] - 6s 480us/step - loss: 0.0848 - acc: 0.9751 - val_loss: 0.1168 - val_acc: 0.9696\n",
            "Epoch 1382/1500\n",
            "12149/12149 [==============================] - 6s 467us/step - loss: 0.0851 - acc: 0.9750 - val_loss: 0.1163 - val_acc: 0.9711\n",
            "Epoch 1383/1500\n",
            "12149/12149 [==============================] - 6s 462us/step - loss: 0.0845 - acc: 0.9754 - val_loss: 0.1178 - val_acc: 0.9711\n",
            "Epoch 1384/1500\n",
            "12149/12149 [==============================] - 6s 459us/step - loss: 0.0853 - acc: 0.9747 - val_loss: 0.1156 - val_acc: 0.9711\n",
            "Epoch 1385/1500\n",
            "12149/12149 [==============================] - 6s 460us/step - loss: 0.0852 - acc: 0.9751 - val_loss: 0.1154 - val_acc: 0.9704\n",
            "Epoch 1386/1500\n",
            "12149/12149 [==============================] - 6s 471us/step - loss: 0.0847 - acc: 0.9750 - val_loss: 0.1222 - val_acc: 0.9696\n",
            "Epoch 1387/1500\n",
            "12149/12149 [==============================] - 6s 475us/step - loss: 0.0858 - acc: 0.9747 - val_loss: 0.1159 - val_acc: 0.9704\n",
            "Epoch 1388/1500\n",
            "12149/12149 [==============================] - 6s 471us/step - loss: 0.0847 - acc: 0.9752 - val_loss: 0.1161 - val_acc: 0.9696\n",
            "Epoch 1389/1500\n",
            "12149/12149 [==============================] - 6s 479us/step - loss: 0.0847 - acc: 0.9751 - val_loss: 0.1178 - val_acc: 0.9689\n",
            "Epoch 1390/1500\n",
            "12149/12149 [==============================] - 6s 514us/step - loss: 0.0845 - acc: 0.9760 - val_loss: 0.1201 - val_acc: 0.9696\n",
            "Epoch 1391/1500\n",
            "12149/12149 [==============================] - 6s 472us/step - loss: 0.0854 - acc: 0.9743 - val_loss: 0.1187 - val_acc: 0.9674\n",
            "Epoch 1392/1500\n",
            "12149/12149 [==============================] - 6s 483us/step - loss: 0.0855 - acc: 0.9746 - val_loss: 0.1182 - val_acc: 0.9689\n",
            "Epoch 1393/1500\n",
            "12149/12149 [==============================] - 6s 478us/step - loss: 0.0839 - acc: 0.9744 - val_loss: 0.1203 - val_acc: 0.9681\n",
            "Epoch 1394/1500\n",
            "12149/12149 [==============================] - 6s 475us/step - loss: 0.0846 - acc: 0.9756 - val_loss: 0.1172 - val_acc: 0.9696\n",
            "Epoch 1395/1500\n",
            "12149/12149 [==============================] - 6s 466us/step - loss: 0.0857 - acc: 0.9746 - val_loss: 0.1189 - val_acc: 0.9674\n",
            "Epoch 1396/1500\n",
            "12149/12149 [==============================] - 6s 457us/step - loss: 0.0845 - acc: 0.9751 - val_loss: 0.1157 - val_acc: 0.9719\n",
            "Epoch 1397/1500\n",
            "12149/12149 [==============================] - 6s 466us/step - loss: 0.0841 - acc: 0.9753 - val_loss: 0.1168 - val_acc: 0.9689\n",
            "Epoch 1398/1500\n",
            "12149/12149 [==============================] - 6s 470us/step - loss: 0.0837 - acc: 0.9754 - val_loss: 0.1167 - val_acc: 0.9674\n",
            "Epoch 1399/1500\n",
            "12149/12149 [==============================] - 6s 469us/step - loss: 0.0858 - acc: 0.9746 - val_loss: 0.1179 - val_acc: 0.9681\n",
            "Epoch 1400/1500\n",
            "12149/12149 [==============================] - 6s 468us/step - loss: 0.0842 - acc: 0.9749 - val_loss: 0.1162 - val_acc: 0.9696\n",
            "Epoch 1401/1500\n",
            "12149/12149 [==============================] - 6s 463us/step - loss: 0.0839 - acc: 0.9756 - val_loss: 0.1190 - val_acc: 0.9696\n",
            "Epoch 1402/1500\n",
            "12149/12149 [==============================] - 6s 464us/step - loss: 0.0842 - acc: 0.9753 - val_loss: 0.1181 - val_acc: 0.9681\n",
            "Epoch 1403/1500\n",
            "12149/12149 [==============================] - 6s 489us/step - loss: 0.0846 - acc: 0.9752 - val_loss: 0.1193 - val_acc: 0.9681\n",
            "Epoch 1404/1500\n",
            "12149/12149 [==============================] - 6s 530us/step - loss: 0.0862 - acc: 0.9746 - val_loss: 0.1217 - val_acc: 0.9674\n",
            "Epoch 1405/1500\n",
            "12149/12149 [==============================] - 6s 472us/step - loss: 0.0848 - acc: 0.9748 - val_loss: 0.1169 - val_acc: 0.9689\n",
            "Epoch 1406/1500\n",
            "12149/12149 [==============================] - 6s 458us/step - loss: 0.0835 - acc: 0.9748 - val_loss: 0.1168 - val_acc: 0.9674\n",
            "Epoch 1407/1500\n",
            "12149/12149 [==============================] - 6s 457us/step - loss: 0.0844 - acc: 0.9746 - val_loss: 0.1156 - val_acc: 0.9704\n",
            "Epoch 1408/1500\n",
            "12149/12149 [==============================] - 6s 465us/step - loss: 0.0858 - acc: 0.9742 - val_loss: 0.1189 - val_acc: 0.9681\n",
            "Epoch 1409/1500\n",
            "12149/12149 [==============================] - 6s 471us/step - loss: 0.0858 - acc: 0.9746 - val_loss: 0.1159 - val_acc: 0.9704\n",
            "Epoch 1410/1500\n",
            "12149/12149 [==============================] - 6s 473us/step - loss: 0.0844 - acc: 0.9755 - val_loss: 0.1193 - val_acc: 0.9689\n",
            "Epoch 1411/1500\n",
            "12149/12149 [==============================] - 6s 465us/step - loss: 0.0844 - acc: 0.9751 - val_loss: 0.1148 - val_acc: 0.9696\n",
            "Epoch 1412/1500\n",
            "12149/12149 [==============================] - 6s 461us/step - loss: 0.0840 - acc: 0.9747 - val_loss: 0.1185 - val_acc: 0.9696\n",
            "Epoch 1413/1500\n",
            "12149/12149 [==============================] - 6s 467us/step - loss: 0.0853 - acc: 0.9751 - val_loss: 0.1184 - val_acc: 0.9696\n",
            "Epoch 1414/1500\n",
            "12149/12149 [==============================] - 6s 460us/step - loss: 0.0858 - acc: 0.9755 - val_loss: 0.1159 - val_acc: 0.9696\n",
            "Epoch 1415/1500\n",
            "12149/12149 [==============================] - 6s 465us/step - loss: 0.0842 - acc: 0.9756 - val_loss: 0.1174 - val_acc: 0.9704\n",
            "Epoch 1416/1500\n",
            "12149/12149 [==============================] - 6s 490us/step - loss: 0.0855 - acc: 0.9742 - val_loss: 0.1170 - val_acc: 0.9689\n",
            "Epoch 1417/1500\n",
            "12149/12149 [==============================] - 6s 464us/step - loss: 0.0844 - acc: 0.9752 - val_loss: 0.1182 - val_acc: 0.9696\n",
            "Epoch 1418/1500\n",
            "12149/12149 [==============================] - 6s 462us/step - loss: 0.0840 - acc: 0.9756 - val_loss: 0.1154 - val_acc: 0.9696\n",
            "Epoch 1419/1500\n",
            "12149/12149 [==============================] - 6s 467us/step - loss: 0.0842 - acc: 0.9761 - val_loss: 0.1164 - val_acc: 0.9704\n",
            "Epoch 1420/1500\n",
            "12149/12149 [==============================] - 6s 468us/step - loss: 0.0854 - acc: 0.9751 - val_loss: 0.1195 - val_acc: 0.9681\n",
            "Epoch 1421/1500\n",
            "12149/12149 [==============================] - 6s 466us/step - loss: 0.0848 - acc: 0.9753 - val_loss: 0.1213 - val_acc: 0.9681\n",
            "Epoch 1422/1500\n",
            "12149/12149 [==============================] - 6s 462us/step - loss: 0.0842 - acc: 0.9751 - val_loss: 0.1183 - val_acc: 0.9681\n",
            "Epoch 1423/1500\n",
            "12149/12149 [==============================] - 6s 460us/step - loss: 0.0843 - acc: 0.9761 - val_loss: 0.1188 - val_acc: 0.9689\n",
            "Epoch 1424/1500\n",
            "12149/12149 [==============================] - 6s 470us/step - loss: 0.0847 - acc: 0.9746 - val_loss: 0.1183 - val_acc: 0.9704\n",
            "Epoch 1425/1500\n",
            "12149/12149 [==============================] - 6s 461us/step - loss: 0.0839 - acc: 0.9754 - val_loss: 0.1180 - val_acc: 0.9696\n",
            "Epoch 1426/1500\n",
            "12149/12149 [==============================] - 6s 458us/step - loss: 0.0840 - acc: 0.9757 - val_loss: 0.1158 - val_acc: 0.9711\n",
            "Epoch 1427/1500\n",
            "12149/12149 [==============================] - 6s 473us/step - loss: 0.0844 - acc: 0.9746 - val_loss: 0.1204 - val_acc: 0.9689\n",
            "Epoch 1428/1500\n",
            "12149/12149 [==============================] - 6s 465us/step - loss: 0.0851 - acc: 0.9738 - val_loss: 0.1154 - val_acc: 0.9696\n",
            "Epoch 1429/1500\n",
            "12149/12149 [==============================] - 6s 485us/step - loss: 0.0834 - acc: 0.9756 - val_loss: 0.1209 - val_acc: 0.9681\n",
            "Epoch 1430/1500\n",
            "12149/12149 [==============================] - 6s 479us/step - loss: 0.0849 - acc: 0.9743 - val_loss: 0.1172 - val_acc: 0.9704\n",
            "Epoch 1431/1500\n",
            "12149/12149 [==============================] - 6s 478us/step - loss: 0.0846 - acc: 0.9748 - val_loss: 0.1159 - val_acc: 0.9711\n",
            "Epoch 1432/1500\n",
            "12149/12149 [==============================] - 6s 469us/step - loss: 0.0839 - acc: 0.9748 - val_loss: 0.1162 - val_acc: 0.9689\n",
            "Epoch 1433/1500\n",
            "12149/12149 [==============================] - 6s 469us/step - loss: 0.0844 - acc: 0.9748 - val_loss: 0.1195 - val_acc: 0.9681\n",
            "Epoch 1434/1500\n",
            "12149/12149 [==============================] - 6s 475us/step - loss: 0.0838 - acc: 0.9755 - val_loss: 0.1205 - val_acc: 0.9681\n",
            "Epoch 1435/1500\n",
            "12149/12149 [==============================] - 6s 472us/step - loss: 0.0838 - acc: 0.9746 - val_loss: 0.1169 - val_acc: 0.9689\n",
            "Epoch 1436/1500\n",
            "12149/12149 [==============================] - 6s 467us/step - loss: 0.0852 - acc: 0.9748 - val_loss: 0.1195 - val_acc: 0.9681\n",
            "Epoch 1437/1500\n",
            "12149/12149 [==============================] - 6s 459us/step - loss: 0.0837 - acc: 0.9753 - val_loss: 0.1212 - val_acc: 0.9696\n",
            "Epoch 1438/1500\n",
            "12149/12149 [==============================] - 6s 468us/step - loss: 0.0843 - acc: 0.9756 - val_loss: 0.1156 - val_acc: 0.9711\n",
            "Epoch 1439/1500\n",
            "12149/12149 [==============================] - 6s 465us/step - loss: 0.0845 - acc: 0.9752 - val_loss: 0.1201 - val_acc: 0.9696\n",
            "Epoch 1440/1500\n",
            "12149/12149 [==============================] - 6s 478us/step - loss: 0.0843 - acc: 0.9751 - val_loss: 0.1177 - val_acc: 0.9711\n",
            "Epoch 1441/1500\n",
            "12149/12149 [==============================] - 6s 480us/step - loss: 0.0841 - acc: 0.9741 - val_loss: 0.1190 - val_acc: 0.9704\n",
            "Epoch 1442/1500\n",
            "12149/12149 [==============================] - 6s 472us/step - loss: 0.0835 - acc: 0.9755 - val_loss: 0.1163 - val_acc: 0.9704\n",
            "Epoch 1443/1500\n",
            "12149/12149 [==============================] - 6s 519us/step - loss: 0.0838 - acc: 0.9751 - val_loss: 0.1246 - val_acc: 0.9689\n",
            "Epoch 1444/1500\n",
            "12149/12149 [==============================] - 6s 466us/step - loss: 0.0844 - acc: 0.9748 - val_loss: 0.1220 - val_acc: 0.9689\n",
            "Epoch 1445/1500\n",
            "12149/12149 [==============================] - 6s 472us/step - loss: 0.0838 - acc: 0.9753 - val_loss: 0.1186 - val_acc: 0.9696\n",
            "Epoch 1446/1500\n",
            "12149/12149 [==============================] - 6s 463us/step - loss: 0.0834 - acc: 0.9754 - val_loss: 0.1169 - val_acc: 0.9704\n",
            "Epoch 1447/1500\n",
            "12149/12149 [==============================] - 6s 465us/step - loss: 0.0832 - acc: 0.9756 - val_loss: 0.1206 - val_acc: 0.9689\n",
            "Epoch 1448/1500\n",
            "12149/12149 [==============================] - 6s 464us/step - loss: 0.0830 - acc: 0.9746 - val_loss: 0.1197 - val_acc: 0.9711\n",
            "Epoch 1449/1500\n",
            "12149/12149 [==============================] - 6s 490us/step - loss: 0.0843 - acc: 0.9751 - val_loss: 0.1199 - val_acc: 0.9696\n",
            "Epoch 1450/1500\n",
            "12149/12149 [==============================] - 6s 471us/step - loss: 0.0838 - acc: 0.9754 - val_loss: 0.1188 - val_acc: 0.9696\n",
            "Epoch 1451/1500\n",
            "12149/12149 [==============================] - 6s 463us/step - loss: 0.0832 - acc: 0.9751 - val_loss: 0.1172 - val_acc: 0.9704\n",
            "Epoch 1452/1500\n",
            "12149/12149 [==============================] - 6s 465us/step - loss: 0.0861 - acc: 0.9742 - val_loss: 0.1194 - val_acc: 0.9689\n",
            "Epoch 1453/1500\n",
            "12149/12149 [==============================] - 6s 463us/step - loss: 0.0832 - acc: 0.9754 - val_loss: 0.1211 - val_acc: 0.9704\n",
            "Epoch 1454/1500\n",
            "12149/12149 [==============================] - 6s 460us/step - loss: 0.0830 - acc: 0.9754 - val_loss: 0.1189 - val_acc: 0.9696\n",
            "Epoch 1455/1500\n",
            "12149/12149 [==============================] - 6s 467us/step - loss: 0.0833 - acc: 0.9752 - val_loss: 0.1175 - val_acc: 0.9681\n",
            "Epoch 1456/1500\n",
            "12149/12149 [==============================] - 6s 486us/step - loss: 0.0848 - acc: 0.9751 - val_loss: 0.1184 - val_acc: 0.9681\n",
            "Epoch 1457/1500\n",
            "12149/12149 [==============================] - 6s 478us/step - loss: 0.0835 - acc: 0.9749 - val_loss: 0.1201 - val_acc: 0.9681\n",
            "Epoch 1458/1500\n",
            "12149/12149 [==============================] - 6s 523us/step - loss: 0.0837 - acc: 0.9750 - val_loss: 0.1189 - val_acc: 0.9696\n",
            "Epoch 1459/1500\n",
            "12149/12149 [==============================] - 6s 504us/step - loss: 0.0829 - acc: 0.9742 - val_loss: 0.1216 - val_acc: 0.9689\n",
            "Epoch 1460/1500\n",
            "12149/12149 [==============================] - 6s 482us/step - loss: 0.0837 - acc: 0.9749 - val_loss: 0.1176 - val_acc: 0.9689\n",
            "Epoch 1461/1500\n",
            "12149/12149 [==============================] - 6s 483us/step - loss: 0.0845 - acc: 0.9745 - val_loss: 0.1195 - val_acc: 0.9696\n",
            "Epoch 1462/1500\n",
            "12149/12149 [==============================] - 6s 483us/step - loss: 0.0843 - acc: 0.9748 - val_loss: 0.1178 - val_acc: 0.9704\n",
            "Epoch 1463/1500\n",
            "12149/12149 [==============================] - 6s 493us/step - loss: 0.0835 - acc: 0.9756 - val_loss: 0.1206 - val_acc: 0.9681\n",
            "Epoch 1464/1500\n",
            "12149/12149 [==============================] - 6s 482us/step - loss: 0.0835 - acc: 0.9751 - val_loss: 0.1209 - val_acc: 0.9674\n",
            "Epoch 1465/1500\n",
            "12149/12149 [==============================] - 6s 479us/step - loss: 0.0837 - acc: 0.9751 - val_loss: 0.1203 - val_acc: 0.9689\n",
            "Epoch 1466/1500\n",
            "12149/12149 [==============================] - 6s 484us/step - loss: 0.0841 - acc: 0.9751 - val_loss: 0.1178 - val_acc: 0.9696\n",
            "Epoch 1467/1500\n",
            "12149/12149 [==============================] - 6s 479us/step - loss: 0.0838 - acc: 0.9751 - val_loss: 0.1195 - val_acc: 0.9696\n",
            "Epoch 1468/1500\n",
            "12149/12149 [==============================] - 6s 475us/step - loss: 0.0838 - acc: 0.9751 - val_loss: 0.1180 - val_acc: 0.9704\n",
            "Epoch 1469/1500\n",
            "12149/12149 [==============================] - 6s 477us/step - loss: 0.0839 - acc: 0.9742 - val_loss: 0.1203 - val_acc: 0.9711\n",
            "Epoch 1470/1500\n",
            "12149/12149 [==============================] - 6s 490us/step - loss: 0.0834 - acc: 0.9751 - val_loss: 0.1194 - val_acc: 0.9689\n",
            "Epoch 1471/1500\n",
            "12149/12149 [==============================] - 6s 489us/step - loss: 0.0845 - acc: 0.9751 - val_loss: 0.1179 - val_acc: 0.9711\n",
            "Epoch 1472/1500\n",
            "12149/12149 [==============================] - 6s 487us/step - loss: 0.0837 - acc: 0.9757 - val_loss: 0.1188 - val_acc: 0.9689\n",
            "Epoch 1473/1500\n",
            "12149/12149 [==============================] - 6s 484us/step - loss: 0.0832 - acc: 0.9751 - val_loss: 0.1211 - val_acc: 0.9704\n",
            "Epoch 1474/1500\n",
            "12149/12149 [==============================] - 6s 483us/step - loss: 0.0844 - acc: 0.9742 - val_loss: 0.1197 - val_acc: 0.9704\n",
            "Epoch 1475/1500\n",
            "12149/12149 [==============================] - 6s 483us/step - loss: 0.0830 - acc: 0.9756 - val_loss: 0.1181 - val_acc: 0.9711\n",
            "Epoch 1476/1500\n",
            "12149/12149 [==============================] - 6s 497us/step - loss: 0.0838 - acc: 0.9751 - val_loss: 0.1195 - val_acc: 0.9704\n",
            "Epoch 1477/1500\n",
            "12149/12149 [==============================] - 6s 503us/step - loss: 0.0847 - acc: 0.9742 - val_loss: 0.1237 - val_acc: 0.9696\n",
            "Epoch 1478/1500\n",
            "12149/12149 [==============================] - 6s 482us/step - loss: 0.0840 - acc: 0.9753 - val_loss: 0.1206 - val_acc: 0.9711\n",
            "Epoch 1479/1500\n",
            "12149/12149 [==============================] - 6s 481us/step - loss: 0.0823 - acc: 0.9758 - val_loss: 0.1251 - val_acc: 0.9689\n",
            "Epoch 1480/1500\n",
            "12149/12149 [==============================] - 6s 481us/step - loss: 0.0823 - acc: 0.9761 - val_loss: 0.1213 - val_acc: 0.9704\n",
            "Epoch 1481/1500\n",
            "12149/12149 [==============================] - 6s 494us/step - loss: 0.0837 - acc: 0.9748 - val_loss: 0.1225 - val_acc: 0.9689\n",
            "Epoch 1482/1500\n",
            "12149/12149 [==============================] - 6s 492us/step - loss: 0.0837 - acc: 0.9747 - val_loss: 0.1205 - val_acc: 0.9696\n",
            "Epoch 1483/1500\n",
            "12149/12149 [==============================] - 6s 487us/step - loss: 0.0838 - acc: 0.9743 - val_loss: 0.1174 - val_acc: 0.9696\n",
            "Epoch 1484/1500\n",
            "12149/12149 [==============================] - 6s 489us/step - loss: 0.0830 - acc: 0.9758 - val_loss: 0.1200 - val_acc: 0.9689\n",
            "Epoch 1485/1500\n",
            "12149/12149 [==============================] - 6s 489us/step - loss: 0.0832 - acc: 0.9758 - val_loss: 0.1245 - val_acc: 0.9689\n",
            "Epoch 1486/1500\n",
            "12149/12149 [==============================] - 6s 485us/step - loss: 0.0833 - acc: 0.9755 - val_loss: 0.1201 - val_acc: 0.9704\n",
            "Epoch 1487/1500\n",
            "12149/12149 [==============================] - 6s 479us/step - loss: 0.0839 - acc: 0.9753 - val_loss: 0.1205 - val_acc: 0.9696\n",
            "Epoch 1488/1500\n",
            "12149/12149 [==============================] - 6s 478us/step - loss: 0.0840 - acc: 0.9749 - val_loss: 0.1189 - val_acc: 0.9689\n",
            "Epoch 1489/1500\n",
            "12149/12149 [==============================] - 6s 477us/step - loss: 0.0835 - acc: 0.9754 - val_loss: 0.1210 - val_acc: 0.9696\n",
            "Epoch 1490/1500\n",
            "12149/12149 [==============================] - 6s 479us/step - loss: 0.0828 - acc: 0.9752 - val_loss: 0.1174 - val_acc: 0.9689\n",
            "Epoch 1491/1500\n",
            "12149/12149 [==============================] - 6s 486us/step - loss: 0.0827 - acc: 0.9758 - val_loss: 0.1191 - val_acc: 0.9704\n",
            "Epoch 1492/1500\n",
            "12149/12149 [==============================] - 6s 517us/step - loss: 0.0848 - acc: 0.9745 - val_loss: 0.1170 - val_acc: 0.9704\n",
            "Epoch 1493/1500\n",
            "12149/12149 [==============================] - 6s 486us/step - loss: 0.0835 - acc: 0.9755 - val_loss: 0.1180 - val_acc: 0.9704\n",
            "Epoch 1494/1500\n",
            "12149/12149 [==============================] - 6s 482us/step - loss: 0.0837 - acc: 0.9747 - val_loss: 0.1187 - val_acc: 0.9711\n",
            "Epoch 1495/1500\n",
            "12149/12149 [==============================] - 6s 528us/step - loss: 0.0842 - acc: 0.9753 - val_loss: 0.1201 - val_acc: 0.9681\n",
            "Epoch 1496/1500\n",
            "12149/12149 [==============================] - 6s 485us/step - loss: 0.0833 - acc: 0.9753 - val_loss: 0.1163 - val_acc: 0.9704\n",
            "Epoch 1497/1500\n",
            "12149/12149 [==============================] - 6s 479us/step - loss: 0.0843 - acc: 0.9751 - val_loss: 0.1218 - val_acc: 0.9681\n",
            "Epoch 1498/1500\n",
            "12149/12149 [==============================] - 6s 483us/step - loss: 0.0837 - acc: 0.9751 - val_loss: 0.1235 - val_acc: 0.9696\n",
            "Epoch 1499/1500\n",
            "12149/12149 [==============================] - 6s 494us/step - loss: 0.0829 - acc: 0.9753 - val_loss: 0.1185 - val_acc: 0.9696\n",
            "Epoch 1500/1500\n",
            "12149/12149 [==============================] - 6s 480us/step - loss: 0.0840 - acc: 0.9756 - val_loss: 0.1206 - val_acc: 0.9659\n"
          ],
          "name": "stdout"
        },
        {
          "output_type": "execute_result",
          "data": {
            "text/plain": [
              "<keras.callbacks.History at 0x7ff95b5935c0>"
            ]
          },
          "metadata": {
            "tags": []
          },
          "execution_count": 122
        }
      ]
    },
    {
      "metadata": {
        "id": "XmrdK25RO4PV",
        "colab_type": "code",
        "colab": {}
      },
      "cell_type": "code",
      "source": [
        "y_train_pred_neural_net = neural_net.predict_classes(x_train)"
      ],
      "execution_count": 0,
      "outputs": []
    },
    {
      "metadata": {
        "id": "3XjkyYWUPFiI",
        "colab_type": "code",
        "colab": {}
      },
      "cell_type": "code",
      "source": [
        "cm = confusion_matrix(y_train,y_train_pred_neural_net)"
      ],
      "execution_count": 0,
      "outputs": []
    },
    {
      "metadata": {
        "id": "zxSc1Kovy13H",
        "colab_type": "code",
        "outputId": "46f1f625-082a-43f3-8029-3c8ca58ec418",
        "colab": {
          "base_uri": "https://localhost:8080/",
          "height": 466
        }
      },
      "cell_type": "code",
      "source": [
        "plot_confusion_matrix(cm,[0,1])"
      ],
      "execution_count": 0,
      "outputs": [
        {
          "output_type": "stream",
          "text": [
            "Confusion matrix, without normalization\n",
            "[[10180   105]\n",
            " [  224  2990]]\n"
          ],
          "name": "stdout"
        },
        {
          "output_type": "display_data",
          "data": {
            "image/png": "[encoded data removed]",
            "text/plain": [
              "<matplotlib.figure.Figure at 0x7ff955102278>"
            ]
          },
          "metadata": {
            "tags": []
          }
        }
      ]
    },
    {
      "metadata": {
        "id": "kUNvk9jSzAXb",
        "colab_type": "code",
        "outputId": "b0943816-8247-4637-a56c-edf20e5784f6",
        "colab": {
          "base_uri": "https://localhost:8080/",
          "height": 54
        }
      },
      "cell_type": "code",
      "source": [
        "classification_report(y_train,y_train_pred_neural_net)"
      ],
      "execution_count": 0,
      "outputs": [
        {
          "output_type": "execute_result",
          "data": {
            "text/plain": [
              "'              precision    recall  f1-score   support\\n\\n           0       0.98      0.99      0.98     10285\\n           1       0.97      0.93      0.95      3214\\n\\n   micro avg       0.98      0.98      0.98     13499\\n   macro avg       0.97      0.96      0.97     13499\\nweighted avg       0.98      0.98      0.98     13499\\n'"
            ]
          },
          "metadata": {
            "tags": []
          },
          "execution_count": 129
        }
      ]
    },
    {
      "metadata": {
        "id": "qxtXDa210Lug",
        "colab_type": "code",
        "colab": {}
      },
      "cell_type": "code",
      "source": [
        "y_test_pred_neural_net = neural_net.predict_classes(x_test)"
      ],
      "execution_count": 0,
      "outputs": []
    },
    {
      "metadata": {
        "id": "2L7I4y2q0j-Y",
        "colab_type": "code",
        "outputId": "aa62a80f-b40a-4852-f262-13b868baed69",
        "colab": {
          "base_uri": "https://localhost:8080/",
          "height": 54
        }
      },
      "cell_type": "code",
      "source": [
        "classification_report(y_test,y_test_pred_neural_net)"
      ],
      "execution_count": 0,
      "outputs": [
        {
          "output_type": "execute_result",
          "data": {
            "text/plain": [
              "'              precision    recall  f1-score   support\\n\\n           0       0.98      0.98      0.98      1143\\n           1       0.93      0.93      0.93       357\\n\\n   micro avg       0.97      0.97      0.97      1500\\n   macro avg       0.95      0.95      0.95      1500\\nweighted avg       0.97      0.97      0.97      1500\\n'"
            ]
          },
          "metadata": {
            "tags": []
          },
          "execution_count": 134
        }
      ]
    },
    {
      "metadata": {
        "id": "hjlCi4XI0zwf",
        "colab_type": "code",
        "colab": {}
      },
      "cell_type": "code",
      "source": [
        "cm = confusion_matrix(y_test,y_test_pred_neural_net)"
      ],
      "execution_count": 0,
      "outputs": []
    },
    {
      "metadata": {
        "id": "KqEc5sVJ04oi",
        "colab_type": "code",
        "outputId": "5f602cb0-4167-40a6-ca14-bed8307bcd97",
        "colab": {
          "base_uri": "https://localhost:8080/",
          "height": 466
        }
      },
      "cell_type": "code",
      "source": [
        "plot_confusion_matrix(cm,[0,1])"
      ],
      "execution_count": 0,
      "outputs": [
        {
          "output_type": "stream",
          "text": [
            "Confusion matrix, without normalization\n",
            "[[1118   25]\n",
            " [  25  332]]\n"
          ],
          "name": "stdout"
        },
        {
          "output_type": "display_data",
          "data": {
            "image/png": "[encoded data removed]",
            "text/plain": [
              "<matplotlib.figure.Figure at 0x7ff95472e2e8>"
            ]
          },
          "metadata": {
            "tags": []
          }
        }
      ]
    }
  ]
}