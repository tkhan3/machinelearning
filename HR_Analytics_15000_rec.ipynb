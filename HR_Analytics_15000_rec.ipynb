{
  "nbformat": 4,
  "nbformat_minor": 0,
  "metadata": {
    "colab": {
      "name": "HR Analytics 15000 rec.ipynb",
      "version": "0.3.2",
      "provenance": [],
      "include_colab_link": true
    },
    "kernelspec": {
      "name": "python3",
      "display_name": "Python 3"
    },
    "accelerator": "GPU"
  },
  "cells": [
    {
      "cell_type": "markdown",
      "metadata": {
        "id": "view-in-github",
        "colab_type": "text"
      },
      "source": [
        "<a href=\"https://colab.research.google.com/github/tkhan3/machinelearning/blob/master/HR_Analytics_15000_rec.ipynb\" target=\"_parent\"><img src=\"https://colab.research.google.com/assets/colab-badge.svg\" alt=\"Open In Colab\"/></a>"
      ]
    },
    {
      "metadata": {
        "id": "xfrX0SRNDu8Q",
        "colab_type": "code",
        "outputId": "12e57d7f-65e7-4b9e-ad44-6c4fb57e9150",
        "colab": {
          "base_uri": "https://localhost:8080/",
          "height": 56
        }
      },
      "cell_type": "code",
      "source": [
        "!apt-get install -y -qq software-properties-common python-software-properties module-init-tools\n",
        "!add-apt-repository -y ppa:alessandro-strada/ppa 2>&1 > /dev/null\n",
        "!apt-get update -qq 2>&1 > /dev/null\n",
        "!apt-get -y install -qq google-drive-ocamlfuse fuse\n",
        "from google.colab import auth\n",
        "auth.authenticate_user()\n",
        "from oauth2client.client import GoogleCredentials\n",
        "creds = GoogleCredentials.get_application_default()\n",
        "import getpass\n",
        "!google-drive-ocamlfuse -headless -id={creds.client_id} -secret={creds.client_secret} < /dev/null 2>&1 | grep URL\n",
        "vcode = getpass.getpass()\n",
        "!echo {vcode} | google-drive-ocamlfuse -headless -id={creds.client_id} -secret={creds.client_secret}\n",
        "#import pandas as pd\n",
        "!google-drive-ocamlfuse drive\n",
        "!apt-get -qq install -y graphviz && pip install -q pydot\n",
        "!pip3 install seaborn==0.9.0\n",
        "import pydot\n",
        "!mkdir -p drive\n",
        "!google-drive-ocamlfuse drive\n",
        "!pip install sklearn_pandas"
      ],
      "execution_count": 0,
      "outputs": [
        {
          "output_type": "stream",
          "text": [
            "E: Package 'python-software-properties' has no installation candidate\n"
          ],
          "name": "stdout"
        }
      ]
    },
    {
      "metadata": {
        "id": "OG2OtZ9HXGU8",
        "colab_type": "code",
        "colab": {
          "base_uri": "https://localhost:8080/",
          "height": 34
        },
        "outputId": "8cda41a9-3e2a-470e-f8fa-cde1e77eab43"
      },
      "cell_type": "code",
      "source": [
        "import pandas as pd\n",
        "from datetime import datetime\n",
        "import seaborn as sns\n",
        "import os\n",
        "from sklearn.metrics import confusion_matrix\n",
        "from sklearn.pipeline import Pipeline\n",
        "from sklearn.preprocessing import StandardScaler\n",
        "from sklearn.base import BaseEstimator, TransformerMixin\n",
        "from sklearn.preprocessing import OneHotEncoder\n",
        "from sklearn.pipeline import FeatureUnion\n",
        "from sklearn.model_selection import cross_val_score,cross_val_predict\n",
        "from sklearn.svm import SVC\n",
        "from sklearn.metrics import confusion_matrix\n",
        "from sklearn.ensemble import RandomForestClassifier\n",
        "from sklearn import preprocessing\n",
        "from sklearn.impute import SimpleImputer # Scikit-Learn 0.20+\n",
        "from sklearn.metrics import (accuracy_score, log_loss, classification_report)\n",
        "from sklearn.model_selection import GridSearchCV\n",
        "from sklearn.neighbors import KNeighborsClassifier\n",
        "from xgboost import XGBClassifier\n",
        "import numpy as np\n",
        "from sklearn.model_selection import StratifiedShuffleSplit\n",
        "import matplotlib.pyplot as plt\n",
        "from sklearn.linear_model import LogisticRegression\n",
        "import matplotlib.pyplot as plt\n",
        "import matplotlib.image as mpimg\n",
        "import numpy as np\n",
        "#import itertools\n",
        "from xgboost import XGBClassifier\n",
        "from keras.models import Sequential\n",
        "from keras.layers import Dense"
      ],
      "execution_count": 2,
      "outputs": [
        {
          "output_type": "stream",
          "text": [
            "Using TensorFlow backend.\n"
          ],
          "name": "stderr"
        }
      ]
    },
    {
      "metadata": {
        "id": "mXjhD5znW2qs",
        "colab_type": "code",
        "colab": {}
      },
      "cell_type": "code",
      "source": [
        "import os\n",
        "drive_path = 'drive/DL_COLAB/'\n",
        "\n",
        "HR_ANALYTICS_PATH = os.path.join(drive_path,\"hr_analytics\")\n",
        "\n",
        "def load_hr_data(filename, file_path=HR_ANALYTICS_PATH):\n",
        "    csv_path = os.path.join(file_path, filename)\n",
        "    return pd.read_csv(csv_path,sep=\",\")"
      ],
      "execution_count": 0,
      "outputs": []
    },
    {
      "metadata": {
        "id": "4sUMdenXV2jb",
        "colab_type": "code",
        "colab": {}
      },
      "cell_type": "code",
      "source": [
        "hr_data_full = load_hr_data(\"HR_15000_record.csv\")"
      ],
      "execution_count": 0,
      "outputs": []
    },
    {
      "metadata": {
        "id": "CMefvVa5XYUW",
        "colab_type": "code",
        "outputId": "043237c2-2fe3-4b15-9134-b72b8ff41e0a",
        "colab": {
          "base_uri": "https://localhost:8080/",
          "height": 34
        }
      },
      "cell_type": "code",
      "source": [
        "hr_data_full.shape"
      ],
      "execution_count": 5,
      "outputs": [
        {
          "output_type": "execute_result",
          "data": {
            "text/plain": [
              "(14999, 10)"
            ]
          },
          "metadata": {
            "tags": []
          },
          "execution_count": 5
        }
      ]
    },
    {
      "metadata": {
        "id": "HpZ_MlrRXVK7",
        "colab_type": "code",
        "outputId": "b73bcd70-256b-43db-d649-1e1627bb211e",
        "colab": {
          "base_uri": "https://localhost:8080/",
          "height": 85
        }
      },
      "cell_type": "code",
      "source": [
        "hr_data_full.columns"
      ],
      "execution_count": 6,
      "outputs": [
        {
          "output_type": "execute_result",
          "data": {
            "text/plain": [
              "Index(['satisfaction_level', 'last_evaluation', 'number_project',\n",
              "       'average_montly_hours', 'time_spend_company', 'Work_accident', 'left',\n",
              "       'promotion_last_5years', 'sales', 'salary'],\n",
              "      dtype='object')"
            ]
          },
          "metadata": {
            "tags": []
          },
          "execution_count": 6
        }
      ]
    },
    {
      "metadata": {
        "id": "oQvIZKgvYj5v",
        "colab_type": "code",
        "outputId": "be1540cf-2c99-44ed-a704-95eb5f46ea96",
        "colab": {
          "base_uri": "https://localhost:8080/",
          "height": 1048
        }
      },
      "cell_type": "code",
      "source": [
        "hr_data_full.hist(bins=70, figsize=(20,15))"
      ],
      "execution_count": 7,
      "outputs": [
        {
          "output_type": "execute_result",
          "data": {
            "text/plain": [
              "array([[<matplotlib.axes._subplots.AxesSubplot object at 0x7faffdc56550>,\n",
              "        <matplotlib.axes._subplots.AxesSubplot object at 0x7fafba497c18>,\n",
              "        <matplotlib.axes._subplots.AxesSubplot object at 0x7fafba453d30>],\n",
              "       [<matplotlib.axes._subplots.AxesSubplot object at 0x7fafba4811d0>,\n",
              "        <matplotlib.axes._subplots.AxesSubplot object at 0x7fafba4429b0>,\n",
              "        <matplotlib.axes._subplots.AxesSubplot object at 0x7fafba4429e8>],\n",
              "       [<matplotlib.axes._subplots.AxesSubplot object at 0x7fafba3b8550>,\n",
              "        <matplotlib.axes._subplots.AxesSubplot object at 0x7fafba3740f0>,\n",
              "        <matplotlib.axes._subplots.AxesSubplot object at 0x7fafba319b00>]],\n",
              "      dtype=object)"
            ]
          },
          "metadata": {
            "tags": []
          },
          "execution_count": 7
        },
        {
          "output_type": "display_data",
          "data": {
            "image/png": "[encoded data removed]",
            "text/plain": [
              "<matplotlib.figure.Figure at 0x7faff89c6e80>"
            ]
          },
          "metadata": {
            "tags": []
          }
        }
      ]
    },
    {
      "metadata": {
        "id": "L8zmtziKY7bN",
        "colab_type": "code",
        "outputId": "8834aec4-fe5b-4875-f1a2-21ed0b6d8f89",
        "colab": {
          "base_uri": "https://localhost:8080/",
          "height": 68
        }
      },
      "cell_type": "code",
      "source": [
        "print (hr_data_full.salary.unique())\n",
        "print (hr_data_full.sales.unique())"
      ],
      "execution_count": 8,
      "outputs": [
        {
          "output_type": "stream",
          "text": [
            "['low' 'medium' 'high']\n",
            "['sales' 'accounting' 'hr' 'technical' 'support' 'management' 'IT'\n",
            " 'product_mng' 'marketing' 'RandD']\n"
          ],
          "name": "stdout"
        }
      ]
    },
    {
      "metadata": {
        "id": "H-jMc9gnyOHU",
        "colab_type": "code",
        "outputId": "f92b8c74-94a7-4d64-f4a8-7ccf7be89a9b",
        "colab": {
          "base_uri": "https://localhost:8080/",
          "height": 416
        }
      },
      "cell_type": "code",
      "source": [
        "sns.countplot(x=\"left\",data=hr_data_full)"
      ],
      "execution_count": 9,
      "outputs": [
        {
          "output_type": "stream",
          "text": [
            "/usr/local/lib/python3.6/dist-packages/seaborn/categorical.py:1428: FutureWarning: remove_na is deprecated and is a private function. Do not use.\n",
            "  cat_pos = np.ones(swarm_data.size) * center\n"
          ],
          "name": "stderr"
        },
        {
          "output_type": "execute_result",
          "data": {
            "text/plain": [
              "<matplotlib.axes._subplots.AxesSubplot at 0x7fafba271908>"
            ]
          },
          "metadata": {
            "tags": []
          },
          "execution_count": 9
        },
        {
          "output_type": "display_data",
          "data": {
            "image/png": "[encoded data removed]",
            "text/plain": [
              "<matplotlib.figure.Figure at 0x7faffd131358>"
            ]
          },
          "metadata": {
            "tags": []
          }
        }
      ]
    },
    {
      "metadata": {
        "id": "WzBhV6k30GJW",
        "colab_type": "code",
        "colab": {}
      },
      "cell_type": "code",
      "source": [
        "split = StratifiedShuffleSplit(n_splits=1, test_size=0.1, random_state=42)\n",
        "for train_index, test_index in split.split(hr_data_full, hr_data_full[\"left\"]):\n",
        "    hr_data_train = hr_data_full.loc[train_index]\n",
        "    hr_data_test = hr_data_full.loc[test_index]"
      ],
      "execution_count": 0,
      "outputs": []
    },
    {
      "metadata": {
        "id": "Z1mmDryr09u_",
        "colab_type": "code",
        "outputId": "93b9b2a7-abcb-42f9-9eb0-44940f3b3701",
        "colab": {
          "base_uri": "https://localhost:8080/",
          "height": 51
        }
      },
      "cell_type": "code",
      "source": [
        "print (hr_data_train.shape)\n",
        "print (hr_data_test.shape)"
      ],
      "execution_count": 11,
      "outputs": [
        {
          "output_type": "stream",
          "text": [
            "(13499, 10)\n",
            "(1500, 10)\n"
          ],
          "name": "stdout"
        }
      ]
    },
    {
      "metadata": {
        "id": "nM4CPdg1UpUJ",
        "colab_type": "code",
        "colab": {
          "base_uri": "https://localhost:8080/",
          "height": 51
        },
        "outputId": "6c92a8e3-c66a-48e3-8892-71f8e88139d5"
      },
      "cell_type": "code",
      "source": [
        "print (type(hr_data_train))\n",
        "print (type(hr_data_test))"
      ],
      "execution_count": 12,
      "outputs": [
        {
          "output_type": "stream",
          "text": [
            "<class 'pandas.core.frame.DataFrame'>\n",
            "<class 'pandas.core.frame.DataFrame'>\n"
          ],
          "name": "stdout"
        }
      ]
    },
    {
      "metadata": {
        "id": "rWKmE84l1HpA",
        "colab_type": "code",
        "colab": {}
      },
      "cell_type": "code",
      "source": [
        "hr_data_train_label = hr_data_train[\"left\"].copy()\n",
        "hr_data_test_label =  hr_data_test[\"left\"].copy()\n"
      ],
      "execution_count": 0,
      "outputs": []
    },
    {
      "metadata": {
        "id": "L9H-CLQY1LDJ",
        "colab_type": "code",
        "outputId": "8a51eb4d-0c85-426d-8619-37f50df84704",
        "colab": {
          "base_uri": "https://localhost:8080/",
          "height": 51
        }
      },
      "cell_type": "code",
      "source": [
        "print (hr_data_train_label.shape)\n",
        "print (hr_data_test_label.shape)"
      ],
      "execution_count": 14,
      "outputs": [
        {
          "output_type": "stream",
          "text": [
            "(13499,)\n",
            "(1500,)\n"
          ],
          "name": "stdout"
        }
      ]
    },
    {
      "metadata": {
        "id": "EYINJXFD1XF2",
        "colab_type": "code",
        "colab": {}
      },
      "cell_type": "code",
      "source": [
        "hr_data_train = hr_data_train.drop(\"left\",axis=1)\n",
        "hr_data_test = hr_data_test.drop(\"left\",axis=1)"
      ],
      "execution_count": 0,
      "outputs": []
    },
    {
      "metadata": {
        "id": "irwq6UNDYGyi",
        "colab_type": "code",
        "outputId": "c6ffcc13-6fc9-4b87-d334-52965af85747",
        "colab": {
          "base_uri": "https://localhost:8080/",
          "height": 297
        }
      },
      "cell_type": "code",
      "source": [
        "hr_data_train.describe()"
      ],
      "execution_count": 16,
      "outputs": [
        {
          "output_type": "execute_result",
          "data": {
            "text/html": [
              "<div>\n",
              "<style scoped>\n",
              "    .dataframe tbody tr th:only-of-type {\n",
              "        vertical-align: middle;\n",
              "    }\n",
              "\n",
              "    .dataframe tbody tr th {\n",
              "        vertical-align: top;\n",
              "    }\n",
              "\n",
              "    .dataframe thead th {\n",
              "        text-align: right;\n",
              "    }\n",
              "</style>\n",
              "<table border=\"1\" class=\"dataframe\">\n",
              "  <thead>\n",
              "    <tr style=\"text-align: right;\">\n",
              "      <th></th>\n",
              "      <th>satisfaction_level</th>\n",
              "      <th>last_evaluation</th>\n",
              "      <th>number_project</th>\n",
              "      <th>average_montly_hours</th>\n",
              "      <th>time_spend_company</th>\n",
              "      <th>Work_accident</th>\n",
              "      <th>promotion_last_5years</th>\n",
              "    </tr>\n",
              "  </thead>\n",
              "  <tbody>\n",
              "    <tr>\n",
              "      <th>count</th>\n",
              "      <td>13499.00000</td>\n",
              "      <td>13499.000000</td>\n",
              "      <td>13499.000000</td>\n",
              "      <td>13499.000000</td>\n",
              "      <td>13499.000000</td>\n",
              "      <td>13499.000000</td>\n",
              "      <td>13499.000000</td>\n",
              "    </tr>\n",
              "    <tr>\n",
              "      <th>mean</th>\n",
              "      <td>0.61276</td>\n",
              "      <td>0.716707</td>\n",
              "      <td>3.806430</td>\n",
              "      <td>201.149567</td>\n",
              "      <td>3.503445</td>\n",
              "      <td>0.144529</td>\n",
              "      <td>0.020890</td>\n",
              "    </tr>\n",
              "    <tr>\n",
              "      <th>std</th>\n",
              "      <td>0.24897</td>\n",
              "      <td>0.171250</td>\n",
              "      <td>1.234811</td>\n",
              "      <td>49.969348</td>\n",
              "      <td>1.461173</td>\n",
              "      <td>0.351639</td>\n",
              "      <td>0.143023</td>\n",
              "    </tr>\n",
              "    <tr>\n",
              "      <th>min</th>\n",
              "      <td>0.09000</td>\n",
              "      <td>0.360000</td>\n",
              "      <td>2.000000</td>\n",
              "      <td>96.000000</td>\n",
              "      <td>2.000000</td>\n",
              "      <td>0.000000</td>\n",
              "      <td>0.000000</td>\n",
              "    </tr>\n",
              "    <tr>\n",
              "      <th>25%</th>\n",
              "      <td>0.44000</td>\n",
              "      <td>0.560000</td>\n",
              "      <td>3.000000</td>\n",
              "      <td>156.000000</td>\n",
              "      <td>3.000000</td>\n",
              "      <td>0.000000</td>\n",
              "      <td>0.000000</td>\n",
              "    </tr>\n",
              "    <tr>\n",
              "      <th>50%</th>\n",
              "      <td>0.64000</td>\n",
              "      <td>0.720000</td>\n",
              "      <td>4.000000</td>\n",
              "      <td>200.000000</td>\n",
              "      <td>3.000000</td>\n",
              "      <td>0.000000</td>\n",
              "      <td>0.000000</td>\n",
              "    </tr>\n",
              "    <tr>\n",
              "      <th>75%</th>\n",
              "      <td>0.82000</td>\n",
              "      <td>0.870000</td>\n",
              "      <td>5.000000</td>\n",
              "      <td>245.000000</td>\n",
              "      <td>4.000000</td>\n",
              "      <td>0.000000</td>\n",
              "      <td>0.000000</td>\n",
              "    </tr>\n",
              "    <tr>\n",
              "      <th>max</th>\n",
              "      <td>1.00000</td>\n",
              "      <td>1.000000</td>\n",
              "      <td>7.000000</td>\n",
              "      <td>310.000000</td>\n",
              "      <td>10.000000</td>\n",
              "      <td>1.000000</td>\n",
              "      <td>1.000000</td>\n",
              "    </tr>\n",
              "  </tbody>\n",
              "</table>\n",
              "</div>"
            ],
            "text/plain": [
              "       satisfaction_level  last_evaluation  number_project  \\\n",
              "count         13499.00000     13499.000000    13499.000000   \n",
              "mean              0.61276         0.716707        3.806430   \n",
              "std               0.24897         0.171250        1.234811   \n",
              "min               0.09000         0.360000        2.000000   \n",
              "25%               0.44000         0.560000        3.000000   \n",
              "50%               0.64000         0.720000        4.000000   \n",
              "75%               0.82000         0.870000        5.000000   \n",
              "max               1.00000         1.000000        7.000000   \n",
              "\n",
              "       average_montly_hours  time_spend_company  Work_accident  \\\n",
              "count          13499.000000        13499.000000   13499.000000   \n",
              "mean             201.149567            3.503445       0.144529   \n",
              "std               49.969348            1.461173       0.351639   \n",
              "min               96.000000            2.000000       0.000000   \n",
              "25%              156.000000            3.000000       0.000000   \n",
              "50%              200.000000            3.000000       0.000000   \n",
              "75%              245.000000            4.000000       0.000000   \n",
              "max              310.000000           10.000000       1.000000   \n",
              "\n",
              "       promotion_last_5years  \n",
              "count           13499.000000  \n",
              "mean                0.020890  \n",
              "std                 0.143023  \n",
              "min                 0.000000  \n",
              "25%                 0.000000  \n",
              "50%                 0.000000  \n",
              "75%                 0.000000  \n",
              "max                 1.000000  "
            ]
          },
          "metadata": {
            "tags": []
          },
          "execution_count": 16
        }
      ]
    },
    {
      "metadata": {
        "id": "INJkxdPOMWL-",
        "colab_type": "code",
        "outputId": "a43ddd20-bfd6-4f53-fc76-8f242e3d4c25",
        "colab": {
          "base_uri": "https://localhost:8080/",
          "height": 272
        }
      },
      "cell_type": "code",
      "source": [
        "hr_data_full.info()"
      ],
      "execution_count": 17,
      "outputs": [
        {
          "output_type": "stream",
          "text": [
            "<class 'pandas.core.frame.DataFrame'>\n",
            "RangeIndex: 14999 entries, 0 to 14998\n",
            "Data columns (total 10 columns):\n",
            "satisfaction_level       14999 non-null float64\n",
            "last_evaluation          14999 non-null float64\n",
            "number_project           14999 non-null int64\n",
            "average_montly_hours     14999 non-null int64\n",
            "time_spend_company       14999 non-null int64\n",
            "Work_accident            14999 non-null int64\n",
            "left                     14999 non-null int64\n",
            "promotion_last_5years    14999 non-null int64\n",
            "sales                    14999 non-null object\n",
            "salary                   14999 non-null object\n",
            "dtypes: float64(2), int64(6), object(2)\n",
            "memory usage: 1.1+ MB\n"
          ],
          "name": "stdout"
        }
      ]
    },
    {
      "metadata": {
        "id": "VTdkvJijSJx1",
        "colab_type": "code",
        "colab": {}
      },
      "cell_type": "code",
      "source": [
        "cat_attribute = ['sales','salary']\n",
        "numeric_attribute = [\"satisfaction_level\",\"last_evaluation\",\"number_project\",\"average_montly_hours\",\"time_spend_company\",\"Work_accident\",\"promotion_last_5years\"]"
      ],
      "execution_count": 0,
      "outputs": []
    },
    {
      "metadata": {
        "id": "R3j6pRanTX78",
        "colab_type": "code",
        "colab": {}
      },
      "cell_type": "code",
      "source": [
        "# Create a class to select numerical or categorical columns \n",
        "# since Scikit-Learn doesn't handle DataFrames yet\n",
        "class DataFrameSelector(BaseEstimator, TransformerMixin):\n",
        "    def __init__(self, attribute_names):\n",
        "        self.attribute_names = attribute_names\n",
        "    def fit(self, X, y=None):\n",
        "        return self\n",
        "    def transform(self, X):\n",
        "        return X[self.attribute_names].values"
      ],
      "execution_count": 0,
      "outputs": []
    },
    {
      "metadata": {
        "id": "ptmf8sItTZtK",
        "colab_type": "code",
        "colab": {}
      },
      "cell_type": "code",
      "source": [
        "# Inspired from stackoverflow.com/questions/25239958\n",
        "class MostFrequentImputer(BaseEstimator, TransformerMixin):\n",
        "    def fit(self, X, y=None):\n",
        "        self.most_frequent_ = pd.Series([X[c].value_counts().index[0] for c in X],index=X.columns)\n",
        "        return self\n",
        "    def transform(self, X, y=None):\n",
        "        #return X.fillna(self.most_frequent_)\n",
        "        return X\n"
      ],
      "execution_count": 0,
      "outputs": []
    },
    {
      "metadata": {
        "id": "pQZRnAS5Tf0m",
        "colab_type": "code",
        "colab": {}
      },
      "cell_type": "code",
      "source": [
        "num_pipeline = Pipeline([\n",
        "        (\"select_numeric\", DataFrameSelector(numeric_attribute)),\n",
        "        (\"imputer\", SimpleImputer(strategy=\"median\")),\n",
        "        ('std_scaler', StandardScaler()),\n",
        "    ])"
      ],
      "execution_count": 0,
      "outputs": []
    },
    {
      "metadata": {
        "id": "blF_Lr3cTpH3",
        "colab_type": "code",
        "colab": {}
      },
      "cell_type": "code",
      "source": [
        "cat_pipeline = Pipeline([\n",
        "        (\"select_cat\", DataFrameSelector(cat_attribute)),\n",
        " #       (\"imputer\", CategoricalImputer()),\n",
        "        (\"cat_encoder\",OneHotEncoder(sparse=False,handle_unknown='ignore' )),\n",
        "        ])"
      ],
      "execution_count": 0,
      "outputs": []
    },
    {
      "metadata": {
        "id": "zvtmLb_L18_Q",
        "colab_type": "code",
        "colab": {}
      },
      "cell_type": "code",
      "source": [
        "from sklearn_pandas import *"
      ],
      "execution_count": 0,
      "outputs": []
    },
    {
      "metadata": {
        "id": "ENYzVtsgTsbZ",
        "colab_type": "code",
        "colab": {}
      },
      "cell_type": "code",
      "source": [
        "preprocess_pipeline = FeatureUnion(transformer_list=[\n",
        "        (\"num_pipeline\", num_pipeline),\n",
        "        (\"cat_pipeline\", cat_pipeline),\n",
        "    ])"
      ],
      "execution_count": 0,
      "outputs": []
    },
    {
      "metadata": {
        "id": "4M-IlBoFUSxN",
        "colab_type": "code",
        "colab": {}
      },
      "cell_type": "code",
      "source": [
        "x_train  = preprocess_pipeline.fit_transform(hr_data_train)\n",
        "x_test =  preprocess_pipeline.transform(hr_data_test)"
      ],
      "execution_count": 0,
      "outputs": []
    },
    {
      "metadata": {
        "id": "tFxa2gLGVpkT",
        "colab_type": "code",
        "colab": {
          "base_uri": "https://localhost:8080/",
          "height": 34
        },
        "outputId": "2a88b7f9-091f-4e41-9b8a-b7a3b2c229bd"
      },
      "cell_type": "code",
      "source": [
        "print (type(x_train))"
      ],
      "execution_count": 67,
      "outputs": [
        {
          "output_type": "stream",
          "text": [
            "<class 'numpy.ndarray'>\n"
          ],
          "name": "stdout"
        }
      ]
    },
    {
      "metadata": {
        "id": "SFdLTgOpAmCr",
        "colab_type": "code",
        "colab": {}
      },
      "cell_type": "code",
      "source": [
        "le = preprocessing.LabelEncoder()\n",
        "y_train = le.fit_transform(hr_data_train_label)\n",
        "y_test = le.fit_transform(hr_data_test_label)"
      ],
      "execution_count": 0,
      "outputs": []
    },
    {
      "metadata": {
        "id": "9VoTuE5l5z4J",
        "colab_type": "code",
        "outputId": "c0c4e088-c8d9-4e68-a554-e26e733a162c",
        "colab": {
          "base_uri": "https://localhost:8080/",
          "height": 102
        }
      },
      "cell_type": "code",
      "source": [
        "print (x_train.shape)\n",
        "print (x_test.shape)\n",
        "print (y_train.shape)\n",
        "print (y_test.shape)\n",
        "print (hr_data_train.shape)"
      ],
      "execution_count": 43,
      "outputs": [
        {
          "output_type": "stream",
          "text": [
            "(13499, 20)\n",
            "(1500, 20)\n",
            "(13499,)\n",
            "(1500,)\n",
            "(13499, 9)\n"
          ],
          "name": "stdout"
        }
      ]
    },
    {
      "metadata": {
        "id": "YxsmTBBY6PkX",
        "colab_type": "code",
        "colab": {}
      },
      "cell_type": "code",
      "source": [
        "correlation_matrix = hr_data_train.corr()"
      ],
      "execution_count": 0,
      "outputs": []
    },
    {
      "metadata": {
        "id": "L_LidDzS6Uyl",
        "colab_type": "code",
        "outputId": "817ed8a9-23ca-4b04-bc00-f34c1d65ef71",
        "colab": {
          "base_uri": "https://localhost:8080/",
          "height": 459
        }
      },
      "cell_type": "code",
      "source": [
        "print (correlation_matrix)"
      ],
      "execution_count": 45,
      "outputs": [
        {
          "output_type": "stream",
          "text": [
            "                       satisfaction_level  last_evaluation  number_project  \\\n",
            "satisfaction_level               1.000000         0.105310       -0.146906   \n",
            "last_evaluation                  0.105310         1.000000        0.346520   \n",
            "number_project                  -0.146906         0.346520        1.000000   \n",
            "average_montly_hours            -0.021872         0.338556        0.417131   \n",
            "time_spend_company              -0.099282         0.134387        0.196456   \n",
            "Work_accident                    0.060839        -0.008767       -0.003130   \n",
            "promotion_last_5years            0.029235        -0.005600       -0.005627   \n",
            "\n",
            "                       average_montly_hours  time_spend_company  \\\n",
            "satisfaction_level                -0.021872           -0.099282   \n",
            "last_evaluation                    0.338556            0.134387   \n",
            "number_project                     0.417131            0.196456   \n",
            "average_montly_hours               1.000000            0.127994   \n",
            "time_spend_company                 0.127994            1.000000   \n",
            "Work_accident                     -0.010177            0.005303   \n",
            "promotion_last_5years             -0.000448            0.064176   \n",
            "\n",
            "                       Work_accident  promotion_last_5years  \n",
            "satisfaction_level          0.060839               0.029235  \n",
            "last_evaluation            -0.008767              -0.005600  \n",
            "number_project             -0.003130              -0.005627  \n",
            "average_montly_hours       -0.010177              -0.000448  \n",
            "time_spend_company          0.005303               0.064176  \n",
            "Work_accident               1.000000               0.038658  \n",
            "promotion_last_5years       0.038658               1.000000  \n"
          ],
          "name": "stdout"
        }
      ]
    },
    {
      "metadata": {
        "id": "WqcG_z_J-y8W",
        "colab_type": "code",
        "colab": {}
      },
      "cell_type": "code",
      "source": [
        "mask = np.zeros_like(correlation_matrix, dtype=np.bool)\n",
        "mask[np.triu_indices_from(mask)] = True"
      ],
      "execution_count": 0,
      "outputs": []
    },
    {
      "metadata": {
        "id": "hpaAiBzN_DYZ",
        "colab_type": "code",
        "outputId": "6acc1d0b-63f6-4d3a-fd13-2e2b88c316e0",
        "colab": {
          "base_uri": "https://localhost:8080/",
          "height": 646
        }
      },
      "cell_type": "code",
      "source": [
        "f, ax = plt.subplots(figsize=(11, 9))\n",
        "\n",
        "# Generate a custom diverging colormap\n",
        "cmap = sns.diverging_palette(220, 10, as_cmap=True)\n",
        "\n",
        "# Draw the heatmap with the mask and correct aspect ratio\n",
        "sns.heatmap(correlation_matrix, mask=mask, cmap=cmap, vmax=.3, center=0,\n",
        "            square=True, linewidths=.5, cbar_kws={\"shrink\": .5})"
      ],
      "execution_count": 47,
      "outputs": [
        {
          "output_type": "execute_result",
          "data": {
            "text/plain": [
              "<matplotlib.axes._subplots.AxesSubplot at 0x7fafb5b80eb8>"
            ]
          },
          "metadata": {
            "tags": []
          },
          "execution_count": 47
        },
        {
          "output_type": "display_data",
          "data": {
            "image/png": "[encoded data removed]",
            "text/plain": [
              "<matplotlib.figure.Figure at 0x7fafb5b80828>"
            ]
          },
          "metadata": {
            "tags": []
          }
        }
      ]
    },
    {
      "metadata": {
        "id": "k-xVpLXP_pn-",
        "colab_type": "code",
        "colab": {}
      },
      "cell_type": "code",
      "source": [
        "logistic_clf = LogisticRegression(random_state=42,class_weight ='balanced',solver='lbfgs',max_iter=1000)"
      ],
      "execution_count": 0,
      "outputs": []
    },
    {
      "metadata": {
        "id": "xvWHDyYABFTg",
        "colab_type": "code",
        "outputId": "26dbbfcd-7187-4340-ff7d-b5383ba18fce",
        "colab": {
          "base_uri": "https://localhost:8080/",
          "height": 85
        }
      },
      "cell_type": "code",
      "source": [
        "logistic_clf.fit(x_train,y_train)"
      ],
      "execution_count": 55,
      "outputs": [
        {
          "output_type": "execute_result",
          "data": {
            "text/plain": [
              "LogisticRegression(C=1.0, class_weight='balanced', dual=False,\n",
              "          fit_intercept=True, intercept_scaling=1, max_iter=1000,\n",
              "          multi_class='warn', n_jobs=None, penalty='l2', random_state=42,\n",
              "          solver='lbfgs', tol=0.0001, verbose=0, warm_start=False)"
            ]
          },
          "metadata": {
            "tags": []
          },
          "execution_count": 55
        }
      ]
    },
    {
      "metadata": {
        "id": "upyZHslbBf2p",
        "colab_type": "code",
        "outputId": "4163cf53-c5d7-4170-bfbd-d0655cba0cb2",
        "colab": {
          "base_uri": "https://localhost:8080/",
          "height": 1968
        }
      },
      "cell_type": "code",
      "source": [
        "logistic_regression_scores = cross_val_score(logistic_clf, x_train, y_train, cv=10)\n",
        "y_train_pred_logistic = cross_val_predict(logistic_clf, x_train, y_train, cv=10)\n",
        "print (logistic_regression_scores.mean())"
      ],
      "execution_count": 69,
      "outputs": [
        {
          "output_type": "error",
          "ename": "AttributeError",
          "evalue": "ignored",
          "traceback": [
            "\u001b[0;31m---------------------------------------------------------------------------\u001b[0m",
            "\u001b[0;31mAttributeError\u001b[0m                            Traceback (most recent call last)",
            "\u001b[0;32m<ipython-input-69-3a168bd3437d>\u001b[0m in \u001b[0;36m<module>\u001b[0;34m()\u001b[0m\n\u001b[0;32m----> 1\u001b[0;31m \u001b[0mlogistic_regression_scores\u001b[0m \u001b[0;34m=\u001b[0m \u001b[0mcross_val_score\u001b[0m\u001b[0;34m(\u001b[0m\u001b[0mlogistic_clf\u001b[0m\u001b[0;34m,\u001b[0m \u001b[0mx_train\u001b[0m\u001b[0;34m,\u001b[0m \u001b[0my_train\u001b[0m\u001b[0;34m,\u001b[0m \u001b[0mcv\u001b[0m\u001b[0;34m=\u001b[0m\u001b[0;36m10\u001b[0m\u001b[0;34m)\u001b[0m\u001b[0;34m\u001b[0m\u001b[0;34m\u001b[0m\u001b[0m\n\u001b[0m\u001b[1;32m      2\u001b[0m \u001b[0;31m#y_train_pred_logistic = cross_val_predict(logistic_clf, x_train, y_train, cv=10)\u001b[0m\u001b[0;34m\u001b[0m\u001b[0;34m\u001b[0m\u001b[0;34m\u001b[0m\u001b[0m\n\u001b[1;32m      3\u001b[0m \u001b[0;31m#print (logistic_regression_scores.mean())\u001b[0m\u001b[0;34m\u001b[0m\u001b[0;34m\u001b[0m\u001b[0;34m\u001b[0m\u001b[0m\n",
            "\u001b[0;32m/usr/local/lib/python3.6/dist-packages/sklearn_pandas/cross_validation.py\u001b[0m in \u001b[0;36mcross_val_score\u001b[0;34m(model, X, *args, **kwargs)\u001b[0m\n\u001b[1;32m     19\u001b[0m     \u001b[0mwarnings\u001b[0m\u001b[0;34m.\u001b[0m\u001b[0mwarn\u001b[0m\u001b[0;34m(\u001b[0m\u001b[0mDEPRECATION_MSG\u001b[0m\u001b[0;34m,\u001b[0m \u001b[0mDeprecationWarning\u001b[0m\u001b[0;34m)\u001b[0m\u001b[0;34m\u001b[0m\u001b[0;34m\u001b[0m\u001b[0m\n\u001b[1;32m     20\u001b[0m     \u001b[0mX\u001b[0m \u001b[0;34m=\u001b[0m \u001b[0mDataWrapper\u001b[0m\u001b[0;34m(\u001b[0m\u001b[0mX\u001b[0m\u001b[0;34m)\u001b[0m\u001b[0;34m\u001b[0m\u001b[0;34m\u001b[0m\u001b[0m\n\u001b[0;32m---> 21\u001b[0;31m     \u001b[0;32mreturn\u001b[0m \u001b[0msk_cross_val_score\u001b[0m\u001b[0;34m(\u001b[0m\u001b[0mmodel\u001b[0m\u001b[0;34m,\u001b[0m \u001b[0mX\u001b[0m\u001b[0;34m,\u001b[0m \u001b[0;34m*\u001b[0m\u001b[0margs\u001b[0m\u001b[0;34m,\u001b[0m \u001b[0;34m**\u001b[0m\u001b[0mkwargs\u001b[0m\u001b[0;34m)\u001b[0m\u001b[0;34m\u001b[0m\u001b[0;34m\u001b[0m\u001b[0m\n\u001b[0m\u001b[1;32m     22\u001b[0m \u001b[0;34m\u001b[0m\u001b[0m\n\u001b[1;32m     23\u001b[0m \u001b[0;34m\u001b[0m\u001b[0m\n",
            "\u001b[0;32m/usr/local/lib/python3.6/dist-packages/sklearn/model_selection/_validation.py\u001b[0m in \u001b[0;36mcross_val_score\u001b[0;34m(estimator, X, y, groups, scoring, cv, n_jobs, verbose, fit_params, pre_dispatch, error_score)\u001b[0m\n\u001b[1;32m    400\u001b[0m                                 \u001b[0mfit_params\u001b[0m\u001b[0;34m=\u001b[0m\u001b[0mfit_params\u001b[0m\u001b[0;34m,\u001b[0m\u001b[0;34m\u001b[0m\u001b[0;34m\u001b[0m\u001b[0m\n\u001b[1;32m    401\u001b[0m                                 \u001b[0mpre_dispatch\u001b[0m\u001b[0;34m=\u001b[0m\u001b[0mpre_dispatch\u001b[0m\u001b[0;34m,\u001b[0m\u001b[0;34m\u001b[0m\u001b[0;34m\u001b[0m\u001b[0m\n\u001b[0;32m--> 402\u001b[0;31m                                 error_score=error_score)\n\u001b[0m\u001b[1;32m    403\u001b[0m     \u001b[0;32mreturn\u001b[0m \u001b[0mcv_results\u001b[0m\u001b[0;34m[\u001b[0m\u001b[0;34m'test_score'\u001b[0m\u001b[0;34m]\u001b[0m\u001b[0;34m\u001b[0m\u001b[0;34m\u001b[0m\u001b[0m\n\u001b[1;32m    404\u001b[0m \u001b[0;34m\u001b[0m\u001b[0m\n",
            "\u001b[0;32m/usr/local/lib/python3.6/dist-packages/sklearn/model_selection/_validation.py\u001b[0m in \u001b[0;36mcross_validate\u001b[0;34m(estimator, X, y, groups, scoring, cv, n_jobs, verbose, fit_params, pre_dispatch, return_train_score, return_estimator, error_score)\u001b[0m\n\u001b[1;32m    238\u001b[0m             \u001b[0mreturn_times\u001b[0m\u001b[0;34m=\u001b[0m\u001b[0;32mTrue\u001b[0m\u001b[0;34m,\u001b[0m \u001b[0mreturn_estimator\u001b[0m\u001b[0;34m=\u001b[0m\u001b[0mreturn_estimator\u001b[0m\u001b[0;34m,\u001b[0m\u001b[0;34m\u001b[0m\u001b[0;34m\u001b[0m\u001b[0m\n\u001b[1;32m    239\u001b[0m             error_score=error_score)\n\u001b[0;32m--> 240\u001b[0;31m         for train, test in cv.split(X, y, groups))\n\u001b[0m\u001b[1;32m    241\u001b[0m \u001b[0;34m\u001b[0m\u001b[0m\n\u001b[1;32m    242\u001b[0m     \u001b[0mzipped_scores\u001b[0m \u001b[0;34m=\u001b[0m \u001b[0mlist\u001b[0m\u001b[0;34m(\u001b[0m\u001b[0mzip\u001b[0m\u001b[0;34m(\u001b[0m\u001b[0;34m*\u001b[0m\u001b[0mscores\u001b[0m\u001b[0;34m)\u001b[0m\u001b[0;34m)\u001b[0m\u001b[0;34m\u001b[0m\u001b[0;34m\u001b[0m\u001b[0m\n",
            "\u001b[0;32m/usr/local/lib/python3.6/dist-packages/sklearn/externals/joblib/parallel.py\u001b[0m in \u001b[0;36m__call__\u001b[0;34m(self, iterable)\u001b[0m\n\u001b[1;32m    915\u001b[0m             \u001b[0;31m# remaining jobs.\u001b[0m\u001b[0;34m\u001b[0m\u001b[0;34m\u001b[0m\u001b[0;34m\u001b[0m\u001b[0m\n\u001b[1;32m    916\u001b[0m             \u001b[0mself\u001b[0m\u001b[0;34m.\u001b[0m\u001b[0m_iterating\u001b[0m \u001b[0;34m=\u001b[0m \u001b[0;32mFalse\u001b[0m\u001b[0;34m\u001b[0m\u001b[0;34m\u001b[0m\u001b[0m\n\u001b[0;32m--> 917\u001b[0;31m             \u001b[0;32mif\u001b[0m \u001b[0mself\u001b[0m\u001b[0;34m.\u001b[0m\u001b[0mdispatch_one_batch\u001b[0m\u001b[0;34m(\u001b[0m\u001b[0miterator\u001b[0m\u001b[0;34m)\u001b[0m\u001b[0;34m:\u001b[0m\u001b[0;34m\u001b[0m\u001b[0;34m\u001b[0m\u001b[0m\n\u001b[0m\u001b[1;32m    918\u001b[0m                 \u001b[0mself\u001b[0m\u001b[0;34m.\u001b[0m\u001b[0m_iterating\u001b[0m \u001b[0;34m=\u001b[0m \u001b[0mself\u001b[0m\u001b[0;34m.\u001b[0m\u001b[0m_original_iterator\u001b[0m \u001b[0;32mis\u001b[0m \u001b[0;32mnot\u001b[0m \u001b[0;32mNone\u001b[0m\u001b[0;34m\u001b[0m\u001b[0;34m\u001b[0m\u001b[0m\n\u001b[1;32m    919\u001b[0m \u001b[0;34m\u001b[0m\u001b[0m\n",
            "\u001b[0;32m/usr/local/lib/python3.6/dist-packages/sklearn/externals/joblib/parallel.py\u001b[0m in \u001b[0;36mdispatch_one_batch\u001b[0;34m(self, iterator)\u001b[0m\n\u001b[1;32m    757\u001b[0m                 \u001b[0;32mreturn\u001b[0m \u001b[0;32mFalse\u001b[0m\u001b[0;34m\u001b[0m\u001b[0;34m\u001b[0m\u001b[0m\n\u001b[1;32m    758\u001b[0m             \u001b[0;32melse\u001b[0m\u001b[0;34m:\u001b[0m\u001b[0;34m\u001b[0m\u001b[0;34m\u001b[0m\u001b[0m\n\u001b[0;32m--> 759\u001b[0;31m                 \u001b[0mself\u001b[0m\u001b[0;34m.\u001b[0m\u001b[0m_dispatch\u001b[0m\u001b[0;34m(\u001b[0m\u001b[0mtasks\u001b[0m\u001b[0;34m)\u001b[0m\u001b[0;34m\u001b[0m\u001b[0;34m\u001b[0m\u001b[0m\n\u001b[0m\u001b[1;32m    760\u001b[0m                 \u001b[0;32mreturn\u001b[0m \u001b[0;32mTrue\u001b[0m\u001b[0;34m\u001b[0m\u001b[0;34m\u001b[0m\u001b[0m\n\u001b[1;32m    761\u001b[0m \u001b[0;34m\u001b[0m\u001b[0m\n",
            "\u001b[0;32m/usr/local/lib/python3.6/dist-packages/sklearn/externals/joblib/parallel.py\u001b[0m in \u001b[0;36m_dispatch\u001b[0;34m(self, batch)\u001b[0m\n\u001b[1;32m    714\u001b[0m         \u001b[0;32mwith\u001b[0m \u001b[0mself\u001b[0m\u001b[0;34m.\u001b[0m\u001b[0m_lock\u001b[0m\u001b[0;34m:\u001b[0m\u001b[0;34m\u001b[0m\u001b[0;34m\u001b[0m\u001b[0m\n\u001b[1;32m    715\u001b[0m             \u001b[0mjob_idx\u001b[0m \u001b[0;34m=\u001b[0m \u001b[0mlen\u001b[0m\u001b[0;34m(\u001b[0m\u001b[0mself\u001b[0m\u001b[0;34m.\u001b[0m\u001b[0m_jobs\u001b[0m\u001b[0;34m)\u001b[0m\u001b[0;34m\u001b[0m\u001b[0;34m\u001b[0m\u001b[0m\n\u001b[0;32m--> 716\u001b[0;31m             \u001b[0mjob\u001b[0m \u001b[0;34m=\u001b[0m \u001b[0mself\u001b[0m\u001b[0;34m.\u001b[0m\u001b[0m_backend\u001b[0m\u001b[0;34m.\u001b[0m\u001b[0mapply_async\u001b[0m\u001b[0;34m(\u001b[0m\u001b[0mbatch\u001b[0m\u001b[0;34m,\u001b[0m \u001b[0mcallback\u001b[0m\u001b[0;34m=\u001b[0m\u001b[0mcb\u001b[0m\u001b[0;34m)\u001b[0m\u001b[0;34m\u001b[0m\u001b[0;34m\u001b[0m\u001b[0m\n\u001b[0m\u001b[1;32m    717\u001b[0m             \u001b[0;31m# A job can complete so quickly than its callback is\u001b[0m\u001b[0;34m\u001b[0m\u001b[0;34m\u001b[0m\u001b[0;34m\u001b[0m\u001b[0m\n\u001b[1;32m    718\u001b[0m             \u001b[0;31m# called before we get here, causing self._jobs to\u001b[0m\u001b[0;34m\u001b[0m\u001b[0;34m\u001b[0m\u001b[0;34m\u001b[0m\u001b[0m\n",
            "\u001b[0;32m/usr/local/lib/python3.6/dist-packages/sklearn/externals/joblib/_parallel_backends.py\u001b[0m in \u001b[0;36mapply_async\u001b[0;34m(self, func, callback)\u001b[0m\n\u001b[1;32m    180\u001b[0m     \u001b[0;32mdef\u001b[0m \u001b[0mapply_async\u001b[0m\u001b[0;34m(\u001b[0m\u001b[0mself\u001b[0m\u001b[0;34m,\u001b[0m \u001b[0mfunc\u001b[0m\u001b[0;34m,\u001b[0m \u001b[0mcallback\u001b[0m\u001b[0;34m=\u001b[0m\u001b[0;32mNone\u001b[0m\u001b[0;34m)\u001b[0m\u001b[0;34m:\u001b[0m\u001b[0;34m\u001b[0m\u001b[0;34m\u001b[0m\u001b[0m\n\u001b[1;32m    181\u001b[0m         \u001b[0;34m\"\"\"Schedule a func to be run\"\"\"\u001b[0m\u001b[0;34m\u001b[0m\u001b[0;34m\u001b[0m\u001b[0m\n\u001b[0;32m--> 182\u001b[0;31m         \u001b[0mresult\u001b[0m \u001b[0;34m=\u001b[0m \u001b[0mImmediateResult\u001b[0m\u001b[0;34m(\u001b[0m\u001b[0mfunc\u001b[0m\u001b[0;34m)\u001b[0m\u001b[0;34m\u001b[0m\u001b[0;34m\u001b[0m\u001b[0m\n\u001b[0m\u001b[1;32m    183\u001b[0m         \u001b[0;32mif\u001b[0m \u001b[0mcallback\u001b[0m\u001b[0;34m:\u001b[0m\u001b[0;34m\u001b[0m\u001b[0;34m\u001b[0m\u001b[0m\n\u001b[1;32m    184\u001b[0m             \u001b[0mcallback\u001b[0m\u001b[0;34m(\u001b[0m\u001b[0mresult\u001b[0m\u001b[0;34m)\u001b[0m\u001b[0;34m\u001b[0m\u001b[0;34m\u001b[0m\u001b[0m\n",
            "\u001b[0;32m/usr/local/lib/python3.6/dist-packages/sklearn/externals/joblib/_parallel_backends.py\u001b[0m in \u001b[0;36m__init__\u001b[0;34m(self, batch)\u001b[0m\n\u001b[1;32m    547\u001b[0m         \u001b[0;31m# Don't delay the application, to avoid keeping the input\u001b[0m\u001b[0;34m\u001b[0m\u001b[0;34m\u001b[0m\u001b[0;34m\u001b[0m\u001b[0m\n\u001b[1;32m    548\u001b[0m         \u001b[0;31m# arguments in memory\u001b[0m\u001b[0;34m\u001b[0m\u001b[0;34m\u001b[0m\u001b[0;34m\u001b[0m\u001b[0m\n\u001b[0;32m--> 549\u001b[0;31m         \u001b[0mself\u001b[0m\u001b[0;34m.\u001b[0m\u001b[0mresults\u001b[0m \u001b[0;34m=\u001b[0m \u001b[0mbatch\u001b[0m\u001b[0;34m(\u001b[0m\u001b[0;34m)\u001b[0m\u001b[0;34m\u001b[0m\u001b[0;34m\u001b[0m\u001b[0m\n\u001b[0m\u001b[1;32m    550\u001b[0m \u001b[0;34m\u001b[0m\u001b[0m\n\u001b[1;32m    551\u001b[0m     \u001b[0;32mdef\u001b[0m \u001b[0mget\u001b[0m\u001b[0;34m(\u001b[0m\u001b[0mself\u001b[0m\u001b[0;34m)\u001b[0m\u001b[0;34m:\u001b[0m\u001b[0;34m\u001b[0m\u001b[0;34m\u001b[0m\u001b[0m\n",
            "\u001b[0;32m/usr/local/lib/python3.6/dist-packages/sklearn/externals/joblib/parallel.py\u001b[0m in \u001b[0;36m__call__\u001b[0;34m(self)\u001b[0m\n\u001b[1;32m    223\u001b[0m         \u001b[0;32mwith\u001b[0m \u001b[0mparallel_backend\u001b[0m\u001b[0;34m(\u001b[0m\u001b[0mself\u001b[0m\u001b[0;34m.\u001b[0m\u001b[0m_backend\u001b[0m\u001b[0;34m,\u001b[0m \u001b[0mn_jobs\u001b[0m\u001b[0;34m=\u001b[0m\u001b[0mself\u001b[0m\u001b[0;34m.\u001b[0m\u001b[0m_n_jobs\u001b[0m\u001b[0;34m)\u001b[0m\u001b[0;34m:\u001b[0m\u001b[0;34m\u001b[0m\u001b[0;34m\u001b[0m\u001b[0m\n\u001b[1;32m    224\u001b[0m             return [func(*args, **kwargs)\n\u001b[0;32m--> 225\u001b[0;31m                     for func, args, kwargs in self.items]\n\u001b[0m\u001b[1;32m    226\u001b[0m \u001b[0;34m\u001b[0m\u001b[0m\n\u001b[1;32m    227\u001b[0m     \u001b[0;32mdef\u001b[0m \u001b[0m__len__\u001b[0m\u001b[0;34m(\u001b[0m\u001b[0mself\u001b[0m\u001b[0;34m)\u001b[0m\u001b[0;34m:\u001b[0m\u001b[0;34m\u001b[0m\u001b[0;34m\u001b[0m\u001b[0m\n",
            "\u001b[0;32m/usr/local/lib/python3.6/dist-packages/sklearn/externals/joblib/parallel.py\u001b[0m in \u001b[0;36m<listcomp>\u001b[0;34m(.0)\u001b[0m\n\u001b[1;32m    223\u001b[0m         \u001b[0;32mwith\u001b[0m \u001b[0mparallel_backend\u001b[0m\u001b[0;34m(\u001b[0m\u001b[0mself\u001b[0m\u001b[0;34m.\u001b[0m\u001b[0m_backend\u001b[0m\u001b[0;34m,\u001b[0m \u001b[0mn_jobs\u001b[0m\u001b[0;34m=\u001b[0m\u001b[0mself\u001b[0m\u001b[0;34m.\u001b[0m\u001b[0m_n_jobs\u001b[0m\u001b[0;34m)\u001b[0m\u001b[0;34m:\u001b[0m\u001b[0;34m\u001b[0m\u001b[0;34m\u001b[0m\u001b[0m\n\u001b[1;32m    224\u001b[0m             return [func(*args, **kwargs)\n\u001b[0;32m--> 225\u001b[0;31m                     for func, args, kwargs in self.items]\n\u001b[0m\u001b[1;32m    226\u001b[0m \u001b[0;34m\u001b[0m\u001b[0m\n\u001b[1;32m    227\u001b[0m     \u001b[0;32mdef\u001b[0m \u001b[0m__len__\u001b[0m\u001b[0;34m(\u001b[0m\u001b[0mself\u001b[0m\u001b[0;34m)\u001b[0m\u001b[0;34m:\u001b[0m\u001b[0;34m\u001b[0m\u001b[0;34m\u001b[0m\u001b[0m\n",
            "\u001b[0;32m/usr/local/lib/python3.6/dist-packages/sklearn/model_selection/_validation.py\u001b[0m in \u001b[0;36m_fit_and_score\u001b[0;34m(estimator, X, y, scorer, train, test, verbose, parameters, fit_params, return_train_score, return_parameters, return_n_test_samples, return_times, return_estimator, error_score)\u001b[0m\n\u001b[1;32m    516\u001b[0m     \u001b[0mstart_time\u001b[0m \u001b[0;34m=\u001b[0m \u001b[0mtime\u001b[0m\u001b[0;34m.\u001b[0m\u001b[0mtime\u001b[0m\u001b[0;34m(\u001b[0m\u001b[0;34m)\u001b[0m\u001b[0;34m\u001b[0m\u001b[0;34m\u001b[0m\u001b[0m\n\u001b[1;32m    517\u001b[0m \u001b[0;34m\u001b[0m\u001b[0m\n\u001b[0;32m--> 518\u001b[0;31m     \u001b[0mX_train\u001b[0m\u001b[0;34m,\u001b[0m \u001b[0my_train\u001b[0m \u001b[0;34m=\u001b[0m \u001b[0m_safe_split\u001b[0m\u001b[0;34m(\u001b[0m\u001b[0mestimator\u001b[0m\u001b[0;34m,\u001b[0m \u001b[0mX\u001b[0m\u001b[0;34m,\u001b[0m \u001b[0my\u001b[0m\u001b[0;34m,\u001b[0m \u001b[0mtrain\u001b[0m\u001b[0;34m)\u001b[0m\u001b[0;34m\u001b[0m\u001b[0;34m\u001b[0m\u001b[0m\n\u001b[0m\u001b[1;32m    519\u001b[0m     \u001b[0mX_test\u001b[0m\u001b[0;34m,\u001b[0m \u001b[0my_test\u001b[0m \u001b[0;34m=\u001b[0m \u001b[0m_safe_split\u001b[0m\u001b[0;34m(\u001b[0m\u001b[0mestimator\u001b[0m\u001b[0;34m,\u001b[0m \u001b[0mX\u001b[0m\u001b[0;34m,\u001b[0m \u001b[0my\u001b[0m\u001b[0;34m,\u001b[0m \u001b[0mtest\u001b[0m\u001b[0;34m,\u001b[0m \u001b[0mtrain\u001b[0m\u001b[0;34m)\u001b[0m\u001b[0;34m\u001b[0m\u001b[0;34m\u001b[0m\u001b[0m\n\u001b[1;32m    520\u001b[0m \u001b[0;34m\u001b[0m\u001b[0m\n",
            "\u001b[0;32m/usr/local/lib/python3.6/dist-packages/sklearn/utils/metaestimators.py\u001b[0m in \u001b[0;36m_safe_split\u001b[0;34m(estimator, X, y, indices, train_indices)\u001b[0m\n\u001b[1;32m    201\u001b[0m             \u001b[0mX_subset\u001b[0m \u001b[0;34m=\u001b[0m \u001b[0mX\u001b[0m\u001b[0;34m[\u001b[0m\u001b[0mnp\u001b[0m\u001b[0;34m.\u001b[0m\u001b[0mix_\u001b[0m\u001b[0;34m(\u001b[0m\u001b[0mindices\u001b[0m\u001b[0;34m,\u001b[0m \u001b[0mtrain_indices\u001b[0m\u001b[0;34m)\u001b[0m\u001b[0;34m]\u001b[0m\u001b[0;34m\u001b[0m\u001b[0;34m\u001b[0m\u001b[0m\n\u001b[1;32m    202\u001b[0m     \u001b[0;32melse\u001b[0m\u001b[0;34m:\u001b[0m\u001b[0;34m\u001b[0m\u001b[0;34m\u001b[0m\u001b[0m\n\u001b[0;32m--> 203\u001b[0;31m         \u001b[0mX_subset\u001b[0m \u001b[0;34m=\u001b[0m \u001b[0msafe_indexing\u001b[0m\u001b[0;34m(\u001b[0m\u001b[0mX\u001b[0m\u001b[0;34m,\u001b[0m \u001b[0mindices\u001b[0m\u001b[0;34m)\u001b[0m\u001b[0;34m\u001b[0m\u001b[0;34m\u001b[0m\u001b[0m\n\u001b[0m\u001b[1;32m    204\u001b[0m \u001b[0;34m\u001b[0m\u001b[0m\n\u001b[1;32m    205\u001b[0m     \u001b[0;32mif\u001b[0m \u001b[0my\u001b[0m \u001b[0;32mis\u001b[0m \u001b[0;32mnot\u001b[0m \u001b[0;32mNone\u001b[0m\u001b[0;34m:\u001b[0m\u001b[0;34m\u001b[0m\u001b[0;34m\u001b[0m\u001b[0m\n",
            "\u001b[0;32m/usr/local/lib/python3.6/dist-packages/sklearn/utils/__init__.py\u001b[0m in \u001b[0;36msafe_indexing\u001b[0;34m(X, indices)\u001b[0m\n\u001b[1;32m    218\u001b[0m             \u001b[0;32mreturn\u001b[0m \u001b[0mX\u001b[0m\u001b[0;34m[\u001b[0m\u001b[0mindices\u001b[0m\u001b[0;34m]\u001b[0m\u001b[0;34m\u001b[0m\u001b[0;34m\u001b[0m\u001b[0m\n\u001b[1;32m    219\u001b[0m     \u001b[0;32melse\u001b[0m\u001b[0;34m:\u001b[0m\u001b[0;34m\u001b[0m\u001b[0;34m\u001b[0m\u001b[0m\n\u001b[0;32m--> 220\u001b[0;31m         \u001b[0;32mreturn\u001b[0m \u001b[0;34m[\u001b[0m\u001b[0mX\u001b[0m\u001b[0;34m[\u001b[0m\u001b[0midx\u001b[0m\u001b[0;34m]\u001b[0m \u001b[0;32mfor\u001b[0m \u001b[0midx\u001b[0m \u001b[0;32min\u001b[0m \u001b[0mindices\u001b[0m\u001b[0;34m]\u001b[0m\u001b[0;34m\u001b[0m\u001b[0;34m\u001b[0m\u001b[0m\n\u001b[0m\u001b[1;32m    221\u001b[0m \u001b[0;34m\u001b[0m\u001b[0m\n\u001b[1;32m    222\u001b[0m \u001b[0;34m\u001b[0m\u001b[0m\n",
            "\u001b[0;32m/usr/local/lib/python3.6/dist-packages/sklearn/utils/__init__.py\u001b[0m in \u001b[0;36m<listcomp>\u001b[0;34m(.0)\u001b[0m\n\u001b[1;32m    218\u001b[0m             \u001b[0;32mreturn\u001b[0m \u001b[0mX\u001b[0m\u001b[0;34m[\u001b[0m\u001b[0mindices\u001b[0m\u001b[0;34m]\u001b[0m\u001b[0;34m\u001b[0m\u001b[0;34m\u001b[0m\u001b[0m\n\u001b[1;32m    219\u001b[0m     \u001b[0;32melse\u001b[0m\u001b[0;34m:\u001b[0m\u001b[0;34m\u001b[0m\u001b[0;34m\u001b[0m\u001b[0m\n\u001b[0;32m--> 220\u001b[0;31m         \u001b[0;32mreturn\u001b[0m \u001b[0;34m[\u001b[0m\u001b[0mX\u001b[0m\u001b[0;34m[\u001b[0m\u001b[0midx\u001b[0m\u001b[0;34m]\u001b[0m \u001b[0;32mfor\u001b[0m \u001b[0midx\u001b[0m \u001b[0;32min\u001b[0m \u001b[0mindices\u001b[0m\u001b[0;34m]\u001b[0m\u001b[0;34m\u001b[0m\u001b[0;34m\u001b[0m\u001b[0m\n\u001b[0m\u001b[1;32m    221\u001b[0m \u001b[0;34m\u001b[0m\u001b[0m\n\u001b[1;32m    222\u001b[0m \u001b[0;34m\u001b[0m\u001b[0m\n",
            "\u001b[0;32m/usr/local/lib/python3.6/dist-packages/sklearn_pandas/cross_validation.py\u001b[0m in \u001b[0;36m__getitem__\u001b[0;34m(self, key)\u001b[0m\n\u001b[1;32m     64\u001b[0m \u001b[0;34m\u001b[0m\u001b[0m\n\u001b[1;32m     65\u001b[0m     \u001b[0;32mdef\u001b[0m \u001b[0m__getitem__\u001b[0m\u001b[0;34m(\u001b[0m\u001b[0mself\u001b[0m\u001b[0;34m,\u001b[0m \u001b[0mkey\u001b[0m\u001b[0;34m)\u001b[0m\u001b[0;34m:\u001b[0m\u001b[0;34m\u001b[0m\u001b[0;34m\u001b[0m\u001b[0m\n\u001b[0;32m---> 66\u001b[0;31m         \u001b[0;32mreturn\u001b[0m \u001b[0mself\u001b[0m\u001b[0;34m.\u001b[0m\u001b[0mdf\u001b[0m\u001b[0;34m.\u001b[0m\u001b[0miloc\u001b[0m\u001b[0;34m[\u001b[0m\u001b[0mkey\u001b[0m\u001b[0;34m]\u001b[0m\u001b[0;34m\u001b[0m\u001b[0;34m\u001b[0m\u001b[0m\n\u001b[0m",
            "\u001b[0;31mAttributeError\u001b[0m: 'numpy.ndarray' object has no attribute 'iloc'"
          ]
        }
      ]
    },
    {
      "metadata": {
        "id": "-omqnqVVB0ah",
        "colab_type": "code",
        "outputId": "58cdb808-205f-46b4-b1da-2786aaaeb083",
        "colab": {
          "base_uri": "https://localhost:8080/",
          "height": 52
        }
      },
      "cell_type": "code",
      "source": [
        "confusion_matrix(y_train, y_train_pred_logistic)"
      ],
      "execution_count": 0,
      "outputs": [
        {
          "output_type": "execute_result",
          "data": {
            "text/plain": [
              "array([[7666, 2619],\n",
              "       [ 643, 2571]])"
            ]
          },
          "metadata": {
            "tags": []
          },
          "execution_count": 52
        }
      ]
    },
    {
      "metadata": {
        "id": "tz6z6U98CCEm",
        "colab_type": "code",
        "colab": {}
      },
      "cell_type": "code",
      "source": [
        "y_test_pred_logistic = logistic_clf.predict(x_test)"
      ],
      "execution_count": 0,
      "outputs": []
    },
    {
      "metadata": {
        "id": "sUkrfOJWCI7t",
        "colab_type": "code",
        "outputId": "9953ec79-4b5e-42c1-9cf5-8f9435d2a427",
        "colab": {
          "base_uri": "https://localhost:8080/",
          "height": 51
        }
      },
      "cell_type": "code",
      "source": [
        "confusion_matrix(y_test, y_test_pred_logistic)"
      ],
      "execution_count": 61,
      "outputs": [
        {
          "output_type": "execute_result",
          "data": {
            "text/plain": [
              "array([[886, 257],\n",
              "       [ 68, 289]])"
            ]
          },
          "metadata": {
            "tags": []
          },
          "execution_count": 61
        }
      ]
    },
    {
      "metadata": {
        "id": "cH9G4vTeCQB9",
        "colab_type": "code",
        "outputId": "e7b615e0-3328-4510-c6ee-9834ba760457",
        "colab": {
          "base_uri": "https://localhost:8080/",
          "height": 231
        }
      },
      "cell_type": "code",
      "source": [
        "cm = confusion_matrix(y_train,y_train_pred_logistic)\n",
        "tn, fp, fn, tp = cm.ravel()\n",
        "print (tn)\n",
        "print (fp)\n",
        "print (fn)\n",
        "print (tp)"
      ],
      "execution_count": 62,
      "outputs": [
        {
          "output_type": "error",
          "ename": "NameError",
          "evalue": "ignored",
          "traceback": [
            "\u001b[0;31m---------------------------------------------------------------------------\u001b[0m",
            "\u001b[0;31mNameError\u001b[0m                                 Traceback (most recent call last)",
            "\u001b[0;32m<ipython-input-62-e636fea0ecf1>\u001b[0m in \u001b[0;36m<module>\u001b[0;34m()\u001b[0m\n\u001b[0;32m----> 1\u001b[0;31m \u001b[0mcm\u001b[0m \u001b[0;34m=\u001b[0m \u001b[0mconfusion_matrix\u001b[0m\u001b[0;34m(\u001b[0m\u001b[0my_train\u001b[0m\u001b[0;34m,\u001b[0m\u001b[0my_train_pred_logistic\u001b[0m\u001b[0;34m)\u001b[0m\u001b[0;34m\u001b[0m\u001b[0;34m\u001b[0m\u001b[0m\n\u001b[0m\u001b[1;32m      2\u001b[0m \u001b[0mtn\u001b[0m\u001b[0;34m,\u001b[0m \u001b[0mfp\u001b[0m\u001b[0;34m,\u001b[0m \u001b[0mfn\u001b[0m\u001b[0;34m,\u001b[0m \u001b[0mtp\u001b[0m \u001b[0;34m=\u001b[0m \u001b[0mcm\u001b[0m\u001b[0;34m.\u001b[0m\u001b[0mravel\u001b[0m\u001b[0;34m(\u001b[0m\u001b[0;34m)\u001b[0m\u001b[0;34m\u001b[0m\u001b[0;34m\u001b[0m\u001b[0m\n\u001b[1;32m      3\u001b[0m \u001b[0mprint\u001b[0m \u001b[0;34m(\u001b[0m\u001b[0mtn\u001b[0m\u001b[0;34m)\u001b[0m\u001b[0;34m\u001b[0m\u001b[0;34m\u001b[0m\u001b[0m\n\u001b[1;32m      4\u001b[0m \u001b[0mprint\u001b[0m \u001b[0;34m(\u001b[0m\u001b[0mfp\u001b[0m\u001b[0;34m)\u001b[0m\u001b[0;34m\u001b[0m\u001b[0;34m\u001b[0m\u001b[0m\n\u001b[1;32m      5\u001b[0m \u001b[0mprint\u001b[0m \u001b[0;34m(\u001b[0m\u001b[0mfn\u001b[0m\u001b[0;34m)\u001b[0m\u001b[0;34m\u001b[0m\u001b[0;34m\u001b[0m\u001b[0m\n",
            "\u001b[0;31mNameError\u001b[0m: name 'y_train_pred_logistic' is not defined"
          ]
        }
      ]
    },
    {
      "metadata": {
        "id": "Oa9fQ6MWUfxF",
        "colab_type": "code",
        "colab": {
          "base_uri": "https://localhost:8080/",
          "height": 362
        },
        "outputId": "eb1d2885-041a-4d47-d531-f2da08e15ebe"
      },
      "cell_type": "code",
      "source": [
        "plot_confusion_matrix(cm,[0,1])"
      ],
      "execution_count": 87,
      "outputs": [
        {
          "output_type": "stream",
          "text": [
            "Confusion matrix, without normalization\n",
            "[[10285     0]\n",
            " [    0  3214]]\n"
          ],
          "name": "stdout"
        },
        {
          "output_type": "display_data",
          "data": {
            "image/png": "[encoded data removed]",
            "text/plain": [
              "<matplotlib.figure.Figure at 0x7f84eadceeb8>"
            ]
          },
          "metadata": {
            "tags": []
          }
        }
      ]
    },
    {
      "metadata": {
        "id": "g9U3LX35CXbP",
        "colab_type": "code",
        "outputId": "e6c1475f-ba92-4b65-a285-8195fb5bf75b",
        "colab": {
          "base_uri": "https://localhost:8080/",
          "height": 87
        }
      },
      "cell_type": "code",
      "source": [
        "tn, fp, fn, tp = confusion_matrix(y_test,y_test_pred_logistic).ravel()\n",
        "print (tn)\n",
        "print (fp)\n",
        "print (fn)\n",
        "print (tp)"
      ],
      "execution_count": 0,
      "outputs": [
        {
          "output_type": "stream",
          "text": [
            "886\n",
            "257\n",
            "68\n",
            "289\n"
          ],
          "name": "stdout"
        }
      ]
    },
    {
      "metadata": {
        "id": "msd1Qy24CklA",
        "colab_type": "code",
        "outputId": "692cadcc-1a5e-457e-ab37-1656899a44a6",
        "colab": {
          "base_uri": "https://localhost:8080/",
          "height": 1812
        }
      },
      "cell_type": "code",
      "source": [
        "param_grid = [{\"weights\":[\"uniform\",\"distance\"],\"n_neighbors\":[2,3,4,5]}]\n",
        "knn_clf = KNeighborsClassifier()\n",
        "grid_search = GridSearchCV(knn_clf, param_grid, cv=10, verbose=3, n_jobs=-1)\n",
        "grid_search.fit(x_train, y_train)\n",
        "print (grid_search.best_params_)"
      ],
      "execution_count": 63,
      "outputs": [
        {
          "output_type": "stream",
          "text": [
            "Fitting 10 folds for each of 8 candidates, totalling 80 fits\n"
          ],
          "name": "stdout"
        },
        {
          "output_type": "stream",
          "text": [
            "[Parallel(n_jobs=-1)]: Using backend LokyBackend with 2 concurrent workers.\n"
          ],
          "name": "stderr"
        },
        {
          "output_type": "error",
          "ename": "AttributeError",
          "evalue": "ignored",
          "traceback": [
            "\u001b[0;31m---------------------------------------------------------------------------\u001b[0m",
            "\u001b[0;31m_RemoteTraceback\u001b[0m                          Traceback (most recent call last)",
            "\u001b[0;31m_RemoteTraceback\u001b[0m: \n\"\"\"\nTraceback (most recent call last):\n  File \"/usr/local/lib/python3.6/dist-packages/sklearn/externals/joblib/externals/loky/process_executor.py\", line 418, in _process_worker\n    r = call_item()\n  File \"/usr/local/lib/python3.6/dist-packages/sklearn/externals/joblib/externals/loky/process_executor.py\", line 272, in __call__\n    return self.fn(*self.args, **self.kwargs)\n  File \"/usr/local/lib/python3.6/dist-packages/sklearn/externals/joblib/_parallel_backends.py\", line 567, in __call__\n    return self.func(*args, **kwargs)\n  File \"/usr/local/lib/python3.6/dist-packages/sklearn/externals/joblib/parallel.py\", line 225, in __call__\n    for func, args, kwargs in self.items]\n  File \"/usr/local/lib/python3.6/dist-packages/sklearn/externals/joblib/parallel.py\", line 225, in <listcomp>\n    for func, args, kwargs in self.items]\n  File \"/usr/local/lib/python3.6/dist-packages/sklearn/model_selection/_validation.py\", line 518, in _fit_and_score\n    X_train, y_train = _safe_split(estimator, X, y, train)\n  File \"/usr/local/lib/python3.6/dist-packages/sklearn/utils/metaestimators.py\", line 203, in _safe_split\n    X_subset = safe_indexing(X, indices)\n  File \"/usr/local/lib/python3.6/dist-packages/sklearn/utils/__init__.py\", line 220, in safe_indexing\n    return [X[idx] for idx in indices]\n  File \"/usr/local/lib/python3.6/dist-packages/sklearn/utils/__init__.py\", line 220, in <listcomp>\n    return [X[idx] for idx in indices]\n  File \"/usr/local/lib/python3.6/dist-packages/sklearn_pandas/cross_validation.py\", line 66, in __getitem__\n    return self.df.iloc[key]\nAttributeError: 'memmap' object has no attribute 'iloc'\n\"\"\"",
            "\nThe above exception was the direct cause of the following exception:\n",
            "\u001b[0;31mAttributeError\u001b[0m                            Traceback (most recent call last)",
            "\u001b[0;32m<ipython-input-63-c70d896d5020>\u001b[0m in \u001b[0;36m<module>\u001b[0;34m()\u001b[0m\n\u001b[1;32m      2\u001b[0m \u001b[0mknn_clf\u001b[0m \u001b[0;34m=\u001b[0m \u001b[0mKNeighborsClassifier\u001b[0m\u001b[0;34m(\u001b[0m\u001b[0;34m)\u001b[0m\u001b[0;34m\u001b[0m\u001b[0;34m\u001b[0m\u001b[0m\n\u001b[1;32m      3\u001b[0m \u001b[0mgrid_search\u001b[0m \u001b[0;34m=\u001b[0m \u001b[0mGridSearchCV\u001b[0m\u001b[0;34m(\u001b[0m\u001b[0mknn_clf\u001b[0m\u001b[0;34m,\u001b[0m \u001b[0mparam_grid\u001b[0m\u001b[0;34m,\u001b[0m \u001b[0mcv\u001b[0m\u001b[0;34m=\u001b[0m\u001b[0;36m10\u001b[0m\u001b[0;34m,\u001b[0m \u001b[0mverbose\u001b[0m\u001b[0;34m=\u001b[0m\u001b[0;36m3\u001b[0m\u001b[0;34m,\u001b[0m \u001b[0mn_jobs\u001b[0m\u001b[0;34m=\u001b[0m\u001b[0;34m-\u001b[0m\u001b[0;36m1\u001b[0m\u001b[0;34m)\u001b[0m\u001b[0;34m\u001b[0m\u001b[0;34m\u001b[0m\u001b[0m\n\u001b[0;32m----> 4\u001b[0;31m \u001b[0mgrid_search\u001b[0m\u001b[0;34m.\u001b[0m\u001b[0mfit\u001b[0m\u001b[0;34m(\u001b[0m\u001b[0mx_train\u001b[0m\u001b[0;34m,\u001b[0m \u001b[0my_train\u001b[0m\u001b[0;34m)\u001b[0m\u001b[0;34m\u001b[0m\u001b[0;34m\u001b[0m\u001b[0m\n\u001b[0m\u001b[1;32m      5\u001b[0m \u001b[0mprint\u001b[0m \u001b[0;34m(\u001b[0m\u001b[0mgrid_search\u001b[0m\u001b[0;34m.\u001b[0m\u001b[0mbest_params_\u001b[0m\u001b[0;34m)\u001b[0m\u001b[0;34m\u001b[0m\u001b[0;34m\u001b[0m\u001b[0m\n",
            "\u001b[0;32m/usr/local/lib/python3.6/dist-packages/sklearn_pandas/cross_validation.py\u001b[0m in \u001b[0;36mfit\u001b[0;34m(self, X, *params, **kwparams)\u001b[0m\n\u001b[1;32m     30\u001b[0m     \u001b[0;32mdef\u001b[0m \u001b[0mfit\u001b[0m\u001b[0;34m(\u001b[0m\u001b[0mself\u001b[0m\u001b[0;34m,\u001b[0m \u001b[0mX\u001b[0m\u001b[0;34m,\u001b[0m \u001b[0;34m*\u001b[0m\u001b[0mparams\u001b[0m\u001b[0;34m,\u001b[0m \u001b[0;34m**\u001b[0m\u001b[0mkwparams\u001b[0m\u001b[0;34m)\u001b[0m\u001b[0;34m:\u001b[0m\u001b[0;34m\u001b[0m\u001b[0;34m\u001b[0m\u001b[0m\n\u001b[1;32m     31\u001b[0m         return super(GridSearchCV, self).fit(\n\u001b[0;32m---> 32\u001b[0;31m             DataWrapper(X), *params, **kwparams)\n\u001b[0m\u001b[1;32m     33\u001b[0m \u001b[0;34m\u001b[0m\u001b[0m\n\u001b[1;32m     34\u001b[0m     \u001b[0;32mdef\u001b[0m \u001b[0mpredict\u001b[0m\u001b[0;34m(\u001b[0m\u001b[0mself\u001b[0m\u001b[0;34m,\u001b[0m \u001b[0mX\u001b[0m\u001b[0;34m,\u001b[0m \u001b[0;34m*\u001b[0m\u001b[0mparams\u001b[0m\u001b[0;34m,\u001b[0m \u001b[0;34m**\u001b[0m\u001b[0mkwparams\u001b[0m\u001b[0;34m)\u001b[0m\u001b[0;34m:\u001b[0m\u001b[0;34m\u001b[0m\u001b[0;34m\u001b[0m\u001b[0m\n",
            "\u001b[0;32m/usr/local/lib/python3.6/dist-packages/sklearn/model_selection/_search.py\u001b[0m in \u001b[0;36mfit\u001b[0;34m(self, X, y, groups, **fit_params)\u001b[0m\n\u001b[1;32m    720\u001b[0m                 \u001b[0;32mreturn\u001b[0m \u001b[0mresults_container\u001b[0m\u001b[0;34m[\u001b[0m\u001b[0;36m0\u001b[0m\u001b[0;34m]\u001b[0m\u001b[0;34m\u001b[0m\u001b[0;34m\u001b[0m\u001b[0m\n\u001b[1;32m    721\u001b[0m \u001b[0;34m\u001b[0m\u001b[0m\n\u001b[0;32m--> 722\u001b[0;31m             \u001b[0mself\u001b[0m\u001b[0;34m.\u001b[0m\u001b[0m_run_search\u001b[0m\u001b[0;34m(\u001b[0m\u001b[0mevaluate_candidates\u001b[0m\u001b[0;34m)\u001b[0m\u001b[0;34m\u001b[0m\u001b[0;34m\u001b[0m\u001b[0m\n\u001b[0m\u001b[1;32m    723\u001b[0m \u001b[0;34m\u001b[0m\u001b[0m\n\u001b[1;32m    724\u001b[0m         \u001b[0mresults\u001b[0m \u001b[0;34m=\u001b[0m \u001b[0mresults_container\u001b[0m\u001b[0;34m[\u001b[0m\u001b[0;36m0\u001b[0m\u001b[0;34m]\u001b[0m\u001b[0;34m\u001b[0m\u001b[0;34m\u001b[0m\u001b[0m\n",
            "\u001b[0;32m/usr/local/lib/python3.6/dist-packages/sklearn/model_selection/_search.py\u001b[0m in \u001b[0;36m_run_search\u001b[0;34m(self, evaluate_candidates)\u001b[0m\n\u001b[1;32m   1189\u001b[0m     \u001b[0;32mdef\u001b[0m \u001b[0m_run_search\u001b[0m\u001b[0;34m(\u001b[0m\u001b[0mself\u001b[0m\u001b[0;34m,\u001b[0m \u001b[0mevaluate_candidates\u001b[0m\u001b[0;34m)\u001b[0m\u001b[0;34m:\u001b[0m\u001b[0;34m\u001b[0m\u001b[0;34m\u001b[0m\u001b[0m\n\u001b[1;32m   1190\u001b[0m         \u001b[0;34m\"\"\"Search all candidates in param_grid\"\"\"\u001b[0m\u001b[0;34m\u001b[0m\u001b[0;34m\u001b[0m\u001b[0m\n\u001b[0;32m-> 1191\u001b[0;31m         \u001b[0mevaluate_candidates\u001b[0m\u001b[0;34m(\u001b[0m\u001b[0mParameterGrid\u001b[0m\u001b[0;34m(\u001b[0m\u001b[0mself\u001b[0m\u001b[0;34m.\u001b[0m\u001b[0mparam_grid\u001b[0m\u001b[0;34m)\u001b[0m\u001b[0;34m)\u001b[0m\u001b[0;34m\u001b[0m\u001b[0;34m\u001b[0m\u001b[0m\n\u001b[0m\u001b[1;32m   1192\u001b[0m \u001b[0;34m\u001b[0m\u001b[0m\n\u001b[1;32m   1193\u001b[0m \u001b[0;34m\u001b[0m\u001b[0m\n",
            "\u001b[0;32m/usr/local/lib/python3.6/dist-packages/sklearn/model_selection/_search.py\u001b[0m in \u001b[0;36mevaluate_candidates\u001b[0;34m(candidate_params)\u001b[0m\n\u001b[1;32m    709\u001b[0m                                \u001b[0;32mfor\u001b[0m \u001b[0mparameters\u001b[0m\u001b[0;34m,\u001b[0m \u001b[0;34m(\u001b[0m\u001b[0mtrain\u001b[0m\u001b[0;34m,\u001b[0m \u001b[0mtest\u001b[0m\u001b[0;34m)\u001b[0m\u001b[0;34m\u001b[0m\u001b[0;34m\u001b[0m\u001b[0m\n\u001b[1;32m    710\u001b[0m                                in product(candidate_params,\n\u001b[0;32m--> 711\u001b[0;31m                                           cv.split(X, y, groups)))\n\u001b[0m\u001b[1;32m    712\u001b[0m \u001b[0;34m\u001b[0m\u001b[0m\n\u001b[1;32m    713\u001b[0m                 \u001b[0mall_candidate_params\u001b[0m\u001b[0;34m.\u001b[0m\u001b[0mextend\u001b[0m\u001b[0;34m(\u001b[0m\u001b[0mcandidate_params\u001b[0m\u001b[0;34m)\u001b[0m\u001b[0;34m\u001b[0m\u001b[0;34m\u001b[0m\u001b[0m\n",
            "\u001b[0;32m/usr/local/lib/python3.6/dist-packages/sklearn/externals/joblib/parallel.py\u001b[0m in \u001b[0;36m__call__\u001b[0;34m(self, iterable)\u001b[0m\n\u001b[1;32m    928\u001b[0m \u001b[0;34m\u001b[0m\u001b[0m\n\u001b[1;32m    929\u001b[0m             \u001b[0;32mwith\u001b[0m \u001b[0mself\u001b[0m\u001b[0;34m.\u001b[0m\u001b[0m_backend\u001b[0m\u001b[0;34m.\u001b[0m\u001b[0mretrieval_context\u001b[0m\u001b[0;34m(\u001b[0m\u001b[0;34m)\u001b[0m\u001b[0;34m:\u001b[0m\u001b[0;34m\u001b[0m\u001b[0;34m\u001b[0m\u001b[0m\n\u001b[0;32m--> 930\u001b[0;31m                 \u001b[0mself\u001b[0m\u001b[0;34m.\u001b[0m\u001b[0mretrieve\u001b[0m\u001b[0;34m(\u001b[0m\u001b[0;34m)\u001b[0m\u001b[0;34m\u001b[0m\u001b[0;34m\u001b[0m\u001b[0m\n\u001b[0m\u001b[1;32m    931\u001b[0m             \u001b[0;31m# Make sure that we get a last message telling us we are done\u001b[0m\u001b[0;34m\u001b[0m\u001b[0;34m\u001b[0m\u001b[0;34m\u001b[0m\u001b[0m\n\u001b[1;32m    932\u001b[0m             \u001b[0melapsed_time\u001b[0m \u001b[0;34m=\u001b[0m \u001b[0mtime\u001b[0m\u001b[0;34m.\u001b[0m\u001b[0mtime\u001b[0m\u001b[0;34m(\u001b[0m\u001b[0;34m)\u001b[0m \u001b[0;34m-\u001b[0m \u001b[0mself\u001b[0m\u001b[0;34m.\u001b[0m\u001b[0m_start_time\u001b[0m\u001b[0;34m\u001b[0m\u001b[0;34m\u001b[0m\u001b[0m\n",
            "\u001b[0;32m/usr/local/lib/python3.6/dist-packages/sklearn/externals/joblib/parallel.py\u001b[0m in \u001b[0;36mretrieve\u001b[0;34m(self)\u001b[0m\n\u001b[1;32m    831\u001b[0m             \u001b[0;32mtry\u001b[0m\u001b[0;34m:\u001b[0m\u001b[0;34m\u001b[0m\u001b[0;34m\u001b[0m\u001b[0m\n\u001b[1;32m    832\u001b[0m                 \u001b[0;32mif\u001b[0m \u001b[0mgetattr\u001b[0m\u001b[0;34m(\u001b[0m\u001b[0mself\u001b[0m\u001b[0;34m.\u001b[0m\u001b[0m_backend\u001b[0m\u001b[0;34m,\u001b[0m \u001b[0;34m'supports_timeout'\u001b[0m\u001b[0;34m,\u001b[0m \u001b[0;32mFalse\u001b[0m\u001b[0;34m)\u001b[0m\u001b[0;34m:\u001b[0m\u001b[0;34m\u001b[0m\u001b[0;34m\u001b[0m\u001b[0m\n\u001b[0;32m--> 833\u001b[0;31m                     \u001b[0mself\u001b[0m\u001b[0;34m.\u001b[0m\u001b[0m_output\u001b[0m\u001b[0;34m.\u001b[0m\u001b[0mextend\u001b[0m\u001b[0;34m(\u001b[0m\u001b[0mjob\u001b[0m\u001b[0;34m.\u001b[0m\u001b[0mget\u001b[0m\u001b[0;34m(\u001b[0m\u001b[0mtimeout\u001b[0m\u001b[0;34m=\u001b[0m\u001b[0mself\u001b[0m\u001b[0;34m.\u001b[0m\u001b[0mtimeout\u001b[0m\u001b[0;34m)\u001b[0m\u001b[0;34m)\u001b[0m\u001b[0;34m\u001b[0m\u001b[0;34m\u001b[0m\u001b[0m\n\u001b[0m\u001b[1;32m    834\u001b[0m                 \u001b[0;32melse\u001b[0m\u001b[0;34m:\u001b[0m\u001b[0;34m\u001b[0m\u001b[0;34m\u001b[0m\u001b[0m\n\u001b[1;32m    835\u001b[0m                     \u001b[0mself\u001b[0m\u001b[0;34m.\u001b[0m\u001b[0m_output\u001b[0m\u001b[0;34m.\u001b[0m\u001b[0mextend\u001b[0m\u001b[0;34m(\u001b[0m\u001b[0mjob\u001b[0m\u001b[0;34m.\u001b[0m\u001b[0mget\u001b[0m\u001b[0;34m(\u001b[0m\u001b[0;34m)\u001b[0m\u001b[0;34m)\u001b[0m\u001b[0;34m\u001b[0m\u001b[0;34m\u001b[0m\u001b[0m\n",
            "\u001b[0;32m/usr/local/lib/python3.6/dist-packages/sklearn/externals/joblib/_parallel_backends.py\u001b[0m in \u001b[0;36mwrap_future_result\u001b[0;34m(future, timeout)\u001b[0m\n\u001b[1;32m    519\u001b[0m         AsyncResults.get from multiprocessing.\"\"\"\n\u001b[1;32m    520\u001b[0m         \u001b[0;32mtry\u001b[0m\u001b[0;34m:\u001b[0m\u001b[0;34m\u001b[0m\u001b[0;34m\u001b[0m\u001b[0m\n\u001b[0;32m--> 521\u001b[0;31m             \u001b[0;32mreturn\u001b[0m \u001b[0mfuture\u001b[0m\u001b[0;34m.\u001b[0m\u001b[0mresult\u001b[0m\u001b[0;34m(\u001b[0m\u001b[0mtimeout\u001b[0m\u001b[0;34m=\u001b[0m\u001b[0mtimeout\u001b[0m\u001b[0;34m)\u001b[0m\u001b[0;34m\u001b[0m\u001b[0;34m\u001b[0m\u001b[0m\n\u001b[0m\u001b[1;32m    522\u001b[0m         \u001b[0;32mexcept\u001b[0m \u001b[0mLokyTimeoutError\u001b[0m\u001b[0;34m:\u001b[0m\u001b[0;34m\u001b[0m\u001b[0;34m\u001b[0m\u001b[0m\n\u001b[1;32m    523\u001b[0m             \u001b[0;32mraise\u001b[0m \u001b[0mTimeoutError\u001b[0m\u001b[0;34m(\u001b[0m\u001b[0;34m)\u001b[0m\u001b[0;34m\u001b[0m\u001b[0;34m\u001b[0m\u001b[0m\n",
            "\u001b[0;32m/usr/lib/python3.6/concurrent/futures/_base.py\u001b[0m in \u001b[0;36mresult\u001b[0;34m(self, timeout)\u001b[0m\n\u001b[1;32m    430\u001b[0m                 \u001b[0;32mraise\u001b[0m \u001b[0mCancelledError\u001b[0m\u001b[0;34m(\u001b[0m\u001b[0;34m)\u001b[0m\u001b[0;34m\u001b[0m\u001b[0;34m\u001b[0m\u001b[0m\n\u001b[1;32m    431\u001b[0m             \u001b[0;32melif\u001b[0m \u001b[0mself\u001b[0m\u001b[0;34m.\u001b[0m\u001b[0m_state\u001b[0m \u001b[0;34m==\u001b[0m \u001b[0mFINISHED\u001b[0m\u001b[0;34m:\u001b[0m\u001b[0;34m\u001b[0m\u001b[0;34m\u001b[0m\u001b[0m\n\u001b[0;32m--> 432\u001b[0;31m                 \u001b[0;32mreturn\u001b[0m \u001b[0mself\u001b[0m\u001b[0;34m.\u001b[0m\u001b[0m__get_result\u001b[0m\u001b[0;34m(\u001b[0m\u001b[0;34m)\u001b[0m\u001b[0;34m\u001b[0m\u001b[0;34m\u001b[0m\u001b[0m\n\u001b[0m\u001b[1;32m    433\u001b[0m             \u001b[0;32melse\u001b[0m\u001b[0;34m:\u001b[0m\u001b[0;34m\u001b[0m\u001b[0;34m\u001b[0m\u001b[0m\n\u001b[1;32m    434\u001b[0m                 \u001b[0;32mraise\u001b[0m \u001b[0mTimeoutError\u001b[0m\u001b[0;34m(\u001b[0m\u001b[0;34m)\u001b[0m\u001b[0;34m\u001b[0m\u001b[0;34m\u001b[0m\u001b[0m\n",
            "\u001b[0;32m/usr/lib/python3.6/concurrent/futures/_base.py\u001b[0m in \u001b[0;36m__get_result\u001b[0;34m(self)\u001b[0m\n\u001b[1;32m    382\u001b[0m     \u001b[0;32mdef\u001b[0m \u001b[0m__get_result\u001b[0m\u001b[0;34m(\u001b[0m\u001b[0mself\u001b[0m\u001b[0;34m)\u001b[0m\u001b[0;34m:\u001b[0m\u001b[0;34m\u001b[0m\u001b[0;34m\u001b[0m\u001b[0m\n\u001b[1;32m    383\u001b[0m         \u001b[0;32mif\u001b[0m \u001b[0mself\u001b[0m\u001b[0;34m.\u001b[0m\u001b[0m_exception\u001b[0m\u001b[0;34m:\u001b[0m\u001b[0;34m\u001b[0m\u001b[0;34m\u001b[0m\u001b[0m\n\u001b[0;32m--> 384\u001b[0;31m             \u001b[0;32mraise\u001b[0m \u001b[0mself\u001b[0m\u001b[0;34m.\u001b[0m\u001b[0m_exception\u001b[0m\u001b[0;34m\u001b[0m\u001b[0;34m\u001b[0m\u001b[0m\n\u001b[0m\u001b[1;32m    385\u001b[0m         \u001b[0;32melse\u001b[0m\u001b[0;34m:\u001b[0m\u001b[0;34m\u001b[0m\u001b[0;34m\u001b[0m\u001b[0m\n\u001b[1;32m    386\u001b[0m             \u001b[0;32mreturn\u001b[0m \u001b[0mself\u001b[0m\u001b[0;34m.\u001b[0m\u001b[0m_result\u001b[0m\u001b[0;34m\u001b[0m\u001b[0;34m\u001b[0m\u001b[0m\n",
            "\u001b[0;31mAttributeError\u001b[0m: 'memmap' object has no attribute 'iloc'"
          ]
        }
      ]
    },
    {
      "metadata": {
        "id": "BBR4Mr-bCkjY",
        "colab_type": "code",
        "colab": {
          "base_uri": "https://localhost:8080/",
          "height": 68
        },
        "outputId": "e024b1a8-256d-4f47-f9a5-69fe0c93d3eb"
      },
      "cell_type": "code",
      "source": [
        "knn_clf = KNeighborsClassifier(weights='distance',n_neighbors=2)\n",
        "knn_clf.fit(x_train,y_train)"
      ],
      "execution_count": 36,
      "outputs": [
        {
          "output_type": "execute_result",
          "data": {
            "text/plain": [
              "KNeighborsClassifier(algorithm='auto', leaf_size=30, metric='minkowski',\n",
              "           metric_params=None, n_jobs=None, n_neighbors=2, p=2,\n",
              "           weights='distance')"
            ]
          },
          "metadata": {
            "tags": []
          },
          "execution_count": 36
        }
      ]
    },
    {
      "metadata": {
        "id": "qO93pmUVNikn",
        "colab_type": "code",
        "colab": {
          "base_uri": "https://localhost:8080/",
          "height": 1968
        },
        "outputId": "d0a612fe-99bd-4698-d353-b2df9e1c5b0b"
      },
      "cell_type": "code",
      "source": [
        "knn_scores = cross_val_score(knn_clf, x_train, y_train, cv=10)\n",
        "y_train_pred_knn = cross_val_predict(knn_clf, x_train, y_train, cv=10)\n",
        "print (knn_scores.mean())"
      ],
      "execution_count": 37,
      "outputs": [
        {
          "output_type": "error",
          "ename": "AttributeError",
          "evalue": "ignored",
          "traceback": [
            "\u001b[0;31m---------------------------------------------------------------------------\u001b[0m",
            "\u001b[0;31mAttributeError\u001b[0m                            Traceback (most recent call last)",
            "\u001b[0;32m<ipython-input-37-2cbab90ca98e>\u001b[0m in \u001b[0;36m<module>\u001b[0;34m()\u001b[0m\n\u001b[0;32m----> 1\u001b[0;31m \u001b[0mknn_scores\u001b[0m \u001b[0;34m=\u001b[0m \u001b[0mcross_val_score\u001b[0m\u001b[0;34m(\u001b[0m\u001b[0mknn_clf\u001b[0m\u001b[0;34m,\u001b[0m \u001b[0mx_train\u001b[0m\u001b[0;34m,\u001b[0m \u001b[0my_train\u001b[0m\u001b[0;34m,\u001b[0m \u001b[0mcv\u001b[0m\u001b[0;34m=\u001b[0m\u001b[0;36m10\u001b[0m\u001b[0;34m)\u001b[0m\u001b[0;34m\u001b[0m\u001b[0;34m\u001b[0m\u001b[0m\n\u001b[0m\u001b[1;32m      2\u001b[0m \u001b[0my_train_pred_knn\u001b[0m \u001b[0;34m=\u001b[0m \u001b[0mcross_val_predict\u001b[0m\u001b[0;34m(\u001b[0m\u001b[0mknn_clf\u001b[0m\u001b[0;34m,\u001b[0m \u001b[0mx_train\u001b[0m\u001b[0;34m,\u001b[0m \u001b[0my_train\u001b[0m\u001b[0;34m,\u001b[0m \u001b[0mcv\u001b[0m\u001b[0;34m=\u001b[0m\u001b[0;36m10\u001b[0m\u001b[0;34m)\u001b[0m\u001b[0;34m\u001b[0m\u001b[0;34m\u001b[0m\u001b[0m\n\u001b[1;32m      3\u001b[0m \u001b[0mprint\u001b[0m \u001b[0;34m(\u001b[0m\u001b[0mknn_scores\u001b[0m\u001b[0;34m.\u001b[0m\u001b[0mmean\u001b[0m\u001b[0;34m(\u001b[0m\u001b[0;34m)\u001b[0m\u001b[0;34m)\u001b[0m\u001b[0;34m\u001b[0m\u001b[0;34m\u001b[0m\u001b[0m\n",
            "\u001b[0;32m/usr/local/lib/python3.6/dist-packages/sklearn_pandas/cross_validation.py\u001b[0m in \u001b[0;36mcross_val_score\u001b[0;34m(model, X, *args, **kwargs)\u001b[0m\n\u001b[1;32m     19\u001b[0m     \u001b[0mwarnings\u001b[0m\u001b[0;34m.\u001b[0m\u001b[0mwarn\u001b[0m\u001b[0;34m(\u001b[0m\u001b[0mDEPRECATION_MSG\u001b[0m\u001b[0;34m,\u001b[0m \u001b[0mDeprecationWarning\u001b[0m\u001b[0;34m)\u001b[0m\u001b[0;34m\u001b[0m\u001b[0;34m\u001b[0m\u001b[0m\n\u001b[1;32m     20\u001b[0m     \u001b[0mX\u001b[0m \u001b[0;34m=\u001b[0m \u001b[0mDataWrapper\u001b[0m\u001b[0;34m(\u001b[0m\u001b[0mX\u001b[0m\u001b[0;34m)\u001b[0m\u001b[0;34m\u001b[0m\u001b[0;34m\u001b[0m\u001b[0m\n\u001b[0;32m---> 21\u001b[0;31m     \u001b[0;32mreturn\u001b[0m \u001b[0msk_cross_val_score\u001b[0m\u001b[0;34m(\u001b[0m\u001b[0mmodel\u001b[0m\u001b[0;34m,\u001b[0m \u001b[0mX\u001b[0m\u001b[0;34m,\u001b[0m \u001b[0;34m*\u001b[0m\u001b[0margs\u001b[0m\u001b[0;34m,\u001b[0m \u001b[0;34m**\u001b[0m\u001b[0mkwargs\u001b[0m\u001b[0;34m)\u001b[0m\u001b[0;34m\u001b[0m\u001b[0;34m\u001b[0m\u001b[0m\n\u001b[0m\u001b[1;32m     22\u001b[0m \u001b[0;34m\u001b[0m\u001b[0m\n\u001b[1;32m     23\u001b[0m \u001b[0;34m\u001b[0m\u001b[0m\n",
            "\u001b[0;32m/usr/local/lib/python3.6/dist-packages/sklearn/model_selection/_validation.py\u001b[0m in \u001b[0;36mcross_val_score\u001b[0;34m(estimator, X, y, groups, scoring, cv, n_jobs, verbose, fit_params, pre_dispatch, error_score)\u001b[0m\n\u001b[1;32m    400\u001b[0m                                 \u001b[0mfit_params\u001b[0m\u001b[0;34m=\u001b[0m\u001b[0mfit_params\u001b[0m\u001b[0;34m,\u001b[0m\u001b[0;34m\u001b[0m\u001b[0;34m\u001b[0m\u001b[0m\n\u001b[1;32m    401\u001b[0m                                 \u001b[0mpre_dispatch\u001b[0m\u001b[0;34m=\u001b[0m\u001b[0mpre_dispatch\u001b[0m\u001b[0;34m,\u001b[0m\u001b[0;34m\u001b[0m\u001b[0;34m\u001b[0m\u001b[0m\n\u001b[0;32m--> 402\u001b[0;31m                                 error_score=error_score)\n\u001b[0m\u001b[1;32m    403\u001b[0m     \u001b[0;32mreturn\u001b[0m \u001b[0mcv_results\u001b[0m\u001b[0;34m[\u001b[0m\u001b[0;34m'test_score'\u001b[0m\u001b[0;34m]\u001b[0m\u001b[0;34m\u001b[0m\u001b[0;34m\u001b[0m\u001b[0m\n\u001b[1;32m    404\u001b[0m \u001b[0;34m\u001b[0m\u001b[0m\n",
            "\u001b[0;32m/usr/local/lib/python3.6/dist-packages/sklearn/model_selection/_validation.py\u001b[0m in \u001b[0;36mcross_validate\u001b[0;34m(estimator, X, y, groups, scoring, cv, n_jobs, verbose, fit_params, pre_dispatch, return_train_score, return_estimator, error_score)\u001b[0m\n\u001b[1;32m    238\u001b[0m             \u001b[0mreturn_times\u001b[0m\u001b[0;34m=\u001b[0m\u001b[0;32mTrue\u001b[0m\u001b[0;34m,\u001b[0m \u001b[0mreturn_estimator\u001b[0m\u001b[0;34m=\u001b[0m\u001b[0mreturn_estimator\u001b[0m\u001b[0;34m,\u001b[0m\u001b[0;34m\u001b[0m\u001b[0;34m\u001b[0m\u001b[0m\n\u001b[1;32m    239\u001b[0m             error_score=error_score)\n\u001b[0;32m--> 240\u001b[0;31m         for train, test in cv.split(X, y, groups))\n\u001b[0m\u001b[1;32m    241\u001b[0m \u001b[0;34m\u001b[0m\u001b[0m\n\u001b[1;32m    242\u001b[0m     \u001b[0mzipped_scores\u001b[0m \u001b[0;34m=\u001b[0m \u001b[0mlist\u001b[0m\u001b[0;34m(\u001b[0m\u001b[0mzip\u001b[0m\u001b[0;34m(\u001b[0m\u001b[0;34m*\u001b[0m\u001b[0mscores\u001b[0m\u001b[0;34m)\u001b[0m\u001b[0;34m)\u001b[0m\u001b[0;34m\u001b[0m\u001b[0;34m\u001b[0m\u001b[0m\n",
            "\u001b[0;32m/usr/local/lib/python3.6/dist-packages/sklearn/externals/joblib/parallel.py\u001b[0m in \u001b[0;36m__call__\u001b[0;34m(self, iterable)\u001b[0m\n\u001b[1;32m    915\u001b[0m             \u001b[0;31m# remaining jobs.\u001b[0m\u001b[0;34m\u001b[0m\u001b[0;34m\u001b[0m\u001b[0;34m\u001b[0m\u001b[0m\n\u001b[1;32m    916\u001b[0m             \u001b[0mself\u001b[0m\u001b[0;34m.\u001b[0m\u001b[0m_iterating\u001b[0m \u001b[0;34m=\u001b[0m \u001b[0;32mFalse\u001b[0m\u001b[0;34m\u001b[0m\u001b[0;34m\u001b[0m\u001b[0m\n\u001b[0;32m--> 917\u001b[0;31m             \u001b[0;32mif\u001b[0m \u001b[0mself\u001b[0m\u001b[0;34m.\u001b[0m\u001b[0mdispatch_one_batch\u001b[0m\u001b[0;34m(\u001b[0m\u001b[0miterator\u001b[0m\u001b[0;34m)\u001b[0m\u001b[0;34m:\u001b[0m\u001b[0;34m\u001b[0m\u001b[0;34m\u001b[0m\u001b[0m\n\u001b[0m\u001b[1;32m    918\u001b[0m                 \u001b[0mself\u001b[0m\u001b[0;34m.\u001b[0m\u001b[0m_iterating\u001b[0m \u001b[0;34m=\u001b[0m \u001b[0mself\u001b[0m\u001b[0;34m.\u001b[0m\u001b[0m_original_iterator\u001b[0m \u001b[0;32mis\u001b[0m \u001b[0;32mnot\u001b[0m \u001b[0;32mNone\u001b[0m\u001b[0;34m\u001b[0m\u001b[0;34m\u001b[0m\u001b[0m\n\u001b[1;32m    919\u001b[0m \u001b[0;34m\u001b[0m\u001b[0m\n",
            "\u001b[0;32m/usr/local/lib/python3.6/dist-packages/sklearn/externals/joblib/parallel.py\u001b[0m in \u001b[0;36mdispatch_one_batch\u001b[0;34m(self, iterator)\u001b[0m\n\u001b[1;32m    757\u001b[0m                 \u001b[0;32mreturn\u001b[0m \u001b[0;32mFalse\u001b[0m\u001b[0;34m\u001b[0m\u001b[0;34m\u001b[0m\u001b[0m\n\u001b[1;32m    758\u001b[0m             \u001b[0;32melse\u001b[0m\u001b[0;34m:\u001b[0m\u001b[0;34m\u001b[0m\u001b[0;34m\u001b[0m\u001b[0m\n\u001b[0;32m--> 759\u001b[0;31m                 \u001b[0mself\u001b[0m\u001b[0;34m.\u001b[0m\u001b[0m_dispatch\u001b[0m\u001b[0;34m(\u001b[0m\u001b[0mtasks\u001b[0m\u001b[0;34m)\u001b[0m\u001b[0;34m\u001b[0m\u001b[0;34m\u001b[0m\u001b[0m\n\u001b[0m\u001b[1;32m    760\u001b[0m                 \u001b[0;32mreturn\u001b[0m \u001b[0;32mTrue\u001b[0m\u001b[0;34m\u001b[0m\u001b[0;34m\u001b[0m\u001b[0m\n\u001b[1;32m    761\u001b[0m \u001b[0;34m\u001b[0m\u001b[0m\n",
            "\u001b[0;32m/usr/local/lib/python3.6/dist-packages/sklearn/externals/joblib/parallel.py\u001b[0m in \u001b[0;36m_dispatch\u001b[0;34m(self, batch)\u001b[0m\n\u001b[1;32m    714\u001b[0m         \u001b[0;32mwith\u001b[0m \u001b[0mself\u001b[0m\u001b[0;34m.\u001b[0m\u001b[0m_lock\u001b[0m\u001b[0;34m:\u001b[0m\u001b[0;34m\u001b[0m\u001b[0;34m\u001b[0m\u001b[0m\n\u001b[1;32m    715\u001b[0m             \u001b[0mjob_idx\u001b[0m \u001b[0;34m=\u001b[0m \u001b[0mlen\u001b[0m\u001b[0;34m(\u001b[0m\u001b[0mself\u001b[0m\u001b[0;34m.\u001b[0m\u001b[0m_jobs\u001b[0m\u001b[0;34m)\u001b[0m\u001b[0;34m\u001b[0m\u001b[0;34m\u001b[0m\u001b[0m\n\u001b[0;32m--> 716\u001b[0;31m             \u001b[0mjob\u001b[0m \u001b[0;34m=\u001b[0m \u001b[0mself\u001b[0m\u001b[0;34m.\u001b[0m\u001b[0m_backend\u001b[0m\u001b[0;34m.\u001b[0m\u001b[0mapply_async\u001b[0m\u001b[0;34m(\u001b[0m\u001b[0mbatch\u001b[0m\u001b[0;34m,\u001b[0m \u001b[0mcallback\u001b[0m\u001b[0;34m=\u001b[0m\u001b[0mcb\u001b[0m\u001b[0;34m)\u001b[0m\u001b[0;34m\u001b[0m\u001b[0;34m\u001b[0m\u001b[0m\n\u001b[0m\u001b[1;32m    717\u001b[0m             \u001b[0;31m# A job can complete so quickly than its callback is\u001b[0m\u001b[0;34m\u001b[0m\u001b[0;34m\u001b[0m\u001b[0;34m\u001b[0m\u001b[0m\n\u001b[1;32m    718\u001b[0m             \u001b[0;31m# called before we get here, causing self._jobs to\u001b[0m\u001b[0;34m\u001b[0m\u001b[0;34m\u001b[0m\u001b[0;34m\u001b[0m\u001b[0m\n",
            "\u001b[0;32m/usr/local/lib/python3.6/dist-packages/sklearn/externals/joblib/_parallel_backends.py\u001b[0m in \u001b[0;36mapply_async\u001b[0;34m(self, func, callback)\u001b[0m\n\u001b[1;32m    180\u001b[0m     \u001b[0;32mdef\u001b[0m \u001b[0mapply_async\u001b[0m\u001b[0;34m(\u001b[0m\u001b[0mself\u001b[0m\u001b[0;34m,\u001b[0m \u001b[0mfunc\u001b[0m\u001b[0;34m,\u001b[0m \u001b[0mcallback\u001b[0m\u001b[0;34m=\u001b[0m\u001b[0;32mNone\u001b[0m\u001b[0;34m)\u001b[0m\u001b[0;34m:\u001b[0m\u001b[0;34m\u001b[0m\u001b[0;34m\u001b[0m\u001b[0m\n\u001b[1;32m    181\u001b[0m         \u001b[0;34m\"\"\"Schedule a func to be run\"\"\"\u001b[0m\u001b[0;34m\u001b[0m\u001b[0;34m\u001b[0m\u001b[0m\n\u001b[0;32m--> 182\u001b[0;31m         \u001b[0mresult\u001b[0m \u001b[0;34m=\u001b[0m \u001b[0mImmediateResult\u001b[0m\u001b[0;34m(\u001b[0m\u001b[0mfunc\u001b[0m\u001b[0;34m)\u001b[0m\u001b[0;34m\u001b[0m\u001b[0;34m\u001b[0m\u001b[0m\n\u001b[0m\u001b[1;32m    183\u001b[0m         \u001b[0;32mif\u001b[0m \u001b[0mcallback\u001b[0m\u001b[0;34m:\u001b[0m\u001b[0;34m\u001b[0m\u001b[0;34m\u001b[0m\u001b[0m\n\u001b[1;32m    184\u001b[0m             \u001b[0mcallback\u001b[0m\u001b[0;34m(\u001b[0m\u001b[0mresult\u001b[0m\u001b[0;34m)\u001b[0m\u001b[0;34m\u001b[0m\u001b[0;34m\u001b[0m\u001b[0m\n",
            "\u001b[0;32m/usr/local/lib/python3.6/dist-packages/sklearn/externals/joblib/_parallel_backends.py\u001b[0m in \u001b[0;36m__init__\u001b[0;34m(self, batch)\u001b[0m\n\u001b[1;32m    547\u001b[0m         \u001b[0;31m# Don't delay the application, to avoid keeping the input\u001b[0m\u001b[0;34m\u001b[0m\u001b[0;34m\u001b[0m\u001b[0;34m\u001b[0m\u001b[0m\n\u001b[1;32m    548\u001b[0m         \u001b[0;31m# arguments in memory\u001b[0m\u001b[0;34m\u001b[0m\u001b[0;34m\u001b[0m\u001b[0;34m\u001b[0m\u001b[0m\n\u001b[0;32m--> 549\u001b[0;31m         \u001b[0mself\u001b[0m\u001b[0;34m.\u001b[0m\u001b[0mresults\u001b[0m \u001b[0;34m=\u001b[0m \u001b[0mbatch\u001b[0m\u001b[0;34m(\u001b[0m\u001b[0;34m)\u001b[0m\u001b[0;34m\u001b[0m\u001b[0;34m\u001b[0m\u001b[0m\n\u001b[0m\u001b[1;32m    550\u001b[0m \u001b[0;34m\u001b[0m\u001b[0m\n\u001b[1;32m    551\u001b[0m     \u001b[0;32mdef\u001b[0m \u001b[0mget\u001b[0m\u001b[0;34m(\u001b[0m\u001b[0mself\u001b[0m\u001b[0;34m)\u001b[0m\u001b[0;34m:\u001b[0m\u001b[0;34m\u001b[0m\u001b[0;34m\u001b[0m\u001b[0m\n",
            "\u001b[0;32m/usr/local/lib/python3.6/dist-packages/sklearn/externals/joblib/parallel.py\u001b[0m in \u001b[0;36m__call__\u001b[0;34m(self)\u001b[0m\n\u001b[1;32m    223\u001b[0m         \u001b[0;32mwith\u001b[0m \u001b[0mparallel_backend\u001b[0m\u001b[0;34m(\u001b[0m\u001b[0mself\u001b[0m\u001b[0;34m.\u001b[0m\u001b[0m_backend\u001b[0m\u001b[0;34m,\u001b[0m \u001b[0mn_jobs\u001b[0m\u001b[0;34m=\u001b[0m\u001b[0mself\u001b[0m\u001b[0;34m.\u001b[0m\u001b[0m_n_jobs\u001b[0m\u001b[0;34m)\u001b[0m\u001b[0;34m:\u001b[0m\u001b[0;34m\u001b[0m\u001b[0;34m\u001b[0m\u001b[0m\n\u001b[1;32m    224\u001b[0m             return [func(*args, **kwargs)\n\u001b[0;32m--> 225\u001b[0;31m                     for func, args, kwargs in self.items]\n\u001b[0m\u001b[1;32m    226\u001b[0m \u001b[0;34m\u001b[0m\u001b[0m\n\u001b[1;32m    227\u001b[0m     \u001b[0;32mdef\u001b[0m \u001b[0m__len__\u001b[0m\u001b[0;34m(\u001b[0m\u001b[0mself\u001b[0m\u001b[0;34m)\u001b[0m\u001b[0;34m:\u001b[0m\u001b[0;34m\u001b[0m\u001b[0;34m\u001b[0m\u001b[0m\n",
            "\u001b[0;32m/usr/local/lib/python3.6/dist-packages/sklearn/externals/joblib/parallel.py\u001b[0m in \u001b[0;36m<listcomp>\u001b[0;34m(.0)\u001b[0m\n\u001b[1;32m    223\u001b[0m         \u001b[0;32mwith\u001b[0m \u001b[0mparallel_backend\u001b[0m\u001b[0;34m(\u001b[0m\u001b[0mself\u001b[0m\u001b[0;34m.\u001b[0m\u001b[0m_backend\u001b[0m\u001b[0;34m,\u001b[0m \u001b[0mn_jobs\u001b[0m\u001b[0;34m=\u001b[0m\u001b[0mself\u001b[0m\u001b[0;34m.\u001b[0m\u001b[0m_n_jobs\u001b[0m\u001b[0;34m)\u001b[0m\u001b[0;34m:\u001b[0m\u001b[0;34m\u001b[0m\u001b[0;34m\u001b[0m\u001b[0m\n\u001b[1;32m    224\u001b[0m             return [func(*args, **kwargs)\n\u001b[0;32m--> 225\u001b[0;31m                     for func, args, kwargs in self.items]\n\u001b[0m\u001b[1;32m    226\u001b[0m \u001b[0;34m\u001b[0m\u001b[0m\n\u001b[1;32m    227\u001b[0m     \u001b[0;32mdef\u001b[0m \u001b[0m__len__\u001b[0m\u001b[0;34m(\u001b[0m\u001b[0mself\u001b[0m\u001b[0;34m)\u001b[0m\u001b[0;34m:\u001b[0m\u001b[0;34m\u001b[0m\u001b[0;34m\u001b[0m\u001b[0m\n",
            "\u001b[0;32m/usr/local/lib/python3.6/dist-packages/sklearn/model_selection/_validation.py\u001b[0m in \u001b[0;36m_fit_and_score\u001b[0;34m(estimator, X, y, scorer, train, test, verbose, parameters, fit_params, return_train_score, return_parameters, return_n_test_samples, return_times, return_estimator, error_score)\u001b[0m\n\u001b[1;32m    516\u001b[0m     \u001b[0mstart_time\u001b[0m \u001b[0;34m=\u001b[0m \u001b[0mtime\u001b[0m\u001b[0;34m.\u001b[0m\u001b[0mtime\u001b[0m\u001b[0;34m(\u001b[0m\u001b[0;34m)\u001b[0m\u001b[0;34m\u001b[0m\u001b[0;34m\u001b[0m\u001b[0m\n\u001b[1;32m    517\u001b[0m \u001b[0;34m\u001b[0m\u001b[0m\n\u001b[0;32m--> 518\u001b[0;31m     \u001b[0mX_train\u001b[0m\u001b[0;34m,\u001b[0m \u001b[0my_train\u001b[0m \u001b[0;34m=\u001b[0m \u001b[0m_safe_split\u001b[0m\u001b[0;34m(\u001b[0m\u001b[0mestimator\u001b[0m\u001b[0;34m,\u001b[0m \u001b[0mX\u001b[0m\u001b[0;34m,\u001b[0m \u001b[0my\u001b[0m\u001b[0;34m,\u001b[0m \u001b[0mtrain\u001b[0m\u001b[0;34m)\u001b[0m\u001b[0;34m\u001b[0m\u001b[0;34m\u001b[0m\u001b[0m\n\u001b[0m\u001b[1;32m    519\u001b[0m     \u001b[0mX_test\u001b[0m\u001b[0;34m,\u001b[0m \u001b[0my_test\u001b[0m \u001b[0;34m=\u001b[0m \u001b[0m_safe_split\u001b[0m\u001b[0;34m(\u001b[0m\u001b[0mestimator\u001b[0m\u001b[0;34m,\u001b[0m \u001b[0mX\u001b[0m\u001b[0;34m,\u001b[0m \u001b[0my\u001b[0m\u001b[0;34m,\u001b[0m \u001b[0mtest\u001b[0m\u001b[0;34m,\u001b[0m \u001b[0mtrain\u001b[0m\u001b[0;34m)\u001b[0m\u001b[0;34m\u001b[0m\u001b[0;34m\u001b[0m\u001b[0m\n\u001b[1;32m    520\u001b[0m \u001b[0;34m\u001b[0m\u001b[0m\n",
            "\u001b[0;32m/usr/local/lib/python3.6/dist-packages/sklearn/utils/metaestimators.py\u001b[0m in \u001b[0;36m_safe_split\u001b[0;34m(estimator, X, y, indices, train_indices)\u001b[0m\n\u001b[1;32m    201\u001b[0m             \u001b[0mX_subset\u001b[0m \u001b[0;34m=\u001b[0m \u001b[0mX\u001b[0m\u001b[0;34m[\u001b[0m\u001b[0mnp\u001b[0m\u001b[0;34m.\u001b[0m\u001b[0mix_\u001b[0m\u001b[0;34m(\u001b[0m\u001b[0mindices\u001b[0m\u001b[0;34m,\u001b[0m \u001b[0mtrain_indices\u001b[0m\u001b[0;34m)\u001b[0m\u001b[0;34m]\u001b[0m\u001b[0;34m\u001b[0m\u001b[0;34m\u001b[0m\u001b[0m\n\u001b[1;32m    202\u001b[0m     \u001b[0;32melse\u001b[0m\u001b[0;34m:\u001b[0m\u001b[0;34m\u001b[0m\u001b[0;34m\u001b[0m\u001b[0m\n\u001b[0;32m--> 203\u001b[0;31m         \u001b[0mX_subset\u001b[0m \u001b[0;34m=\u001b[0m \u001b[0msafe_indexing\u001b[0m\u001b[0;34m(\u001b[0m\u001b[0mX\u001b[0m\u001b[0;34m,\u001b[0m \u001b[0mindices\u001b[0m\u001b[0;34m)\u001b[0m\u001b[0;34m\u001b[0m\u001b[0;34m\u001b[0m\u001b[0m\n\u001b[0m\u001b[1;32m    204\u001b[0m \u001b[0;34m\u001b[0m\u001b[0m\n\u001b[1;32m    205\u001b[0m     \u001b[0;32mif\u001b[0m \u001b[0my\u001b[0m \u001b[0;32mis\u001b[0m \u001b[0;32mnot\u001b[0m \u001b[0;32mNone\u001b[0m\u001b[0;34m:\u001b[0m\u001b[0;34m\u001b[0m\u001b[0;34m\u001b[0m\u001b[0m\n",
            "\u001b[0;32m/usr/local/lib/python3.6/dist-packages/sklearn/utils/__init__.py\u001b[0m in \u001b[0;36msafe_indexing\u001b[0;34m(X, indices)\u001b[0m\n\u001b[1;32m    218\u001b[0m             \u001b[0;32mreturn\u001b[0m \u001b[0mX\u001b[0m\u001b[0;34m[\u001b[0m\u001b[0mindices\u001b[0m\u001b[0;34m]\u001b[0m\u001b[0;34m\u001b[0m\u001b[0;34m\u001b[0m\u001b[0m\n\u001b[1;32m    219\u001b[0m     \u001b[0;32melse\u001b[0m\u001b[0;34m:\u001b[0m\u001b[0;34m\u001b[0m\u001b[0;34m\u001b[0m\u001b[0m\n\u001b[0;32m--> 220\u001b[0;31m         \u001b[0;32mreturn\u001b[0m \u001b[0;34m[\u001b[0m\u001b[0mX\u001b[0m\u001b[0;34m[\u001b[0m\u001b[0midx\u001b[0m\u001b[0;34m]\u001b[0m \u001b[0;32mfor\u001b[0m \u001b[0midx\u001b[0m \u001b[0;32min\u001b[0m \u001b[0mindices\u001b[0m\u001b[0;34m]\u001b[0m\u001b[0;34m\u001b[0m\u001b[0;34m\u001b[0m\u001b[0m\n\u001b[0m\u001b[1;32m    221\u001b[0m \u001b[0;34m\u001b[0m\u001b[0m\n\u001b[1;32m    222\u001b[0m \u001b[0;34m\u001b[0m\u001b[0m\n",
            "\u001b[0;32m/usr/local/lib/python3.6/dist-packages/sklearn/utils/__init__.py\u001b[0m in \u001b[0;36m<listcomp>\u001b[0;34m(.0)\u001b[0m\n\u001b[1;32m    218\u001b[0m             \u001b[0;32mreturn\u001b[0m \u001b[0mX\u001b[0m\u001b[0;34m[\u001b[0m\u001b[0mindices\u001b[0m\u001b[0;34m]\u001b[0m\u001b[0;34m\u001b[0m\u001b[0;34m\u001b[0m\u001b[0m\n\u001b[1;32m    219\u001b[0m     \u001b[0;32melse\u001b[0m\u001b[0;34m:\u001b[0m\u001b[0;34m\u001b[0m\u001b[0;34m\u001b[0m\u001b[0m\n\u001b[0;32m--> 220\u001b[0;31m         \u001b[0;32mreturn\u001b[0m \u001b[0;34m[\u001b[0m\u001b[0mX\u001b[0m\u001b[0;34m[\u001b[0m\u001b[0midx\u001b[0m\u001b[0;34m]\u001b[0m \u001b[0;32mfor\u001b[0m \u001b[0midx\u001b[0m \u001b[0;32min\u001b[0m \u001b[0mindices\u001b[0m\u001b[0;34m]\u001b[0m\u001b[0;34m\u001b[0m\u001b[0;34m\u001b[0m\u001b[0m\n\u001b[0m\u001b[1;32m    221\u001b[0m \u001b[0;34m\u001b[0m\u001b[0m\n\u001b[1;32m    222\u001b[0m \u001b[0;34m\u001b[0m\u001b[0m\n",
            "\u001b[0;32m/usr/local/lib/python3.6/dist-packages/sklearn_pandas/cross_validation.py\u001b[0m in \u001b[0;36m__getitem__\u001b[0;34m(self, key)\u001b[0m\n\u001b[1;32m     64\u001b[0m \u001b[0;34m\u001b[0m\u001b[0m\n\u001b[1;32m     65\u001b[0m     \u001b[0;32mdef\u001b[0m \u001b[0m__getitem__\u001b[0m\u001b[0;34m(\u001b[0m\u001b[0mself\u001b[0m\u001b[0;34m,\u001b[0m \u001b[0mkey\u001b[0m\u001b[0;34m)\u001b[0m\u001b[0;34m:\u001b[0m\u001b[0;34m\u001b[0m\u001b[0;34m\u001b[0m\u001b[0m\n\u001b[0;32m---> 66\u001b[0;31m         \u001b[0;32mreturn\u001b[0m \u001b[0mself\u001b[0m\u001b[0;34m.\u001b[0m\u001b[0mdf\u001b[0m\u001b[0;34m.\u001b[0m\u001b[0miloc\u001b[0m\u001b[0;34m[\u001b[0m\u001b[0mkey\u001b[0m\u001b[0;34m]\u001b[0m\u001b[0;34m\u001b[0m\u001b[0;34m\u001b[0m\u001b[0m\n\u001b[0m",
            "\u001b[0;31mAttributeError\u001b[0m: 'numpy.ndarray' object has no attribute 'iloc'"
          ]
        }
      ]
    },
    {
      "metadata": {
        "id": "ZXw6WXywOB_L",
        "colab_type": "code",
        "colab": {
          "base_uri": "https://localhost:8080/",
          "height": 85
        },
        "outputId": "333f0bb1-1846-4b44-d661-5a4f1dbad11c"
      },
      "cell_type": "code",
      "source": [
        "cm  = confusion_matrix(y_train,y_train_pred_knn)\n",
        "tn, fp, fn, tp = cm.ravel()\n",
        "print (tn)\n",
        "print (fp)\n",
        "print (fn)\n",
        "print (tp)"
      ],
      "execution_count": 88,
      "outputs": [
        {
          "output_type": "stream",
          "text": [
            "9984\n",
            "301\n",
            "125\n",
            "3089\n"
          ],
          "name": "stdout"
        }
      ]
    },
    {
      "metadata": {
        "id": "LhVsuevfU2QV",
        "colab_type": "code",
        "colab": {
          "base_uri": "https://localhost:8080/",
          "height": 362
        },
        "outputId": "83bf70a9-c015-430c-b163-d8cf595eddea"
      },
      "cell_type": "code",
      "source": [
        "plot_confusion_matrix(cm,[0,1])"
      ],
      "execution_count": 89,
      "outputs": [
        {
          "output_type": "stream",
          "text": [
            "Confusion matrix, without normalization\n",
            "[[9984  301]\n",
            " [ 125 3089]]\n"
          ],
          "name": "stdout"
        },
        {
          "output_type": "display_data",
          "data": {
            "image/png": "[encoded data removed]",
            "text/plain": [
              "<matplotlib.figure.Figure at 0x7f84ead4a748>"
            ]
          },
          "metadata": {
            "tags": []
          }
        }
      ]
    },
    {
      "metadata": {
        "id": "6QJBwPW8OEU1",
        "colab_type": "code",
        "colab": {}
      },
      "cell_type": "code",
      "source": [
        "y_test_pred_knn = knn_clf.predict(x_test)"
      ],
      "execution_count": 0,
      "outputs": []
    },
    {
      "metadata": {
        "id": "KTHHzkSzOTLZ",
        "colab_type": "code",
        "colab": {
          "base_uri": "https://localhost:8080/",
          "height": 82
        },
        "outputId": "9ac0c460-0660-42dc-bcde-c12c7b704b07"
      },
      "cell_type": "code",
      "source": [
        "cm = confusion_matrix(y_test,y_test_pred_knn)\n",
        "tn, fp, fn, tp = cm.ravel()\n",
        "print (tn)\n",
        "print (fp)\n",
        "print (fn)\n",
        "print (tp)"
      ],
      "execution_count": 82,
      "outputs": [
        {
          "output_type": "stream",
          "text": [
            "1110\n",
            "33\n",
            "12\n",
            "345\n"
          ],
          "name": "stdout"
        }
      ]
    },
    {
      "metadata": {
        "id": "19ZO-Y3fOyVp",
        "colab_type": "code",
        "colab": {}
      },
      "cell_type": "code",
      "source": [
        "def plot_confusion_matrix(cm, classes,\n",
        "                          normalize=False,\n",
        "                          title='Confusion matrix',\n",
        "                          cmap=plt.cm.Blues):\n",
        "    \"\"\"\n",
        "    This function prints and plots the confusion matrix.\n",
        "    Normalization can be applied by setting `normalize=True`.\n",
        "    \"\"\"\n",
        "    if normalize:\n",
        "        cm = cm.astype('float') / cm.sum(axis=1)[:, np.newaxis]\n",
        "        print(\"Normalized confusion matrix\")\n",
        "    else:\n",
        "        print('Confusion matrix, without normalization')\n",
        "\n",
        "    print(cm)\n",
        "\n",
        "    plt.imshow(cm, interpolation='nearest', cmap=cmap)\n",
        "    plt.title(title)\n",
        "    plt.colorbar()\n",
        "    tick_marks = np.arange(len(classes))\n",
        "    plt.xticks(tick_marks, classes, rotation=45)\n",
        "    plt.yticks(tick_marks, classes)\n",
        "\n",
        "    fmt = '.2f' if normalize else 'd'\n",
        "    thresh = cm.max() / 2.\n",
        "    for i, j in itertools.product(range(cm.shape[0]), range(cm.shape[1])):\n",
        "        plt.text(j, i, format(cm[i, j], fmt),\n",
        "                 horizontalalignment=\"center\",\n",
        "                 color=\"white\" if cm[i, j] > thresh else \"black\")\n",
        "\n",
        "    plt.tight_layout()\n",
        "    plt.ylabel('Predicted label')\n",
        "    plt.xlabel('True label')"
      ],
      "execution_count": 0,
      "outputs": []
    },
    {
      "metadata": {
        "id": "nXW-GZnaPpLs",
        "colab_type": "code",
        "colab": {
          "base_uri": "https://localhost:8080/",
          "height": 360
        },
        "outputId": "c00891ce-ad47-46ca-e98b-659739ae55c0"
      },
      "cell_type": "code",
      "source": [
        "plot_confusion_matrix(cm,[0,1])"
      ],
      "execution_count": 85,
      "outputs": [
        {
          "output_type": "stream",
          "text": [
            "Confusion matrix, without normalization\n",
            "[[1110   33]\n",
            " [  12  345]]\n"
          ],
          "name": "stdout"
        },
        {
          "output_type": "display_data",
          "data": {
            "image/png": "[encoded data removed]",
            "text/plain": [
              "<matplotlib.figure.Figure at 0x7f84ed522860>"
            ]
          },
          "metadata": {
            "tags": []
          }
        }
      ]
    },
    {
      "metadata": {
        "id": "ulS6pPHyUZ-H",
        "colab_type": "code",
        "colab": {
          "base_uri": "https://localhost:8080/",
          "height": 53
        },
        "outputId": "c9e21dfb-ab4a-4872-825c-e9302ea866c1"
      },
      "cell_type": "code",
      "source": [
        "classification_report(y_test,y_test_pred_knn)"
      ],
      "execution_count": 90,
      "outputs": [
        {
          "output_type": "execute_result",
          "data": {
            "text/plain": [
              "'              precision    recall  f1-score   support\\n\\n           0       0.99      0.97      0.98      1143\\n           1       0.91      0.97      0.94       357\\n\\n   micro avg       0.97      0.97      0.97      1500\\n   macro avg       0.95      0.97      0.96      1500\\nweighted avg       0.97      0.97      0.97      1500\\n'"
            ]
          },
          "metadata": {
            "tags": []
          },
          "execution_count": 90
        }
      ]
    },
    {
      "metadata": {
        "id": "SPpUgNoOQCaA",
        "colab_type": "code",
        "colab": {
          "base_uri": "https://localhost:8080/",
          "height": 82
        },
        "outputId": "f51a3b89-3865-4bf1-eecc-d56a87610c52"
      },
      "cell_type": "code",
      "source": [
        "#train SVM Based Model\n",
        "svm_clf = SVC(gamma=\"auto\",random_state=42)\n",
        "svm_clf.fit(x_train, y_train)"
      ],
      "execution_count": 91,
      "outputs": [
        {
          "output_type": "execute_result",
          "data": {
            "text/plain": [
              "SVC(C=1.0, cache_size=200, class_weight=None, coef0=0.0,\n",
              "  decision_function_shape='ovr', degree=3, gamma='auto', kernel='rbf',\n",
              "  max_iter=-1, probability=False, random_state=42, shrinking=True,\n",
              "  tol=0.001, verbose=False)"
            ]
          },
          "metadata": {
            "tags": []
          },
          "execution_count": 91
        }
      ]
    },
    {
      "metadata": {
        "id": "hIVwvMw4VoXQ",
        "colab_type": "code",
        "colab": {
          "base_uri": "https://localhost:8080/",
          "height": 33
        },
        "outputId": "9f8b8a4f-05b8-4b90-de5c-93f832814ef0"
      },
      "cell_type": "code",
      "source": [
        "svm_scores = cross_val_score(knn_clf, x_train, y_train, cv=10)\n",
        "y_train_pred_svm = cross_val_predict(svm_clf, x_train, y_train, cv=10)\n",
        "print (svm_scores.mean())"
      ],
      "execution_count": 93,
      "outputs": [
        {
          "output_type": "stream",
          "text": [
            "0.9684432766949849\n"
          ],
          "name": "stdout"
        }
      ]
    },
    {
      "metadata": {
        "id": "BFrVzDCWWFOK",
        "colab_type": "code",
        "colab": {}
      },
      "cell_type": "code",
      "source": [
        "y_test_pred_svm = svm_clf.predict(x_test)"
      ],
      "execution_count": 0,
      "outputs": []
    },
    {
      "metadata": {
        "id": "S0gak8j4WPbg",
        "colab_type": "code",
        "colab": {
          "base_uri": "https://localhost:8080/",
          "height": 82
        },
        "outputId": "476ecbd1-e1ae-4f27-c916-0b64e1105847"
      },
      "cell_type": "code",
      "source": [
        "cm  = confusion_matrix(y_test,y_test_pred_svm)\n",
        "tn, fp, fn, tp = cm.ravel()\n",
        "print (tn)\n",
        "print (fp)\n",
        "print (fn)\n",
        "print (tp)"
      ],
      "execution_count": 99,
      "outputs": [
        {
          "output_type": "stream",
          "text": [
            "1115\n",
            "28\n",
            "37\n",
            "320\n"
          ],
          "name": "stdout"
        }
      ]
    },
    {
      "metadata": {
        "id": "3T2shVUeW1BW",
        "colab_type": "code",
        "colab": {
          "base_uri": "https://localhost:8080/",
          "height": 53
        },
        "outputId": "00a050e9-325d-40ce-bc38-946093fd0a37"
      },
      "cell_type": "code",
      "source": [
        "classification_report(y_test,y_test_pred_svm)"
      ],
      "execution_count": 98,
      "outputs": [
        {
          "output_type": "execute_result",
          "data": {
            "text/plain": [
              "'              precision    recall  f1-score   support\\n\\n           0       0.97      0.98      0.97      1143\\n           1       0.92      0.90      0.91       357\\n\\n   micro avg       0.96      0.96      0.96      1500\\n   macro avg       0.94      0.94      0.94      1500\\nweighted avg       0.96      0.96      0.96      1500\\n'"
            ]
          },
          "metadata": {
            "tags": []
          },
          "execution_count": 98
        }
      ]
    },
    {
      "metadata": {
        "id": "kif17XdmW4ry",
        "colab_type": "code",
        "colab": {
          "base_uri": "https://localhost:8080/",
          "height": 360
        },
        "outputId": "b1bca7a6-550e-40ff-8229-6583518a7bf2"
      },
      "cell_type": "code",
      "source": [
        "plot_confusion_matrix(cm,[0,1])"
      ],
      "execution_count": 101,
      "outputs": [
        {
          "output_type": "stream",
          "text": [
            "Confusion matrix, without normalization\n",
            "[[1115   28]\n",
            " [  37  320]]\n"
          ],
          "name": "stdout"
        },
        {
          "output_type": "display_data",
          "data": {
            "image/png": "[encoded data removed]",
            "text/plain": [
              "<matplotlib.figure.Figure at 0x7f84eacdef28>"
            ]
          },
          "metadata": {
            "tags": []
          }
        }
      ]
    },
    {
      "metadata": {
        "id": "iwwXCRJfZxw9",
        "colab_type": "code",
        "colab": {
          "base_uri": "https://localhost:8080/",
          "height": 115
        },
        "outputId": "0d8cac83-4ad5-491a-f034-446ce869d819"
      },
      "cell_type": "code",
      "source": [
        "xgboost_clf = XGBClassifier(random_state=42)\n",
        "xgboost_clf.fit(x_train,y_train)"
      ],
      "execution_count": 103,
      "outputs": [
        {
          "output_type": "execute_result",
          "data": {
            "text/plain": [
              "XGBClassifier(base_score=0.5, booster='gbtree', colsample_bylevel=1,\n",
              "       colsample_bytree=1, gamma=0, learning_rate=0.1, max_delta_step=0,\n",
              "       max_depth=3, min_child_weight=1, missing=None, n_estimators=100,\n",
              "       n_jobs=1, nthread=None, objective='binary:logistic',\n",
              "       random_state=42, reg_alpha=0, reg_lambda=1, scale_pos_weight=1,\n",
              "       seed=None, silent=True, subsample=1)"
            ]
          },
          "metadata": {
            "tags": []
          },
          "execution_count": 103
        }
      ]
    },
    {
      "metadata": {
        "id": "FaDe92l1aR-m",
        "colab_type": "code",
        "colab": {
          "base_uri": "https://localhost:8080/",
          "height": 33
        },
        "outputId": "ebdbf17f-7f2f-49b9-cfde-8391106d6cca"
      },
      "cell_type": "code",
      "source": [
        "xgboost_scores = cross_val_score(xgboost_clf, x_train, y_train, cv=10)\n",
        "y_train_pred_xgboost = cross_val_predict(xgboost_clf, x_train, y_train, cv=10)\n",
        "xgboost_scores.mean()"
      ],
      "execution_count": 104,
      "outputs": [
        {
          "output_type": "execute_result",
          "data": {
            "text/plain": [
              "0.9750372992329845"
            ]
          },
          "metadata": {
            "tags": []
          },
          "execution_count": 104
        }
      ]
    },
    {
      "metadata": {
        "id": "hkMkKjF0aZmP",
        "colab_type": "code",
        "colab": {
          "base_uri": "https://localhost:8080/",
          "height": 82
        },
        "outputId": "0411bb4a-960c-4a5a-e75e-299d5aa2f320"
      },
      "cell_type": "code",
      "source": [
        "cm  = confusion_matrix(y_train,y_train_pred_xgboost)\n",
        "tn, fp, fn, tp = cm.ravel()\n",
        "print (tn)\n",
        "print (fp)\n",
        "print (fn)\n",
        "print (tp)"
      ],
      "execution_count": 105,
      "outputs": [
        {
          "output_type": "stream",
          "text": [
            "10183\n",
            "102\n",
            "235\n",
            "2979\n"
          ],
          "name": "stdout"
        }
      ]
    },
    {
      "metadata": {
        "id": "AIlJyH2LahXt",
        "colab_type": "code",
        "colab": {
          "base_uri": "https://localhost:8080/",
          "height": 360
        },
        "outputId": "3af187f7-9e1c-4074-efe3-a6586475a612"
      },
      "cell_type": "code",
      "source": [
        "plot_confusion_matrix(cm,[0,1])"
      ],
      "execution_count": 107,
      "outputs": [
        {
          "output_type": "stream",
          "text": [
            "Confusion matrix, without normalization\n",
            "[[10183   102]\n",
            " [  235  2979]]\n"
          ],
          "name": "stdout"
        },
        {
          "output_type": "display_data",
          "data": {
            "image/png": "[encoded data removed]",
            "text/plain": [
              "<matplotlib.figure.Figure at 0x7f84eac21358>"
            ]
          },
          "metadata": {
            "tags": []
          }
        }
      ]
    },
    {
      "metadata": {
        "id": "PaB2Go5waovx",
        "colab_type": "code",
        "colab": {}
      },
      "cell_type": "code",
      "source": [
        "y_test_pred_xgboost = xgboost_clf.predict(x_test)"
      ],
      "execution_count": 0,
      "outputs": []
    },
    {
      "metadata": {
        "id": "5shaGazha0LB",
        "colab_type": "code",
        "colab": {
          "base_uri": "https://localhost:8080/",
          "height": 82
        },
        "outputId": "2727454b-5bab-4bcc-985d-1a1de8f0ee66"
      },
      "cell_type": "code",
      "source": [
        "cm  = confusion_matrix(y_test,y_test_pred_xgboost)\n",
        "tn, fp, fn, tp = cm.ravel()\n",
        "print (tn)\n",
        "print (fp)\n",
        "print (fn)\n",
        "print (tp)"
      ],
      "execution_count": 109,
      "outputs": [
        {
          "output_type": "stream",
          "text": [
            "1135\n",
            "8\n",
            "25\n",
            "332\n"
          ],
          "name": "stdout"
        }
      ]
    },
    {
      "metadata": {
        "id": "7vIgGxwia54Y",
        "colab_type": "code",
        "colab": {
          "base_uri": "https://localhost:8080/",
          "height": 360
        },
        "outputId": "1f2c9ddb-2f19-4a87-96dd-5a7d6c97a224"
      },
      "cell_type": "code",
      "source": [
        "plot_confusion_matrix(cm,[0,1])"
      ],
      "execution_count": 110,
      "outputs": [
        {
          "output_type": "stream",
          "text": [
            "Confusion matrix, without normalization\n",
            "[[1135    8]\n",
            " [  25  332]]\n"
          ],
          "name": "stdout"
        },
        {
          "output_type": "display_data",
          "data": {
            "image/png": "[encoded data removed]",
            "text/plain": [
              "<matplotlib.figure.Figure at 0x7f84eacae4e0>"
            ]
          },
          "metadata": {
            "tags": []
          }
        }
      ]
    },
    {
      "metadata": {
        "id": "NrJlP6cSbJws",
        "colab_type": "code",
        "colab": {
          "base_uri": "https://localhost:8080/",
          "height": 33
        },
        "outputId": "d23bfd73-4830-4f2e-d56b-94b70da11311"
      },
      "cell_type": "code",
      "source": [
        "x_train.shape"
      ],
      "execution_count": 112,
      "outputs": [
        {
          "output_type": "execute_result",
          "data": {
            "text/plain": [
              "(13499, 20)"
            ]
          },
          "metadata": {
            "tags": []
          },
          "execution_count": 112
        }
      ]
    },
    {
      "metadata": {
        "id": "sSiEItB8bMQG",
        "colab_type": "code",
        "colab": {}
      },
      "cell_type": "code",
      "source": [
        "# create model\n",
        "neural_net = Sequential()\n",
        "neural_net.add(Dense(8, input_dim=20, activation='relu'))\n",
        "#neural_net.add(Dense(12, activation='relu'))\n",
        "#neural_net.add(Dense(12, activation='relu'))\n",
        "#neural_net.add(Dense(12, activation='relu'))\n",
        "neural_net.add(Dense(12, activation='relu'))\n",
        "neural_net.add(Dense(1, activation='sigmoid'))\n",
        "# Compile model\n",
        "neural_net.compile(loss='binary_crossentropy', optimizer='adam', metrics=['accuracy'])"
      ],
      "execution_count": 0,
      "outputs": []
    },
    {
      "metadata": {
        "id": "iuaazNL_bW_j",
        "colab_type": "code",
        "colab": {
          "base_uri": "https://localhost:8080/",
          "height": 17648
        },
        "outputId": "211f0f32-fe67-4e6d-88c2-06c6fe48b098"
      },
      "cell_type": "code",
      "source": [
        "neural_net.fit(x_train, y_train, validation_split=0.1,epochs=1500, batch_size=10)"
      ],
      "execution_count": 0,
      "outputs": [
        {
          "output_type": "stream",
          "text": [
            "Train on 12149 samples, validate on 1350 samples\n",
            "Epoch 1/1500\n",
            "12149/12149 [==============================] - 8s 631us/step - loss: 0.3696 - acc: 0.8428 - val_loss: 0.2169 - val_acc: 0.9281\n",
            "Epoch 2/1500\n",
            "12149/12149 [==============================] - 6s 465us/step - loss: 0.1938 - acc: 0.9384 - val_loss: 0.1781 - val_acc: 0.9452\n",
            "Epoch 3/1500\n",
            "12149/12149 [==============================] - 6s 458us/step - loss: 0.1715 - acc: 0.9467 - val_loss: 0.1631 - val_acc: 0.9489\n",
            "Epoch 4/1500\n",
            "12149/12149 [==============================] - 6s 457us/step - loss: 0.1614 - acc: 0.9490 - val_loss: 0.1540 - val_acc: 0.9526\n",
            "Epoch 5/1500\n",
            "12149/12149 [==============================] - 5s 450us/step - loss: 0.1562 - acc: 0.9511 - val_loss: 0.1497 - val_acc: 0.9563\n",
            "Epoch 6/1500\n",
            "12149/12149 [==============================] - 5s 450us/step - loss: 0.1518 - acc: 0.9550 - val_loss: 0.1465 - val_acc: 0.9578\n",
            "Epoch 7/1500\n",
            "12149/12149 [==============================] - 6s 453us/step - loss: 0.1491 - acc: 0.9561 - val_loss: 0.1432 - val_acc: 0.9548\n",
            "Epoch 8/1500\n",
            "12149/12149 [==============================] - 5s 449us/step - loss: 0.1467 - acc: 0.9570 - val_loss: 0.1434 - val_acc: 0.9519\n",
            "Epoch 9/1500\n",
            "12149/12149 [==============================] - 5s 446us/step - loss: 0.1440 - acc: 0.9579 - val_loss: 0.1380 - val_acc: 0.9570\n",
            "Epoch 10/1500\n",
            "12149/12149 [==============================] - 5s 450us/step - loss: 0.1407 - acc: 0.9594 - val_loss: 0.1348 - val_acc: 0.9615\n",
            "Epoch 11/1500\n",
            "12149/12149 [==============================] - 5s 448us/step - loss: 0.1384 - acc: 0.9594 - val_loss: 0.1348 - val_acc: 0.9593\n",
            "Epoch 12/1500\n",
            "12149/12149 [==============================] - 5s 451us/step - loss: 0.1371 - acc: 0.9595 - val_loss: 0.1314 - val_acc: 0.9622\n",
            "Epoch 13/1500\n",
            "12149/12149 [==============================] - 6s 500us/step - loss: 0.1357 - acc: 0.9596 - val_loss: 0.1310 - val_acc: 0.9615\n",
            "Epoch 14/1500\n",
            "12149/12149 [==============================] - 5s 441us/step - loss: 0.1339 - acc: 0.9597 - val_loss: 0.1327 - val_acc: 0.9600\n",
            "Epoch 15/1500\n",
            "12149/12149 [==============================] - 6s 495us/step - loss: 0.1322 - acc: 0.9617 - val_loss: 0.1275 - val_acc: 0.9630\n",
            "Epoch 16/1500\n",
            "12149/12149 [==============================] - 6s 489us/step - loss: 0.1304 - acc: 0.9613 - val_loss: 0.1281 - val_acc: 0.9630\n",
            "Epoch 17/1500\n",
            "12149/12149 [==============================] - 5s 440us/step - loss: 0.1296 - acc: 0.9618 - val_loss: 0.1248 - val_acc: 0.9622\n",
            "Epoch 18/1500\n",
            "12149/12149 [==============================] - 5s 445us/step - loss: 0.1280 - acc: 0.9619 - val_loss: 0.1268 - val_acc: 0.9615\n",
            "Epoch 19/1500\n",
            "12149/12149 [==============================] - 5s 440us/step - loss: 0.1278 - acc: 0.9625 - val_loss: 0.1254 - val_acc: 0.9637\n",
            "Epoch 20/1500\n",
            "12149/12149 [==============================] - 5s 441us/step - loss: 0.1265 - acc: 0.9624 - val_loss: 0.1253 - val_acc: 0.9652\n",
            "Epoch 21/1500\n",
            "12149/12149 [==============================] - 5s 441us/step - loss: 0.1247 - acc: 0.9632 - val_loss: 0.1262 - val_acc: 0.9637\n",
            "Epoch 22/1500\n",
            "12149/12149 [==============================] - 5s 445us/step - loss: 0.1250 - acc: 0.9630 - val_loss: 0.1252 - val_acc: 0.9615\n",
            "Epoch 23/1500\n",
            "12149/12149 [==============================] - 5s 452us/step - loss: 0.1238 - acc: 0.9640 - val_loss: 0.1268 - val_acc: 0.9607\n",
            "Epoch 24/1500\n",
            "12149/12149 [==============================] - 5s 444us/step - loss: 0.1236 - acc: 0.9633 - val_loss: 0.1262 - val_acc: 0.9630\n",
            "Epoch 25/1500\n",
            "12149/12149 [==============================] - 5s 448us/step - loss: 0.1230 - acc: 0.9633 - val_loss: 0.1277 - val_acc: 0.9600\n",
            "Epoch 26/1500\n",
            "12149/12149 [==============================] - 5s 449us/step - loss: 0.1218 - acc: 0.9639 - val_loss: 0.1255 - val_acc: 0.9644\n",
            "Epoch 27/1500\n",
            "12149/12149 [==============================] - 5s 448us/step - loss: 0.1209 - acc: 0.9641 - val_loss: 0.1258 - val_acc: 0.9644\n",
            "Epoch 28/1500\n",
            "12149/12149 [==============================] - 5s 451us/step - loss: 0.1214 - acc: 0.9635 - val_loss: 0.1243 - val_acc: 0.9630\n",
            "Epoch 29/1500\n",
            "12149/12149 [==============================] - 6s 453us/step - loss: 0.1201 - acc: 0.9642 - val_loss: 0.1272 - val_acc: 0.9622\n",
            "Epoch 30/1500\n",
            "12149/12149 [==============================] - 5s 449us/step - loss: 0.1203 - acc: 0.9636 - val_loss: 0.1226 - val_acc: 0.9659\n",
            "Epoch 31/1500\n",
            "12149/12149 [==============================] - 5s 444us/step - loss: 0.1196 - acc: 0.9641 - val_loss: 0.1241 - val_acc: 0.9615\n",
            "Epoch 32/1500\n",
            "12149/12149 [==============================] - 5s 449us/step - loss: 0.1194 - acc: 0.9645 - val_loss: 0.1238 - val_acc: 0.9667\n",
            "Epoch 33/1500\n",
            "12149/12149 [==============================] - 5s 447us/step - loss: 0.1191 - acc: 0.9645 - val_loss: 0.1252 - val_acc: 0.9622\n",
            "Epoch 34/1500\n",
            "12149/12149 [==============================] - 5s 448us/step - loss: 0.1180 - acc: 0.9649 - val_loss: 0.1280 - val_acc: 0.9607\n",
            "Epoch 35/1500\n",
            "12149/12149 [==============================] - 5s 450us/step - loss: 0.1187 - acc: 0.9646 - val_loss: 0.1266 - val_acc: 0.9607\n",
            "Epoch 36/1500\n",
            "12149/12149 [==============================] - 5s 451us/step - loss: 0.1178 - acc: 0.9657 - val_loss: 0.1248 - val_acc: 0.9622\n",
            "Epoch 37/1500\n",
            "12149/12149 [==============================] - 5s 447us/step - loss: 0.1171 - acc: 0.9648 - val_loss: 0.1241 - val_acc: 0.9637\n",
            "Epoch 38/1500\n",
            "12149/12149 [==============================] - 5s 446us/step - loss: 0.1168 - acc: 0.9654 - val_loss: 0.1254 - val_acc: 0.9615\n",
            "Epoch 39/1500\n",
            "12149/12149 [==============================] - 5s 446us/step - loss: 0.1166 - acc: 0.9652 - val_loss: 0.1234 - val_acc: 0.9637\n",
            "Epoch 40/1500\n",
            "12149/12149 [==============================] - 5s 446us/step - loss: 0.1169 - acc: 0.9652 - val_loss: 0.1241 - val_acc: 0.9637\n",
            "Epoch 41/1500\n",
            "12149/12149 [==============================] - 5s 446us/step - loss: 0.1149 - acc: 0.9653 - val_loss: 0.1249 - val_acc: 0.9615\n",
            "Epoch 42/1500\n",
            "12149/12149 [==============================] - 5s 445us/step - loss: 0.1154 - acc: 0.9659 - val_loss: 0.1214 - val_acc: 0.9644\n",
            "Epoch 43/1500\n",
            "12149/12149 [==============================] - 5s 448us/step - loss: 0.1144 - acc: 0.9659 - val_loss: 0.1250 - val_acc: 0.9659\n",
            "Epoch 44/1500\n",
            "12149/12149 [==============================] - 5s 446us/step - loss: 0.1147 - acc: 0.9650 - val_loss: 0.1247 - val_acc: 0.9622\n",
            "Epoch 45/1500\n",
            "12149/12149 [==============================] - 5s 451us/step - loss: 0.1139 - acc: 0.9653 - val_loss: 0.1237 - val_acc: 0.9652\n",
            "Epoch 46/1500\n",
            "12149/12149 [==============================] - 6s 454us/step - loss: 0.1141 - acc: 0.9657 - val_loss: 0.1220 - val_acc: 0.9630\n",
            "Epoch 47/1500\n",
            "12149/12149 [==============================] - 6s 454us/step - loss: 0.1128 - acc: 0.9646 - val_loss: 0.1189 - val_acc: 0.9644\n",
            "Epoch 48/1500\n",
            "12149/12149 [==============================] - 5s 450us/step - loss: 0.1126 - acc: 0.9651 - val_loss: 0.1188 - val_acc: 0.9644\n",
            "Epoch 49/1500\n",
            "12149/12149 [==============================] - 5s 450us/step - loss: 0.1133 - acc: 0.9653 - val_loss: 0.1188 - val_acc: 0.9652\n",
            "Epoch 50/1500\n",
            "12149/12149 [==============================] - 6s 453us/step - loss: 0.1115 - acc: 0.9665 - val_loss: 0.1187 - val_acc: 0.9630\n",
            "Epoch 51/1500\n",
            "12149/12149 [==============================] - 6s 456us/step - loss: 0.1119 - acc: 0.9665 - val_loss: 0.1187 - val_acc: 0.9630\n",
            "Epoch 52/1500\n",
            "12149/12149 [==============================] - 6s 453us/step - loss: 0.1114 - acc: 0.9657 - val_loss: 0.1189 - val_acc: 0.9630\n",
            "Epoch 53/1500\n",
            "12149/12149 [==============================] - 6s 456us/step - loss: 0.1116 - acc: 0.9657 - val_loss: 0.1185 - val_acc: 0.9630\n",
            "Epoch 54/1500\n",
            "12149/12149 [==============================] - 5s 447us/step - loss: 0.1102 - acc: 0.9663 - val_loss: 0.1195 - val_acc: 0.9630\n",
            "Epoch 55/1500\n",
            "12149/12149 [==============================] - 5s 446us/step - loss: 0.1107 - acc: 0.9661 - val_loss: 0.1200 - val_acc: 0.9622\n",
            "Epoch 56/1500\n",
            "12149/12149 [==============================] - 5s 449us/step - loss: 0.1103 - acc: 0.9662 - val_loss: 0.1153 - val_acc: 0.9652\n",
            "Epoch 57/1500\n",
            "12149/12149 [==============================] - 5s 449us/step - loss: 0.1093 - acc: 0.9664 - val_loss: 0.1193 - val_acc: 0.9607\n",
            "Epoch 58/1500\n",
            "12149/12149 [==============================] - 5s 444us/step - loss: 0.1095 - acc: 0.9660 - val_loss: 0.1193 - val_acc: 0.9615\n",
            "Epoch 59/1500\n",
            "12149/12149 [==============================] - 5s 449us/step - loss: 0.1094 - acc: 0.9677 - val_loss: 0.1180 - val_acc: 0.9615\n",
            "Epoch 60/1500\n",
            "12149/12149 [==============================] - 5s 447us/step - loss: 0.1089 - acc: 0.9660 - val_loss: 0.1160 - val_acc: 0.9644\n",
            "Epoch 61/1500\n",
            "12149/12149 [==============================] - 5s 444us/step - loss: 0.1083 - acc: 0.9658 - val_loss: 0.1140 - val_acc: 0.9652\n",
            "Epoch 62/1500\n",
            "12149/12149 [==============================] - 5s 446us/step - loss: 0.1086 - acc: 0.9659 - val_loss: 0.1184 - val_acc: 0.9622\n",
            "Epoch 63/1500\n",
            "12149/12149 [==============================] - 5s 444us/step - loss: 0.1076 - acc: 0.9668 - val_loss: 0.1135 - val_acc: 0.9637\n",
            "Epoch 64/1500\n",
            "12149/12149 [==============================] - 5s 440us/step - loss: 0.1076 - acc: 0.9670 - val_loss: 0.1165 - val_acc: 0.9622\n",
            "Epoch 65/1500\n",
            "12149/12149 [==============================] - 5s 439us/step - loss: 0.1081 - acc: 0.9666 - val_loss: 0.1126 - val_acc: 0.9652\n",
            "Epoch 66/1500\n",
            "12149/12149 [==============================] - 5s 439us/step - loss: 0.1071 - acc: 0.9675 - val_loss: 0.1134 - val_acc: 0.9630\n",
            "Epoch 67/1500\n",
            "12149/12149 [==============================] - 5s 447us/step - loss: 0.1073 - acc: 0.9655 - val_loss: 0.1127 - val_acc: 0.9630\n",
            "Epoch 68/1500\n",
            "12149/12149 [==============================] - 5s 453us/step - loss: 0.1063 - acc: 0.9666 - val_loss: 0.1148 - val_acc: 0.9659\n",
            "Epoch 69/1500\n",
            "12149/12149 [==============================] - 6s 490us/step - loss: 0.1069 - acc: 0.9667 - val_loss: 0.1111 - val_acc: 0.9689\n",
            "Epoch 70/1500\n",
            "12149/12149 [==============================] - 5s 435us/step - loss: 0.1055 - acc: 0.9670 - val_loss: 0.1105 - val_acc: 0.9652\n",
            "Epoch 71/1500\n",
            "12149/12149 [==============================] - 5s 438us/step - loss: 0.1057 - acc: 0.9670 - val_loss: 0.1130 - val_acc: 0.9644\n",
            "Epoch 72/1500\n",
            "12149/12149 [==============================] - 6s 498us/step - loss: 0.1055 - acc: 0.9667 - val_loss: 0.1103 - val_acc: 0.9652\n",
            "Epoch 73/1500\n",
            "12149/12149 [==============================] - 6s 479us/step - loss: 0.1057 - acc: 0.9665 - val_loss: 0.1096 - val_acc: 0.9667\n",
            "Epoch 74/1500\n",
            "12149/12149 [==============================] - 5s 440us/step - loss: 0.1049 - acc: 0.9663 - val_loss: 0.1095 - val_acc: 0.9689\n",
            "Epoch 75/1500\n",
            "12149/12149 [==============================] - 5s 439us/step - loss: 0.1055 - acc: 0.9670 - val_loss: 0.1125 - val_acc: 0.9652\n",
            "Epoch 76/1500\n",
            "12149/12149 [==============================] - 5s 439us/step - loss: 0.1048 - acc: 0.9665 - val_loss: 0.1118 - val_acc: 0.9652\n",
            "Epoch 77/1500\n",
            "12149/12149 [==============================] - 5s 441us/step - loss: 0.1047 - acc: 0.9673 - val_loss: 0.1125 - val_acc: 0.9615\n",
            "Epoch 78/1500\n",
            "12149/12149 [==============================] - 5s 444us/step - loss: 0.1042 - acc: 0.9680 - val_loss: 0.1131 - val_acc: 0.9630\n",
            "Epoch 79/1500\n",
            "12149/12149 [==============================] - 5s 443us/step - loss: 0.1044 - acc: 0.9663 - val_loss: 0.1152 - val_acc: 0.9630\n",
            "Epoch 80/1500\n",
            "12149/12149 [==============================] - 5s 440us/step - loss: 0.1045 - acc: 0.9673 - val_loss: 0.1063 - val_acc: 0.9674\n",
            "Epoch 81/1500\n",
            "12149/12149 [==============================] - 5s 440us/step - loss: 0.1047 - acc: 0.9672 - val_loss: 0.1075 - val_acc: 0.9674\n",
            "Epoch 82/1500\n",
            "12149/12149 [==============================] - 5s 446us/step - loss: 0.1038 - acc: 0.9681 - val_loss: 0.1077 - val_acc: 0.9667\n",
            "Epoch 83/1500\n",
            "12149/12149 [==============================] - 5s 438us/step - loss: 0.1037 - acc: 0.9681 - val_loss: 0.1070 - val_acc: 0.9674\n",
            "Epoch 84/1500\n",
            "12149/12149 [==============================] - 5s 438us/step - loss: 0.1042 - acc: 0.9667 - val_loss: 0.1139 - val_acc: 0.9659\n",
            "Epoch 85/1500\n",
            "12149/12149 [==============================] - 5s 439us/step - loss: 0.1031 - acc: 0.9678 - val_loss: 0.1082 - val_acc: 0.9681\n",
            "Epoch 86/1500\n",
            "12149/12149 [==============================] - 5s 440us/step - loss: 0.1039 - acc: 0.9670 - val_loss: 0.1070 - val_acc: 0.9681\n",
            "Epoch 87/1500\n",
            "12149/12149 [==============================] - 5s 442us/step - loss: 0.1037 - acc: 0.9669 - val_loss: 0.1063 - val_acc: 0.9696\n",
            "Epoch 88/1500\n",
            "12149/12149 [==============================] - 5s 439us/step - loss: 0.1027 - acc: 0.9672 - val_loss: 0.1095 - val_acc: 0.9667\n",
            "Epoch 89/1500\n",
            "12149/12149 [==============================] - 5s 439us/step - loss: 0.1027 - acc: 0.9672 - val_loss: 0.1075 - val_acc: 0.9719\n",
            "Epoch 90/1500\n",
            "12149/12149 [==============================] - 5s 441us/step - loss: 0.1035 - acc: 0.9677 - val_loss: 0.1050 - val_acc: 0.9696\n",
            "Epoch 91/1500\n",
            "12149/12149 [==============================] - 5s 447us/step - loss: 0.1029 - acc: 0.9681 - val_loss: 0.1064 - val_acc: 0.9667\n",
            "Epoch 92/1500\n",
            "12149/12149 [==============================] - 5s 438us/step - loss: 0.1022 - acc: 0.9681 - val_loss: 0.1087 - val_acc: 0.9674\n",
            "Epoch 93/1500\n",
            "12149/12149 [==============================] - 5s 439us/step - loss: 0.1032 - acc: 0.9681 - val_loss: 0.1078 - val_acc: 0.9689\n",
            "Epoch 94/1500\n",
            "12149/12149 [==============================] - 5s 445us/step - loss: 0.1023 - acc: 0.9673 - val_loss: 0.1074 - val_acc: 0.9696\n",
            "Epoch 95/1500\n",
            "12149/12149 [==============================] - 5s 447us/step - loss: 0.1020 - acc: 0.9677 - val_loss: 0.1084 - val_acc: 0.9652\n",
            "Epoch 96/1500\n",
            "12149/12149 [==============================] - 5s 447us/step - loss: 0.1020 - acc: 0.9676 - val_loss: 0.1089 - val_acc: 0.9689\n",
            "Epoch 97/1500\n",
            "12149/12149 [==============================] - 5s 441us/step - loss: 0.1019 - acc: 0.9686 - val_loss: 0.1068 - val_acc: 0.9667\n",
            "Epoch 98/1500\n",
            "12149/12149 [==============================] - 5s 442us/step - loss: 0.1022 - acc: 0.9681 - val_loss: 0.1066 - val_acc: 0.9696\n",
            "Epoch 99/1500\n",
            "12149/12149 [==============================] - 5s 438us/step - loss: 0.1015 - acc: 0.9684 - val_loss: 0.1089 - val_acc: 0.9689\n",
            "Epoch 100/1500\n",
            "12149/12149 [==============================] - 5s 439us/step - loss: 0.1020 - acc: 0.9677 - val_loss: 0.1119 - val_acc: 0.9667\n",
            "Epoch 101/1500\n",
            "12149/12149 [==============================] - 5s 443us/step - loss: 0.1015 - acc: 0.9681 - val_loss: 0.1126 - val_acc: 0.9674\n",
            "Epoch 102/1500\n",
            "12149/12149 [==============================] - 5s 443us/step - loss: 0.1015 - acc: 0.9686 - val_loss: 0.1079 - val_acc: 0.9696\n",
            "Epoch 103/1500\n",
            "12149/12149 [==============================] - 5s 441us/step - loss: 0.1006 - acc: 0.9691 - val_loss: 0.1090 - val_acc: 0.9652\n",
            "Epoch 104/1500\n",
            "12149/12149 [==============================] - 5s 441us/step - loss: 0.1018 - acc: 0.9677 - val_loss: 0.1064 - val_acc: 0.9689\n",
            "Epoch 105/1500\n",
            "12149/12149 [==============================] - 5s 439us/step - loss: 0.1011 - acc: 0.9684 - val_loss: 0.1103 - val_acc: 0.9681\n",
            "Epoch 106/1500\n",
            "12149/12149 [==============================] - 5s 437us/step - loss: 0.1012 - acc: 0.9685 - val_loss: 0.1110 - val_acc: 0.9652\n",
            "Epoch 107/1500\n",
            "12149/12149 [==============================] - 5s 441us/step - loss: 0.1011 - acc: 0.9684 - val_loss: 0.1063 - val_acc: 0.9681\n",
            "Epoch 108/1500\n",
            "12149/12149 [==============================] - 5s 443us/step - loss: 0.1003 - acc: 0.9690 - val_loss: 0.1084 - val_acc: 0.9667\n",
            "Epoch 109/1500\n",
            "12149/12149 [==============================] - 5s 440us/step - loss: 0.1011 - acc: 0.9679 - val_loss: 0.1057 - val_acc: 0.9711\n",
            "Epoch 110/1500\n",
            "12149/12149 [==============================] - 5s 440us/step - loss: 0.1009 - acc: 0.9682 - val_loss: 0.1068 - val_acc: 0.9704\n",
            "Epoch 111/1500\n",
            "12149/12149 [==============================] - 5s 442us/step - loss: 0.1000 - acc: 0.9689 - val_loss: 0.1086 - val_acc: 0.9689\n",
            "Epoch 112/1500\n",
            "12149/12149 [==============================] - 5s 444us/step - loss: 0.1001 - acc: 0.9683 - val_loss: 0.1061 - val_acc: 0.9689\n",
            "Epoch 113/1500\n",
            "12149/12149 [==============================] - 5s 440us/step - loss: 0.1000 - acc: 0.9682 - val_loss: 0.1063 - val_acc: 0.9689\n",
            "Epoch 114/1500\n",
            "12149/12149 [==============================] - 5s 438us/step - loss: 0.0999 - acc: 0.9687 - val_loss: 0.1065 - val_acc: 0.9696\n",
            "Epoch 115/1500\n",
            "12149/12149 [==============================] - 5s 437us/step - loss: 0.0995 - acc: 0.9691 - val_loss: 0.1080 - val_acc: 0.9704\n",
            "Epoch 116/1500\n",
            "12149/12149 [==============================] - 5s 437us/step - loss: 0.1001 - acc: 0.9685 - val_loss: 0.1084 - val_acc: 0.9681\n",
            "Epoch 117/1500\n",
            "12149/12149 [==============================] - 5s 440us/step - loss: 0.1001 - acc: 0.9685 - val_loss: 0.1081 - val_acc: 0.9667\n",
            "Epoch 118/1500\n",
            "12149/12149 [==============================] - 5s 437us/step - loss: 0.0996 - acc: 0.9683 - val_loss: 0.1063 - val_acc: 0.9674\n",
            "Epoch 119/1500\n",
            "12149/12149 [==============================] - 5s 437us/step - loss: 0.1000 - acc: 0.9687 - val_loss: 0.1077 - val_acc: 0.9681\n",
            "Epoch 120/1500\n",
            "12149/12149 [==============================] - 5s 434us/step - loss: 0.0995 - acc: 0.9685 - val_loss: 0.1075 - val_acc: 0.9667\n",
            "Epoch 121/1500\n",
            "12149/12149 [==============================] - 5s 438us/step - loss: 0.0996 - acc: 0.9688 - val_loss: 0.1087 - val_acc: 0.9644\n",
            "Epoch 122/1500\n",
            "12149/12149 [==============================] - 5s 441us/step - loss: 0.1002 - acc: 0.9688 - val_loss: 0.1094 - val_acc: 0.9681\n",
            "Epoch 123/1500\n",
            "12149/12149 [==============================] - 5s 440us/step - loss: 0.0994 - acc: 0.9690 - val_loss: 0.1120 - val_acc: 0.9630\n",
            "Epoch 124/1500\n",
            "12149/12149 [==============================] - 5s 438us/step - loss: 0.0993 - acc: 0.9686 - val_loss: 0.1106 - val_acc: 0.9696\n",
            "Epoch 125/1500\n",
            "12149/12149 [==============================] - 6s 465us/step - loss: 0.0995 - acc: 0.9681 - val_loss: 0.1063 - val_acc: 0.9704\n",
            "Epoch 126/1500\n",
            "12149/12149 [==============================] - 6s 471us/step - loss: 0.0999 - acc: 0.9686 - val_loss: 0.1073 - val_acc: 0.9704\n",
            "Epoch 127/1500\n",
            "12149/12149 [==============================] - 5s 446us/step - loss: 0.0990 - acc: 0.9691 - val_loss: 0.1068 - val_acc: 0.9689\n",
            "Epoch 128/1500\n",
            "12149/12149 [==============================] - 5s 442us/step - loss: 0.0994 - acc: 0.9686 - val_loss: 0.1079 - val_acc: 0.9704\n",
            "Epoch 129/1500\n",
            "12149/12149 [==============================] - 6s 456us/step - loss: 0.0994 - acc: 0.9688 - val_loss: 0.1093 - val_acc: 0.9667\n",
            "Epoch 130/1500\n",
            "12149/12149 [==============================] - 6s 494us/step - loss: 0.0986 - acc: 0.9686 - val_loss: 0.1078 - val_acc: 0.9667\n",
            "Epoch 131/1500\n",
            "12149/12149 [==============================] - 5s 452us/step - loss: 0.0988 - acc: 0.9691 - val_loss: 0.1082 - val_acc: 0.9689\n",
            "Epoch 132/1500\n",
            "12149/12149 [==============================] - 5s 434us/step - loss: 0.0987 - acc: 0.9692 - val_loss: 0.1093 - val_acc: 0.9659\n",
            "Epoch 133/1500\n",
            "12149/12149 [==============================] - 5s 437us/step - loss: 0.0985 - acc: 0.9698 - val_loss: 0.1074 - val_acc: 0.9659\n",
            "Epoch 134/1500\n",
            "12149/12149 [==============================] - 5s 438us/step - loss: 0.0988 - acc: 0.9693 - val_loss: 0.1083 - val_acc: 0.9674\n",
            "Epoch 135/1500\n",
            "12149/12149 [==============================] - 5s 436us/step - loss: 0.0991 - acc: 0.9679 - val_loss: 0.1084 - val_acc: 0.9659\n",
            "Epoch 136/1500\n",
            "12149/12149 [==============================] - 5s 437us/step - loss: 0.0984 - acc: 0.9689 - val_loss: 0.1060 - val_acc: 0.9696\n",
            "Epoch 137/1500\n",
            "12149/12149 [==============================] - 5s 433us/step - loss: 0.0977 - acc: 0.9692 - val_loss: 0.1088 - val_acc: 0.9674\n",
            "Epoch 138/1500\n",
            "12149/12149 [==============================] - 5s 432us/step - loss: 0.0980 - acc: 0.9686 - val_loss: 0.1101 - val_acc: 0.9681\n",
            "Epoch 139/1500\n",
            "12149/12149 [==============================] - 5s 437us/step - loss: 0.0981 - acc: 0.9682 - val_loss: 0.1079 - val_acc: 0.9681\n",
            "Epoch 140/1500\n",
            "12149/12149 [==============================] - 5s 435us/step - loss: 0.0985 - acc: 0.9686 - val_loss: 0.1080 - val_acc: 0.9674\n",
            "Epoch 141/1500\n",
            "12149/12149 [==============================] - 5s 446us/step - loss: 0.0972 - acc: 0.9696 - val_loss: 0.1088 - val_acc: 0.9674\n",
            "Epoch 142/1500\n",
            "12149/12149 [==============================] - 5s 438us/step - loss: 0.0991 - acc: 0.9692 - val_loss: 0.1084 - val_acc: 0.9674\n",
            "Epoch 143/1500\n",
            "12149/12149 [==============================] - 5s 438us/step - loss: 0.0981 - acc: 0.9685 - val_loss: 0.1081 - val_acc: 0.9681\n",
            "Epoch 144/1500\n",
            "12149/12149 [==============================] - 5s 431us/step - loss: 0.0982 - acc: 0.9689 - val_loss: 0.1051 - val_acc: 0.9674\n",
            "Epoch 145/1500\n",
            "12149/12149 [==============================] - 5s 441us/step - loss: 0.0983 - acc: 0.9686 - val_loss: 0.1063 - val_acc: 0.9681\n",
            "Epoch 146/1500\n",
            "12149/12149 [==============================] - 5s 441us/step - loss: 0.0980 - acc: 0.9692 - val_loss: 0.1080 - val_acc: 0.9667\n",
            "Epoch 147/1500\n",
            "12149/12149 [==============================] - 5s 443us/step - loss: 0.0981 - acc: 0.9691 - val_loss: 0.1094 - val_acc: 0.9674\n",
            "Epoch 148/1500\n",
            "12149/12149 [==============================] - 5s 436us/step - loss: 0.0975 - acc: 0.9687 - val_loss: 0.1079 - val_acc: 0.9681\n",
            "Epoch 149/1500\n",
            "12149/12149 [==============================] - 5s 436us/step - loss: 0.0978 - acc: 0.9697 - val_loss: 0.1088 - val_acc: 0.9689\n",
            "Epoch 150/1500\n",
            "12149/12149 [==============================] - 5s 437us/step - loss: 0.0983 - acc: 0.9691 - val_loss: 0.1076 - val_acc: 0.9696\n",
            "Epoch 151/1500\n",
            "12149/12149 [==============================] - 5s 436us/step - loss: 0.0980 - acc: 0.9699 - val_loss: 0.1070 - val_acc: 0.9652\n",
            "Epoch 152/1500\n",
            "12149/12149 [==============================] - 5s 436us/step - loss: 0.0966 - acc: 0.9695 - val_loss: 0.1101 - val_acc: 0.9637\n",
            "Epoch 153/1500\n",
            "12149/12149 [==============================] - 5s 439us/step - loss: 0.0982 - acc: 0.9695 - val_loss: 0.1087 - val_acc: 0.9659\n",
            "Epoch 154/1500\n",
            "12149/12149 [==============================] - 5s 442us/step - loss: 0.0980 - acc: 0.9687 - val_loss: 0.1085 - val_acc: 0.9667\n",
            "Epoch 155/1500\n",
            "12149/12149 [==============================] - 5s 435us/step - loss: 0.0975 - acc: 0.9693 - val_loss: 0.1081 - val_acc: 0.9681\n",
            "Epoch 156/1500\n",
            "12149/12149 [==============================] - 5s 439us/step - loss: 0.0965 - acc: 0.9697 - val_loss: 0.1074 - val_acc: 0.9659\n",
            "Epoch 157/1500\n",
            "12149/12149 [==============================] - 5s 439us/step - loss: 0.0977 - acc: 0.9691 - val_loss: 0.1067 - val_acc: 0.9674\n",
            "Epoch 158/1500\n",
            "12149/12149 [==============================] - 5s 438us/step - loss: 0.0983 - acc: 0.9697 - val_loss: 0.1103 - val_acc: 0.9667\n",
            "Epoch 159/1500\n",
            "12149/12149 [==============================] - 5s 437us/step - loss: 0.0971 - acc: 0.9695 - val_loss: 0.1104 - val_acc: 0.9644\n",
            "Epoch 160/1500\n",
            "12149/12149 [==============================] - 5s 442us/step - loss: 0.0974 - acc: 0.9695 - val_loss: 0.1073 - val_acc: 0.9681\n",
            "Epoch 161/1500\n",
            "12149/12149 [==============================] - 5s 443us/step - loss: 0.0970 - acc: 0.9699 - val_loss: 0.1084 - val_acc: 0.9674\n",
            "Epoch 162/1500\n",
            "12149/12149 [==============================] - 5s 439us/step - loss: 0.0975 - acc: 0.9694 - val_loss: 0.1060 - val_acc: 0.9681\n",
            "Epoch 163/1500\n",
            "12149/12149 [==============================] - 5s 439us/step - loss: 0.0968 - acc: 0.9695 - val_loss: 0.1080 - val_acc: 0.9659\n",
            "Epoch 164/1500\n",
            "12149/12149 [==============================] - 5s 441us/step - loss: 0.0968 - acc: 0.9695 - val_loss: 0.1082 - val_acc: 0.9674\n",
            "Epoch 165/1500\n",
            "12149/12149 [==============================] - 5s 441us/step - loss: 0.0970 - acc: 0.9703 - val_loss: 0.1075 - val_acc: 0.9667\n",
            "Epoch 166/1500\n",
            "12149/12149 [==============================] - 5s 440us/step - loss: 0.0977 - acc: 0.9691 - val_loss: 0.1085 - val_acc: 0.9667\n",
            "Epoch 167/1500\n",
            "12149/12149 [==============================] - 5s 443us/step - loss: 0.0963 - acc: 0.9700 - val_loss: 0.1230 - val_acc: 0.9622\n",
            "Epoch 168/1500\n",
            "12149/12149 [==============================] - 5s 436us/step - loss: 0.0974 - acc: 0.9693 - val_loss: 0.1118 - val_acc: 0.9644\n",
            "Epoch 169/1500\n",
            "12149/12149 [==============================] - 5s 440us/step - loss: 0.0969 - acc: 0.9700 - val_loss: 0.1079 - val_acc: 0.9667\n",
            "Epoch 170/1500\n",
            "12149/12149 [==============================] - 5s 439us/step - loss: 0.0963 - acc: 0.9705 - val_loss: 0.1084 - val_acc: 0.9681\n",
            "Epoch 171/1500\n",
            "12149/12149 [==============================] - 5s 439us/step - loss: 0.0977 - acc: 0.9700 - val_loss: 0.1077 - val_acc: 0.9667\n",
            "Epoch 172/1500\n",
            "12149/12149 [==============================] - 5s 436us/step - loss: 0.0963 - acc: 0.9699 - val_loss: 0.1047 - val_acc: 0.9704\n",
            "Epoch 173/1500\n",
            "12149/12149 [==============================] - 5s 438us/step - loss: 0.0968 - acc: 0.9691 - val_loss: 0.1077 - val_acc: 0.9689\n",
            "Epoch 174/1500\n",
            "12149/12149 [==============================] - 5s 436us/step - loss: 0.0975 - acc: 0.9691 - val_loss: 0.1066 - val_acc: 0.9696\n",
            "Epoch 175/1500\n",
            "12149/12149 [==============================] - 5s 432us/step - loss: 0.0971 - acc: 0.9704 - val_loss: 0.1089 - val_acc: 0.9674\n",
            "Epoch 176/1500\n",
            "12149/12149 [==============================] - 5s 433us/step - loss: 0.0959 - acc: 0.9708 - val_loss: 0.1073 - val_acc: 0.9681\n",
            "Epoch 177/1500\n",
            "12149/12149 [==============================] - 5s 432us/step - loss: 0.0968 - acc: 0.9694 - val_loss: 0.1090 - val_acc: 0.9667\n",
            "Epoch 178/1500\n",
            "12149/12149 [==============================] - 5s 433us/step - loss: 0.0961 - acc: 0.9696 - val_loss: 0.1067 - val_acc: 0.9674\n",
            "Epoch 179/1500\n",
            "12149/12149 [==============================] - 5s 440us/step - loss: 0.0972 - acc: 0.9686 - val_loss: 0.1059 - val_acc: 0.9681\n",
            "Epoch 180/1500\n",
            "12149/12149 [==============================] - 5s 435us/step - loss: 0.0969 - acc: 0.9698 - val_loss: 0.1063 - val_acc: 0.9689\n",
            "Epoch 181/1500\n",
            "12149/12149 [==============================] - 5s 439us/step - loss: 0.0958 - acc: 0.9703 - val_loss: 0.1085 - val_acc: 0.9696\n",
            "Epoch 182/1500\n",
            "12149/12149 [==============================] - 6s 457us/step - loss: 0.0970 - acc: 0.9695 - val_loss: 0.1061 - val_acc: 0.9696\n",
            "Epoch 183/1500\n",
            "12149/12149 [==============================] - 6s 470us/step - loss: 0.0965 - acc: 0.9704 - val_loss: 0.1063 - val_acc: 0.9689\n",
            "Epoch 184/1500\n",
            "12149/12149 [==============================] - 5s 433us/step - loss: 0.0966 - acc: 0.9695 - val_loss: 0.1074 - val_acc: 0.9681\n",
            "Epoch 185/1500\n",
            "12149/12149 [==============================] - 5s 435us/step - loss: 0.0972 - acc: 0.9697 - val_loss: 0.1084 - val_acc: 0.9696\n",
            "Epoch 186/1500\n",
            "12149/12149 [==============================] - 5s 442us/step - loss: 0.0965 - acc: 0.9700 - val_loss: 0.1083 - val_acc: 0.9674\n",
            "Epoch 187/1500\n",
            "12149/12149 [==============================] - 6s 465us/step - loss: 0.0964 - acc: 0.9705 - val_loss: 0.1076 - val_acc: 0.9681\n",
            "Epoch 188/1500\n",
            "12149/12149 [==============================] - 6s 489us/step - loss: 0.0965 - acc: 0.9694 - val_loss: 0.1058 - val_acc: 0.9696\n",
            "Epoch 189/1500\n",
            "12149/12149 [==============================] - 6s 455us/step - loss: 0.0962 - acc: 0.9704 - val_loss: 0.1066 - val_acc: 0.9681\n",
            "Epoch 190/1500\n",
            "12149/12149 [==============================] - 5s 438us/step - loss: 0.0964 - acc: 0.9693 - val_loss: 0.1085 - val_acc: 0.9681\n",
            "Epoch 191/1500\n",
            "12149/12149 [==============================] - 5s 436us/step - loss: 0.0964 - acc: 0.9700 - val_loss: 0.1070 - val_acc: 0.9667\n",
            "Epoch 192/1500\n",
            "12149/12149 [==============================] - 5s 440us/step - loss: 0.0955 - acc: 0.9701 - val_loss: 0.1057 - val_acc: 0.9696\n",
            "Epoch 193/1500\n",
            "12149/12149 [==============================] - 5s 438us/step - loss: 0.0947 - acc: 0.9702 - val_loss: 0.1077 - val_acc: 0.9667\n",
            "Epoch 194/1500\n",
            "12149/12149 [==============================] - 5s 437us/step - loss: 0.0963 - acc: 0.9701 - val_loss: 0.1076 - val_acc: 0.9674\n",
            "Epoch 195/1500\n",
            "12149/12149 [==============================] - 5s 436us/step - loss: 0.0960 - acc: 0.9698 - val_loss: 0.1059 - val_acc: 0.9681\n",
            "Epoch 196/1500\n",
            "12149/12149 [==============================] - 5s 433us/step - loss: 0.0953 - acc: 0.9700 - val_loss: 0.1065 - val_acc: 0.9681\n",
            "Epoch 197/1500\n",
            "12149/12149 [==============================] - 5s 437us/step - loss: 0.0961 - acc: 0.9700 - val_loss: 0.1058 - val_acc: 0.9689\n",
            "Epoch 198/1500\n",
            "12149/12149 [==============================] - 5s 436us/step - loss: 0.0948 - acc: 0.9705 - val_loss: 0.1076 - val_acc: 0.9674\n",
            "Epoch 199/1500\n",
            "12149/12149 [==============================] - 5s 441us/step - loss: 0.0950 - acc: 0.9701 - val_loss: 0.1084 - val_acc: 0.9652\n",
            "Epoch 200/1500\n",
            "12149/12149 [==============================] - 5s 434us/step - loss: 0.0959 - acc: 0.9690 - val_loss: 0.1072 - val_acc: 0.9681\n",
            "Epoch 201/1500\n",
            "12149/12149 [==============================] - 5s 439us/step - loss: 0.0962 - acc: 0.9690 - val_loss: 0.1096 - val_acc: 0.9674\n",
            "Epoch 202/1500\n",
            "12149/12149 [==============================] - 5s 438us/step - loss: 0.0953 - acc: 0.9692 - val_loss: 0.1091 - val_acc: 0.9667\n",
            "Epoch 203/1500\n",
            "12149/12149 [==============================] - 7s 550us/step - loss: 0.0953 - acc: 0.9705 - val_loss: 0.1078 - val_acc: 0.9674\n",
            "Epoch 204/1500\n",
            "12149/12149 [==============================] - 7s 582us/step - loss: 0.0948 - acc: 0.9698 - val_loss: 0.1069 - val_acc: 0.9689\n",
            "Epoch 205/1500\n",
            "12149/12149 [==============================] - 5s 442us/step - loss: 0.0951 - acc: 0.9697 - val_loss: 0.1099 - val_acc: 0.9681\n",
            "Epoch 206/1500\n",
            "12149/12149 [==============================] - 5s 443us/step - loss: 0.0953 - acc: 0.9691 - val_loss: 0.1109 - val_acc: 0.9607\n",
            "Epoch 207/1500\n",
            "12149/12149 [==============================] - 5s 452us/step - loss: 0.0952 - acc: 0.9700 - val_loss: 0.1076 - val_acc: 0.9681\n",
            "Epoch 208/1500\n",
            "12149/12149 [==============================] - 5s 446us/step - loss: 0.0949 - acc: 0.9706 - val_loss: 0.1078 - val_acc: 0.9667\n",
            "Epoch 209/1500\n",
            "12149/12149 [==============================] - 5s 444us/step - loss: 0.0951 - acc: 0.9705 - val_loss: 0.1070 - val_acc: 0.9704\n",
            "Epoch 210/1500\n",
            "12149/12149 [==============================] - 5s 447us/step - loss: 0.0951 - acc: 0.9700 - val_loss: 0.1084 - val_acc: 0.9681\n",
            "Epoch 211/1500\n",
            "12149/12149 [==============================] - 5s 447us/step - loss: 0.0948 - acc: 0.9703 - val_loss: 0.1130 - val_acc: 0.9630\n",
            "Epoch 212/1500\n",
            "12149/12149 [==============================] - 5s 449us/step - loss: 0.0952 - acc: 0.9695 - val_loss: 0.1072 - val_acc: 0.9689\n",
            "Epoch 213/1500\n",
            "12149/12149 [==============================] - 5s 447us/step - loss: 0.0948 - acc: 0.9703 - val_loss: 0.1103 - val_acc: 0.9659\n",
            "Epoch 214/1500\n",
            "12149/12149 [==============================] - 5s 448us/step - loss: 0.0947 - acc: 0.9710 - val_loss: 0.1116 - val_acc: 0.9644\n",
            "Epoch 215/1500\n",
            "12149/12149 [==============================] - 6s 454us/step - loss: 0.0955 - acc: 0.9700 - val_loss: 0.1095 - val_acc: 0.9667\n",
            "Epoch 216/1500\n",
            "12149/12149 [==============================] - 6s 464us/step - loss: 0.0941 - acc: 0.9707 - val_loss: 0.1093 - val_acc: 0.9674\n",
            "Epoch 217/1500\n",
            "12149/12149 [==============================] - 6s 463us/step - loss: 0.0949 - acc: 0.9698 - val_loss: 0.1080 - val_acc: 0.9689\n",
            "Epoch 218/1500\n",
            "12149/12149 [==============================] - 6s 461us/step - loss: 0.0943 - acc: 0.9709 - val_loss: 0.1085 - val_acc: 0.9667\n",
            "Epoch 219/1500\n",
            "12149/12149 [==============================] - 6s 463us/step - loss: 0.0944 - acc: 0.9691 - val_loss: 0.1057 - val_acc: 0.9667\n",
            "Epoch 220/1500\n",
            "12149/12149 [==============================] - 6s 460us/step - loss: 0.0949 - acc: 0.9700 - val_loss: 0.1075 - val_acc: 0.9674\n",
            "Epoch 221/1500\n",
            "12149/12149 [==============================] - 5s 446us/step - loss: 0.0948 - acc: 0.9710 - val_loss: 0.1078 - val_acc: 0.9667\n",
            "Epoch 222/1500\n",
            "12149/12149 [==============================] - 5s 448us/step - loss: 0.0944 - acc: 0.9700 - val_loss: 0.1098 - val_acc: 0.9674\n",
            "Epoch 223/1500\n",
            "12149/12149 [==============================] - 5s 452us/step - loss: 0.0948 - acc: 0.9702 - val_loss: 0.1053 - val_acc: 0.9689\n",
            "Epoch 224/1500\n",
            "12149/12149 [==============================] - 5s 445us/step - loss: 0.0947 - acc: 0.9704 - val_loss: 0.1077 - val_acc: 0.9659\n",
            "Epoch 225/1500\n",
            "12149/12149 [==============================] - 5s 444us/step - loss: 0.0947 - acc: 0.9703 - val_loss: 0.1071 - val_acc: 0.9681\n",
            "Epoch 226/1500\n",
            "12149/12149 [==============================] - 5s 448us/step - loss: 0.0942 - acc: 0.9705 - val_loss: 0.1066 - val_acc: 0.9689\n",
            "Epoch 227/1500\n",
            "12149/12149 [==============================] - 5s 447us/step - loss: 0.0945 - acc: 0.9698 - val_loss: 0.1078 - val_acc: 0.9704\n",
            "Epoch 228/1500\n",
            "12149/12149 [==============================] - 5s 451us/step - loss: 0.0943 - acc: 0.9700 - val_loss: 0.1067 - val_acc: 0.9667\n",
            "Epoch 229/1500\n",
            "12149/12149 [==============================] - 5s 452us/step - loss: 0.0947 - acc: 0.9702 - val_loss: 0.1059 - val_acc: 0.9681\n",
            "Epoch 230/1500\n",
            "12149/12149 [==============================] - 6s 453us/step - loss: 0.0933 - acc: 0.9705 - val_loss: 0.1071 - val_acc: 0.9667\n",
            "Epoch 231/1500\n",
            "12149/12149 [==============================] - 5s 450us/step - loss: 0.0949 - acc: 0.9693 - val_loss: 0.1098 - val_acc: 0.9659\n",
            "Epoch 232/1500\n",
            "12149/12149 [==============================] - 5s 447us/step - loss: 0.0949 - acc: 0.9700 - val_loss: 0.1099 - val_acc: 0.9644\n",
            "Epoch 233/1500\n",
            "12149/12149 [==============================] - 5s 447us/step - loss: 0.0949 - acc: 0.9697 - val_loss: 0.1077 - val_acc: 0.9689\n",
            "Epoch 234/1500\n",
            "12149/12149 [==============================] - 5s 452us/step - loss: 0.0946 - acc: 0.9704 - val_loss: 0.1080 - val_acc: 0.9681\n",
            "Epoch 235/1500\n",
            "12149/12149 [==============================] - 5s 453us/step - loss: 0.0939 - acc: 0.9705 - val_loss: 0.1088 - val_acc: 0.9659\n",
            "Epoch 236/1500\n",
            "12149/12149 [==============================] - 5s 449us/step - loss: 0.0938 - acc: 0.9698 - val_loss: 0.1121 - val_acc: 0.9637\n",
            "Epoch 237/1500\n",
            "12149/12149 [==============================] - 5s 451us/step - loss: 0.0942 - acc: 0.9708 - val_loss: 0.1072 - val_acc: 0.9681\n",
            "Epoch 238/1500\n",
            "12149/12149 [==============================] - 6s 502us/step - loss: 0.0943 - acc: 0.9711 - val_loss: 0.1074 - val_acc: 0.9659\n",
            "Epoch 239/1500\n",
            "12149/12149 [==============================] - 6s 454us/step - loss: 0.0951 - acc: 0.9696 - val_loss: 0.1086 - val_acc: 0.9644\n",
            "Epoch 240/1500\n",
            "12149/12149 [==============================] - 5s 448us/step - loss: 0.0936 - acc: 0.9699 - val_loss: 0.1055 - val_acc: 0.9681\n",
            "Epoch 241/1500\n",
            "12149/12149 [==============================] - 5s 452us/step - loss: 0.0947 - acc: 0.9702 - val_loss: 0.1080 - val_acc: 0.9652\n",
            "Epoch 242/1500\n",
            "12149/12149 [==============================] - 5s 446us/step - loss: 0.0940 - acc: 0.9708 - val_loss: 0.1161 - val_acc: 0.9622\n",
            "Epoch 243/1500\n",
            "12149/12149 [==============================] - 6s 453us/step - loss: 0.0936 - acc: 0.9705 - val_loss: 0.1050 - val_acc: 0.9667\n",
            "Epoch 244/1500\n",
            "12149/12149 [==============================] - 6s 510us/step - loss: 0.0947 - acc: 0.9707 - val_loss: 0.1065 - val_acc: 0.9667\n",
            "Epoch 245/1500\n",
            "12149/12149 [==============================] - 6s 489us/step - loss: 0.0935 - acc: 0.9701 - val_loss: 0.1073 - val_acc: 0.9659\n",
            "Epoch 246/1500\n",
            "12149/12149 [==============================] - 6s 483us/step - loss: 0.0948 - acc: 0.9700 - val_loss: 0.1088 - val_acc: 0.9667\n",
            "Epoch 247/1500\n",
            "12149/12149 [==============================] - 6s 508us/step - loss: 0.0943 - acc: 0.9700 - val_loss: 0.1114 - val_acc: 0.9637\n",
            "Epoch 248/1500\n",
            "12149/12149 [==============================] - 6s 505us/step - loss: 0.0947 - acc: 0.9701 - val_loss: 0.1079 - val_acc: 0.9667\n",
            "Epoch 249/1500\n",
            "12149/12149 [==============================] - 6s 502us/step - loss: 0.0940 - acc: 0.9697 - val_loss: 0.1068 - val_acc: 0.9667\n",
            "Epoch 250/1500\n",
            "12149/12149 [==============================] - 6s 485us/step - loss: 0.0934 - acc: 0.9709 - val_loss: 0.1086 - val_acc: 0.9674\n",
            "Epoch 251/1500\n",
            "12149/12149 [==============================] - 6s 493us/step - loss: 0.0936 - acc: 0.9706 - val_loss: 0.1098 - val_acc: 0.9674\n",
            "Epoch 252/1500\n",
            "12149/12149 [==============================] - 6s 467us/step - loss: 0.0949 - acc: 0.9705 - val_loss: 0.1057 - val_acc: 0.9696\n",
            "Epoch 253/1500\n",
            "12149/12149 [==============================] - 6s 472us/step - loss: 0.0943 - acc: 0.9705 - val_loss: 0.1096 - val_acc: 0.9637\n",
            "Epoch 254/1500\n",
            "12149/12149 [==============================] - 6s 463us/step - loss: 0.0945 - acc: 0.9702 - val_loss: 0.1093 - val_acc: 0.9681\n",
            "Epoch 255/1500\n",
            "12149/12149 [==============================] - 6s 476us/step - loss: 0.0938 - acc: 0.9701 - val_loss: 0.1085 - val_acc: 0.9674\n",
            "Epoch 256/1500\n",
            "12149/12149 [==============================] - 6s 485us/step - loss: 0.0939 - acc: 0.9711 - val_loss: 0.1074 - val_acc: 0.9696\n",
            "Epoch 257/1500\n",
            "12149/12149 [==============================] - 6s 479us/step - loss: 0.0939 - acc: 0.9708 - val_loss: 0.1095 - val_acc: 0.9674\n",
            "Epoch 258/1500\n",
            "12149/12149 [==============================] - 6s 491us/step - loss: 0.0938 - acc: 0.9711 - val_loss: 0.1063 - val_acc: 0.9681\n",
            "Epoch 259/1500\n",
            "12149/12149 [==============================] - 6s 489us/step - loss: 0.0931 - acc: 0.9702 - val_loss: 0.1081 - val_acc: 0.9667\n",
            "Epoch 260/1500\n",
            "12149/12149 [==============================] - 6s 475us/step - loss: 0.0942 - acc: 0.9696 - val_loss: 0.1075 - val_acc: 0.9681\n",
            "Epoch 261/1500\n",
            "12149/12149 [==============================] - 6s 474us/step - loss: 0.0941 - acc: 0.9701 - val_loss: 0.1093 - val_acc: 0.9659\n",
            "Epoch 262/1500\n",
            "12149/12149 [==============================] - 6s 479us/step - loss: 0.0944 - acc: 0.9707 - val_loss: 0.1059 - val_acc: 0.9681\n",
            "Epoch 263/1500\n",
            "12149/12149 [==============================] - 6s 475us/step - loss: 0.0939 - acc: 0.9701 - val_loss: 0.1068 - val_acc: 0.9689\n",
            "Epoch 264/1500\n",
            "12149/12149 [==============================] - 6s 486us/step - loss: 0.0941 - acc: 0.9704 - val_loss: 0.1086 - val_acc: 0.9696\n",
            "Epoch 265/1500\n",
            "12149/12149 [==============================] - 6s 478us/step - loss: 0.0946 - acc: 0.9700 - val_loss: 0.1058 - val_acc: 0.9696\n",
            "Epoch 266/1500\n",
            "12149/12149 [==============================] - 6s 480us/step - loss: 0.0935 - acc: 0.9704 - val_loss: 0.1066 - val_acc: 0.9674\n",
            "Epoch 267/1500\n",
            "12149/12149 [==============================] - 6s 472us/step - loss: 0.0940 - acc: 0.9707 - val_loss: 0.1069 - val_acc: 0.9681\n",
            "Epoch 268/1500\n",
            "12149/12149 [==============================] - 6s 481us/step - loss: 0.0936 - acc: 0.9702 - val_loss: 0.1090 - val_acc: 0.9681\n",
            "Epoch 269/1500\n",
            "12149/12149 [==============================] - 6s 493us/step - loss: 0.0943 - acc: 0.9705 - val_loss: 0.1066 - val_acc: 0.9689\n",
            "Epoch 270/1500\n",
            "12149/12149 [==============================] - 6s 490us/step - loss: 0.0942 - acc: 0.9699 - val_loss: 0.1080 - val_acc: 0.9681\n",
            "Epoch 271/1500\n",
            "12149/12149 [==============================] - 6s 483us/step - loss: 0.0934 - acc: 0.9698 - val_loss: 0.1064 - val_acc: 0.9689\n",
            "Epoch 272/1500\n",
            "12149/12149 [==============================] - 6s 477us/step - loss: 0.0938 - acc: 0.9709 - val_loss: 0.1053 - val_acc: 0.9681\n",
            "Epoch 273/1500\n",
            "12149/12149 [==============================] - 6s 481us/step - loss: 0.0945 - acc: 0.9701 - val_loss: 0.1067 - val_acc: 0.9689\n",
            "Epoch 274/1500\n",
            "12149/12149 [==============================] - 6s 490us/step - loss: 0.0938 - acc: 0.9706 - val_loss: 0.1064 - val_acc: 0.9689\n",
            "Epoch 275/1500\n",
            "12149/12149 [==============================] - 6s 490us/step - loss: 0.0940 - acc: 0.9695 - val_loss: 0.1076 - val_acc: 0.9689\n",
            "Epoch 276/1500\n",
            "12149/12149 [==============================] - 6s 506us/step - loss: 0.0933 - acc: 0.9702 - val_loss: 0.1091 - val_acc: 0.9667\n",
            "Epoch 277/1500\n",
            "12149/12149 [==============================] - 6s 507us/step - loss: 0.0936 - acc: 0.9704 - val_loss: 0.1094 - val_acc: 0.9689\n",
            "Epoch 278/1500\n",
            "12149/12149 [==============================] - 6s 523us/step - loss: 0.0938 - acc: 0.9700 - val_loss: 0.1065 - val_acc: 0.9674\n",
            "Epoch 279/1500\n",
            "12149/12149 [==============================] - 6s 533us/step - loss: 0.0942 - acc: 0.9709 - val_loss: 0.1108 - val_acc: 0.9681\n",
            "Epoch 280/1500\n",
            "12149/12149 [==============================] - 6s 524us/step - loss: 0.0937 - acc: 0.9700 - val_loss: 0.1081 - val_acc: 0.9674\n",
            "Epoch 281/1500\n",
            "12149/12149 [==============================] - 6s 508us/step - loss: 0.0944 - acc: 0.9705 - val_loss: 0.1083 - val_acc: 0.9667\n",
            "Epoch 282/1500\n",
            "12149/12149 [==============================] - 6s 516us/step - loss: 0.0942 - acc: 0.9706 - val_loss: 0.1059 - val_acc: 0.9681\n",
            "Epoch 283/1500\n",
            "12149/12149 [==============================] - 7s 539us/step - loss: 0.0937 - acc: 0.9708 - val_loss: 0.1049 - val_acc: 0.9674\n",
            "Epoch 284/1500\n",
            "12149/12149 [==============================] - 7s 605us/step - loss: 0.0934 - acc: 0.9701 - val_loss: 0.1053 - val_acc: 0.9689\n",
            "Epoch 285/1500\n",
            "12149/12149 [==============================] - 7s 604us/step - loss: 0.0941 - acc: 0.9710 - val_loss: 0.1052 - val_acc: 0.9689\n",
            "Epoch 286/1500\n",
            "12149/12149 [==============================] - 7s 597us/step - loss: 0.0940 - acc: 0.9698 - val_loss: 0.1057 - val_acc: 0.9689\n",
            "Epoch 287/1500\n",
            "12149/12149 [==============================] - 7s 601us/step - loss: 0.0939 - acc: 0.9707 - val_loss: 0.1097 - val_acc: 0.9667\n",
            "Epoch 288/1500\n",
            "12149/12149 [==============================] - 7s 607us/step - loss: 0.0932 - acc: 0.9707 - val_loss: 0.1096 - val_acc: 0.9689\n",
            "Epoch 289/1500\n",
            "12149/12149 [==============================] - 7s 614us/step - loss: 0.0944 - acc: 0.9698 - val_loss: 0.1074 - val_acc: 0.9696\n",
            "Epoch 290/1500\n",
            "12149/12149 [==============================] - 7s 592us/step - loss: 0.0934 - acc: 0.9705 - val_loss: 0.1078 - val_acc: 0.9674\n",
            "Epoch 291/1500\n",
            "12149/12149 [==============================] - 7s 590us/step - loss: 0.0932 - acc: 0.9698 - val_loss: 0.1069 - val_acc: 0.9659\n",
            "Epoch 292/1500\n",
            "12149/12149 [==============================] - 7s 605us/step - loss: 0.0933 - acc: 0.9712 - val_loss: 0.1071 - val_acc: 0.9674\n",
            "Epoch 293/1500\n",
            "12149/12149 [==============================] - 7s 601us/step - loss: 0.0937 - acc: 0.9711 - val_loss: 0.1105 - val_acc: 0.9644\n",
            "Epoch 294/1500\n",
            "12149/12149 [==============================] - 8s 645us/step - loss: 0.0937 - acc: 0.9691 - val_loss: 0.1103 - val_acc: 0.9615\n",
            "Epoch 295/1500\n",
            "12149/12149 [==============================] - 8s 621us/step - loss: 0.0938 - acc: 0.9702 - val_loss: 0.1077 - val_acc: 0.9681\n",
            "Epoch 296/1500\n",
            "12149/12149 [==============================] - 7s 570us/step - loss: 0.0931 - acc: 0.9701 - val_loss: 0.1100 - val_acc: 0.9652\n",
            "Epoch 297/1500\n",
            "12149/12149 [==============================] - 8s 659us/step - loss: 0.0935 - acc: 0.9711 - val_loss: 0.1058 - val_acc: 0.9674\n",
            "Epoch 298/1500\n",
            "12149/12149 [==============================] - 8s 649us/step - loss: 0.0937 - acc: 0.9697 - val_loss: 0.1067 - val_acc: 0.9689\n",
            "Epoch 299/1500\n",
            "12149/12149 [==============================] - 7s 598us/step - loss: 0.0934 - acc: 0.9715 - val_loss: 0.1065 - val_acc: 0.9674\n",
            "Epoch 300/1500\n",
            "12149/12149 [==============================] - 6s 505us/step - loss: 0.0934 - acc: 0.9706 - val_loss: 0.1057 - val_acc: 0.9667\n",
            "Epoch 301/1500\n",
            "12149/12149 [==============================] - 6s 508us/step - loss: 0.0950 - acc: 0.9691 - val_loss: 0.1063 - val_acc: 0.9681\n",
            "Epoch 302/1500\n",
            "12149/12149 [==============================] - 6s 497us/step - loss: 0.0931 - acc: 0.9707 - val_loss: 0.1050 - val_acc: 0.9696\n",
            "Epoch 303/1500\n",
            "12149/12149 [==============================] - 6s 517us/step - loss: 0.0942 - acc: 0.9702 - val_loss: 0.1086 - val_acc: 0.9674\n",
            "Epoch 304/1500\n",
            "12149/12149 [==============================] - 6s 506us/step - loss: 0.0939 - acc: 0.9690 - val_loss: 0.1116 - val_acc: 0.9637\n",
            "Epoch 305/1500\n",
            "12149/12149 [==============================] - 6s 519us/step - loss: 0.0937 - acc: 0.9705 - val_loss: 0.1072 - val_acc: 0.9681\n",
            "Epoch 306/1500\n",
            "12149/12149 [==============================] - 6s 505us/step - loss: 0.0931 - acc: 0.9705 - val_loss: 0.1114 - val_acc: 0.9652\n",
            "Epoch 307/1500\n",
            "12149/12149 [==============================] - 6s 500us/step - loss: 0.0933 - acc: 0.9711 - val_loss: 0.1112 - val_acc: 0.9644\n",
            "Epoch 308/1500\n",
            "12149/12149 [==============================] - 6s 502us/step - loss: 0.0936 - acc: 0.9703 - val_loss: 0.1080 - val_acc: 0.9659\n",
            "Epoch 309/1500\n",
            "12149/12149 [==============================] - 6s 500us/step - loss: 0.0934 - acc: 0.9708 - val_loss: 0.1085 - val_acc: 0.9659\n",
            "Epoch 310/1500\n",
            "12149/12149 [==============================] - 6s 493us/step - loss: 0.0941 - acc: 0.9693 - val_loss: 0.1076 - val_acc: 0.9667\n",
            "Epoch 311/1500\n",
            "12149/12149 [==============================] - 6s 509us/step - loss: 0.0937 - acc: 0.9705 - val_loss: 0.1066 - val_acc: 0.9667\n",
            "Epoch 312/1500\n",
            "12149/12149 [==============================] - 6s 512us/step - loss: 0.0937 - acc: 0.9707 - val_loss: 0.1112 - val_acc: 0.9644\n",
            "Epoch 313/1500\n",
            "12149/12149 [==============================] - 6s 505us/step - loss: 0.0934 - acc: 0.9699 - val_loss: 0.1063 - val_acc: 0.9674\n",
            "Epoch 314/1500\n",
            "12149/12149 [==============================] - 6s 506us/step - loss: 0.0933 - acc: 0.9705 - val_loss: 0.1090 - val_acc: 0.9674\n",
            "Epoch 315/1500\n",
            "12149/12149 [==============================] - 6s 495us/step - loss: 0.0941 - acc: 0.9709 - val_loss: 0.1084 - val_acc: 0.9667\n",
            "Epoch 316/1500\n",
            "12149/12149 [==============================] - 6s 494us/step - loss: 0.0926 - acc: 0.9709 - val_loss: 0.1095 - val_acc: 0.9667\n",
            "Epoch 317/1500\n",
            "12149/12149 [==============================] - 6s 501us/step - loss: 0.0936 - acc: 0.9709 - val_loss: 0.1124 - val_acc: 0.9637\n",
            "Epoch 318/1500\n",
            "12149/12149 [==============================] - 6s 497us/step - loss: 0.0942 - acc: 0.9702 - val_loss: 0.1070 - val_acc: 0.9696\n",
            "Epoch 319/1500\n",
            "12149/12149 [==============================] - 6s 493us/step - loss: 0.0930 - acc: 0.9708 - val_loss: 0.1064 - val_acc: 0.9674\n",
            "Epoch 320/1500\n",
            "12149/12149 [==============================] - 6s 487us/step - loss: 0.0935 - acc: 0.9707 - val_loss: 0.1084 - val_acc: 0.9674\n",
            "Epoch 321/1500\n",
            "12149/12149 [==============================] - 6s 473us/step - loss: 0.0940 - acc: 0.9703 - val_loss: 0.1066 - val_acc: 0.9674\n",
            "Epoch 322/1500\n",
            "12149/12149 [==============================] - 6s 469us/step - loss: 0.0939 - acc: 0.9698 - val_loss: 0.1100 - val_acc: 0.9637\n",
            "Epoch 323/1500\n",
            "12149/12149 [==============================] - 6s 474us/step - loss: 0.0934 - acc: 0.9704 - val_loss: 0.1091 - val_acc: 0.9667\n",
            "Epoch 324/1500\n",
            "12149/12149 [==============================] - 6s 459us/step - loss: 0.0930 - acc: 0.9718 - val_loss: 0.1135 - val_acc: 0.9637\n",
            "Epoch 325/1500\n",
            "12149/12149 [==============================] - 6s 464us/step - loss: 0.0939 - acc: 0.9702 - val_loss: 0.1074 - val_acc: 0.9644\n",
            "Epoch 326/1500\n",
            "12149/12149 [==============================] - 6s 462us/step - loss: 0.0931 - acc: 0.9703 - val_loss: 0.1078 - val_acc: 0.9689\n",
            "Epoch 327/1500\n",
            "12149/12149 [==============================] - 6s 456us/step - loss: 0.0932 - acc: 0.9705 - val_loss: 0.1061 - val_acc: 0.9667\n",
            "Epoch 328/1500\n",
            "12149/12149 [==============================] - 6s 455us/step - loss: 0.0930 - acc: 0.9703 - val_loss: 0.1045 - val_acc: 0.9674\n",
            "Epoch 329/1500\n",
            "12149/12149 [==============================] - 6s 455us/step - loss: 0.0933 - acc: 0.9712 - val_loss: 0.1092 - val_acc: 0.9644\n",
            "Epoch 330/1500\n",
            "12149/12149 [==============================] - 6s 463us/step - loss: 0.0940 - acc: 0.9694 - val_loss: 0.1125 - val_acc: 0.9644\n",
            "Epoch 331/1500\n",
            "12149/12149 [==============================] - 6s 473us/step - loss: 0.0933 - acc: 0.9709 - val_loss: 0.1065 - val_acc: 0.9689\n",
            "Epoch 332/1500\n",
            "12149/12149 [==============================] - 6s 477us/step - loss: 0.0935 - acc: 0.9701 - val_loss: 0.1113 - val_acc: 0.9659\n",
            "Epoch 333/1500\n",
            "12149/12149 [==============================] - 6s 460us/step - loss: 0.0933 - acc: 0.9702 - val_loss: 0.1123 - val_acc: 0.9659\n",
            "Epoch 334/1500\n",
            "12149/12149 [==============================] - 6s 466us/step - loss: 0.0929 - acc: 0.9710 - val_loss: 0.1071 - val_acc: 0.9674\n",
            "Epoch 335/1500\n",
            "12149/12149 [==============================] - 6s 460us/step - loss: 0.0936 - acc: 0.9714 - val_loss: 0.1068 - val_acc: 0.9681\n",
            "Epoch 336/1500\n",
            "12149/12149 [==============================] - 6s 458us/step - loss: 0.0928 - acc: 0.9703 - val_loss: 0.1079 - val_acc: 0.9659\n",
            "Epoch 337/1500\n",
            "12149/12149 [==============================] - 6s 490us/step - loss: 0.0926 - acc: 0.9703 - val_loss: 0.1062 - val_acc: 0.9681\n",
            "Epoch 338/1500\n",
            "12149/12149 [==============================] - 6s 470us/step - loss: 0.0927 - acc: 0.9700 - val_loss: 0.1084 - val_acc: 0.9689\n",
            "Epoch 339/1500\n",
            "12149/12149 [==============================] - 5s 450us/step - loss: 0.0935 - acc: 0.9703 - val_loss: 0.1047 - val_acc: 0.9681\n",
            "Epoch 340/1500\n",
            "12149/12149 [==============================] - 6s 454us/step - loss: 0.0927 - acc: 0.9707 - val_loss: 0.1067 - val_acc: 0.9674\n",
            "Epoch 341/1500\n",
            "12149/12149 [==============================] - 6s 456us/step - loss: 0.0919 - acc: 0.9705 - val_loss: 0.1047 - val_acc: 0.9681\n",
            "Epoch 342/1500\n",
            "12149/12149 [==============================] - 6s 459us/step - loss: 0.0927 - acc: 0.9705 - val_loss: 0.1077 - val_acc: 0.9667\n",
            "Epoch 343/1500\n",
            "12149/12149 [==============================] - 6s 461us/step - loss: 0.0938 - acc: 0.9693 - val_loss: 0.1073 - val_acc: 0.9674\n",
            "Epoch 344/1500\n",
            "12149/12149 [==============================] - 6s 467us/step - loss: 0.0925 - acc: 0.9709 - val_loss: 0.1061 - val_acc: 0.9689\n",
            "Epoch 345/1500\n",
            "12149/12149 [==============================] - 6s 511us/step - loss: 0.0928 - acc: 0.9708 - val_loss: 0.1053 - val_acc: 0.9681\n",
            "Epoch 346/1500\n",
            "12149/12149 [==============================] - 6s 484us/step - loss: 0.0929 - acc: 0.9705 - val_loss: 0.1162 - val_acc: 0.9644\n",
            "Epoch 347/1500\n",
            "12149/12149 [==============================] - 6s 459us/step - loss: 0.0928 - acc: 0.9705 - val_loss: 0.1088 - val_acc: 0.9667\n",
            "Epoch 348/1500\n",
            "12149/12149 [==============================] - 6s 459us/step - loss: 0.0928 - acc: 0.9709 - val_loss: 0.1073 - val_acc: 0.9667\n",
            "Epoch 349/1500\n",
            "12149/12149 [==============================] - 6s 458us/step - loss: 0.0926 - acc: 0.9699 - val_loss: 0.1068 - val_acc: 0.9659\n",
            "Epoch 350/1500\n",
            "12149/12149 [==============================] - 6s 458us/step - loss: 0.0925 - acc: 0.9697 - val_loss: 0.1071 - val_acc: 0.9652\n",
            "Epoch 351/1500\n",
            "12149/12149 [==============================] - 6s 459us/step - loss: 0.0932 - acc: 0.9702 - val_loss: 0.1062 - val_acc: 0.9674\n",
            "Epoch 352/1500\n",
            "12149/12149 [==============================] - 6s 459us/step - loss: 0.0924 - acc: 0.9705 - val_loss: 0.1073 - val_acc: 0.9659\n",
            "Epoch 353/1500\n",
            "12149/12149 [==============================] - 6s 464us/step - loss: 0.0920 - acc: 0.9712 - val_loss: 0.1070 - val_acc: 0.9652\n",
            "Epoch 354/1500\n",
            "12149/12149 [==============================] - 6s 460us/step - loss: 0.0917 - acc: 0.9703 - val_loss: 0.1078 - val_acc: 0.9659\n",
            "Epoch 355/1500\n",
            "12149/12149 [==============================] - 6s 459us/step - loss: 0.0923 - acc: 0.9704 - val_loss: 0.1091 - val_acc: 0.9667\n",
            "Epoch 356/1500\n",
            "12149/12149 [==============================] - 6s 463us/step - loss: 0.0923 - acc: 0.9709 - val_loss: 0.1065 - val_acc: 0.9689\n",
            "Epoch 357/1500\n",
            "12149/12149 [==============================] - 6s 463us/step - loss: 0.0922 - acc: 0.9700 - val_loss: 0.1095 - val_acc: 0.9659\n",
            "Epoch 358/1500\n",
            "12149/12149 [==============================] - 6s 462us/step - loss: 0.0927 - acc: 0.9702 - val_loss: 0.1053 - val_acc: 0.9667\n",
            "Epoch 359/1500\n",
            "12149/12149 [==============================] - 6s 462us/step - loss: 0.0926 - acc: 0.9696 - val_loss: 0.1067 - val_acc: 0.9667\n",
            "Epoch 360/1500\n",
            "12149/12149 [==============================] - 6s 459us/step - loss: 0.0922 - acc: 0.9703 - val_loss: 0.1089 - val_acc: 0.9652\n",
            "Epoch 361/1500\n",
            "12149/12149 [==============================] - 6s 454us/step - loss: 0.0927 - acc: 0.9708 - val_loss: 0.1064 - val_acc: 0.9667\n",
            "Epoch 362/1500\n",
            "12149/12149 [==============================] - 6s 464us/step - loss: 0.0928 - acc: 0.9699 - val_loss: 0.1057 - val_acc: 0.9681\n",
            "Epoch 363/1500\n",
            "12149/12149 [==============================] - 6s 463us/step - loss: 0.0921 - acc: 0.9702 - val_loss: 0.1078 - val_acc: 0.9674\n",
            "Epoch 364/1500\n",
            "12149/12149 [==============================] - 6s 471us/step - loss: 0.0924 - acc: 0.9699 - val_loss: 0.1079 - val_acc: 0.9674\n",
            "Epoch 365/1500\n",
            "12149/12149 [==============================] - 6s 465us/step - loss: 0.0915 - acc: 0.9702 - val_loss: 0.1152 - val_acc: 0.9600\n",
            "Epoch 366/1500\n",
            "12149/12149 [==============================] - 6s 466us/step - loss: 0.0925 - acc: 0.9709 - val_loss: 0.1072 - val_acc: 0.9667\n",
            "Epoch 367/1500\n",
            "12149/12149 [==============================] - 6s 464us/step - loss: 0.0921 - acc: 0.9699 - val_loss: 0.1115 - val_acc: 0.9674\n",
            "Epoch 368/1500\n",
            "12149/12149 [==============================] - 6s 466us/step - loss: 0.0922 - acc: 0.9699 - val_loss: 0.1080 - val_acc: 0.9674\n",
            "Epoch 369/1500\n",
            "12149/12149 [==============================] - 6s 461us/step - loss: 0.0933 - acc: 0.9700 - val_loss: 0.1064 - val_acc: 0.9674\n",
            "Epoch 370/1500\n",
            "12149/12149 [==============================] - 6s 470us/step - loss: 0.0917 - acc: 0.9706 - val_loss: 0.1094 - val_acc: 0.9667\n",
            "Epoch 371/1500\n",
            "12149/12149 [==============================] - 6s 455us/step - loss: 0.0925 - acc: 0.9700 - val_loss: 0.1064 - val_acc: 0.9681\n",
            "Epoch 372/1500\n",
            "12149/12149 [==============================] - 6s 459us/step - loss: 0.0922 - acc: 0.9704 - val_loss: 0.1135 - val_acc: 0.9622\n",
            "Epoch 373/1500\n",
            "12149/12149 [==============================] - 6s 458us/step - loss: 0.0930 - acc: 0.9700 - val_loss: 0.1108 - val_acc: 0.9659\n",
            "Epoch 374/1500\n",
            "12149/12149 [==============================] - 6s 466us/step - loss: 0.0922 - acc: 0.9707 - val_loss: 0.1077 - val_acc: 0.9659\n",
            "Epoch 375/1500\n",
            "12149/12149 [==============================] - 6s 466us/step - loss: 0.0920 - acc: 0.9695 - val_loss: 0.1084 - val_acc: 0.9681\n",
            "Epoch 376/1500\n",
            "12149/12149 [==============================] - 6s 461us/step - loss: 0.0920 - acc: 0.9695 - val_loss: 0.1068 - val_acc: 0.9681\n",
            "Epoch 377/1500\n",
            "12149/12149 [==============================] - 6s 459us/step - loss: 0.0927 - acc: 0.9708 - val_loss: 0.1091 - val_acc: 0.9674\n",
            "Epoch 378/1500\n",
            "12149/12149 [==============================] - 6s 459us/step - loss: 0.0923 - acc: 0.9695 - val_loss: 0.1061 - val_acc: 0.9681\n",
            "Epoch 379/1500\n",
            "12149/12149 [==============================] - 6s 457us/step - loss: 0.0916 - acc: 0.9702 - val_loss: 0.1112 - val_acc: 0.9652\n",
            "Epoch 380/1500\n",
            "12149/12149 [==============================] - 6s 459us/step - loss: 0.0925 - acc: 0.9687 - val_loss: 0.1071 - val_acc: 0.9681\n",
            "Epoch 381/1500\n",
            "12149/12149 [==============================] - 5s 451us/step - loss: 0.0912 - acc: 0.9705 - val_loss: 0.1113 - val_acc: 0.9667\n",
            "Epoch 382/1500\n",
            "12149/12149 [==============================] - 6s 458us/step - loss: 0.0919 - acc: 0.9707 - val_loss: 0.1075 - val_acc: 0.9659\n",
            "Epoch 383/1500\n",
            "12149/12149 [==============================] - 5s 451us/step - loss: 0.0919 - acc: 0.9699 - val_loss: 0.1074 - val_acc: 0.9674\n",
            "Epoch 384/1500\n",
            "12149/12149 [==============================] - 6s 456us/step - loss: 0.0918 - acc: 0.9705 - val_loss: 0.1072 - val_acc: 0.9652\n",
            "Epoch 385/1500\n",
            "12149/12149 [==============================] - 6s 458us/step - loss: 0.0915 - acc: 0.9698 - val_loss: 0.1091 - val_acc: 0.9674\n",
            "Epoch 386/1500\n",
            "12149/12149 [==============================] - 6s 465us/step - loss: 0.0920 - acc: 0.9709 - val_loss: 0.1070 - val_acc: 0.9667\n",
            "Epoch 387/1500\n",
            "12149/12149 [==============================] - 6s 459us/step - loss: 0.0919 - acc: 0.9697 - val_loss: 0.1080 - val_acc: 0.9637\n",
            "Epoch 388/1500\n",
            "12149/12149 [==============================] - 5s 453us/step - loss: 0.0922 - acc: 0.9703 - val_loss: 0.1058 - val_acc: 0.9681\n",
            "Epoch 389/1500\n",
            "12149/12149 [==============================] - 6s 462us/step - loss: 0.0919 - acc: 0.9695 - val_loss: 0.1035 - val_acc: 0.9681\n",
            "Epoch 390/1500\n",
            "12149/12149 [==============================] - 6s 454us/step - loss: 0.0918 - acc: 0.9698 - val_loss: 0.1082 - val_acc: 0.9674\n",
            "Epoch 391/1500\n",
            "12149/12149 [==============================] - 6s 465us/step - loss: 0.0920 - acc: 0.9706 - val_loss: 0.1066 - val_acc: 0.9674\n",
            "Epoch 392/1500\n",
            "12149/12149 [==============================] - 6s 502us/step - loss: 0.0921 - acc: 0.9700 - val_loss: 0.1072 - val_acc: 0.9667\n",
            "Epoch 393/1500\n",
            "12149/12149 [==============================] - 5s 451us/step - loss: 0.0918 - acc: 0.9706 - val_loss: 0.1141 - val_acc: 0.9652\n",
            "Epoch 394/1500\n",
            "12149/12149 [==============================] - 5s 449us/step - loss: 0.0918 - acc: 0.9700 - val_loss: 0.1065 - val_acc: 0.9689\n",
            "Epoch 395/1500\n",
            "12149/12149 [==============================] - 5s 452us/step - loss: 0.0912 - acc: 0.9705 - val_loss: 0.1076 - val_acc: 0.9644\n",
            "Epoch 396/1500\n",
            "12149/12149 [==============================] - 6s 455us/step - loss: 0.0921 - acc: 0.9701 - val_loss: 0.1059 - val_acc: 0.9674\n",
            "Epoch 397/1500\n",
            "12149/12149 [==============================] - 5s 452us/step - loss: 0.0909 - acc: 0.9707 - val_loss: 0.1072 - val_acc: 0.9659\n",
            "Epoch 398/1500\n",
            "12149/12149 [==============================] - 6s 457us/step - loss: 0.0915 - acc: 0.9709 - val_loss: 0.1079 - val_acc: 0.9674\n",
            "Epoch 399/1500\n",
            "12149/12149 [==============================] - 5s 448us/step - loss: 0.0915 - acc: 0.9707 - val_loss: 0.1081 - val_acc: 0.9689\n",
            "Epoch 400/1500\n",
            "12149/12149 [==============================] - 6s 504us/step - loss: 0.0920 - acc: 0.9696 - val_loss: 0.1070 - val_acc: 0.9681\n",
            "Epoch 401/1500\n",
            "12149/12149 [==============================] - 6s 501us/step - loss: 0.0910 - acc: 0.9706 - val_loss: 0.1061 - val_acc: 0.9659\n",
            "Epoch 402/1500\n",
            "12149/12149 [==============================] - 5s 451us/step - loss: 0.0918 - acc: 0.9703 - val_loss: 0.1062 - val_acc: 0.9659\n",
            "Epoch 403/1500\n",
            "12149/12149 [==============================] - 5s 452us/step - loss: 0.0908 - acc: 0.9701 - val_loss: 0.1084 - val_acc: 0.9659\n",
            "Epoch 404/1500\n",
            "12149/12149 [==============================] - 6s 458us/step - loss: 0.0911 - acc: 0.9706 - val_loss: 0.1060 - val_acc: 0.9696\n",
            "Epoch 405/1500\n",
            "12149/12149 [==============================] - 6s 456us/step - loss: 0.0918 - acc: 0.9702 - val_loss: 0.1058 - val_acc: 0.9681\n",
            "Epoch 406/1500\n",
            "12149/12149 [==============================] - 6s 470us/step - loss: 0.0910 - acc: 0.9704 - val_loss: 0.1116 - val_acc: 0.9652\n",
            "Epoch 407/1500\n",
            "12149/12149 [==============================] - 6s 474us/step - loss: 0.0921 - acc: 0.9706 - val_loss: 0.1050 - val_acc: 0.9689\n",
            "Epoch 408/1500\n",
            "12149/12149 [==============================] - 6s 464us/step - loss: 0.0914 - acc: 0.9709 - val_loss: 0.1054 - val_acc: 0.9674\n",
            "Epoch 409/1500\n",
            "12149/12149 [==============================] - 6s 461us/step - loss: 0.0912 - acc: 0.9707 - val_loss: 0.1073 - val_acc: 0.9689\n",
            "Epoch 410/1500\n",
            "12149/12149 [==============================] - 6s 458us/step - loss: 0.0909 - acc: 0.9711 - val_loss: 0.1078 - val_acc: 0.9667\n",
            "Epoch 411/1500\n",
            "12149/12149 [==============================] - 5s 452us/step - loss: 0.0908 - acc: 0.9711 - val_loss: 0.1057 - val_acc: 0.9681\n",
            "Epoch 412/1500\n",
            "12149/12149 [==============================] - 6s 458us/step - loss: 0.0908 - acc: 0.9703 - val_loss: 0.1068 - val_acc: 0.9667\n",
            "Epoch 413/1500\n",
            "12149/12149 [==============================] - 6s 454us/step - loss: 0.0913 - acc: 0.9705 - val_loss: 0.1132 - val_acc: 0.9674\n",
            "Epoch 414/1500\n",
            "12149/12149 [==============================] - 5s 450us/step - loss: 0.0911 - acc: 0.9693 - val_loss: 0.1090 - val_acc: 0.9674\n",
            "Epoch 415/1500\n",
            "12149/12149 [==============================] - 5s 450us/step - loss: 0.0909 - acc: 0.9702 - val_loss: 0.1087 - val_acc: 0.9667\n",
            "Epoch 416/1500\n",
            "12149/12149 [==============================] - 5s 452us/step - loss: 0.0913 - acc: 0.9704 - val_loss: 0.1072 - val_acc: 0.9689\n",
            "Epoch 417/1500\n",
            "12149/12149 [==============================] - 6s 457us/step - loss: 0.0915 - acc: 0.9707 - val_loss: 0.1085 - val_acc: 0.9667\n",
            "Epoch 418/1500\n",
            "12149/12149 [==============================] - 5s 452us/step - loss: 0.0908 - acc: 0.9711 - val_loss: 0.1089 - val_acc: 0.9674\n",
            "Epoch 419/1500\n",
            "12149/12149 [==============================] - 5s 453us/step - loss: 0.0912 - acc: 0.9702 - val_loss: 0.1078 - val_acc: 0.9674\n",
            "Epoch 420/1500\n",
            "12149/12149 [==============================] - 6s 455us/step - loss: 0.0909 - acc: 0.9705 - val_loss: 0.1102 - val_acc: 0.9689\n",
            "Epoch 421/1500\n",
            "12149/12149 [==============================] - 5s 452us/step - loss: 0.0906 - acc: 0.9709 - val_loss: 0.1208 - val_acc: 0.9585\n",
            "Epoch 422/1500\n",
            "12149/12149 [==============================] - 5s 451us/step - loss: 0.0910 - acc: 0.9705 - val_loss: 0.1089 - val_acc: 0.9696\n",
            "Epoch 423/1500\n",
            "12149/12149 [==============================] - 6s 458us/step - loss: 0.0904 - acc: 0.9714 - val_loss: 0.1065 - val_acc: 0.9674\n",
            "Epoch 424/1500\n",
            "12149/12149 [==============================] - 5s 449us/step - loss: 0.0902 - acc: 0.9715 - val_loss: 0.1057 - val_acc: 0.9689\n",
            "Epoch 425/1500\n",
            "12149/12149 [==============================] - 5s 447us/step - loss: 0.0904 - acc: 0.9703 - val_loss: 0.1099 - val_acc: 0.9674\n",
            "Epoch 426/1500\n",
            "12149/12149 [==============================] - 5s 450us/step - loss: 0.0906 - acc: 0.9711 - val_loss: 0.1080 - val_acc: 0.9689\n",
            "Epoch 427/1500\n",
            "12149/12149 [==============================] - 5s 449us/step - loss: 0.0905 - acc: 0.9708 - val_loss: 0.1094 - val_acc: 0.9674\n",
            "Epoch 428/1500\n",
            "12149/12149 [==============================] - 6s 453us/step - loss: 0.0904 - acc: 0.9717 - val_loss: 0.1086 - val_acc: 0.9674\n",
            "Epoch 429/1500\n",
            "12149/12149 [==============================] - 6s 458us/step - loss: 0.0908 - acc: 0.9710 - val_loss: 0.1060 - val_acc: 0.9704\n",
            "Epoch 430/1500\n",
            "12149/12149 [==============================] - 6s 455us/step - loss: 0.0909 - acc: 0.9707 - val_loss: 0.1065 - val_acc: 0.9667\n",
            "Epoch 431/1500\n",
            "12149/12149 [==============================] - 5s 451us/step - loss: 0.0902 - acc: 0.9712 - val_loss: 0.1110 - val_acc: 0.9622\n",
            "Epoch 432/1500\n",
            "12149/12149 [==============================] - 6s 455us/step - loss: 0.0895 - acc: 0.9712 - val_loss: 0.1122 - val_acc: 0.9637\n",
            "Epoch 433/1500\n",
            "12149/12149 [==============================] - 5s 451us/step - loss: 0.0908 - acc: 0.9700 - val_loss: 0.1083 - val_acc: 0.9667\n",
            "Epoch 434/1500\n",
            "12149/12149 [==============================] - 5s 450us/step - loss: 0.0895 - acc: 0.9708 - val_loss: 0.1105 - val_acc: 0.9674\n",
            "Epoch 435/1500\n",
            "12149/12149 [==============================] - 5s 453us/step - loss: 0.0911 - acc: 0.9705 - val_loss: 0.1091 - val_acc: 0.9681\n",
            "Epoch 436/1500\n",
            "12149/12149 [==============================] - 5s 452us/step - loss: 0.0900 - acc: 0.9715 - val_loss: 0.1188 - val_acc: 0.9644\n",
            "Epoch 437/1500\n",
            "12149/12149 [==============================] - 5s 443us/step - loss: 0.0907 - acc: 0.9709 - val_loss: 0.1117 - val_acc: 0.9630\n",
            "Epoch 438/1500\n",
            "12149/12149 [==============================] - 5s 445us/step - loss: 0.0902 - acc: 0.9714 - val_loss: 0.1073 - val_acc: 0.9681\n",
            "Epoch 439/1500\n",
            "12149/12149 [==============================] - 5s 452us/step - loss: 0.0905 - acc: 0.9700 - val_loss: 0.1106 - val_acc: 0.9681\n",
            "Epoch 440/1500\n",
            "12149/12149 [==============================] - 5s 450us/step - loss: 0.0901 - acc: 0.9709 - val_loss: 0.1122 - val_acc: 0.9652\n",
            "Epoch 441/1500\n",
            "12149/12149 [==============================] - 5s 451us/step - loss: 0.0896 - acc: 0.9706 - val_loss: 0.1125 - val_acc: 0.9667\n",
            "Epoch 442/1500\n",
            "12149/12149 [==============================] - 5s 450us/step - loss: 0.0899 - acc: 0.9716 - val_loss: 0.1149 - val_acc: 0.9652\n",
            "Epoch 443/1500\n",
            "12149/12149 [==============================] - 5s 448us/step - loss: 0.0903 - acc: 0.9715 - val_loss: 0.1069 - val_acc: 0.9704\n",
            "Epoch 444/1500\n",
            "12149/12149 [==============================] - 5s 450us/step - loss: 0.0909 - acc: 0.9716 - val_loss: 0.1105 - val_acc: 0.9674\n",
            "Epoch 445/1500\n",
            "12149/12149 [==============================] - 5s 448us/step - loss: 0.0896 - acc: 0.9712 - val_loss: 0.1153 - val_acc: 0.9637\n",
            "Epoch 446/1500\n",
            "12149/12149 [==============================] - 5s 449us/step - loss: 0.0912 - acc: 0.9709 - val_loss: 0.1108 - val_acc: 0.9659\n",
            "Epoch 447/1500\n",
            "12149/12149 [==============================] - 6s 502us/step - loss: 0.0905 - acc: 0.9710 - val_loss: 0.1084 - val_acc: 0.9674\n",
            "Epoch 448/1500\n",
            "12149/12149 [==============================] - 5s 448us/step - loss: 0.0902 - acc: 0.9715 - val_loss: 0.1080 - val_acc: 0.9674\n",
            "Epoch 449/1500\n",
            "12149/12149 [==============================] - 5s 451us/step - loss: 0.0896 - acc: 0.9713 - val_loss: 0.1082 - val_acc: 0.9674\n",
            "Epoch 450/1500\n",
            "12149/12149 [==============================] - 6s 456us/step - loss: 0.0907 - acc: 0.9718 - val_loss: 0.1106 - val_acc: 0.9644\n",
            "Epoch 451/1500\n",
            "12149/12149 [==============================] - 6s 456us/step - loss: 0.0902 - acc: 0.9706 - val_loss: 0.1105 - val_acc: 0.9674\n",
            "Epoch 452/1500\n",
            "12149/12149 [==============================] - 5s 448us/step - loss: 0.0892 - acc: 0.9714 - val_loss: 0.1128 - val_acc: 0.9652\n",
            "Epoch 453/1500\n",
            "12149/12149 [==============================] - 5s 446us/step - loss: 0.0897 - acc: 0.9711 - val_loss: 0.1102 - val_acc: 0.9652\n",
            "Epoch 454/1500\n",
            "12149/12149 [==============================] - 5s 448us/step - loss: 0.0908 - acc: 0.9714 - val_loss: 0.1098 - val_acc: 0.9681\n",
            "Epoch 455/1500\n",
            "12149/12149 [==============================] - 5s 448us/step - loss: 0.0898 - acc: 0.9716 - val_loss: 0.1102 - val_acc: 0.9696\n",
            "Epoch 456/1500\n",
            "12149/12149 [==============================] - 6s 493us/step - loss: 0.0911 - acc: 0.9708 - val_loss: 0.1093 - val_acc: 0.9667\n",
            "Epoch 457/1500\n",
            "12149/12149 [==============================] - 6s 505us/step - loss: 0.0898 - acc: 0.9715 - val_loss: 0.1063 - val_acc: 0.9681\n",
            "Epoch 458/1500\n",
            "12149/12149 [==============================] - 5s 451us/step - loss: 0.0905 - acc: 0.9715 - val_loss: 0.1103 - val_acc: 0.9659\n",
            "Epoch 459/1500\n",
            "12149/12149 [==============================] - 5s 450us/step - loss: 0.0897 - acc: 0.9708 - val_loss: 0.1093 - val_acc: 0.9674\n",
            "Epoch 460/1500\n",
            "12149/12149 [==============================] - 5s 449us/step - loss: 0.0899 - acc: 0.9713 - val_loss: 0.1195 - val_acc: 0.9615\n",
            "Epoch 461/1500\n",
            "12149/12149 [==============================] - 5s 451us/step - loss: 0.0898 - acc: 0.9716 - val_loss: 0.1114 - val_acc: 0.9652\n",
            "Epoch 462/1500\n",
            "12149/12149 [==============================] - 5s 452us/step - loss: 0.0906 - acc: 0.9708 - val_loss: 0.1086 - val_acc: 0.9652\n",
            "Epoch 463/1500\n",
            "12149/12149 [==============================] - 6s 469us/step - loss: 0.0903 - acc: 0.9708 - val_loss: 0.1120 - val_acc: 0.9652\n",
            "Epoch 464/1500\n",
            "12149/12149 [==============================] - 6s 459us/step - loss: 0.0898 - acc: 0.9712 - val_loss: 0.1089 - val_acc: 0.9681\n",
            "Epoch 465/1500\n",
            "12149/12149 [==============================] - 5s 451us/step - loss: 0.0892 - acc: 0.9714 - val_loss: 0.1108 - val_acc: 0.9667\n",
            "Epoch 466/1500\n",
            "12149/12149 [==============================] - 5s 449us/step - loss: 0.0904 - acc: 0.9720 - val_loss: 0.1115 - val_acc: 0.9674\n",
            "Epoch 467/1500\n",
            "12149/12149 [==============================] - 5s 448us/step - loss: 0.0901 - acc: 0.9716 - val_loss: 0.1090 - val_acc: 0.9652\n",
            "Epoch 468/1500\n",
            "12149/12149 [==============================] - 5s 447us/step - loss: 0.0903 - acc: 0.9708 - val_loss: 0.1099 - val_acc: 0.9681\n",
            "Epoch 469/1500\n",
            "12149/12149 [==============================] - 5s 448us/step - loss: 0.0894 - acc: 0.9711 - val_loss: 0.1103 - val_acc: 0.9674\n",
            "Epoch 470/1500\n",
            "12149/12149 [==============================] - 5s 446us/step - loss: 0.0896 - acc: 0.9707 - val_loss: 0.1166 - val_acc: 0.9652\n",
            "Epoch 471/1500\n",
            "12149/12149 [==============================] - 5s 449us/step - loss: 0.0902 - acc: 0.9701 - val_loss: 0.1134 - val_acc: 0.9659\n",
            "Epoch 472/1500\n",
            "12149/12149 [==============================] - 6s 454us/step - loss: 0.0901 - acc: 0.9715 - val_loss: 0.1115 - val_acc: 0.9652\n",
            "Epoch 473/1500\n",
            "12149/12149 [==============================] - 6s 454us/step - loss: 0.0899 - acc: 0.9714 - val_loss: 0.1123 - val_acc: 0.9652\n",
            "Epoch 474/1500\n",
            "12149/12149 [==============================] - 6s 462us/step - loss: 0.0904 - acc: 0.9709 - val_loss: 0.1099 - val_acc: 0.9667\n",
            "Epoch 475/1500\n",
            "12149/12149 [==============================] - 6s 464us/step - loss: 0.0901 - acc: 0.9705 - val_loss: 0.1100 - val_acc: 0.9659\n",
            "Epoch 476/1500\n",
            "12149/12149 [==============================] - 6s 462us/step - loss: 0.0891 - acc: 0.9720 - val_loss: 0.1117 - val_acc: 0.9667\n",
            "Epoch 477/1500\n",
            "12149/12149 [==============================] - 6s 455us/step - loss: 0.0904 - acc: 0.9708 - val_loss: 0.1107 - val_acc: 0.9674\n",
            "Epoch 478/1500\n",
            "12149/12149 [==============================] - 6s 454us/step - loss: 0.0893 - acc: 0.9722 - val_loss: 0.1109 - val_acc: 0.9644\n",
            "Epoch 479/1500\n",
            "12149/12149 [==============================] - 5s 451us/step - loss: 0.0897 - acc: 0.9711 - val_loss: 0.1094 - val_acc: 0.9652\n",
            "Epoch 480/1500\n",
            "12149/12149 [==============================] - 5s 450us/step - loss: 0.0898 - acc: 0.9715 - val_loss: 0.1130 - val_acc: 0.9644\n",
            "Epoch 481/1500\n",
            "12149/12149 [==============================] - 5s 450us/step - loss: 0.0904 - acc: 0.9709 - val_loss: 0.1109 - val_acc: 0.9659\n",
            "Epoch 482/1500\n",
            "12149/12149 [==============================] - 5s 450us/step - loss: 0.0900 - acc: 0.9706 - val_loss: 0.1148 - val_acc: 0.9637\n",
            "Epoch 483/1500\n",
            "12149/12149 [==============================] - 5s 450us/step - loss: 0.0905 - acc: 0.9705 - val_loss: 0.1101 - val_acc: 0.9674\n",
            "Epoch 484/1500\n",
            "12149/12149 [==============================] - 5s 449us/step - loss: 0.0893 - acc: 0.9713 - val_loss: 0.1098 - val_acc: 0.9681\n",
            "Epoch 485/1500\n",
            "12149/12149 [==============================] - 5s 450us/step - loss: 0.0898 - acc: 0.9709 - val_loss: 0.1101 - val_acc: 0.9659\n",
            "Epoch 486/1500\n",
            "12149/12149 [==============================] - 5s 452us/step - loss: 0.0896 - acc: 0.9714 - val_loss: 0.1105 - val_acc: 0.9652\n",
            "Epoch 487/1500\n",
            "12149/12149 [==============================] - 5s 448us/step - loss: 0.0891 - acc: 0.9718 - val_loss: 0.1126 - val_acc: 0.9644\n",
            "Epoch 488/1500\n",
            "12149/12149 [==============================] - 5s 449us/step - loss: 0.0898 - acc: 0.9708 - val_loss: 0.1096 - val_acc: 0.9674\n",
            "Epoch 489/1500\n",
            "12149/12149 [==============================] - 5s 449us/step - loss: 0.0895 - acc: 0.9712 - val_loss: 0.1096 - val_acc: 0.9659\n",
            "Epoch 490/1500\n",
            "12149/12149 [==============================] - 5s 448us/step - loss: 0.0903 - acc: 0.9713 - val_loss: 0.1150 - val_acc: 0.9630\n",
            "Epoch 491/1500\n",
            "12149/12149 [==============================] - 5s 450us/step - loss: 0.0897 - acc: 0.9713 - val_loss: 0.1121 - val_acc: 0.9659\n",
            "Epoch 492/1500\n",
            "12149/12149 [==============================] - 5s 450us/step - loss: 0.0891 - acc: 0.9715 - val_loss: 0.1094 - val_acc: 0.9644\n",
            "Epoch 493/1500\n",
            "12149/12149 [==============================] - 5s 450us/step - loss: 0.0896 - acc: 0.9714 - val_loss: 0.1094 - val_acc: 0.9652\n",
            "Epoch 494/1500\n",
            "12149/12149 [==============================] - 5s 451us/step - loss: 0.0902 - acc: 0.9709 - val_loss: 0.1105 - val_acc: 0.9696\n",
            "Epoch 495/1500\n",
            "12149/12149 [==============================] - 5s 448us/step - loss: 0.0897 - acc: 0.9713 - val_loss: 0.1103 - val_acc: 0.9667\n",
            "Epoch 496/1500\n",
            "12149/12149 [==============================] - 5s 448us/step - loss: 0.0900 - acc: 0.9701 - val_loss: 0.1082 - val_acc: 0.9659\n",
            "Epoch 497/1500\n",
            "12149/12149 [==============================] - 5s 450us/step - loss: 0.0896 - acc: 0.9711 - val_loss: 0.1089 - val_acc: 0.9659\n",
            "Epoch 498/1500\n",
            "12149/12149 [==============================] - 5s 447us/step - loss: 0.0898 - acc: 0.9718 - val_loss: 0.1142 - val_acc: 0.9622\n",
            "Epoch 499/1500\n",
            "12149/12149 [==============================] - 6s 453us/step - loss: 0.0908 - acc: 0.9703 - val_loss: 0.1134 - val_acc: 0.9637\n",
            "Epoch 500/1500\n",
            "12149/12149 [==============================] - 5s 452us/step - loss: 0.0894 - acc: 0.9715 - val_loss: 0.1110 - val_acc: 0.9667\n",
            "Epoch 501/1500\n",
            "12149/12149 [==============================] - 5s 449us/step - loss: 0.0900 - acc: 0.9714 - val_loss: 0.1141 - val_acc: 0.9637\n",
            "Epoch 502/1500\n",
            "12149/12149 [==============================] - 6s 495us/step - loss: 0.0895 - acc: 0.9713 - val_loss: 0.1086 - val_acc: 0.9644\n",
            "Epoch 503/1500\n",
            "12149/12149 [==============================] - 6s 455us/step - loss: 0.0892 - acc: 0.9713 - val_loss: 0.1073 - val_acc: 0.9667\n",
            "Epoch 504/1500\n",
            "12149/12149 [==============================] - 5s 445us/step - loss: 0.0893 - acc: 0.9712 - val_loss: 0.1114 - val_acc: 0.9644\n",
            "Epoch 505/1500\n",
            "12149/12149 [==============================] - 5s 450us/step - loss: 0.0893 - acc: 0.9711 - val_loss: 0.1107 - val_acc: 0.9667\n",
            "Epoch 506/1500\n",
            "12149/12149 [==============================] - 5s 449us/step - loss: 0.0897 - acc: 0.9720 - val_loss: 0.1097 - val_acc: 0.9681\n",
            "Epoch 507/1500\n",
            "12149/12149 [==============================] - 5s 445us/step - loss: 0.0903 - acc: 0.9716 - val_loss: 0.1114 - val_acc: 0.9652\n",
            "Epoch 508/1500\n",
            "12149/12149 [==============================] - 5s 450us/step - loss: 0.0901 - acc: 0.9709 - val_loss: 0.1120 - val_acc: 0.9652\n",
            "Epoch 509/1500\n",
            "12149/12149 [==============================] - 5s 450us/step - loss: 0.0892 - acc: 0.9704 - val_loss: 0.1091 - val_acc: 0.9652\n",
            "Epoch 510/1500\n",
            "12149/12149 [==============================] - 5s 446us/step - loss: 0.0899 - acc: 0.9707 - val_loss: 0.1108 - val_acc: 0.9659\n",
            "Epoch 511/1500\n",
            "12149/12149 [==============================] - 5s 448us/step - loss: 0.0900 - acc: 0.9716 - val_loss: 0.1093 - val_acc: 0.9644\n",
            "Epoch 512/1500\n",
            "12149/12149 [==============================] - 6s 473us/step - loss: 0.0898 - acc: 0.9713 - val_loss: 0.1141 - val_acc: 0.9667\n",
            "Epoch 513/1500\n",
            "12149/12149 [==============================] - 6s 509us/step - loss: 0.0900 - acc: 0.9708 - val_loss: 0.1089 - val_acc: 0.9659\n",
            "Epoch 514/1500\n",
            "12149/12149 [==============================] - 6s 465us/step - loss: 0.0899 - acc: 0.9702 - val_loss: 0.1103 - val_acc: 0.9667\n",
            "Epoch 515/1500\n",
            "12149/12149 [==============================] - 5s 449us/step - loss: 0.0891 - acc: 0.9718 - val_loss: 0.1126 - val_acc: 0.9659\n",
            "Epoch 516/1500\n",
            "12149/12149 [==============================] - 6s 458us/step - loss: 0.0896 - acc: 0.9711 - val_loss: 0.1104 - val_acc: 0.9644\n",
            "Epoch 517/1500\n",
            "12149/12149 [==============================] - 6s 460us/step - loss: 0.0895 - acc: 0.9718 - val_loss: 0.1115 - val_acc: 0.9667\n",
            "Epoch 518/1500\n",
            "12149/12149 [==============================] - 6s 454us/step - loss: 0.0894 - acc: 0.9716 - val_loss: 0.1112 - val_acc: 0.9652\n",
            "Epoch 519/1500\n",
            "12149/12149 [==============================] - 6s 464us/step - loss: 0.0892 - acc: 0.9711 - val_loss: 0.1125 - val_acc: 0.9659\n",
            "Epoch 520/1500\n",
            "12149/12149 [==============================] - 6s 455us/step - loss: 0.0891 - acc: 0.9720 - val_loss: 0.1115 - val_acc: 0.9659\n",
            "Epoch 521/1500\n",
            "12149/12149 [==============================] - 6s 463us/step - loss: 0.0892 - acc: 0.9710 - val_loss: 0.1101 - val_acc: 0.9674\n",
            "Epoch 522/1500\n",
            "12149/12149 [==============================] - 6s 454us/step - loss: 0.0898 - acc: 0.9705 - val_loss: 0.1079 - val_acc: 0.9659\n",
            "Epoch 523/1500\n",
            "12149/12149 [==============================] - 6s 464us/step - loss: 0.0891 - acc: 0.9710 - val_loss: 0.1114 - val_acc: 0.9652\n",
            "Epoch 524/1500\n",
            "12149/12149 [==============================] - 6s 457us/step - loss: 0.0901 - acc: 0.9711 - val_loss: 0.1145 - val_acc: 0.9615\n",
            "Epoch 525/1500\n",
            "12149/12149 [==============================] - 6s 457us/step - loss: 0.0891 - acc: 0.9720 - val_loss: 0.1130 - val_acc: 0.9637\n",
            "Epoch 526/1500\n",
            "12149/12149 [==============================] - 6s 465us/step - loss: 0.0908 - acc: 0.9705 - val_loss: 0.1100 - val_acc: 0.9644\n",
            "Epoch 527/1500\n",
            "12149/12149 [==============================] - 6s 460us/step - loss: 0.0900 - acc: 0.9713 - val_loss: 0.1096 - val_acc: 0.9652\n",
            "Epoch 528/1500\n",
            "12149/12149 [==============================] - 6s 467us/step - loss: 0.0892 - acc: 0.9710 - val_loss: 0.1116 - val_acc: 0.9652\n",
            "Epoch 529/1500\n",
            "12149/12149 [==============================] - 6s 484us/step - loss: 0.0896 - acc: 0.9714 - val_loss: 0.1101 - val_acc: 0.9667\n",
            "Epoch 530/1500\n",
            "12149/12149 [==============================] - 6s 487us/step - loss: 0.0891 - acc: 0.9718 - val_loss: 0.1132 - val_acc: 0.9652\n",
            "Epoch 531/1500\n",
            "12149/12149 [==============================] - 6s 515us/step - loss: 0.0894 - acc: 0.9721 - val_loss: 0.1116 - val_acc: 0.9637\n",
            "Epoch 532/1500\n",
            "12149/12149 [==============================] - 6s 459us/step - loss: 0.0891 - acc: 0.9708 - val_loss: 0.1090 - val_acc: 0.9637\n",
            "Epoch 533/1500\n",
            "12149/12149 [==============================] - 6s 457us/step - loss: 0.0897 - acc: 0.9713 - val_loss: 0.1100 - val_acc: 0.9659\n",
            "Epoch 534/1500\n",
            "12149/12149 [==============================] - 6s 459us/step - loss: 0.0892 - acc: 0.9719 - val_loss: 0.1105 - val_acc: 0.9644\n",
            "Epoch 535/1500\n",
            "12149/12149 [==============================] - 6s 467us/step - loss: 0.0900 - acc: 0.9706 - val_loss: 0.1131 - val_acc: 0.9652\n",
            "Epoch 536/1500\n",
            "12149/12149 [==============================] - 6s 460us/step - loss: 0.0890 - acc: 0.9714 - val_loss: 0.1114 - val_acc: 0.9667\n",
            "Epoch 537/1500\n",
            "12149/12149 [==============================] - 6s 463us/step - loss: 0.0908 - acc: 0.9709 - val_loss: 0.1131 - val_acc: 0.9659\n",
            "Epoch 538/1500\n",
            "12149/12149 [==============================] - 6s 465us/step - loss: 0.0895 - acc: 0.9715 - val_loss: 0.1141 - val_acc: 0.9637\n",
            "Epoch 539/1500\n",
            "12149/12149 [==============================] - 6s 465us/step - loss: 0.0888 - acc: 0.9711 - val_loss: 0.1098 - val_acc: 0.9674\n",
            "Epoch 540/1500\n",
            "12149/12149 [==============================] - 6s 468us/step - loss: 0.0893 - acc: 0.9709 - val_loss: 0.1102 - val_acc: 0.9667\n",
            "Epoch 541/1500\n",
            "12149/12149 [==============================] - 6s 459us/step - loss: 0.0893 - acc: 0.9713 - val_loss: 0.1085 - val_acc: 0.9681\n",
            "Epoch 542/1500\n",
            " 7660/12149 [=================>............] - ETA: 1s - loss: 0.0818 - acc: 0.9734"
          ],
          "name": "stdout"
        }
      ]
    },
    {
      "metadata": {
        "id": "XmrdK25RO4PV",
        "colab_type": "code",
        "colab": {
          "base_uri": "https://localhost:8080/",
          "height": 158
        },
        "outputId": "6f52cc6b-08c9-4fcb-cac9-b290b0c5558d"
      },
      "cell_type": "code",
      "source": [
        "y_train_pred_neural_net = neural_net.predict_classes(x_train)"
      ],
      "execution_count": 1,
      "outputs": [
        {
          "output_type": "error",
          "ename": "NameError",
          "evalue": "ignored",
          "traceback": [
            "\u001b[0;31m---------------------------------------------------------------------------\u001b[0m",
            "\u001b[0;31mNameError\u001b[0m                                 Traceback (most recent call last)",
            "\u001b[0;32m<ipython-input-1-0b9eb7a6e627>\u001b[0m in \u001b[0;36m<module>\u001b[0;34m()\u001b[0m\n\u001b[0;32m----> 1\u001b[0;31m \u001b[0my_train_pred_neural_net\u001b[0m \u001b[0;34m=\u001b[0m \u001b[0mneural_net\u001b[0m\u001b[0;34m.\u001b[0m\u001b[0mpredict_classes\u001b[0m\u001b[0;34m(\u001b[0m\u001b[0mx_train\u001b[0m\u001b[0;34m)\u001b[0m\u001b[0;34m\u001b[0m\u001b[0;34m\u001b[0m\u001b[0m\n\u001b[0m",
            "\u001b[0;31mNameError\u001b[0m: name 'neural_net' is not defined"
          ]
        }
      ]
    },
    {
      "metadata": {
        "id": "3XjkyYWUPFiI",
        "colab_type": "code",
        "colab": {}
      },
      "cell_type": "code",
      "source": [
        ""
      ],
      "execution_count": 0,
      "outputs": []
    }
  ]
}